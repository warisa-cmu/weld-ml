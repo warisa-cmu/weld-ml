{
 "cells": [
  {
   "cell_type": "code",
   "execution_count": 117,
   "id": "b5660f71",
   "metadata": {},
   "outputs": [],
   "source": [
    "import copy\n",
    "\n",
    "import matplotlib.pyplot as plt\n",
    "import numpy as np\n",
    "import pandas as pd\n",
    "import torch\n",
    "import torch.nn as nn\n",
    "import torch.optim as optim\n",
    "import tqdm\n",
    "from sklearn.preprocessing import MinMaxScaler, StandardScaler\n",
    "\n",
    "from S00_utils import loadPickle, plot_res, store_results"
   ]
  },
  {
   "cell_type": "code",
   "execution_count": 118,
   "id": "3a941414",
   "metadata": {},
   "outputs": [
    {
     "data": {
      "application/vnd.microsoft.datawrangler.viewer.v0+json": {
       "columns": [
        {
         "name": "id",
         "rawType": "object",
         "type": "string"
        },
        {
         "name": "m1",
         "rawType": "float64",
         "type": "float"
        },
        {
         "name": "m2",
         "rawType": "float64",
         "type": "float"
        },
        {
         "name": "m3",
         "rawType": "float64",
         "type": "float"
        },
        {
         "name": "s1__autocorrelation__lag_8",
         "rawType": "float64",
         "type": "float"
        },
        {
         "name": "s1__autocorrelation__lag_9",
         "rawType": "float64",
         "type": "float"
        },
        {
         "name": "s1__autocorrelation__lag_7",
         "rawType": "float64",
         "type": "float"
        },
        {
         "name": "s1__autocorrelation__lag_6",
         "rawType": "float64",
         "type": "float"
        },
        {
         "name": "s1__autocorrelation__lag_5",
         "rawType": "float64",
         "type": "float"
        },
        {
         "name": "s1__autocorrelation__lag_4",
         "rawType": "float64",
         "type": "float"
        },
        {
         "name": "s1__longest_strike_above_mean",
         "rawType": "int64",
         "type": "integer"
        },
        {
         "name": "s1__autocorrelation__lag_3",
         "rawType": "float64",
         "type": "float"
        },
        {
         "name": "s1__approximate_entropy__m_2__r_0.7",
         "rawType": "float64",
         "type": "float"
        },
        {
         "name": "s1__longest_strike_below_mean",
         "rawType": "int64",
         "type": "integer"
        },
        {
         "name": "s1__autocorrelation__lag_2",
         "rawType": "float64",
         "type": "float"
        },
        {
         "name": "s1__approximate_entropy__m_2__r_0.9",
         "rawType": "float64",
         "type": "float"
        },
        {
         "name": "s1__permutation_entropy__dimension_3__tau_1",
         "rawType": "float64",
         "type": "float"
        },
        {
         "name": "s1__autocorrelation__lag_1",
         "rawType": "float64",
         "type": "float"
        },
        {
         "name": "s1__partial_autocorrelation__lag_1",
         "rawType": "float64",
         "type": "float"
        },
        {
         "name": "s1__permutation_entropy__dimension_5__tau_1",
         "rawType": "float64",
         "type": "float"
        },
        {
         "name": "s1__permutation_entropy__dimension_4__tau_1",
         "rawType": "float64",
         "type": "float"
        },
        {
         "name": "s1__permutation_entropy__dimension_6__tau_1",
         "rawType": "float64",
         "type": "float"
        },
        {
         "name": "s1__permutation_entropy__dimension_7__tau_1",
         "rawType": "float64",
         "type": "float"
        },
        {
         "name": "s1__cid_ce__normalize_True",
         "rawType": "float64",
         "type": "float"
        },
        {
         "name": "s1__approximate_entropy__m_2__r_0.3",
         "rawType": "float64",
         "type": "float"
        },
        {
         "name": "s1__partial_autocorrelation__lag_8",
         "rawType": "float64",
         "type": "float"
        },
        {
         "name": "s1__partial_autocorrelation__lag_9",
         "rawType": "float64",
         "type": "float"
        },
        {
         "name": "s1__partial_autocorrelation__lag_7",
         "rawType": "float64",
         "type": "float"
        },
        {
         "name": "s1__partial_autocorrelation__lag_6",
         "rawType": "float64",
         "type": "float"
        },
        {
         "name": "s1__number_peaks__n_1",
         "rawType": "int64",
         "type": "integer"
        },
        {
         "name": "s1__number_peaks__n_3",
         "rawType": "int64",
         "type": "integer"
        },
        {
         "name": "s1__number_peaks__n_5",
         "rawType": "int64",
         "type": "integer"
        },
        {
         "name": "s1__number_cwt_peaks__n_1",
         "rawType": "int64",
         "type": "integer"
        },
        {
         "name": "s1__number_peaks__n_10",
         "rawType": "int64",
         "type": "integer"
        },
        {
         "name": "s1__ar_coefficient__coeff_8__k_10",
         "rawType": "float64",
         "type": "float"
        },
        {
         "name": "s1__partial_autocorrelation__lag_5",
         "rawType": "float64",
         "type": "float"
        },
        {
         "name": "s1__number_cwt_peaks__n_5",
         "rawType": "int64",
         "type": "integer"
        },
        {
         "name": "s1__spkt_welch_density__coeff_5",
         "rawType": "float64",
         "type": "float"
        },
        {
         "name": "s1__agg_autocorrelation__f_agg_\"median\"__maxlag_40",
         "rawType": "float64",
         "type": "float"
        },
        {
         "name": "s1__approximate_entropy__m_2__r_0.5",
         "rawType": "float64",
         "type": "float"
        },
        {
         "name": "s1__agg_autocorrelation__f_agg_\"mean\"__maxlag_40",
         "rawType": "float64",
         "type": "float"
        },
        {
         "name": "s1__ar_coefficient__coeff_3__k_10",
         "rawType": "float64",
         "type": "float"
        },
        {
         "name": "s1__approximate_entropy__m_2__r_0.1",
         "rawType": "float64",
         "type": "float"
        },
        {
         "name": "s1__lempel_ziv_complexity__bins_3",
         "rawType": "float64",
         "type": "float"
        },
        {
         "name": "s1__partial_autocorrelation__lag_4",
         "rawType": "float64",
         "type": "float"
        },
        {
         "name": "s1__fft_coefficient__attr_\"abs\"__coeff_7",
         "rawType": "float64",
         "type": "float"
        },
        {
         "name": "s1__agg_autocorrelation__f_agg_\"var\"__maxlag_40",
         "rawType": "float64",
         "type": "float"
        },
        {
         "name": "s1__spkt_welch_density__coeff_2",
         "rawType": "float64",
         "type": "float"
        },
        {
         "name": "y1",
         "rawType": "float64",
         "type": "float"
        },
        {
         "name": "y2",
         "rawType": "float64",
         "type": "float"
        },
        {
         "name": "y3",
         "rawType": "float64",
         "type": "float"
        }
       ],
       "conversionMethod": "pd.DataFrame",
       "ref": "3f7cc32f-42a6-4579-a2eb-56b3c233ea26",
       "rows": [
        [
         "E001",
         "150.2237162282709",
         "1176.177277778291",
         "1.142097497096118",
         "-0.3054339202505594",
         "-0.5191912937471133",
         "-0.07482931020721237",
         "0.1598964088207946",
         "0.385790122546617",
         "0.5903865308147479",
         "14",
         "0.7623960064154589",
         "0.2347346166610531",
         "14",
         "0.8923275547414669",
         "0.1627475159081164",
         "1.016163897369947",
         "0.9730124996338729",
         "0.9730124996338729",
         "1.62687847092397",
         "1.323937191565679",
         "1.924233458480636",
         "2.215079757527388",
         "3.966110221397809",
         "0.2054671462622681",
         "-0.226538711723462",
         "-0.2337969396502632",
         "-0.2313599744498629",
         "-0.2496215600475206",
         "11",
         "11",
         "11",
         "12",
         "10",
         "-0.1228645658353847",
         "-0.2871916578780337",
         "12",
         "2.302092584356073e-06",
         "-0.04029898618473704",
         "0.294575630574742",
         "-0.02381745749888618",
         "0.1839963654696146",
         "0.1585670576081162",
         "0.2041522491349481",
         "-0.3600840997659662",
         "0.2936172551085162",
         "0.4994878943759984",
         "5.88681152271281e-08",
         "55.46043367834409",
         "1.065916993455059",
         "114.5786204103125"
        ],
        [
         "E002",
         "102.5342678762004",
         "1483.654981916516",
         "1.104716419796098",
         "-0.2437852899127758",
         "-0.4542619780809531",
         "-0.02100206449903134",
         "0.2028355495861272",
         "0.4164225579112382",
         "0.6089720749981536",
         "14",
         "0.770760087739035",
         "0.222246210142254",
         "14",
         "0.8936165162838874",
         "0.1560670115588841",
         "0.9993568167921798",
         "0.9713377747746932",
         "0.9713377747746935",
         "1.576553073550272",
         "1.289890751104698",
         "1.858735405789931",
         "2.135705047559143",
         "3.6526435059868",
         "0.2110247401319967",
         "-0.2244198468351331",
         "-0.2325474580042485",
         "-0.2280495585317081",
         "-0.2444386143773333",
         "10",
         "9",
         "9",
         "10",
         "9",
         "-0.1251216792908884",
         "-0.278643948183462",
         "11",
         "9.194826079354894e-05",
         "0.005710727812269289",
         "0.295793386116199",
         "0.0174124077277948",
         "0.184369500523606",
         "0.1447418877366329",
         "0.2030075187969925",
         "-0.3443643252966841",
         "6.14237252208545",
         "0.4777432349844861",
         "3.64362055523439e-06",
         "50.64030573896383",
         "1.285665791352698",
         "124.6514837646304"
        ],
        [
         "E003",
         "119.8905490887243",
         "1254.897450653388",
         "2.162773409498691",
         "-0.3290060356266322",
         "-0.5434049971045741",
         "-0.09591338517658776",
         "0.1426122079089866",
         "0.3730020599120391",
         "0.5821514156665052",
         "14",
         "0.7581648639475573",
         "0.2394955454843397",
         "13",
         "0.8910329028051504",
         "0.165112565585219",
         "1.020465652695851",
         "0.9732011747853436",
         "0.9732011747853435",
         "1.646824878831804",
         "1.343150699207861",
         "1.944883653328339",
         "2.236309406751573",
         "3.682674589911052",
         "0.2017099991694988",
         "-0.2299484930997584",
         "-0.2383027291229635",
         "-0.2342132613799649",
         "-0.2523388214511478",
         "9",
         "9",
         "9",
         "10",
         "9",
         "-0.1218498437486562",
         "-0.2902894407037535",
         "11",
         "0.002991810076493899",
         "-0.06252100701744168",
         "0.2953766624528682",
         "-0.03807682374626591",
         "0.1840355025745247",
         "0.1442678316464963",
         "0.2081632653061224",
         "-0.3646107419088709",
         "26.78328344000789",
         "0.5064350830051291",
         "0.0001590028102571489",
         "50.83240472683809",
         "1.154859212683363",
         "57.01805417221681"
        ],
        [
         "E004",
         "162.8307992564844",
         "1302.043195135213",
         "1.30828321525042",
         "-0.0651521463136262",
         "-0.2664976926877177",
         "0.1389126502736655",
         "0.3371865864369897",
         "0.5214009296929024",
         "0.6838731666679987",
         "16",
         "0.8178274013703623",
         "0.1937549744108571",
         "16",
         "0.9176769485378873",
         "0.1370265745426402",
         "0.9726561048364449",
         "0.9792573362550936",
         "0.9792573362550935",
         "1.522951107576066",
         "1.249446870300736",
         "1.792685681282132",
         "2.058077147838571",
         "3.440933521168234",
         "0.2300116952585212",
         "-0.2135504176683748",
         "-0.2150938543416185",
         "-0.2220255651562478",
         "-0.2427030761830581",
         "9",
         "9",
         "9",
         "10",
         "9",
         "-0.1269822026600489",
         "-0.2818301171729558",
         "11",
         "0.03254871106161762",
         "0.167136898506159",
         "0.2838976837493383",
         "0.09874930838143854",
         "0.1872132457419277",
         "0.1373263951521655",
         "0.1936619718309859",
         "-0.3554414001104249",
         "33.22759074069934",
         "0.4605467208889374",
         "0.0007926165201968495",
         "62.47654543460142",
         "1.025160763802677",
         "132.2212175987509"
        ],
        [
         "E005",
         "165.72095638279",
         "1154.482313700376",
         "1.566829730087374",
         "-0.3048808371286578",
         "-0.5181766102806283",
         "-0.07483610968997173",
         "0.1593210142907042",
         "0.3847279896743889",
         "0.5890028422139049",
         "14",
         "0.7609243327125759",
         "0.2381097596952311",
         "14",
         "0.8910483643868621",
         "0.1626447113788911",
         "1.014791878416955",
         "0.9722267728214827",
         "0.9722267728214827",
         "1.62111225074021",
         "1.320327783744526",
         "1.916410952543579",
         "2.205328048547567",
         "3.995534195873079",
         "0.2072160931479998",
         "-0.2306634372538851",
         "-0.2403558289400577",
         "-0.233806167154005",
         "-0.2506967126737985",
         "11",
         "11",
         "11",
         "12",
         "10",
         "-0.1230299291182262",
         "-0.2868315494200753",
         "12",
         "0.005794605001799167",
         "-0.04382424818770635",
         "0.2887581856673982",
         "-0.0222890433765183",
         "0.1839782130968768",
         "0.1285455017839277",
         "0.1924398625429553",
         "-0.3575884147822471",
         "11.4394702754538",
         "0.4979403938074322",
         "0.0001462830650636705",
         "57.63443803240473",
         "1.043776221564284",
         "92.16026864580095"
        ]
       ],
       "shape": {
        "columns": 50,
        "rows": 5
       }
      },
      "text/html": [
       "<div>\n",
       "<style scoped>\n",
       "    .dataframe tbody tr th:only-of-type {\n",
       "        vertical-align: middle;\n",
       "    }\n",
       "\n",
       "    .dataframe tbody tr th {\n",
       "        vertical-align: top;\n",
       "    }\n",
       "\n",
       "    .dataframe thead th {\n",
       "        text-align: right;\n",
       "    }\n",
       "</style>\n",
       "<table border=\"1\" class=\"dataframe\">\n",
       "  <thead>\n",
       "    <tr style=\"text-align: right;\">\n",
       "      <th></th>\n",
       "      <th>m1</th>\n",
       "      <th>m2</th>\n",
       "      <th>m3</th>\n",
       "      <th>s1__autocorrelation__lag_8</th>\n",
       "      <th>s1__autocorrelation__lag_9</th>\n",
       "      <th>s1__autocorrelation__lag_7</th>\n",
       "      <th>s1__autocorrelation__lag_6</th>\n",
       "      <th>s1__autocorrelation__lag_5</th>\n",
       "      <th>s1__autocorrelation__lag_4</th>\n",
       "      <th>s1__longest_strike_above_mean</th>\n",
       "      <th>...</th>\n",
       "      <th>s1__ar_coefficient__coeff_3__k_10</th>\n",
       "      <th>s1__approximate_entropy__m_2__r_0.1</th>\n",
       "      <th>s1__lempel_ziv_complexity__bins_3</th>\n",
       "      <th>s1__partial_autocorrelation__lag_4</th>\n",
       "      <th>s1__fft_coefficient__attr_\"abs\"__coeff_7</th>\n",
       "      <th>s1__agg_autocorrelation__f_agg_\"var\"__maxlag_40</th>\n",
       "      <th>s1__spkt_welch_density__coeff_2</th>\n",
       "      <th>y1</th>\n",
       "      <th>y2</th>\n",
       "      <th>y3</th>\n",
       "    </tr>\n",
       "    <tr>\n",
       "      <th>id</th>\n",
       "      <th></th>\n",
       "      <th></th>\n",
       "      <th></th>\n",
       "      <th></th>\n",
       "      <th></th>\n",
       "      <th></th>\n",
       "      <th></th>\n",
       "      <th></th>\n",
       "      <th></th>\n",
       "      <th></th>\n",
       "      <th></th>\n",
       "      <th></th>\n",
       "      <th></th>\n",
       "      <th></th>\n",
       "      <th></th>\n",
       "      <th></th>\n",
       "      <th></th>\n",
       "      <th></th>\n",
       "      <th></th>\n",
       "      <th></th>\n",
       "      <th></th>\n",
       "    </tr>\n",
       "  </thead>\n",
       "  <tbody>\n",
       "    <tr>\n",
       "      <th>E001</th>\n",
       "      <td>150.223716</td>\n",
       "      <td>1176.177278</td>\n",
       "      <td>1.142097</td>\n",
       "      <td>-0.305434</td>\n",
       "      <td>-0.519191</td>\n",
       "      <td>-0.074829</td>\n",
       "      <td>0.159896</td>\n",
       "      <td>0.385790</td>\n",
       "      <td>0.590387</td>\n",
       "      <td>14</td>\n",
       "      <td>...</td>\n",
       "      <td>0.183996</td>\n",
       "      <td>0.158567</td>\n",
       "      <td>0.204152</td>\n",
       "      <td>-0.360084</td>\n",
       "      <td>0.293617</td>\n",
       "      <td>0.499488</td>\n",
       "      <td>5.886812e-08</td>\n",
       "      <td>55.460434</td>\n",
       "      <td>1.065917</td>\n",
       "      <td>114.578620</td>\n",
       "    </tr>\n",
       "    <tr>\n",
       "      <th>E002</th>\n",
       "      <td>102.534268</td>\n",
       "      <td>1483.654982</td>\n",
       "      <td>1.104716</td>\n",
       "      <td>-0.243785</td>\n",
       "      <td>-0.454262</td>\n",
       "      <td>-0.021002</td>\n",
       "      <td>0.202836</td>\n",
       "      <td>0.416423</td>\n",
       "      <td>0.608972</td>\n",
       "      <td>14</td>\n",
       "      <td>...</td>\n",
       "      <td>0.184370</td>\n",
       "      <td>0.144742</td>\n",
       "      <td>0.203008</td>\n",
       "      <td>-0.344364</td>\n",
       "      <td>6.142373</td>\n",
       "      <td>0.477743</td>\n",
       "      <td>3.643621e-06</td>\n",
       "      <td>50.640306</td>\n",
       "      <td>1.285666</td>\n",
       "      <td>124.651484</td>\n",
       "    </tr>\n",
       "    <tr>\n",
       "      <th>E003</th>\n",
       "      <td>119.890549</td>\n",
       "      <td>1254.897451</td>\n",
       "      <td>2.162773</td>\n",
       "      <td>-0.329006</td>\n",
       "      <td>-0.543405</td>\n",
       "      <td>-0.095913</td>\n",
       "      <td>0.142612</td>\n",
       "      <td>0.373002</td>\n",
       "      <td>0.582151</td>\n",
       "      <td>14</td>\n",
       "      <td>...</td>\n",
       "      <td>0.184036</td>\n",
       "      <td>0.144268</td>\n",
       "      <td>0.208163</td>\n",
       "      <td>-0.364611</td>\n",
       "      <td>26.783283</td>\n",
       "      <td>0.506435</td>\n",
       "      <td>1.590028e-04</td>\n",
       "      <td>50.832405</td>\n",
       "      <td>1.154859</td>\n",
       "      <td>57.018054</td>\n",
       "    </tr>\n",
       "    <tr>\n",
       "      <th>E004</th>\n",
       "      <td>162.830799</td>\n",
       "      <td>1302.043195</td>\n",
       "      <td>1.308283</td>\n",
       "      <td>-0.065152</td>\n",
       "      <td>-0.266498</td>\n",
       "      <td>0.138913</td>\n",
       "      <td>0.337187</td>\n",
       "      <td>0.521401</td>\n",
       "      <td>0.683873</td>\n",
       "      <td>16</td>\n",
       "      <td>...</td>\n",
       "      <td>0.187213</td>\n",
       "      <td>0.137326</td>\n",
       "      <td>0.193662</td>\n",
       "      <td>-0.355441</td>\n",
       "      <td>33.227591</td>\n",
       "      <td>0.460547</td>\n",
       "      <td>7.926165e-04</td>\n",
       "      <td>62.476545</td>\n",
       "      <td>1.025161</td>\n",
       "      <td>132.221218</td>\n",
       "    </tr>\n",
       "    <tr>\n",
       "      <th>E005</th>\n",
       "      <td>165.720956</td>\n",
       "      <td>1154.482314</td>\n",
       "      <td>1.566830</td>\n",
       "      <td>-0.304881</td>\n",
       "      <td>-0.518177</td>\n",
       "      <td>-0.074836</td>\n",
       "      <td>0.159321</td>\n",
       "      <td>0.384728</td>\n",
       "      <td>0.589003</td>\n",
       "      <td>14</td>\n",
       "      <td>...</td>\n",
       "      <td>0.183978</td>\n",
       "      <td>0.128546</td>\n",
       "      <td>0.192440</td>\n",
       "      <td>-0.357588</td>\n",
       "      <td>11.439470</td>\n",
       "      <td>0.497940</td>\n",
       "      <td>1.462831e-04</td>\n",
       "      <td>57.634438</td>\n",
       "      <td>1.043776</td>\n",
       "      <td>92.160269</td>\n",
       "    </tr>\n",
       "  </tbody>\n",
       "</table>\n",
       "<p>5 rows × 50 columns</p>\n",
       "</div>"
      ],
      "text/plain": [
       "              m1           m2        m3  s1__autocorrelation__lag_8  \\\n",
       "id                                                                    \n",
       "E001  150.223716  1176.177278  1.142097                   -0.305434   \n",
       "E002  102.534268  1483.654982  1.104716                   -0.243785   \n",
       "E003  119.890549  1254.897451  2.162773                   -0.329006   \n",
       "E004  162.830799  1302.043195  1.308283                   -0.065152   \n",
       "E005  165.720956  1154.482314  1.566830                   -0.304881   \n",
       "\n",
       "      s1__autocorrelation__lag_9  s1__autocorrelation__lag_7  \\\n",
       "id                                                             \n",
       "E001                   -0.519191                   -0.074829   \n",
       "E002                   -0.454262                   -0.021002   \n",
       "E003                   -0.543405                   -0.095913   \n",
       "E004                   -0.266498                    0.138913   \n",
       "E005                   -0.518177                   -0.074836   \n",
       "\n",
       "      s1__autocorrelation__lag_6  s1__autocorrelation__lag_5  \\\n",
       "id                                                             \n",
       "E001                    0.159896                    0.385790   \n",
       "E002                    0.202836                    0.416423   \n",
       "E003                    0.142612                    0.373002   \n",
       "E004                    0.337187                    0.521401   \n",
       "E005                    0.159321                    0.384728   \n",
       "\n",
       "      s1__autocorrelation__lag_4  s1__longest_strike_above_mean  ...  \\\n",
       "id                                                               ...   \n",
       "E001                    0.590387                             14  ...   \n",
       "E002                    0.608972                             14  ...   \n",
       "E003                    0.582151                             14  ...   \n",
       "E004                    0.683873                             16  ...   \n",
       "E005                    0.589003                             14  ...   \n",
       "\n",
       "      s1__ar_coefficient__coeff_3__k_10  s1__approximate_entropy__m_2__r_0.1  \\\n",
       "id                                                                             \n",
       "E001                           0.183996                             0.158567   \n",
       "E002                           0.184370                             0.144742   \n",
       "E003                           0.184036                             0.144268   \n",
       "E004                           0.187213                             0.137326   \n",
       "E005                           0.183978                             0.128546   \n",
       "\n",
       "      s1__lempel_ziv_complexity__bins_3  s1__partial_autocorrelation__lag_4  \\\n",
       "id                                                                            \n",
       "E001                           0.204152                           -0.360084   \n",
       "E002                           0.203008                           -0.344364   \n",
       "E003                           0.208163                           -0.364611   \n",
       "E004                           0.193662                           -0.355441   \n",
       "E005                           0.192440                           -0.357588   \n",
       "\n",
       "      s1__fft_coefficient__attr_\"abs\"__coeff_7  \\\n",
       "id                                               \n",
       "E001                                  0.293617   \n",
       "E002                                  6.142373   \n",
       "E003                                 26.783283   \n",
       "E004                                 33.227591   \n",
       "E005                                 11.439470   \n",
       "\n",
       "      s1__agg_autocorrelation__f_agg_\"var\"__maxlag_40  \\\n",
       "id                                                      \n",
       "E001                                         0.499488   \n",
       "E002                                         0.477743   \n",
       "E003                                         0.506435   \n",
       "E004                                         0.460547   \n",
       "E005                                         0.497940   \n",
       "\n",
       "      s1__spkt_welch_density__coeff_2         y1        y2          y3  \n",
       "id                                                                      \n",
       "E001                     5.886812e-08  55.460434  1.065917  114.578620  \n",
       "E002                     3.643621e-06  50.640306  1.285666  124.651484  \n",
       "E003                     1.590028e-04  50.832405  1.154859   57.018054  \n",
       "E004                     7.926165e-04  62.476545  1.025161  132.221218  \n",
       "E005                     1.462831e-04  57.634438  1.043776   92.160269  \n",
       "\n",
       "[5 rows x 50 columns]"
      ]
     },
     "execution_count": 118,
     "metadata": {},
     "output_type": "execute_result"
    }
   ],
   "source": [
    "df = pd.read_excel(\"output/S21__2025-04-21-052727.xlsx\")\n",
    "df = df.set_index(\"Unnamed: 0\")\n",
    "df.index.names = [\"id\"]\n",
    "df.head()"
   ]
  },
  {
   "cell_type": "code",
   "execution_count": 119,
   "id": "16816717",
   "metadata": {},
   "outputs": [],
   "source": [
    "colsY = [\"y1\", \"y2\", \"y3\"]\n",
    "colsX = [c for c in df.columns if c not in colsY]\n",
    "\n",
    "dfX = df[colsX]\n",
    "dfY = df[colsY]"
   ]
  },
  {
   "cell_type": "code",
   "execution_count": 120,
   "id": "bf54dec5",
   "metadata": {},
   "outputs": [],
   "source": [
    "dfData = loadPickle(\"output/S11__2025-04-21-052441.pickle\")"
   ]
  },
  {
   "cell_type": "code",
   "execution_count": 121,
   "id": "1c4cb3de",
   "metadata": {},
   "outputs": [],
   "source": [
    "dfData\n",
    "tsArr = [t[1] for t in dfData[\"ts\"].values]"
   ]
  },
  {
   "cell_type": "code",
   "execution_count": 122,
   "id": "22f736da",
   "metadata": {},
   "outputs": [
    {
     "name": "stdout",
     "output_type": "stream",
     "text": [
      "298\n"
     ]
    }
   ],
   "source": [
    "# Max length\n",
    "maxTime = 0\n",
    "for ts in tsArr:\n",
    "    maxTime = len(ts) if maxTime < len(ts) else maxTime\n",
    "\n",
    "print(maxTime)"
   ]
  },
  {
   "cell_type": "code",
   "execution_count": 123,
   "id": "6ef870d8",
   "metadata": {},
   "outputs": [
    {
     "data": {
      "text/plain": [
       "[<matplotlib.lines.Line2D at 0x1a031ce0680>]"
      ]
     },
     "execution_count": 123,
     "metadata": {},
     "output_type": "execute_result"
    },
    {
     "data": {
      "image/png": "[encoded data removed]",
      "text/plain": [
       "<Figure size 640x480 with 1 Axes>"
      ]
     },
     "metadata": {},
     "output_type": "display_data"
    }
   ],
   "source": [
    "# Scaling and Padding\n",
    "# TODO: Needs to only calculate mean, std, min, max from training example.\n",
    "\n",
    "SCALING_TYPE = \"Min_Max\"\n",
    "# SCALING_TYPE = \"STANDARDIZATION\"\n",
    "\n",
    "tsArrConcat = np.concatenate(tsArr)\n",
    "if SCALING_TYPE == \"STANDARDIZATION\":\n",
    "    meanVal = np.mean(tsArrConcat)\n",
    "    stdVal = np.std(tsArrConcat)\n",
    "elif SCALING_TYPE == \"Min_Max\":\n",
    "    maxVal = np.max(tsArrConcat)\n",
    "    minVal = np.min(tsArrConcat)\n",
    "\n",
    "# Shape = (Batch, Time, Features)\n",
    "TsData_std = np.zeros((dfData.shape[0], maxTime, 1))\n",
    "for idx, ts in enumerate(tsArr):\n",
    "    if SCALING_TYPE == \"STANDARDIZATION\":\n",
    "        ts_std = (ts - meanVal) / stdVal\n",
    "    elif SCALING_TYPE == \"Min_Max\":\n",
    "        ts_std = (ts - minVal) / (maxVal - minVal)\n",
    "\n",
    "    TsData_std[idx, : len(ts), 0] = ts_std  # Scaling\n",
    "    TsData_std[idx, len(ts) :, 0] = -1  # Padding\n",
    "\n",
    "plt.plot(TsData_std[0, :])"
   ]
  },
  {
   "cell_type": "code",
   "execution_count": 124,
   "id": "c7b3dd62",
   "metadata": {},
   "outputs": [
    {
     "name": "stdout",
     "output_type": "stream",
     "text": [
      "[60 80 90 68 51 27 18 56 63 74  1 61 42 41  4 15 17 40 38  5 91 59  0 34\n",
      " 28 50 11 35 23 52 10 31 66 57 79 85 32 84 14 89 19 29 49 97 98 69 20 94\n",
      " 72 77 25 37 81 46 39 65 58 12 88 70 87 36 21 83  9 96 67 64 47 44]\n",
      "[26 86  2 55 75 93 16 73 54 95 53 92 78 13  7 30 22 24 33  8 43 62  3 71\n",
      " 45 48  6 99 82 76]\n"
     ]
    }
   ],
   "source": [
    "from sklearn.model_selection import ShuffleSplit\n",
    "\n",
    "cv = ShuffleSplit(random_state=0, test_size=0.30)\n",
    "idxs = np.arange(df.shape[0])\n",
    "idxTrain, idxTest = next(cv.split(X=idxs))\n",
    "print(idxTrain)\n",
    "print(idxTest)"
   ]
  },
  {
   "cell_type": "code",
   "execution_count": 125,
   "id": "6110546c",
   "metadata": {},
   "outputs": [],
   "source": [
    "dfX_train = dfX.iloc[idxTrain, :]\n",
    "dfX_test = dfX.iloc[idxTest, :]\n",
    "dfY_train = dfY.iloc[idxTrain, :]\n",
    "dfY_test = dfY.iloc[idxTest, :]\n",
    "Ts_train_std = TsData_std[idxTrain, :]\n",
    "Ts_test_std = TsData_std[idxTest, :]"
   ]
  },
  {
   "cell_type": "code",
   "execution_count": 126,
   "id": "5d0b7279",
   "metadata": {},
   "outputs": [],
   "source": [
    "scX = MinMaxScaler()\n",
    "X_train_std = scX.fit_transform(dfX_train)\n",
    "X_test_std = scX.transform(dfX_test)\n",
    "\n",
    "scY = MinMaxScaler()\n",
    "Y_train_std = scY.fit_transform(dfY_train)\n",
    "Y_test_std = scY.transform(dfY_test)"
   ]
  },
  {
   "cell_type": "code",
   "execution_count": 127,
   "id": "6bb6bfea",
   "metadata": {},
   "outputs": [],
   "source": [
    "# Convert to 2D PyTorch tensors\n",
    "X_train_std = torch.tensor(X_train_std, dtype=torch.float32)\n",
    "Y_train_std = torch.tensor(Y_train_std, dtype=torch.float32)\n",
    "X_test_std = torch.tensor(X_test_std, dtype=torch.float32)\n",
    "Y_test_std = torch.tensor(Y_test_std, dtype=torch.float32)\n",
    "Ts_train_std = torch.tensor(Ts_train_std, dtype=torch.float32)\n",
    "Ts_test_std = torch.tensor(Ts_test_std, dtype=torch.float32)"
   ]
  },
  {
   "cell_type": "code",
   "execution_count": 128,
   "id": "59aebc42",
   "metadata": {},
   "outputs": [],
   "source": [
    "class TimeSeriesLSTM(nn.Module):\n",
    "    def __init__(self, input_size, hidden_size, num_layers, dropout=0.2):\n",
    "        super().__init__()\n",
    "        self.lstm = nn.LSTM(\n",
    "            input_size=input_size,\n",
    "            hidden_size=hidden_size,\n",
    "            num_layers=num_layers,\n",
    "            batch_first=True,\n",
    "            dropout=dropout,\n",
    "        )\n",
    "        self.dropout = nn.Dropout(dropout)\n",
    "\n",
    "    def forward(self, x):\n",
    "        out, (h_n, c_n) = self.lstm(x)\n",
    "        return h_n[-1]  # Return last hidden state of last layer\n",
    "\n",
    "\n",
    "class TabularMLP(nn.Module):\n",
    "    def __init__(self, input_size, hidden_sizes, dropout=0.2):\n",
    "        super().__init__()\n",
    "        layers = []\n",
    "        for i, h in enumerate(hidden_sizes):\n",
    "            layers.append(nn.Linear(input_size if i == 0 else hidden_sizes[i - 1], h))\n",
    "            layers.append(nn.ReLU())\n",
    "            layers.append(nn.Dropout(dropout))\n",
    "        self.mlp = nn.Sequential(*layers)\n",
    "\n",
    "    def forward(self, x):\n",
    "        return self.mlp(x)\n",
    "\n",
    "\n",
    "class HybridModel(nn.Module):\n",
    "    def __init__(\n",
    "        self,\n",
    "        ts_input_size,\n",
    "        tab_input_size,\n",
    "        lstm_hidden,\n",
    "        mlp_hidden,\n",
    "        num_layers,\n",
    "        output_size,\n",
    "        dropout=0.2,\n",
    "    ):\n",
    "        super().__init__()\n",
    "        self.ts_processor = TimeSeriesLSTM(\n",
    "            ts_input_size, lstm_hidden, num_layers, dropout\n",
    "        )\n",
    "        self.tab_processor = TabularMLP(tab_input_size, mlp_hidden, dropout)\n",
    "\n",
    "        combined_size = lstm_hidden + mlp_hidden[-1] if mlp_hidden else lstm_hidden\n",
    "        self.fc = nn.Sequential(\n",
    "            nn.Linear(combined_size, 128),\n",
    "            nn.ReLU(),\n",
    "            nn.Dropout(dropout),\n",
    "            nn.Linear(128, output_size),\n",
    "        )\n",
    "\n",
    "    def forward(self, ts_data, tab_data):\n",
    "        ts_features = self.ts_processor(ts_data)\n",
    "        tab_features = self.tab_processor(tab_data)\n",
    "        combined = torch.cat((ts_features, tab_features), dim=1)\n",
    "        return self.fc(combined)"
   ]
  },
  {
   "cell_type": "code",
   "execution_count": 129,
   "id": "523f3635",
   "metadata": {},
   "outputs": [],
   "source": [
    "# Initialize model\n",
    "model = HybridModel(\n",
    "    ts_input_size=1,\n",
    "    tab_input_size=dfX.shape[1],\n",
    "    lstm_hidden=64,\n",
    "    mlp_hidden=[128, 64],\n",
    "    num_layers=2,\n",
    "    output_size=3,\n",
    "    dropout=0.2,\n",
    ")"
   ]
  },
  {
   "cell_type": "code",
   "execution_count": 130,
   "id": "dc7c8a63",
   "metadata": {},
   "outputs": [],
   "source": [
    "# loss function and optimizer\n",
    "loss_fn = nn.MSELoss()  # mean square error\n",
    "optimizer = optim.Adam(model.parameters(), lr=0.0001)"
   ]
  },
  {
   "cell_type": "code",
   "execution_count": 131,
   "id": "b3c38ea7",
   "metadata": {},
   "outputs": [
    {
     "name": "stdout",
     "output_type": "stream",
     "text": [
      "MSE: 0.00\n",
      "RMSE: 0.05\n"
     ]
    },
    {
     "data": {
      "image/png": "[encoded data removed]",
      "text/plain": [
       "<Figure size 640x480 with 1 Axes>"
      ]
     },
     "metadata": {},
     "output_type": "display_data"
    }
   ],
   "source": [
    "n_epochs = 200  # number of epochs to run\n",
    "batch_size = 10  # size of each batch\n",
    "batch_start = torch.arange(0, len(X_train_std), batch_size)\n",
    "\n",
    "# Hold the best model\n",
    "best_mse = np.inf  # init to infinity\n",
    "best_weights = None\n",
    "history = []\n",
    "\n",
    "for epoch in range(n_epochs):\n",
    "    model.train()\n",
    "    with tqdm.tqdm(batch_start, unit=\"batch\", mininterval=0, disable=True) as bar:\n",
    "        bar.set_description(f\"Epoch {epoch}\")\n",
    "        for start in bar:\n",
    "            # take a batch\n",
    "            X_batch = X_train_std[start : start + batch_size]\n",
    "            F_batch = Ts_train_std[start : start + batch_size]\n",
    "            y_batch = Y_train_std[start : start + batch_size]\n",
    "            # forward pass\n",
    "            y_pred = model(F_batch, X_batch)\n",
    "            loss = loss_fn(y_pred, y_batch)\n",
    "            # backward pass\n",
    "            optimizer.zero_grad()\n",
    "            loss.backward()\n",
    "            # update weights\n",
    "            optimizer.step()\n",
    "            # print progress\n",
    "            bar.set_postfix(mse=float(loss))\n",
    "    # evaluate accuracy at end of each epoch\n",
    "    model.eval()\n",
    "    y_pred = model(Ts_test_std, X_test_std)\n",
    "    mse = loss_fn(y_pred, Y_test_std)\n",
    "    mse = float(mse)\n",
    "    history.append(mse)\n",
    "    if mse < best_mse:\n",
    "        best_mse = mse\n",
    "        best_weights = copy.deepcopy(model.state_dict())\n",
    "\n",
    "# restore model and return best accuracy\n",
    "model.load_state_dict(best_weights)\n",
    "print(\"MSE: %.2f\" % best_mse)\n",
    "print(\"RMSE: %.2f\" % np.sqrt(best_mse))\n",
    "plt.plot(history)\n",
    "plt.show()"
   ]
  },
  {
   "cell_type": "code",
   "execution_count": 132,
   "id": "c0f05686",
   "metadata": {},
   "outputs": [],
   "source": [
    "Y_train_pred = model(Ts_train_std, X_train_std)\n",
    "Y_test_pred = model(Ts_test_std, X_test_std)"
   ]
  },
  {
   "cell_type": "code",
   "execution_count": 133,
   "id": "60453032",
   "metadata": {},
   "outputs": [],
   "source": [
    "Y_train_std = Y_train_std.detach().numpy()\n",
    "Y_test_std = Y_test_std.detach().numpy()\n",
    "Y_train_pred = Y_train_pred.detach().numpy()\n",
    "Y_test_pred = Y_test_pred.detach().numpy()"
   ]
  },
  {
   "cell_type": "code",
   "execution_count": 134,
   "id": "df7a80c3",
   "metadata": {},
   "outputs": [
    {
     "data": {
      "application/vnd.microsoft.datawrangler.viewer.v0+json": {
       "columns": [
        {
         "name": "index",
         "rawType": "int64",
         "type": "integer"
        },
        {
         "name": "MSE Train",
         "rawType": "float64",
         "type": "float"
        },
        {
         "name": "MSE Test",
         "rawType": "float64",
         "type": "float"
        },
        {
         "name": "R2 Train",
         "rawType": "float64",
         "type": "float"
        },
        {
         "name": "R2 Test",
         "rawType": "float64",
         "type": "float"
        }
       ],
       "conversionMethod": "pd.DataFrame",
       "ref": "9e0067d1-1d50-4009-a184-6f92eb7159d8",
       "rows": [
        [
         "0",
         "0.0026179382111877203",
         "0.0039014979265630245",
         "0.9415828585624695",
         "0.9272032976150513"
        ],
        [
         "1",
         "0.00208939122967422",
         "0.00297172786667943",
         "0.9455952048301697",
         "0.9038779735565186"
        ],
        [
         "2",
         "0.0011333293514326215",
         "0.0012380963889881968",
         "0.9807243347167969",
         "0.9763773083686829"
        ]
       ],
       "shape": {
        "columns": 4,
        "rows": 3
       }
      },
      "text/html": [
       "<div>\n",
       "<style scoped>\n",
       "    .dataframe tbody tr th:only-of-type {\n",
       "        vertical-align: middle;\n",
       "    }\n",
       "\n",
       "    .dataframe tbody tr th {\n",
       "        vertical-align: top;\n",
       "    }\n",
       "\n",
       "    .dataframe thead th {\n",
       "        text-align: right;\n",
       "    }\n",
       "</style>\n",
       "<table border=\"1\" class=\"dataframe\">\n",
       "  <thead>\n",
       "    <tr style=\"text-align: right;\">\n",
       "      <th></th>\n",
       "      <th>MSE Train</th>\n",
       "      <th>MSE Test</th>\n",
       "      <th>R2 Train</th>\n",
       "      <th>R2 Test</th>\n",
       "    </tr>\n",
       "  </thead>\n",
       "  <tbody>\n",
       "    <tr>\n",
       "      <th>0</th>\n",
       "      <td>0.002618</td>\n",
       "      <td>0.003901</td>\n",
       "      <td>0.941583</td>\n",
       "      <td>0.927203</td>\n",
       "    </tr>\n",
       "    <tr>\n",
       "      <th>1</th>\n",
       "      <td>0.002089</td>\n",
       "      <td>0.002972</td>\n",
       "      <td>0.945595</td>\n",
       "      <td>0.903878</td>\n",
       "    </tr>\n",
       "    <tr>\n",
       "      <th>2</th>\n",
       "      <td>0.001133</td>\n",
       "      <td>0.001238</td>\n",
       "      <td>0.980724</td>\n",
       "      <td>0.976377</td>\n",
       "    </tr>\n",
       "  </tbody>\n",
       "</table>\n",
       "</div>"
      ],
      "text/plain": [
       "   MSE Train  MSE Test  R2 Train   R2 Test\n",
       "0   0.002618  0.003901  0.941583  0.927203\n",
       "1   0.002089  0.002972  0.945595  0.903878\n",
       "2   0.001133  0.001238  0.980724  0.976377"
      ]
     },
     "execution_count": 134,
     "metadata": {},
     "output_type": "execute_result"
    },
    {
     "data": {
      "image/png": "[encoded data removed]",
      "text/plain": [
       "<Figure size 900x300 with 2 Axes>"
      ]
     },
     "metadata": {},
     "output_type": "display_data"
    },
    {
     "data": {
      "image/png": "[encoded data removed]",
      "text/plain": [
       "<Figure size 900x300 with 2 Axes>"
      ]
     },
     "metadata": {},
     "output_type": "display_data"
    },
    {
     "data": {
      "image/png": "[encoded data removed]",
      "text/plain": [
       "<Figure size 900x300 with 2 Axes>"
      ]
     },
     "metadata": {},
     "output_type": "display_data"
    }
   ],
   "source": [
    "resArr = []\n",
    "for i in range(dfY.shape[1]):\n",
    "    y_train = Y_train_std[:, i]\n",
    "    y_test = Y_test_std[:, i]\n",
    "    y_train_pred = Y_train_pred[:, i]\n",
    "    y_test_pred = Y_test_pred[:, i]\n",
    "    plot_res(y_train, y_test, y_train_pred, y_test_pred, xlim=[-0.1, 1.1])\n",
    "    res = store_results(y_train, y_test, y_train_pred, y_test_pred)\n",
    "    resArr.append(res)\n",
    "\n",
    "dfRes = pd.DataFrame.from_dict(resArr)\n",
    "dfRes"
   ]
  },
  {
   "cell_type": "code",
   "execution_count": null,
   "id": "82c358bf",
   "metadata": {},
   "outputs": [],
   "source": []
  }
 ],
 "metadata": {
  "kernelspec": {
   "display_name": ".venv",
   "language": "python",
   "name": "python3"
  },
  "language_info": {
   "codemirror_mode": {
    "name": "ipython",
    "version": 3
   },
   "file_extension": ".py",
   "mimetype": "text/x-python",
   "name": "python",
   "nbconvert_exporter": "python",
   "pygments_lexer": "ipython3",
   "version": "3.12.10"
  }
 },
 "nbformat": 4,
 "nbformat_minor": 5
}
