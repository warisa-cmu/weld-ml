{
 "cells": [
  {
   "cell_type": "code",
   "execution_count": 8,
   "id": "ec09817b",
   "metadata": {},
   "outputs": [],
   "source": [
    "import torch\n",
    "\n",
    "a  = torch.randn(3,3, 4)"
   ]
  },
  {
   "cell_type": "code",
   "execution_count": 9,
   "id": "9b980a2c",
   "metadata": {},
   "outputs": [
    {
     "data": {
      "text/plain": [
       "tensor([[-0.9796,  1.1229, -0.7057],\n",
       "        [ 0.8353,  0.4113, -0.5974],\n",
       "        [-1.4023,  0.9649, -0.2852]])"
      ]
     },
     "execution_count": 9,
     "metadata": {},
     "output_type": "execute_result"
    }
   ],
   "source": [
    "a[Ellipsis,1]"
   ]
  },
  {
   "cell_type": "code",
   "execution_count": 11,
   "id": "4a60db55",
   "metadata": {},
   "outputs": [
    {
     "data": {
      "text/plain": [
       "tensor([[-0.9796,  1.1229, -0.7057],\n",
       "        [ 0.8353,  0.4113, -0.5974],\n",
       "        [-1.4023,  0.9649, -0.2852]])"
      ]
     },
     "execution_count": 11,
     "metadata": {},
     "output_type": "execute_result"
    }
   ],
   "source": [
    "a[:,:,1]"
   ]
  },
  {
   "cell_type": "code",
   "execution_count": null,
   "id": "a408d2a3",
   "metadata": {},
   "outputs": [],
   "source": []
  }
 ],
 "metadata": {
  "kernelspec": {
   "display_name": ".venv",
   "language": "python",
   "name": "python3"
  },
  "language_info": {
   "codemirror_mode": {
    "name": "ipython",
    "version": 3
   },
   "file_extension": ".py",
   "mimetype": "text/x-python",
   "name": "python",
   "nbconvert_exporter": "python",
   "pygments_lexer": "ipython3",
   "version": "3.12.10"
  }
 },
 "nbformat": 4,
 "nbformat_minor": 5
}
