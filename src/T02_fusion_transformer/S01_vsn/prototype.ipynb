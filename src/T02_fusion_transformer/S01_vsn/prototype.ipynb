{
 "cells": [
  {
   "cell_type": "code",
   "execution_count": 1,
   "id": "ab05b70e",
   "metadata": {},
   "outputs": [],
   "source": [
    "import torch\n",
    "from torch import nn\n",
    "from models import VariableSelectionNetwork, MyModel"
   ]
  },
  {
   "cell_type": "code",
   "execution_count": 2,
   "id": "0ac5d806",
   "metadata": {},
   "outputs": [],
   "source": [
    "batch_size = 5\n",
    "num_tabular_features = 16\n",
    "embedding_size = 4\n",
    "embedder_array = nn.ModuleList(\n",
    "    [nn.Linear(1, embedding_size) for i in range(0, num_tabular_features)]\n",
    ")"
   ]
  },
  {
   "cell_type": "code",
   "execution_count": 3,
   "id": "6b37b0f3",
   "metadata": {},
   "outputs": [
    {
     "data": {
      "text/plain": [
       "torch.Size([5, 16])"
      ]
     },
     "execution_count": 3,
     "metadata": {},
     "output_type": "execute_result"
    }
   ],
   "source": [
    "x = torch.randn(batch_size, num_tabular_features)\n",
    "x.shape"
   ]
  },
  {
   "cell_type": "code",
   "execution_count": 4,
   "id": "edfd2a60",
   "metadata": {},
   "outputs": [],
   "source": [
    "embedd_input = [\n",
    "    embedder_array[i](x[Ellipsis, i].unsqueeze(-1))\n",
    "    for i in range(0, num_tabular_features)\n",
    "]"
   ]
  },
  {
   "cell_type": "code",
   "execution_count": 5,
   "id": "10d3a660",
   "metadata": {},
   "outputs": [
    {
     "data": {
      "text/plain": [
       "torch.Size([5, 16, 4])"
      ]
     },
     "execution_count": 5,
     "metadata": {},
     "output_type": "execute_result"
    }
   ],
   "source": [
    "res = torch.stack(embedd_input, -2)\n",
    "res.shape"
   ]
  },
  {
   "cell_type": "code",
   "execution_count": 6,
   "id": "e3c5034e",
   "metadata": {},
   "outputs": [],
   "source": [
    "vsn = VariableSelectionNetwork(\n",
    "    num_inputs=num_tabular_features,\n",
    "    input_dim=embedding_size,\n",
    "    hidden_dim=num_tabular_features # This is the output size\n",
    ")"
   ]
  },
  {
   "cell_type": "code",
   "execution_count": 7,
   "id": "46afa972",
   "metadata": {},
   "outputs": [
    {
     "name": "stdout",
     "output_type": "stream",
     "text": [
      "torch.Size([5, 16])\n",
      "torch.Size([5, 16])\n"
     ]
    }
   ],
   "source": [
    "res2, weights = vsn(res)\n",
    "print(res2.shape)\n",
    "print(weights.shape)"
   ]
  },
  {
   "cell_type": "code",
   "execution_count": 8,
   "id": "e532ec87",
   "metadata": {},
   "outputs": [],
   "source": [
    "model = MyModel(num_tabular_features=num_tabular_features, output_size=3, embedding_size=embedding_size)"
   ]
  },
  {
   "cell_type": "code",
   "execution_count": 9,
   "id": "63ca1c3d",
   "metadata": {},
   "outputs": [
    {
     "data": {
      "text/plain": [
       "(tensor([[-0.0671,  0.0328, -0.1152],\n",
       "         [-0.0656,  0.0320, -0.1121],\n",
       "         [-0.0651,  0.0276, -0.1138],\n",
       "         [-0.0732,  0.0315, -0.1128],\n",
       "         [-0.0696,  0.0363, -0.1079]], grad_fn=<SqueezeBackward1>),\n",
       " tensor([[0.0134, 0.1721, 0.3118, 0.0079, 0.0205, 0.0109, 0.0770, 0.0174, 0.0567,\n",
       "          0.0557, 0.0639, 0.0266, 0.0601, 0.0122, 0.0679, 0.0260],\n",
       "         [0.0264, 0.1182, 0.2391, 0.0093, 0.0304, 0.0054, 0.1685, 0.0430, 0.0577,\n",
       "          0.0520, 0.0209, 0.0395, 0.0170, 0.0155, 0.0988, 0.0583],\n",
       "         [0.0201, 0.0516, 0.1364, 0.0052, 0.0214, 0.0060, 0.1461, 0.0353, 0.1128,\n",
       "          0.1131, 0.0376, 0.0317, 0.0773, 0.0271, 0.1267, 0.0515],\n",
       "         [0.0165, 0.1964, 0.2246, 0.0208, 0.0301, 0.0131, 0.0643, 0.0084, 0.0409,\n",
       "          0.0159, 0.1040, 0.1175, 0.0818, 0.0175, 0.0347, 0.0135],\n",
       "         [0.0242, 0.1945, 0.0246, 0.0343, 0.0134, 0.0059, 0.1625, 0.0204, 0.0248,\n",
       "          0.0262, 0.2130, 0.1376, 0.0490, 0.0186, 0.0229, 0.0282]],\n",
       "        grad_fn=<SoftmaxBackward0>))"
      ]
     },
     "execution_count": 9,
     "metadata": {},
     "output_type": "execute_result"
    }
   ],
   "source": [
    "model(x)"
   ]
  }
 ],
 "metadata": {
  "kernelspec": {
   "display_name": ".venv",
   "language": "python",
   "name": "python3"
  },
  "language_info": {
   "codemirror_mode": {
    "name": "ipython",
    "version": 3
   },
   "file_extension": ".py",
   "mimetype": "text/x-python",
   "name": "python",
   "nbconvert_exporter": "python",
   "pygments_lexer": "ipython3",
   "version": "3.12.9"
  }
 },
 "nbformat": 4,
 "nbformat_minor": 5
}
