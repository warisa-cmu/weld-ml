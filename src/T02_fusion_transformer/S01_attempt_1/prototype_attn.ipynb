{
 "cells": [
  {
   "cell_type": "code",
   "execution_count": 11,
   "id": "56f181c8",
   "metadata": {},
   "outputs": [],
   "source": [
    "import torch\n",
    "from torch import nn\n",
    "from models import InterpretableMultiHeadAttention"
   ]
  },
  {
   "cell_type": "code",
   "execution_count": 12,
   "id": "3af48441",
   "metadata": {},
   "outputs": [],
   "source": [
    "embedding_size = 12\n",
    "d_model = embedding_size\n",
    "n_head = 4\n",
    "batch_size = 12\n",
    "number_features = 6\n",
    "\n",
    "att_layer = InterpretableMultiHeadAttention(n_head=n_head, d_model=d_model, dropout=0.5)"
   ]
  },
  {
   "cell_type": "code",
   "execution_count": 18,
   "id": "c03b8d1f",
   "metadata": {},
   "outputs": [
    {
     "name": "stdout",
     "output_type": "stream",
     "text": [
      "torch.Size([12, 6, 12])\n"
     ]
    }
   ],
   "source": [
    "x = torch.randn(batch_size, number_features, embedding_size)\n",
    "print(x.shape)"
   ]
  },
  {
   "cell_type": "code",
   "execution_count": 17,
   "id": "9b854182",
   "metadata": {},
   "outputs": [
    {
     "name": "stdout",
     "output_type": "stream",
     "text": [
      "torch.Size([12, 6, 12])\n",
      "torch.Size([12, 6, 4, 6])\n"
     ]
    }
   ],
   "source": [
    "output, att = att_layer(x, x, x)\n",
    "print(output.shape)\n",
    "print(att.shape)"
   ]
  },
  {
   "cell_type": "code",
   "execution_count": 24,
   "id": "cc46a9ca",
   "metadata": {},
   "outputs": [
    {
     "data": {
      "text/plain": [
       "tensor([[0.0826, 0.4295, 0.1512, 0.1275, 0.0038, 0.2054],\n",
       "        [0.0444, 0.0023, 0.0639, 0.0276, 0.4900, 0.3718],\n",
       "        [0.0616, 0.0107, 0.0398, 0.0459, 0.7944, 0.0477],\n",
       "        [0.1123, 0.3543, 0.0136, 0.3218, 0.1962, 0.0019],\n",
       "        [0.1376, 0.0558, 0.1141, 0.1252, 0.4247, 0.1426],\n",
       "        [0.0203, 0.0018, 0.0700, 0.0125, 0.0361, 0.8594]],\n",
       "       grad_fn=<SliceBackward0>)"
      ]
     },
     "execution_count": 24,
     "metadata": {},
     "output_type": "execute_result"
    }
   ],
   "source": [
    "att[0,:,0,:]"
   ]
  },
  {
   "cell_type": "code",
   "execution_count": null,
   "id": "c910abee",
   "metadata": {},
   "outputs": [],
   "source": []
  }
 ],
 "metadata": {
  "kernelspec": {
   "display_name": ".venv",
   "language": "python",
   "name": "python3"
  },
  "language_info": {
   "codemirror_mode": {
    "name": "ipython",
    "version": 3
   },
   "file_extension": ".py",
   "mimetype": "text/x-python",
   "name": "python",
   "nbconvert_exporter": "python",
   "pygments_lexer": "ipython3",
   "version": "3.12.10"
  }
 },
 "nbformat": 4,
 "nbformat_minor": 5
}
