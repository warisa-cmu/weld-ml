{
 "cells": [
  {
   "cell_type": "code",
   "execution_count": 18,
   "id": "56f181c8",
   "metadata": {},
   "outputs": [],
   "source": [
    "import torch\n",
    "from torch import nn\n",
    "from models import InterpretableMultiHeadAttention"
   ]
  },
  {
   "cell_type": "code",
   "execution_count": 19,
   "id": "3af48441",
   "metadata": {},
   "outputs": [],
   "source": [
    "ts_embedding_size = 8\n",
    "n_head = 4\n",
    "batch_size = 12\n",
    "number_features = 6\n",
    "\n",
    "att_layer = InterpretableMultiHeadAttention(\n",
    "    n_head=n_head, d_model=ts_embedding_size, dropout=0.5\n",
    ")"
   ]
  },
  {
   "cell_type": "code",
   "execution_count": 20,
   "id": "c03b8d1f",
   "metadata": {},
   "outputs": [
    {
     "name": "stdout",
     "output_type": "stream",
     "text": [
      "torch.Size([12, 6, 8])\n"
     ]
    }
   ],
   "source": [
    "x = torch.randn(batch_size, number_features, ts_embedding_size)\n",
    "print(x.shape)"
   ]
  },
  {
   "cell_type": "code",
   "execution_count": 21,
   "id": "9b854182",
   "metadata": {},
   "outputs": [
    {
     "name": "stdout",
     "output_type": "stream",
     "text": [
      "torch.Size([12, 6, 8])\n",
      "torch.Size([12, 6, 4, 6])\n"
     ]
    }
   ],
   "source": [
    "output, att = att_layer(x, x, x)\n",
    "print(output.shape)\n",
    "print(att.shape)"
   ]
  },
  {
   "cell_type": "code",
   "execution_count": 22,
   "id": "cc46a9ca",
   "metadata": {},
   "outputs": [
    {
     "data": {
      "text/plain": [
       "tensor([[0.1004, 0.1144, 0.0622, 0.2222, 0.3399, 0.1609],\n",
       "        [0.1868, 0.2069, 0.1125, 0.1671, 0.2055, 0.1213],\n",
       "        [0.2709, 0.3267, 0.0943, 0.1094, 0.1416, 0.0571],\n",
       "        [0.0945, 0.1131, 0.0469, 0.2225, 0.3834, 0.1397],\n",
       "        [0.0788, 0.0875, 0.0580, 0.2333, 0.3551, 0.1872],\n",
       "        [0.1196, 0.0808, 0.6350, 0.0382, 0.0131, 0.1133]],\n",
       "       grad_fn=<SliceBackward0>)"
      ]
     },
     "execution_count": 22,
     "metadata": {},
     "output_type": "execute_result"
    }
   ],
   "source": [
    "att[0, :, 0, :]"
   ]
  },
  {
   "cell_type": "code",
   "execution_count": 23,
   "id": "c910abee",
   "metadata": {},
   "outputs": [],
   "source": [
    "num_ts_features = 2\n",
    "ts_embedders = nn.ModuleList(\n",
    "    [nn.Linear(1, ts_embedding_size) for _ in range(num_ts_features)]\n",
    ")"
   ]
  },
  {
   "cell_type": "code",
   "execution_count": 24,
   "id": "82272be8",
   "metadata": {},
   "outputs": [
    {
     "name": "stdout",
     "output_type": "stream",
     "text": [
      "torch.Size([12, 100, 2])\n"
     ]
    },
    {
     "data": {
      "text/plain": [
       "torch.Size([12, 100, 16])"
      ]
     },
     "execution_count": 24,
     "metadata": {},
     "output_type": "execute_result"
    }
   ],
   "source": [
    "timesteps = 100\n",
    "x_ts = torch.randn(batch_size, timesteps, num_ts_features)\n",
    "print(x_ts.shape)\n",
    "output = torch.concat(\n",
    "    [\n",
    "        ts_embedders[i](x_ts[Ellipsis, i].unsqueeze(-1))\n",
    "        for i in range(0, num_ts_features)\n",
    "    ],\n",
    "    axis=-1,\n",
    ")\n",
    "output.shape"
   ]
  },
  {
   "cell_type": "code",
   "execution_count": 25,
   "id": "8a5b5385",
   "metadata": {},
   "outputs": [],
   "source": [
    "lstm_hidden_size = ts_embedding_size\n",
    "lstm = nn.LSTM(\n",
    "    input_size=16,\n",
    "    hidden_size=lstm_hidden_size,\n",
    "    num_layers=2,\n",
    "    batch_first=True,\n",
    "    dropout=0.5,\n",
    ")"
   ]
  },
  {
   "cell_type": "code",
   "execution_count": 26,
   "id": "abcdd84a",
   "metadata": {},
   "outputs": [
    {
     "name": "stdout",
     "output_type": "stream",
     "text": [
      "torch.Size([12, 100, 8])\n",
      "torch.Size([2, 12, 8])\n",
      "torch.Size([2, 12, 8])\n"
     ]
    }
   ],
   "source": [
    "output2, (hn, cn) = lstm(output)\n",
    "print(output2.shape)\n",
    "print(hn.shape)\n",
    "print(cn.shape)"
   ]
  },
  {
   "cell_type": "code",
   "execution_count": 27,
   "id": "450a5b9a",
   "metadata": {},
   "outputs": [],
   "source": [
    "emb = nn.Embedding(3, ts_embedding_size)"
   ]
  },
  {
   "cell_type": "code",
   "execution_count": 28,
   "id": "7c33c71c",
   "metadata": {},
   "outputs": [
    {
     "name": "stdout",
     "output_type": "stream",
     "text": [
      "torch.Size([12, 3])\n",
      "torch.Size([12, 3, 8])\n"
     ]
    }
   ],
   "source": [
    "num_output = 3\n",
    "dims = (batch_size, num_output)\n",
    "seeder = torch.zeros(dims, dtype=torch.long)\n",
    "for i in range(0, num_output):\n",
    "    seeder[:, i] = i\n",
    "print(seeder.shape)\n",
    "\n",
    "seeder_out = emb(seeder)\n",
    "print(seeder_out.shape)"
   ]
  },
  {
   "cell_type": "code",
   "execution_count": 29,
   "id": "81c0cb05",
   "metadata": {},
   "outputs": [
    {
     "name": "stdout",
     "output_type": "stream",
     "text": [
      "torch.Size([12, 103, 8])\n"
     ]
    }
   ],
   "source": [
    "attn_in = torch.concat([output2, seeder_out], axis=-2)\n",
    "print(attn_in.shape)"
   ]
  },
  {
   "cell_type": "code",
   "execution_count": 30,
   "id": "b3caed18",
   "metadata": {},
   "outputs": [
    {
     "name": "stdout",
     "output_type": "stream",
     "text": [
      "torch.Size([12, 103, 8])\n",
      "torch.Size([12, 103, 4, 103])\n"
     ]
    }
   ],
   "source": [
    "output3, attn = att_layer(attn_in, attn_in, attn_in)\n",
    "print(output3.shape)\n",
    "print(attn.shape)"
   ]
  },
  {
   "cell_type": "code",
   "execution_count": 31,
   "id": "cbdb69c6",
   "metadata": {},
   "outputs": [
    {
     "name": "stdout",
     "output_type": "stream",
     "text": [
      "torch.Size([12, 3, 8])\n"
     ]
    }
   ],
   "source": [
    "output4 = output3[:, -3:, :]\n",
    "print(output4.shape)\n",
    "output = output4"
   ]
  },
  {
   "cell_type": "code",
   "execution_count": 32,
   "id": "c5704fe0",
   "metadata": {},
   "outputs": [],
   "source": [
    "mlps_ts = nn.ModuleList(\n",
    "    [\n",
    "        nn.Sequential(\n",
    "            nn.Linear(ts_embedding_size, 64),\n",
    "            nn.ReLU(),\n",
    "            nn.Linear(64, 32),\n",
    "            nn.ReLU(),\n",
    "        )\n",
    "        for _ in range(0, num_output)\n",
    "    ]\n",
    ")"
   ]
  },
  {
   "cell_type": "code",
   "execution_count": 33,
   "id": "0b98b1a4",
   "metadata": {},
   "outputs": [],
   "source": [
    "num_tabular_features = 3\n",
    "mlp_tab = nn.Sequential(\n",
    "            nn.Linear(num_tabular_features, 64),\n",
    "            nn.ReLU(),\n",
    "            nn.Linear(64, 32),\n",
    "            nn.ReLU(),\n",
    "        )"
   ]
  },
  {
   "cell_type": "code",
   "execution_count": 34,
   "id": "6aaea287",
   "metadata": {},
   "outputs": [],
   "source": [
    "regs = nn.ModuleList(\n",
    "            [\n",
    "                nn.Sequential(nn.Linear(64, 128), nn.ReLU(), nn.Linear(128, 1))\n",
    "                for _ in range(0, num_output)\n",
    "            ]\n",
    "        )"
   ]
  },
  {
   "cell_type": "code",
   "execution_count": 35,
   "id": "65546332",
   "metadata": {},
   "outputs": [
    {
     "name": "stdout",
     "output_type": "stream",
     "text": [
      "torch.Size([12, 3])\n"
     ]
    }
   ],
   "source": [
    "x_tab = torch.rand(batch_size, num_tabular_features)\n",
    "print(x_tab.shape)"
   ]
  },
  {
   "cell_type": "code",
   "execution_count": 36,
   "id": "30b8708a",
   "metadata": {},
   "outputs": [
    {
     "name": "stdout",
     "output_type": "stream",
     "text": [
      "torch.Size([12, 32])\n"
     ]
    }
   ],
   "source": [
    "out_tab = mlp_tab(x_tab)\n",
    "print(out_tab.shape)"
   ]
  },
  {
   "cell_type": "code",
   "execution_count": 37,
   "id": "7a1f6437",
   "metadata": {},
   "outputs": [
    {
     "name": "stdout",
     "output_type": "stream",
     "text": [
      "torch.Size([12, 32])\n"
     ]
    }
   ],
   "source": [
    "out_ts = mlps_ts[0](output[:, 0, :])\n",
    "print(out_ts.shape)"
   ]
  },
  {
   "cell_type": "code",
   "execution_count": 38,
   "id": "bdb1daa4",
   "metadata": {},
   "outputs": [
    {
     "name": "stdout",
     "output_type": "stream",
     "text": [
      "torch.Size([12, 64])\n"
     ]
    }
   ],
   "source": [
    "comb = torch.concat((out_tab, out_ts), dim=1)\n",
    "print(comb.shape)"
   ]
  },
  {
   "cell_type": "code",
   "execution_count": 39,
   "id": "8a06329e",
   "metadata": {},
   "outputs": [
    {
     "name": "stdout",
     "output_type": "stream",
     "text": [
      "torch.Size([12, 1])\n"
     ]
    }
   ],
   "source": [
    "out = regs[0](comb)\n",
    "print(out.shape)"
   ]
  },
  {
   "cell_type": "code",
   "execution_count": 40,
   "id": "70a2b699",
   "metadata": {},
   "outputs": [
    {
     "data": {
      "text/plain": [
       "tensor([[-0.0162, -0.0162, -0.0162],\n",
       "        [-0.0039, -0.0039, -0.0039],\n",
       "        [ 0.0034,  0.0034,  0.0034],\n",
       "        [-0.0083, -0.0083, -0.0083],\n",
       "        [-0.0100, -0.0100, -0.0100],\n",
       "        [-0.0018, -0.0018, -0.0018],\n",
       "        [-0.0049, -0.0049, -0.0049],\n",
       "        [ 0.0074,  0.0074,  0.0074],\n",
       "        [-0.0004, -0.0004, -0.0004],\n",
       "        [-0.0076, -0.0076, -0.0076],\n",
       "        [ 0.0063,  0.0063,  0.0063],\n",
       "        [ 0.0054,  0.0054,  0.0054]], grad_fn=<CatBackward0>)"
      ]
     },
     "execution_count": 40,
     "metadata": {},
     "output_type": "execute_result"
    }
   ],
   "source": [
    "torch.concat([out,out,out], dim=1)"
   ]
  },
  {
   "cell_type": "code",
   "execution_count": null,
   "id": "3233858a",
   "metadata": {},
   "outputs": [],
   "source": []
  }
 ],
 "metadata": {
  "kernelspec": {
   "display_name": ".venv",
   "language": "python",
   "name": "python3"
  },
  "language_info": {
   "codemirror_mode": {
    "name": "ipython",
    "version": 3
   },
   "file_extension": ".py",
   "mimetype": "text/x-python",
   "name": "python",
   "nbconvert_exporter": "python",
   "pygments_lexer": "ipython3",
   "version": "3.12.10"
  }
 },
 "nbformat": 4,
 "nbformat_minor": 5
}
