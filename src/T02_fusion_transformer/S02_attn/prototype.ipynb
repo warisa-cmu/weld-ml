{
 "cells": [
  {
   "cell_type": "code",
   "execution_count": 212,
   "id": "56f181c8",
   "metadata": {},
   "outputs": [],
   "source": [
    "import torch\n",
    "from torch import nn\n",
    "from models import InterpretableMultiHeadAttention"
   ]
  },
  {
   "cell_type": "code",
   "execution_count": 213,
   "id": "3af48441",
   "metadata": {},
   "outputs": [],
   "source": [
    "ts_embedding_size = 8\n",
    "n_head = 4\n",
    "batch_size = 12\n",
    "number_features = 6\n",
    "\n",
    "att_layer = InterpretableMultiHeadAttention(\n",
    "    n_head=n_head, d_model=ts_embedding_size, dropout=0.5\n",
    ")"
   ]
  },
  {
   "cell_type": "code",
   "execution_count": 214,
   "id": "c03b8d1f",
   "metadata": {},
   "outputs": [
    {
     "name": "stdout",
     "output_type": "stream",
     "text": [
      "torch.Size([12, 6, 8])\n"
     ]
    }
   ],
   "source": [
    "x = torch.randn(batch_size, number_features, ts_embedding_size)\n",
    "print(x.shape)"
   ]
  },
  {
   "cell_type": "code",
   "execution_count": 215,
   "id": "9b854182",
   "metadata": {},
   "outputs": [
    {
     "name": "stdout",
     "output_type": "stream",
     "text": [
      "torch.Size([12, 6, 8])\n",
      "torch.Size([12, 6, 4, 6])\n"
     ]
    }
   ],
   "source": [
    "output, att = att_layer(x, x, x)\n",
    "print(output.shape)\n",
    "print(att.shape)"
   ]
  },
  {
   "cell_type": "code",
   "execution_count": 216,
   "id": "cc46a9ca",
   "metadata": {},
   "outputs": [
    {
     "data": {
      "text/plain": [
       "tensor([[0.0836, 0.2742, 0.1204, 0.0922, 0.3247, 0.1049],\n",
       "        [0.1619, 0.2253, 0.2448, 0.0971, 0.2617, 0.0093],\n",
       "        [0.0784, 0.2437, 0.1030, 0.0980, 0.2793, 0.1975],\n",
       "        [0.0947, 0.1163, 0.0855, 0.1280, 0.1134, 0.4620],\n",
       "        [0.1190, 0.1641, 0.1203, 0.1421, 0.1668, 0.2876],\n",
       "        [0.2248, 0.1342, 0.2038, 0.1942, 0.1273, 0.1157]],\n",
       "       grad_fn=<SliceBackward0>)"
      ]
     },
     "execution_count": 216,
     "metadata": {},
     "output_type": "execute_result"
    }
   ],
   "source": [
    "att[0, :, 0, :]"
   ]
  },
  {
   "cell_type": "code",
   "execution_count": 217,
   "id": "c910abee",
   "metadata": {},
   "outputs": [],
   "source": [
    "num_ts_features = 2\n",
    "ts_embedders = nn.ModuleList(\n",
    "    [nn.Linear(1, ts_embedding_size) for _ in range(num_ts_features)]\n",
    ")"
   ]
  },
  {
   "cell_type": "code",
   "execution_count": 218,
   "id": "82272be8",
   "metadata": {},
   "outputs": [
    {
     "name": "stdout",
     "output_type": "stream",
     "text": [
      "torch.Size([12, 100, 2])\n"
     ]
    },
    {
     "data": {
      "text/plain": [
       "torch.Size([12, 100, 16])"
      ]
     },
     "execution_count": 218,
     "metadata": {},
     "output_type": "execute_result"
    }
   ],
   "source": [
    "timesteps = 100\n",
    "x_ts = torch.randn(batch_size, timesteps, num_ts_features)\n",
    "print(x_ts.shape)\n",
    "output = torch.concat(\n",
    "    [\n",
    "        ts_embedders[i](x_ts[Ellipsis, i].unsqueeze(-1))\n",
    "        for i in range(0, num_ts_features)\n",
    "    ],\n",
    "    axis=-1,\n",
    ")\n",
    "output.shape"
   ]
  },
  {
   "cell_type": "code",
   "execution_count": 219,
   "id": "8a5b5385",
   "metadata": {},
   "outputs": [],
   "source": [
    "lstm_hidden_size = ts_embedding_size\n",
    "lstm = nn.LSTM(\n",
    "    input_size=16,\n",
    "    hidden_size=lstm_hidden_size,\n",
    "    num_layers=2,\n",
    "    batch_first=True,\n",
    "    dropout=0.5,\n",
    ")"
   ]
  },
  {
   "cell_type": "code",
   "execution_count": 220,
   "id": "abcdd84a",
   "metadata": {},
   "outputs": [
    {
     "name": "stdout",
     "output_type": "stream",
     "text": [
      "torch.Size([12, 100, 8])\n",
      "torch.Size([2, 12, 8])\n",
      "torch.Size([2, 12, 8])\n"
     ]
    }
   ],
   "source": [
    "output2, (hn, cn) = lstm(output)\n",
    "print(output2.shape)\n",
    "print(hn.shape)\n",
    "print(cn.shape)"
   ]
  },
  {
   "cell_type": "code",
   "execution_count": 221,
   "id": "450a5b9a",
   "metadata": {},
   "outputs": [],
   "source": [
    "emb = nn.Embedding(3, ts_embedding_size)"
   ]
  },
  {
   "cell_type": "code",
   "execution_count": 222,
   "id": "7c33c71c",
   "metadata": {},
   "outputs": [
    {
     "name": "stdout",
     "output_type": "stream",
     "text": [
      "torch.Size([12, 3])\n",
      "torch.Size([12, 3, 8])\n"
     ]
    }
   ],
   "source": [
    "num_output = 3\n",
    "dims = (batch_size, num_output)\n",
    "seeder = torch.zeros(dims, dtype=torch.long)\n",
    "for i in range(0, num_output):\n",
    "    seeder[:, i] = i\n",
    "print(seeder.shape)\n",
    "\n",
    "seeder_out = emb(seeder)\n",
    "print(seeder_out.shape)"
   ]
  },
  {
   "cell_type": "code",
   "execution_count": 223,
   "id": "81c0cb05",
   "metadata": {},
   "outputs": [
    {
     "name": "stdout",
     "output_type": "stream",
     "text": [
      "torch.Size([12, 103, 8])\n"
     ]
    }
   ],
   "source": [
    "attn_in = torch.concat([output2, seeder_out], axis=-2)\n",
    "print(attn_in.shape)"
   ]
  },
  {
   "cell_type": "code",
   "execution_count": 224,
   "id": "b3caed18",
   "metadata": {},
   "outputs": [
    {
     "name": "stdout",
     "output_type": "stream",
     "text": [
      "torch.Size([12, 103, 8])\n",
      "torch.Size([12, 103, 4, 103])\n"
     ]
    }
   ],
   "source": [
    "output3, attn = att_layer(attn_in, attn_in, attn_in)\n",
    "print(output3.shape)\n",
    "print(attn.shape)"
   ]
  },
  {
   "cell_type": "code",
   "execution_count": 225,
   "id": "cbdb69c6",
   "metadata": {},
   "outputs": [
    {
     "name": "stdout",
     "output_type": "stream",
     "text": [
      "torch.Size([12, 3, 8])\n"
     ]
    }
   ],
   "source": [
    "output4 = output3[:, -3:, :]\n",
    "print(output4.shape)\n",
    "output = output4"
   ]
  },
  {
   "cell_type": "code",
   "execution_count": 226,
   "id": "c5704fe0",
   "metadata": {},
   "outputs": [],
   "source": [
    "mlps_ts = nn.ModuleList(\n",
    "    [\n",
    "        nn.Sequential(\n",
    "            nn.Linear(ts_embedding_size, 64),\n",
    "            nn.ReLU(),\n",
    "            nn.Linear(64, 32),\n",
    "            nn.ReLU(),\n",
    "        )\n",
    "        for _ in range(0, num_output)\n",
    "    ]\n",
    ")"
   ]
  },
  {
   "cell_type": "code",
   "execution_count": 227,
   "id": "0b98b1a4",
   "metadata": {},
   "outputs": [],
   "source": [
    "num_tabular_features = 3\n",
    "mlp_tab = nn.Sequential(\n",
    "            nn.Linear(num_tabular_features, 64),\n",
    "            nn.ReLU(),\n",
    "            nn.Linear(64, 32),\n",
    "            nn.ReLU(),\n",
    "        )"
   ]
  },
  {
   "cell_type": "code",
   "execution_count": 228,
   "id": "6aaea287",
   "metadata": {},
   "outputs": [],
   "source": [
    "regs = nn.ModuleList(\n",
    "            [\n",
    "                nn.Sequential(nn.Linear(64, 128), nn.ReLU(), nn.Linear(128, 1))\n",
    "                for _ in range(0, num_output)\n",
    "            ]\n",
    "        )"
   ]
  },
  {
   "cell_type": "code",
   "execution_count": 229,
   "id": "65546332",
   "metadata": {},
   "outputs": [
    {
     "name": "stdout",
     "output_type": "stream",
     "text": [
      "torch.Size([12, 3])\n"
     ]
    }
   ],
   "source": [
    "x_tab = torch.rand(batch_size, num_tabular_features)\n",
    "print(x_tab.shape)"
   ]
  },
  {
   "cell_type": "code",
   "execution_count": 230,
   "id": "30b8708a",
   "metadata": {},
   "outputs": [
    {
     "name": "stdout",
     "output_type": "stream",
     "text": [
      "torch.Size([12, 32])\n"
     ]
    }
   ],
   "source": [
    "out_tab = mlp_tab(x_tab)\n",
    "print(out_tab.shape)"
   ]
  },
  {
   "cell_type": "code",
   "execution_count": 231,
   "id": "7a1f6437",
   "metadata": {},
   "outputs": [
    {
     "name": "stdout",
     "output_type": "stream",
     "text": [
      "torch.Size([12, 32])\n"
     ]
    }
   ],
   "source": [
    "out_ts = mlps_ts[0](output[:, 0, :])\n",
    "print(out_ts.shape)"
   ]
  },
  {
   "cell_type": "code",
   "execution_count": 232,
   "id": "bdb1daa4",
   "metadata": {},
   "outputs": [
    {
     "name": "stdout",
     "output_type": "stream",
     "text": [
      "torch.Size([12, 64])\n"
     ]
    }
   ],
   "source": [
    "comb = torch.concat((out_tab, out_ts), dim=1)\n",
    "print(comb.shape)"
   ]
  },
  {
   "cell_type": "code",
   "execution_count": 234,
   "id": "8a06329e",
   "metadata": {},
   "outputs": [
    {
     "name": "stdout",
     "output_type": "stream",
     "text": [
      "torch.Size([12, 1])\n"
     ]
    }
   ],
   "source": [
    "out = regs[0](comb)\n",
    "print(out.shape)"
   ]
  },
  {
   "cell_type": "code",
   "execution_count": null,
   "id": "70a2b699",
   "metadata": {},
   "outputs": [
    {
     "data": {
      "text/plain": [
       "tensor([[-0.0558, -0.0558, -0.0558],\n",
       "        [-0.0617, -0.0617, -0.0617],\n",
       "        [-0.0491, -0.0491, -0.0491],\n",
       "        [-0.0562, -0.0562, -0.0562],\n",
       "        [-0.0495, -0.0495, -0.0495],\n",
       "        [-0.0198, -0.0198, -0.0198],\n",
       "        [-0.0313, -0.0313, -0.0313],\n",
       "        [-0.0325, -0.0325, -0.0325],\n",
       "        [-0.0538, -0.0538, -0.0538],\n",
       "        [-0.0289, -0.0289, -0.0289],\n",
       "        [-0.0378, -0.0378, -0.0378],\n",
       "        [-0.0182, -0.0182, -0.0182]], grad_fn=<SqueezeBackward1>)"
      ]
     },
     "execution_count": 239,
     "metadata": {},
     "output_type": "execute_result"
    }
   ],
   "source": [
    "torch.concat([out,out,out], dim=1)"
   ]
  },
  {
   "cell_type": "code",
   "execution_count": null,
   "id": "3233858a",
   "metadata": {},
   "outputs": [],
   "source": []
  }
 ],
 "metadata": {
  "kernelspec": {
   "display_name": ".venv",
   "language": "python",
   "name": "python3"
  },
  "language_info": {
   "codemirror_mode": {
    "name": "ipython",
    "version": 3
   },
   "file_extension": ".py",
   "mimetype": "text/x-python",
   "name": "python",
   "nbconvert_exporter": "python",
   "pygments_lexer": "ipython3",
   "version": "3.12.10"
  }
 },
 "nbformat": 4,
 "nbformat_minor": 5
}
