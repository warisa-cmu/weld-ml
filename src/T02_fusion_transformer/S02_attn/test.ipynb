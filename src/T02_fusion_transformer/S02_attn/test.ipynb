{
 "cells": [
  {
   "cell_type": "code",
   "execution_count": 10,
   "id": "8533ea40",
   "metadata": {},
   "outputs": [],
   "source": [
    "import torch\n",
    "from models import MyModel_Attn as MyModel"
   ]
  },
  {
   "cell_type": "code",
   "execution_count": 11,
   "id": "c359adb4",
   "metadata": {},
   "outputs": [],
   "source": [
    "tab_num_features = 3\n",
    "ts_embedding_size = 8\n",
    "ts_num_features = 2\n",
    "lstm_num_layers = 2\n",
    "lstm_dropout = 0.5\n",
    "attn_n_head = 4\n",
    "num_output = 3\n",
    "\n",
    "# Initialize model\n",
    "model = MyModel(\n",
    "    tab_num_features=tab_num_features,\n",
    "    ts_embedding_size=ts_embedding_size,\n",
    "    ts_num_features=ts_num_features,\n",
    "    lstm_num_layers=lstm_num_layers,\n",
    "    lstm_dropout=lstm_dropout,\n",
    "    attn_n_head=attn_n_head,\n",
    "    num_output=num_output,\n",
    ")"
   ]
  },
  {
   "cell_type": "code",
   "execution_count": 12,
   "id": "6faa3503",
   "metadata": {},
   "outputs": [
    {
     "name": "stdout",
     "output_type": "stream",
     "text": [
      "torch.Size([32, 100, 2])\n",
      "torch.Size([32, 3])\n",
      "torch.Size([32, 3, 1])\n"
     ]
    }
   ],
   "source": [
    "batch_size = 32\n",
    "timesteps = 100\n",
    "x_ts = torch.randn(batch_size, timesteps, ts_num_features)\n",
    "x_tab = torch.randn(batch_size, tab_num_features)\n",
    "x_future = torch.zeros((batch_size, num_output,1), dtype=torch.float)\n",
    "for i in range(0, num_output):\n",
    "    x_future[:, i, 0] = i\n",
    "    \n",
    "print(x_ts.shape)\n",
    "print(x_tab.shape)\n",
    "print(x_future.shape)"
   ]
  },
  {
   "cell_type": "code",
   "execution_count": 13,
   "id": "1b6f6507",
   "metadata": {},
   "outputs": [
    {
     "data": {
      "text/plain": [
       "===============================================================================================\n",
       "Layer (type:depth-idx)                        Output Shape              Param #\n",
       "===============================================================================================\n",
       "MyModel_Attn                                  [32, 3]                   --\n",
       "├─NumericalEmbedder: 1-1                      [32, 1, 24]               --\n",
       "│    └─ModuleList: 2-2                        --                        (recursive)\n",
       "│    │    └─Linear: 3-1                       [32, 1, 8]                16\n",
       "│    │    └─Linear: 3-2                       [32, 1, 8]                16\n",
       "│    │    └─Linear: 3-3                       [32, 1, 8]                16\n",
       "├─NumericalEmbedder: 1-2                      [32, 1, 24]               (recursive)\n",
       "│    └─ModuleList: 2-2                        --                        (recursive)\n",
       "│    │    └─Linear: 3-4                       [32, 1, 8]                (recursive)\n",
       "│    │    └─Linear: 3-5                       [32, 1, 8]                (recursive)\n",
       "│    │    └─Linear: 3-6                       [32, 1, 8]                (recursive)\n",
       "├─Sequential: 1-3                             [32, 1, 16]               --\n",
       "│    └─Linear: 2-3                            [32, 1, 64]               1,600\n",
       "│    └─ReLU: 2-4                              [32, 1, 64]               --\n",
       "│    └─Linear: 2-5                            [32, 1, 32]               2,080\n",
       "│    └─ReLU: 2-6                              [32, 1, 32]               --\n",
       "│    └─Linear: 2-7                            [32, 1, 16]               528\n",
       "├─NumericalEmbedder: 1-4                      [32, 100, 16]             --\n",
       "│    └─ModuleList: 2-8                        --                        --\n",
       "│    │    └─Linear: 3-7                       [32, 100, 8]              16\n",
       "│    │    └─Linear: 3-8                       [32, 100, 8]              16\n",
       "├─LSTM: 1-5                                   [32, 100, 8]              1,408\n",
       "├─NumericalEmbedder: 1-6                      [32, 3, 8]                --\n",
       "│    └─ModuleList: 2-9                        --                        --\n",
       "│    │    └─Linear: 3-9                       [32, 3, 8]                16\n",
       "├─LSTM: 1-7                                   [32, 3, 8]                1,152\n",
       "├─LayerNorm: 1-8                              [32, 103, 8]              16\n",
       "├─InterpretableMultiHeadAttention: 1-9        [32, 103, 8]              --\n",
       "│    └─ModuleList: 2-25                       --                        (recursive)\n",
       "│    │    └─Linear: 3-10                      [32, 103, 2]              16\n",
       "│    └─ModuleList: 2-26                       --                        (recursive)\n",
       "│    │    └─Linear: 3-11                      [32, 103, 2]              16\n",
       "│    └─ModuleList: 2-27                       --                        (recursive)\n",
       "│    │    └─Linear: 3-12                      [32, 103, 2]              16\n",
       "│    └─ScaledDotProductAttention: 2-13        [32, 103, 2]              --\n",
       "│    │    └─Softmax: 3-13                     [32, 103, 103]            --\n",
       "│    │    └─Dropout: 3-14                     [32, 103, 103]            --\n",
       "│    └─Dropout: 2-14                          [32, 103, 2]              --\n",
       "│    └─ModuleList: 2-25                       --                        (recursive)\n",
       "│    │    └─Linear: 3-15                      [32, 103, 2]              16\n",
       "│    └─ModuleList: 2-26                       --                        (recursive)\n",
       "│    │    └─Linear: 3-16                      [32, 103, 2]              16\n",
       "│    └─ModuleList: 2-27                       --                        (recursive)\n",
       "│    │    └─Linear: 3-17                      [32, 103, 2]              (recursive)\n",
       "│    └─ScaledDotProductAttention: 2-18        [32, 103, 2]              --\n",
       "│    │    └─Softmax: 3-18                     [32, 103, 103]            --\n",
       "│    │    └─Dropout: 3-19                     [32, 103, 103]            --\n",
       "│    └─Dropout: 2-19                          [32, 103, 2]              --\n",
       "│    └─ModuleList: 2-25                       --                        (recursive)\n",
       "│    │    └─Linear: 3-20                      [32, 103, 2]              16\n",
       "│    └─ModuleList: 2-26                       --                        (recursive)\n",
       "│    │    └─Linear: 3-21                      [32, 103, 2]              16\n",
       "│    └─ModuleList: 2-27                       --                        (recursive)\n",
       "│    │    └─Linear: 3-22                      [32, 103, 2]              (recursive)\n",
       "│    └─ScaledDotProductAttention: 2-23        [32, 103, 2]              --\n",
       "│    │    └─Softmax: 3-23                     [32, 103, 103]            --\n",
       "│    │    └─Dropout: 3-24                     [32, 103, 103]            --\n",
       "│    └─Dropout: 2-24                          [32, 103, 2]              --\n",
       "│    └─ModuleList: 2-25                       --                        (recursive)\n",
       "│    │    └─Linear: 3-25                      [32, 103, 2]              16\n",
       "│    └─ModuleList: 2-26                       --                        (recursive)\n",
       "│    │    └─Linear: 3-26                      [32, 103, 2]              16\n",
       "│    └─ModuleList: 2-27                       --                        (recursive)\n",
       "│    │    └─Linear: 3-27                      [32, 103, 2]              (recursive)\n",
       "│    └─ScaledDotProductAttention: 2-28        [32, 103, 2]              --\n",
       "│    │    └─Softmax: 3-28                     [32, 103, 103]            --\n",
       "│    │    └─Dropout: 3-29                     [32, 103, 103]            --\n",
       "│    └─Dropout: 2-29                          [32, 103, 2]              --\n",
       "│    └─Linear: 2-30                           [32, 103, 8]              16\n",
       "│    └─Dropout: 2-31                          [32, 103, 8]              --\n",
       "├─Sequential: 1-10                            [32, 3]                   --\n",
       "│    └─Linear: 2-32                           [32, 64]                  1,600\n",
       "│    └─ReLU: 2-33                             [32, 64]                  --\n",
       "│    └─Linear: 2-34                           [32, 32]                  2,080\n",
       "│    └─ReLU: 2-35                             [32, 32]                  --\n",
       "│    └─Linear: 2-36                           [32, 3]                   99\n",
       "===============================================================================================\n",
       "Total params: 10,819\n",
       "Trainable params: 10,819\n",
       "Non-trainable params: 0\n",
       "Total mult-adds (Units.MEGABYTES): 4.88\n",
       "===============================================================================================\n",
       "Input size (MB): 0.03\n",
       "Forward/backward pass size (MB): 1.75\n",
       "Params size (MB): 0.04\n",
       "Estimated Total Size (MB): 1.82\n",
       "==============================================================================================="
      ]
     },
     "execution_count": 13,
     "metadata": {},
     "output_type": "execute_result"
    }
   ],
   "source": [
    "from torchinfo import summary\n",
    "input_size = [x_tab.shape, x_ts.shape, x_future.shape]\n",
    "summary(model, input_size, verbose=0)"
   ]
  },
  {
   "cell_type": "code",
   "execution_count": 14,
   "id": "f170353d",
   "metadata": {},
   "outputs": [
    {
     "data": {
      "text/plain": [
       "'Digraph.gv.pdf'"
      ]
     },
     "execution_count": 14,
     "metadata": {},
     "output_type": "execute_result"
    }
   ],
   "source": [
    "from torchviz import make_dot\n",
    "\n",
    "Y_sample = model(x_tab, x_ts, x_future)\n",
    "make_dot(Y_sample, params=dict(model.named_parameters())).render()"
   ]
  },
  {
   "cell_type": "code",
   "execution_count": 61,
   "id": "52f2741a",
   "metadata": {},
   "outputs": [
    {
     "name": "stdout",
     "output_type": "stream",
     "text": [
      "torch.Size([32, 3])\n",
      "torch.Size([32, 103, 4, 103])\n"
     ]
    }
   ],
   "source": [
    "model.eval()\n",
    "output, attn = model(x_ts=x_ts, x_future=x_future, x_tab=x_tab)\n",
    "print(output.shape)\n",
    "print(attn.shape)\n"
   ]
  },
  {
   "cell_type": "code",
   "execution_count": 62,
   "id": "d6aa9bd3",
   "metadata": {},
   "outputs": [
    {
     "data": {
      "text/plain": [
       "tensor([[ 0.0251, -0.2303,  0.0359],\n",
       "        [ 0.0240, -0.2327,  0.0380],\n",
       "        [ 0.0189, -0.2257,  0.0395],\n",
       "        [ 0.0183, -0.2299,  0.0415],\n",
       "        [ 0.0239, -0.2251,  0.0347],\n",
       "        [ 0.0249, -0.2310,  0.0365],\n",
       "        [ 0.0256, -0.2267,  0.0336],\n",
       "        [ 0.0210, -0.2292,  0.0391],\n",
       "        [ 0.0164, -0.2298,  0.0430],\n",
       "        [ 0.0234, -0.2300,  0.0375],\n",
       "        [ 0.0173, -0.2299,  0.0421],\n",
       "        [ 0.0254, -0.2290,  0.0352],\n",
       "        [ 0.0204, -0.2283,  0.0391],\n",
       "        [ 0.0174, -0.2350,  0.0439],\n",
       "        [ 0.0204, -0.2275,  0.0385],\n",
       "        [ 0.0162, -0.2307,  0.0437],\n",
       "        [ 0.0231, -0.2268,  0.0361],\n",
       "        [ 0.0258, -0.2289,  0.0349],\n",
       "        [ 0.0223, -0.2286,  0.0373],\n",
       "        [ 0.0140, -0.2334,  0.0468],\n",
       "        [ 0.0267, -0.2267,  0.0326],\n",
       "        [ 0.0184, -0.2265,  0.0401],\n",
       "        [ 0.0244, -0.2278,  0.0355],\n",
       "        [ 0.0218, -0.2316,  0.0393],\n",
       "        [ 0.0220, -0.2265,  0.0371],\n",
       "        [ 0.0192, -0.2272,  0.0396],\n",
       "        [ 0.0190, -0.2298,  0.0406],\n",
       "        [ 0.0135, -0.2330,  0.0473],\n",
       "        [ 0.0224, -0.2293,  0.0379],\n",
       "        [ 0.0221, -0.2294,  0.0382],\n",
       "        [ 0.0251, -0.2289,  0.0353],\n",
       "        [ 0.0182, -0.2304,  0.0417]], grad_fn=<AddmmBackward0>)"
      ]
     },
     "execution_count": 62,
     "metadata": {},
     "output_type": "execute_result"
    }
   ],
   "source": [
    "output"
   ]
  },
  {
   "cell_type": "code",
   "execution_count": null,
   "id": "7becaf36",
   "metadata": {},
   "outputs": [],
   "source": []
  }
 ],
 "metadata": {
  "kernelspec": {
   "display_name": ".venv",
   "language": "python",
   "name": "python3"
  },
  "language_info": {
   "codemirror_mode": {
    "name": "ipython",
    "version": 3
   },
   "file_extension": ".py",
   "mimetype": "text/x-python",
   "name": "python",
   "nbconvert_exporter": "python",
   "pygments_lexer": "ipython3",
   "version": "3.12.10"
  }
 },
 "nbformat": 4,
 "nbformat_minor": 5
}
