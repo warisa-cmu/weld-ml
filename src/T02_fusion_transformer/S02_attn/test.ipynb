{
 "cells": [
  {
   "cell_type": "code",
   "execution_count": 16,
   "id": "8533ea40",
   "metadata": {},
   "outputs": [],
   "source": [
    "import torch\n",
    "from torch import nn\n",
    "from models import MyModel_Attn as MyModel"
   ]
  },
  {
   "cell_type": "code",
   "execution_count": 17,
   "id": "c359adb4",
   "metadata": {},
   "outputs": [],
   "source": [
    "num_tabular_features = 3\n",
    "ts_embedding_size = 16\n",
    "num_ts_features = 1\n",
    "lstm_num_layers = 2\n",
    "lstm_dropout = 0.5\n",
    "attn_n_head = 4\n",
    "num_output = 3\n",
    "\n",
    "model = MyModel(\n",
    "    num_tabular_features=num_tabular_features,\n",
    "    ts_embedding_size=ts_embedding_size,\n",
    "    num_ts_features=num_ts_features,\n",
    "    lstm_num_layers=lstm_num_layers,\n",
    "    lstm_dropout=lstm_dropout,\n",
    "    attn_n_head=attn_n_head,\n",
    "    num_output=num_output\n",
    ")"
   ]
  },
  {
   "cell_type": "code",
   "execution_count": 18,
   "id": "6faa3503",
   "metadata": {},
   "outputs": [
    {
     "name": "stdout",
     "output_type": "stream",
     "text": [
      "torch.Size([32, 100, 1])\n",
      "torch.Size([32, 3])\n",
      "torch.Size([32, 3])\n"
     ]
    }
   ],
   "source": [
    "batch_size = 32\n",
    "timesteps = 100\n",
    "x_ts = torch.randn(batch_size, timesteps, num_ts_features)\n",
    "x_tab = torch.randn(batch_size, num_tabular_features)\n",
    "x_seeder = torch.zeros((batch_size, num_output), dtype=torch.long)\n",
    "for i in range(0, num_output):\n",
    "    x_seeder[:, i] = i\n",
    "    \n",
    "print(x_ts.shape)\n",
    "print(x_tab.shape)\n",
    "print(x_seeder.shape)"
   ]
  },
  {
   "cell_type": "code",
   "execution_count": 19,
   "id": "52f2741a",
   "metadata": {},
   "outputs": [
    {
     "name": "stdout",
     "output_type": "stream",
     "text": [
      "torch.Size([32, 3])\n",
      "torch.Size([32, 103, 4, 103])\n"
     ]
    }
   ],
   "source": [
    "output, attn = model(x_ts=x_ts, x_seeder=x_seeder, x_tab=x_tab)\n",
    "print(output.shape)\n",
    "print(attn.shape)\n"
   ]
  },
  {
   "cell_type": "code",
   "execution_count": 20,
   "id": "d6aa9bd3",
   "metadata": {},
   "outputs": [
    {
     "data": {
      "text/plain": [
       "tensor([[-0.0060, -0.1097, -0.0272],\n",
       "        [ 0.0196, -0.0851,  0.0275],\n",
       "        [-0.0063, -0.0730,  0.0138],\n",
       "        [ 0.0339, -0.1085, -0.0322],\n",
       "        [ 0.0028, -0.1241, -0.0213],\n",
       "        [ 0.0153, -0.1713, -0.0423],\n",
       "        [-0.0242, -0.0676, -0.0193],\n",
       "        [ 0.0165, -0.0933, -0.0358],\n",
       "        [ 0.0457, -0.0833,  0.0804],\n",
       "        [ 0.0047, -0.0907, -0.0672],\n",
       "        [ 0.0105, -0.1169, -0.0459],\n",
       "        [ 0.0268, -0.0489, -0.0451],\n",
       "        [-0.0163, -0.0985, -0.0218],\n",
       "        [-0.0202, -0.1005,  0.0639],\n",
       "        [ 0.0358, -0.0544, -0.0329],\n",
       "        [ 0.0042, -0.0984, -0.0166],\n",
       "        [-0.0224, -0.0889, -0.0055],\n",
       "        [ 0.0299, -0.1034, -0.0537],\n",
       "        [ 0.0208, -0.0393,  0.0060],\n",
       "        [-0.0401, -0.0786,  0.0224],\n",
       "        [ 0.0041, -0.0877, -0.0592],\n",
       "        [ 0.0393, -0.0989, -0.0457],\n",
       "        [ 0.0294, -0.0785, -0.0792],\n",
       "        [-0.0028, -0.0707, -0.0672],\n",
       "        [ 0.0266, -0.0363, -0.0282],\n",
       "        [ 0.0059, -0.0813, -0.0646],\n",
       "        [ 0.0018, -0.0907, -0.0381],\n",
       "        [ 0.0264, -0.0064,  0.0442],\n",
       "        [ 0.0534, -0.0696,  0.0172],\n",
       "        [ 0.0094, -0.0769, -0.0360],\n",
       "        [ 0.0414, -0.0621,  0.0047],\n",
       "        [ 0.0130, -0.0772, -0.0612]], grad_fn=<AddmmBackward0>)"
      ]
     },
     "execution_count": 20,
     "metadata": {},
     "output_type": "execute_result"
    }
   ],
   "source": [
    "output"
   ]
  },
  {
   "cell_type": "code",
   "execution_count": null,
   "id": "7becaf36",
   "metadata": {},
   "outputs": [],
   "source": []
  }
 ],
 "metadata": {
  "kernelspec": {
   "display_name": ".venv",
   "language": "python",
   "name": "python3"
  },
  "language_info": {
   "codemirror_mode": {
    "name": "ipython",
    "version": 3
   },
   "file_extension": ".py",
   "mimetype": "text/x-python",
   "name": "python",
   "nbconvert_exporter": "python",
   "pygments_lexer": "ipython3",
   "version": "3.12.10"
  }
 },
 "nbformat": 4,
 "nbformat_minor": 5
}
