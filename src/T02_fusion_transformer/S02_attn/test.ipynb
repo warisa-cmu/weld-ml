{
 "cells": [
  {
   "cell_type": "code",
   "execution_count": 1,
   "id": "8533ea40",
   "metadata": {},
   "outputs": [],
   "source": [
    "import torch\n",
    "from torch import nn\n",
    "from models import MyModel"
   ]
  },
  {
   "cell_type": "code",
   "execution_count": 2,
   "id": "c359adb4",
   "metadata": {},
   "outputs": [],
   "source": [
    "num_tabular_features = 3\n",
    "ts_embedding_size = 16\n",
    "num_ts_features = 1\n",
    "lstm_num_layers = 2\n",
    "lstm_dropout = 0.5\n",
    "attn_n_head = 4\n",
    "num_output = 3\n",
    "\n",
    "model = MyModel(\n",
    "    num_tabular_features=num_tabular_features,\n",
    "    ts_embedding_size=ts_embedding_size,\n",
    "    num_ts_features=num_ts_features,\n",
    "    lstm_num_layers=lstm_num_layers,\n",
    "    lstm_dropout=lstm_dropout,\n",
    "    attn_n_head=attn_n_head,\n",
    "    num_output=num_output\n",
    ")"
   ]
  },
  {
   "cell_type": "code",
   "execution_count": 3,
   "id": "6faa3503",
   "metadata": {},
   "outputs": [
    {
     "name": "stdout",
     "output_type": "stream",
     "text": [
      "torch.Size([32, 100, 1])\n",
      "torch.Size([32, 3])\n",
      "torch.Size([32, 3])\n"
     ]
    }
   ],
   "source": [
    "batch_size = 32\n",
    "timesteps = 100\n",
    "x_ts = torch.randn(batch_size, timesteps, num_ts_features)\n",
    "x_tab = torch.randn(batch_size, num_tabular_features)\n",
    "x_seeder = torch.zeros((batch_size, num_output), dtype=torch.long)\n",
    "for i in range(0, num_output):\n",
    "    x_seeder[:, i] = i\n",
    "    \n",
    "print(x_ts.shape)\n",
    "print(x_tab.shape)\n",
    "print(x_seeder.shape)"
   ]
  },
  {
   "cell_type": "code",
   "execution_count": 5,
   "id": "52f2741a",
   "metadata": {},
   "outputs": [
    {
     "name": "stdout",
     "output_type": "stream",
     "text": [
      "torch.Size([32, 3])\n",
      "torch.Size([32, 103, 4, 103])\n"
     ]
    }
   ],
   "source": [
    "output, attn = model(x_ts=x_ts, x_seeder=x_seeder, x_tab=x_tab)\n",
    "print(output.shape)\n",
    "print(attn.shape)\n"
   ]
  }
 ],
 "metadata": {
  "kernelspec": {
   "display_name": ".venv",
   "language": "python",
   "name": "python3"
  },
  "language_info": {
   "codemirror_mode": {
    "name": "ipython",
    "version": 3
   },
   "file_extension": ".py",
   "mimetype": "text/x-python",
   "name": "python",
   "nbconvert_exporter": "python",
   "pygments_lexer": "ipython3",
   "version": "3.12.10"
  }
 },
 "nbformat": 4,
 "nbformat_minor": 5
}
