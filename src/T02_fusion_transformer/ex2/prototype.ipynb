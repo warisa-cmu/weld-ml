{
 "cells": [
  {
   "cell_type": "code",
   "execution_count": 14,
   "id": "1f5665fc",
   "metadata": {},
   "outputs": [],
   "source": [
    "from models import GatedLinearUnit, GateAddNormNetwork \n",
    "import numpy as np\n",
    "import torch"
   ]
  },
  {
   "cell_type": "code",
   "execution_count": 15,
   "id": "5e36c561",
   "metadata": {},
   "outputs": [],
   "source": [
    "glu = GatedLinearUnit(input_size=5, hidden_layer_size=8, dropout_rate=0)\n",
    "gan = GateAddNormNetwork(input_size=5, hidden_layer_size=8, dropout_rate=0)"
   ]
  },
  {
   "cell_type": "code",
   "execution_count": 16,
   "id": "dc3428a1",
   "metadata": {},
   "outputs": [
    {
     "data": {
      "text/plain": [
       "tensor([[0., 1., 2., 3., 4.],\n",
       "        [5., 6., 7., 8., 9.]])"
      ]
     },
     "execution_count": 16,
     "metadata": {},
     "output_type": "execute_result"
    }
   ],
   "source": [
    "X = np.arange(0.0, 10.0).reshape(2, 5)\n",
    "X = torch.tensor(X).float()\n",
    "X"
   ]
  },
  {
   "cell_type": "code",
   "execution_count": 17,
   "id": "e648a00b",
   "metadata": {},
   "outputs": [
    {
     "data": {
      "text/plain": [
       "tensor([[ 4.2807e-01,  2.0726e-01,  2.1990e+00,  1.6872e+00, -1.9234e-01,\n",
       "         -9.8767e-01,  9.6899e-01, -4.7408e-01],\n",
       "        [ 4.6298e-03,  4.4969e-02,  7.0501e+00,  3.6029e+00, -1.1065e-02,\n",
       "         -4.1668e+00,  4.1393e+00, -4.9276e-02]], grad_fn=<MulBackward0>)"
      ]
     },
     "execution_count": 17,
     "metadata": {},
     "output_type": "execute_result"
    }
   ],
   "source": [
    "glu(X)"
   ]
  },
  {
   "cell_type": "code",
   "execution_count": 20,
   "id": "89bbbe6c",
   "metadata": {},
   "outputs": [
    {
     "data": {
      "text/plain": [
       "tensor([[ 0.7697,  0.5426,  0.6685,  1.1049, -1.7792,  0.3328, -0.1774, -1.4620],\n",
       "        [-0.8251,  1.9281, -0.3208,  0.0906, -1.0673, -0.0411,  1.1952, -0.9596]],\n",
       "       grad_fn=<NativeLayerNormBackward0>)"
      ]
     },
     "execution_count": 20,
     "metadata": {},
     "output_type": "execute_result"
    }
   ],
   "source": [
    "gan(X, glu(X))"
   ]
  },
  {
   "cell_type": "code",
   "execution_count": null,
   "id": "cbcb3c72",
   "metadata": {},
   "outputs": [],
   "source": []
  }
 ],
 "metadata": {
  "kernelspec": {
   "display_name": ".venv",
   "language": "python",
   "name": "python3"
  },
  "language_info": {
   "codemirror_mode": {
    "name": "ipython",
    "version": 3
   },
   "file_extension": ".py",
   "mimetype": "text/x-python",
   "name": "python",
   "nbconvert_exporter": "python",
   "pygments_lexer": "ipython3",
   "version": "3.12.9"
  }
 },
 "nbformat": 4,
 "nbformat_minor": 5
}
