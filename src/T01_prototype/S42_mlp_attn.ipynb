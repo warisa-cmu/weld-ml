{
 "cells": [
  {
   "cell_type": "code",
   "execution_count": 50,
   "id": "b5660f71",
   "metadata": {},
   "outputs": [],
   "source": [
    "import copy\n",
    "\n",
    "import matplotlib.pyplot as plt\n",
    "import numpy as np\n",
    "import pandas as pd\n",
    "import torch\n",
    "import torch.nn as nn\n",
    "import torch.optim as optim\n",
    "import tqdm\n",
    "from S00_utils import loadPickle, plot_res, store_results\n",
    "from sklearn.preprocessing import MinMaxScaler, StandardScaler"
   ]
  },
  {
   "cell_type": "code",
   "execution_count": 51,
   "id": "a6c786b9",
   "metadata": {},
   "outputs": [
    {
     "name": "stdout",
     "output_type": "stream",
     "text": [
      "c:\\Users\\admin\\Coding\\research\\weld-ml\\src\\T01_prototype\n",
      "c:\\Users\\admin\\Coding\\research\\weld-ml\\src\n",
      "c:\\Users\\admin\\Coding\\research\\weld-ml\\src\\T02_fusion_transformer\\S02_attn\n"
     ]
    }
   ],
   "source": [
    "import os\n",
    "import pathlib\n",
    "import sys\n",
    "\n",
    "cur_path = os.getcwd()\n",
    "base_dir = pathlib.Path(cur_path).parent\n",
    "target_path = os.path.join(base_dir, \"T02_fusion_transformer\", \"S02_attn\")\n",
    "for p in [cur_path, base_dir, target_path]:\n",
    "    print(p)\n",
    "    sys.path.append(p)\n"
   ]
  },
  {
   "cell_type": "code",
   "execution_count": 52,
   "id": "cb46c495",
   "metadata": {},
   "outputs": [],
   "source": [
    "from models import MyModel_Attn as MyModel"
   ]
  },
  {
   "cell_type": "code",
   "execution_count": 53,
   "id": "3a941414",
   "metadata": {},
   "outputs": [
    {
     "data": {
      "application/vnd.microsoft.datawrangler.viewer.v0+json": {
       "columns": [
        {
         "name": "id",
         "rawType": "object",
         "type": "string"
        },
        {
         "name": "m1",
         "rawType": "float64",
         "type": "float"
        },
        {
         "name": "m2",
         "rawType": "float64",
         "type": "float"
        },
        {
         "name": "m3",
         "rawType": "float64",
         "type": "float"
        },
        {
         "name": "s1__autocorrelation__lag_8",
         "rawType": "float64",
         "type": "float"
        },
        {
         "name": "s1__autocorrelation__lag_9",
         "rawType": "float64",
         "type": "float"
        },
        {
         "name": "s1__autocorrelation__lag_7",
         "rawType": "float64",
         "type": "float"
        },
        {
         "name": "s1__autocorrelation__lag_6",
         "rawType": "float64",
         "type": "float"
        },
        {
         "name": "s1__autocorrelation__lag_5",
         "rawType": "float64",
         "type": "float"
        },
        {
         "name": "s1__autocorrelation__lag_4",
         "rawType": "float64",
         "type": "float"
        },
        {
         "name": "s1__longest_strike_above_mean",
         "rawType": "int64",
         "type": "integer"
        },
        {
         "name": "s1__autocorrelation__lag_3",
         "rawType": "float64",
         "type": "float"
        },
        {
         "name": "s1__approximate_entropy__m_2__r_0.7",
         "rawType": "float64",
         "type": "float"
        },
        {
         "name": "s1__longest_strike_below_mean",
         "rawType": "int64",
         "type": "integer"
        },
        {
         "name": "s1__autocorrelation__lag_2",
         "rawType": "float64",
         "type": "float"
        },
        {
         "name": "s1__approximate_entropy__m_2__r_0.9",
         "rawType": "float64",
         "type": "float"
        },
        {
         "name": "s1__permutation_entropy__dimension_3__tau_1",
         "rawType": "float64",
         "type": "float"
        },
        {
         "name": "s1__autocorrelation__lag_1",
         "rawType": "float64",
         "type": "float"
        },
        {
         "name": "s1__partial_autocorrelation__lag_1",
         "rawType": "float64",
         "type": "float"
        },
        {
         "name": "s1__permutation_entropy__dimension_5__tau_1",
         "rawType": "float64",
         "type": "float"
        },
        {
         "name": "s1__permutation_entropy__dimension_4__tau_1",
         "rawType": "float64",
         "type": "float"
        },
        {
         "name": "s1__permutation_entropy__dimension_6__tau_1",
         "rawType": "float64",
         "type": "float"
        },
        {
         "name": "s1__permutation_entropy__dimension_7__tau_1",
         "rawType": "float64",
         "type": "float"
        },
        {
         "name": "s1__cid_ce__normalize_True",
         "rawType": "float64",
         "type": "float"
        },
        {
         "name": "s1__approximate_entropy__m_2__r_0.3",
         "rawType": "float64",
         "type": "float"
        },
        {
         "name": "s1__partial_autocorrelation__lag_8",
         "rawType": "float64",
         "type": "float"
        },
        {
         "name": "s1__partial_autocorrelation__lag_9",
         "rawType": "float64",
         "type": "float"
        },
        {
         "name": "s1__partial_autocorrelation__lag_7",
         "rawType": "float64",
         "type": "float"
        },
        {
         "name": "s1__partial_autocorrelation__lag_6",
         "rawType": "float64",
         "type": "float"
        },
        {
         "name": "s1__number_peaks__n_1",
         "rawType": "int64",
         "type": "integer"
        },
        {
         "name": "s1__number_peaks__n_3",
         "rawType": "int64",
         "type": "integer"
        },
        {
         "name": "s1__number_peaks__n_5",
         "rawType": "int64",
         "type": "integer"
        },
        {
         "name": "s1__number_cwt_peaks__n_1",
         "rawType": "int64",
         "type": "integer"
        },
        {
         "name": "s1__number_peaks__n_10",
         "rawType": "int64",
         "type": "integer"
        },
        {
         "name": "s1__ar_coefficient__coeff_8__k_10",
         "rawType": "float64",
         "type": "float"
        },
        {
         "name": "s1__partial_autocorrelation__lag_5",
         "rawType": "float64",
         "type": "float"
        },
        {
         "name": "s1__number_cwt_peaks__n_5",
         "rawType": "int64",
         "type": "integer"
        },
        {
         "name": "s1__spkt_welch_density__coeff_5",
         "rawType": "float64",
         "type": "float"
        },
        {
         "name": "s1__agg_autocorrelation__f_agg_\"median\"__maxlag_40",
         "rawType": "float64",
         "type": "float"
        },
        {
         "name": "s1__approximate_entropy__m_2__r_0.5",
         "rawType": "float64",
         "type": "float"
        },
        {
         "name": "s1__agg_autocorrelation__f_agg_\"mean\"__maxlag_40",
         "rawType": "float64",
         "type": "float"
        },
        {
         "name": "s1__ar_coefficient__coeff_3__k_10",
         "rawType": "float64",
         "type": "float"
        },
        {
         "name": "s1__approximate_entropy__m_2__r_0.1",
         "rawType": "float64",
         "type": "float"
        },
        {
         "name": "s1__lempel_ziv_complexity__bins_3",
         "rawType": "float64",
         "type": "float"
        },
        {
         "name": "s1__partial_autocorrelation__lag_4",
         "rawType": "float64",
         "type": "float"
        },
        {
         "name": "s1__fft_coefficient__attr_\"abs\"__coeff_7",
         "rawType": "float64",
         "type": "float"
        },
        {
         "name": "s1__agg_autocorrelation__f_agg_\"var\"__maxlag_40",
         "rawType": "float64",
         "type": "float"
        },
        {
         "name": "s1__spkt_welch_density__coeff_2",
         "rawType": "float64",
         "type": "float"
        },
        {
         "name": "y1",
         "rawType": "float64",
         "type": "float"
        },
        {
         "name": "y2",
         "rawType": "float64",
         "type": "float"
        },
        {
         "name": "y3",
         "rawType": "float64",
         "type": "float"
        }
       ],
       "conversionMethod": "pd.DataFrame",
       "ref": "d82447ed-65a3-4ae3-b702-1a4ca952c074",
       "rows": [
        [
         "E001",
         "150.2237162282709",
         "1176.177277778291",
         "1.142097497096118",
         "-0.3054339202505594",
         "-0.5191912937471133",
         "-0.07482931020721237",
         "0.1598964088207946",
         "0.385790122546617",
         "0.5903865308147479",
         "14",
         "0.7623960064154589",
         "0.2347346166610531",
         "14",
         "0.8923275547414669",
         "0.1627475159081164",
         "1.016163897369947",
         "0.9730124996338729",
         "0.9730124996338729",
         "1.62687847092397",
         "1.323937191565679",
         "1.924233458480636",
         "2.215079757527388",
         "3.966110221397809",
         "0.2054671462622681",
         "-0.226538711723462",
         "-0.2337969396502632",
         "-0.2313599744498629",
         "-0.2496215600475206",
         "11",
         "11",
         "11",
         "12",
         "10",
         "-0.1228645658353847",
         "-0.2871916578780337",
         "12",
         "2.302092584356073e-06",
         "-0.04029898618473704",
         "0.294575630574742",
         "-0.02381745749888618",
         "0.1839963654696146",
         "0.1585670576081162",
         "0.2041522491349481",
         "-0.3600840997659662",
         "0.2936172551085162",
         "0.4994878943759984",
         "5.88681152271281e-08",
         "55.46043367834409",
         "1.065916993455059",
         "114.5786204103125"
        ],
        [
         "E002",
         "102.5342678762004",
         "1483.654981916516",
         "1.104716419796098",
         "-0.2437852899127758",
         "-0.4542619780809531",
         "-0.02100206449903134",
         "0.2028355495861272",
         "0.4164225579112382",
         "0.6089720749981536",
         "14",
         "0.770760087739035",
         "0.222246210142254",
         "14",
         "0.8936165162838874",
         "0.1560670115588841",
         "0.9993568167921798",
         "0.9713377747746932",
         "0.9713377747746935",
         "1.576553073550272",
         "1.289890751104698",
         "1.858735405789931",
         "2.135705047559143",
         "3.6526435059868",
         "0.2110247401319967",
         "-0.2244198468351331",
         "-0.2325474580042485",
         "-0.2280495585317081",
         "-0.2444386143773333",
         "10",
         "9",
         "9",
         "10",
         "9",
         "-0.1251216792908884",
         "-0.278643948183462",
         "11",
         "9.194826079354894e-05",
         "0.005710727812269289",
         "0.295793386116199",
         "0.0174124077277948",
         "0.184369500523606",
         "0.1447418877366329",
         "0.2030075187969925",
         "-0.3443643252966841",
         "6.14237252208545",
         "0.4777432349844861",
         "3.64362055523439e-06",
         "50.64030573896383",
         "1.285665791352698",
         "124.6514837646304"
        ],
        [
         "E003",
         "119.8905490887243",
         "1254.897450653388",
         "2.162773409498691",
         "-0.3290060356266322",
         "-0.5434049971045741",
         "-0.09591338517658776",
         "0.1426122079089866",
         "0.3730020599120391",
         "0.5821514156665052",
         "14",
         "0.7581648639475573",
         "0.2394955454843397",
         "13",
         "0.8910329028051504",
         "0.165112565585219",
         "1.020465652695851",
         "0.9732011747853436",
         "0.9732011747853435",
         "1.646824878831804",
         "1.343150699207861",
         "1.944883653328339",
         "2.236309406751573",
         "3.682674589911052",
         "0.2017099991694988",
         "-0.2299484930997584",
         "-0.2383027291229635",
         "-0.2342132613799649",
         "-0.2523388214511478",
         "9",
         "9",
         "9",
         "10",
         "9",
         "-0.1218498437486562",
         "-0.2902894407037535",
         "11",
         "0.002991810076493899",
         "-0.06252100701744168",
         "0.2953766624528682",
         "-0.03807682374626591",
         "0.1840355025745247",
         "0.1442678316464963",
         "0.2081632653061224",
         "-0.3646107419088709",
         "26.78328344000789",
         "0.5064350830051291",
         "0.0001590028102571489",
         "50.83240472683809",
         "1.154859212683363",
         "57.01805417221681"
        ],
        [
         "E004",
         "162.8307992564844",
         "1302.043195135213",
         "1.30828321525042",
         "-0.0651521463136262",
         "-0.2664976926877177",
         "0.1389126502736655",
         "0.3371865864369897",
         "0.5214009296929024",
         "0.6838731666679987",
         "16",
         "0.8178274013703623",
         "0.1937549744108571",
         "16",
         "0.9176769485378873",
         "0.1370265745426402",
         "0.9726561048364449",
         "0.9792573362550936",
         "0.9792573362550935",
         "1.522951107576066",
         "1.249446870300736",
         "1.792685681282132",
         "2.058077147838571",
         "3.440933521168234",
         "0.2300116952585212",
         "-0.2135504176683748",
         "-0.2150938543416185",
         "-0.2220255651562478",
         "-0.2427030761830581",
         "9",
         "9",
         "9",
         "10",
         "9",
         "-0.1269822026600489",
         "-0.2818301171729558",
         "11",
         "0.03254871106161762",
         "0.167136898506159",
         "0.2838976837493383",
         "0.09874930838143854",
         "0.1872132457419277",
         "0.1373263951521655",
         "0.1936619718309859",
         "-0.3554414001104249",
         "33.22759074069934",
         "0.4605467208889374",
         "0.0007926165201968495",
         "62.47654543460142",
         "1.025160763802677",
         "132.2212175987509"
        ],
        [
         "E005",
         "165.72095638279",
         "1154.482313700376",
         "1.566829730087374",
         "-0.3048808371286578",
         "-0.5181766102806283",
         "-0.07483610968997173",
         "0.1593210142907042",
         "0.3847279896743889",
         "0.5890028422139049",
         "14",
         "0.7609243327125759",
         "0.2381097596952311",
         "14",
         "0.8910483643868621",
         "0.1626447113788911",
         "1.014791878416955",
         "0.9722267728214827",
         "0.9722267728214827",
         "1.62111225074021",
         "1.320327783744526",
         "1.916410952543579",
         "2.205328048547567",
         "3.995534195873079",
         "0.2072160931479998",
         "-0.2306634372538851",
         "-0.2403558289400577",
         "-0.233806167154005",
         "-0.2506967126737985",
         "11",
         "11",
         "11",
         "12",
         "10",
         "-0.1230299291182262",
         "-0.2868315494200753",
         "12",
         "0.005794605001799167",
         "-0.04382424818770635",
         "0.2887581856673982",
         "-0.0222890433765183",
         "0.1839782130968768",
         "0.1285455017839277",
         "0.1924398625429553",
         "-0.3575884147822471",
         "11.4394702754538",
         "0.4979403938074322",
         "0.0001462830650636705",
         "57.63443803240473",
         "1.043776221564284",
         "92.16026864580095"
        ]
       ],
       "shape": {
        "columns": 50,
        "rows": 5
       }
      },
      "text/html": [
       "<div>\n",
       "<style scoped>\n",
       "    .dataframe tbody tr th:only-of-type {\n",
       "        vertical-align: middle;\n",
       "    }\n",
       "\n",
       "    .dataframe tbody tr th {\n",
       "        vertical-align: top;\n",
       "    }\n",
       "\n",
       "    .dataframe thead th {\n",
       "        text-align: right;\n",
       "    }\n",
       "</style>\n",
       "<table border=\"1\" class=\"dataframe\">\n",
       "  <thead>\n",
       "    <tr style=\"text-align: right;\">\n",
       "      <th></th>\n",
       "      <th>m1</th>\n",
       "      <th>m2</th>\n",
       "      <th>m3</th>\n",
       "      <th>s1__autocorrelation__lag_8</th>\n",
       "      <th>s1__autocorrelation__lag_9</th>\n",
       "      <th>s1__autocorrelation__lag_7</th>\n",
       "      <th>s1__autocorrelation__lag_6</th>\n",
       "      <th>s1__autocorrelation__lag_5</th>\n",
       "      <th>s1__autocorrelation__lag_4</th>\n",
       "      <th>s1__longest_strike_above_mean</th>\n",
       "      <th>...</th>\n",
       "      <th>s1__ar_coefficient__coeff_3__k_10</th>\n",
       "      <th>s1__approximate_entropy__m_2__r_0.1</th>\n",
       "      <th>s1__lempel_ziv_complexity__bins_3</th>\n",
       "      <th>s1__partial_autocorrelation__lag_4</th>\n",
       "      <th>s1__fft_coefficient__attr_\"abs\"__coeff_7</th>\n",
       "      <th>s1__agg_autocorrelation__f_agg_\"var\"__maxlag_40</th>\n",
       "      <th>s1__spkt_welch_density__coeff_2</th>\n",
       "      <th>y1</th>\n",
       "      <th>y2</th>\n",
       "      <th>y3</th>\n",
       "    </tr>\n",
       "    <tr>\n",
       "      <th>id</th>\n",
       "      <th></th>\n",
       "      <th></th>\n",
       "      <th></th>\n",
       "      <th></th>\n",
       "      <th></th>\n",
       "      <th></th>\n",
       "      <th></th>\n",
       "      <th></th>\n",
       "      <th></th>\n",
       "      <th></th>\n",
       "      <th></th>\n",
       "      <th></th>\n",
       "      <th></th>\n",
       "      <th></th>\n",
       "      <th></th>\n",
       "      <th></th>\n",
       "      <th></th>\n",
       "      <th></th>\n",
       "      <th></th>\n",
       "      <th></th>\n",
       "      <th></th>\n",
       "    </tr>\n",
       "  </thead>\n",
       "  <tbody>\n",
       "    <tr>\n",
       "      <th>E001</th>\n",
       "      <td>150.223716</td>\n",
       "      <td>1176.177278</td>\n",
       "      <td>1.142097</td>\n",
       "      <td>-0.305434</td>\n",
       "      <td>-0.519191</td>\n",
       "      <td>-0.074829</td>\n",
       "      <td>0.159896</td>\n",
       "      <td>0.385790</td>\n",
       "      <td>0.590387</td>\n",
       "      <td>14</td>\n",
       "      <td>...</td>\n",
       "      <td>0.183996</td>\n",
       "      <td>0.158567</td>\n",
       "      <td>0.204152</td>\n",
       "      <td>-0.360084</td>\n",
       "      <td>0.293617</td>\n",
       "      <td>0.499488</td>\n",
       "      <td>5.886812e-08</td>\n",
       "      <td>55.460434</td>\n",
       "      <td>1.065917</td>\n",
       "      <td>114.578620</td>\n",
       "    </tr>\n",
       "    <tr>\n",
       "      <th>E002</th>\n",
       "      <td>102.534268</td>\n",
       "      <td>1483.654982</td>\n",
       "      <td>1.104716</td>\n",
       "      <td>-0.243785</td>\n",
       "      <td>-0.454262</td>\n",
       "      <td>-0.021002</td>\n",
       "      <td>0.202836</td>\n",
       "      <td>0.416423</td>\n",
       "      <td>0.608972</td>\n",
       "      <td>14</td>\n",
       "      <td>...</td>\n",
       "      <td>0.184370</td>\n",
       "      <td>0.144742</td>\n",
       "      <td>0.203008</td>\n",
       "      <td>-0.344364</td>\n",
       "      <td>6.142373</td>\n",
       "      <td>0.477743</td>\n",
       "      <td>3.643621e-06</td>\n",
       "      <td>50.640306</td>\n",
       "      <td>1.285666</td>\n",
       "      <td>124.651484</td>\n",
       "    </tr>\n",
       "    <tr>\n",
       "      <th>E003</th>\n",
       "      <td>119.890549</td>\n",
       "      <td>1254.897451</td>\n",
       "      <td>2.162773</td>\n",
       "      <td>-0.329006</td>\n",
       "      <td>-0.543405</td>\n",
       "      <td>-0.095913</td>\n",
       "      <td>0.142612</td>\n",
       "      <td>0.373002</td>\n",
       "      <td>0.582151</td>\n",
       "      <td>14</td>\n",
       "      <td>...</td>\n",
       "      <td>0.184036</td>\n",
       "      <td>0.144268</td>\n",
       "      <td>0.208163</td>\n",
       "      <td>-0.364611</td>\n",
       "      <td>26.783283</td>\n",
       "      <td>0.506435</td>\n",
       "      <td>1.590028e-04</td>\n",
       "      <td>50.832405</td>\n",
       "      <td>1.154859</td>\n",
       "      <td>57.018054</td>\n",
       "    </tr>\n",
       "    <tr>\n",
       "      <th>E004</th>\n",
       "      <td>162.830799</td>\n",
       "      <td>1302.043195</td>\n",
       "      <td>1.308283</td>\n",
       "      <td>-0.065152</td>\n",
       "      <td>-0.266498</td>\n",
       "      <td>0.138913</td>\n",
       "      <td>0.337187</td>\n",
       "      <td>0.521401</td>\n",
       "      <td>0.683873</td>\n",
       "      <td>16</td>\n",
       "      <td>...</td>\n",
       "      <td>0.187213</td>\n",
       "      <td>0.137326</td>\n",
       "      <td>0.193662</td>\n",
       "      <td>-0.355441</td>\n",
       "      <td>33.227591</td>\n",
       "      <td>0.460547</td>\n",
       "      <td>7.926165e-04</td>\n",
       "      <td>62.476545</td>\n",
       "      <td>1.025161</td>\n",
       "      <td>132.221218</td>\n",
       "    </tr>\n",
       "    <tr>\n",
       "      <th>E005</th>\n",
       "      <td>165.720956</td>\n",
       "      <td>1154.482314</td>\n",
       "      <td>1.566830</td>\n",
       "      <td>-0.304881</td>\n",
       "      <td>-0.518177</td>\n",
       "      <td>-0.074836</td>\n",
       "      <td>0.159321</td>\n",
       "      <td>0.384728</td>\n",
       "      <td>0.589003</td>\n",
       "      <td>14</td>\n",
       "      <td>...</td>\n",
       "      <td>0.183978</td>\n",
       "      <td>0.128546</td>\n",
       "      <td>0.192440</td>\n",
       "      <td>-0.357588</td>\n",
       "      <td>11.439470</td>\n",
       "      <td>0.497940</td>\n",
       "      <td>1.462831e-04</td>\n",
       "      <td>57.634438</td>\n",
       "      <td>1.043776</td>\n",
       "      <td>92.160269</td>\n",
       "    </tr>\n",
       "  </tbody>\n",
       "</table>\n",
       "<p>5 rows × 50 columns</p>\n",
       "</div>"
      ],
      "text/plain": [
       "              m1           m2        m3  s1__autocorrelation__lag_8  \\\n",
       "id                                                                    \n",
       "E001  150.223716  1176.177278  1.142097                   -0.305434   \n",
       "E002  102.534268  1483.654982  1.104716                   -0.243785   \n",
       "E003  119.890549  1254.897451  2.162773                   -0.329006   \n",
       "E004  162.830799  1302.043195  1.308283                   -0.065152   \n",
       "E005  165.720956  1154.482314  1.566830                   -0.304881   \n",
       "\n",
       "      s1__autocorrelation__lag_9  s1__autocorrelation__lag_7  \\\n",
       "id                                                             \n",
       "E001                   -0.519191                   -0.074829   \n",
       "E002                   -0.454262                   -0.021002   \n",
       "E003                   -0.543405                   -0.095913   \n",
       "E004                   -0.266498                    0.138913   \n",
       "E005                   -0.518177                   -0.074836   \n",
       "\n",
       "      s1__autocorrelation__lag_6  s1__autocorrelation__lag_5  \\\n",
       "id                                                             \n",
       "E001                    0.159896                    0.385790   \n",
       "E002                    0.202836                    0.416423   \n",
       "E003                    0.142612                    0.373002   \n",
       "E004                    0.337187                    0.521401   \n",
       "E005                    0.159321                    0.384728   \n",
       "\n",
       "      s1__autocorrelation__lag_4  s1__longest_strike_above_mean  ...  \\\n",
       "id                                                               ...   \n",
       "E001                    0.590387                             14  ...   \n",
       "E002                    0.608972                             14  ...   \n",
       "E003                    0.582151                             14  ...   \n",
       "E004                    0.683873                             16  ...   \n",
       "E005                    0.589003                             14  ...   \n",
       "\n",
       "      s1__ar_coefficient__coeff_3__k_10  s1__approximate_entropy__m_2__r_0.1  \\\n",
       "id                                                                             \n",
       "E001                           0.183996                             0.158567   \n",
       "E002                           0.184370                             0.144742   \n",
       "E003                           0.184036                             0.144268   \n",
       "E004                           0.187213                             0.137326   \n",
       "E005                           0.183978                             0.128546   \n",
       "\n",
       "      s1__lempel_ziv_complexity__bins_3  s1__partial_autocorrelation__lag_4  \\\n",
       "id                                                                            \n",
       "E001                           0.204152                           -0.360084   \n",
       "E002                           0.203008                           -0.344364   \n",
       "E003                           0.208163                           -0.364611   \n",
       "E004                           0.193662                           -0.355441   \n",
       "E005                           0.192440                           -0.357588   \n",
       "\n",
       "      s1__fft_coefficient__attr_\"abs\"__coeff_7  \\\n",
       "id                                               \n",
       "E001                                  0.293617   \n",
       "E002                                  6.142373   \n",
       "E003                                 26.783283   \n",
       "E004                                 33.227591   \n",
       "E005                                 11.439470   \n",
       "\n",
       "      s1__agg_autocorrelation__f_agg_\"var\"__maxlag_40  \\\n",
       "id                                                      \n",
       "E001                                         0.499488   \n",
       "E002                                         0.477743   \n",
       "E003                                         0.506435   \n",
       "E004                                         0.460547   \n",
       "E005                                         0.497940   \n",
       "\n",
       "      s1__spkt_welch_density__coeff_2         y1        y2          y3  \n",
       "id                                                                      \n",
       "E001                     5.886812e-08  55.460434  1.065917  114.578620  \n",
       "E002                     3.643621e-06  50.640306  1.285666  124.651484  \n",
       "E003                     1.590028e-04  50.832405  1.154859   57.018054  \n",
       "E004                     7.926165e-04  62.476545  1.025161  132.221218  \n",
       "E005                     1.462831e-04  57.634438  1.043776   92.160269  \n",
       "\n",
       "[5 rows x 50 columns]"
      ]
     },
     "execution_count": 53,
     "metadata": {},
     "output_type": "execute_result"
    }
   ],
   "source": [
    "df = pd.read_excel(\"output/S21__2025-04-21-052727.xlsx\")\n",
    "df = df.set_index(\"Unnamed: 0\")\n",
    "df.index.names = [\"id\"]\n",
    "df.head()"
   ]
  },
  {
   "cell_type": "code",
   "execution_count": 54,
   "id": "16816717",
   "metadata": {},
   "outputs": [],
   "source": [
    "colsY = [\"y1\", \"y2\", \"y3\"]\n",
    "# colsX = [c for c in df.columns if c not in colsY]\n",
    "colsX = [\"m1\", \"m2\", \"m3\"]\n",
    "\n",
    "dfX = df[colsX]\n",
    "dfY = df[colsY]"
   ]
  },
  {
   "cell_type": "code",
   "execution_count": 55,
   "id": "bf54dec5",
   "metadata": {},
   "outputs": [],
   "source": [
    "dfData = loadPickle(\"output/S11__2025-04-21-052441.pickle\")"
   ]
  },
  {
   "cell_type": "code",
   "execution_count": 56,
   "id": "1c4cb3de",
   "metadata": {},
   "outputs": [],
   "source": [
    "dfData\n",
    "tsArr = [t[1] for t in dfData[\"ts\"].values]"
   ]
  },
  {
   "cell_type": "code",
   "execution_count": 57,
   "id": "22f736da",
   "metadata": {},
   "outputs": [
    {
     "name": "stdout",
     "output_type": "stream",
     "text": [
      "298\n"
     ]
    }
   ],
   "source": [
    "# Max length\n",
    "maxTime = 0\n",
    "for ts in tsArr:\n",
    "    maxTime = len(ts) if maxTime < len(ts) else maxTime\n",
    "\n",
    "print(maxTime)"
   ]
  },
  {
   "cell_type": "code",
   "execution_count": 58,
   "id": "6ef870d8",
   "metadata": {},
   "outputs": [
    {
     "data": {
      "text/plain": [
       "[<matplotlib.lines.Line2D at 0x206ff6bac90>]"
      ]
     },
     "execution_count": 58,
     "metadata": {},
     "output_type": "execute_result"
    },
    {
     "data": {
      "image/png": "[encoded data removed]",
      "text/plain": [
       "<Figure size 640x480 with 1 Axes>"
      ]
     },
     "metadata": {},
     "output_type": "display_data"
    }
   ],
   "source": [
    "# Scaling and Padding\n",
    "# TODO: Needs to only calculate mean, std, min, max from training example.\n",
    "\n",
    "SCALING_TYPE = \"Min_Max\"\n",
    "# SCALING_TYPE = \"STANDARDIZATION\"\n",
    "\n",
    "tsArrConcat = np.concatenate(tsArr)\n",
    "if SCALING_TYPE == \"STANDARDIZATION\":\n",
    "    meanVal = np.mean(tsArrConcat)\n",
    "    stdVal = np.std(tsArrConcat)\n",
    "elif SCALING_TYPE == \"Min_Max\":\n",
    "    maxVal = np.max(tsArrConcat)\n",
    "    minVal = np.min(tsArrConcat)\n",
    "\n",
    "# Shape = (Batch, Time, Features)\n",
    "TsData_std = np.zeros((dfData.shape[0], maxTime, 1))\n",
    "for idx, ts in enumerate(tsArr):\n",
    "    if SCALING_TYPE == \"STANDARDIZATION\":\n",
    "        ts_std = (ts - meanVal) / stdVal\n",
    "    elif SCALING_TYPE == \"Min_Max\":\n",
    "        ts_std = (ts - minVal) / (maxVal - minVal)\n",
    "\n",
    "    TsData_std[idx, : len(ts), 0] = ts_std  # Scaling\n",
    "    TsData_std[idx, len(ts) :, 0] = -1  # Padding\n",
    "\n",
    "plt.plot(TsData_std[0, :])"
   ]
  },
  {
   "cell_type": "code",
   "execution_count": 59,
   "id": "c7b3dd62",
   "metadata": {},
   "outputs": [
    {
     "name": "stdout",
     "output_type": "stream",
     "text": [
      "[60 80 90 68 51 27 18 56 63 74  1 61 42 41  4 15 17 40 38  5 91 59  0 34\n",
      " 28 50 11 35 23 52 10 31 66 57 79 85 32 84 14 89 19 29 49 97 98 69 20 94\n",
      " 72 77 25 37 81 46 39 65 58 12 88 70 87 36 21 83  9 96 67 64 47 44]\n",
      "[26 86  2 55 75 93 16 73 54 95 53 92 78 13  7 30 22 24 33  8 43 62  3 71\n",
      " 45 48  6 99 82 76]\n"
     ]
    }
   ],
   "source": [
    "from sklearn.model_selection import ShuffleSplit\n",
    "\n",
    "cv = ShuffleSplit(random_state=0, test_size=0.30)\n",
    "idxs = np.arange(df.shape[0])\n",
    "idxTrain, idxTest = next(cv.split(X=idxs))\n",
    "print(idxTrain)\n",
    "print(idxTest)"
   ]
  },
  {
   "cell_type": "code",
   "execution_count": 60,
   "id": "6110546c",
   "metadata": {},
   "outputs": [],
   "source": [
    "dfX_train = dfX.iloc[idxTrain, :]\n",
    "dfX_test = dfX.iloc[idxTest, :]\n",
    "dfY_train = dfY.iloc[idxTrain, :]\n",
    "dfY_test = dfY.iloc[idxTest, :]\n",
    "Ts_train_std = TsData_std[idxTrain, :]\n",
    "Ts_test_std = TsData_std[idxTest, :]"
   ]
  },
  {
   "cell_type": "code",
   "execution_count": 61,
   "id": "5d0b7279",
   "metadata": {},
   "outputs": [],
   "source": [
    "scX = MinMaxScaler()\n",
    "X_train_std = scX.fit_transform(dfX_train)\n",
    "X_test_std = scX.transform(dfX_test)\n",
    "\n",
    "scY = MinMaxScaler()\n",
    "Y_train_std = scY.fit_transform(dfY_train)\n",
    "Y_test_std = scY.transform(dfY_test)"
   ]
  },
  {
   "cell_type": "code",
   "execution_count": 62,
   "id": "6bb6bfea",
   "metadata": {},
   "outputs": [],
   "source": [
    "# Convert to 2D PyTorch tensors\n",
    "X_train_std = torch.tensor(X_train_std, dtype=torch.float32)\n",
    "Y_train_std = torch.tensor(Y_train_std, dtype=torch.float32)\n",
    "X_test_std = torch.tensor(X_test_std, dtype=torch.float32)\n",
    "Y_test_std = torch.tensor(Y_test_std, dtype=torch.float32)\n",
    "Ts_train_std = torch.tensor(Ts_train_std, dtype=torch.float32)\n",
    "Ts_test_std = torch.tensor(Ts_test_std, dtype=torch.float32)"
   ]
  },
  {
   "cell_type": "code",
   "execution_count": 63,
   "id": "523f3635",
   "metadata": {},
   "outputs": [],
   "source": [
    "num_tabular_features = dfX.shape[1]\n",
    "ts_embedding_size = 16\n",
    "num_ts_features = Ts_train_std.shape[-1]\n",
    "lstm_num_layers = 2\n",
    "lstm_dropout = 0.5\n",
    "attn_n_head = 4\n",
    "num_output = Y_test_std.shape[1]\n",
    "\n",
    "# Initialize model\n",
    "model = MyModel(\n",
    "    num_tabular_features=num_tabular_features,\n",
    "    ts_embedding_size=ts_embedding_size,\n",
    "    num_ts_features=num_ts_features,\n",
    "    lstm_num_layers=lstm_num_layers,\n",
    "    lstm_dropout=lstm_dropout,\n",
    "    attn_n_head=attn_n_head,\n",
    "    num_output=num_output,\n",
    ")"
   ]
  },
  {
   "cell_type": "code",
   "execution_count": 64,
   "id": "dc7c8a63",
   "metadata": {},
   "outputs": [],
   "source": [
    "# loss function and optimizer\n",
    "loss_fn = nn.MSELoss()  # mean square error\n",
    "optimizer = optim.Adam(model.parameters(), lr=0.0001)"
   ]
  },
  {
   "cell_type": "code",
   "execution_count": 65,
   "id": "36246eb7",
   "metadata": {},
   "outputs": [],
   "source": [
    "def get_seeder(batch_size, num_output):\n",
    "    x_seeder = torch.zeros((batch_size, num_output), dtype=torch.long)\n",
    "    for i in range(0, num_output):\n",
    "        x_seeder[:, i] = i\n",
    "    return x_seeder"
   ]
  },
  {
   "cell_type": "code",
   "execution_count": 66,
   "id": "b3c38ea7",
   "metadata": {},
   "outputs": [
    {
     "name": "stdout",
     "output_type": "stream",
     "text": [
      "MSE: 0.04\n",
      "RMSE: 0.21\n"
     ]
    },
    {
     "data": {
      "image/png": "[encoded data removed]",
      "text/plain": [
       "<Figure size 640x480 with 1 Axes>"
      ]
     },
     "metadata": {},
     "output_type": "display_data"
    }
   ],
   "source": [
    "n_epochs = 2000\n",
    "# number of epochs to run\n",
    "batch_size = 5  # size of each batch\n",
    "batch_start = torch.arange(0, len(X_train_std), batch_size)\n",
    "\n",
    "# Hold the best model\n",
    "best_mse = np.inf  # init to infinity\n",
    "best_weights = None\n",
    "history = []\n",
    "\n",
    "for epoch in range(n_epochs):\n",
    "    model.train()\n",
    "    with tqdm.tqdm(batch_start, unit=\"batch\", mininterval=0, disable=True) as bar:\n",
    "        bar.set_description(f\"Epoch {epoch}\")\n",
    "        for start in bar:\n",
    "            # take a batch\n",
    "            x_tab_batch = X_train_std[start : start + batch_size]\n",
    "            x_ts_batch = Ts_train_std[start : start + batch_size]\n",
    "            y_batch = Y_train_std[start : start + batch_size]\n",
    "            # forward pass\n",
    "            y_pred, _ = model(\n",
    "                x_tab=x_tab_batch,\n",
    "                x_ts=x_ts_batch,\n",
    "                x_seeder=get_seeder(x_tab_batch.shape[0], num_output),\n",
    "            )\n",
    "            loss = loss_fn(y_pred, y_batch)\n",
    "            # backward pass\n",
    "            optimizer.zero_grad()\n",
    "            loss.backward()\n",
    "            # update weights\n",
    "            optimizer.step()\n",
    "            # print progress\n",
    "            bar.set_postfix(mse=float(loss))\n",
    "    # evaluate accuracy at end of each epoch\n",
    "    model.eval()\n",
    "    y_pred, _ = model(\n",
    "        x_ts=Ts_test_std,\n",
    "        x_tab=X_test_std,\n",
    "        x_seeder=get_seeder(Ts_test_std.shape[0], num_output),\n",
    "    )\n",
    "    mse = loss_fn(y_pred, Y_test_std)\n",
    "    mse = float(mse)\n",
    "    history.append(mse)\n",
    "    if mse < best_mse:\n",
    "        best_mse = mse\n",
    "        best_weights = copy.deepcopy(model.state_dict())\n",
    "\n",
    "# restore model and return best accuracy\n",
    "model.load_state_dict(best_weights)\n",
    "print(\"MSE: %.2f\" % best_mse)\n",
    "print(\"RMSE: %.2f\" % np.sqrt(best_mse))\n",
    "plt.plot(history)\n",
    "plt.show()"
   ]
  },
  {
   "cell_type": "code",
   "execution_count": 67,
   "id": "c0f05686",
   "metadata": {},
   "outputs": [],
   "source": [
    "Y_train_pred, attn_train = model(\n",
    "    x_ts=Ts_train_std,\n",
    "    x_tab=X_train_std,\n",
    "    x_seeder=get_seeder(Ts_train_std.shape[0], num_output),\n",
    ")\n",
    "Y_test_pred, attn_test = model(\n",
    "    x_ts=Ts_test_std,\n",
    "    x_tab=X_test_std,\n",
    "    x_seeder=get_seeder(Ts_test_std.shape[0], num_output),\n",
    ")"
   ]
  },
  {
   "cell_type": "code",
   "execution_count": 68,
   "id": "60453032",
   "metadata": {},
   "outputs": [],
   "source": [
    "Y_train_std = Y_train_std.detach().numpy()\n",
    "Y_test_std = Y_test_std.detach().numpy()\n",
    "Y_train_pred = Y_train_pred.detach().numpy()\n",
    "Y_test_pred = Y_test_pred.detach().numpy()"
   ]
  },
  {
   "cell_type": "code",
   "execution_count": 69,
   "id": "df7a80c3",
   "metadata": {},
   "outputs": [
    {
     "data": {
      "application/vnd.microsoft.datawrangler.viewer.v0+json": {
       "columns": [
        {
         "name": "index",
         "rawType": "int64",
         "type": "integer"
        },
        {
         "name": "MSE Train",
         "rawType": "float64",
         "type": "float"
        },
        {
         "name": "MSE Test",
         "rawType": "float64",
         "type": "float"
        },
        {
         "name": "R2 Train",
         "rawType": "float64",
         "type": "float"
        },
        {
         "name": "R2 Test",
         "rawType": "float64",
         "type": "float"
        }
       ],
       "conversionMethod": "pd.DataFrame",
       "ref": "9a9741ae-e4e7-4a57-8b2f-dd956c0ae654",
       "rows": [
        [
         "0",
         "0.020275775343179703",
         "0.051982540637254715",
         "0.547562837600708",
         "0.030075550079345703"
        ],
        [
         "1",
         "0.015607540495693684",
         "0.03855840861797333",
         "0.5936017036437988",
         "-0.24719130992889404"
        ],
        [
         "2",
         "0.015577275305986404",
         "0.03799150511622429",
         "0.735061764717102",
         "0.27512747049331665"
        ]
       ],
       "shape": {
        "columns": 4,
        "rows": 3
       }
      },
      "text/html": [
       "<div>\n",
       "<style scoped>\n",
       "    .dataframe tbody tr th:only-of-type {\n",
       "        vertical-align: middle;\n",
       "    }\n",
       "\n",
       "    .dataframe tbody tr th {\n",
       "        vertical-align: top;\n",
       "    }\n",
       "\n",
       "    .dataframe thead th {\n",
       "        text-align: right;\n",
       "    }\n",
       "</style>\n",
       "<table border=\"1\" class=\"dataframe\">\n",
       "  <thead>\n",
       "    <tr style=\"text-align: right;\">\n",
       "      <th></th>\n",
       "      <th>MSE Train</th>\n",
       "      <th>MSE Test</th>\n",
       "      <th>R2 Train</th>\n",
       "      <th>R2 Test</th>\n",
       "    </tr>\n",
       "  </thead>\n",
       "  <tbody>\n",
       "    <tr>\n",
       "      <th>0</th>\n",
       "      <td>0.020276</td>\n",
       "      <td>0.051983</td>\n",
       "      <td>0.547563</td>\n",
       "      <td>0.030076</td>\n",
       "    </tr>\n",
       "    <tr>\n",
       "      <th>1</th>\n",
       "      <td>0.015608</td>\n",
       "      <td>0.038558</td>\n",
       "      <td>0.593602</td>\n",
       "      <td>-0.247191</td>\n",
       "    </tr>\n",
       "    <tr>\n",
       "      <th>2</th>\n",
       "      <td>0.015577</td>\n",
       "      <td>0.037992</td>\n",
       "      <td>0.735062</td>\n",
       "      <td>0.275127</td>\n",
       "    </tr>\n",
       "  </tbody>\n",
       "</table>\n",
       "</div>"
      ],
      "text/plain": [
       "   MSE Train  MSE Test  R2 Train   R2 Test\n",
       "0   0.020276  0.051983  0.547563  0.030076\n",
       "1   0.015608  0.038558  0.593602 -0.247191\n",
       "2   0.015577  0.037992  0.735062  0.275127"
      ]
     },
     "execution_count": 69,
     "metadata": {},
     "output_type": "execute_result"
    },
    {
     "data": {
      "image/png": "[encoded data removed]",
      "text/plain": [
       "<Figure size 900x300 with 2 Axes>"
      ]
     },
     "metadata": {},
     "output_type": "display_data"
    },
    {
     "data": {
      "image/png": "[encoded data removed]",
      "text/plain": [
       "<Figure size 900x300 with 2 Axes>"
      ]
     },
     "metadata": {},
     "output_type": "display_data"
    },
    {
     "data": {
      "image/png": "[encoded data removed]",
      "text/plain": [
       "<Figure size 900x300 with 2 Axes>"
      ]
     },
     "metadata": {},
     "output_type": "display_data"
    }
   ],
   "source": [
    "resArr = []\n",
    "for i in range(dfY.shape[1]):\n",
    "    y_train = Y_train_std[:, i]\n",
    "    y_test = Y_test_std[:, i]\n",
    "    y_train_pred = Y_train_pred[:, i]\n",
    "    y_test_pred = Y_test_pred[:, i]\n",
    "    plot_res(y_train, y_test, y_train_pred, y_test_pred, xlim=[-0.1, 1.1])\n",
    "    res = store_results(y_train, y_test, y_train_pred, y_test_pred)\n",
    "    resArr.append(res)\n",
    "\n",
    "dfRes = pd.DataFrame.from_dict(resArr)\n",
    "dfRes"
   ]
  },
  {
   "cell_type": "code",
   "execution_count": 70,
   "id": "7a829aab",
   "metadata": {},
   "outputs": [
    {
     "name": "stdout",
     "output_type": "stream",
     "text": [
      "(70, 301, 4, 301)\n"
     ]
    }
   ],
   "source": [
    "att = attn_train.detach().numpy()\n",
    "print(att.shape)"
   ]
  },
  {
   "cell_type": "code",
   "execution_count": 71,
   "id": "263d5b3f",
   "metadata": {},
   "outputs": [
    {
     "data": {
      "application/vnd.microsoft.datawrangler.viewer.v0+json": {
       "columns": [
        {
         "name": "index",
         "rawType": "int64",
         "type": "integer"
        },
        {
         "name": "0",
         "rawType": "float32",
         "type": "float"
        },
        {
         "name": "1",
         "rawType": "float32",
         "type": "float"
        },
        {
         "name": "2",
         "rawType": "float32",
         "type": "float"
        },
        {
         "name": "3",
         "rawType": "float32",
         "type": "float"
        },
        {
         "name": "4",
         "rawType": "float32",
         "type": "float"
        },
        {
         "name": "5",
         "rawType": "float32",
         "type": "float"
        },
        {
         "name": "6",
         "rawType": "float32",
         "type": "float"
        },
        {
         "name": "7",
         "rawType": "float32",
         "type": "float"
        },
        {
         "name": "8",
         "rawType": "float32",
         "type": "float"
        },
        {
         "name": "9",
         "rawType": "float32",
         "type": "float"
        },
        {
         "name": "10",
         "rawType": "float32",
         "type": "float"
        },
        {
         "name": "11",
         "rawType": "float32",
         "type": "float"
        },
        {
         "name": "12",
         "rawType": "float32",
         "type": "float"
        },
        {
         "name": "13",
         "rawType": "float32",
         "type": "float"
        },
        {
         "name": "14",
         "rawType": "float32",
         "type": "float"
        },
        {
         "name": "15",
         "rawType": "float32",
         "type": "float"
        },
        {
         "name": "16",
         "rawType": "float32",
         "type": "float"
        },
        {
         "name": "17",
         "rawType": "float32",
         "type": "float"
        },
        {
         "name": "18",
         "rawType": "float32",
         "type": "float"
        },
        {
         "name": "19",
         "rawType": "float32",
         "type": "float"
        },
        {
         "name": "20",
         "rawType": "float32",
         "type": "float"
        },
        {
         "name": "21",
         "rawType": "float32",
         "type": "float"
        },
        {
         "name": "22",
         "rawType": "float32",
         "type": "float"
        },
        {
         "name": "23",
         "rawType": "float32",
         "type": "float"
        },
        {
         "name": "24",
         "rawType": "float32",
         "type": "float"
        },
        {
         "name": "25",
         "rawType": "float32",
         "type": "float"
        },
        {
         "name": "26",
         "rawType": "float32",
         "type": "float"
        },
        {
         "name": "27",
         "rawType": "float32",
         "type": "float"
        },
        {
         "name": "28",
         "rawType": "float32",
         "type": "float"
        },
        {
         "name": "29",
         "rawType": "float32",
         "type": "float"
        },
        {
         "name": "30",
         "rawType": "float32",
         "type": "float"
        },
        {
         "name": "31",
         "rawType": "float32",
         "type": "float"
        },
        {
         "name": "32",
         "rawType": "float32",
         "type": "float"
        },
        {
         "name": "33",
         "rawType": "float32",
         "type": "float"
        },
        {
         "name": "34",
         "rawType": "float32",
         "type": "float"
        },
        {
         "name": "35",
         "rawType": "float32",
         "type": "float"
        },
        {
         "name": "36",
         "rawType": "float32",
         "type": "float"
        },
        {
         "name": "37",
         "rawType": "float32",
         "type": "float"
        },
        {
         "name": "38",
         "rawType": "float32",
         "type": "float"
        },
        {
         "name": "39",
         "rawType": "float32",
         "type": "float"
        },
        {
         "name": "40",
         "rawType": "float32",
         "type": "float"
        },
        {
         "name": "41",
         "rawType": "float32",
         "type": "float"
        },
        {
         "name": "42",
         "rawType": "float32",
         "type": "float"
        },
        {
         "name": "43",
         "rawType": "float32",
         "type": "float"
        },
        {
         "name": "44",
         "rawType": "float32",
         "type": "float"
        },
        {
         "name": "45",
         "rawType": "float32",
         "type": "float"
        },
        {
         "name": "46",
         "rawType": "float32",
         "type": "float"
        },
        {
         "name": "47",
         "rawType": "float32",
         "type": "float"
        },
        {
         "name": "48",
         "rawType": "float32",
         "type": "float"
        },
        {
         "name": "49",
         "rawType": "float32",
         "type": "float"
        },
        {
         "name": "50",
         "rawType": "float32",
         "type": "float"
        },
        {
         "name": "51",
         "rawType": "float32",
         "type": "float"
        },
        {
         "name": "52",
         "rawType": "float32",
         "type": "float"
        },
        {
         "name": "53",
         "rawType": "float32",
         "type": "float"
        },
        {
         "name": "54",
         "rawType": "float32",
         "type": "float"
        },
        {
         "name": "55",
         "rawType": "float32",
         "type": "float"
        },
        {
         "name": "56",
         "rawType": "float32",
         "type": "float"
        },
        {
         "name": "57",
         "rawType": "float32",
         "type": "float"
        },
        {
         "name": "58",
         "rawType": "float32",
         "type": "float"
        },
        {
         "name": "59",
         "rawType": "float32",
         "type": "float"
        },
        {
         "name": "60",
         "rawType": "float32",
         "type": "float"
        },
        {
         "name": "61",
         "rawType": "float32",
         "type": "float"
        },
        {
         "name": "62",
         "rawType": "float32",
         "type": "float"
        },
        {
         "name": "63",
         "rawType": "float32",
         "type": "float"
        },
        {
         "name": "64",
         "rawType": "float32",
         "type": "float"
        },
        {
         "name": "65",
         "rawType": "float32",
         "type": "float"
        },
        {
         "name": "66",
         "rawType": "float32",
         "type": "float"
        },
        {
         "name": "67",
         "rawType": "float32",
         "type": "float"
        },
        {
         "name": "68",
         "rawType": "float32",
         "type": "float"
        },
        {
         "name": "69",
         "rawType": "float32",
         "type": "float"
        },
        {
         "name": "70",
         "rawType": "float32",
         "type": "float"
        },
        {
         "name": "71",
         "rawType": "float32",
         "type": "float"
        },
        {
         "name": "72",
         "rawType": "float32",
         "type": "float"
        },
        {
         "name": "73",
         "rawType": "float32",
         "type": "float"
        },
        {
         "name": "74",
         "rawType": "float32",
         "type": "float"
        },
        {
         "name": "75",
         "rawType": "float32",
         "type": "float"
        },
        {
         "name": "76",
         "rawType": "float32",
         "type": "float"
        },
        {
         "name": "77",
         "rawType": "float32",
         "type": "float"
        },
        {
         "name": "78",
         "rawType": "float32",
         "type": "float"
        },
        {
         "name": "79",
         "rawType": "float32",
         "type": "float"
        },
        {
         "name": "80",
         "rawType": "float32",
         "type": "float"
        },
        {
         "name": "81",
         "rawType": "float32",
         "type": "float"
        },
        {
         "name": "82",
         "rawType": "float32",
         "type": "float"
        },
        {
         "name": "83",
         "rawType": "float32",
         "type": "float"
        },
        {
         "name": "84",
         "rawType": "float32",
         "type": "float"
        },
        {
         "name": "85",
         "rawType": "float32",
         "type": "float"
        },
        {
         "name": "86",
         "rawType": "float32",
         "type": "float"
        },
        {
         "name": "87",
         "rawType": "float32",
         "type": "float"
        },
        {
         "name": "88",
         "rawType": "float32",
         "type": "float"
        },
        {
         "name": "89",
         "rawType": "float32",
         "type": "float"
        },
        {
         "name": "90",
         "rawType": "float32",
         "type": "float"
        },
        {
         "name": "91",
         "rawType": "float32",
         "type": "float"
        },
        {
         "name": "92",
         "rawType": "float32",
         "type": "float"
        },
        {
         "name": "93",
         "rawType": "float32",
         "type": "float"
        },
        {
         "name": "94",
         "rawType": "float32",
         "type": "float"
        },
        {
         "name": "95",
         "rawType": "float32",
         "type": "float"
        },
        {
         "name": "96",
         "rawType": "float32",
         "type": "float"
        },
        {
         "name": "97",
         "rawType": "float32",
         "type": "float"
        },
        {
         "name": "98",
         "rawType": "float32",
         "type": "float"
        },
        {
         "name": "99",
         "rawType": "float32",
         "type": "float"
        },
        {
         "name": "100",
         "rawType": "float32",
         "type": "float"
        },
        {
         "name": "101",
         "rawType": "float32",
         "type": "float"
        },
        {
         "name": "102",
         "rawType": "float32",
         "type": "float"
        },
        {
         "name": "103",
         "rawType": "float32",
         "type": "float"
        },
        {
         "name": "104",
         "rawType": "float32",
         "type": "float"
        },
        {
         "name": "105",
         "rawType": "float32",
         "type": "float"
        },
        {
         "name": "106",
         "rawType": "float32",
         "type": "float"
        },
        {
         "name": "107",
         "rawType": "float32",
         "type": "float"
        },
        {
         "name": "108",
         "rawType": "float32",
         "type": "float"
        },
        {
         "name": "109",
         "rawType": "float32",
         "type": "float"
        },
        {
         "name": "110",
         "rawType": "float32",
         "type": "float"
        },
        {
         "name": "111",
         "rawType": "float32",
         "type": "float"
        },
        {
         "name": "112",
         "rawType": "float32",
         "type": "float"
        },
        {
         "name": "113",
         "rawType": "float32",
         "type": "float"
        },
        {
         "name": "114",
         "rawType": "float32",
         "type": "float"
        },
        {
         "name": "115",
         "rawType": "float32",
         "type": "float"
        },
        {
         "name": "116",
         "rawType": "float32",
         "type": "float"
        },
        {
         "name": "117",
         "rawType": "float32",
         "type": "float"
        },
        {
         "name": "118",
         "rawType": "float32",
         "type": "float"
        },
        {
         "name": "119",
         "rawType": "float32",
         "type": "float"
        },
        {
         "name": "120",
         "rawType": "float32",
         "type": "float"
        },
        {
         "name": "121",
         "rawType": "float32",
         "type": "float"
        },
        {
         "name": "122",
         "rawType": "float32",
         "type": "float"
        },
        {
         "name": "123",
         "rawType": "float32",
         "type": "float"
        },
        {
         "name": "124",
         "rawType": "float32",
         "type": "float"
        },
        {
         "name": "125",
         "rawType": "float32",
         "type": "float"
        },
        {
         "name": "126",
         "rawType": "float32",
         "type": "float"
        },
        {
         "name": "127",
         "rawType": "float32",
         "type": "float"
        },
        {
         "name": "128",
         "rawType": "float32",
         "type": "float"
        },
        {
         "name": "129",
         "rawType": "float32",
         "type": "float"
        },
        {
         "name": "130",
         "rawType": "float32",
         "type": "float"
        },
        {
         "name": "131",
         "rawType": "float32",
         "type": "float"
        },
        {
         "name": "132",
         "rawType": "float32",
         "type": "float"
        },
        {
         "name": "133",
         "rawType": "float32",
         "type": "float"
        },
        {
         "name": "134",
         "rawType": "float32",
         "type": "float"
        },
        {
         "name": "135",
         "rawType": "float32",
         "type": "float"
        },
        {
         "name": "136",
         "rawType": "float32",
         "type": "float"
        },
        {
         "name": "137",
         "rawType": "float32",
         "type": "float"
        },
        {
         "name": "138",
         "rawType": "float32",
         "type": "float"
        },
        {
         "name": "139",
         "rawType": "float32",
         "type": "float"
        },
        {
         "name": "140",
         "rawType": "float32",
         "type": "float"
        },
        {
         "name": "141",
         "rawType": "float32",
         "type": "float"
        },
        {
         "name": "142",
         "rawType": "float32",
         "type": "float"
        },
        {
         "name": "143",
         "rawType": "float32",
         "type": "float"
        },
        {
         "name": "144",
         "rawType": "float32",
         "type": "float"
        },
        {
         "name": "145",
         "rawType": "float32",
         "type": "float"
        },
        {
         "name": "146",
         "rawType": "float32",
         "type": "float"
        },
        {
         "name": "147",
         "rawType": "float32",
         "type": "float"
        },
        {
         "name": "148",
         "rawType": "float32",
         "type": "float"
        },
        {
         "name": "149",
         "rawType": "float32",
         "type": "float"
        },
        {
         "name": "150",
         "rawType": "float32",
         "type": "float"
        },
        {
         "name": "151",
         "rawType": "float32",
         "type": "float"
        },
        {
         "name": "152",
         "rawType": "float32",
         "type": "float"
        },
        {
         "name": "153",
         "rawType": "float32",
         "type": "float"
        },
        {
         "name": "154",
         "rawType": "float32",
         "type": "float"
        },
        {
         "name": "155",
         "rawType": "float32",
         "type": "float"
        },
        {
         "name": "156",
         "rawType": "float32",
         "type": "float"
        },
        {
         "name": "157",
         "rawType": "float32",
         "type": "float"
        },
        {
         "name": "158",
         "rawType": "float32",
         "type": "float"
        },
        {
         "name": "159",
         "rawType": "float32",
         "type": "float"
        },
        {
         "name": "160",
         "rawType": "float32",
         "type": "float"
        },
        {
         "name": "161",
         "rawType": "float32",
         "type": "float"
        },
        {
         "name": "162",
         "rawType": "float32",
         "type": "float"
        },
        {
         "name": "163",
         "rawType": "float32",
         "type": "float"
        },
        {
         "name": "164",
         "rawType": "float32",
         "type": "float"
        },
        {
         "name": "165",
         "rawType": "float32",
         "type": "float"
        },
        {
         "name": "166",
         "rawType": "float32",
         "type": "float"
        },
        {
         "name": "167",
         "rawType": "float32",
         "type": "float"
        },
        {
         "name": "168",
         "rawType": "float32",
         "type": "float"
        },
        {
         "name": "169",
         "rawType": "float32",
         "type": "float"
        },
        {
         "name": "170",
         "rawType": "float32",
         "type": "float"
        },
        {
         "name": "171",
         "rawType": "float32",
         "type": "float"
        },
        {
         "name": "172",
         "rawType": "float32",
         "type": "float"
        },
        {
         "name": "173",
         "rawType": "float32",
         "type": "float"
        },
        {
         "name": "174",
         "rawType": "float32",
         "type": "float"
        },
        {
         "name": "175",
         "rawType": "float32",
         "type": "float"
        },
        {
         "name": "176",
         "rawType": "float32",
         "type": "float"
        },
        {
         "name": "177",
         "rawType": "float32",
         "type": "float"
        },
        {
         "name": "178",
         "rawType": "float32",
         "type": "float"
        },
        {
         "name": "179",
         "rawType": "float32",
         "type": "float"
        },
        {
         "name": "180",
         "rawType": "float32",
         "type": "float"
        },
        {
         "name": "181",
         "rawType": "float32",
         "type": "float"
        },
        {
         "name": "182",
         "rawType": "float32",
         "type": "float"
        },
        {
         "name": "183",
         "rawType": "float32",
         "type": "float"
        },
        {
         "name": "184",
         "rawType": "float32",
         "type": "float"
        },
        {
         "name": "185",
         "rawType": "float32",
         "type": "float"
        },
        {
         "name": "186",
         "rawType": "float32",
         "type": "float"
        },
        {
         "name": "187",
         "rawType": "float32",
         "type": "float"
        },
        {
         "name": "188",
         "rawType": "float32",
         "type": "float"
        },
        {
         "name": "189",
         "rawType": "float32",
         "type": "float"
        },
        {
         "name": "190",
         "rawType": "float32",
         "type": "float"
        },
        {
         "name": "191",
         "rawType": "float32",
         "type": "float"
        },
        {
         "name": "192",
         "rawType": "float32",
         "type": "float"
        },
        {
         "name": "193",
         "rawType": "float32",
         "type": "float"
        },
        {
         "name": "194",
         "rawType": "float32",
         "type": "float"
        },
        {
         "name": "195",
         "rawType": "float32",
         "type": "float"
        },
        {
         "name": "196",
         "rawType": "float32",
         "type": "float"
        },
        {
         "name": "197",
         "rawType": "float32",
         "type": "float"
        },
        {
         "name": "198",
         "rawType": "float32",
         "type": "float"
        },
        {
         "name": "199",
         "rawType": "float32",
         "type": "float"
        },
        {
         "name": "200",
         "rawType": "float32",
         "type": "float"
        },
        {
         "name": "201",
         "rawType": "float32",
         "type": "float"
        },
        {
         "name": "202",
         "rawType": "float32",
         "type": "float"
        },
        {
         "name": "203",
         "rawType": "float32",
         "type": "float"
        },
        {
         "name": "204",
         "rawType": "float32",
         "type": "float"
        },
        {
         "name": "205",
         "rawType": "float32",
         "type": "float"
        },
        {
         "name": "206",
         "rawType": "float32",
         "type": "float"
        },
        {
         "name": "207",
         "rawType": "float32",
         "type": "float"
        },
        {
         "name": "208",
         "rawType": "float32",
         "type": "float"
        },
        {
         "name": "209",
         "rawType": "float32",
         "type": "float"
        },
        {
         "name": "210",
         "rawType": "float32",
         "type": "float"
        },
        {
         "name": "211",
         "rawType": "float32",
         "type": "float"
        },
        {
         "name": "212",
         "rawType": "float32",
         "type": "float"
        },
        {
         "name": "213",
         "rawType": "float32",
         "type": "float"
        },
        {
         "name": "214",
         "rawType": "float32",
         "type": "float"
        },
        {
         "name": "215",
         "rawType": "float32",
         "type": "float"
        },
        {
         "name": "216",
         "rawType": "float32",
         "type": "float"
        },
        {
         "name": "217",
         "rawType": "float32",
         "type": "float"
        },
        {
         "name": "218",
         "rawType": "float32",
         "type": "float"
        },
        {
         "name": "219",
         "rawType": "float32",
         "type": "float"
        },
        {
         "name": "220",
         "rawType": "float32",
         "type": "float"
        },
        {
         "name": "221",
         "rawType": "float32",
         "type": "float"
        },
        {
         "name": "222",
         "rawType": "float32",
         "type": "float"
        },
        {
         "name": "223",
         "rawType": "float32",
         "type": "float"
        },
        {
         "name": "224",
         "rawType": "float32",
         "type": "float"
        },
        {
         "name": "225",
         "rawType": "float32",
         "type": "float"
        },
        {
         "name": "226",
         "rawType": "float32",
         "type": "float"
        },
        {
         "name": "227",
         "rawType": "float32",
         "type": "float"
        },
        {
         "name": "228",
         "rawType": "float32",
         "type": "float"
        },
        {
         "name": "229",
         "rawType": "float32",
         "type": "float"
        },
        {
         "name": "230",
         "rawType": "float32",
         "type": "float"
        },
        {
         "name": "231",
         "rawType": "float32",
         "type": "float"
        },
        {
         "name": "232",
         "rawType": "float32",
         "type": "float"
        },
        {
         "name": "233",
         "rawType": "float32",
         "type": "float"
        },
        {
         "name": "234",
         "rawType": "float32",
         "type": "float"
        },
        {
         "name": "235",
         "rawType": "float32",
         "type": "float"
        },
        {
         "name": "236",
         "rawType": "float32",
         "type": "float"
        },
        {
         "name": "237",
         "rawType": "float32",
         "type": "float"
        },
        {
         "name": "238",
         "rawType": "float32",
         "type": "float"
        },
        {
         "name": "239",
         "rawType": "float32",
         "type": "float"
        },
        {
         "name": "240",
         "rawType": "float32",
         "type": "float"
        },
        {
         "name": "241",
         "rawType": "float32",
         "type": "float"
        },
        {
         "name": "242",
         "rawType": "float32",
         "type": "float"
        },
        {
         "name": "243",
         "rawType": "float32",
         "type": "float"
        },
        {
         "name": "244",
         "rawType": "float32",
         "type": "float"
        },
        {
         "name": "245",
         "rawType": "float32",
         "type": "float"
        },
        {
         "name": "246",
         "rawType": "float32",
         "type": "float"
        },
        {
         "name": "247",
         "rawType": "float32",
         "type": "float"
        },
        {
         "name": "248",
         "rawType": "float32",
         "type": "float"
        },
        {
         "name": "249",
         "rawType": "float32",
         "type": "float"
        },
        {
         "name": "250",
         "rawType": "float32",
         "type": "float"
        },
        {
         "name": "251",
         "rawType": "float32",
         "type": "float"
        },
        {
         "name": "252",
         "rawType": "float32",
         "type": "float"
        },
        {
         "name": "253",
         "rawType": "float32",
         "type": "float"
        },
        {
         "name": "254",
         "rawType": "float32",
         "type": "float"
        },
        {
         "name": "255",
         "rawType": "float32",
         "type": "float"
        },
        {
         "name": "256",
         "rawType": "float32",
         "type": "float"
        },
        {
         "name": "257",
         "rawType": "float32",
         "type": "float"
        },
        {
         "name": "258",
         "rawType": "float32",
         "type": "float"
        },
        {
         "name": "259",
         "rawType": "float32",
         "type": "float"
        },
        {
         "name": "260",
         "rawType": "float32",
         "type": "float"
        },
        {
         "name": "261",
         "rawType": "float32",
         "type": "float"
        },
        {
         "name": "262",
         "rawType": "float32",
         "type": "float"
        },
        {
         "name": "263",
         "rawType": "float32",
         "type": "float"
        },
        {
         "name": "264",
         "rawType": "float32",
         "type": "float"
        },
        {
         "name": "265",
         "rawType": "float32",
         "type": "float"
        },
        {
         "name": "266",
         "rawType": "float32",
         "type": "float"
        },
        {
         "name": "267",
         "rawType": "float32",
         "type": "float"
        },
        {
         "name": "268",
         "rawType": "float32",
         "type": "float"
        },
        {
         "name": "269",
         "rawType": "float32",
         "type": "float"
        },
        {
         "name": "270",
         "rawType": "float32",
         "type": "float"
        },
        {
         "name": "271",
         "rawType": "float32",
         "type": "float"
        },
        {
         "name": "272",
         "rawType": "float32",
         "type": "float"
        },
        {
         "name": "273",
         "rawType": "float32",
         "type": "float"
        },
        {
         "name": "274",
         "rawType": "float32",
         "type": "float"
        },
        {
         "name": "275",
         "rawType": "float32",
         "type": "float"
        },
        {
         "name": "276",
         "rawType": "float32",
         "type": "float"
        },
        {
         "name": "277",
         "rawType": "float32",
         "type": "float"
        },
        {
         "name": "278",
         "rawType": "float32",
         "type": "float"
        },
        {
         "name": "279",
         "rawType": "float32",
         "type": "float"
        },
        {
         "name": "280",
         "rawType": "float32",
         "type": "float"
        },
        {
         "name": "281",
         "rawType": "float32",
         "type": "float"
        },
        {
         "name": "282",
         "rawType": "float32",
         "type": "float"
        },
        {
         "name": "283",
         "rawType": "float32",
         "type": "float"
        },
        {
         "name": "284",
         "rawType": "float32",
         "type": "float"
        },
        {
         "name": "285",
         "rawType": "float32",
         "type": "float"
        },
        {
         "name": "286",
         "rawType": "float32",
         "type": "float"
        },
        {
         "name": "287",
         "rawType": "float32",
         "type": "float"
        },
        {
         "name": "288",
         "rawType": "float32",
         "type": "float"
        },
        {
         "name": "289",
         "rawType": "float32",
         "type": "float"
        },
        {
         "name": "290",
         "rawType": "float32",
         "type": "float"
        },
        {
         "name": "291",
         "rawType": "float32",
         "type": "float"
        },
        {
         "name": "292",
         "rawType": "float32",
         "type": "float"
        },
        {
         "name": "293",
         "rawType": "float32",
         "type": "float"
        },
        {
         "name": "294",
         "rawType": "float32",
         "type": "float"
        },
        {
         "name": "295",
         "rawType": "float32",
         "type": "float"
        },
        {
         "name": "296",
         "rawType": "float32",
         "type": "float"
        },
        {
         "name": "297",
         "rawType": "float32",
         "type": "float"
        },
        {
         "name": "298",
         "rawType": "float32",
         "type": "float"
        },
        {
         "name": "299",
         "rawType": "float32",
         "type": "float"
        },
        {
         "name": "300",
         "rawType": "float32",
         "type": "float"
        }
       ],
       "conversionMethod": "pd.DataFrame",
       "ref": "e3c1fbca-a531-4ec2-86d0-b482a82ac2c1",
       "rows": [
        [
         "0",
         "0.0056017875",
         "0.0050317524",
         "0.0044210367",
         "0.0040001515",
         "0.0037400667",
         "0.003583403",
         "0.0034875264",
         "0.0034255267",
         "0.0033816425",
         "0.003347372",
         "0.003318735",
         "0.003294416",
         "0.0032744706",
         "0.0032594597",
         "0.003249925",
         "0.0032461002",
         "0.003247828",
         "0.003254579",
         "0.0032655115",
         "0.0032795635",
         "0.0032955192",
         "0.0033120776",
         "0.0033279122",
         "0.0033417249",
         "0.003352302",
         "0.003358594",
         "0.0033598202",
         "0.0033556065",
         "0.003346124",
         "0.003332178",
         "0.0033151757",
         "0.0032969585",
         "0.003279527",
         "0.0032647236",
         "0.0032539933",
         "0.0032482294",
         "0.0032477498",
         "0.003252362",
         "0.0032614572",
         "0.003274121",
         "0.0032892283",
         "0.0033055253",
         "0.003321697",
         "0.0033364254",
         "0.0033484534",
         "0.0033566433",
         "0.0033600817",
         "0.0033581948",
         "0.0033509023",
         "0.003338727",
         "0.0033228265",
         "0.0033048824",
         "0.0032868604",
         "0.0032707104",
         "0.0032580711",
         "0.003250085",
         "0.0032473144",
         "0.0032497756",
         "0.0032570276",
         "0.0032682738",
         "0.0032824744",
         "0.0032984144",
         "0.003314804",
         "0.0033303155",
         "0.0033436592",
         "0.0033536362",
         "0.0033592244",
         "0.0033596812",
         "0.0033547012",
         "0.0033445305",
         "0.0033300624",
         "0.0033127698",
         "0.0032945336",
         "0.0032773507",
         "0.0032630204",
         "0.0032529188",
         "0.00324786",
         "0.0032480888",
         "0.0032533489",
         "0.0032629822",
         "0.0032760445",
         "0.0032913878",
         "0.0033077467",
         "0.0033238009",
         "0.0033382347",
         "0.0033498062",
         "0.0033574032",
         "0.003360145",
         "0.0033575227",
         "0.003349524",
         "0.0033367663",
         "0.0033204816",
         "0.0033024086",
         "0.0032845298",
         "0.003268767",
         "0.0032567028",
         "0.0032494003",
         "0.0032473465",
         "0.0032504902",
         "0.0032583335",
         "0.0032700454",
         "0.0032845524",
         "0.0033006317",
         "0.0033169787",
         "0.003332272",
         "0.003345227",
         "0.0033546675",
         "0.0033595974",
         "0.0033593278",
         "0.0033536174",
         "0.0033428026",
         "0.0033278554",
         "0.00331032",
         "0.0032921094",
         "0.0032752121",
         "0.003261385",
         "0.0032519288",
         "0.0032475814",
         "0.0032485158",
         "0.0032544122",
         "0.0032645697",
         "0.0032780105",
         "0.0032935669",
         "0.0033099602",
         "0.0033258693",
         "0.0033399896",
         "0.0033510856",
         "0.003358072",
         "0.0033601096",
         "0.003356748",
         "0.0033480579",
         "0.0033347378",
         "0.003318103",
         "0.0032999385",
         "0.0032822376",
         "0.0032668926",
         "0.0032554213",
         "0.0032488133",
         "0.0032474736",
         "0.0032512902",
         "0.0032597114",
         "0.0032718673",
         "0.0032866604",
         "0.0033028517",
         "0.0033191326",
         "0.0033341853",
         "0.0033467324",
         "0.0033556162",
         "0.003359875",
         "0.0033588735",
         "0.0033524402",
         "0.0033409956",
         "0.0033255976",
         "0.0033078555",
         "0.0032897084",
         "0.003273132",
         "0.0032598306",
         "0.0032510352",
         "0.0032474028",
         "0.003249034",
         "0.0032555533",
         "0.0032662174",
         "0.0032800154",
         "0.0032957615",
         "0.0033121675",
         "0.0033279108",
         "0.0033416923",
         "0.0033522903",
         "0.0033586498",
         "0.0033599762",
         "0.0033558772",
         "0.0033465065",
         "0.0033326503",
         "0.0033156963",
         "0.003297477",
         "0.00327999",
         "0.0032650898",
         "0.0032542306",
         "0.0032483211",
         "0.0032476971",
         "0.0032521756",
         "0.0032611582",
         "0.003273737",
         "0.0032887931",
         "0.0033050745",
         "0.0033212665",
         "0.003336053",
         "0.0033481712",
         "0.0033564796",
         "0.0033600563",
         "0.0033583194",
         "0.00335117",
         "0.003339117",
         "0.003323299",
         "0.0033053847",
         "0.0032873382",
         "0.003271112",
         "0.0032583592",
         "0.0032502348",
         "0.0032473202",
         "0.0032496427",
         "0.003256772",
         "0.0032679234",
         "0.003282056",
         "0.003297967",
         "0.0033143593",
         "0.0033299124",
         "0.0033433326",
         "0.0033534188",
         "0.003359137",
         "0.0033597418",
         "0.0033549082",
         "0.0033448727",
         "0.0033305038",
         "0.0033132664",
         "0.0032950286",
         "0.0032777898",
         "0.00326336",
         "0.0032531302",
         "0.0032479272",
         "0.0032480133",
         "0.0032531433",
         "0.0032626688",
         "0.0032756529",
         "0.0032909485",
         "0.0033072953",
         "0.003323374",
         "0.0033378717",
         "0.0033495366",
         "0.003357255",
         "0.0033601397",
         "0.0033576647",
         "0.003349811",
         "0.003337168",
         "0.0033209599",
         "0.0030577122",
         "0.0030779832",
         "0.0031783367",
         "0.0032648589",
         "0.003320843",
         "0.0033522288",
         "0.0033680387",
         "0.0033751433",
         "0.0033778113",
         "0.0033784213",
         "0.0033781943",
         "0.0033777049",
         "0.003377204",
         "0.0033767775",
         "0.0033764434",
         "0.0033761936",
         "0.003376011",
         "0.003375878",
         "0.0033757822",
         "0.0033757114",
         "0.0033756604",
         "0.003375622",
         "0.0033755929",
         "0.003375571",
         "0.0033755566",
         "0.0033755444",
         "0.0033755351",
         "0.0033755295",
         "0.0033755242",
         "0.0033755195",
         "0.0033755172",
         "0.0033755144",
         "0.003375512",
         "0.0033755118",
         "0.0033755107",
         "0.0033755098",
         "0.0033755095",
         "0.0033755095",
         "0.0033755081",
         "0.0033755074",
         "0.003375508",
         "0.0033755081",
         "0.0033755074",
         "0.003375508",
         "0.003375508",
         "0.003375508",
         "0.003375508",
         "0.003375508",
         "0.0033755074",
         "0.0033755074",
         "0.0033755074",
         "0.0033755072",
         "0.003375508",
         "0.0033755074",
         "0.003375508",
         "0.003375508",
         "0.003375508",
         "0.003375508",
         "0.003375508",
         "0.003375508",
         "0.003375508",
         "0.003375508",
         "0.003375508",
         "0.003893167",
         "0.00010206512",
         "0.0010125837"
        ],
        [
         "1",
         "0.0063368618",
         "0.0053025326",
         "0.004465621",
         "0.003951409",
         "0.003654727",
         "0.003483501",
         "0.0033801429",
         "0.0033113607",
         "0.0032589966",
         "0.0032141625",
         "0.003173517",
         "0.0031368437",
         "0.0031054062",
         "0.003080879",
         "0.003064716",
         "0.0030578112",
         "0.0030603844",
         "0.0030719691",
         "0.0030914436",
         "0.003117102",
         "0.0031467397",
         "0.0031777874",
         "0.0032074996",
         "0.0032331657",
         "0.0032523475",
         "0.0032631075",
         "0.0032642244",
         "0.0032553782",
         "0.0032372717",
         "0.003211642",
         "0.003181095",
         "0.0031487884",
         "0.0031180077",
         "0.003091741",
         "0.0030723698",
         "0.0030614866",
         "0.0030598463",
         "0.003067407",
         "0.0030833941",
         "0.0031063822",
         "0.0031343827",
         "0.003164972",
         "0.0031954546",
         "0.0032230732",
         "0.0032452408",
         "0.0032597694",
         "0.0032651008",
         "0.0032604996",
         "0.003246216",
         "0.0032235454",
         "0.0031947468",
         "0.0031627866",
         "0.0031309451",
         "0.0031023882",
         "0.0030797876",
         "0.00306509",
         "0.0030594105",
         "0.0030630443",
         "0.0030755247",
         "0.0030956964",
         "0.003121806",
         "0.0031515937",
         "0.0031824633",
         "0.0032116526",
         "0.0032364742",
         "0.0032545389",
         "0.0032639925",
         "0.003263715",
         "0.0032535228",
         "0.0032342537",
         "0.0032077758",
         "0.0031767876",
         "0.0031444896",
         "0.0031141497",
         "0.0030886873",
         "0.003070386",
         "0.0030607227",
         "0.0030603432",
         "0.0030691018",
         "0.0030861285",
         "0.0031099191",
         "0.0031384192",
         "0.0031691568",
         "0.0031994134",
         "0.003226439",
         "0.0032476904",
         "0.0032610532",
         "0.003265065",
         "0.00325912",
         "0.003243604",
         "0.0032199556",
         "0.0031905451",
         "0.0031584073",
         "0.0031268317",
         "0.0030989363",
         "0.0030773082",
         "0.0030637812",
         "0.0030593597",
         "0.0030642317",
         "0.0030778318",
         "0.0030989219",
         "0.003125667",
         "0.0031557595",
         "0.0031865637",
         "0.0032153171",
         "0.003239355",
         "0.0032563522",
         "0.003264537",
         "0.0032629108",
         "0.0032514194",
         "0.0032310486",
         "0.0032037888",
         "0.0031724316",
         "0.0031402092",
         "0.0031103673",
         "0.0030857564",
         "0.0030685524",
         "0.0030601232",
         "0.0030610042",
         "0.0030709447",
         "0.0030889863",
         "0.0031135443",
         "0.0031424977",
         "0.0031733306",
         "0.0032033075",
         "0.0032296963",
         "0.0032499942",
         "0.0032621631",
         "0.0032648449",
         "0.0032575617",
         "0.0032408417",
         "0.0032162583",
         "0.003186293",
         "0.0031540382",
         "0.0031227858",
         "0.0030956008",
         "0.0030749768",
         "0.003062641",
         "0.0030594792",
         "0.0030655793",
         "0.003080278",
         "0.0031022497",
         "0.0031295912",
         "0.003159938",
         "0.0031906257",
         "0.003218894",
         "0.0032421083",
         "0.0032580036",
         "0.003264902",
         "0.0032619245",
         "0.0032491533",
         "0.0032277142",
         "0.0031997235",
         "0.0031680567",
         "0.0031359722",
         "0.0031066833",
         "0.0030829622",
         "0.0030668827",
         "0.0030596976",
         "0.0030618315",
         "0.003072936",
         "0.0030919644",
         "0.00311725",
         "0.003146612",
         "0.003177491",
         "0.0032071413",
         "0.0032328456",
         "0.0032521498",
         "0.003263099",
         "0.0032644428",
         "0.0032558306",
         "0.0032379346",
         "0.003212463",
         "0.0031819984",
         "0.0031496875",
         "0.0031188156",
         "0.0030923865",
         "0.0030727992",
         "0.0030616676",
         "0.0030597704",
         "0.0030670855",
         "0.0030828575",
         "0.0031056763",
         "0.0031335696",
         "0.003164123",
         "0.0031946455",
         "0.0032223787",
         "0.0032447278",
         "0.0032594895",
         "0.0032650852",
         "0.0032607582",
         "0.0032467265",
         "0.00322426",
         "0.0031955934",
         "0.0031636762",
         "0.0031317878",
         "0.0031031007",
         "0.003080308",
         "0.0030653744",
         "0.003059442",
         "0.003062824",
         "0.0030750737",
         "0.0030950576",
         "0.00312103",
         "0.003150752",
         "0.0031816263",
         "0.0032108987",
         "0.0032358738",
         "0.0032541535",
         "0.0032638595",
         "0.0032638572",
         "0.0032539284",
         "0.0032348887",
         "0.0032085746",
         "0.0031776708",
         "0.0031453632",
         "0.003114927",
         "0.0030892964",
         "0.0030707764",
         "0.0030608645",
         "0.0030602298",
         "0.0030687468",
         "0.0030855648",
         "0.0031091967",
         "0.0031375973",
         "0.0031683075",
         "0.003198613",
         "0.0032257647",
         "0.0032472042",
         "0.0032608055",
         "0.0032650863",
         "0.0032594115",
         "0.0032441462",
         "0.0032206918",
         "0.0031914015",
         "0.0031498722",
         "0.0033673027",
         "0.0035904925",
         "0.0037438865",
         "0.0038332331",
         "0.0038802666",
         "0.0039030777",
         "0.003913225",
         "0.0039172308",
         "0.0039184815",
         "0.003918622",
         "0.0039183903",
         "0.0039180918",
         "0.003917832",
         "0.003917632",
         "0.0039174897",
         "0.00391739",
         "0.0039173197",
         "0.0039172703",
         "0.0039172336",
         "0.0039172075",
         "0.003917186",
         "0.0039171693",
         "0.003917156",
         "0.003917148",
         "0.0039171404",
         "0.003917134",
         "0.00391713",
         "0.0039171265",
         "0.0039171227",
         "0.003917122",
         "0.003917119",
         "0.0039171176",
         "0.0039171176",
         "0.003917116",
         "0.0039171153",
         "0.003917115",
         "0.0039171153",
         "0.003917114",
         "0.003917113",
         "0.003917114",
         "0.003917114",
         "0.003917113",
         "0.003917114",
         "0.003917114",
         "0.003917114",
         "0.003917114",
         "0.003917114",
         "0.003917114",
         "0.003917114",
         "0.003917114",
         "0.0039171134",
         "0.003917114",
         "0.003917114",
         "0.003917114",
         "0.003917114",
         "0.003917114",
         "0.003917114",
         "0.003917114",
         "0.003917114",
         "0.003917114",
         "0.003917114",
         "0.003917114",
         "0.0024418938",
         "0.00010506841",
         "0.0009594489"
        ],
        [
         "2",
         "0.0066611986",
         "0.0053955587",
         "0.004457113",
         "0.0039039883",
         "0.0035927522",
         "0.0034155913",
         "0.0033085344",
         "0.0032357092",
         "0.0031781178",
         "0.0031269223",
         "0.0030792824",
         "0.0030356592",
         "0.002997997",
         "0.0029685542",
         "0.0029492266",
         "0.0029412005",
         "0.0029448336",
         "0.0029596393",
         "0.002984305",
         "0.0030167513",
         "0.003054219",
         "0.0030934312",
         "0.0031308436",
         "0.0031629473",
         "0.0031866084",
         "0.003199394",
         "0.0031998616",
         "0.0031877737",
         "0.0031642085",
         "0.0031315126",
         "0.0030930429",
         "0.0030527439",
         "0.0030146323",
         "0.002982308",
         "0.002958619",
         "0.0029454718",
         "0.0029437921",
         "0.0029535596",
         "0.0029738648",
         "0.0030029747",
         "0.0030384143",
         "0.003077107",
         "0.003115585",
         "0.0031502778",
         "0.0031778442",
         "0.003195503",
         "0.0032013494",
         "0.0031945973",
         "0.0031757508",
         "0.0031466223",
         "0.0031101748",
         "0.0030701575",
         "0.003030616",
         "0.0029953853",
         "0.0029676666",
         "0.0029497875",
         "0.0029430953",
         "0.0029479715",
         "0.0029638845",
         "0.002989447",
         "0.0030224973",
         "0.0030601902",
         "0.0030992012",
         "0.0031359617",
         "0.0031669913",
         "0.003189226",
         "0.00320035",
         "0.0031990602",
         "0.0031852985",
         "0.0031603142",
         "0.003126609",
         "0.003087643",
         "0.0030474013",
         "0.0030098697",
         "0.002978561",
         "0.0029562034",
         "0.0029445707",
         "0.002944457",
         "0.002955719",
         "0.0029773293",
         "0.0030074522",
         "0.0030435224",
         "0.0030823955",
         "0.0031205704",
         "0.0031544855",
         "0.0031808591",
         "0.0031970136",
         "0.0032011762",
         "0.0031927335",
         "0.003172363",
         "0.0031420528",
         "0.003104892",
         "0.003064702",
         "0.0030255287",
         "0.0029911413",
         "0.002964638",
         "0.0029482117",
         "0.0029430806",
         "0.002949498",
         "0.002966812",
         "0.0029935301",
         "0.0030273842",
         "0.003065459",
         "0.0031043754",
         "0.003140561",
         "0.003170567",
         "0.003191418",
         "0.0032009147",
         "0.0031979172",
         "0.003182537",
         "0.0031562056",
         "0.0031215705",
         "0.0030821953",
         "0.0030420918",
         "0.003005208",
         "0.0029749696",
         "0.0029539773",
         "0.002943875",
         "0.0029453272",
         "0.0029580647",
         "0.0029809491",
         "0.0030120404",
         "0.0030486828",
         "0.0030876691",
         "0.0031254727",
         "0.0031585528",
         "0.003183686",
         "0.0031983014",
         "0.0032007704",
         "0.0031906473",
         "0.003168792",
         "0.003137355",
         "0.0030995528",
         "0.0030592645",
         "0.0030205287",
         "0.0029870435",
         "0.0029617934",
         "0.0029468453",
         "0.0029432774",
         "0.0029512243",
         "0.002969914",
         "0.0029977434",
         "0.0030323504",
         "0.0030707428",
         "0.0031094986",
         "0.0031450451",
         "0.0031739757",
         "0.0031934013",
         "0.0032012505",
         "0.0031965456",
         "0.0031795737",
         "0.0031519413",
         "0.0031164428",
         "0.0030767315",
         "0.0030368404",
         "0.0030006706",
         "0.002971549",
         "0.002951954",
         "0.0029433942",
         "0.0029464045",
         "0.002960597",
         "0.002984721",
         "0.003016731",
         "0.0030538877",
         "0.0030929237",
         "0.003130293",
         "0.0031624776",
         "0.0031863207",
         "0.0031993662",
         "0.0032001336",
         "0.0031883465",
         "0.003165045",
         "0.0031325417",
         "0.0030941672",
         "0.003053856",
         "0.0030156265",
         "0.0029830977",
         "0.0029591396",
         "0.0029456855",
         "0.0029436871",
         "0.0029531482",
         "0.002973184",
         "0.003002081",
         "0.0030373852",
         "0.003076034",
         "0.0031145655",
         "0.0031494088",
         "0.0031772112",
         "0.0031951712",
         "0.0032013555",
         "0.0031949487",
         "0.003176414",
         "0.0031475334",
         "0.0031112395",
         "0.0030712665",
         "0.0030316587",
         "0.0029962617",
         "0.0029683025",
         "0.0029501312",
         "0.0029431249",
         "0.0029476876",
         "0.0029633115",
         "0.0029886372",
         "0.0030215154",
         "0.0030591253",
         "0.0030981451",
         "0.0031350153",
         "0.003166245",
         "0.0031887582",
         "0.0032002067",
         "0.0031992658",
         "0.0031858333",
         "0.003161129",
         "0.003127619",
         "0.0030887474",
         "0.0030484854",
         "0.003010829",
         "0.002979308",
         "0.0029566784",
         "0.002944737",
         "0.0029443062",
         "0.0029552667",
         "0.002976615",
         "0.003006537",
         "0.0030424823",
         "0.0030813224",
         "0.0031195632",
         "0.003153643",
         "0.0031802624",
         "0.0031967238",
         "0.0032012293",
         "0.003193127",
         "0.0031730656",
         "0.0031429892",
         "0.003105968",
         "0.0031993922",
         "0.0035411238",
         "0.0038449673",
         "0.0040432466",
         "0.0041554766",
         "0.0042136214",
         "0.0042417166",
         "0.0042544086",
         "0.0042597153",
         "0.004261709",
         "0.004262332",
         "0.004262448",
         "0.0042624157",
         "0.0042623617",
         "0.004262322",
         "0.004262302",
         "0.0042622956",
         "0.0042622937",
         "0.0042622956",
         "0.0042622956",
         "0.0042622965",
         "0.0042622937",
         "0.004262291",
         "0.004262288",
         "0.004262287",
         "0.004262285",
         "0.0042622816",
         "0.0042622807",
         "0.0042622793",
         "0.0042622765",
         "0.004262276",
         "0.004262274",
         "0.0042622727",
         "0.0042622737",
         "0.0042622727",
         "0.0042622713",
         "0.0042622713",
         "0.0042622723",
         "0.004262271",
         "0.0042622695",
         "0.004262271",
         "0.0042622704",
         "0.00426227",
         "0.0042622704",
         "0.004262271",
         "0.004262271",
         "0.004262271",
         "0.0042622713",
         "0.004262271",
         "0.004262271",
         "0.004262271",
         "0.004262271",
         "0.004262271",
         "0.004262271",
         "0.004262271",
         "0.0042622713",
         "0.004262271",
         "0.0042622713",
         "0.004262271",
         "0.0042622713",
         "0.004262271",
         "0.0042622713",
         "0.004262271",
         "0.0018563331",
         "0.00010570191",
         "0.0009247566"
        ],
        [
         "3",
         "0.0067643346",
         "0.005411205",
         "0.0044371462",
         "0.0038711245",
         "0.0035551393",
         "0.0033757377",
         "0.0032667452",
         "0.0031914494",
         "0.0031306595",
         "0.0030756928",
         "0.0030240463",
         "0.0029765733",
         "0.002935588",
         "0.0029036454",
         "0.0028828513",
         "0.002874515",
         "0.0028790347",
         "0.002895883",
         "0.0029236209",
         "0.0029599513",
         "0.0030018028",
         "0.0030455077",
         "0.0030870822",
         "0.0031225807",
         "0.0031484906",
         "0.0031621181",
         "0.0031619172",
         "0.0031477246",
         "0.0031208617",
         "0.0030840472",
         "0.003041083",
         "0.002996365",
         "0.0029543138",
         "0.0029188513",
         "0.002893056",
         "0.0028789737",
         "0.002877588",
         "0.0028888613",
         "0.002911785",
         "0.002944443",
         "0.002984083",
         "0.0030272661",
         "0.0030701004",
         "0.0031085685",
         "0.0031389177",
         "0.003158048",
         "0.0031638797",
         "0.003155623",
         "0.0031339552",
         "0.0031010113",
         "0.0030601756",
         "0.003015653",
         "0.0029719197",
         "0.0029331706",
         "0.0029028773",
         "0.0028835442",
         "0.0028766124",
         "0.0028824771",
         "0.0029005455",
         "0.0029292824",
         "0.0029662906",
         "0.003008398",
         "0.0030518782",
         "0.0030927188",
         "0.003127006",
         "0.0031513104",
         "0.0031630734",
         "0.0031609128",
         "0.003144867",
         "0.0031164498",
         "0.0030785485",
         "0.0030350722",
         "0.0029904547",
         "0.0029490746",
         "0.002914756",
         "0.0028904437",
         "0.00287804",
         "0.0028783868",
         "0.0028913121",
         "0.0029156795",
         "0.0029494571",
         "0.0029897892",
         "0.003033161",
         "0.003075639",
         "0.0031132181",
         "0.0031422132",
         "0.0031596452",
         "0.0031635882",
         "0.0031534494",
         "0.0031301016",
         "0.0030958725",
         "0.0030542808",
         "0.003009604",
         "0.002966311",
         "0.0029285192",
         "0.002899584",
         "0.0028818643",
         "0.0028766599",
         "0.0028842292",
         "0.0029038463",
         "0.0029338605",
         "0.002971755",
         "0.0030142767",
         "0.003057636",
         "0.003097815",
         "0.0031309377",
         "0.0031536762",
         "0.0031636085",
         "0.0031595393",
         "0.0031417017",
         "0.0031118093",
         "0.0030729088",
         "0.003029016",
         "0.0029845862",
         "0.0029439519",
         "0.0029108352",
         "0.0028880427",
         "0.002877334",
         "0.0028794126",
         "0.0028939696",
         "0.0029197459",
         "0.0029545925",
         "0.0029955523",
         "0.003039037",
         "0.003081083",
         "0.003117708",
         "0.0031452964",
         "0.0031609926",
         "0.0031630371",
         "0.0031510303",
         "0.003126048",
         "0.0030905963",
         "0.0030483291",
         "0.0030035805",
         "0.0029608028",
         "0.0029240318",
         "0.0028964956",
         "0.0028804156",
         "0.0028769416",
         "0.002886202",
         "0.0029073402",
         "0.0029385823",
         "0.0029773067",
         "0.0030201704",
         "0.0030633344",
         "0.0031027799",
         "0.0031346793",
         "0.0031558056",
         "0.003163887",
         "0.003157912",
         "0.003138314",
         "0.0031070006",
         "0.0030671756",
         "0.003022948",
         "0.0029787873",
         "0.002938969",
         "0.0029071053",
         "0.002885866",
         "0.002876866",
         "0.002880668",
         "0.0028968332",
         "0.0029239801",
         "0.0029598402",
         "0.0030013637",
         "0.0030448893",
         "0.0030864326",
         "0.0031220354",
         "0.0031481616",
         "0.0031620888",
         "0.003162228",
         "0.0031483728",
         "0.0031218014",
         "0.0030851963",
         "0.0030423312",
         "0.0029975935",
         "0.002955406",
         "0.0029197144",
         "0.0028936192",
         "0.0028791963",
         "0.0028774585",
         "0.002888393",
         "0.002911019",
         "0.002943442",
         "0.002982933",
         "0.00302607",
         "0.0030689675",
         "0.0031076076",
         "0.0031382248",
         "0.0031576958",
         "0.0031639067",
         "0.0031560343",
         "0.003134711",
         "0.0031020364",
         "0.003061364",
         "0.003016883",
         "0.00297307",
         "0.002934132",
         "0.0029035697",
         "0.002883912",
         "0.0028766321",
         "0.0028821502",
         "0.002899899",
         "0.002928374",
         "0.0029651925",
         "0.0030072094",
         "0.0030507026",
         "0.0030916696",
         "0.0031261852",
         "0.0031508044",
         "0.0031629328",
         "0.0031611614",
         "0.0031454815",
         "0.003117371",
         "0.0030796798",
         "0.0030363002",
         "0.002991653",
         "0.002950129",
         "0.0029155721",
         "0.0028909568",
         "0.0028782107",
         "0.0028782068",
         "0.002890799",
         "0.002914877",
         "0.0029484318",
         "0.0029886276",
         "0.0030319653",
         "0.003074521",
         "0.0031122875",
         "0.0031415613",
         "0.0031593402",
         "0.0031636679",
         "0.0031539076",
         "0.0031309004",
         "0.003096925",
         "0.0030554812",
         "0.0032253691",
         "0.003637775",
         "0.003988619",
         "0.0042136847",
         "0.004340027",
         "0.0044053667",
         "0.0044371304",
         "0.004451757",
         "0.0044581555",
         "0.004460824",
         "0.0044619036",
         "0.0044623474",
         "0.00446256",
         "0.0044626906",
         "0.0044627907",
         "0.0044628745",
         "0.0044629467",
         "0.004463002",
         "0.0044630463",
         "0.0044630775",
         "0.0044631003",
         "0.004463114",
         "0.004463123",
         "0.0044631283",
         "0.004463134",
         "0.0044631353",
         "0.0044631357",
         "0.004463137",
         "0.004463137",
         "0.0044631353",
         "0.0044631367",
         "0.004463135",
         "0.0044631343",
         "0.004463135",
         "0.004463135",
         "0.004463134",
         "0.004463134",
         "0.0044631343",
         "0.0044631334",
         "0.0044631315",
         "0.0044631334",
         "0.0044631334",
         "0.0044631325",
         "0.0044631334",
         "0.004463134",
         "0.004463134",
         "0.0044631334",
         "0.0044631343",
         "0.004463134",
         "0.004463134",
         "0.004463134",
         "0.0044631334",
         "0.004463134",
         "0.004463134",
         "0.004463134",
         "0.0044631343",
         "0.004463134",
         "0.0044631343",
         "0.004463134",
         "0.0044631343",
         "0.004463134",
         "0.0044631343",
         "0.004463134",
         "0.0015970875",
         "0.00010537172",
         "0.00090514094"
        ],
        [
         "4",
         "0.006761179",
         "0.00539427",
         "0.004416495",
         "0.0038496726",
         "0.003533399",
         "0.0033534775",
         "0.003243484",
         "0.003166654",
         "0.003103873",
         "0.0030466302",
         "0.002992643",
         "0.0029429963",
         "0.0029002046",
         "0.0028669764",
         "0.0028455174",
         "0.0028371844",
         "0.0028423788",
         "0.0028605321",
         "0.0028901203",
         "0.0029287124",
         "0.0029730566",
         "0.003019263",
         "0.0030631046",
         "0.0031003952",
         "0.003127419",
         "0.0031413466",
         "0.0031405883",
         "0.003125039",
         "0.0030961742",
         "0.0030569392",
         "0.0030113973",
         "0.0029642058",
         "0.0029200106",
         "0.0028829074",
         "0.0028560888",
         "0.0028416626",
         "0.0028406275",
         "0.0028529176",
         "0.0028774543",
         "0.0029122056",
         "0.002954257",
         "0.002999963",
         "0.0030451934",
         "0.0030856847",
         "0.003117461",
         "0.0031372537",
         "0.0031428968",
         "0.0031336155",
         "0.0031102002",
         "0.0030749857",
         "0.003031607",
         "0.0029845354",
         "0.0029384908",
         "0.0028978658",
         "0.0028662717",
         "0.0028462966",
         "0.002839416",
         "0.0028460156",
         "0.0028654498",
         "0.0028960898",
         "0.002935395",
         "0.002980005",
         "0.0030259665",
         "0.003069021",
         "0.003105018",
         "0.0031303312",
         "0.003142278",
         "0.0031394456",
         "0.003121945",
         "0.0030914552",
         "0.0030510956",
         "0.0030050413",
         "0.0029579822",
         "0.0029145174",
         "0.0028786357",
         "0.0028533896",
         "0.0028407357",
         "0.0028415257",
         "0.0028555535",
         "0.0028816063",
         "0.0029175307",
         "0.0029603029",
         "0.003006194",
         "0.0030510325",
         "0.0030905665",
         "0.0031208934",
         "0.0031388758",
         "0.003142514",
         "0.0031312443",
         "0.0031060653",
         "0.0030695132",
         "0.0030253627",
         "0.0029781559",
         "0.0029325997",
         "0.0028930027",
         "0.0028628518",
         "0.0028445828",
         "0.0028395236",
         "0.0028479167",
         "0.0028689792",
         "0.002900959",
         "0.0029411903",
         "0.002986225",
         "0.0030320443",
         "0.0030743824",
         "0.0031091303",
         "0.0031327715",
         "0.0031427718",
         "0.0031379184",
         "0.0031185313",
         "0.0030864994",
         "0.0030451093",
         "0.0029986424",
         "0.0029518076",
         "0.00290915",
         "0.0028745504",
         "0.002850914",
         "0.0028400498",
         "0.0028426633",
         "0.0028584069",
         "0.002885939",
         "0.0029229827",
         "0.002966406",
         "0.0030124036",
         "0.0030567693",
         "0.0030952767",
         "0.0031240992",
         "0.0031402325",
         "0.0031418568",
         "0.0031286145",
         "0.0031017214",
         "0.0030638992",
         "0.0030190619",
         "0.002971806",
         "0.0029268176",
         "0.0028883144",
         "0.0028596492",
         "0.0028431132",
         "0.0028398775",
         "0.0028500503",
         "0.0028727108",
         "0.0029059784",
         "0.0029470755",
         "0.0029924596",
         "0.0030380574",
         "0.0030796027",
         "0.0031130398",
         "0.0031349605",
         "0.003142993",
         "0.003136124",
         "0.0031148845",
         "0.0030813692",
         "0.0030390276",
         "0.002992234",
         "0.002945709",
         "0.002903933",
         "0.0028706677",
         "0.002848676",
         "0.0028396142",
         "0.002844042",
         "0.0028614767",
         "0.0028904479",
         "0.0029285527",
         "0.002972559",
         "0.003018586",
         "0.0030624035",
         "0.003099813",
         "0.0031270725",
         "0.003141322",
         "0.0031409266",
         "0.0031257344",
         "0.0030971763",
         "0.003058158",
         "0.0030127165",
         "0.0029654987",
         "0.0029211557",
         "0.002883807",
         "0.002856671",
         "0.0028418854",
         "0.0028404791",
         "0.002852413",
         "0.002876637",
         "0.002911142",
         "0.0029530388",
         "0.0029986983",
         "0.0030439987",
         "0.0030846754",
         "0.0031167385",
         "0.0031368942",
         "0.0031429403",
         "0.003134065",
         "0.0031110118",
         "0.0030760777",
         "0.0030328662",
         "0.002985833",
         "0.0029396992",
         "0.0028988714",
         "0.0028669906",
         "0.0028466727",
         "0.0028394249",
         "0.0028456596",
         "0.0028647587",
         "0.0028951236",
         "0.0029342305",
         "0.0029787468",
         "0.0030247252",
         "0.0030679172",
         "0.003104159",
         "0.0031298078",
         "0.0031421438",
         "0.0031397238",
         "0.0031226086",
         "0.0030924391",
         "0.0030522973",
         "0.0030063393",
         "0.002959244",
         "0.002915623",
         "0.0028794867",
         "0.0028539195",
         "0.0028409043",
         "0.0028413248",
         "0.002855002",
         "0.0028807507",
         "0.002916442",
         "0.0029590717",
         "0.0030049304",
         "0.003049854",
         "0.0030895895",
         "0.0031202151",
         "0.0031385669",
         "0.0031426135",
         "0.0031317435",
         "0.003106922",
         "0.003070634",
         "0.0030266342",
         "0.0032392757",
         "0.003690089",
         "0.004066986",
         "0.0043074344",
         "0.004442315",
         "0.0045123114",
         "0.0045466484",
         "0.004562752",
         "0.0045700464",
         "0.0045732944",
         "0.0045747696",
         "0.004575496",
         "0.0045759147",
         "0.0045761974",
         "0.00457641",
         "0.0045765783",
         "0.0045767105",
         "0.0045768116",
         "0.004576889",
         "0.0045769433",
         "0.004576984",
         "0.0045770104",
         "0.004577028",
         "0.0045770397",
         "0.00457705",
         "0.0045770556",
         "0.004577058",
         "0.004577062",
         "0.0045770635",
         "0.0045770626",
         "0.0045770644",
         "0.0045770635",
         "0.0045770626",
         "0.0045770635",
         "0.0045770635",
         "0.0045770635",
         "0.0045770635",
         "0.0045770635",
         "0.0045770626",
         "0.0045770616",
         "0.0045770635",
         "0.0045770626",
         "0.004577062",
         "0.0045770626",
         "0.0045770635",
         "0.0045770635",
         "0.0045770635",
         "0.0045770635",
         "0.0045770635",
         "0.0045770635",
         "0.0045770635",
         "0.0045770635",
         "0.0045770635",
         "0.0045770635",
         "0.0045770635",
         "0.0045770635",
         "0.0045770635",
         "0.0045770635",
         "0.0045770635",
         "0.0045770635",
         "0.0045770635",
         "0.0045770635",
         "0.0045770635",
         "0.0014735075",
         "0.00010540763",
         "0.00089736085"
        ]
       ],
       "shape": {
        "columns": 301,
        "rows": 5
       }
      },
      "text/html": [
       "<div>\n",
       "<style scoped>\n",
       "    .dataframe tbody tr th:only-of-type {\n",
       "        vertical-align: middle;\n",
       "    }\n",
       "\n",
       "    .dataframe tbody tr th {\n",
       "        vertical-align: top;\n",
       "    }\n",
       "\n",
       "    .dataframe thead th {\n",
       "        text-align: right;\n",
       "    }\n",
       "</style>\n",
       "<table border=\"1\" class=\"dataframe\">\n",
       "  <thead>\n",
       "    <tr style=\"text-align: right;\">\n",
       "      <th></th>\n",
       "      <th>0</th>\n",
       "      <th>1</th>\n",
       "      <th>2</th>\n",
       "      <th>3</th>\n",
       "      <th>4</th>\n",
       "      <th>5</th>\n",
       "      <th>6</th>\n",
       "      <th>7</th>\n",
       "      <th>8</th>\n",
       "      <th>9</th>\n",
       "      <th>...</th>\n",
       "      <th>291</th>\n",
       "      <th>292</th>\n",
       "      <th>293</th>\n",
       "      <th>294</th>\n",
       "      <th>295</th>\n",
       "      <th>296</th>\n",
       "      <th>297</th>\n",
       "      <th>298</th>\n",
       "      <th>299</th>\n",
       "      <th>300</th>\n",
       "    </tr>\n",
       "  </thead>\n",
       "  <tbody>\n",
       "    <tr>\n",
       "      <th>0</th>\n",
       "      <td>0.005602</td>\n",
       "      <td>0.005032</td>\n",
       "      <td>0.004421</td>\n",
       "      <td>0.004000</td>\n",
       "      <td>0.003740</td>\n",
       "      <td>0.003583</td>\n",
       "      <td>0.003488</td>\n",
       "      <td>0.003426</td>\n",
       "      <td>0.003382</td>\n",
       "      <td>0.003347</td>\n",
       "      <td>...</td>\n",
       "      <td>0.003376</td>\n",
       "      <td>0.003376</td>\n",
       "      <td>0.003376</td>\n",
       "      <td>0.003376</td>\n",
       "      <td>0.003376</td>\n",
       "      <td>0.003376</td>\n",
       "      <td>0.003376</td>\n",
       "      <td>0.003893</td>\n",
       "      <td>0.000102</td>\n",
       "      <td>0.001013</td>\n",
       "    </tr>\n",
       "    <tr>\n",
       "      <th>1</th>\n",
       "      <td>0.006337</td>\n",
       "      <td>0.005303</td>\n",
       "      <td>0.004466</td>\n",
       "      <td>0.003951</td>\n",
       "      <td>0.003655</td>\n",
       "      <td>0.003484</td>\n",
       "      <td>0.003380</td>\n",
       "      <td>0.003311</td>\n",
       "      <td>0.003259</td>\n",
       "      <td>0.003214</td>\n",
       "      <td>...</td>\n",
       "      <td>0.003917</td>\n",
       "      <td>0.003917</td>\n",
       "      <td>0.003917</td>\n",
       "      <td>0.003917</td>\n",
       "      <td>0.003917</td>\n",
       "      <td>0.003917</td>\n",
       "      <td>0.003917</td>\n",
       "      <td>0.002442</td>\n",
       "      <td>0.000105</td>\n",
       "      <td>0.000959</td>\n",
       "    </tr>\n",
       "    <tr>\n",
       "      <th>2</th>\n",
       "      <td>0.006661</td>\n",
       "      <td>0.005396</td>\n",
       "      <td>0.004457</td>\n",
       "      <td>0.003904</td>\n",
       "      <td>0.003593</td>\n",
       "      <td>0.003416</td>\n",
       "      <td>0.003309</td>\n",
       "      <td>0.003236</td>\n",
       "      <td>0.003178</td>\n",
       "      <td>0.003127</td>\n",
       "      <td>...</td>\n",
       "      <td>0.004262</td>\n",
       "      <td>0.004262</td>\n",
       "      <td>0.004262</td>\n",
       "      <td>0.004262</td>\n",
       "      <td>0.004262</td>\n",
       "      <td>0.004262</td>\n",
       "      <td>0.004262</td>\n",
       "      <td>0.001856</td>\n",
       "      <td>0.000106</td>\n",
       "      <td>0.000925</td>\n",
       "    </tr>\n",
       "    <tr>\n",
       "      <th>3</th>\n",
       "      <td>0.006764</td>\n",
       "      <td>0.005411</td>\n",
       "      <td>0.004437</td>\n",
       "      <td>0.003871</td>\n",
       "      <td>0.003555</td>\n",
       "      <td>0.003376</td>\n",
       "      <td>0.003267</td>\n",
       "      <td>0.003191</td>\n",
       "      <td>0.003131</td>\n",
       "      <td>0.003076</td>\n",
       "      <td>...</td>\n",
       "      <td>0.004463</td>\n",
       "      <td>0.004463</td>\n",
       "      <td>0.004463</td>\n",
       "      <td>0.004463</td>\n",
       "      <td>0.004463</td>\n",
       "      <td>0.004463</td>\n",
       "      <td>0.004463</td>\n",
       "      <td>0.001597</td>\n",
       "      <td>0.000105</td>\n",
       "      <td>0.000905</td>\n",
       "    </tr>\n",
       "    <tr>\n",
       "      <th>4</th>\n",
       "      <td>0.006761</td>\n",
       "      <td>0.005394</td>\n",
       "      <td>0.004416</td>\n",
       "      <td>0.003850</td>\n",
       "      <td>0.003533</td>\n",
       "      <td>0.003353</td>\n",
       "      <td>0.003243</td>\n",
       "      <td>0.003167</td>\n",
       "      <td>0.003104</td>\n",
       "      <td>0.003047</td>\n",
       "      <td>...</td>\n",
       "      <td>0.004577</td>\n",
       "      <td>0.004577</td>\n",
       "      <td>0.004577</td>\n",
       "      <td>0.004577</td>\n",
       "      <td>0.004577</td>\n",
       "      <td>0.004577</td>\n",
       "      <td>0.004577</td>\n",
       "      <td>0.001474</td>\n",
       "      <td>0.000105</td>\n",
       "      <td>0.000897</td>\n",
       "    </tr>\n",
       "  </tbody>\n",
       "</table>\n",
       "<p>5 rows × 301 columns</p>\n",
       "</div>"
      ],
      "text/plain": [
       "        0         1         2         3         4         5         6    \\\n",
       "0  0.005602  0.005032  0.004421  0.004000  0.003740  0.003583  0.003488   \n",
       "1  0.006337  0.005303  0.004466  0.003951  0.003655  0.003484  0.003380   \n",
       "2  0.006661  0.005396  0.004457  0.003904  0.003593  0.003416  0.003309   \n",
       "3  0.006764  0.005411  0.004437  0.003871  0.003555  0.003376  0.003267   \n",
       "4  0.006761  0.005394  0.004416  0.003850  0.003533  0.003353  0.003243   \n",
       "\n",
       "        7         8         9    ...       291       292       293       294  \\\n",
       "0  0.003426  0.003382  0.003347  ...  0.003376  0.003376  0.003376  0.003376   \n",
       "1  0.003311  0.003259  0.003214  ...  0.003917  0.003917  0.003917  0.003917   \n",
       "2  0.003236  0.003178  0.003127  ...  0.004262  0.004262  0.004262  0.004262   \n",
       "3  0.003191  0.003131  0.003076  ...  0.004463  0.004463  0.004463  0.004463   \n",
       "4  0.003167  0.003104  0.003047  ...  0.004577  0.004577  0.004577  0.004577   \n",
       "\n",
       "        295       296       297       298       299       300  \n",
       "0  0.003376  0.003376  0.003376  0.003893  0.000102  0.001013  \n",
       "1  0.003917  0.003917  0.003917  0.002442  0.000105  0.000959  \n",
       "2  0.004262  0.004262  0.004262  0.001856  0.000106  0.000925  \n",
       "3  0.004463  0.004463  0.004463  0.001597  0.000105  0.000905  \n",
       "4  0.004577  0.004577  0.004577  0.001474  0.000105  0.000897  \n",
       "\n",
       "[5 rows x 301 columns]"
      ]
     },
     "execution_count": 71,
     "metadata": {},
     "output_type": "execute_result"
    }
   ],
   "source": [
    "\n",
    "att = attn_train.detach().numpy()\n",
    "dataArr = []\n",
    "for sample in range(0, att.shape[0]):\n",
    "    for head in range(0, att.shape[2]):\n",
    "        data = att[sample, :, head, :] \n",
    "        dataArr.append(data[-1,:]) # Can choose -2 or -3 for specific output\n",
    "\n",
    "df = pd.DataFrame(data)\n",
    "df.head()"
   ]
  },
  {
   "cell_type": "code",
   "execution_count": 72,
   "id": "8a2930cc",
   "metadata": {},
   "outputs": [
    {
     "data": {
      "text/plain": [
       "Text(0, 0.5, 'Attention Score')"
      ]
     },
     "execution_count": 72,
     "metadata": {},
     "output_type": "execute_result"
    },
    {
     "data": {
      "image/png": "[encoded data removed]",
      "text/plain": [
       "<Figure size 2000x400 with 1 Axes>"
      ]
     },
     "metadata": {},
     "output_type": "display_data"
    }
   ],
   "source": [
    "import matplotlib.pyplot as plt\n",
    "fig, ax = plt.subplots(figsize=(20,4))\n",
    "df.mean(axis=0).plot(logy=True, ax=ax)\n",
    "ax.set_title(\"Attention\")\n",
    "ax.set_xlabel(\"Time Step\")\n",
    "ax.set_ylabel(\"Attention Score\")"
   ]
  },
  {
   "cell_type": "code",
   "execution_count": null,
   "id": "08e5b4c4",
   "metadata": {},
   "outputs": [],
   "source": []
  }
 ],
 "metadata": {
  "kernelspec": {
   "display_name": ".venv",
   "language": "python",
   "name": "python3"
  },
  "language_info": {
   "codemirror_mode": {
    "name": "ipython",
    "version": 3
   },
   "file_extension": ".py",
   "mimetype": "text/x-python",
   "name": "python",
   "nbconvert_exporter": "python",
   "pygments_lexer": "ipython3",
   "version": "3.12.10"
  }
 },
 "nbformat": 4,
 "nbformat_minor": 5
}
