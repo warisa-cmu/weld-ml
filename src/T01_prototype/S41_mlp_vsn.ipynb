{
 "cells": [
  {
   "cell_type": "markdown",
   "id": "b6a3e826",
   "metadata": {},
   "source": [
    "# Test VSN\n",
    "- From `T02_fusion_transformer/S01_vsn` folder "
   ]
  },
  {
   "cell_type": "code",
   "execution_count": 31,
   "id": "e8e63144",
   "metadata": {},
   "outputs": [],
   "source": [
    "import copy\n",
    "\n",
    "import matplotlib.pyplot as plt\n",
    "import numpy as np\n",
    "import pandas as pd\n",
    "import torch\n",
    "import torch.nn as nn\n",
    "import torch.optim as optim\n",
    "import tqdm\n",
    "from sklearn.model_selection import train_test_split\n",
    "from sklearn.preprocessing import StandardScaler, MinMaxScaler\n",
    "from sklearn.metrics import mean_squared_error, r2_score\n",
    "from S00_utils import plot_res, store_results\n",
    "\n"
   ]
  },
  {
   "cell_type": "code",
   "execution_count": 32,
   "id": "4c024cfb",
   "metadata": {},
   "outputs": [
    {
     "data": {
      "application/vnd.microsoft.datawrangler.viewer.v0+json": {
       "columns": [
        {
         "name": "id",
         "rawType": "object",
         "type": "string"
        },
        {
         "name": "m1",
         "rawType": "float64",
         "type": "float"
        },
        {
         "name": "m2",
         "rawType": "float64",
         "type": "float"
        },
        {
         "name": "m3",
         "rawType": "float64",
         "type": "float"
        },
        {
         "name": "s1__autocorrelation__lag_8",
         "rawType": "float64",
         "type": "float"
        },
        {
         "name": "s1__autocorrelation__lag_9",
         "rawType": "float64",
         "type": "float"
        },
        {
         "name": "s1__autocorrelation__lag_7",
         "rawType": "float64",
         "type": "float"
        },
        {
         "name": "s1__autocorrelation__lag_6",
         "rawType": "float64",
         "type": "float"
        },
        {
         "name": "s1__autocorrelation__lag_5",
         "rawType": "float64",
         "type": "float"
        },
        {
         "name": "s1__autocorrelation__lag_4",
         "rawType": "float64",
         "type": "float"
        },
        {
         "name": "s1__longest_strike_above_mean",
         "rawType": "int64",
         "type": "integer"
        },
        {
         "name": "s1__autocorrelation__lag_3",
         "rawType": "float64",
         "type": "float"
        },
        {
         "name": "s1__approximate_entropy__m_2__r_0.7",
         "rawType": "float64",
         "type": "float"
        },
        {
         "name": "s1__longest_strike_below_mean",
         "rawType": "int64",
         "type": "integer"
        },
        {
         "name": "s1__autocorrelation__lag_2",
         "rawType": "float64",
         "type": "float"
        },
        {
         "name": "s1__approximate_entropy__m_2__r_0.9",
         "rawType": "float64",
         "type": "float"
        },
        {
         "name": "s1__permutation_entropy__dimension_3__tau_1",
         "rawType": "float64",
         "type": "float"
        },
        {
         "name": "s1__autocorrelation__lag_1",
         "rawType": "float64",
         "type": "float"
        },
        {
         "name": "s1__partial_autocorrelation__lag_1",
         "rawType": "float64",
         "type": "float"
        },
        {
         "name": "s1__permutation_entropy__dimension_5__tau_1",
         "rawType": "float64",
         "type": "float"
        },
        {
         "name": "s1__permutation_entropy__dimension_4__tau_1",
         "rawType": "float64",
         "type": "float"
        },
        {
         "name": "s1__permutation_entropy__dimension_6__tau_1",
         "rawType": "float64",
         "type": "float"
        },
        {
         "name": "s1__permutation_entropy__dimension_7__tau_1",
         "rawType": "float64",
         "type": "float"
        },
        {
         "name": "s1__cid_ce__normalize_True",
         "rawType": "float64",
         "type": "float"
        },
        {
         "name": "s1__approximate_entropy__m_2__r_0.3",
         "rawType": "float64",
         "type": "float"
        },
        {
         "name": "s1__partial_autocorrelation__lag_8",
         "rawType": "float64",
         "type": "float"
        },
        {
         "name": "s1__partial_autocorrelation__lag_9",
         "rawType": "float64",
         "type": "float"
        },
        {
         "name": "s1__partial_autocorrelation__lag_7",
         "rawType": "float64",
         "type": "float"
        },
        {
         "name": "s1__partial_autocorrelation__lag_6",
         "rawType": "float64",
         "type": "float"
        },
        {
         "name": "s1__number_peaks__n_1",
         "rawType": "int64",
         "type": "integer"
        },
        {
         "name": "s1__number_peaks__n_3",
         "rawType": "int64",
         "type": "integer"
        },
        {
         "name": "s1__number_peaks__n_5",
         "rawType": "int64",
         "type": "integer"
        },
        {
         "name": "s1__number_cwt_peaks__n_1",
         "rawType": "int64",
         "type": "integer"
        },
        {
         "name": "s1__number_peaks__n_10",
         "rawType": "int64",
         "type": "integer"
        },
        {
         "name": "s1__ar_coefficient__coeff_8__k_10",
         "rawType": "float64",
         "type": "float"
        },
        {
         "name": "s1__partial_autocorrelation__lag_5",
         "rawType": "float64",
         "type": "float"
        },
        {
         "name": "s1__number_cwt_peaks__n_5",
         "rawType": "int64",
         "type": "integer"
        },
        {
         "name": "s1__spkt_welch_density__coeff_5",
         "rawType": "float64",
         "type": "float"
        },
        {
         "name": "s1__agg_autocorrelation__f_agg_\"median\"__maxlag_40",
         "rawType": "float64",
         "type": "float"
        },
        {
         "name": "s1__approximate_entropy__m_2__r_0.5",
         "rawType": "float64",
         "type": "float"
        },
        {
         "name": "s1__agg_autocorrelation__f_agg_\"mean\"__maxlag_40",
         "rawType": "float64",
         "type": "float"
        },
        {
         "name": "s1__ar_coefficient__coeff_3__k_10",
         "rawType": "float64",
         "type": "float"
        },
        {
         "name": "s1__approximate_entropy__m_2__r_0.1",
         "rawType": "float64",
         "type": "float"
        },
        {
         "name": "s1__lempel_ziv_complexity__bins_3",
         "rawType": "float64",
         "type": "float"
        },
        {
         "name": "s1__partial_autocorrelation__lag_4",
         "rawType": "float64",
         "type": "float"
        },
        {
         "name": "s1__fft_coefficient__attr_\"abs\"__coeff_7",
         "rawType": "float64",
         "type": "float"
        },
        {
         "name": "s1__agg_autocorrelation__f_agg_\"var\"__maxlag_40",
         "rawType": "float64",
         "type": "float"
        },
        {
         "name": "s1__spkt_welch_density__coeff_2",
         "rawType": "float64",
         "type": "float"
        },
        {
         "name": "y1",
         "rawType": "float64",
         "type": "float"
        },
        {
         "name": "y2",
         "rawType": "float64",
         "type": "float"
        },
        {
         "name": "y3",
         "rawType": "float64",
         "type": "float"
        }
       ],
       "conversionMethod": "pd.DataFrame",
       "ref": "136bc218-d50a-40bb-b912-792da73d7344",
       "rows": [
        [
         "E001",
         "150.2237162282709",
         "1176.177277778291",
         "1.142097497096118",
         "-0.3054339202505594",
         "-0.5191912937471133",
         "-0.07482931020721237",
         "0.1598964088207946",
         "0.385790122546617",
         "0.5903865308147479",
         "14",
         "0.7623960064154589",
         "0.2347346166610531",
         "14",
         "0.8923275547414669",
         "0.1627475159081164",
         "1.016163897369947",
         "0.9730124996338729",
         "0.9730124996338729",
         "1.62687847092397",
         "1.323937191565679",
         "1.924233458480636",
         "2.215079757527388",
         "3.966110221397809",
         "0.2054671462622681",
         "-0.226538711723462",
         "-0.2337969396502632",
         "-0.2313599744498629",
         "-0.2496215600475206",
         "11",
         "11",
         "11",
         "12",
         "10",
         "-0.1228645658353847",
         "-0.2871916578780337",
         "12",
         "2.302092584356073e-06",
         "-0.04029898618473704",
         "0.294575630574742",
         "-0.02381745749888618",
         "0.1839963654696146",
         "0.1585670576081162",
         "0.2041522491349481",
         "-0.3600840997659662",
         "0.2936172551085162",
         "0.4994878943759984",
         "5.88681152271281e-08",
         "55.46043367834409",
         "1.065916993455059",
         "114.5786204103125"
        ],
        [
         "E002",
         "102.5342678762004",
         "1483.654981916516",
         "1.104716419796098",
         "-0.2437852899127758",
         "-0.4542619780809531",
         "-0.02100206449903134",
         "0.2028355495861272",
         "0.4164225579112382",
         "0.6089720749981536",
         "14",
         "0.770760087739035",
         "0.222246210142254",
         "14",
         "0.8936165162838874",
         "0.1560670115588841",
         "0.9993568167921798",
         "0.9713377747746932",
         "0.9713377747746935",
         "1.576553073550272",
         "1.289890751104698",
         "1.858735405789931",
         "2.135705047559143",
         "3.6526435059868",
         "0.2110247401319967",
         "-0.2244198468351331",
         "-0.2325474580042485",
         "-0.2280495585317081",
         "-0.2444386143773333",
         "10",
         "9",
         "9",
         "10",
         "9",
         "-0.1251216792908884",
         "-0.278643948183462",
         "11",
         "9.194826079354894e-05",
         "0.005710727812269289",
         "0.295793386116199",
         "0.0174124077277948",
         "0.184369500523606",
         "0.1447418877366329",
         "0.2030075187969925",
         "-0.3443643252966841",
         "6.14237252208545",
         "0.4777432349844861",
         "3.64362055523439e-06",
         "50.64030573896383",
         "1.285665791352698",
         "124.6514837646304"
        ],
        [
         "E003",
         "119.8905490887243",
         "1254.897450653388",
         "2.162773409498691",
         "-0.3290060356266322",
         "-0.5434049971045741",
         "-0.09591338517658776",
         "0.1426122079089866",
         "0.3730020599120391",
         "0.5821514156665052",
         "14",
         "0.7581648639475573",
         "0.2394955454843397",
         "13",
         "0.8910329028051504",
         "0.165112565585219",
         "1.020465652695851",
         "0.9732011747853436",
         "0.9732011747853435",
         "1.646824878831804",
         "1.343150699207861",
         "1.944883653328339",
         "2.236309406751573",
         "3.682674589911052",
         "0.2017099991694988",
         "-0.2299484930997584",
         "-0.2383027291229635",
         "-0.2342132613799649",
         "-0.2523388214511478",
         "9",
         "9",
         "9",
         "10",
         "9",
         "-0.1218498437486562",
         "-0.2902894407037535",
         "11",
         "0.002991810076493899",
         "-0.06252100701744168",
         "0.2953766624528682",
         "-0.03807682374626591",
         "0.1840355025745247",
         "0.1442678316464963",
         "0.2081632653061224",
         "-0.3646107419088709",
         "26.78328344000789",
         "0.5064350830051291",
         "0.0001590028102571489",
         "50.83240472683809",
         "1.154859212683363",
         "57.01805417221681"
        ],
        [
         "E004",
         "162.8307992564844",
         "1302.043195135213",
         "1.30828321525042",
         "-0.0651521463136262",
         "-0.2664976926877177",
         "0.1389126502736655",
         "0.3371865864369897",
         "0.5214009296929024",
         "0.6838731666679987",
         "16",
         "0.8178274013703623",
         "0.1937549744108571",
         "16",
         "0.9176769485378873",
         "0.1370265745426402",
         "0.9726561048364449",
         "0.9792573362550936",
         "0.9792573362550935",
         "1.522951107576066",
         "1.249446870300736",
         "1.792685681282132",
         "2.058077147838571",
         "3.440933521168234",
         "0.2300116952585212",
         "-0.2135504176683748",
         "-0.2150938543416185",
         "-0.2220255651562478",
         "-0.2427030761830581",
         "9",
         "9",
         "9",
         "10",
         "9",
         "-0.1269822026600489",
         "-0.2818301171729558",
         "11",
         "0.03254871106161762",
         "0.167136898506159",
         "0.2838976837493383",
         "0.09874930838143854",
         "0.1872132457419277",
         "0.1373263951521655",
         "0.1936619718309859",
         "-0.3554414001104249",
         "33.22759074069934",
         "0.4605467208889374",
         "0.0007926165201968495",
         "62.47654543460142",
         "1.025160763802677",
         "132.2212175987509"
        ],
        [
         "E005",
         "165.72095638279",
         "1154.482313700376",
         "1.566829730087374",
         "-0.3048808371286578",
         "-0.5181766102806283",
         "-0.07483610968997173",
         "0.1593210142907042",
         "0.3847279896743889",
         "0.5890028422139049",
         "14",
         "0.7609243327125759",
         "0.2381097596952311",
         "14",
         "0.8910483643868621",
         "0.1626447113788911",
         "1.014791878416955",
         "0.9722267728214827",
         "0.9722267728214827",
         "1.62111225074021",
         "1.320327783744526",
         "1.916410952543579",
         "2.205328048547567",
         "3.995534195873079",
         "0.2072160931479998",
         "-0.2306634372538851",
         "-0.2403558289400577",
         "-0.233806167154005",
         "-0.2506967126737985",
         "11",
         "11",
         "11",
         "12",
         "10",
         "-0.1230299291182262",
         "-0.2868315494200753",
         "12",
         "0.005794605001799167",
         "-0.04382424818770635",
         "0.2887581856673982",
         "-0.0222890433765183",
         "0.1839782130968768",
         "0.1285455017839277",
         "0.1924398625429553",
         "-0.3575884147822471",
         "11.4394702754538",
         "0.4979403938074322",
         "0.0001462830650636705",
         "57.63443803240473",
         "1.043776221564284",
         "92.16026864580095"
        ]
       ],
       "shape": {
        "columns": 50,
        "rows": 5
       }
      },
      "text/html": [
       "<div>\n",
       "<style scoped>\n",
       "    .dataframe tbody tr th:only-of-type {\n",
       "        vertical-align: middle;\n",
       "    }\n",
       "\n",
       "    .dataframe tbody tr th {\n",
       "        vertical-align: top;\n",
       "    }\n",
       "\n",
       "    .dataframe thead th {\n",
       "        text-align: right;\n",
       "    }\n",
       "</style>\n",
       "<table border=\"1\" class=\"dataframe\">\n",
       "  <thead>\n",
       "    <tr style=\"text-align: right;\">\n",
       "      <th></th>\n",
       "      <th>m1</th>\n",
       "      <th>m2</th>\n",
       "      <th>m3</th>\n",
       "      <th>s1__autocorrelation__lag_8</th>\n",
       "      <th>s1__autocorrelation__lag_9</th>\n",
       "      <th>s1__autocorrelation__lag_7</th>\n",
       "      <th>s1__autocorrelation__lag_6</th>\n",
       "      <th>s1__autocorrelation__lag_5</th>\n",
       "      <th>s1__autocorrelation__lag_4</th>\n",
       "      <th>s1__longest_strike_above_mean</th>\n",
       "      <th>...</th>\n",
       "      <th>s1__ar_coefficient__coeff_3__k_10</th>\n",
       "      <th>s1__approximate_entropy__m_2__r_0.1</th>\n",
       "      <th>s1__lempel_ziv_complexity__bins_3</th>\n",
       "      <th>s1__partial_autocorrelation__lag_4</th>\n",
       "      <th>s1__fft_coefficient__attr_\"abs\"__coeff_7</th>\n",
       "      <th>s1__agg_autocorrelation__f_agg_\"var\"__maxlag_40</th>\n",
       "      <th>s1__spkt_welch_density__coeff_2</th>\n",
       "      <th>y1</th>\n",
       "      <th>y2</th>\n",
       "      <th>y3</th>\n",
       "    </tr>\n",
       "    <tr>\n",
       "      <th>id</th>\n",
       "      <th></th>\n",
       "      <th></th>\n",
       "      <th></th>\n",
       "      <th></th>\n",
       "      <th></th>\n",
       "      <th></th>\n",
       "      <th></th>\n",
       "      <th></th>\n",
       "      <th></th>\n",
       "      <th></th>\n",
       "      <th></th>\n",
       "      <th></th>\n",
       "      <th></th>\n",
       "      <th></th>\n",
       "      <th></th>\n",
       "      <th></th>\n",
       "      <th></th>\n",
       "      <th></th>\n",
       "      <th></th>\n",
       "      <th></th>\n",
       "      <th></th>\n",
       "    </tr>\n",
       "  </thead>\n",
       "  <tbody>\n",
       "    <tr>\n",
       "      <th>E001</th>\n",
       "      <td>150.223716</td>\n",
       "      <td>1176.177278</td>\n",
       "      <td>1.142097</td>\n",
       "      <td>-0.305434</td>\n",
       "      <td>-0.519191</td>\n",
       "      <td>-0.074829</td>\n",
       "      <td>0.159896</td>\n",
       "      <td>0.385790</td>\n",
       "      <td>0.590387</td>\n",
       "      <td>14</td>\n",
       "      <td>...</td>\n",
       "      <td>0.183996</td>\n",
       "      <td>0.158567</td>\n",
       "      <td>0.204152</td>\n",
       "      <td>-0.360084</td>\n",
       "      <td>0.293617</td>\n",
       "      <td>0.499488</td>\n",
       "      <td>5.886812e-08</td>\n",
       "      <td>55.460434</td>\n",
       "      <td>1.065917</td>\n",
       "      <td>114.578620</td>\n",
       "    </tr>\n",
       "    <tr>\n",
       "      <th>E002</th>\n",
       "      <td>102.534268</td>\n",
       "      <td>1483.654982</td>\n",
       "      <td>1.104716</td>\n",
       "      <td>-0.243785</td>\n",
       "      <td>-0.454262</td>\n",
       "      <td>-0.021002</td>\n",
       "      <td>0.202836</td>\n",
       "      <td>0.416423</td>\n",
       "      <td>0.608972</td>\n",
       "      <td>14</td>\n",
       "      <td>...</td>\n",
       "      <td>0.184370</td>\n",
       "      <td>0.144742</td>\n",
       "      <td>0.203008</td>\n",
       "      <td>-0.344364</td>\n",
       "      <td>6.142373</td>\n",
       "      <td>0.477743</td>\n",
       "      <td>3.643621e-06</td>\n",
       "      <td>50.640306</td>\n",
       "      <td>1.285666</td>\n",
       "      <td>124.651484</td>\n",
       "    </tr>\n",
       "    <tr>\n",
       "      <th>E003</th>\n",
       "      <td>119.890549</td>\n",
       "      <td>1254.897451</td>\n",
       "      <td>2.162773</td>\n",
       "      <td>-0.329006</td>\n",
       "      <td>-0.543405</td>\n",
       "      <td>-0.095913</td>\n",
       "      <td>0.142612</td>\n",
       "      <td>0.373002</td>\n",
       "      <td>0.582151</td>\n",
       "      <td>14</td>\n",
       "      <td>...</td>\n",
       "      <td>0.184036</td>\n",
       "      <td>0.144268</td>\n",
       "      <td>0.208163</td>\n",
       "      <td>-0.364611</td>\n",
       "      <td>26.783283</td>\n",
       "      <td>0.506435</td>\n",
       "      <td>1.590028e-04</td>\n",
       "      <td>50.832405</td>\n",
       "      <td>1.154859</td>\n",
       "      <td>57.018054</td>\n",
       "    </tr>\n",
       "    <tr>\n",
       "      <th>E004</th>\n",
       "      <td>162.830799</td>\n",
       "      <td>1302.043195</td>\n",
       "      <td>1.308283</td>\n",
       "      <td>-0.065152</td>\n",
       "      <td>-0.266498</td>\n",
       "      <td>0.138913</td>\n",
       "      <td>0.337187</td>\n",
       "      <td>0.521401</td>\n",
       "      <td>0.683873</td>\n",
       "      <td>16</td>\n",
       "      <td>...</td>\n",
       "      <td>0.187213</td>\n",
       "      <td>0.137326</td>\n",
       "      <td>0.193662</td>\n",
       "      <td>-0.355441</td>\n",
       "      <td>33.227591</td>\n",
       "      <td>0.460547</td>\n",
       "      <td>7.926165e-04</td>\n",
       "      <td>62.476545</td>\n",
       "      <td>1.025161</td>\n",
       "      <td>132.221218</td>\n",
       "    </tr>\n",
       "    <tr>\n",
       "      <th>E005</th>\n",
       "      <td>165.720956</td>\n",
       "      <td>1154.482314</td>\n",
       "      <td>1.566830</td>\n",
       "      <td>-0.304881</td>\n",
       "      <td>-0.518177</td>\n",
       "      <td>-0.074836</td>\n",
       "      <td>0.159321</td>\n",
       "      <td>0.384728</td>\n",
       "      <td>0.589003</td>\n",
       "      <td>14</td>\n",
       "      <td>...</td>\n",
       "      <td>0.183978</td>\n",
       "      <td>0.128546</td>\n",
       "      <td>0.192440</td>\n",
       "      <td>-0.357588</td>\n",
       "      <td>11.439470</td>\n",
       "      <td>0.497940</td>\n",
       "      <td>1.462831e-04</td>\n",
       "      <td>57.634438</td>\n",
       "      <td>1.043776</td>\n",
       "      <td>92.160269</td>\n",
       "    </tr>\n",
       "  </tbody>\n",
       "</table>\n",
       "<p>5 rows × 50 columns</p>\n",
       "</div>"
      ],
      "text/plain": [
       "              m1           m2        m3  s1__autocorrelation__lag_8  \\\n",
       "id                                                                    \n",
       "E001  150.223716  1176.177278  1.142097                   -0.305434   \n",
       "E002  102.534268  1483.654982  1.104716                   -0.243785   \n",
       "E003  119.890549  1254.897451  2.162773                   -0.329006   \n",
       "E004  162.830799  1302.043195  1.308283                   -0.065152   \n",
       "E005  165.720956  1154.482314  1.566830                   -0.304881   \n",
       "\n",
       "      s1__autocorrelation__lag_9  s1__autocorrelation__lag_7  \\\n",
       "id                                                             \n",
       "E001                   -0.519191                   -0.074829   \n",
       "E002                   -0.454262                   -0.021002   \n",
       "E003                   -0.543405                   -0.095913   \n",
       "E004                   -0.266498                    0.138913   \n",
       "E005                   -0.518177                   -0.074836   \n",
       "\n",
       "      s1__autocorrelation__lag_6  s1__autocorrelation__lag_5  \\\n",
       "id                                                             \n",
       "E001                    0.159896                    0.385790   \n",
       "E002                    0.202836                    0.416423   \n",
       "E003                    0.142612                    0.373002   \n",
       "E004                    0.337187                    0.521401   \n",
       "E005                    0.159321                    0.384728   \n",
       "\n",
       "      s1__autocorrelation__lag_4  s1__longest_strike_above_mean  ...  \\\n",
       "id                                                               ...   \n",
       "E001                    0.590387                             14  ...   \n",
       "E002                    0.608972                             14  ...   \n",
       "E003                    0.582151                             14  ...   \n",
       "E004                    0.683873                             16  ...   \n",
       "E005                    0.589003                             14  ...   \n",
       "\n",
       "      s1__ar_coefficient__coeff_3__k_10  s1__approximate_entropy__m_2__r_0.1  \\\n",
       "id                                                                             \n",
       "E001                           0.183996                             0.158567   \n",
       "E002                           0.184370                             0.144742   \n",
       "E003                           0.184036                             0.144268   \n",
       "E004                           0.187213                             0.137326   \n",
       "E005                           0.183978                             0.128546   \n",
       "\n",
       "      s1__lempel_ziv_complexity__bins_3  s1__partial_autocorrelation__lag_4  \\\n",
       "id                                                                            \n",
       "E001                           0.204152                           -0.360084   \n",
       "E002                           0.203008                           -0.344364   \n",
       "E003                           0.208163                           -0.364611   \n",
       "E004                           0.193662                           -0.355441   \n",
       "E005                           0.192440                           -0.357588   \n",
       "\n",
       "      s1__fft_coefficient__attr_\"abs\"__coeff_7  \\\n",
       "id                                               \n",
       "E001                                  0.293617   \n",
       "E002                                  6.142373   \n",
       "E003                                 26.783283   \n",
       "E004                                 33.227591   \n",
       "E005                                 11.439470   \n",
       "\n",
       "      s1__agg_autocorrelation__f_agg_\"var\"__maxlag_40  \\\n",
       "id                                                      \n",
       "E001                                         0.499488   \n",
       "E002                                         0.477743   \n",
       "E003                                         0.506435   \n",
       "E004                                         0.460547   \n",
       "E005                                         0.497940   \n",
       "\n",
       "      s1__spkt_welch_density__coeff_2         y1        y2          y3  \n",
       "id                                                                      \n",
       "E001                     5.886812e-08  55.460434  1.065917  114.578620  \n",
       "E002                     3.643621e-06  50.640306  1.285666  124.651484  \n",
       "E003                     1.590028e-04  50.832405  1.154859   57.018054  \n",
       "E004                     7.926165e-04  62.476545  1.025161  132.221218  \n",
       "E005                     1.462831e-04  57.634438  1.043776   92.160269  \n",
       "\n",
       "[5 rows x 50 columns]"
      ]
     },
     "execution_count": 32,
     "metadata": {},
     "output_type": "execute_result"
    }
   ],
   "source": [
    "df = pd.read_excel(\"output/S21__2025-04-21-052727.xlsx\")\n",
    "df = df.set_index(\"Unnamed: 0\")\n",
    "df.index.names = [\"id\"]\n",
    "df.head()"
   ]
  },
  {
   "cell_type": "code",
   "execution_count": 33,
   "id": "ca89c1ee",
   "metadata": {},
   "outputs": [
    {
     "name": "stdout",
     "output_type": "stream",
     "text": [
      "(70, 47)\n",
      "(70, 3)\n"
     ]
    }
   ],
   "source": [
    "colsY = [\"y1\", \"y2\", \"y3\"]\n",
    "colsX = [c for c in df.columns if c not in colsY]\n",
    "\n",
    "X = df[colsX]\n",
    "Y = df[colsY]\n",
    "\n",
    "X_train, X_test, Y_train, Y_test = train_test_split(X, Y, test_size=0.3, random_state=0)\n",
    "print(X_train.shape)\n",
    "print(Y_train.shape)\n"
   ]
  },
  {
   "cell_type": "code",
   "execution_count": 34,
   "id": "1a59f9d9",
   "metadata": {},
   "outputs": [],
   "source": [
    "scX = MinMaxScaler()\n",
    "X_train_std = scX.fit_transform(X_train)\n",
    "X_test_std = scX.transform(X_test)\n",
    "\n",
    "scY = MinMaxScaler()\n",
    "Y_train_std = scY.fit_transform(Y_train)\n",
    "Y_test_std = scY.transform(Y_test)"
   ]
  },
  {
   "cell_type": "code",
   "execution_count": 35,
   "id": "9134a4d9",
   "metadata": {},
   "outputs": [],
   "source": [
    "# Convert to 2D PyTorch tensors\n",
    "X_train_std = torch.tensor(X_train_std, dtype=torch.float32)\n",
    "Y_train_std = torch.tensor(Y_train_std, dtype=torch.float32)\n",
    "X_test_std = torch.tensor(X_test_std, dtype=torch.float32)\n",
    "Y_test_std = torch.tensor(Y_test_std, dtype=torch.float32)"
   ]
  },
  {
   "cell_type": "code",
   "execution_count": 36,
   "id": "f7c6f348",
   "metadata": {},
   "outputs": [],
   "source": [
    "class MyModel(nn.Module):\n",
    "    def __init__(\n",
    "        self,\n",
    "        num_tabular_features,\n",
    "        output_size,\n",
    "        embedding_size,\n",
    "    ):\n",
    "        super().__init__()\n",
    "\n",
    "        self.num_tabular_features = num_tabular_features\n",
    "\n",
    "        # Embeddeding layer\n",
    "        self.embedding_size = embedding_size\n",
    "        self.embedders_tab_vars = nn.ModuleList(\n",
    "            [\n",
    "                nn.Linear(1, self.embedding_size)\n",
    "                for _ in range(self.num_tabular_features)\n",
    "            ]\n",
    "        )\n",
    "\n",
    "        self.vsn_tab_vars = VariableSelectionNetwork(\n",
    "            num_inputs=num_tabular_features,\n",
    "            input_dim=self.embedding_size,\n",
    "            hidden_dim=num_tabular_features,  # This is the output size\n",
    "        )\n",
    "\n",
    "        # MLP for tabular data\n",
    "        self.mlp = nn.Sequential(\n",
    "            nn.Linear(num_tabular_features, 64), nn.ReLU(), nn.Linear(64, 32), nn.ReLU()\n",
    "        )\n",
    "\n",
    "        self.regressor = nn.Sequential(\n",
    "            nn.Linear(32, 64), nn.ReLU(), nn.Linear(64, output_size)\n",
    "        )\n",
    "\n",
    "    def forward(self, x_tab):\n",
    "        # x_tab: (batch, num_tabular_features)\n",
    "\n",
    "        tab_out = torch.stack(\n",
    "            [\n",
    "                self.embedders_tab_vars[i](x_tab[Ellipsis, i].unsqueeze(-1))\n",
    "                for i in range(0, self.num_tabular_features)\n",
    "            ],\n",
    "            axis=-2,\n",
    "        )  # (batch, num_features, embedding_size)\n",
    "\n",
    "        tab_out, vsn_weights = self.vsn_tab_vars(tab_out)\n",
    "        tab_out = self.mlp(tab_out)\n",
    "        output = self.regressor(tab_out)\n",
    "        return output.squeeze(-1), vsn_weights\n",
    "\n",
    "\n",
    "class GatedResidualNetwork(nn.Module):\n",
    "    def __init__(\n",
    "        self, input_dim, hidden_dim, output_dim, context_dim=None, dropout=0.5\n",
    "    ):\n",
    "        super().__init__()\n",
    "        self.linear1 = nn.Linear(input_dim, hidden_dim)\n",
    "        self.context_linear = (\n",
    "            nn.Linear(context_dim, hidden_dim) if context_dim is not None else None\n",
    "        )\n",
    "        self.elu = nn.ELU()\n",
    "        self.linear2 = nn.Linear(hidden_dim, output_dim)\n",
    "        self.dropout = nn.Dropout(dropout)\n",
    "        self.gate = nn.Linear(output_dim, output_dim)\n",
    "        self.sigmoid = nn.Sigmoid()\n",
    "        self.skip = (\n",
    "            nn.Linear(input_dim, output_dim) if input_dim != output_dim else None\n",
    "        )\n",
    "        self.layer_norm = nn.LayerNorm(output_dim)\n",
    "\n",
    "    def forward(self, x, context=None):\n",
    "        out = self.linear1(x)\n",
    "        if context is not None:\n",
    "            out += self.context_linear(context)\n",
    "        out = self.elu(out)\n",
    "        out = self.linear2(out)\n",
    "        out = self.dropout(out)\n",
    "        gated = self.sigmoid(self.gate(out))\n",
    "        out = out * gated\n",
    "        skip = self.skip(x) if self.skip is not None else x\n",
    "        out = self.layer_norm(out + skip)\n",
    "        return out\n",
    "\n",
    "\n",
    "class VariableSelectionNetwork(nn.Module):\n",
    "    def __init__(\n",
    "        self, num_inputs, input_dim, hidden_dim, context_dim=None, dropout=0.5\n",
    "    ):\n",
    "        super().__init__()\n",
    "        self.num_inputs = num_inputs\n",
    "        self.input_dim = input_dim\n",
    "        self.hidden_dim = hidden_dim\n",
    "        self.context_dim = context_dim\n",
    "        self.variable_grns = nn.ModuleList(\n",
    "            [\n",
    "                GatedResidualNetwork(\n",
    "                    input_dim, hidden_dim, hidden_dim, context_dim, dropout\n",
    "                )\n",
    "                for _ in range(num_inputs)\n",
    "            ]\n",
    "        )\n",
    "        self.softmax = nn.Softmax(dim=-1)\n",
    "        self.weight_grn = GatedResidualNetwork(\n",
    "            num_inputs * hidden_dim, hidden_dim, num_inputs, context_dim, dropout\n",
    "        )\n",
    "\n",
    "    def forward(self, x, context=None):\n",
    "        # x: (batch, num_inputs, input_dim)\n",
    "        var_outputs = []\n",
    "        for i, grn in enumerate(self.variable_grns):\n",
    "            var_out = grn(x[:, i, :], context)\n",
    "            var_outputs.append(var_out)\n",
    "        var_outputs = torch.stack(var_outputs, dim=1)  # (batch, num_inputs, hidden_dim)\n",
    "        flattened = var_outputs.view(var_outputs.size(0), -1)\n",
    "        weights = self.weight_grn(flattened, context)\n",
    "        weights = self.softmax(weights)  # (batch, num_inputs)\n",
    "        # Weighted sum of variable outputs\n",
    "        weighted_output = (var_outputs * weights.unsqueeze(-1)).sum(dim=1)\n",
    "        return weighted_output, weights  # (batch, hidden_dim), (batch, num_inputs)\n"
   ]
  },
  {
   "cell_type": "code",
   "execution_count": 37,
   "id": "e2b15ad3",
   "metadata": {},
   "outputs": [],
   "source": [
    "num_tabular_features = X_train.shape[1]\n",
    "output_size = Y_train.shape[1]\n",
    "embedding_size = 16\n",
    "\n",
    "# Define the model\n",
    "model = MyModel(num_tabular_features=num_tabular_features, output_size=3, embedding_size=embedding_size)\n",
    "\n",
    "# loss function and optimizer\n",
    "loss_fn = nn.MSELoss()  # mean square error\n",
    "optimizer = optim.Adam(model.parameters(), lr=0.0001)"
   ]
  },
  {
   "cell_type": "code",
   "execution_count": 38,
   "id": "361fa7b8",
   "metadata": {},
   "outputs": [
    {
     "name": "stdout",
     "output_type": "stream",
     "text": [
      "MSE: 0.00\n",
      "RMSE: 0.02\n"
     ]
    },
    {
     "data": {
      "image/png": "[encoded data removed]",
      "text/plain": [
       "<Figure size 640x480 with 1 Axes>"
      ]
     },
     "metadata": {},
     "output_type": "display_data"
    }
   ],
   "source": [
    "n_epochs = 500  # number of epochs to run\n",
    "batch_size = 10  # size of each batch\n",
    "batch_start = torch.arange(0, len(X_train), batch_size)\n",
    "\n",
    "# Hold the best model\n",
    "best_mse = np.inf  # init to infinity\n",
    "best_weights = None\n",
    "history = []\n",
    "\n",
    "for epoch in range(n_epochs):\n",
    "    model.train()\n",
    "    with tqdm.tqdm(batch_start, unit=\"batch\", mininterval=0, disable=True) as bar:\n",
    "        bar.set_description(f\"Epoch {epoch}\")\n",
    "        for start in bar:\n",
    "            # take a batch\n",
    "            X_batch = X_train_std[start : start + batch_size]\n",
    "            y_batch = Y_train_std[start : start + batch_size]\n",
    "            # forward pass\n",
    "            y_pred, _ = model(X_batch)\n",
    "            loss = loss_fn(y_pred, y_batch)\n",
    "            # backward pass\n",
    "            optimizer.zero_grad()\n",
    "            loss.backward()\n",
    "            # update weights\n",
    "            optimizer.step()\n",
    "            # print progress\n",
    "            bar.set_postfix(mse=float(loss))\n",
    "    # evaluate accuracy at end of each epoch\n",
    "    model.eval()\n",
    "    y_pred, _ = model(X_test_std)\n",
    "    mse = loss_fn(y_pred, Y_test_std)\n",
    "    mse = float(mse)\n",
    "    history.append(mse)\n",
    "    if mse < best_mse:\n",
    "        best_mse = mse\n",
    "        best_weights = copy.deepcopy(model.state_dict())\n",
    "\n",
    "# restore model and return best accuracy\n",
    "model.load_state_dict(best_weights)\n",
    "print(\"MSE: %.2f\" % best_mse)\n",
    "print(\"RMSE: %.2f\" % np.sqrt(best_mse))\n",
    "plt.plot(history)\n",
    "plt.show()"
   ]
  },
  {
   "cell_type": "code",
   "execution_count": 39,
   "id": "d7965fa0",
   "metadata": {},
   "outputs": [],
   "source": [
    "Y_train_pred, weights_train  = model(X_train_std)\n",
    "Y_test_pred, weights_test = model(X_test_std)"
   ]
  },
  {
   "cell_type": "code",
   "execution_count": 40,
   "id": "dda491bd",
   "metadata": {},
   "outputs": [],
   "source": [
    "Y_train_std = Y_train_std.detach().numpy()\n",
    "Y_test_std = Y_test_std.detach().numpy()\n",
    "Y_train_pred = Y_train_pred.detach().numpy()\n",
    "Y_test_pred = Y_test_pred.detach().numpy()"
   ]
  },
  {
   "cell_type": "code",
   "execution_count": 41,
   "id": "74a59429",
   "metadata": {},
   "outputs": [
    {
     "data": {
      "application/vnd.microsoft.datawrangler.viewer.v0+json": {
       "columns": [
        {
         "name": "index",
         "rawType": "int64",
         "type": "integer"
        },
        {
         "name": "MSE Train",
         "rawType": "float64",
         "type": "float"
        },
        {
         "name": "MSE Test",
         "rawType": "float64",
         "type": "float"
        },
        {
         "name": "R2 Train",
         "rawType": "float64",
         "type": "float"
        },
        {
         "name": "R2 Test",
         "rawType": "float64",
         "type": "float"
        }
       ],
       "conversionMethod": "pd.DataFrame",
       "ref": "068c30ab-a783-48d0-a0f9-ef1af2d5c08e",
       "rows": [
        [
         "0",
         "7.932209700811654e-05",
         "0.0002550341305322945",
         "0.99822998046875",
         "0.9952414035797119"
        ],
        [
         "1",
         "8.459683886030689e-05",
         "0.0003446754708420485",
         "0.9977971911430359",
         "0.9888513088226318"
        ],
        [
         "2",
         "0.00014625058975070715",
         "0.0004734282265417278",
         "0.9975125789642334",
         "0.9909670352935791"
        ]
       ],
       "shape": {
        "columns": 4,
        "rows": 3
       }
      },
      "text/html": [
       "<div>\n",
       "<style scoped>\n",
       "    .dataframe tbody tr th:only-of-type {\n",
       "        vertical-align: middle;\n",
       "    }\n",
       "\n",
       "    .dataframe tbody tr th {\n",
       "        vertical-align: top;\n",
       "    }\n",
       "\n",
       "    .dataframe thead th {\n",
       "        text-align: right;\n",
       "    }\n",
       "</style>\n",
       "<table border=\"1\" class=\"dataframe\">\n",
       "  <thead>\n",
       "    <tr style=\"text-align: right;\">\n",
       "      <th></th>\n",
       "      <th>MSE Train</th>\n",
       "      <th>MSE Test</th>\n",
       "      <th>R2 Train</th>\n",
       "      <th>R2 Test</th>\n",
       "    </tr>\n",
       "  </thead>\n",
       "  <tbody>\n",
       "    <tr>\n",
       "      <th>0</th>\n",
       "      <td>0.000079</td>\n",
       "      <td>0.000255</td>\n",
       "      <td>0.998230</td>\n",
       "      <td>0.995241</td>\n",
       "    </tr>\n",
       "    <tr>\n",
       "      <th>1</th>\n",
       "      <td>0.000085</td>\n",
       "      <td>0.000345</td>\n",
       "      <td>0.997797</td>\n",
       "      <td>0.988851</td>\n",
       "    </tr>\n",
       "    <tr>\n",
       "      <th>2</th>\n",
       "      <td>0.000146</td>\n",
       "      <td>0.000473</td>\n",
       "      <td>0.997513</td>\n",
       "      <td>0.990967</td>\n",
       "    </tr>\n",
       "  </tbody>\n",
       "</table>\n",
       "</div>"
      ],
      "text/plain": [
       "   MSE Train  MSE Test  R2 Train   R2 Test\n",
       "0   0.000079  0.000255  0.998230  0.995241\n",
       "1   0.000085  0.000345  0.997797  0.988851\n",
       "2   0.000146  0.000473  0.997513  0.990967"
      ]
     },
     "execution_count": 41,
     "metadata": {},
     "output_type": "execute_result"
    },
    {
     "data": {
      "image/png": "[encoded data removed]",
      "text/plain": [
       "<Figure size 900x300 with 2 Axes>"
      ]
     },
     "metadata": {},
     "output_type": "display_data"
    },
    {
     "data": {
      "image/png": "[encoded data removed]",
      "text/plain": [
       "<Figure size 900x300 with 2 Axes>"
      ]
     },
     "metadata": {},
     "output_type": "display_data"
    },
    {
     "data": {
      "image/png": "[encoded data removed]",
      "text/plain": [
       "<Figure size 900x300 with 2 Axes>"
      ]
     },
     "metadata": {},
     "output_type": "display_data"
    }
   ],
   "source": [
    "resArr = []\n",
    "for i in range(Y.shape[1]):\n",
    "    y_train = Y_train_std[:, i]\n",
    "    y_test = Y_test_std[:, i]\n",
    "    y_train_pred = Y_train_pred[:, i]\n",
    "    y_test_pred = Y_test_pred[:, i]\n",
    "    plot_res(y_train, y_test, y_train_pred, y_test_pred, xlim=[-0.1, 1.1])\n",
    "    res = store_results(y_train, y_test, y_train_pred, y_test_pred)\n",
    "    resArr.append(res)\n",
    "\n",
    "dfRes = pd.DataFrame.from_dict(resArr)\n",
    "dfRes"
   ]
  },
  {
   "cell_type": "code",
   "execution_count": 42,
   "id": "b51ab946",
   "metadata": {},
   "outputs": [
    {
     "data": {
      "text/plain": [
       "(2, 47)"
      ]
     },
     "execution_count": 42,
     "metadata": {},
     "output_type": "execute_result"
    }
   ],
   "source": [
    "weights_train_mean = weights_train.detach().numpy().mean(axis=0)\n",
    "weights_test_mean = weights_test.detach().numpy().mean(axis=0)\n",
    "weights = np.stack([weights_train_mean, weights_test_mean], axis=0)\n",
    "weights.shape"
   ]
  },
  {
   "cell_type": "code",
   "execution_count": 43,
   "id": "6a850a4d",
   "metadata": {},
   "outputs": [
    {
     "data": {
      "application/vnd.microsoft.datawrangler.viewer.v0+json": {
       "columns": [
        {
         "name": "index",
         "rawType": "int64",
         "type": "integer"
        },
        {
         "name": "m1",
         "rawType": "float32",
         "type": "float"
        },
        {
         "name": "m2",
         "rawType": "float32",
         "type": "float"
        },
        {
         "name": "m3",
         "rawType": "float32",
         "type": "float"
        },
        {
         "name": "s1__autocorrelation__lag_8",
         "rawType": "float32",
         "type": "float"
        },
        {
         "name": "s1__autocorrelation__lag_9",
         "rawType": "float32",
         "type": "float"
        },
        {
         "name": "s1__autocorrelation__lag_7",
         "rawType": "float32",
         "type": "float"
        },
        {
         "name": "s1__autocorrelation__lag_6",
         "rawType": "float32",
         "type": "float"
        },
        {
         "name": "s1__autocorrelation__lag_5",
         "rawType": "float32",
         "type": "float"
        },
        {
         "name": "s1__autocorrelation__lag_4",
         "rawType": "float32",
         "type": "float"
        },
        {
         "name": "s1__longest_strike_above_mean",
         "rawType": "float32",
         "type": "float"
        },
        {
         "name": "s1__autocorrelation__lag_3",
         "rawType": "float32",
         "type": "float"
        },
        {
         "name": "s1__approximate_entropy__m_2__r_0.7",
         "rawType": "float32",
         "type": "float"
        },
        {
         "name": "s1__longest_strike_below_mean",
         "rawType": "float32",
         "type": "float"
        },
        {
         "name": "s1__autocorrelation__lag_2",
         "rawType": "float32",
         "type": "float"
        },
        {
         "name": "s1__approximate_entropy__m_2__r_0.9",
         "rawType": "float32",
         "type": "float"
        },
        {
         "name": "s1__permutation_entropy__dimension_3__tau_1",
         "rawType": "float32",
         "type": "float"
        },
        {
         "name": "s1__autocorrelation__lag_1",
         "rawType": "float32",
         "type": "float"
        },
        {
         "name": "s1__partial_autocorrelation__lag_1",
         "rawType": "float32",
         "type": "float"
        },
        {
         "name": "s1__permutation_entropy__dimension_5__tau_1",
         "rawType": "float32",
         "type": "float"
        },
        {
         "name": "s1__permutation_entropy__dimension_4__tau_1",
         "rawType": "float32",
         "type": "float"
        },
        {
         "name": "s1__permutation_entropy__dimension_6__tau_1",
         "rawType": "float32",
         "type": "float"
        },
        {
         "name": "s1__permutation_entropy__dimension_7__tau_1",
         "rawType": "float32",
         "type": "float"
        },
        {
         "name": "s1__cid_ce__normalize_True",
         "rawType": "float32",
         "type": "float"
        },
        {
         "name": "s1__approximate_entropy__m_2__r_0.3",
         "rawType": "float32",
         "type": "float"
        },
        {
         "name": "s1__partial_autocorrelation__lag_8",
         "rawType": "float32",
         "type": "float"
        },
        {
         "name": "s1__partial_autocorrelation__lag_9",
         "rawType": "float32",
         "type": "float"
        },
        {
         "name": "s1__partial_autocorrelation__lag_7",
         "rawType": "float32",
         "type": "float"
        },
        {
         "name": "s1__partial_autocorrelation__lag_6",
         "rawType": "float32",
         "type": "float"
        },
        {
         "name": "s1__number_peaks__n_1",
         "rawType": "float32",
         "type": "float"
        },
        {
         "name": "s1__number_peaks__n_3",
         "rawType": "float32",
         "type": "float"
        },
        {
         "name": "s1__number_peaks__n_5",
         "rawType": "float32",
         "type": "float"
        },
        {
         "name": "s1__number_cwt_peaks__n_1",
         "rawType": "float32",
         "type": "float"
        },
        {
         "name": "s1__number_peaks__n_10",
         "rawType": "float32",
         "type": "float"
        },
        {
         "name": "s1__ar_coefficient__coeff_8__k_10",
         "rawType": "float32",
         "type": "float"
        },
        {
         "name": "s1__partial_autocorrelation__lag_5",
         "rawType": "float32",
         "type": "float"
        },
        {
         "name": "s1__number_cwt_peaks__n_5",
         "rawType": "float32",
         "type": "float"
        },
        {
         "name": "s1__spkt_welch_density__coeff_5",
         "rawType": "float32",
         "type": "float"
        },
        {
         "name": "s1__agg_autocorrelation__f_agg_\"median\"__maxlag_40",
         "rawType": "float32",
         "type": "float"
        },
        {
         "name": "s1__approximate_entropy__m_2__r_0.5",
         "rawType": "float32",
         "type": "float"
        },
        {
         "name": "s1__agg_autocorrelation__f_agg_\"mean\"__maxlag_40",
         "rawType": "float32",
         "type": "float"
        },
        {
         "name": "s1__ar_coefficient__coeff_3__k_10",
         "rawType": "float32",
         "type": "float"
        },
        {
         "name": "s1__approximate_entropy__m_2__r_0.1",
         "rawType": "float32",
         "type": "float"
        },
        {
         "name": "s1__lempel_ziv_complexity__bins_3",
         "rawType": "float32",
         "type": "float"
        },
        {
         "name": "s1__partial_autocorrelation__lag_4",
         "rawType": "float32",
         "type": "float"
        },
        {
         "name": "s1__fft_coefficient__attr_\"abs\"__coeff_7",
         "rawType": "float32",
         "type": "float"
        },
        {
         "name": "s1__agg_autocorrelation__f_agg_\"var\"__maxlag_40",
         "rawType": "float32",
         "type": "float"
        },
        {
         "name": "s1__spkt_welch_density__coeff_2",
         "rawType": "float32",
         "type": "float"
        }
       ],
       "conversionMethod": "pd.DataFrame",
       "ref": "38f53dba-aa35-4c16-b3eb-57be51fbb0d3",
       "rows": [
        [
         "0",
         "0.09202645",
         "0.009454414",
         "0.21406895",
         "0.0055234637",
         "0.0059658494",
         "0.004076599",
         "0.016448025",
         "0.0066902484",
         "0.0068223113",
         "0.0076160803",
         "0.19178636",
         "0.012562314",
         "0.005711358",
         "0.0070981537",
         "0.0053589847",
         "0.003871852",
         "0.0040996172",
         "0.00330301",
         "0.033544607",
         "0.0060073053",
         "0.0073653553",
         "0.0045843697",
         "0.0036188457",
         "0.036683634",
         "0.0050572557",
         "0.0028577384",
         "0.01040699",
         "0.0061616455",
         "0.011828534",
         "0.0032382638",
         "0.0058819517",
         "0.008665664",
         "0.0069489493",
         "0.004434239",
         "0.007946078",
         "0.004867148",
         "0.0044808215",
         "0.0065434147",
         "0.006779136",
         "0.0075854533",
         "0.004936872",
         "0.004774212",
         "0.0042651426",
         "0.00854109",
         "0.0038137236",
         "0.0034262547",
         "0.17227116"
        ],
        [
         "1",
         "0.10739155",
         "0.009446308",
         "0.19776222",
         "0.005976358",
         "0.0055843657",
         "0.004076635",
         "0.014906915",
         "0.0068404907",
         "0.006529587",
         "0.008445622",
         "0.217525",
         "0.011733975",
         "0.005925414",
         "0.0074007274",
         "0.0052406434",
         "0.0036934891",
         "0.004150883",
         "0.0033517096",
         "0.042225327",
         "0.005772674",
         "0.0076810434",
         "0.0047266977",
         "0.0035390523",
         "0.02642915",
         "0.0047954554",
         "0.002958408",
         "0.010190432",
         "0.0066066394",
         "0.01419258",
         "0.003433869",
         "0.0059041907",
         "0.008812459",
         "0.0070532826",
         "0.0043541016",
         "0.008028007",
         "0.0048051",
         "0.004500498",
         "0.0072813043",
         "0.0073781773",
         "0.007284851",
         "0.0045802584",
         "0.0046506375",
         "0.0040864744",
         "0.008862459",
         "0.0038800796",
         "0.0033447423",
         "0.14666016"
        ]
       ],
       "shape": {
        "columns": 47,
        "rows": 2
       }
      },
      "text/html": [
       "<div>\n",
       "<style scoped>\n",
       "    .dataframe tbody tr th:only-of-type {\n",
       "        vertical-align: middle;\n",
       "    }\n",
       "\n",
       "    .dataframe tbody tr th {\n",
       "        vertical-align: top;\n",
       "    }\n",
       "\n",
       "    .dataframe thead th {\n",
       "        text-align: right;\n",
       "    }\n",
       "</style>\n",
       "<table border=\"1\" class=\"dataframe\">\n",
       "  <thead>\n",
       "    <tr style=\"text-align: right;\">\n",
       "      <th></th>\n",
       "      <th>m1</th>\n",
       "      <th>m2</th>\n",
       "      <th>m3</th>\n",
       "      <th>s1__autocorrelation__lag_8</th>\n",
       "      <th>s1__autocorrelation__lag_9</th>\n",
       "      <th>s1__autocorrelation__lag_7</th>\n",
       "      <th>s1__autocorrelation__lag_6</th>\n",
       "      <th>s1__autocorrelation__lag_5</th>\n",
       "      <th>s1__autocorrelation__lag_4</th>\n",
       "      <th>s1__longest_strike_above_mean</th>\n",
       "      <th>...</th>\n",
       "      <th>s1__agg_autocorrelation__f_agg_\"median\"__maxlag_40</th>\n",
       "      <th>s1__approximate_entropy__m_2__r_0.5</th>\n",
       "      <th>s1__agg_autocorrelation__f_agg_\"mean\"__maxlag_40</th>\n",
       "      <th>s1__ar_coefficient__coeff_3__k_10</th>\n",
       "      <th>s1__approximate_entropy__m_2__r_0.1</th>\n",
       "      <th>s1__lempel_ziv_complexity__bins_3</th>\n",
       "      <th>s1__partial_autocorrelation__lag_4</th>\n",
       "      <th>s1__fft_coefficient__attr_\"abs\"__coeff_7</th>\n",
       "      <th>s1__agg_autocorrelation__f_agg_\"var\"__maxlag_40</th>\n",
       "      <th>s1__spkt_welch_density__coeff_2</th>\n",
       "    </tr>\n",
       "  </thead>\n",
       "  <tbody>\n",
       "    <tr>\n",
       "      <th>0</th>\n",
       "      <td>0.092026</td>\n",
       "      <td>0.009454</td>\n",
       "      <td>0.214069</td>\n",
       "      <td>0.005523</td>\n",
       "      <td>0.005966</td>\n",
       "      <td>0.004077</td>\n",
       "      <td>0.016448</td>\n",
       "      <td>0.00669</td>\n",
       "      <td>0.006822</td>\n",
       "      <td>0.007616</td>\n",
       "      <td>...</td>\n",
       "      <td>0.006543</td>\n",
       "      <td>0.006779</td>\n",
       "      <td>0.007585</td>\n",
       "      <td>0.004937</td>\n",
       "      <td>0.004774</td>\n",
       "      <td>0.004265</td>\n",
       "      <td>0.008541</td>\n",
       "      <td>0.003814</td>\n",
       "      <td>0.003426</td>\n",
       "      <td>0.172271</td>\n",
       "    </tr>\n",
       "    <tr>\n",
       "      <th>1</th>\n",
       "      <td>0.107392</td>\n",
       "      <td>0.009446</td>\n",
       "      <td>0.197762</td>\n",
       "      <td>0.005976</td>\n",
       "      <td>0.005584</td>\n",
       "      <td>0.004077</td>\n",
       "      <td>0.014907</td>\n",
       "      <td>0.00684</td>\n",
       "      <td>0.006530</td>\n",
       "      <td>0.008446</td>\n",
       "      <td>...</td>\n",
       "      <td>0.007281</td>\n",
       "      <td>0.007378</td>\n",
       "      <td>0.007285</td>\n",
       "      <td>0.004580</td>\n",
       "      <td>0.004651</td>\n",
       "      <td>0.004086</td>\n",
       "      <td>0.008862</td>\n",
       "      <td>0.003880</td>\n",
       "      <td>0.003345</td>\n",
       "      <td>0.146660</td>\n",
       "    </tr>\n",
       "  </tbody>\n",
       "</table>\n",
       "<p>2 rows × 47 columns</p>\n",
       "</div>"
      ],
      "text/plain": [
       "         m1        m2        m3  s1__autocorrelation__lag_8  \\\n",
       "0  0.092026  0.009454  0.214069                    0.005523   \n",
       "1  0.107392  0.009446  0.197762                    0.005976   \n",
       "\n",
       "   s1__autocorrelation__lag_9  s1__autocorrelation__lag_7  \\\n",
       "0                    0.005966                    0.004077   \n",
       "1                    0.005584                    0.004077   \n",
       "\n",
       "   s1__autocorrelation__lag_6  s1__autocorrelation__lag_5  \\\n",
       "0                    0.016448                     0.00669   \n",
       "1                    0.014907                     0.00684   \n",
       "\n",
       "   s1__autocorrelation__lag_4  s1__longest_strike_above_mean  ...  \\\n",
       "0                    0.006822                       0.007616  ...   \n",
       "1                    0.006530                       0.008446  ...   \n",
       "\n",
       "   s1__agg_autocorrelation__f_agg_\"median\"__maxlag_40  \\\n",
       "0                                           0.006543    \n",
       "1                                           0.007281    \n",
       "\n",
       "   s1__approximate_entropy__m_2__r_0.5  \\\n",
       "0                             0.006779   \n",
       "1                             0.007378   \n",
       "\n",
       "   s1__agg_autocorrelation__f_agg_\"mean\"__maxlag_40  \\\n",
       "0                                          0.007585   \n",
       "1                                          0.007285   \n",
       "\n",
       "   s1__ar_coefficient__coeff_3__k_10  s1__approximate_entropy__m_2__r_0.1  \\\n",
       "0                           0.004937                             0.004774   \n",
       "1                           0.004580                             0.004651   \n",
       "\n",
       "   s1__lempel_ziv_complexity__bins_3  s1__partial_autocorrelation__lag_4  \\\n",
       "0                           0.004265                            0.008541   \n",
       "1                           0.004086                            0.008862   \n",
       "\n",
       "   s1__fft_coefficient__attr_\"abs\"__coeff_7  \\\n",
       "0                                  0.003814   \n",
       "1                                  0.003880   \n",
       "\n",
       "   s1__agg_autocorrelation__f_agg_\"var\"__maxlag_40  \\\n",
       "0                                         0.003426   \n",
       "1                                         0.003345   \n",
       "\n",
       "   s1__spkt_welch_density__coeff_2  \n",
       "0                         0.172271  \n",
       "1                         0.146660  \n",
       "\n",
       "[2 rows x 47 columns]"
      ]
     },
     "execution_count": 43,
     "metadata": {},
     "output_type": "execute_result"
    }
   ],
   "source": [
    "dfW = pd.DataFrame(data=weights, columns=X.columns)\n",
    "dfW"
   ]
  },
  {
   "cell_type": "code",
   "execution_count": 44,
   "id": "296b9d51",
   "metadata": {},
   "outputs": [
    {
     "data": {
      "text/plain": [
       "m3                                                    0.214069\n",
       "s1__autocorrelation__lag_3                            0.191786\n",
       "s1__spkt_welch_density__coeff_2                       0.172271\n",
       "m1                                                    0.092026\n",
       "s1__approximate_entropy__m_2__r_0.3                   0.036684\n",
       "s1__permutation_entropy__dimension_5__tau_1           0.033545\n",
       "s1__autocorrelation__lag_6                            0.016448\n",
       "s1__approximate_entropy__m_2__r_0.7                   0.012562\n",
       "s1__number_peaks__n_1                                 0.011829\n",
       "s1__partial_autocorrelation__lag_7                    0.010407\n",
       "m2                                                    0.009454\n",
       "s1__number_cwt_peaks__n_1                             0.008666\n",
       "s1__partial_autocorrelation__lag_4                    0.008541\n",
       "s1__partial_autocorrelation__lag_5                    0.007946\n",
       "s1__longest_strike_above_mean                         0.007616\n",
       "s1__agg_autocorrelation__f_agg_\"mean\"__maxlag_40      0.007585\n",
       "s1__permutation_entropy__dimension_6__tau_1           0.007365\n",
       "s1__autocorrelation__lag_2                            0.007098\n",
       "s1__number_peaks__n_10                                0.006949\n",
       "s1__autocorrelation__lag_4                            0.006822\n",
       "s1__approximate_entropy__m_2__r_0.5                   0.006779\n",
       "s1__autocorrelation__lag_5                            0.006690\n",
       "s1__agg_autocorrelation__f_agg_\"median\"__maxlag_40    0.006543\n",
       "s1__partial_autocorrelation__lag_6                    0.006162\n",
       "s1__permutation_entropy__dimension_4__tau_1           0.006007\n",
       "s1__autocorrelation__lag_9                            0.005966\n",
       "s1__number_peaks__n_5                                 0.005882\n",
       "s1__longest_strike_below_mean                         0.005711\n",
       "s1__autocorrelation__lag_8                            0.005523\n",
       "s1__approximate_entropy__m_2__r_0.9                   0.005359\n",
       "s1__partial_autocorrelation__lag_8                    0.005057\n",
       "s1__ar_coefficient__coeff_3__k_10                     0.004937\n",
       "s1__number_cwt_peaks__n_5                             0.004867\n",
       "s1__approximate_entropy__m_2__r_0.1                   0.004774\n",
       "s1__permutation_entropy__dimension_7__tau_1           0.004584\n",
       "s1__spkt_welch_density__coeff_5                       0.004481\n",
       "s1__ar_coefficient__coeff_8__k_10                     0.004434\n",
       "s1__lempel_ziv_complexity__bins_3                     0.004265\n",
       "s1__autocorrelation__lag_1                            0.004100\n",
       "s1__autocorrelation__lag_7                            0.004077\n",
       "s1__permutation_entropy__dimension_3__tau_1           0.003872\n",
       "s1__fft_coefficient__attr_\"abs\"__coeff_7              0.003814\n",
       "s1__cid_ce__normalize_True                            0.003619\n",
       "s1__agg_autocorrelation__f_agg_\"var\"__maxlag_40       0.003426\n",
       "s1__partial_autocorrelation__lag_1                    0.003303\n",
       "s1__number_peaks__n_3                                 0.003238\n",
       "s1__partial_autocorrelation__lag_9                    0.002858\n",
       "Name: 0, dtype: float32"
      ]
     },
     "execution_count": 44,
     "metadata": {},
     "output_type": "execute_result"
    }
   ],
   "source": [
    "dfW.loc[0, :].sort_values(ascending=False)"
   ]
  },
  {
   "cell_type": "code",
   "execution_count": 45,
   "id": "f45c5f77",
   "metadata": {},
   "outputs": [
    {
     "data": {
      "text/plain": [
       "s1__autocorrelation__lag_3                            0.217525\n",
       "m3                                                    0.197762\n",
       "s1__spkt_welch_density__coeff_2                       0.146660\n",
       "m1                                                    0.107392\n",
       "s1__permutation_entropy__dimension_5__tau_1           0.042225\n",
       "s1__approximate_entropy__m_2__r_0.3                   0.026429\n",
       "s1__autocorrelation__lag_6                            0.014907\n",
       "s1__number_peaks__n_1                                 0.014193\n",
       "s1__approximate_entropy__m_2__r_0.7                   0.011734\n",
       "s1__partial_autocorrelation__lag_7                    0.010190\n",
       "m2                                                    0.009446\n",
       "s1__partial_autocorrelation__lag_4                    0.008862\n",
       "s1__number_cwt_peaks__n_1                             0.008812\n",
       "s1__longest_strike_above_mean                         0.008446\n",
       "s1__partial_autocorrelation__lag_5                    0.008028\n",
       "s1__permutation_entropy__dimension_6__tau_1           0.007681\n",
       "s1__autocorrelation__lag_2                            0.007401\n",
       "s1__approximate_entropy__m_2__r_0.5                   0.007378\n",
       "s1__agg_autocorrelation__f_agg_\"mean\"__maxlag_40      0.007285\n",
       "s1__agg_autocorrelation__f_agg_\"median\"__maxlag_40    0.007281\n",
       "s1__number_peaks__n_10                                0.007053\n",
       "s1__autocorrelation__lag_5                            0.006840\n",
       "s1__partial_autocorrelation__lag_6                    0.006607\n",
       "s1__autocorrelation__lag_4                            0.006530\n",
       "s1__autocorrelation__lag_8                            0.005976\n",
       "s1__longest_strike_below_mean                         0.005925\n",
       "s1__number_peaks__n_5                                 0.005904\n",
       "s1__permutation_entropy__dimension_4__tau_1           0.005773\n",
       "s1__autocorrelation__lag_9                            0.005584\n",
       "s1__approximate_entropy__m_2__r_0.9                   0.005241\n",
       "s1__number_cwt_peaks__n_5                             0.004805\n",
       "s1__partial_autocorrelation__lag_8                    0.004795\n",
       "s1__permutation_entropy__dimension_7__tau_1           0.004727\n",
       "s1__approximate_entropy__m_2__r_0.1                   0.004651\n",
       "s1__ar_coefficient__coeff_3__k_10                     0.004580\n",
       "s1__spkt_welch_density__coeff_5                       0.004500\n",
       "s1__ar_coefficient__coeff_8__k_10                     0.004354\n",
       "s1__autocorrelation__lag_1                            0.004151\n",
       "s1__lempel_ziv_complexity__bins_3                     0.004086\n",
       "s1__autocorrelation__lag_7                            0.004077\n",
       "s1__fft_coefficient__attr_\"abs\"__coeff_7              0.003880\n",
       "s1__permutation_entropy__dimension_3__tau_1           0.003693\n",
       "s1__cid_ce__normalize_True                            0.003539\n",
       "s1__number_peaks__n_3                                 0.003434\n",
       "s1__partial_autocorrelation__lag_1                    0.003352\n",
       "s1__agg_autocorrelation__f_agg_\"var\"__maxlag_40       0.003345\n",
       "s1__partial_autocorrelation__lag_9                    0.002958\n",
       "Name: 1, dtype: float32"
      ]
     },
     "execution_count": 45,
     "metadata": {},
     "output_type": "execute_result"
    }
   ],
   "source": [
    "dfW.loc[1, :].sort_values(ascending=False)\n"
   ]
  },
  {
   "cell_type": "code",
   "execution_count": null,
   "id": "3f81c67d",
   "metadata": {},
   "outputs": [],
   "source": []
  }
 ],
 "metadata": {
  "kernelspec": {
   "display_name": ".venv",
   "language": "python",
   "name": "python3"
  },
  "language_info": {
   "codemirror_mode": {
    "name": "ipython",
    "version": 3
   },
   "file_extension": ".py",
   "mimetype": "text/x-python",
   "name": "python",
   "nbconvert_exporter": "python",
   "pygments_lexer": "ipython3",
   "version": "3.12.10"
  }
 },
 "nbformat": 4,
 "nbformat_minor": 5
}
