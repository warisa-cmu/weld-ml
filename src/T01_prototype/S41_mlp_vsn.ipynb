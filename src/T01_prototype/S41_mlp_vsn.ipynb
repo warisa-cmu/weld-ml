{
 "cells": [
  {
   "cell_type": "code",
   "execution_count": 1,
   "id": "e8e63144",
   "metadata": {},
   "outputs": [],
   "source": [
    "import copy\n",
    "\n",
    "import matplotlib.pyplot as plt\n",
    "import numpy as np\n",
    "import pandas as pd\n",
    "import torch\n",
    "import torch.nn as nn\n",
    "import torch.optim as optim\n",
    "import tqdm\n",
    "from sklearn.model_selection import train_test_split\n",
    "from sklearn.preprocessing import StandardScaler, MinMaxScaler\n",
    "from sklearn.metrics import mean_squared_error, r2_score\n",
    "from S00_utils import plot_res, store_results\n",
    "\n"
   ]
  },
  {
   "cell_type": "code",
   "execution_count": 2,
   "id": "4c024cfb",
   "metadata": {},
   "outputs": [
    {
     "data": {
      "application/vnd.microsoft.datawrangler.viewer.v0+json": {
       "columns": [
        {
         "name": "id",
         "rawType": "object",
         "type": "string"
        },
        {
         "name": "m1",
         "rawType": "float64",
         "type": "float"
        },
        {
         "name": "m2",
         "rawType": "float64",
         "type": "float"
        },
        {
         "name": "m3",
         "rawType": "float64",
         "type": "float"
        },
        {
         "name": "s1__autocorrelation__lag_8",
         "rawType": "float64",
         "type": "float"
        },
        {
         "name": "s1__autocorrelation__lag_9",
         "rawType": "float64",
         "type": "float"
        },
        {
         "name": "s1__autocorrelation__lag_7",
         "rawType": "float64",
         "type": "float"
        },
        {
         "name": "s1__autocorrelation__lag_6",
         "rawType": "float64",
         "type": "float"
        },
        {
         "name": "s1__autocorrelation__lag_5",
         "rawType": "float64",
         "type": "float"
        },
        {
         "name": "s1__autocorrelation__lag_4",
         "rawType": "float64",
         "type": "float"
        },
        {
         "name": "s1__longest_strike_above_mean",
         "rawType": "int64",
         "type": "integer"
        },
        {
         "name": "s1__autocorrelation__lag_3",
         "rawType": "float64",
         "type": "float"
        },
        {
         "name": "s1__approximate_entropy__m_2__r_0.7",
         "rawType": "float64",
         "type": "float"
        },
        {
         "name": "s1__longest_strike_below_mean",
         "rawType": "int64",
         "type": "integer"
        },
        {
         "name": "s1__autocorrelation__lag_2",
         "rawType": "float64",
         "type": "float"
        },
        {
         "name": "s1__approximate_entropy__m_2__r_0.9",
         "rawType": "float64",
         "type": "float"
        },
        {
         "name": "s1__permutation_entropy__dimension_3__tau_1",
         "rawType": "float64",
         "type": "float"
        },
        {
         "name": "s1__autocorrelation__lag_1",
         "rawType": "float64",
         "type": "float"
        },
        {
         "name": "s1__partial_autocorrelation__lag_1",
         "rawType": "float64",
         "type": "float"
        },
        {
         "name": "s1__permutation_entropy__dimension_5__tau_1",
         "rawType": "float64",
         "type": "float"
        },
        {
         "name": "s1__permutation_entropy__dimension_4__tau_1",
         "rawType": "float64",
         "type": "float"
        },
        {
         "name": "s1__permutation_entropy__dimension_6__tau_1",
         "rawType": "float64",
         "type": "float"
        },
        {
         "name": "s1__permutation_entropy__dimension_7__tau_1",
         "rawType": "float64",
         "type": "float"
        },
        {
         "name": "s1__cid_ce__normalize_True",
         "rawType": "float64",
         "type": "float"
        },
        {
         "name": "s1__approximate_entropy__m_2__r_0.3",
         "rawType": "float64",
         "type": "float"
        },
        {
         "name": "s1__partial_autocorrelation__lag_8",
         "rawType": "float64",
         "type": "float"
        },
        {
         "name": "s1__partial_autocorrelation__lag_9",
         "rawType": "float64",
         "type": "float"
        },
        {
         "name": "s1__partial_autocorrelation__lag_7",
         "rawType": "float64",
         "type": "float"
        },
        {
         "name": "s1__partial_autocorrelation__lag_6",
         "rawType": "float64",
         "type": "float"
        },
        {
         "name": "s1__number_peaks__n_1",
         "rawType": "int64",
         "type": "integer"
        },
        {
         "name": "s1__number_peaks__n_3",
         "rawType": "int64",
         "type": "integer"
        },
        {
         "name": "s1__number_peaks__n_5",
         "rawType": "int64",
         "type": "integer"
        },
        {
         "name": "s1__number_cwt_peaks__n_1",
         "rawType": "int64",
         "type": "integer"
        },
        {
         "name": "s1__number_peaks__n_10",
         "rawType": "int64",
         "type": "integer"
        },
        {
         "name": "s1__ar_coefficient__coeff_8__k_10",
         "rawType": "float64",
         "type": "float"
        },
        {
         "name": "s1__partial_autocorrelation__lag_5",
         "rawType": "float64",
         "type": "float"
        },
        {
         "name": "s1__number_cwt_peaks__n_5",
         "rawType": "int64",
         "type": "integer"
        },
        {
         "name": "s1__spkt_welch_density__coeff_5",
         "rawType": "float64",
         "type": "float"
        },
        {
         "name": "s1__agg_autocorrelation__f_agg_\"median\"__maxlag_40",
         "rawType": "float64",
         "type": "float"
        },
        {
         "name": "s1__approximate_entropy__m_2__r_0.5",
         "rawType": "float64",
         "type": "float"
        },
        {
         "name": "s1__agg_autocorrelation__f_agg_\"mean\"__maxlag_40",
         "rawType": "float64",
         "type": "float"
        },
        {
         "name": "s1__ar_coefficient__coeff_3__k_10",
         "rawType": "float64",
         "type": "float"
        },
        {
         "name": "s1__approximate_entropy__m_2__r_0.1",
         "rawType": "float64",
         "type": "float"
        },
        {
         "name": "s1__lempel_ziv_complexity__bins_3",
         "rawType": "float64",
         "type": "float"
        },
        {
         "name": "s1__partial_autocorrelation__lag_4",
         "rawType": "float64",
         "type": "float"
        },
        {
         "name": "s1__fft_coefficient__attr_\"abs\"__coeff_7",
         "rawType": "float64",
         "type": "float"
        },
        {
         "name": "s1__agg_autocorrelation__f_agg_\"var\"__maxlag_40",
         "rawType": "float64",
         "type": "float"
        },
        {
         "name": "s1__spkt_welch_density__coeff_2",
         "rawType": "float64",
         "type": "float"
        },
        {
         "name": "y1",
         "rawType": "float64",
         "type": "float"
        },
        {
         "name": "y2",
         "rawType": "float64",
         "type": "float"
        },
        {
         "name": "y3",
         "rawType": "float64",
         "type": "float"
        }
       ],
       "conversionMethod": "pd.DataFrame",
       "ref": "97c6f756-852d-4f07-89cd-3ea9730ca11a",
       "rows": [
        [
         "E001",
         "150.2237162282709",
         "1176.177277778291",
         "1.142097497096118",
         "-0.3054339202505594",
         "-0.5191912937471133",
         "-0.07482931020721237",
         "0.1598964088207946",
         "0.385790122546617",
         "0.5903865308147479",
         "14",
         "0.7623960064154589",
         "0.2347346166610531",
         "14",
         "0.8923275547414669",
         "0.1627475159081164",
         "1.016163897369947",
         "0.9730124996338729",
         "0.9730124996338729",
         "1.62687847092397",
         "1.323937191565679",
         "1.924233458480636",
         "2.215079757527388",
         "3.966110221397809",
         "0.2054671462622681",
         "-0.226538711723462",
         "-0.2337969396502632",
         "-0.2313599744498629",
         "-0.2496215600475206",
         "11",
         "11",
         "11",
         "12",
         "10",
         "-0.1228645658353847",
         "-0.2871916578780337",
         "12",
         "2.302092584356073e-06",
         "-0.04029898618473704",
         "0.294575630574742",
         "-0.02381745749888618",
         "0.1839963654696146",
         "0.1585670576081162",
         "0.2041522491349481",
         "-0.3600840997659662",
         "0.2936172551085162",
         "0.4994878943759984",
         "5.88681152271281e-08",
         "55.46043367834409",
         "1.065916993455059",
         "114.5786204103125"
        ],
        [
         "E002",
         "102.5342678762004",
         "1483.654981916516",
         "1.104716419796098",
         "-0.2437852899127758",
         "-0.4542619780809531",
         "-0.02100206449903134",
         "0.2028355495861272",
         "0.4164225579112382",
         "0.6089720749981536",
         "14",
         "0.770760087739035",
         "0.222246210142254",
         "14",
         "0.8936165162838874",
         "0.1560670115588841",
         "0.9993568167921798",
         "0.9713377747746932",
         "0.9713377747746935",
         "1.576553073550272",
         "1.289890751104698",
         "1.858735405789931",
         "2.135705047559143",
         "3.6526435059868",
         "0.2110247401319967",
         "-0.2244198468351331",
         "-0.2325474580042485",
         "-0.2280495585317081",
         "-0.2444386143773333",
         "10",
         "9",
         "9",
         "10",
         "9",
         "-0.1251216792908884",
         "-0.278643948183462",
         "11",
         "9.194826079354894e-05",
         "0.005710727812269289",
         "0.295793386116199",
         "0.0174124077277948",
         "0.184369500523606",
         "0.1447418877366329",
         "0.2030075187969925",
         "-0.3443643252966841",
         "6.14237252208545",
         "0.4777432349844861",
         "3.64362055523439e-06",
         "50.64030573896383",
         "1.285665791352698",
         "124.6514837646304"
        ],
        [
         "E003",
         "119.8905490887243",
         "1254.897450653388",
         "2.162773409498691",
         "-0.3290060356266322",
         "-0.5434049971045741",
         "-0.09591338517658776",
         "0.1426122079089866",
         "0.3730020599120391",
         "0.5821514156665052",
         "14",
         "0.7581648639475573",
         "0.2394955454843397",
         "13",
         "0.8910329028051504",
         "0.165112565585219",
         "1.020465652695851",
         "0.9732011747853436",
         "0.9732011747853435",
         "1.646824878831804",
         "1.343150699207861",
         "1.944883653328339",
         "2.236309406751573",
         "3.682674589911052",
         "0.2017099991694988",
         "-0.2299484930997584",
         "-0.2383027291229635",
         "-0.2342132613799649",
         "-0.2523388214511478",
         "9",
         "9",
         "9",
         "10",
         "9",
         "-0.1218498437486562",
         "-0.2902894407037535",
         "11",
         "0.002991810076493899",
         "-0.06252100701744168",
         "0.2953766624528682",
         "-0.03807682374626591",
         "0.1840355025745247",
         "0.1442678316464963",
         "0.2081632653061224",
         "-0.3646107419088709",
         "26.78328344000789",
         "0.5064350830051291",
         "0.0001590028102571489",
         "50.83240472683809",
         "1.154859212683363",
         "57.01805417221681"
        ],
        [
         "E004",
         "162.8307992564844",
         "1302.043195135213",
         "1.30828321525042",
         "-0.0651521463136262",
         "-0.2664976926877177",
         "0.1389126502736655",
         "0.3371865864369897",
         "0.5214009296929024",
         "0.6838731666679987",
         "16",
         "0.8178274013703623",
         "0.1937549744108571",
         "16",
         "0.9176769485378873",
         "0.1370265745426402",
         "0.9726561048364449",
         "0.9792573362550936",
         "0.9792573362550935",
         "1.522951107576066",
         "1.249446870300736",
         "1.792685681282132",
         "2.058077147838571",
         "3.440933521168234",
         "0.2300116952585212",
         "-0.2135504176683748",
         "-0.2150938543416185",
         "-0.2220255651562478",
         "-0.2427030761830581",
         "9",
         "9",
         "9",
         "10",
         "9",
         "-0.1269822026600489",
         "-0.2818301171729558",
         "11",
         "0.03254871106161762",
         "0.167136898506159",
         "0.2838976837493383",
         "0.09874930838143854",
         "0.1872132457419277",
         "0.1373263951521655",
         "0.1936619718309859",
         "-0.3554414001104249",
         "33.22759074069934",
         "0.4605467208889374",
         "0.0007926165201968495",
         "62.47654543460142",
         "1.025160763802677",
         "132.2212175987509"
        ],
        [
         "E005",
         "165.72095638279",
         "1154.482313700376",
         "1.566829730087374",
         "-0.3048808371286578",
         "-0.5181766102806283",
         "-0.07483610968997173",
         "0.1593210142907042",
         "0.3847279896743889",
         "0.5890028422139049",
         "14",
         "0.7609243327125759",
         "0.2381097596952311",
         "14",
         "0.8910483643868621",
         "0.1626447113788911",
         "1.014791878416955",
         "0.9722267728214827",
         "0.9722267728214827",
         "1.62111225074021",
         "1.320327783744526",
         "1.916410952543579",
         "2.205328048547567",
         "3.995534195873079",
         "0.2072160931479998",
         "-0.2306634372538851",
         "-0.2403558289400577",
         "-0.233806167154005",
         "-0.2506967126737985",
         "11",
         "11",
         "11",
         "12",
         "10",
         "-0.1230299291182262",
         "-0.2868315494200753",
         "12",
         "0.005794605001799167",
         "-0.04382424818770635",
         "0.2887581856673982",
         "-0.0222890433765183",
         "0.1839782130968768",
         "0.1285455017839277",
         "0.1924398625429553",
         "-0.3575884147822471",
         "11.4394702754538",
         "0.4979403938074322",
         "0.0001462830650636705",
         "57.63443803240473",
         "1.043776221564284",
         "92.16026864580095"
        ]
       ],
       "shape": {
        "columns": 50,
        "rows": 5
       }
      },
      "text/html": [
       "<div>\n",
       "<style scoped>\n",
       "    .dataframe tbody tr th:only-of-type {\n",
       "        vertical-align: middle;\n",
       "    }\n",
       "\n",
       "    .dataframe tbody tr th {\n",
       "        vertical-align: top;\n",
       "    }\n",
       "\n",
       "    .dataframe thead th {\n",
       "        text-align: right;\n",
       "    }\n",
       "</style>\n",
       "<table border=\"1\" class=\"dataframe\">\n",
       "  <thead>\n",
       "    <tr style=\"text-align: right;\">\n",
       "      <th></th>\n",
       "      <th>m1</th>\n",
       "      <th>m2</th>\n",
       "      <th>m3</th>\n",
       "      <th>s1__autocorrelation__lag_8</th>\n",
       "      <th>s1__autocorrelation__lag_9</th>\n",
       "      <th>s1__autocorrelation__lag_7</th>\n",
       "      <th>s1__autocorrelation__lag_6</th>\n",
       "      <th>s1__autocorrelation__lag_5</th>\n",
       "      <th>s1__autocorrelation__lag_4</th>\n",
       "      <th>s1__longest_strike_above_mean</th>\n",
       "      <th>...</th>\n",
       "      <th>s1__ar_coefficient__coeff_3__k_10</th>\n",
       "      <th>s1__approximate_entropy__m_2__r_0.1</th>\n",
       "      <th>s1__lempel_ziv_complexity__bins_3</th>\n",
       "      <th>s1__partial_autocorrelation__lag_4</th>\n",
       "      <th>s1__fft_coefficient__attr_\"abs\"__coeff_7</th>\n",
       "      <th>s1__agg_autocorrelation__f_agg_\"var\"__maxlag_40</th>\n",
       "      <th>s1__spkt_welch_density__coeff_2</th>\n",
       "      <th>y1</th>\n",
       "      <th>y2</th>\n",
       "      <th>y3</th>\n",
       "    </tr>\n",
       "    <tr>\n",
       "      <th>id</th>\n",
       "      <th></th>\n",
       "      <th></th>\n",
       "      <th></th>\n",
       "      <th></th>\n",
       "      <th></th>\n",
       "      <th></th>\n",
       "      <th></th>\n",
       "      <th></th>\n",
       "      <th></th>\n",
       "      <th></th>\n",
       "      <th></th>\n",
       "      <th></th>\n",
       "      <th></th>\n",
       "      <th></th>\n",
       "      <th></th>\n",
       "      <th></th>\n",
       "      <th></th>\n",
       "      <th></th>\n",
       "      <th></th>\n",
       "      <th></th>\n",
       "      <th></th>\n",
       "    </tr>\n",
       "  </thead>\n",
       "  <tbody>\n",
       "    <tr>\n",
       "      <th>E001</th>\n",
       "      <td>150.223716</td>\n",
       "      <td>1176.177278</td>\n",
       "      <td>1.142097</td>\n",
       "      <td>-0.305434</td>\n",
       "      <td>-0.519191</td>\n",
       "      <td>-0.074829</td>\n",
       "      <td>0.159896</td>\n",
       "      <td>0.385790</td>\n",
       "      <td>0.590387</td>\n",
       "      <td>14</td>\n",
       "      <td>...</td>\n",
       "      <td>0.183996</td>\n",
       "      <td>0.158567</td>\n",
       "      <td>0.204152</td>\n",
       "      <td>-0.360084</td>\n",
       "      <td>0.293617</td>\n",
       "      <td>0.499488</td>\n",
       "      <td>5.886812e-08</td>\n",
       "      <td>55.460434</td>\n",
       "      <td>1.065917</td>\n",
       "      <td>114.578620</td>\n",
       "    </tr>\n",
       "    <tr>\n",
       "      <th>E002</th>\n",
       "      <td>102.534268</td>\n",
       "      <td>1483.654982</td>\n",
       "      <td>1.104716</td>\n",
       "      <td>-0.243785</td>\n",
       "      <td>-0.454262</td>\n",
       "      <td>-0.021002</td>\n",
       "      <td>0.202836</td>\n",
       "      <td>0.416423</td>\n",
       "      <td>0.608972</td>\n",
       "      <td>14</td>\n",
       "      <td>...</td>\n",
       "      <td>0.184370</td>\n",
       "      <td>0.144742</td>\n",
       "      <td>0.203008</td>\n",
       "      <td>-0.344364</td>\n",
       "      <td>6.142373</td>\n",
       "      <td>0.477743</td>\n",
       "      <td>3.643621e-06</td>\n",
       "      <td>50.640306</td>\n",
       "      <td>1.285666</td>\n",
       "      <td>124.651484</td>\n",
       "    </tr>\n",
       "    <tr>\n",
       "      <th>E003</th>\n",
       "      <td>119.890549</td>\n",
       "      <td>1254.897451</td>\n",
       "      <td>2.162773</td>\n",
       "      <td>-0.329006</td>\n",
       "      <td>-0.543405</td>\n",
       "      <td>-0.095913</td>\n",
       "      <td>0.142612</td>\n",
       "      <td>0.373002</td>\n",
       "      <td>0.582151</td>\n",
       "      <td>14</td>\n",
       "      <td>...</td>\n",
       "      <td>0.184036</td>\n",
       "      <td>0.144268</td>\n",
       "      <td>0.208163</td>\n",
       "      <td>-0.364611</td>\n",
       "      <td>26.783283</td>\n",
       "      <td>0.506435</td>\n",
       "      <td>1.590028e-04</td>\n",
       "      <td>50.832405</td>\n",
       "      <td>1.154859</td>\n",
       "      <td>57.018054</td>\n",
       "    </tr>\n",
       "    <tr>\n",
       "      <th>E004</th>\n",
       "      <td>162.830799</td>\n",
       "      <td>1302.043195</td>\n",
       "      <td>1.308283</td>\n",
       "      <td>-0.065152</td>\n",
       "      <td>-0.266498</td>\n",
       "      <td>0.138913</td>\n",
       "      <td>0.337187</td>\n",
       "      <td>0.521401</td>\n",
       "      <td>0.683873</td>\n",
       "      <td>16</td>\n",
       "      <td>...</td>\n",
       "      <td>0.187213</td>\n",
       "      <td>0.137326</td>\n",
       "      <td>0.193662</td>\n",
       "      <td>-0.355441</td>\n",
       "      <td>33.227591</td>\n",
       "      <td>0.460547</td>\n",
       "      <td>7.926165e-04</td>\n",
       "      <td>62.476545</td>\n",
       "      <td>1.025161</td>\n",
       "      <td>132.221218</td>\n",
       "    </tr>\n",
       "    <tr>\n",
       "      <th>E005</th>\n",
       "      <td>165.720956</td>\n",
       "      <td>1154.482314</td>\n",
       "      <td>1.566830</td>\n",
       "      <td>-0.304881</td>\n",
       "      <td>-0.518177</td>\n",
       "      <td>-0.074836</td>\n",
       "      <td>0.159321</td>\n",
       "      <td>0.384728</td>\n",
       "      <td>0.589003</td>\n",
       "      <td>14</td>\n",
       "      <td>...</td>\n",
       "      <td>0.183978</td>\n",
       "      <td>0.128546</td>\n",
       "      <td>0.192440</td>\n",
       "      <td>-0.357588</td>\n",
       "      <td>11.439470</td>\n",
       "      <td>0.497940</td>\n",
       "      <td>1.462831e-04</td>\n",
       "      <td>57.634438</td>\n",
       "      <td>1.043776</td>\n",
       "      <td>92.160269</td>\n",
       "    </tr>\n",
       "  </tbody>\n",
       "</table>\n",
       "<p>5 rows × 50 columns</p>\n",
       "</div>"
      ],
      "text/plain": [
       "              m1           m2        m3  s1__autocorrelation__lag_8  \\\n",
       "id                                                                    \n",
       "E001  150.223716  1176.177278  1.142097                   -0.305434   \n",
       "E002  102.534268  1483.654982  1.104716                   -0.243785   \n",
       "E003  119.890549  1254.897451  2.162773                   -0.329006   \n",
       "E004  162.830799  1302.043195  1.308283                   -0.065152   \n",
       "E005  165.720956  1154.482314  1.566830                   -0.304881   \n",
       "\n",
       "      s1__autocorrelation__lag_9  s1__autocorrelation__lag_7  \\\n",
       "id                                                             \n",
       "E001                   -0.519191                   -0.074829   \n",
       "E002                   -0.454262                   -0.021002   \n",
       "E003                   -0.543405                   -0.095913   \n",
       "E004                   -0.266498                    0.138913   \n",
       "E005                   -0.518177                   -0.074836   \n",
       "\n",
       "      s1__autocorrelation__lag_6  s1__autocorrelation__lag_5  \\\n",
       "id                                                             \n",
       "E001                    0.159896                    0.385790   \n",
       "E002                    0.202836                    0.416423   \n",
       "E003                    0.142612                    0.373002   \n",
       "E004                    0.337187                    0.521401   \n",
       "E005                    0.159321                    0.384728   \n",
       "\n",
       "      s1__autocorrelation__lag_4  s1__longest_strike_above_mean  ...  \\\n",
       "id                                                               ...   \n",
       "E001                    0.590387                             14  ...   \n",
       "E002                    0.608972                             14  ...   \n",
       "E003                    0.582151                             14  ...   \n",
       "E004                    0.683873                             16  ...   \n",
       "E005                    0.589003                             14  ...   \n",
       "\n",
       "      s1__ar_coefficient__coeff_3__k_10  s1__approximate_entropy__m_2__r_0.1  \\\n",
       "id                                                                             \n",
       "E001                           0.183996                             0.158567   \n",
       "E002                           0.184370                             0.144742   \n",
       "E003                           0.184036                             0.144268   \n",
       "E004                           0.187213                             0.137326   \n",
       "E005                           0.183978                             0.128546   \n",
       "\n",
       "      s1__lempel_ziv_complexity__bins_3  s1__partial_autocorrelation__lag_4  \\\n",
       "id                                                                            \n",
       "E001                           0.204152                           -0.360084   \n",
       "E002                           0.203008                           -0.344364   \n",
       "E003                           0.208163                           -0.364611   \n",
       "E004                           0.193662                           -0.355441   \n",
       "E005                           0.192440                           -0.357588   \n",
       "\n",
       "      s1__fft_coefficient__attr_\"abs\"__coeff_7  \\\n",
       "id                                               \n",
       "E001                                  0.293617   \n",
       "E002                                  6.142373   \n",
       "E003                                 26.783283   \n",
       "E004                                 33.227591   \n",
       "E005                                 11.439470   \n",
       "\n",
       "      s1__agg_autocorrelation__f_agg_\"var\"__maxlag_40  \\\n",
       "id                                                      \n",
       "E001                                         0.499488   \n",
       "E002                                         0.477743   \n",
       "E003                                         0.506435   \n",
       "E004                                         0.460547   \n",
       "E005                                         0.497940   \n",
       "\n",
       "      s1__spkt_welch_density__coeff_2         y1        y2          y3  \n",
       "id                                                                      \n",
       "E001                     5.886812e-08  55.460434  1.065917  114.578620  \n",
       "E002                     3.643621e-06  50.640306  1.285666  124.651484  \n",
       "E003                     1.590028e-04  50.832405  1.154859   57.018054  \n",
       "E004                     7.926165e-04  62.476545  1.025161  132.221218  \n",
       "E005                     1.462831e-04  57.634438  1.043776   92.160269  \n",
       "\n",
       "[5 rows x 50 columns]"
      ]
     },
     "execution_count": 2,
     "metadata": {},
     "output_type": "execute_result"
    }
   ],
   "source": [
    "df = pd.read_excel(\"output/S21__2025-04-21-052727.xlsx\")\n",
    "df = df.set_index(\"Unnamed: 0\")\n",
    "df.index.names = [\"id\"]\n",
    "df.head()"
   ]
  },
  {
   "cell_type": "code",
   "execution_count": 3,
   "id": "ca89c1ee",
   "metadata": {},
   "outputs": [
    {
     "name": "stdout",
     "output_type": "stream",
     "text": [
      "(70, 47)\n",
      "(70, 3)\n"
     ]
    }
   ],
   "source": [
    "colsY = [\"y1\", \"y2\", \"y3\"]\n",
    "colsX = [c for c in df.columns if c not in colsY]\n",
    "\n",
    "X = df[colsX]\n",
    "Y = df[colsY]\n",
    "\n",
    "X_train, X_test, Y_train, Y_test = train_test_split(X, Y, test_size=0.3, random_state=0)\n",
    "print(X_train.shape)\n",
    "print(Y_train.shape)\n"
   ]
  },
  {
   "cell_type": "code",
   "execution_count": 4,
   "id": "1a59f9d9",
   "metadata": {},
   "outputs": [],
   "source": [
    "scX = MinMaxScaler()\n",
    "X_train_std = scX.fit_transform(X_train)\n",
    "X_test_std = scX.transform(X_test)\n",
    "\n",
    "scY = MinMaxScaler()\n",
    "Y_train_std = scY.fit_transform(Y_train)\n",
    "Y_test_std = scY.transform(Y_test)"
   ]
  },
  {
   "cell_type": "code",
   "execution_count": 5,
   "id": "9134a4d9",
   "metadata": {},
   "outputs": [],
   "source": [
    "# Convert to 2D PyTorch tensors\n",
    "X_train_std = torch.tensor(X_train_std, dtype=torch.float32)\n",
    "Y_train_std = torch.tensor(Y_train_std, dtype=torch.float32)\n",
    "X_test_std = torch.tensor(X_test_std, dtype=torch.float32)\n",
    "Y_test_std = torch.tensor(Y_test_std, dtype=torch.float32)"
   ]
  },
  {
   "cell_type": "code",
   "execution_count": 6,
   "id": "f7c6f348",
   "metadata": {},
   "outputs": [],
   "source": [
    "class MyModel(nn.Module):\n",
    "    def __init__(\n",
    "        self,\n",
    "        num_tabular_features,\n",
    "        output_size,\n",
    "        embedding_size,\n",
    "    ):\n",
    "        super().__init__()\n",
    "\n",
    "        self.num_tabular_features = num_tabular_features\n",
    "\n",
    "        # Embeddeding layer\n",
    "        self.embedding_size = embedding_size\n",
    "        self.embedders_tab_vars = nn.ModuleList(\n",
    "            [\n",
    "                nn.Linear(1, self.embedding_size)\n",
    "                for _ in range(self.num_tabular_features)\n",
    "            ]\n",
    "        )\n",
    "\n",
    "        self.vsn_tab_vars = VariableSelectionNetwork(\n",
    "            num_inputs=num_tabular_features,\n",
    "            input_dim=self.embedding_size,\n",
    "            hidden_dim=num_tabular_features,  # This is the output size\n",
    "        )\n",
    "\n",
    "        # MLP for tabular data\n",
    "        self.mlp = nn.Sequential(\n",
    "            nn.Linear(num_tabular_features, 64), nn.ReLU(), nn.Linear(64, 32), nn.ReLU()\n",
    "        )\n",
    "\n",
    "        self.regressor = nn.Sequential(\n",
    "            nn.Linear(32, 64), nn.ReLU(), nn.Linear(64, output_size)\n",
    "        )\n",
    "\n",
    "    def forward(self, x_tab):\n",
    "        # x_tab: (batch, num_tabular_features)\n",
    "\n",
    "        tab_out = torch.stack(\n",
    "            [\n",
    "                self.embedders_tab_vars[i](x_tab[Ellipsis, i].unsqueeze(-1))\n",
    "                for i in range(0, self.num_tabular_features)\n",
    "            ],\n",
    "            axis=-2,\n",
    "        )  # (batch, num_features, embedding_size)\n",
    "\n",
    "        tab_out, vsn_weights = self.vsn_tab_vars(tab_out)\n",
    "        tab_out = self.mlp(tab_out)\n",
    "        output = self.regressor(tab_out)\n",
    "        return output.squeeze(-1), vsn_weights\n",
    "\n",
    "\n",
    "class GatedResidualNetwork(nn.Module):\n",
    "    def __init__(\n",
    "        self, input_dim, hidden_dim, output_dim, context_dim=None, dropout=0.1\n",
    "    ):\n",
    "        super().__init__()\n",
    "        self.linear1 = nn.Linear(input_dim, hidden_dim)\n",
    "        self.context_linear = (\n",
    "            nn.Linear(context_dim, hidden_dim) if context_dim is not None else None\n",
    "        )\n",
    "        self.elu = nn.ELU()\n",
    "        self.linear2 = nn.Linear(hidden_dim, output_dim)\n",
    "        self.dropout = nn.Dropout(dropout)\n",
    "        self.gate = nn.Linear(output_dim, output_dim)\n",
    "        self.sigmoid = nn.Sigmoid()\n",
    "        self.skip = (\n",
    "            nn.Linear(input_dim, output_dim) if input_dim != output_dim else None\n",
    "        )\n",
    "        self.layer_norm = nn.LayerNorm(output_dim)\n",
    "\n",
    "    def forward(self, x, context=None):\n",
    "        out = self.linear1(x)\n",
    "        if context is not None:\n",
    "            out += self.context_linear(context)\n",
    "        out = self.elu(out)\n",
    "        out = self.linear2(out)\n",
    "        out = self.dropout(out)\n",
    "        gated = self.sigmoid(self.gate(out))\n",
    "        out = out * gated\n",
    "        skip = self.skip(x) if self.skip is not None else x\n",
    "        out = self.layer_norm(out + skip)\n",
    "        return out\n",
    "\n",
    "\n",
    "class VariableSelectionNetwork(nn.Module):\n",
    "    def __init__(\n",
    "        self, num_inputs, input_dim, hidden_dim, context_dim=None, dropout=0.1\n",
    "    ):\n",
    "        super().__init__()\n",
    "        self.num_inputs = num_inputs\n",
    "        self.input_dim = input_dim\n",
    "        self.hidden_dim = hidden_dim\n",
    "        self.context_dim = context_dim\n",
    "        self.variable_grns = nn.ModuleList(\n",
    "            [\n",
    "                GatedResidualNetwork(\n",
    "                    input_dim, hidden_dim, hidden_dim, context_dim, dropout\n",
    "                )\n",
    "                for _ in range(num_inputs)\n",
    "            ]\n",
    "        )\n",
    "        self.softmax = nn.Softmax(dim=-1)\n",
    "        self.weight_grn = GatedResidualNetwork(\n",
    "            num_inputs * hidden_dim, hidden_dim, num_inputs, context_dim, dropout\n",
    "        )\n",
    "\n",
    "    def forward(self, x, context=None):\n",
    "        # x: (batch, num_inputs, input_dim)\n",
    "        var_outputs = []\n",
    "        for i, grn in enumerate(self.variable_grns):\n",
    "            var_out = grn(x[:, i, :], context)\n",
    "            var_outputs.append(var_out)\n",
    "        var_outputs = torch.stack(var_outputs, dim=1)  # (batch, num_inputs, hidden_dim)\n",
    "        flattened = var_outputs.view(var_outputs.size(0), -1)\n",
    "        weights = self.weight_grn(flattened, context)\n",
    "        weights = self.softmax(weights)  # (batch, num_inputs)\n",
    "        # Weighted sum of variable outputs\n",
    "        weighted_output = (var_outputs * weights.unsqueeze(-1)).sum(dim=1)\n",
    "        return weighted_output, weights  # (batch, hidden_dim), (batch, num_inputs)\n"
   ]
  },
  {
   "cell_type": "code",
   "execution_count": 7,
   "id": "e2b15ad3",
   "metadata": {},
   "outputs": [],
   "source": [
    "num_tabular_features = X_train.shape[1]\n",
    "output_size = Y_train.shape[1]\n",
    "embedding_size = 8\n",
    "\n",
    "# Define the model\n",
    "model = MyModel(num_tabular_features=num_tabular_features, output_size=3, embedding_size=embedding_size)\n",
    "\n",
    "# loss function and optimizer\n",
    "loss_fn = nn.MSELoss()  # mean square error\n",
    "optimizer = optim.Adam(model.parameters(), lr=0.0001)"
   ]
  },
  {
   "cell_type": "code",
   "execution_count": 8,
   "id": "361fa7b8",
   "metadata": {},
   "outputs": [
    {
     "name": "stdout",
     "output_type": "stream",
     "text": [
      "MSE: 0.00\n",
      "RMSE: 0.04\n"
     ]
    },
    {
     "data": {
      "image/png": "[encoded data removed]",
      "text/plain": [
       "<Figure size 640x480 with 1 Axes>"
      ]
     },
     "metadata": {},
     "output_type": "display_data"
    }
   ],
   "source": [
    "n_epochs = 200  # number of epochs to run\n",
    "batch_size = 10  # size of each batch\n",
    "batch_start = torch.arange(0, len(X_train), batch_size)\n",
    "\n",
    "# Hold the best model\n",
    "best_mse = np.inf  # init to infinity\n",
    "best_weights = None\n",
    "history = []\n",
    "\n",
    "for epoch in range(n_epochs):\n",
    "    model.train()\n",
    "    with tqdm.tqdm(batch_start, unit=\"batch\", mininterval=0, disable=True) as bar:\n",
    "        bar.set_description(f\"Epoch {epoch}\")\n",
    "        for start in bar:\n",
    "            # take a batch\n",
    "            X_batch = X_train_std[start : start + batch_size]\n",
    "            y_batch = Y_train_std[start : start + batch_size]\n",
    "            # forward pass\n",
    "            y_pred, _ = model(X_batch)\n",
    "            loss = loss_fn(y_pred, y_batch)\n",
    "            # backward pass\n",
    "            optimizer.zero_grad()\n",
    "            loss.backward()\n",
    "            # update weights\n",
    "            optimizer.step()\n",
    "            # print progress\n",
    "            bar.set_postfix(mse=float(loss))\n",
    "    # evaluate accuracy at end of each epoch\n",
    "    model.eval()\n",
    "    y_pred, _ = model(X_test_std)\n",
    "    mse = loss_fn(y_pred, Y_test_std)\n",
    "    mse = float(mse)\n",
    "    history.append(mse)\n",
    "    if mse < best_mse:\n",
    "        best_mse = mse\n",
    "        best_weights = copy.deepcopy(model.state_dict())\n",
    "\n",
    "# restore model and return best accuracy\n",
    "model.load_state_dict(best_weights)\n",
    "print(\"MSE: %.2f\" % best_mse)\n",
    "print(\"RMSE: %.2f\" % np.sqrt(best_mse))\n",
    "plt.plot(history)\n",
    "plt.show()"
   ]
  },
  {
   "cell_type": "code",
   "execution_count": 9,
   "id": "d7965fa0",
   "metadata": {},
   "outputs": [],
   "source": [
    "Y_train_pred, weights_train  = model(X_train_std)\n",
    "Y_test_pred, weights_test = model(X_test_std)"
   ]
  },
  {
   "cell_type": "code",
   "execution_count": 10,
   "id": "dda491bd",
   "metadata": {},
   "outputs": [],
   "source": [
    "Y_train_std = Y_train_std.detach().numpy()\n",
    "Y_test_std = Y_test_std.detach().numpy()\n",
    "Y_train_pred = Y_train_pred.detach().numpy()\n",
    "Y_test_pred = Y_test_pred.detach().numpy()"
   ]
  },
  {
   "cell_type": "code",
   "execution_count": 11,
   "id": "74a59429",
   "metadata": {},
   "outputs": [
    {
     "data": {
      "application/vnd.microsoft.datawrangler.viewer.v0+json": {
       "columns": [
        {
         "name": "index",
         "rawType": "int64",
         "type": "integer"
        },
        {
         "name": "MSE Train",
         "rawType": "float64",
         "type": "float"
        },
        {
         "name": "MSE Test",
         "rawType": "float64",
         "type": "float"
        },
        {
         "name": "R2 Train",
         "rawType": "float64",
         "type": "float"
        },
        {
         "name": "R2 Test",
         "rawType": "float64",
         "type": "float"
        }
       ],
       "conversionMethod": "pd.DataFrame",
       "ref": "535de617-9b78-42c4-a7b2-0e76b0ac60e4",
       "rows": [
        [
         "0",
         "0.0006190601270645857",
         "0.0016215573996305466",
         "0.9861862063407898",
         "0.9697439074516296"
        ],
        [
         "1",
         "0.00030726910335943103",
         "0.0011077572125941515",
         "0.9919991493225098",
         "0.9641690254211426"
        ],
        [
         "2",
         "0.00046002911403775215",
         "0.0020070073660463095",
         "0.992175817489624",
         "0.9617065787315369"
        ]
       ],
       "shape": {
        "columns": 4,
        "rows": 3
       }
      },
      "text/html": [
       "<div>\n",
       "<style scoped>\n",
       "    .dataframe tbody tr th:only-of-type {\n",
       "        vertical-align: middle;\n",
       "    }\n",
       "\n",
       "    .dataframe tbody tr th {\n",
       "        vertical-align: top;\n",
       "    }\n",
       "\n",
       "    .dataframe thead th {\n",
       "        text-align: right;\n",
       "    }\n",
       "</style>\n",
       "<table border=\"1\" class=\"dataframe\">\n",
       "  <thead>\n",
       "    <tr style=\"text-align: right;\">\n",
       "      <th></th>\n",
       "      <th>MSE Train</th>\n",
       "      <th>MSE Test</th>\n",
       "      <th>R2 Train</th>\n",
       "      <th>R2 Test</th>\n",
       "    </tr>\n",
       "  </thead>\n",
       "  <tbody>\n",
       "    <tr>\n",
       "      <th>0</th>\n",
       "      <td>0.000619</td>\n",
       "      <td>0.001622</td>\n",
       "      <td>0.986186</td>\n",
       "      <td>0.969744</td>\n",
       "    </tr>\n",
       "    <tr>\n",
       "      <th>1</th>\n",
       "      <td>0.000307</td>\n",
       "      <td>0.001108</td>\n",
       "      <td>0.991999</td>\n",
       "      <td>0.964169</td>\n",
       "    </tr>\n",
       "    <tr>\n",
       "      <th>2</th>\n",
       "      <td>0.000460</td>\n",
       "      <td>0.002007</td>\n",
       "      <td>0.992176</td>\n",
       "      <td>0.961707</td>\n",
       "    </tr>\n",
       "  </tbody>\n",
       "</table>\n",
       "</div>"
      ],
      "text/plain": [
       "   MSE Train  MSE Test  R2 Train   R2 Test\n",
       "0   0.000619  0.001622  0.986186  0.969744\n",
       "1   0.000307  0.001108  0.991999  0.964169\n",
       "2   0.000460  0.002007  0.992176  0.961707"
      ]
     },
     "execution_count": 11,
     "metadata": {},
     "output_type": "execute_result"
    },
    {
     "data": {
      "image/png": "[encoded data removed]",
      "text/plain": [
       "<Figure size 900x300 with 2 Axes>"
      ]
     },
     "metadata": {},
     "output_type": "display_data"
    },
    {
     "data": {
      "image/png": "[encoded data removed]",
      "text/plain": [
       "<Figure size 900x300 with 2 Axes>"
      ]
     },
     "metadata": {},
     "output_type": "display_data"
    },
    {
     "data": {
      "image/png": "[encoded data removed]",
      "text/plain": [
       "<Figure size 900x300 with 2 Axes>"
      ]
     },
     "metadata": {},
     "output_type": "display_data"
    }
   ],
   "source": [
    "resArr = []\n",
    "for i in range(Y.shape[1]):\n",
    "    y_train = Y_train_std[:, i]\n",
    "    y_test = Y_test_std[:, i]\n",
    "    y_train_pred = Y_train_pred[:, i]\n",
    "    y_test_pred = Y_test_pred[:, i]\n",
    "    plot_res(y_train, y_test, y_train_pred, y_test_pred, xlim=[-0.1, 1.1])\n",
    "    res = store_results(y_train, y_test, y_train_pred, y_test_pred)\n",
    "    resArr.append(res)\n",
    "\n",
    "dfRes = pd.DataFrame.from_dict(resArr)\n",
    "dfRes"
   ]
  },
  {
   "cell_type": "code",
   "execution_count": 12,
   "id": "b51ab946",
   "metadata": {},
   "outputs": [
    {
     "data": {
      "text/plain": [
       "(2, 47)"
      ]
     },
     "execution_count": 12,
     "metadata": {},
     "output_type": "execute_result"
    }
   ],
   "source": [
    "weights_train_mean = weights_train.detach().numpy().mean(axis=0)\n",
    "weights_test_mean = weights_test.detach().numpy().mean(axis=0)\n",
    "weights = np.stack([weights_train_mean, weights_test_mean], axis=0)\n",
    "weights.shape"
   ]
  },
  {
   "cell_type": "code",
   "execution_count": 13,
   "id": "6a850a4d",
   "metadata": {},
   "outputs": [
    {
     "data": {
      "application/vnd.microsoft.datawrangler.viewer.v0+json": {
       "columns": [
        {
         "name": "index",
         "rawType": "int64",
         "type": "integer"
        },
        {
         "name": "m1",
         "rawType": "float32",
         "type": "float"
        },
        {
         "name": "m2",
         "rawType": "float32",
         "type": "float"
        },
        {
         "name": "m3",
         "rawType": "float32",
         "type": "float"
        },
        {
         "name": "s1__autocorrelation__lag_8",
         "rawType": "float32",
         "type": "float"
        },
        {
         "name": "s1__autocorrelation__lag_9",
         "rawType": "float32",
         "type": "float"
        },
        {
         "name": "s1__autocorrelation__lag_7",
         "rawType": "float32",
         "type": "float"
        },
        {
         "name": "s1__autocorrelation__lag_6",
         "rawType": "float32",
         "type": "float"
        },
        {
         "name": "s1__autocorrelation__lag_5",
         "rawType": "float32",
         "type": "float"
        },
        {
         "name": "s1__autocorrelation__lag_4",
         "rawType": "float32",
         "type": "float"
        },
        {
         "name": "s1__longest_strike_above_mean",
         "rawType": "float32",
         "type": "float"
        },
        {
         "name": "s1__autocorrelation__lag_3",
         "rawType": "float32",
         "type": "float"
        },
        {
         "name": "s1__approximate_entropy__m_2__r_0.7",
         "rawType": "float32",
         "type": "float"
        },
        {
         "name": "s1__longest_strike_below_mean",
         "rawType": "float32",
         "type": "float"
        },
        {
         "name": "s1__autocorrelation__lag_2",
         "rawType": "float32",
         "type": "float"
        },
        {
         "name": "s1__approximate_entropy__m_2__r_0.9",
         "rawType": "float32",
         "type": "float"
        },
        {
         "name": "s1__permutation_entropy__dimension_3__tau_1",
         "rawType": "float32",
         "type": "float"
        },
        {
         "name": "s1__autocorrelation__lag_1",
         "rawType": "float32",
         "type": "float"
        },
        {
         "name": "s1__partial_autocorrelation__lag_1",
         "rawType": "float32",
         "type": "float"
        },
        {
         "name": "s1__permutation_entropy__dimension_5__tau_1",
         "rawType": "float32",
         "type": "float"
        },
        {
         "name": "s1__permutation_entropy__dimension_4__tau_1",
         "rawType": "float32",
         "type": "float"
        },
        {
         "name": "s1__permutation_entropy__dimension_6__tau_1",
         "rawType": "float32",
         "type": "float"
        },
        {
         "name": "s1__permutation_entropy__dimension_7__tau_1",
         "rawType": "float32",
         "type": "float"
        },
        {
         "name": "s1__cid_ce__normalize_True",
         "rawType": "float32",
         "type": "float"
        },
        {
         "name": "s1__approximate_entropy__m_2__r_0.3",
         "rawType": "float32",
         "type": "float"
        },
        {
         "name": "s1__partial_autocorrelation__lag_8",
         "rawType": "float32",
         "type": "float"
        },
        {
         "name": "s1__partial_autocorrelation__lag_9",
         "rawType": "float32",
         "type": "float"
        },
        {
         "name": "s1__partial_autocorrelation__lag_7",
         "rawType": "float32",
         "type": "float"
        },
        {
         "name": "s1__partial_autocorrelation__lag_6",
         "rawType": "float32",
         "type": "float"
        },
        {
         "name": "s1__number_peaks__n_1",
         "rawType": "float32",
         "type": "float"
        },
        {
         "name": "s1__number_peaks__n_3",
         "rawType": "float32",
         "type": "float"
        },
        {
         "name": "s1__number_peaks__n_5",
         "rawType": "float32",
         "type": "float"
        },
        {
         "name": "s1__number_cwt_peaks__n_1",
         "rawType": "float32",
         "type": "float"
        },
        {
         "name": "s1__number_peaks__n_10",
         "rawType": "float32",
         "type": "float"
        },
        {
         "name": "s1__ar_coefficient__coeff_8__k_10",
         "rawType": "float32",
         "type": "float"
        },
        {
         "name": "s1__partial_autocorrelation__lag_5",
         "rawType": "float32",
         "type": "float"
        },
        {
         "name": "s1__number_cwt_peaks__n_5",
         "rawType": "float32",
         "type": "float"
        },
        {
         "name": "s1__spkt_welch_density__coeff_5",
         "rawType": "float32",
         "type": "float"
        },
        {
         "name": "s1__agg_autocorrelation__f_agg_\"median\"__maxlag_40",
         "rawType": "float32",
         "type": "float"
        },
        {
         "name": "s1__approximate_entropy__m_2__r_0.5",
         "rawType": "float32",
         "type": "float"
        },
        {
         "name": "s1__agg_autocorrelation__f_agg_\"mean\"__maxlag_40",
         "rawType": "float32",
         "type": "float"
        },
        {
         "name": "s1__ar_coefficient__coeff_3__k_10",
         "rawType": "float32",
         "type": "float"
        },
        {
         "name": "s1__approximate_entropy__m_2__r_0.1",
         "rawType": "float32",
         "type": "float"
        },
        {
         "name": "s1__lempel_ziv_complexity__bins_3",
         "rawType": "float32",
         "type": "float"
        },
        {
         "name": "s1__partial_autocorrelation__lag_4",
         "rawType": "float32",
         "type": "float"
        },
        {
         "name": "s1__fft_coefficient__attr_\"abs\"__coeff_7",
         "rawType": "float32",
         "type": "float"
        },
        {
         "name": "s1__agg_autocorrelation__f_agg_\"var\"__maxlag_40",
         "rawType": "float32",
         "type": "float"
        },
        {
         "name": "s1__spkt_welch_density__coeff_2",
         "rawType": "float32",
         "type": "float"
        }
       ],
       "conversionMethod": "pd.DataFrame",
       "ref": "ab340d80-493c-4c08-856a-9c9f1fcabfd0",
       "rows": [
        [
         "0",
         "0.35926238",
         "0.010139964",
         "0.0043191705",
         "0.004933584",
         "0.0601586",
         "0.0039211255",
         "0.1523609",
         "0.00794601",
         "0.0036489116",
         "0.010099381",
         "0.005517691",
         "0.0041978406",
         "0.0031076039",
         "0.084903926",
         "0.005956332",
         "0.008940463",
         "0.0071542663",
         "0.005221865",
         "0.004798275",
         "0.0035800585",
         "0.0036036782",
         "0.0065308996",
         "0.008362935",
         "0.0043105665",
         "0.06656124",
         "0.00420775",
         "0.03381756",
         "0.011543683",
         "0.0037989945",
         "0.0039675254",
         "0.005641211",
         "0.0054159756",
         "0.0056035332",
         "0.0042517944",
         "0.004641933",
         "0.012751182",
         "0.0045308066",
         "0.005303026",
         "0.0045453077",
         "0.0034290503",
         "0.011731386",
         "0.004789721",
         "0.0030569548",
         "0.005358345",
         "0.011776716",
         "0.0043510604",
         "0.005948852"
        ],
        [
         "1",
         "0.2913833",
         "0.0118480455",
         "0.0044988757",
         "0.0054111313",
         "0.05408592",
         "0.0040570004",
         "0.18595685",
         "0.009611676",
         "0.0036318207",
         "0.01253398",
         "0.0064389803",
         "0.004382442",
         "0.0031144412",
         "0.104009315",
         "0.0068746535",
         "0.010436615",
         "0.008113843",
         "0.00573262",
         "0.005208428",
         "0.0034811406",
         "0.0034519816",
         "0.007228154",
         "0.009652838",
         "0.004430696",
         "0.05253436",
         "0.004511352",
         "0.0407326",
         "0.014920934",
         "0.00389421",
         "0.003992424",
         "0.0063260007",
         "0.0057358714",
         "0.005961661",
         "0.004360576",
         "0.004879157",
         "0.015311942",
         "0.004573035",
         "0.0058487337",
         "0.0047249207",
         "0.003441309",
         "0.0132454",
         "0.0050169197",
         "0.0031519965",
         "0.005877415",
         "0.014435024",
         "0.0045946077",
         "0.006354782"
        ]
       ],
       "shape": {
        "columns": 47,
        "rows": 2
       }
      },
      "text/html": [
       "<div>\n",
       "<style scoped>\n",
       "    .dataframe tbody tr th:only-of-type {\n",
       "        vertical-align: middle;\n",
       "    }\n",
       "\n",
       "    .dataframe tbody tr th {\n",
       "        vertical-align: top;\n",
       "    }\n",
       "\n",
       "    .dataframe thead th {\n",
       "        text-align: right;\n",
       "    }\n",
       "</style>\n",
       "<table border=\"1\" class=\"dataframe\">\n",
       "  <thead>\n",
       "    <tr style=\"text-align: right;\">\n",
       "      <th></th>\n",
       "      <th>m1</th>\n",
       "      <th>m2</th>\n",
       "      <th>m3</th>\n",
       "      <th>s1__autocorrelation__lag_8</th>\n",
       "      <th>s1__autocorrelation__lag_9</th>\n",
       "      <th>s1__autocorrelation__lag_7</th>\n",
       "      <th>s1__autocorrelation__lag_6</th>\n",
       "      <th>s1__autocorrelation__lag_5</th>\n",
       "      <th>s1__autocorrelation__lag_4</th>\n",
       "      <th>s1__longest_strike_above_mean</th>\n",
       "      <th>...</th>\n",
       "      <th>s1__agg_autocorrelation__f_agg_\"median\"__maxlag_40</th>\n",
       "      <th>s1__approximate_entropy__m_2__r_0.5</th>\n",
       "      <th>s1__agg_autocorrelation__f_agg_\"mean\"__maxlag_40</th>\n",
       "      <th>s1__ar_coefficient__coeff_3__k_10</th>\n",
       "      <th>s1__approximate_entropy__m_2__r_0.1</th>\n",
       "      <th>s1__lempel_ziv_complexity__bins_3</th>\n",
       "      <th>s1__partial_autocorrelation__lag_4</th>\n",
       "      <th>s1__fft_coefficient__attr_\"abs\"__coeff_7</th>\n",
       "      <th>s1__agg_autocorrelation__f_agg_\"var\"__maxlag_40</th>\n",
       "      <th>s1__spkt_welch_density__coeff_2</th>\n",
       "    </tr>\n",
       "  </thead>\n",
       "  <tbody>\n",
       "    <tr>\n",
       "      <th>0</th>\n",
       "      <td>0.359262</td>\n",
       "      <td>0.010140</td>\n",
       "      <td>0.004319</td>\n",
       "      <td>0.004934</td>\n",
       "      <td>0.060159</td>\n",
       "      <td>0.003921</td>\n",
       "      <td>0.152361</td>\n",
       "      <td>0.007946</td>\n",
       "      <td>0.003649</td>\n",
       "      <td>0.010099</td>\n",
       "      <td>...</td>\n",
       "      <td>0.005303</td>\n",
       "      <td>0.004545</td>\n",
       "      <td>0.003429</td>\n",
       "      <td>0.011731</td>\n",
       "      <td>0.004790</td>\n",
       "      <td>0.003057</td>\n",
       "      <td>0.005358</td>\n",
       "      <td>0.011777</td>\n",
       "      <td>0.004351</td>\n",
       "      <td>0.005949</td>\n",
       "    </tr>\n",
       "    <tr>\n",
       "      <th>1</th>\n",
       "      <td>0.291383</td>\n",
       "      <td>0.011848</td>\n",
       "      <td>0.004499</td>\n",
       "      <td>0.005411</td>\n",
       "      <td>0.054086</td>\n",
       "      <td>0.004057</td>\n",
       "      <td>0.185957</td>\n",
       "      <td>0.009612</td>\n",
       "      <td>0.003632</td>\n",
       "      <td>0.012534</td>\n",
       "      <td>...</td>\n",
       "      <td>0.005849</td>\n",
       "      <td>0.004725</td>\n",
       "      <td>0.003441</td>\n",
       "      <td>0.013245</td>\n",
       "      <td>0.005017</td>\n",
       "      <td>0.003152</td>\n",
       "      <td>0.005877</td>\n",
       "      <td>0.014435</td>\n",
       "      <td>0.004595</td>\n",
       "      <td>0.006355</td>\n",
       "    </tr>\n",
       "  </tbody>\n",
       "</table>\n",
       "<p>2 rows × 47 columns</p>\n",
       "</div>"
      ],
      "text/plain": [
       "         m1        m2        m3  s1__autocorrelation__lag_8  \\\n",
       "0  0.359262  0.010140  0.004319                    0.004934   \n",
       "1  0.291383  0.011848  0.004499                    0.005411   \n",
       "\n",
       "   s1__autocorrelation__lag_9  s1__autocorrelation__lag_7  \\\n",
       "0                    0.060159                    0.003921   \n",
       "1                    0.054086                    0.004057   \n",
       "\n",
       "   s1__autocorrelation__lag_6  s1__autocorrelation__lag_5  \\\n",
       "0                    0.152361                    0.007946   \n",
       "1                    0.185957                    0.009612   \n",
       "\n",
       "   s1__autocorrelation__lag_4  s1__longest_strike_above_mean  ...  \\\n",
       "0                    0.003649                       0.010099  ...   \n",
       "1                    0.003632                       0.012534  ...   \n",
       "\n",
       "   s1__agg_autocorrelation__f_agg_\"median\"__maxlag_40  \\\n",
       "0                                           0.005303    \n",
       "1                                           0.005849    \n",
       "\n",
       "   s1__approximate_entropy__m_2__r_0.5  \\\n",
       "0                             0.004545   \n",
       "1                             0.004725   \n",
       "\n",
       "   s1__agg_autocorrelation__f_agg_\"mean\"__maxlag_40  \\\n",
       "0                                          0.003429   \n",
       "1                                          0.003441   \n",
       "\n",
       "   s1__ar_coefficient__coeff_3__k_10  s1__approximate_entropy__m_2__r_0.1  \\\n",
       "0                           0.011731                             0.004790   \n",
       "1                           0.013245                             0.005017   \n",
       "\n",
       "   s1__lempel_ziv_complexity__bins_3  s1__partial_autocorrelation__lag_4  \\\n",
       "0                           0.003057                            0.005358   \n",
       "1                           0.003152                            0.005877   \n",
       "\n",
       "   s1__fft_coefficient__attr_\"abs\"__coeff_7  \\\n",
       "0                                  0.011777   \n",
       "1                                  0.014435   \n",
       "\n",
       "   s1__agg_autocorrelation__f_agg_\"var\"__maxlag_40  \\\n",
       "0                                         0.004351   \n",
       "1                                         0.004595   \n",
       "\n",
       "   s1__spkt_welch_density__coeff_2  \n",
       "0                         0.005949  \n",
       "1                         0.006355  \n",
       "\n",
       "[2 rows x 47 columns]"
      ]
     },
     "execution_count": 13,
     "metadata": {},
     "output_type": "execute_result"
    }
   ],
   "source": [
    "dfW = pd.DataFrame(data=weights, columns=X.columns)\n",
    "dfW"
   ]
  },
  {
   "cell_type": "code",
   "execution_count": 14,
   "id": "296b9d51",
   "metadata": {},
   "outputs": [
    {
     "data": {
      "text/plain": [
       "m1                                                    0.359262\n",
       "s1__autocorrelation__lag_6                            0.152361\n",
       "s1__autocorrelation__lag_2                            0.084904\n",
       "s1__partial_autocorrelation__lag_8                    0.066561\n",
       "s1__autocorrelation__lag_9                            0.060159\n",
       "s1__partial_autocorrelation__lag_7                    0.033818\n",
       "s1__number_cwt_peaks__n_5                             0.012751\n",
       "s1__fft_coefficient__attr_\"abs\"__coeff_7              0.011777\n",
       "s1__ar_coefficient__coeff_3__k_10                     0.011731\n",
       "s1__partial_autocorrelation__lag_6                    0.011544\n",
       "m2                                                    0.010140\n",
       "s1__longest_strike_above_mean                         0.010099\n",
       "s1__permutation_entropy__dimension_3__tau_1           0.008940\n",
       "s1__cid_ce__normalize_True                            0.008363\n",
       "s1__autocorrelation__lag_5                            0.007946\n",
       "s1__autocorrelation__lag_1                            0.007154\n",
       "s1__permutation_entropy__dimension_7__tau_1           0.006531\n",
       "s1__approximate_entropy__m_2__r_0.9                   0.005956\n",
       "s1__spkt_welch_density__coeff_2                       0.005949\n",
       "s1__number_peaks__n_5                                 0.005641\n",
       "s1__number_peaks__n_10                                0.005604\n",
       "s1__autocorrelation__lag_3                            0.005518\n",
       "s1__number_cwt_peaks__n_1                             0.005416\n",
       "s1__partial_autocorrelation__lag_4                    0.005358\n",
       "s1__agg_autocorrelation__f_agg_\"median\"__maxlag_40    0.005303\n",
       "s1__partial_autocorrelation__lag_1                    0.005222\n",
       "s1__autocorrelation__lag_8                            0.004934\n",
       "s1__permutation_entropy__dimension_5__tau_1           0.004798\n",
       "s1__approximate_entropy__m_2__r_0.1                   0.004790\n",
       "s1__partial_autocorrelation__lag_5                    0.004642\n",
       "s1__approximate_entropy__m_2__r_0.5                   0.004545\n",
       "s1__spkt_welch_density__coeff_5                       0.004531\n",
       "s1__agg_autocorrelation__f_agg_\"var\"__maxlag_40       0.004351\n",
       "m3                                                    0.004319\n",
       "s1__approximate_entropy__m_2__r_0.3                   0.004311\n",
       "s1__ar_coefficient__coeff_8__k_10                     0.004252\n",
       "s1__partial_autocorrelation__lag_9                    0.004208\n",
       "s1__approximate_entropy__m_2__r_0.7                   0.004198\n",
       "s1__number_peaks__n_3                                 0.003968\n",
       "s1__autocorrelation__lag_7                            0.003921\n",
       "s1__number_peaks__n_1                                 0.003799\n",
       "s1__autocorrelation__lag_4                            0.003649\n",
       "s1__permutation_entropy__dimension_6__tau_1           0.003604\n",
       "s1__permutation_entropy__dimension_4__tau_1           0.003580\n",
       "s1__agg_autocorrelation__f_agg_\"mean\"__maxlag_40      0.003429\n",
       "s1__longest_strike_below_mean                         0.003108\n",
       "s1__lempel_ziv_complexity__bins_3                     0.003057\n",
       "Name: 0, dtype: float32"
      ]
     },
     "execution_count": 14,
     "metadata": {},
     "output_type": "execute_result"
    }
   ],
   "source": [
    "dfW.loc[0, :].sort_values(ascending=False)"
   ]
  },
  {
   "cell_type": "code",
   "execution_count": 15,
   "id": "f45c5f77",
   "metadata": {},
   "outputs": [
    {
     "data": {
      "text/plain": [
       "m1                                                    0.291383\n",
       "s1__autocorrelation__lag_6                            0.185957\n",
       "s1__autocorrelation__lag_2                            0.104009\n",
       "s1__autocorrelation__lag_9                            0.054086\n",
       "s1__partial_autocorrelation__lag_8                    0.052534\n",
       "s1__partial_autocorrelation__lag_7                    0.040733\n",
       "s1__number_cwt_peaks__n_5                             0.015312\n",
       "s1__partial_autocorrelation__lag_6                    0.014921\n",
       "s1__fft_coefficient__attr_\"abs\"__coeff_7              0.014435\n",
       "s1__ar_coefficient__coeff_3__k_10                     0.013245\n",
       "s1__longest_strike_above_mean                         0.012534\n",
       "m2                                                    0.011848\n",
       "s1__permutation_entropy__dimension_3__tau_1           0.010437\n",
       "s1__cid_ce__normalize_True                            0.009653\n",
       "s1__autocorrelation__lag_5                            0.009612\n",
       "s1__autocorrelation__lag_1                            0.008114\n",
       "s1__permutation_entropy__dimension_7__tau_1           0.007228\n",
       "s1__approximate_entropy__m_2__r_0.9                   0.006875\n",
       "s1__autocorrelation__lag_3                            0.006439\n",
       "s1__spkt_welch_density__coeff_2                       0.006355\n",
       "s1__number_peaks__n_5                                 0.006326\n",
       "s1__number_peaks__n_10                                0.005962\n",
       "s1__partial_autocorrelation__lag_4                    0.005877\n",
       "s1__agg_autocorrelation__f_agg_\"median\"__maxlag_40    0.005849\n",
       "s1__number_cwt_peaks__n_1                             0.005736\n",
       "s1__partial_autocorrelation__lag_1                    0.005733\n",
       "s1__autocorrelation__lag_8                            0.005411\n",
       "s1__permutation_entropy__dimension_5__tau_1           0.005208\n",
       "s1__approximate_entropy__m_2__r_0.1                   0.005017\n",
       "s1__partial_autocorrelation__lag_5                    0.004879\n",
       "s1__approximate_entropy__m_2__r_0.5                   0.004725\n",
       "s1__agg_autocorrelation__f_agg_\"var\"__maxlag_40       0.004595\n",
       "s1__spkt_welch_density__coeff_5                       0.004573\n",
       "s1__partial_autocorrelation__lag_9                    0.004511\n",
       "m3                                                    0.004499\n",
       "s1__approximate_entropy__m_2__r_0.3                   0.004431\n",
       "s1__approximate_entropy__m_2__r_0.7                   0.004382\n",
       "s1__ar_coefficient__coeff_8__k_10                     0.004361\n",
       "s1__autocorrelation__lag_7                            0.004057\n",
       "s1__number_peaks__n_3                                 0.003992\n",
       "s1__number_peaks__n_1                                 0.003894\n",
       "s1__autocorrelation__lag_4                            0.003632\n",
       "s1__permutation_entropy__dimension_4__tau_1           0.003481\n",
       "s1__permutation_entropy__dimension_6__tau_1           0.003452\n",
       "s1__agg_autocorrelation__f_agg_\"mean\"__maxlag_40      0.003441\n",
       "s1__lempel_ziv_complexity__bins_3                     0.003152\n",
       "s1__longest_strike_below_mean                         0.003114\n",
       "Name: 1, dtype: float32"
      ]
     },
     "execution_count": 15,
     "metadata": {},
     "output_type": "execute_result"
    }
   ],
   "source": [
    "dfW.loc[1, :].sort_values(ascending=False)\n"
   ]
  },
  {
   "cell_type": "code",
   "execution_count": null,
   "id": "3f81c67d",
   "metadata": {},
   "outputs": [],
   "source": []
  }
 ],
 "metadata": {
  "kernelspec": {
   "display_name": ".venv",
   "language": "python",
   "name": "python3"
  },
  "language_info": {
   "codemirror_mode": {
    "name": "ipython",
    "version": 3
   },
   "file_extension": ".py",
   "mimetype": "text/x-python",
   "name": "python",
   "nbconvert_exporter": "python",
   "pygments_lexer": "ipython3",
   "version": "3.12.9"
  }
 },
 "nbformat": 4,
 "nbformat_minor": 5
}
