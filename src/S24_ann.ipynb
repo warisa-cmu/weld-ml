{
 "cells": [
  {
   "cell_type": "code",
   "execution_count": null,
   "id": "e8e63144",
   "metadata": {},
   "outputs": [],
   "source": [
    "import copy\n",
    "\n",
    "import matplotlib.pyplot as plt\n",
    "import numpy as np\n",
    "import pandas as pd\n",
    "import torch\n",
    "import torch.nn as nn\n",
    "import torch.optim as optim\n",
    "import tqdm\n",
    "from sklearn.model_selection import train_test_split\n",
    "from sklearn.preprocessing import StandardScaler, MinMaxScaler\n",
    "from sklearn.metrics import mean_squared_error, r2_score\n"
   ]
  },
  {
   "cell_type": "code",
   "execution_count": 4,
   "id": "4c024cfb",
   "metadata": {},
   "outputs": [
    {
     "data": {
      "application/vnd.microsoft.datawrangler.viewer.v0+json": {
       "columns": [
        {
         "name": "id",
         "rawType": "object",
         "type": "string"
        },
        {
         "name": "m1",
         "rawType": "float64",
         "type": "float"
        },
        {
         "name": "m2",
         "rawType": "float64",
         "type": "float"
        },
        {
         "name": "m3",
         "rawType": "float64",
         "type": "float"
        },
        {
         "name": "s1__longest_strike_below_mean",
         "rawType": "int64",
         "type": "integer"
        },
        {
         "name": "s1__autocorrelation__lag_8",
         "rawType": "float64",
         "type": "float"
        },
        {
         "name": "s1__autocorrelation__lag_3",
         "rawType": "float64",
         "type": "float"
        },
        {
         "name": "s1__autocorrelation__lag_9",
         "rawType": "float64",
         "type": "float"
        },
        {
         "name": "s1__autocorrelation__lag_4",
         "rawType": "float64",
         "type": "float"
        },
        {
         "name": "s1__autocorrelation__lag_7",
         "rawType": "float64",
         "type": "float"
        },
        {
         "name": "s1__longest_strike_above_mean",
         "rawType": "int64",
         "type": "integer"
        },
        {
         "name": "s1__autocorrelation__lag_6",
         "rawType": "float64",
         "type": "float"
        },
        {
         "name": "s1__approximate_entropy__m_2__r_0.7",
         "rawType": "float64",
         "type": "float"
        },
        {
         "name": "s1__autocorrelation__lag_5",
         "rawType": "float64",
         "type": "float"
        },
        {
         "name": "s1__autocorrelation__lag_2",
         "rawType": "float64",
         "type": "float"
        },
        {
         "name": "s1__permutation_entropy__dimension_4__tau_1",
         "rawType": "float64",
         "type": "float"
        },
        {
         "name": "s1__permutation_entropy__dimension_3__tau_1",
         "rawType": "float64",
         "type": "float"
        },
        {
         "name": "s1__permutation_entropy__dimension_5__tau_1",
         "rawType": "float64",
         "type": "float"
        },
        {
         "name": "s1__permutation_entropy__dimension_7__tau_1",
         "rawType": "float64",
         "type": "float"
        },
        {
         "name": "s1__permutation_entropy__dimension_6__tau_1",
         "rawType": "float64",
         "type": "float"
        },
        {
         "name": "s1__autocorrelation__lag_1",
         "rawType": "float64",
         "type": "float"
        },
        {
         "name": "s1__partial_autocorrelation__lag_1",
         "rawType": "float64",
         "type": "float"
        },
        {
         "name": "s1__approximate_entropy__m_2__r_0.9",
         "rawType": "float64",
         "type": "float"
        },
        {
         "name": "s1__cid_ce__normalize_True",
         "rawType": "float64",
         "type": "float"
        },
        {
         "name": "s1__number_cwt_peaks__n_1",
         "rawType": "int64",
         "type": "integer"
        },
        {
         "name": "s1__number_peaks__n_5",
         "rawType": "int64",
         "type": "integer"
        },
        {
         "name": "s1__number_peaks__n_10",
         "rawType": "int64",
         "type": "integer"
        },
        {
         "name": "s1__number_peaks__n_3",
         "rawType": "int64",
         "type": "integer"
        },
        {
         "name": "s1__partial_autocorrelation__lag_8",
         "rawType": "float64",
         "type": "float"
        },
        {
         "name": "s1__partial_autocorrelation__lag_6",
         "rawType": "float64",
         "type": "float"
        },
        {
         "name": "s1__number_peaks__n_1",
         "rawType": "int64",
         "type": "integer"
        },
        {
         "name": "s1__partial_autocorrelation__lag_7",
         "rawType": "float64",
         "type": "float"
        },
        {
         "name": "s1__approximate_entropy__m_2__r_0.3",
         "rawType": "float64",
         "type": "float"
        },
        {
         "name": "s1__partial_autocorrelation__lag_5",
         "rawType": "float64",
         "type": "float"
        },
        {
         "name": "s1__ar_coefficient__coeff_3__k_10",
         "rawType": "float64",
         "type": "float"
        },
        {
         "name": "s1__number_cwt_peaks__n_5",
         "rawType": "int64",
         "type": "integer"
        },
        {
         "name": "s1__ar_coefficient__coeff_9__k_10",
         "rawType": "float64",
         "type": "float"
        },
        {
         "name": "s1__partial_autocorrelation__lag_9",
         "rawType": "float64",
         "type": "float"
        },
        {
         "name": "s1__spkt_welch_density__coeff_5",
         "rawType": "float64",
         "type": "float"
        },
        {
         "name": "s1__lempel_ziv_complexity__bins_3",
         "rawType": "float64",
         "type": "float"
        },
        {
         "name": "s1__ar_coefficient__coeff_8__k_10",
         "rawType": "float64",
         "type": "float"
        },
        {
         "name": "s1__agg_autocorrelation__f_agg_\"median\"__maxlag_40",
         "rawType": "float64",
         "type": "float"
        },
        {
         "name": "s1__agg_autocorrelation__f_agg_\"mean\"__maxlag_40",
         "rawType": "float64",
         "type": "float"
        },
        {
         "name": "s1__ar_coefficient__coeff_10__k_10",
         "rawType": "float64",
         "type": "float"
        },
        {
         "name": "s1__partial_autocorrelation__lag_4",
         "rawType": "float64",
         "type": "float"
        },
        {
         "name": "s1__fft_coefficient__attr_\"abs\"__coeff_11",
         "rawType": "float64",
         "type": "float"
        },
        {
         "name": "s1__agg_autocorrelation__f_agg_\"var\"__maxlag_40",
         "rawType": "float64",
         "type": "float"
        },
        {
         "name": "s1__fft_coefficient__attr_\"abs\"__coeff_12",
         "rawType": "float64",
         "type": "float"
        },
        {
         "name": "s1__spkt_welch_density__coeff_2",
         "rawType": "float64",
         "type": "float"
        },
        {
         "name": "s1__approximate_entropy__m_2__r_0.1",
         "rawType": "float64",
         "type": "float"
        },
        {
         "name": "y1",
         "rawType": "float64",
         "type": "float"
        },
        {
         "name": "y2",
         "rawType": "float64",
         "type": "float"
        },
        {
         "name": "y3",
         "rawType": "float64",
         "type": "float"
        }
       ],
       "conversionMethod": "pd.DataFrame",
       "ref": "04951299-1b0d-4081-a8c2-4a320a3ad840",
       "rows": [
        [
         "E001",
         "181.8046962886438",
         "1094.717447132359",
         "1.779953828291403",
         "17",
         "0.08503707179398048",
         "0.8467095146054887",
         "-0.09962187237742111",
         "0.734440260678972",
         "0.2667948068228158",
         "17",
         "0.439454072566562",
         "0.1744195517510196",
         "0.5971278850682102",
         "0.9301078842700398",
         "1.138082853886674",
         "0.9165536168303483",
         "1.35668338465114",
         "1.766519825944301",
         "1.563204963135504",
         "0.9817920351956836",
         "0.9817920351956833",
         "0.1219357945580312",
         "3.137791748982203",
         "9",
         "8",
         "8",
         "9",
         "-0.1909375964662832",
         "-0.2284176580096123",
         "9",
         "-0.2044269170202843",
         "0.1936872992457468",
         "-0.2692755510572158",
         "0.1891421620104826",
         "9",
         "0.02198619594888238",
         "-0.1850893324686686",
         "0.2559082108668851",
         "0.1931034482758621",
         "-0.1289347087940838",
         "0.2747585690319746",
         "0.1133711907056528",
         "0.2381010994131085",
         "-0.3422610996169876",
         "46.55304798707987",
         "0.502834467578771",
         "33.74955072552608",
         "0.00152590355094141",
         "0.1017769549519092",
         "70.6492870053119",
         "0.7601438329675567",
         "137.9040983074663"
        ],
        [
         "E002",
         "108.6544615489958",
         "1272.111236576603",
         "1.24693299150153",
         "12",
         "-0.5883004931284503",
         "0.6750836055455827",
         "-0.7852406766658377",
         "0.4502972064536775",
         "-0.3474991395840454",
         "12",
         "-0.08079722849899254",
         "0.281340906788627",
         "0.1919142072025614",
         "0.8495118868860065",
         "1.395631785779098",
         "1.047617900665903",
         "1.72479432572341",
         "2.357634110747615",
         "2.045961482451644",
         "0.960577005289746",
         "0.9605770052897459",
         "0.1994718593011939",
         "4.515026621010258",
         "13",
         "12",
         "12",
         "12",
         "-0.2963024446613453",
         "-0.2779949830967738",
         "12",
         "-0.2758707330288451",
         "0.1954271398413345",
         "-0.303590701124056",
         "0.1825011921494256",
         "14",
         "0.06910716659575519",
         "-0.3488618765699629",
         "0.0001691548260392083",
         "0.2014388489208633",
         "-0.1127259945318194",
         "-0.1988915478833571",
         "-0.1043831416008867",
         "0.3134344289850765",
         "-0.3652000540611933",
         "30.64415848161551",
         "0.4782286490022601",
         "276.4836951781307",
         "2.085124259864437e-05",
         "0.1453550021436785",
         "45.7560977155017",
         "1.30862010693727",
         "90.7755441204855"
        ],
        [
         "E003",
         "198.4124187147819",
         "1042.479528889282",
         "2.860727399319229",
         "11",
         "-0.6712869894888026",
         "0.6541122540783983",
         "-0.8550683049622134",
         "0.4106770669538229",
         "-0.4315190416606212",
         "11",
         "-0.1557576812071663",
         "0.2848748267535282",
         "0.1330012724557812",
         "0.8430040170624711",
         "1.42931830774768",
         "1.064978508507346",
         "1.784845724209811",
         "2.462265554890892",
         "2.129891596950029",
         "0.9615975136034343",
         "0.9615975136034339",
         "0.2219721106418477",
         "4.766390960417743",
         "13",
         "12",
         "12",
         "12",
         "-0.3175814760840103",
         "-0.2897811163155078",
         "12",
         "-0.2903209798165958",
         "0.1811210322953665",
         "-0.315712972276307",
         "0.1708783223509686",
         "16",
         "0.003885489269834087",
         "-0.3863045492944671",
         "4.740822089994964e-06",
         "0.2095588235294118",
         "-0.118571972902944",
         "-0.1214971840069133",
         "-0.07611547020529667",
         "0.1743804325366428",
         "-0.3820065949642644",
         "11.95196067080063",
         "0.4664441836191382",
         "32.45573485238143",
         "5.641745201743406e-07",
         "0.1766788816992046",
         "56.39478319924899",
         "1.134736418822476",
         "0.303491321228111"
        ],
        [
         "E004",
         "132.1238151932935",
         "1250.168114211333",
         "1.338400714265123",
         "20",
         "0.2497213391135592",
         "0.8770512004654416",
         "0.08885535929566395",
         "0.7871658682455086",
         "0.403945585454935",
         "19",
         "0.547414480348065",
         "0.1476338027152948",
         "0.6763008104979636",
         "0.9435575574357199",
         "1.155880605911563",
         "0.9250768219746623",
         "1.385244624471955",
         "1.838726035651799",
         "1.61294500686938",
         "0.9849089349053234",
         "0.9849089349053238",
         "0.1087428526307913",
         "2.681529067507741",
         "8",
         "7",
         "7",
         "7",
         "-0.1743915172695868",
         "-0.2171837114623223",
         "7",
         "-0.1910366617972109",
         "0.2826308959767458",
         "-0.2591170975171596",
         "0.188819751113349",
         "8",
         "0.02680867470869095",
         "-0.1641803755646721",
         "3.718369086214344",
         "0.1939163498098859",
         "-0.132873774768872",
         "0.06385174785678054",
         "0.03793821891626525",
         "0.2558743499117954",
         "-0.331380260335095",
         "8.950124879379695",
         "0.5148069850724448",
         "7.036999250570316",
         "0.003237021566214666",
         "0.1391214453147187",
         "69.81963137898623",
         "0.7673382607869518",
         "190.3225293501077"
        ],
        [
         "E005",
         "116.8035697595292",
         "1184.972284604319",
         "1.418379315864613",
         "16",
         "0.009386348082297899",
         "0.8363665992505794",
         "-0.1858192242463248",
         "0.7134356113390737",
         "0.2042100217946684",
         "16",
         "0.3911778091857483",
         "0.1776604524107015",
         "0.5631178712116948",
         "0.9271976241505756",
         "1.166530937981482",
         "0.9312484895762844",
         "1.398262214306575",
         "1.829752003306928",
         "1.615975722593668",
         "0.9824474008151317",
         "0.9824474008151316",
         "0.1281668773068153",
         "3.05413730298309",
         "9",
         "8",
         "7",
         "8",
         "-0.1949044727416961",
         "-0.2347808725619827",
         "8",
         "-0.2091932998045292",
         "0.1791364322938833",
         "-0.2788423297511404",
         "0.1903777459615601",
         "10",
         "0.008425962765903136",
         "-0.1887438111362659",
         "0.02228213967631426",
         "0.199203187250996",
         "-0.1255346008693927",
         "0.2070212170376245",
         "0.1160048680021384",
         "0.2019996565715274",
         "-0.359062264183477",
         "14.84133257926324",
         "0.4766766446366731",
         "11.62982838520756",
         "0.0001894488107848943",
         "0.1148175289000939",
         "59.08204758208862",
         "0.8732237723304552",
         "143.0951122530199"
        ]
       ],
       "shape": {
        "columns": 52,
        "rows": 5
       }
      },
      "text/html": [
       "<div>\n",
       "<style scoped>\n",
       "    .dataframe tbody tr th:only-of-type {\n",
       "        vertical-align: middle;\n",
       "    }\n",
       "\n",
       "    .dataframe tbody tr th {\n",
       "        vertical-align: top;\n",
       "    }\n",
       "\n",
       "    .dataframe thead th {\n",
       "        text-align: right;\n",
       "    }\n",
       "</style>\n",
       "<table border=\"1\" class=\"dataframe\">\n",
       "  <thead>\n",
       "    <tr style=\"text-align: right;\">\n",
       "      <th></th>\n",
       "      <th>m1</th>\n",
       "      <th>m2</th>\n",
       "      <th>m3</th>\n",
       "      <th>s1__longest_strike_below_mean</th>\n",
       "      <th>s1__autocorrelation__lag_8</th>\n",
       "      <th>s1__autocorrelation__lag_3</th>\n",
       "      <th>s1__autocorrelation__lag_9</th>\n",
       "      <th>s1__autocorrelation__lag_4</th>\n",
       "      <th>s1__autocorrelation__lag_7</th>\n",
       "      <th>s1__longest_strike_above_mean</th>\n",
       "      <th>...</th>\n",
       "      <th>s1__ar_coefficient__coeff_10__k_10</th>\n",
       "      <th>s1__partial_autocorrelation__lag_4</th>\n",
       "      <th>s1__fft_coefficient__attr_\"abs\"__coeff_11</th>\n",
       "      <th>s1__agg_autocorrelation__f_agg_\"var\"__maxlag_40</th>\n",
       "      <th>s1__fft_coefficient__attr_\"abs\"__coeff_12</th>\n",
       "      <th>s1__spkt_welch_density__coeff_2</th>\n",
       "      <th>s1__approximate_entropy__m_2__r_0.1</th>\n",
       "      <th>y1</th>\n",
       "      <th>y2</th>\n",
       "      <th>y3</th>\n",
       "    </tr>\n",
       "    <tr>\n",
       "      <th>id</th>\n",
       "      <th></th>\n",
       "      <th></th>\n",
       "      <th></th>\n",
       "      <th></th>\n",
       "      <th></th>\n",
       "      <th></th>\n",
       "      <th></th>\n",
       "      <th></th>\n",
       "      <th></th>\n",
       "      <th></th>\n",
       "      <th></th>\n",
       "      <th></th>\n",
       "      <th></th>\n",
       "      <th></th>\n",
       "      <th></th>\n",
       "      <th></th>\n",
       "      <th></th>\n",
       "      <th></th>\n",
       "      <th></th>\n",
       "      <th></th>\n",
       "      <th></th>\n",
       "    </tr>\n",
       "  </thead>\n",
       "  <tbody>\n",
       "    <tr>\n",
       "      <th>E001</th>\n",
       "      <td>181.804696</td>\n",
       "      <td>1094.717447</td>\n",
       "      <td>1.779954</td>\n",
       "      <td>17</td>\n",
       "      <td>0.085037</td>\n",
       "      <td>0.846710</td>\n",
       "      <td>-0.099622</td>\n",
       "      <td>0.734440</td>\n",
       "      <td>0.266795</td>\n",
       "      <td>17</td>\n",
       "      <td>...</td>\n",
       "      <td>0.238101</td>\n",
       "      <td>-0.342261</td>\n",
       "      <td>46.553048</td>\n",
       "      <td>0.502834</td>\n",
       "      <td>33.749551</td>\n",
       "      <td>1.525904e-03</td>\n",
       "      <td>0.101777</td>\n",
       "      <td>70.649287</td>\n",
       "      <td>0.760144</td>\n",
       "      <td>137.904098</td>\n",
       "    </tr>\n",
       "    <tr>\n",
       "      <th>E002</th>\n",
       "      <td>108.654462</td>\n",
       "      <td>1272.111237</td>\n",
       "      <td>1.246933</td>\n",
       "      <td>12</td>\n",
       "      <td>-0.588300</td>\n",
       "      <td>0.675084</td>\n",
       "      <td>-0.785241</td>\n",
       "      <td>0.450297</td>\n",
       "      <td>-0.347499</td>\n",
       "      <td>12</td>\n",
       "      <td>...</td>\n",
       "      <td>0.313434</td>\n",
       "      <td>-0.365200</td>\n",
       "      <td>30.644158</td>\n",
       "      <td>0.478229</td>\n",
       "      <td>276.483695</td>\n",
       "      <td>2.085124e-05</td>\n",
       "      <td>0.145355</td>\n",
       "      <td>45.756098</td>\n",
       "      <td>1.308620</td>\n",
       "      <td>90.775544</td>\n",
       "    </tr>\n",
       "    <tr>\n",
       "      <th>E003</th>\n",
       "      <td>198.412419</td>\n",
       "      <td>1042.479529</td>\n",
       "      <td>2.860727</td>\n",
       "      <td>11</td>\n",
       "      <td>-0.671287</td>\n",
       "      <td>0.654112</td>\n",
       "      <td>-0.855068</td>\n",
       "      <td>0.410677</td>\n",
       "      <td>-0.431519</td>\n",
       "      <td>11</td>\n",
       "      <td>...</td>\n",
       "      <td>0.174380</td>\n",
       "      <td>-0.382007</td>\n",
       "      <td>11.951961</td>\n",
       "      <td>0.466444</td>\n",
       "      <td>32.455735</td>\n",
       "      <td>5.641745e-07</td>\n",
       "      <td>0.176679</td>\n",
       "      <td>56.394783</td>\n",
       "      <td>1.134736</td>\n",
       "      <td>0.303491</td>\n",
       "    </tr>\n",
       "    <tr>\n",
       "      <th>E004</th>\n",
       "      <td>132.123815</td>\n",
       "      <td>1250.168114</td>\n",
       "      <td>1.338401</td>\n",
       "      <td>20</td>\n",
       "      <td>0.249721</td>\n",
       "      <td>0.877051</td>\n",
       "      <td>0.088855</td>\n",
       "      <td>0.787166</td>\n",
       "      <td>0.403946</td>\n",
       "      <td>19</td>\n",
       "      <td>...</td>\n",
       "      <td>0.255874</td>\n",
       "      <td>-0.331380</td>\n",
       "      <td>8.950125</td>\n",
       "      <td>0.514807</td>\n",
       "      <td>7.036999</td>\n",
       "      <td>3.237022e-03</td>\n",
       "      <td>0.139121</td>\n",
       "      <td>69.819631</td>\n",
       "      <td>0.767338</td>\n",
       "      <td>190.322529</td>\n",
       "    </tr>\n",
       "    <tr>\n",
       "      <th>E005</th>\n",
       "      <td>116.803570</td>\n",
       "      <td>1184.972285</td>\n",
       "      <td>1.418379</td>\n",
       "      <td>16</td>\n",
       "      <td>0.009386</td>\n",
       "      <td>0.836367</td>\n",
       "      <td>-0.185819</td>\n",
       "      <td>0.713436</td>\n",
       "      <td>0.204210</td>\n",
       "      <td>16</td>\n",
       "      <td>...</td>\n",
       "      <td>0.202000</td>\n",
       "      <td>-0.359062</td>\n",
       "      <td>14.841333</td>\n",
       "      <td>0.476677</td>\n",
       "      <td>11.629828</td>\n",
       "      <td>1.894488e-04</td>\n",
       "      <td>0.114818</td>\n",
       "      <td>59.082048</td>\n",
       "      <td>0.873224</td>\n",
       "      <td>143.095112</td>\n",
       "    </tr>\n",
       "  </tbody>\n",
       "</table>\n",
       "<p>5 rows × 52 columns</p>\n",
       "</div>"
      ],
      "text/plain": [
       "              m1           m2        m3  s1__longest_strike_below_mean  \\\n",
       "id                                                                       \n",
       "E001  181.804696  1094.717447  1.779954                             17   \n",
       "E002  108.654462  1272.111237  1.246933                             12   \n",
       "E003  198.412419  1042.479529  2.860727                             11   \n",
       "E004  132.123815  1250.168114  1.338401                             20   \n",
       "E005  116.803570  1184.972285  1.418379                             16   \n",
       "\n",
       "      s1__autocorrelation__lag_8  s1__autocorrelation__lag_3  \\\n",
       "id                                                             \n",
       "E001                    0.085037                    0.846710   \n",
       "E002                   -0.588300                    0.675084   \n",
       "E003                   -0.671287                    0.654112   \n",
       "E004                    0.249721                    0.877051   \n",
       "E005                    0.009386                    0.836367   \n",
       "\n",
       "      s1__autocorrelation__lag_9  s1__autocorrelation__lag_4  \\\n",
       "id                                                             \n",
       "E001                   -0.099622                    0.734440   \n",
       "E002                   -0.785241                    0.450297   \n",
       "E003                   -0.855068                    0.410677   \n",
       "E004                    0.088855                    0.787166   \n",
       "E005                   -0.185819                    0.713436   \n",
       "\n",
       "      s1__autocorrelation__lag_7  s1__longest_strike_above_mean  ...  \\\n",
       "id                                                               ...   \n",
       "E001                    0.266795                             17  ...   \n",
       "E002                   -0.347499                             12  ...   \n",
       "E003                   -0.431519                             11  ...   \n",
       "E004                    0.403946                             19  ...   \n",
       "E005                    0.204210                             16  ...   \n",
       "\n",
       "      s1__ar_coefficient__coeff_10__k_10  s1__partial_autocorrelation__lag_4  \\\n",
       "id                                                                             \n",
       "E001                            0.238101                           -0.342261   \n",
       "E002                            0.313434                           -0.365200   \n",
       "E003                            0.174380                           -0.382007   \n",
       "E004                            0.255874                           -0.331380   \n",
       "E005                            0.202000                           -0.359062   \n",
       "\n",
       "      s1__fft_coefficient__attr_\"abs\"__coeff_11  \\\n",
       "id                                                \n",
       "E001                                  46.553048   \n",
       "E002                                  30.644158   \n",
       "E003                                  11.951961   \n",
       "E004                                   8.950125   \n",
       "E005                                  14.841333   \n",
       "\n",
       "      s1__agg_autocorrelation__f_agg_\"var\"__maxlag_40  \\\n",
       "id                                                      \n",
       "E001                                         0.502834   \n",
       "E002                                         0.478229   \n",
       "E003                                         0.466444   \n",
       "E004                                         0.514807   \n",
       "E005                                         0.476677   \n",
       "\n",
       "      s1__fft_coefficient__attr_\"abs\"__coeff_12  \\\n",
       "id                                                \n",
       "E001                                  33.749551   \n",
       "E002                                 276.483695   \n",
       "E003                                  32.455735   \n",
       "E004                                   7.036999   \n",
       "E005                                  11.629828   \n",
       "\n",
       "      s1__spkt_welch_density__coeff_2  s1__approximate_entropy__m_2__r_0.1  \\\n",
       "id                                                                           \n",
       "E001                     1.525904e-03                             0.101777   \n",
       "E002                     2.085124e-05                             0.145355   \n",
       "E003                     5.641745e-07                             0.176679   \n",
       "E004                     3.237022e-03                             0.139121   \n",
       "E005                     1.894488e-04                             0.114818   \n",
       "\n",
       "             y1        y2          y3  \n",
       "id                                     \n",
       "E001  70.649287  0.760144  137.904098  \n",
       "E002  45.756098  1.308620   90.775544  \n",
       "E003  56.394783  1.134736    0.303491  \n",
       "E004  69.819631  0.767338  190.322529  \n",
       "E005  59.082048  0.873224  143.095112  \n",
       "\n",
       "[5 rows x 52 columns]"
      ]
     },
     "execution_count": 4,
     "metadata": {},
     "output_type": "execute_result"
    }
   ],
   "source": [
    "df = pd.read_excel(\"output/data_train.xlsx\")\n",
    "df = df.set_index(\"Unnamed: 0\")\n",
    "df.index.names = [\"id\"]\n",
    "df.head()"
   ]
  },
  {
   "cell_type": "code",
   "execution_count": 5,
   "id": "ca89c1ee",
   "metadata": {},
   "outputs": [
    {
     "name": "stdout",
     "output_type": "stream",
     "text": [
      "(35, 49)\n",
      "(35, 3)\n"
     ]
    }
   ],
   "source": [
    "colsY = [\"y1\", \"y2\", \"y3\"]\n",
    "colsX = [c for c in df.columns if c not in colsY]\n",
    "\n",
    "X = df[colsX]\n",
    "Y = df[colsY]\n",
    "\n",
    "X_train, X_test, Y_train, Y_test = train_test_split(X, Y, test_size=0.3, random_state=0)\n",
    "print(X_train.shape)\n",
    "print(Y_train.shape)\n"
   ]
  },
  {
   "cell_type": "code",
   "execution_count": 6,
   "id": "1a59f9d9",
   "metadata": {},
   "outputs": [],
   "source": [
    "scX = MinMaxScaler()\n",
    "X_train_std = scX.fit_transform(X_train)\n",
    "X_test_std = scX.transform(X_test)\n",
    "\n",
    "scY = MinMaxScaler()\n",
    "Y_train_std = scY.fit_transform(Y_train)\n",
    "Y_test_std = scY.transform(Y_test)"
   ]
  },
  {
   "cell_type": "code",
   "execution_count": 7,
   "id": "9134a4d9",
   "metadata": {},
   "outputs": [],
   "source": [
    "# Convert to 2D PyTorch tensors\n",
    "X_train_std = torch.tensor(X_train_std, dtype=torch.float32)\n",
    "Y_train_std = torch.tensor(Y_train_std, dtype=torch.float32)\n",
    "X_test_std = torch.tensor(X_test_std, dtype=torch.float32)\n",
    "Y_test_std = torch.tensor(Y_test_std, dtype=torch.float32)"
   ]
  },
  {
   "cell_type": "code",
   "execution_count": null,
   "id": "e2b15ad3",
   "metadata": {},
   "outputs": [],
   "source": [
    "# Define the model\n",
    "model = nn.Sequential(\n",
    "    nn.Linear(X.shape[1], 24),\n",
    "    nn.ReLU(),\n",
    "    nn.Linear(24, 12),\n",
    "    nn.ReLU(),\n",
    "    nn.Linear(12, 6),\n",
    "    nn.ReLU(),\n",
    "    nn.Linear(6, Y.shape[1]),\n",
    ")\n",
    "\n",
    "# loss function and optimizer\n",
    "loss_fn = nn.MSELoss()  # mean square error\n",
    "optimizer = optim.Adam(model.parameters(), lr=0.0001)"
   ]
  },
  {
   "cell_type": "code",
   "execution_count": null,
   "id": "361fa7b8",
   "metadata": {},
   "outputs": [
    {
     "name": "stdout",
     "output_type": "stream",
     "text": [
      "MSE: 0.01\n",
      "RMSE: 0.07\n"
     ]
    },
    {
     "data": {
      "image/png": "[encoded data removed]",
      "text/plain": [
       "<Figure size 640x480 with 1 Axes>"
      ]
     },
     "metadata": {},
     "output_type": "display_data"
    }
   ],
   "source": [
    "n_epochs = 5000  # number of epochs to run\n",
    "batch_size = 10  # size of each batch\n",
    "batch_start = torch.arange(0, len(X_train), batch_size)\n",
    "\n",
    "# Hold the best model\n",
    "best_mse = np.inf  # init to infinity\n",
    "best_weights = None\n",
    "history = []\n",
    "\n",
    "for epoch in range(n_epochs):\n",
    "    model.train()\n",
    "    with tqdm.tqdm(batch_start, unit=\"batch\", mininterval=0, disable=True) as bar:\n",
    "        bar.set_description(f\"Epoch {epoch}\")\n",
    "        for start in bar:\n",
    "            # take a batch\n",
    "            X_batch = X_train_std[start : start + batch_size]\n",
    "            y_batch = Y_train_std[start : start + batch_size]\n",
    "            # forward pass\n",
    "            y_pred = model(X_batch)\n",
    "            loss = loss_fn(y_pred, y_batch)\n",
    "            # backward pass\n",
    "            optimizer.zero_grad()\n",
    "            loss.backward()\n",
    "            # update weights\n",
    "            optimizer.step()\n",
    "            # print progress\n",
    "            bar.set_postfix(mse=float(loss))\n",
    "    # evaluate accuracy at end of each epoch\n",
    "    model.eval()\n",
    "    y_pred = model(X_test_std)\n",
    "    mse = loss_fn(y_pred, Y_test_std)\n",
    "    mse = float(mse)\n",
    "    history.append(mse)\n",
    "    if mse < best_mse:\n",
    "        best_mse = mse\n",
    "        best_weights = copy.deepcopy(model.state_dict())\n",
    "\n",
    "# restore model and return best accuracy\n",
    "model.load_state_dict(best_weights)\n",
    "print(\"MSE: %.2f\" % best_mse)\n",
    "print(\"RMSE: %.2f\" % np.sqrt(best_mse))\n",
    "plt.plot(history)\n",
    "plt.show()"
   ]
  },
  {
   "cell_type": "code",
   "execution_count": 10,
   "id": "53941762",
   "metadata": {},
   "outputs": [],
   "source": [
    "def _residual(ax, y_pred, y, title, color=\"steelblue\"):\n",
    "    ax.scatter(y_pred, y_pred - y, c=color, marker=\"o\", edgecolor=\"white\", s=70)\n",
    "    ax.hlines(y=0, xmin=-10, xmax=50, color=\"black\", lw=2)\n",
    "    ax.axes.set_aspect(\"equal\")\n",
    "    ax.set_title(title)\n",
    "\n",
    "\n",
    "def plot_res(y_train, y_test, y_train_pred, y_test_pred):\n",
    "    fig, ax = plt.subplots(\n",
    "        1, 2, figsize=(9, 3), constrained_layout=True, sharex=True, sharey=True\n",
    "    )\n",
    "    _residual(ax=ax[0], y_pred=y_train_pred, y=y_train, title=\"Train\")\n",
    "    _residual(ax=ax[1], y_pred=y_test_pred, y=y_test, title=\"Test\", color=\"limegreen\")\n",
    "    ax[0].set_xlim([-2, 2])\n",
    "    fig.supxlabel(\"Predicted values\")\n",
    "    fig.supylabel(\"Residual\")\n",
    "\n",
    "\n",
    "def store_results(y_train, y_test, y_train_pred, y_test_pred):\n",
    "    MSE_train = mean_squared_error(y_train, y_train_pred)\n",
    "    MSE_test = mean_squared_error(y_test, y_test_pred)\n",
    "\n",
    "    R2_train = r2_score(y_train, y_train_pred)\n",
    "    R2_test = r2_score(y_test, y_test_pred)\n",
    "\n",
    "    data = {\n",
    "        \"MSE Train\": MSE_train,\n",
    "        \"MSE Test\": MSE_test,\n",
    "        \"R2 Train\": R2_train,\n",
    "        \"R2 Test\": R2_test,\n",
    "    }\n",
    "    return data"
   ]
  },
  {
   "cell_type": "code",
   "execution_count": 11,
   "id": "d7965fa0",
   "metadata": {},
   "outputs": [],
   "source": [
    "Y_train_pred = model(X_train_std)\n",
    "Y_test_pred = model(X_test_std)"
   ]
  },
  {
   "cell_type": "code",
   "execution_count": 12,
   "id": "74a59429",
   "metadata": {},
   "outputs": [
    {
     "data": {
      "application/vnd.microsoft.datawrangler.viewer.v0+json": {
       "columns": [
        {
         "name": "index",
         "rawType": "int64",
         "type": "integer"
        },
        {
         "name": "MSE Train",
         "rawType": "float64",
         "type": "float"
        },
        {
         "name": "MSE Test",
         "rawType": "float64",
         "type": "float"
        },
        {
         "name": "R2 Train",
         "rawType": "float64",
         "type": "float"
        },
        {
         "name": "R2 Test",
         "rawType": "float64",
         "type": "float"
        }
       ],
       "conversionMethod": "pd.DataFrame",
       "ref": "9c5c92f1-eaf1-48d0-b649-8c121cf347cf",
       "rows": [
        [
         "0",
         "0.0012197353644296527",
         "0.004702022299170494",
         "0.9851701259613037",
         "0.9158027172088623"
        ],
        [
         "1",
         "0.0006096538854762912",
         "0.0064439596608281136",
         "0.9935347437858582",
         "0.9019417762756348"
        ],
        [
         "2",
         "0.0002824363182298839",
         "0.005180766340345144",
         "0.9964936375617981",
         "0.9283542037010193"
        ]
       ],
       "shape": {
        "columns": 4,
        "rows": 3
       }
      },
      "text/html": [
       "<div>\n",
       "<style scoped>\n",
       "    .dataframe tbody tr th:only-of-type {\n",
       "        vertical-align: middle;\n",
       "    }\n",
       "\n",
       "    .dataframe tbody tr th {\n",
       "        vertical-align: top;\n",
       "    }\n",
       "\n",
       "    .dataframe thead th {\n",
       "        text-align: right;\n",
       "    }\n",
       "</style>\n",
       "<table border=\"1\" class=\"dataframe\">\n",
       "  <thead>\n",
       "    <tr style=\"text-align: right;\">\n",
       "      <th></th>\n",
       "      <th>MSE Train</th>\n",
       "      <th>MSE Test</th>\n",
       "      <th>R2 Train</th>\n",
       "      <th>R2 Test</th>\n",
       "    </tr>\n",
       "  </thead>\n",
       "  <tbody>\n",
       "    <tr>\n",
       "      <th>0</th>\n",
       "      <td>0.001220</td>\n",
       "      <td>0.004702</td>\n",
       "      <td>0.985170</td>\n",
       "      <td>0.915803</td>\n",
       "    </tr>\n",
       "    <tr>\n",
       "      <th>1</th>\n",
       "      <td>0.000610</td>\n",
       "      <td>0.006444</td>\n",
       "      <td>0.993535</td>\n",
       "      <td>0.901942</td>\n",
       "    </tr>\n",
       "    <tr>\n",
       "      <th>2</th>\n",
       "      <td>0.000282</td>\n",
       "      <td>0.005181</td>\n",
       "      <td>0.996494</td>\n",
       "      <td>0.928354</td>\n",
       "    </tr>\n",
       "  </tbody>\n",
       "</table>\n",
       "</div>"
      ],
      "text/plain": [
       "   MSE Train  MSE Test  R2 Train   R2 Test\n",
       "0   0.001220  0.004702  0.985170  0.915803\n",
       "1   0.000610  0.006444  0.993535  0.901942\n",
       "2   0.000282  0.005181  0.996494  0.928354"
      ]
     },
     "execution_count": 12,
     "metadata": {},
     "output_type": "execute_result"
    },
    {
     "data": {
      "image/png": "[encoded data removed]",
      "text/plain": [
       "<Figure size 900x300 with 2 Axes>"
      ]
     },
     "metadata": {},
     "output_type": "display_data"
    },
    {
     "data": {
      "image/png": "[encoded data removed]",
      "text/plain": [
       "<Figure size 900x300 with 2 Axes>"
      ]
     },
     "metadata": {},
     "output_type": "display_data"
    },
    {
     "data": {
      "image/png": "[encoded data removed]",
      "text/plain": [
       "<Figure size 900x300 with 2 Axes>"
      ]
     },
     "metadata": {},
     "output_type": "display_data"
    }
   ],
   "source": [
    "Y_train_std = Y_train_std.detach().numpy()\n",
    "Y_test_std = Y_test_std.detach().numpy()\n",
    "Y_train_pred = Y_train_pred.detach().numpy()\n",
    "Y_test_pred = Y_test_pred.detach().numpy()\n",
    "\n",
    "resArr = []\n",
    "for i in range(Y.shape[1]):\n",
    "    y_train = Y_train_std[:, i]\n",
    "    y_test = Y_test_std[:, i]\n",
    "    y_train_pred = Y_train_pred[:, i]\n",
    "    y_test_pred = Y_test_pred[:, i]\n",
    "    plot_res(y_train, y_test, y_train_pred, y_test_pred)\n",
    "    res = store_results(y_train, y_test, y_train_pred, y_test_pred)\n",
    "    resArr.append(res)\n",
    "\n",
    "dfRes = pd.DataFrame.from_dict(resArr)\n",
    "dfRes"
   ]
  }
 ],
 "metadata": {
  "kernelspec": {
   "display_name": ".venv",
   "language": "python",
   "name": "python3"
  },
  "language_info": {
   "codemirror_mode": {
    "name": "ipython",
    "version": 3
   },
   "file_extension": ".py",
   "mimetype": "text/x-python",
   "name": "python",
   "nbconvert_exporter": "python",
   "pygments_lexer": "ipython3",
   "version": "3.12.10"
  }
 },
 "nbformat": 4,
 "nbformat_minor": 5
}
