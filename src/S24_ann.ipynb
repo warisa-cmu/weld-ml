{
 "cells": [
  {
   "cell_type": "code",
   "execution_count": 11,
   "id": "e8e63144",
   "metadata": {},
   "outputs": [],
   "source": [
    "import copy\n",
    "\n",
    "import matplotlib.pyplot as plt\n",
    "import numpy as np\n",
    "import pandas as pd\n",
    "import torch\n",
    "import torch.nn as nn\n",
    "import torch.optim as optim\n",
    "import tqdm\n",
    "from sklearn.model_selection import train_test_split\n",
    "from sklearn.preprocessing import StandardScaler, MinMaxScaler\n",
    "from sklearn.metrics import mean_squared_error, r2_score\n",
    "from S00_utils import plot_res, store_results\n",
    "\n"
   ]
  },
  {
   "cell_type": "code",
   "execution_count": 2,
   "id": "4c024cfb",
   "metadata": {},
   "outputs": [
    {
     "data": {
      "application/vnd.microsoft.datawrangler.viewer.v0+json": {
       "columns": [
        {
         "name": "id",
         "rawType": "object",
         "type": "string"
        },
        {
         "name": "m1",
         "rawType": "float64",
         "type": "float"
        },
        {
         "name": "m2",
         "rawType": "float64",
         "type": "float"
        },
        {
         "name": "m3",
         "rawType": "float64",
         "type": "float"
        },
        {
         "name": "s1__approximate_entropy__m_2__r_0.7",
         "rawType": "float64",
         "type": "float"
        },
        {
         "name": "s1__autocorrelation__lag_9",
         "rawType": "float64",
         "type": "float"
        },
        {
         "name": "s1__autocorrelation__lag_8",
         "rawType": "float64",
         "type": "float"
        },
        {
         "name": "s1__autocorrelation__lag_7",
         "rawType": "float64",
         "type": "float"
        },
        {
         "name": "s1__longest_strike_above_mean",
         "rawType": "int64",
         "type": "integer"
        },
        {
         "name": "s1__autocorrelation__lag_6",
         "rawType": "float64",
         "type": "float"
        },
        {
         "name": "s1__autocorrelation__lag_5",
         "rawType": "float64",
         "type": "float"
        },
        {
         "name": "s1__approximate_entropy__m_2__r_0.9",
         "rawType": "float64",
         "type": "float"
        },
        {
         "name": "s1__autocorrelation__lag_4",
         "rawType": "float64",
         "type": "float"
        },
        {
         "name": "s1__autocorrelation__lag_3",
         "rawType": "float64",
         "type": "float"
        },
        {
         "name": "s1__longest_strike_below_mean",
         "rawType": "int64",
         "type": "integer"
        },
        {
         "name": "s1__autocorrelation__lag_2",
         "rawType": "float64",
         "type": "float"
        },
        {
         "name": "s1__autocorrelation__lag_1",
         "rawType": "float64",
         "type": "float"
        },
        {
         "name": "s1__partial_autocorrelation__lag_1",
         "rawType": "float64",
         "type": "float"
        },
        {
         "name": "s1__cid_ce__normalize_True",
         "rawType": "float64",
         "type": "float"
        },
        {
         "name": "s1__permutation_entropy__dimension_3__tau_1",
         "rawType": "float64",
         "type": "float"
        },
        {
         "name": "s1__permutation_entropy__dimension_6__tau_1",
         "rawType": "float64",
         "type": "float"
        },
        {
         "name": "s1__permutation_entropy__dimension_7__tau_1",
         "rawType": "float64",
         "type": "float"
        },
        {
         "name": "s1__permutation_entropy__dimension_4__tau_1",
         "rawType": "float64",
         "type": "float"
        },
        {
         "name": "s1__permutation_entropy__dimension_5__tau_1",
         "rawType": "float64",
         "type": "float"
        },
        {
         "name": "s1__partial_autocorrelation__lag_9",
         "rawType": "float64",
         "type": "float"
        },
        {
         "name": "s1__partial_autocorrelation__lag_8",
         "rawType": "float64",
         "type": "float"
        },
        {
         "name": "s1__partial_autocorrelation__lag_7",
         "rawType": "float64",
         "type": "float"
        },
        {
         "name": "s1__approximate_entropy__m_2__r_0.3",
         "rawType": "float64",
         "type": "float"
        },
        {
         "name": "s1__partial_autocorrelation__lag_6",
         "rawType": "float64",
         "type": "float"
        },
        {
         "name": "s1__partial_autocorrelation__lag_5",
         "rawType": "float64",
         "type": "float"
        },
        {
         "name": "s1__number_peaks__n_1",
         "rawType": "int64",
         "type": "integer"
        },
        {
         "name": "s1__number_peaks__n_3",
         "rawType": "int64",
         "type": "integer"
        },
        {
         "name": "s1__spkt_welch_density__coeff_5",
         "rawType": "float64",
         "type": "float"
        },
        {
         "name": "s1__number_peaks__n_10",
         "rawType": "int64",
         "type": "integer"
        },
        {
         "name": "s1__number_peaks__n_5",
         "rawType": "int64",
         "type": "integer"
        },
        {
         "name": "s1__number_cwt_peaks__n_1",
         "rawType": "int64",
         "type": "integer"
        },
        {
         "name": "s1__number_cwt_peaks__n_5",
         "rawType": "int64",
         "type": "integer"
        },
        {
         "name": "s1__fft_coefficient__attr_\"abs\"__coeff_6",
         "rawType": "float64",
         "type": "float"
        },
        {
         "name": "s1__ar_coefficient__coeff_3__k_10",
         "rawType": "float64",
         "type": "float"
        },
        {
         "name": "s1__partial_autocorrelation__lag_4",
         "rawType": "float64",
         "type": "float"
        },
        {
         "name": "s1__lempel_ziv_complexity__bins_3",
         "rawType": "float64",
         "type": "float"
        },
        {
         "name": "s1__spkt_welch_density__coeff_2",
         "rawType": "float64",
         "type": "float"
        },
        {
         "name": "s1__agg_autocorrelation__f_agg_\"median\"__maxlag_40",
         "rawType": "float64",
         "type": "float"
        },
        {
         "name": "s1__ar_coefficient__coeff_9__k_10",
         "rawType": "float64",
         "type": "float"
        },
        {
         "name": "s1__fft_coefficient__attr_\"abs\"__coeff_7",
         "rawType": "float64",
         "type": "float"
        },
        {
         "name": "s1__fft_coefficient__attr_\"abs\"__coeff_5",
         "rawType": "float64",
         "type": "float"
        },
        {
         "name": "s1__agg_autocorrelation__f_agg_\"mean\"__maxlag_40",
         "rawType": "float64",
         "type": "float"
        },
        {
         "name": "s1__ar_coefficient__coeff_10__k_10",
         "rawType": "float64",
         "type": "float"
        },
        {
         "name": "s1__fft_coefficient__attr_\"abs\"__coeff_4",
         "rawType": "float64",
         "type": "float"
        },
        {
         "name": "s1__ar_coefficient__coeff_8__k_10",
         "rawType": "float64",
         "type": "float"
        },
        {
         "name": "s1__approximate_entropy__m_2__r_0.5",
         "rawType": "float64",
         "type": "float"
        },
        {
         "name": "s1__fft_coefficient__attr_\"abs\"__coeff_3",
         "rawType": "float64",
         "type": "float"
        },
        {
         "name": "s1__approximate_entropy__m_2__r_0.1",
         "rawType": "float64",
         "type": "float"
        },
        {
         "name": "y1",
         "rawType": "float64",
         "type": "float"
        },
        {
         "name": "y2",
         "rawType": "float64",
         "type": "float"
        },
        {
         "name": "y3",
         "rawType": "float64",
         "type": "float"
        }
       ],
       "conversionMethod": "pd.DataFrame",
       "ref": "1ff41027-d364-47c4-8a77-54543205ae59",
       "rows": [
        [
         "E001",
         "187.6164514115582",
         "1415.961916472768",
         "2.557954533531964",
         "0.185766251592929",
         "-0.2126874097264697",
         "-0.01654762759323877",
         "0.1802253950809482",
         "16",
         "0.3699645112749243",
         "0.5452770549938011",
         "0.1312463889914708",
         "0.6993328764626214",
         "0.8261304432230503",
         "16",
         "0.9207306403063797",
         "0.9794491617952004",
         "0.9794491617952007",
         "2.846771137597958",
         "0.9630338003868439",
         "1.761221985486746",
         "2.020709687904804",
         "1.231859207987406",
         "1.49808167037781",
         "-0.2020837348297891",
         "-0.2035705534862133",
         "-0.2139537371719595",
         "0.2476040259601073",
         "-0.2356745113621504",
         "-0.2748893332647089",
         "7",
         "7",
         "0.5934912195706668",
         "6",
         "7",
         "7",
         "7",
         "41.32305773525115",
         "0.1860927352456647",
         "-0.3468621323368667",
         "0.2180094786729858",
         "0.0004375582431012471",
         "0.2071256557188406",
         "0.03878038619197192",
         "74.89329057734331",
         "15.7731219949942",
         "0.1118138338951119",
         "0.2759239541213247",
         "9.657167540066434",
         "-0.1295243533498364",
         "0.2819103403740746",
         "7.000403103049407",
         "0.1305753233745608",
         "68.60154503290494",
         "1.058817523414953",
         "88.36169299155705"
        ],
        [
         "E002",
         "101.5748287766144",
         "1155.296145297156",
         "1.61016162561483",
         "0.2016432823287659",
         "-0.3371467631674528",
         "-0.1308013495134524",
         "0.08140820996997349",
         "15",
         "0.2899281786221653",
         "0.4853719621381641",
         "0.1427350749805172",
         "0.6589426413312434",
         "0.8028289146417423",
         "15",
         "0.9105566299934797",
         "0.9772800865780561",
         "0.9772800865780561",
         "3.258671539067096",
         "0.9955236688061605",
         "1.84267650902031",
         "2.11651796532527",
         "1.281547929702431",
         "1.564123418109814",
         "-0.3075226237494049",
         "-0.2727428831959574",
         "-0.2614961356465655",
         "0.2221004249329064",
         "-0.2693056156129052",
         "-0.299259046802714",
         "9",
         "8",
         "0.001417668589139824",
         "7",
         "8",
         "8",
         "9",
         "7.642794147738778",
         "0.1847311543941634",
         "-0.3655135620504266",
         "0.2098765432098765",
         "3.276536367173173e-05",
         "0.1294241152003482",
         "0.04906408500715737",
         "13.17109415675463",
         "5.600086201769597",
         "0.07306696763940672",
         "0.295375139827059",
         "4.576205994324112",
         "-0.1277163812623343",
         "0.2872078836593206",
         "3.997053011150872",
         "0.1387146861165292",
         "53.90618000014044",
         "0.9289382339194",
         "120.4489622927514"
        ],
        [
         "E003",
         "105.9816601160995",
         "1354.4217968238",
         "1.471212548194306",
         "0.2800736721843706",
         "-0.7247464989954412",
         "-0.5191708355587236",
         "-0.2774014748504838",
         "12",
         "-0.01629223575274812",
         "0.245954701865214",
         "0.1953248056104213",
         "0.4910576917332641",
         "0.7019300672895199",
         "12",
         "0.863871295187391",
         "0.965591797699878",
         "0.9655917976998781",
         "4.276826072290326",
         "1.040343405141869",
         "2.04270978026677",
         "2.349507041154962",
         "1.381714974980963",
         "1.716245553742112",
         "-0.3115253988361346",
         "-0.2756348196203445",
         "-0.2639063924986983",
         "0.1945177366902344",
         "-0.2715691269746683",
         "-0.3016845332656812",
         "11",
         "11",
         "1.029105433169455e-06",
         "10",
         "11",
         "12",
         "12",
         "0.2191843724338314",
         "0.1828771769036583",
         "-0.3686795240815828",
         "0.2053231939163498",
         "1.29053250303968e-07",
         "-0.2441394857724785",
         "0.06598017607483306",
         "0.2700562393736811",
         "0.1863446491776591",
         "-0.1035097591519673",
         "0.311142908282087",
         "0.1642554233532477",
         "-0.1153873744094604",
         "0.29598322973892",
         "0.1493262159354164",
         "0.1608916755087106",
         "46.59022433082492",
         "1.356624630033757",
         "87.79781876878448"
        ],
        [
         "E004",
         "183.2020782695342",
         "1143.123553962167",
         "2.027677970051496",
         "0.1817287238522207",
         "-0.1743947496040455",
         "0.01903153573742643",
         "0.2117321325576279",
         "16",
         "0.3964567561655345",
         "0.5662555442129136",
         "0.1264953637626023",
         "0.7147405279147588",
         "0.8363259513707793",
         "17",
         "0.926438398117548",
         "0.9816888203596588",
         "0.9816888203596588",
         "3.060569077023338",
         "0.969094048692412",
         "1.756682485588802",
         "2.008797631310274",
         "1.242436226781223",
         "1.501068430676715",
         "-0.1843307299927173",
         "-0.1911519648851975",
         "-0.2057078202614218",
         "0.2355900938784234",
         "-0.2311140018055553",
         "-0.274266724542787",
         "8",
         "8",
         "0.0227067561907947",
         "7",
         "8",
         "8",
         "9",
         "21.71404139489977",
         "-0.1529541015625",
         "-0.3519044095910684",
         "0.2055335968379447",
         "0.0002018722590550602",
         "0.2439509549652212",
         "-0.077880859375",
         "49.00847378049132",
         "13.81899319948303",
         "0.1167914934704567",
         "-0.19140625",
         "10.13935387357039",
         "0.064453125",
         "0.2861387801326711",
         "8.100158195516565",
         "0.1206294268017101",
         "68.75846556664386",
         "0.8400784696942509",
         "118.5438809453051"
        ],
        [
         "E005",
         "190.2529940622127",
         "1018.419233075411",
         "2.150465114029851",
         "0.2474593723334024",
         "-0.5624492643719443",
         "-0.3495930005025378",
         "-0.1166597965702195",
         "13",
         "0.1229742074907517",
         "0.355547963936244",
         "0.1711062204405706",
         "0.5677057605790001",
         "0.7472641904685053",
         "14",
         "0.8839118037752421",
         "0.9698012635415452",
         "0.9698012635415453",
         "3.772814281805699",
         "1.017057991725041",
         "1.937379734870533",
         "2.228578382109321",
         "1.336825939445833",
         "1.639807091874523",
         "-0.253573089577877",
         "-0.2390925155489563",
         "-0.2391148527240093",
         "0.2007009167841449",
         "-0.2536429476759219",
         "-0.2875541343493063",
         "10",
         "9",
         "0.003765851863752537",
         "9",
         "9",
         "10",
         "11",
         "19.63600936399207",
         "0.1837958156829678",
         "-0.3553834219507379",
         "0.2056451612903226",
         "0.0001271964805233428",
         "-0.09802186015285731",
         "0.0497937231237889",
         "27.96969131234315",
         "15.10536874715424",
         "-0.04504217148827502",
         "0.2863069394854866",
         "12.33613394912441",
         "-0.1217967358748113",
         "0.2934597962776102",
         "10.56198022012108",
         "0.1446946491640997",
         "61.32641146863364",
         "0.9252317707956869",
         "70.48643963632273"
        ]
       ],
       "shape": {
        "columns": 55,
        "rows": 5
       }
      },
      "text/html": [
       "<div>\n",
       "<style scoped>\n",
       "    .dataframe tbody tr th:only-of-type {\n",
       "        vertical-align: middle;\n",
       "    }\n",
       "\n",
       "    .dataframe tbody tr th {\n",
       "        vertical-align: top;\n",
       "    }\n",
       "\n",
       "    .dataframe thead th {\n",
       "        text-align: right;\n",
       "    }\n",
       "</style>\n",
       "<table border=\"1\" class=\"dataframe\">\n",
       "  <thead>\n",
       "    <tr style=\"text-align: right;\">\n",
       "      <th></th>\n",
       "      <th>m1</th>\n",
       "      <th>m2</th>\n",
       "      <th>m3</th>\n",
       "      <th>s1__approximate_entropy__m_2__r_0.7</th>\n",
       "      <th>s1__autocorrelation__lag_9</th>\n",
       "      <th>s1__autocorrelation__lag_8</th>\n",
       "      <th>s1__autocorrelation__lag_7</th>\n",
       "      <th>s1__longest_strike_above_mean</th>\n",
       "      <th>s1__autocorrelation__lag_6</th>\n",
       "      <th>s1__autocorrelation__lag_5</th>\n",
       "      <th>...</th>\n",
       "      <th>s1__agg_autocorrelation__f_agg_\"mean\"__maxlag_40</th>\n",
       "      <th>s1__ar_coefficient__coeff_10__k_10</th>\n",
       "      <th>s1__fft_coefficient__attr_\"abs\"__coeff_4</th>\n",
       "      <th>s1__ar_coefficient__coeff_8__k_10</th>\n",
       "      <th>s1__approximate_entropy__m_2__r_0.5</th>\n",
       "      <th>s1__fft_coefficient__attr_\"abs\"__coeff_3</th>\n",
       "      <th>s1__approximate_entropy__m_2__r_0.1</th>\n",
       "      <th>y1</th>\n",
       "      <th>y2</th>\n",
       "      <th>y3</th>\n",
       "    </tr>\n",
       "    <tr>\n",
       "      <th>id</th>\n",
       "      <th></th>\n",
       "      <th></th>\n",
       "      <th></th>\n",
       "      <th></th>\n",
       "      <th></th>\n",
       "      <th></th>\n",
       "      <th></th>\n",
       "      <th></th>\n",
       "      <th></th>\n",
       "      <th></th>\n",
       "      <th></th>\n",
       "      <th></th>\n",
       "      <th></th>\n",
       "      <th></th>\n",
       "      <th></th>\n",
       "      <th></th>\n",
       "      <th></th>\n",
       "      <th></th>\n",
       "      <th></th>\n",
       "      <th></th>\n",
       "      <th></th>\n",
       "    </tr>\n",
       "  </thead>\n",
       "  <tbody>\n",
       "    <tr>\n",
       "      <th>E001</th>\n",
       "      <td>187.616451</td>\n",
       "      <td>1415.961916</td>\n",
       "      <td>2.557955</td>\n",
       "      <td>0.185766</td>\n",
       "      <td>-0.212687</td>\n",
       "      <td>-0.016548</td>\n",
       "      <td>0.180225</td>\n",
       "      <td>16</td>\n",
       "      <td>0.369965</td>\n",
       "      <td>0.545277</td>\n",
       "      <td>...</td>\n",
       "      <td>0.111814</td>\n",
       "      <td>0.275924</td>\n",
       "      <td>9.657168</td>\n",
       "      <td>-0.129524</td>\n",
       "      <td>0.281910</td>\n",
       "      <td>7.000403</td>\n",
       "      <td>0.130575</td>\n",
       "      <td>68.601545</td>\n",
       "      <td>1.058818</td>\n",
       "      <td>88.361693</td>\n",
       "    </tr>\n",
       "    <tr>\n",
       "      <th>E002</th>\n",
       "      <td>101.574829</td>\n",
       "      <td>1155.296145</td>\n",
       "      <td>1.610162</td>\n",
       "      <td>0.201643</td>\n",
       "      <td>-0.337147</td>\n",
       "      <td>-0.130801</td>\n",
       "      <td>0.081408</td>\n",
       "      <td>15</td>\n",
       "      <td>0.289928</td>\n",
       "      <td>0.485372</td>\n",
       "      <td>...</td>\n",
       "      <td>0.073067</td>\n",
       "      <td>0.295375</td>\n",
       "      <td>4.576206</td>\n",
       "      <td>-0.127716</td>\n",
       "      <td>0.287208</td>\n",
       "      <td>3.997053</td>\n",
       "      <td>0.138715</td>\n",
       "      <td>53.906180</td>\n",
       "      <td>0.928938</td>\n",
       "      <td>120.448962</td>\n",
       "    </tr>\n",
       "    <tr>\n",
       "      <th>E003</th>\n",
       "      <td>105.981660</td>\n",
       "      <td>1354.421797</td>\n",
       "      <td>1.471213</td>\n",
       "      <td>0.280074</td>\n",
       "      <td>-0.724746</td>\n",
       "      <td>-0.519171</td>\n",
       "      <td>-0.277401</td>\n",
       "      <td>12</td>\n",
       "      <td>-0.016292</td>\n",
       "      <td>0.245955</td>\n",
       "      <td>...</td>\n",
       "      <td>-0.103510</td>\n",
       "      <td>0.311143</td>\n",
       "      <td>0.164255</td>\n",
       "      <td>-0.115387</td>\n",
       "      <td>0.295983</td>\n",
       "      <td>0.149326</td>\n",
       "      <td>0.160892</td>\n",
       "      <td>46.590224</td>\n",
       "      <td>1.356625</td>\n",
       "      <td>87.797819</td>\n",
       "    </tr>\n",
       "    <tr>\n",
       "      <th>E004</th>\n",
       "      <td>183.202078</td>\n",
       "      <td>1143.123554</td>\n",
       "      <td>2.027678</td>\n",
       "      <td>0.181729</td>\n",
       "      <td>-0.174395</td>\n",
       "      <td>0.019032</td>\n",
       "      <td>0.211732</td>\n",
       "      <td>16</td>\n",
       "      <td>0.396457</td>\n",
       "      <td>0.566256</td>\n",
       "      <td>...</td>\n",
       "      <td>0.116791</td>\n",
       "      <td>-0.191406</td>\n",
       "      <td>10.139354</td>\n",
       "      <td>0.064453</td>\n",
       "      <td>0.286139</td>\n",
       "      <td>8.100158</td>\n",
       "      <td>0.120629</td>\n",
       "      <td>68.758466</td>\n",
       "      <td>0.840078</td>\n",
       "      <td>118.543881</td>\n",
       "    </tr>\n",
       "    <tr>\n",
       "      <th>E005</th>\n",
       "      <td>190.252994</td>\n",
       "      <td>1018.419233</td>\n",
       "      <td>2.150465</td>\n",
       "      <td>0.247459</td>\n",
       "      <td>-0.562449</td>\n",
       "      <td>-0.349593</td>\n",
       "      <td>-0.116660</td>\n",
       "      <td>13</td>\n",
       "      <td>0.122974</td>\n",
       "      <td>0.355548</td>\n",
       "      <td>...</td>\n",
       "      <td>-0.045042</td>\n",
       "      <td>0.286307</td>\n",
       "      <td>12.336134</td>\n",
       "      <td>-0.121797</td>\n",
       "      <td>0.293460</td>\n",
       "      <td>10.561980</td>\n",
       "      <td>0.144695</td>\n",
       "      <td>61.326411</td>\n",
       "      <td>0.925232</td>\n",
       "      <td>70.486440</td>\n",
       "    </tr>\n",
       "  </tbody>\n",
       "</table>\n",
       "<p>5 rows × 55 columns</p>\n",
       "</div>"
      ],
      "text/plain": [
       "              m1           m2        m3  s1__approximate_entropy__m_2__r_0.7  \\\n",
       "id                                                                             \n",
       "E001  187.616451  1415.961916  2.557955                             0.185766   \n",
       "E002  101.574829  1155.296145  1.610162                             0.201643   \n",
       "E003  105.981660  1354.421797  1.471213                             0.280074   \n",
       "E004  183.202078  1143.123554  2.027678                             0.181729   \n",
       "E005  190.252994  1018.419233  2.150465                             0.247459   \n",
       "\n",
       "      s1__autocorrelation__lag_9  s1__autocorrelation__lag_8  \\\n",
       "id                                                             \n",
       "E001                   -0.212687                   -0.016548   \n",
       "E002                   -0.337147                   -0.130801   \n",
       "E003                   -0.724746                   -0.519171   \n",
       "E004                   -0.174395                    0.019032   \n",
       "E005                   -0.562449                   -0.349593   \n",
       "\n",
       "      s1__autocorrelation__lag_7  s1__longest_strike_above_mean  \\\n",
       "id                                                                \n",
       "E001                    0.180225                             16   \n",
       "E002                    0.081408                             15   \n",
       "E003                   -0.277401                             12   \n",
       "E004                    0.211732                             16   \n",
       "E005                   -0.116660                             13   \n",
       "\n",
       "      s1__autocorrelation__lag_6  s1__autocorrelation__lag_5  ...  \\\n",
       "id                                                            ...   \n",
       "E001                    0.369965                    0.545277  ...   \n",
       "E002                    0.289928                    0.485372  ...   \n",
       "E003                   -0.016292                    0.245955  ...   \n",
       "E004                    0.396457                    0.566256  ...   \n",
       "E005                    0.122974                    0.355548  ...   \n",
       "\n",
       "      s1__agg_autocorrelation__f_agg_\"mean\"__maxlag_40  \\\n",
       "id                                                       \n",
       "E001                                          0.111814   \n",
       "E002                                          0.073067   \n",
       "E003                                         -0.103510   \n",
       "E004                                          0.116791   \n",
       "E005                                         -0.045042   \n",
       "\n",
       "      s1__ar_coefficient__coeff_10__k_10  \\\n",
       "id                                         \n",
       "E001                            0.275924   \n",
       "E002                            0.295375   \n",
       "E003                            0.311143   \n",
       "E004                           -0.191406   \n",
       "E005                            0.286307   \n",
       "\n",
       "      s1__fft_coefficient__attr_\"abs\"__coeff_4  \\\n",
       "id                                               \n",
       "E001                                  9.657168   \n",
       "E002                                  4.576206   \n",
       "E003                                  0.164255   \n",
       "E004                                 10.139354   \n",
       "E005                                 12.336134   \n",
       "\n",
       "      s1__ar_coefficient__coeff_8__k_10  s1__approximate_entropy__m_2__r_0.5  \\\n",
       "id                                                                             \n",
       "E001                          -0.129524                             0.281910   \n",
       "E002                          -0.127716                             0.287208   \n",
       "E003                          -0.115387                             0.295983   \n",
       "E004                           0.064453                             0.286139   \n",
       "E005                          -0.121797                             0.293460   \n",
       "\n",
       "      s1__fft_coefficient__attr_\"abs\"__coeff_3  \\\n",
       "id                                               \n",
       "E001                                  7.000403   \n",
       "E002                                  3.997053   \n",
       "E003                                  0.149326   \n",
       "E004                                  8.100158   \n",
       "E005                                 10.561980   \n",
       "\n",
       "      s1__approximate_entropy__m_2__r_0.1         y1        y2          y3  \n",
       "id                                                                          \n",
       "E001                             0.130575  68.601545  1.058818   88.361693  \n",
       "E002                             0.138715  53.906180  0.928938  120.448962  \n",
       "E003                             0.160892  46.590224  1.356625   87.797819  \n",
       "E004                             0.120629  68.758466  0.840078  118.543881  \n",
       "E005                             0.144695  61.326411  0.925232   70.486440  \n",
       "\n",
       "[5 rows x 55 columns]"
      ]
     },
     "execution_count": 2,
     "metadata": {},
     "output_type": "execute_result"
    }
   ],
   "source": [
    "df = pd.read_excel(\"output/data_train_2.xlsx\")\n",
    "df = df.set_index(\"Unnamed: 0\")\n",
    "df.index.names = [\"id\"]\n",
    "df.head()"
   ]
  },
  {
   "cell_type": "code",
   "execution_count": 3,
   "id": "ca89c1ee",
   "metadata": {},
   "outputs": [
    {
     "name": "stdout",
     "output_type": "stream",
     "text": [
      "(70, 52)\n",
      "(70, 3)\n"
     ]
    }
   ],
   "source": [
    "colsY = [\"y1\", \"y2\", \"y3\"]\n",
    "colsX = [c for c in df.columns if c not in colsY]\n",
    "\n",
    "X = df[colsX]\n",
    "Y = df[colsY]\n",
    "\n",
    "X_train, X_test, Y_train, Y_test = train_test_split(X, Y, test_size=0.3, random_state=0)\n",
    "print(X_train.shape)\n",
    "print(Y_train.shape)\n"
   ]
  },
  {
   "cell_type": "code",
   "execution_count": 4,
   "id": "1a59f9d9",
   "metadata": {},
   "outputs": [],
   "source": [
    "scX = MinMaxScaler()\n",
    "X_train_std = scX.fit_transform(X_train)\n",
    "X_test_std = scX.transform(X_test)\n",
    "\n",
    "scY = MinMaxScaler()\n",
    "Y_train_std = scY.fit_transform(Y_train)\n",
    "Y_test_std = scY.transform(Y_test)"
   ]
  },
  {
   "cell_type": "code",
   "execution_count": 5,
   "id": "9134a4d9",
   "metadata": {},
   "outputs": [],
   "source": [
    "# Convert to 2D PyTorch tensors\n",
    "X_train_std = torch.tensor(X_train_std, dtype=torch.float32)\n",
    "Y_train_std = torch.tensor(Y_train_std, dtype=torch.float32)\n",
    "X_test_std = torch.tensor(X_test_std, dtype=torch.float32)\n",
    "Y_test_std = torch.tensor(Y_test_std, dtype=torch.float32)"
   ]
  },
  {
   "cell_type": "code",
   "execution_count": 6,
   "id": "e2b15ad3",
   "metadata": {},
   "outputs": [],
   "source": [
    "# Define the model\n",
    "model = nn.Sequential(\n",
    "    nn.Linear(X.shape[1], 24),\n",
    "    nn.ReLU(),\n",
    "    nn.Linear(24, 12),\n",
    "    nn.ReLU(),\n",
    "    nn.Linear(12, 6),\n",
    "    nn.ReLU(),\n",
    "    nn.Linear(6, Y.shape[1]),\n",
    ")\n",
    "\n",
    "# loss function and optimizer\n",
    "loss_fn = nn.MSELoss()  # mean square error\n",
    "optimizer = optim.Adam(model.parameters(), lr=0.0001)"
   ]
  },
  {
   "cell_type": "code",
   "execution_count": 7,
   "id": "361fa7b8",
   "metadata": {},
   "outputs": [
    {
     "name": "stdout",
     "output_type": "stream",
     "text": [
      "MSE: 0.01\n",
      "RMSE: 0.08\n"
     ]
    },
    {
     "data": {
      "image/png": "[encoded data removed]",
      "text/plain": [
       "<Figure size 640x480 with 1 Axes>"
      ]
     },
     "metadata": {},
     "output_type": "display_data"
    }
   ],
   "source": [
    "n_epochs = 5000  # number of epochs to run\n",
    "batch_size = 10  # size of each batch\n",
    "batch_start = torch.arange(0, len(X_train), batch_size)\n",
    "\n",
    "# Hold the best model\n",
    "best_mse = np.inf  # init to infinity\n",
    "best_weights = None\n",
    "history = []\n",
    "\n",
    "for epoch in range(n_epochs):\n",
    "    model.train()\n",
    "    with tqdm.tqdm(batch_start, unit=\"batch\", mininterval=0, disable=True) as bar:\n",
    "        bar.set_description(f\"Epoch {epoch}\")\n",
    "        for start in bar:\n",
    "            # take a batch\n",
    "            X_batch = X_train_std[start : start + batch_size]\n",
    "            y_batch = Y_train_std[start : start + batch_size]\n",
    "            # forward pass\n",
    "            y_pred = model(X_batch)\n",
    "            loss = loss_fn(y_pred, y_batch)\n",
    "            # backward pass\n",
    "            optimizer.zero_grad()\n",
    "            loss.backward()\n",
    "            # update weights\n",
    "            optimizer.step()\n",
    "            # print progress\n",
    "            bar.set_postfix(mse=float(loss))\n",
    "    # evaluate accuracy at end of each epoch\n",
    "    model.eval()\n",
    "    y_pred = model(X_test_std)\n",
    "    mse = loss_fn(y_pred, Y_test_std)\n",
    "    mse = float(mse)\n",
    "    history.append(mse)\n",
    "    if mse < best_mse:\n",
    "        best_mse = mse\n",
    "        best_weights = copy.deepcopy(model.state_dict())\n",
    "\n",
    "# restore model and return best accuracy\n",
    "model.load_state_dict(best_weights)\n",
    "print(\"MSE: %.2f\" % best_mse)\n",
    "print(\"RMSE: %.2f\" % np.sqrt(best_mse))\n",
    "plt.plot(history)\n",
    "plt.show()"
   ]
  },
  {
   "cell_type": "code",
   "execution_count": 9,
   "id": "d7965fa0",
   "metadata": {},
   "outputs": [],
   "source": [
    "Y_train_pred = model(X_train_std)\n",
    "Y_test_pred = model(X_test_std)"
   ]
  },
  {
   "cell_type": "code",
   "execution_count": null,
   "id": "dda491bd",
   "metadata": {},
   "outputs": [],
   "source": [
    "Y_train_std = Y_train_std.detach().numpy()\n",
    "Y_test_std = Y_test_std.detach().numpy()\n",
    "Y_train_pred = Y_train_pred.detach().numpy()\n",
    "Y_test_pred = Y_test_pred.detach().numpy()"
   ]
  },
  {
   "cell_type": "code",
   "execution_count": 14,
   "id": "74a59429",
   "metadata": {},
   "outputs": [
    {
     "data": {
      "application/vnd.microsoft.datawrangler.viewer.v0+json": {
       "columns": [
        {
         "name": "index",
         "rawType": "int64",
         "type": "integer"
        },
        {
         "name": "MSE Train",
         "rawType": "float64",
         "type": "float"
        },
        {
         "name": "MSE Test",
         "rawType": "float64",
         "type": "float"
        },
        {
         "name": "R2 Train",
         "rawType": "float64",
         "type": "float"
        },
        {
         "name": "R2 Test",
         "rawType": "float64",
         "type": "float"
        }
       ],
       "conversionMethod": "pd.DataFrame",
       "ref": "8b3486ce-126f-425b-b09a-c8feae511fe7",
       "rows": [
        [
         "0",
         "0.006157130468636751",
         "0.006883320398628712",
         "0.8903052806854248",
         "0.8574269413948059"
        ],
        [
         "1",
         "0.0013010841794312",
         "0.002275624079629779",
         "0.9771599173545837",
         "0.9459803700447083"
        ],
        [
         "2",
         "0.003974740859121084",
         "0.009734025225043297",
         "0.9253658652305603",
         "0.7880469560623169"
        ]
       ],
       "shape": {
        "columns": 4,
        "rows": 3
       }
      },
      "text/html": [
       "<div>\n",
       "<style scoped>\n",
       "    .dataframe tbody tr th:only-of-type {\n",
       "        vertical-align: middle;\n",
       "    }\n",
       "\n",
       "    .dataframe tbody tr th {\n",
       "        vertical-align: top;\n",
       "    }\n",
       "\n",
       "    .dataframe thead th {\n",
       "        text-align: right;\n",
       "    }\n",
       "</style>\n",
       "<table border=\"1\" class=\"dataframe\">\n",
       "  <thead>\n",
       "    <tr style=\"text-align: right;\">\n",
       "      <th></th>\n",
       "      <th>MSE Train</th>\n",
       "      <th>MSE Test</th>\n",
       "      <th>R2 Train</th>\n",
       "      <th>R2 Test</th>\n",
       "    </tr>\n",
       "  </thead>\n",
       "  <tbody>\n",
       "    <tr>\n",
       "      <th>0</th>\n",
       "      <td>0.006157</td>\n",
       "      <td>0.006883</td>\n",
       "      <td>0.890305</td>\n",
       "      <td>0.857427</td>\n",
       "    </tr>\n",
       "    <tr>\n",
       "      <th>1</th>\n",
       "      <td>0.001301</td>\n",
       "      <td>0.002276</td>\n",
       "      <td>0.977160</td>\n",
       "      <td>0.945980</td>\n",
       "    </tr>\n",
       "    <tr>\n",
       "      <th>2</th>\n",
       "      <td>0.003975</td>\n",
       "      <td>0.009734</td>\n",
       "      <td>0.925366</td>\n",
       "      <td>0.788047</td>\n",
       "    </tr>\n",
       "  </tbody>\n",
       "</table>\n",
       "</div>"
      ],
      "text/plain": [
       "   MSE Train  MSE Test  R2 Train   R2 Test\n",
       "0   0.006157  0.006883  0.890305  0.857427\n",
       "1   0.001301  0.002276  0.977160  0.945980\n",
       "2   0.003975  0.009734  0.925366  0.788047"
      ]
     },
     "execution_count": 14,
     "metadata": {},
     "output_type": "execute_result"
    },
    {
     "data": {
      "image/png": "[encoded data removed]",
      "text/plain": [
       "<Figure size 900x300 with 2 Axes>"
      ]
     },
     "metadata": {},
     "output_type": "display_data"
    },
    {
     "data": {
      "image/png": "[encoded data removed]",
      "text/plain": [
       "<Figure size 900x300 with 2 Axes>"
      ]
     },
     "metadata": {},
     "output_type": "display_data"
    },
    {
     "data": {
      "image/png": "[encoded data removed]",
      "text/plain": [
       "<Figure size 900x300 with 2 Axes>"
      ]
     },
     "metadata": {},
     "output_type": "display_data"
    }
   ],
   "source": [
    "resArr = []\n",
    "for i in range(Y.shape[1]):\n",
    "    y_train = Y_train_std[:, i]\n",
    "    y_test = Y_test_std[:, i]\n",
    "    y_train_pred = Y_train_pred[:, i]\n",
    "    y_test_pred = Y_test_pred[:, i]\n",
    "    plot_res(y_train, y_test, y_train_pred, y_test_pred, xlim=[-0.1, 1.1])\n",
    "    res = store_results(y_train, y_test, y_train_pred, y_test_pred)\n",
    "    resArr.append(res)\n",
    "\n",
    "dfRes = pd.DataFrame.from_dict(resArr)\n",
    "dfRes"
   ]
  },
  {
   "cell_type": "code",
   "execution_count": null,
   "id": "b51ab946",
   "metadata": {},
   "outputs": [],
   "source": []
  }
 ],
 "metadata": {
  "kernelspec": {
   "display_name": ".venv",
   "language": "python",
   "name": "python3"
  },
  "language_info": {
   "codemirror_mode": {
    "name": "ipython",
    "version": 3
   },
   "file_extension": ".py",
   "mimetype": "text/x-python",
   "name": "python",
   "nbconvert_exporter": "python",
   "pygments_lexer": "ipython3",
   "version": "3.12.10"
  }
 },
 "nbformat": 4,
 "nbformat_minor": 5
}
