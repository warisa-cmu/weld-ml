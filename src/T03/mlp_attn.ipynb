{
 "cells": [
  {
   "cell_type": "code",
   "execution_count": 46,
   "id": "2d0cd0ce",
   "metadata": {},
   "outputs": [
    {
     "name": "stdout",
     "output_type": "stream",
     "text": [
      "The autoreload extension is already loaded. To reload it, use:\n",
      "  %reload_ext autoreload\n"
     ]
    }
   ],
   "source": [
    "%load_ext autoreload\n",
    "%autoreload 2\n"
   ]
  },
  {
   "cell_type": "code",
   "execution_count": 47,
   "id": "b5660f71",
   "metadata": {},
   "outputs": [],
   "source": [
    "import copy\n",
    "\n",
    "import matplotlib.pyplot as plt\n",
    "import numpy as np\n",
    "import pandas as pd\n",
    "import torch\n",
    "import torch.nn as nn\n",
    "import torch.optim as optim\n",
    "import tqdm\n",
    "from T01_prototype.S00_utils import loadPickle, plot_res, store_results\n",
    "from sklearn.preprocessing import MinMaxScaler, StandardScaler"
   ]
  },
  {
   "cell_type": "code",
   "execution_count": 48,
   "id": "cb46c495",
   "metadata": {},
   "outputs": [],
   "source": [
    "from T02_fusion_transformer.S02_attn.models import MyModel_Attn as MyModel"
   ]
  },
  {
   "cell_type": "code",
   "execution_count": 49,
   "id": "3a941414",
   "metadata": {},
   "outputs": [
    {
     "data": {
      "application/vnd.microsoft.datawrangler.viewer.v0+json": {
       "columns": [
        {
         "name": "id",
         "rawType": "object",
         "type": "string"
        },
        {
         "name": "m1",
         "rawType": "float64",
         "type": "float"
        },
        {
         "name": "m2",
         "rawType": "float64",
         "type": "float"
        },
        {
         "name": "m3",
         "rawType": "float64",
         "type": "float"
        },
        {
         "name": "s1__autocorrelation__lag_8",
         "rawType": "float64",
         "type": "float"
        },
        {
         "name": "s1__autocorrelation__lag_9",
         "rawType": "float64",
         "type": "float"
        },
        {
         "name": "s1__autocorrelation__lag_7",
         "rawType": "float64",
         "type": "float"
        },
        {
         "name": "s1__autocorrelation__lag_6",
         "rawType": "float64",
         "type": "float"
        },
        {
         "name": "s1__autocorrelation__lag_5",
         "rawType": "float64",
         "type": "float"
        },
        {
         "name": "s1__autocorrelation__lag_4",
         "rawType": "float64",
         "type": "float"
        },
        {
         "name": "s1__longest_strike_above_mean",
         "rawType": "int64",
         "type": "integer"
        },
        {
         "name": "s1__autocorrelation__lag_3",
         "rawType": "float64",
         "type": "float"
        },
        {
         "name": "s1__approximate_entropy__m_2__r_0.7",
         "rawType": "float64",
         "type": "float"
        },
        {
         "name": "s1__longest_strike_below_mean",
         "rawType": "int64",
         "type": "integer"
        },
        {
         "name": "s1__autocorrelation__lag_2",
         "rawType": "float64",
         "type": "float"
        },
        {
         "name": "s1__approximate_entropy__m_2__r_0.9",
         "rawType": "float64",
         "type": "float"
        },
        {
         "name": "s1__permutation_entropy__dimension_3__tau_1",
         "rawType": "float64",
         "type": "float"
        },
        {
         "name": "s1__autocorrelation__lag_1",
         "rawType": "float64",
         "type": "float"
        },
        {
         "name": "s1__partial_autocorrelation__lag_1",
         "rawType": "float64",
         "type": "float"
        },
        {
         "name": "s1__permutation_entropy__dimension_5__tau_1",
         "rawType": "float64",
         "type": "float"
        },
        {
         "name": "s1__permutation_entropy__dimension_4__tau_1",
         "rawType": "float64",
         "type": "float"
        },
        {
         "name": "s1__permutation_entropy__dimension_6__tau_1",
         "rawType": "float64",
         "type": "float"
        },
        {
         "name": "s1__permutation_entropy__dimension_7__tau_1",
         "rawType": "float64",
         "type": "float"
        },
        {
         "name": "s1__cid_ce__normalize_True",
         "rawType": "float64",
         "type": "float"
        },
        {
         "name": "s1__approximate_entropy__m_2__r_0.3",
         "rawType": "float64",
         "type": "float"
        },
        {
         "name": "s1__partial_autocorrelation__lag_8",
         "rawType": "float64",
         "type": "float"
        },
        {
         "name": "s1__partial_autocorrelation__lag_9",
         "rawType": "float64",
         "type": "float"
        },
        {
         "name": "s1__partial_autocorrelation__lag_7",
         "rawType": "float64",
         "type": "float"
        },
        {
         "name": "s1__partial_autocorrelation__lag_6",
         "rawType": "float64",
         "type": "float"
        },
        {
         "name": "s1__number_peaks__n_1",
         "rawType": "int64",
         "type": "integer"
        },
        {
         "name": "s1__number_peaks__n_3",
         "rawType": "int64",
         "type": "integer"
        },
        {
         "name": "s1__number_peaks__n_5",
         "rawType": "int64",
         "type": "integer"
        },
        {
         "name": "s1__number_cwt_peaks__n_1",
         "rawType": "int64",
         "type": "integer"
        },
        {
         "name": "s1__number_peaks__n_10",
         "rawType": "int64",
         "type": "integer"
        },
        {
         "name": "s1__ar_coefficient__coeff_8__k_10",
         "rawType": "float64",
         "type": "float"
        },
        {
         "name": "s1__partial_autocorrelation__lag_5",
         "rawType": "float64",
         "type": "float"
        },
        {
         "name": "s1__number_cwt_peaks__n_5",
         "rawType": "int64",
         "type": "integer"
        },
        {
         "name": "s1__spkt_welch_density__coeff_5",
         "rawType": "float64",
         "type": "float"
        },
        {
         "name": "s1__agg_autocorrelation__f_agg_\"median\"__maxlag_40",
         "rawType": "float64",
         "type": "float"
        },
        {
         "name": "s1__approximate_entropy__m_2__r_0.5",
         "rawType": "float64",
         "type": "float"
        },
        {
         "name": "s1__agg_autocorrelation__f_agg_\"mean\"__maxlag_40",
         "rawType": "float64",
         "type": "float"
        },
        {
         "name": "s1__ar_coefficient__coeff_3__k_10",
         "rawType": "float64",
         "type": "float"
        },
        {
         "name": "s1__approximate_entropy__m_2__r_0.1",
         "rawType": "float64",
         "type": "float"
        },
        {
         "name": "s1__lempel_ziv_complexity__bins_3",
         "rawType": "float64",
         "type": "float"
        },
        {
         "name": "s1__partial_autocorrelation__lag_4",
         "rawType": "float64",
         "type": "float"
        },
        {
         "name": "s1__fft_coefficient__attr_\"abs\"__coeff_7",
         "rawType": "float64",
         "type": "float"
        },
        {
         "name": "s1__agg_autocorrelation__f_agg_\"var\"__maxlag_40",
         "rawType": "float64",
         "type": "float"
        },
        {
         "name": "s1__spkt_welch_density__coeff_2",
         "rawType": "float64",
         "type": "float"
        },
        {
         "name": "y1",
         "rawType": "float64",
         "type": "float"
        },
        {
         "name": "y2",
         "rawType": "float64",
         "type": "float"
        },
        {
         "name": "y3",
         "rawType": "float64",
         "type": "float"
        }
       ],
       "ref": "617d3261-bd31-40ae-ab60-8270be8fc4f3",
       "rows": [
        [
         "E001",
         "150.2237162282709",
         "1176.177277778291",
         "1.142097497096118",
         "-0.3054339202505594",
         "-0.5191912937471133",
         "-0.07482931020721237",
         "0.1598964088207946",
         "0.385790122546617",
         "0.5903865308147479",
         "14",
         "0.7623960064154589",
         "0.2347346166610531",
         "14",
         "0.8923275547414669",
         "0.1627475159081164",
         "1.016163897369947",
         "0.9730124996338729",
         "0.9730124996338729",
         "1.62687847092397",
         "1.323937191565679",
         "1.924233458480636",
         "2.215079757527388",
         "3.966110221397809",
         "0.2054671462622681",
         "-0.226538711723462",
         "-0.2337969396502632",
         "-0.2313599744498629",
         "-0.2496215600475206",
         "11",
         "11",
         "11",
         "12",
         "10",
         "-0.1228645658353847",
         "-0.2871916578780337",
         "12",
         "2.302092584356073e-06",
         "-0.04029898618473704",
         "0.294575630574742",
         "-0.02381745749888618",
         "0.1839963654696146",
         "0.1585670576081162",
         "0.2041522491349481",
         "-0.3600840997659662",
         "0.2936172551085162",
         "0.4994878943759984",
         "5.88681152271281e-08",
         "55.46043367834409",
         "1.065916993455059",
         "114.5786204103125"
        ],
        [
         "E002",
         "102.5342678762004",
         "1483.654981916516",
         "1.104716419796098",
         "-0.2437852899127758",
         "-0.4542619780809531",
         "-0.02100206449903134",
         "0.2028355495861272",
         "0.4164225579112382",
         "0.6089720749981536",
         "14",
         "0.770760087739035",
         "0.222246210142254",
         "14",
         "0.8936165162838874",
         "0.1560670115588841",
         "0.9993568167921798",
         "0.9713377747746932",
         "0.9713377747746935",
         "1.576553073550272",
         "1.289890751104698",
         "1.858735405789931",
         "2.135705047559143",
         "3.6526435059868",
         "0.2110247401319967",
         "-0.2244198468351331",
         "-0.2325474580042485",
         "-0.2280495585317081",
         "-0.2444386143773333",
         "10",
         "9",
         "9",
         "10",
         "9",
         "-0.1251216792908884",
         "-0.278643948183462",
         "11",
         "9.194826079354894e-05",
         "0.005710727812269289",
         "0.295793386116199",
         "0.0174124077277948",
         "0.184369500523606",
         "0.1447418877366329",
         "0.2030075187969925",
         "-0.3443643252966841",
         "6.14237252208545",
         "0.4777432349844861",
         "3.64362055523439e-06",
         "50.64030573896383",
         "1.285665791352698",
         "124.6514837646304"
        ],
        [
         "E003",
         "119.8905490887243",
         "1254.897450653388",
         "2.162773409498691",
         "-0.3290060356266322",
         "-0.5434049971045741",
         "-0.09591338517658776",
         "0.1426122079089866",
         "0.3730020599120391",
         "0.5821514156665052",
         "14",
         "0.7581648639475573",
         "0.2394955454843397",
         "13",
         "0.8910329028051504",
         "0.165112565585219",
         "1.020465652695851",
         "0.9732011747853436",
         "0.9732011747853435",
         "1.646824878831804",
         "1.343150699207861",
         "1.944883653328339",
         "2.236309406751573",
         "3.682674589911052",
         "0.2017099991694988",
         "-0.2299484930997584",
         "-0.2383027291229635",
         "-0.2342132613799649",
         "-0.2523388214511478",
         "9",
         "9",
         "9",
         "10",
         "9",
         "-0.1218498437486562",
         "-0.2902894407037535",
         "11",
         "0.002991810076493899",
         "-0.06252100701744168",
         "0.2953766624528682",
         "-0.03807682374626591",
         "0.1840355025745247",
         "0.1442678316464963",
         "0.2081632653061224",
         "-0.3646107419088709",
         "26.78328344000789",
         "0.5064350830051291",
         "0.0001590028102571489",
         "50.83240472683809",
         "1.154859212683363",
         "57.01805417221681"
        ],
        [
         "E004",
         "162.8307992564844",
         "1302.043195135213",
         "1.30828321525042",
         "-0.0651521463136262",
         "-0.2664976926877177",
         "0.1389126502736655",
         "0.3371865864369897",
         "0.5214009296929024",
         "0.6838731666679987",
         "16",
         "0.8178274013703623",
         "0.1937549744108571",
         "16",
         "0.9176769485378873",
         "0.1370265745426402",
         "0.9726561048364449",
         "0.9792573362550936",
         "0.9792573362550935",
         "1.522951107576066",
         "1.249446870300736",
         "1.792685681282132",
         "2.058077147838571",
         "3.440933521168234",
         "0.2300116952585212",
         "-0.2135504176683748",
         "-0.2150938543416185",
         "-0.2220255651562478",
         "-0.2427030761830581",
         "9",
         "9",
         "9",
         "10",
         "9",
         "-0.1269822026600489",
         "-0.2818301171729558",
         "11",
         "0.03254871106161762",
         "0.167136898506159",
         "0.2838976837493383",
         "0.09874930838143854",
         "0.1872132457419277",
         "0.1373263951521655",
         "0.1936619718309859",
         "-0.3554414001104249",
         "33.22759074069934",
         "0.4605467208889374",
         "0.0007926165201968495",
         "62.47654543460142",
         "1.025160763802677",
         "132.2212175987509"
        ],
        [
         "E005",
         "165.72095638279",
         "1154.482313700376",
         "1.566829730087374",
         "-0.3048808371286578",
         "-0.5181766102806283",
         "-0.07483610968997173",
         "0.1593210142907042",
         "0.3847279896743889",
         "0.5890028422139049",
         "14",
         "0.7609243327125759",
         "0.2381097596952311",
         "14",
         "0.8910483643868621",
         "0.1626447113788911",
         "1.014791878416955",
         "0.9722267728214827",
         "0.9722267728214827",
         "1.62111225074021",
         "1.320327783744526",
         "1.916410952543579",
         "2.205328048547567",
         "3.995534195873079",
         "0.2072160931479998",
         "-0.2306634372538851",
         "-0.2403558289400577",
         "-0.233806167154005",
         "-0.2506967126737985",
         "11",
         "11",
         "11",
         "12",
         "10",
         "-0.1230299291182262",
         "-0.2868315494200753",
         "12",
         "0.005794605001799167",
         "-0.04382424818770635",
         "0.2887581856673982",
         "-0.0222890433765183",
         "0.1839782130968768",
         "0.1285455017839277",
         "0.1924398625429553",
         "-0.3575884147822471",
         "11.4394702754538",
         "0.4979403938074322",
         "0.0001462830650636705",
         "57.63443803240473",
         "1.043776221564284",
         "92.16026864580095"
        ]
       ],
       "shape": {
        "columns": 50,
        "rows": 5
       }
      },
      "text/html": [
       "<div>\n",
       "<style scoped>\n",
       "    .dataframe tbody tr th:only-of-type {\n",
       "        vertical-align: middle;\n",
       "    }\n",
       "\n",
       "    .dataframe tbody tr th {\n",
       "        vertical-align: top;\n",
       "    }\n",
       "\n",
       "    .dataframe thead th {\n",
       "        text-align: right;\n",
       "    }\n",
       "</style>\n",
       "<table border=\"1\" class=\"dataframe\">\n",
       "  <thead>\n",
       "    <tr style=\"text-align: right;\">\n",
       "      <th></th>\n",
       "      <th>m1</th>\n",
       "      <th>m2</th>\n",
       "      <th>m3</th>\n",
       "      <th>s1__autocorrelation__lag_8</th>\n",
       "      <th>s1__autocorrelation__lag_9</th>\n",
       "      <th>s1__autocorrelation__lag_7</th>\n",
       "      <th>s1__autocorrelation__lag_6</th>\n",
       "      <th>s1__autocorrelation__lag_5</th>\n",
       "      <th>s1__autocorrelation__lag_4</th>\n",
       "      <th>s1__longest_strike_above_mean</th>\n",
       "      <th>...</th>\n",
       "      <th>s1__ar_coefficient__coeff_3__k_10</th>\n",
       "      <th>s1__approximate_entropy__m_2__r_0.1</th>\n",
       "      <th>s1__lempel_ziv_complexity__bins_3</th>\n",
       "      <th>s1__partial_autocorrelation__lag_4</th>\n",
       "      <th>s1__fft_coefficient__attr_\"abs\"__coeff_7</th>\n",
       "      <th>s1__agg_autocorrelation__f_agg_\"var\"__maxlag_40</th>\n",
       "      <th>s1__spkt_welch_density__coeff_2</th>\n",
       "      <th>y1</th>\n",
       "      <th>y2</th>\n",
       "      <th>y3</th>\n",
       "    </tr>\n",
       "    <tr>\n",
       "      <th>id</th>\n",
       "      <th></th>\n",
       "      <th></th>\n",
       "      <th></th>\n",
       "      <th></th>\n",
       "      <th></th>\n",
       "      <th></th>\n",
       "      <th></th>\n",
       "      <th></th>\n",
       "      <th></th>\n",
       "      <th></th>\n",
       "      <th></th>\n",
       "      <th></th>\n",
       "      <th></th>\n",
       "      <th></th>\n",
       "      <th></th>\n",
       "      <th></th>\n",
       "      <th></th>\n",
       "      <th></th>\n",
       "      <th></th>\n",
       "      <th></th>\n",
       "      <th></th>\n",
       "    </tr>\n",
       "  </thead>\n",
       "  <tbody>\n",
       "    <tr>\n",
       "      <th>E001</th>\n",
       "      <td>150.223716</td>\n",
       "      <td>1176.177278</td>\n",
       "      <td>1.142097</td>\n",
       "      <td>-0.305434</td>\n",
       "      <td>-0.519191</td>\n",
       "      <td>-0.074829</td>\n",
       "      <td>0.159896</td>\n",
       "      <td>0.385790</td>\n",
       "      <td>0.590387</td>\n",
       "      <td>14</td>\n",
       "      <td>...</td>\n",
       "      <td>0.183996</td>\n",
       "      <td>0.158567</td>\n",
       "      <td>0.204152</td>\n",
       "      <td>-0.360084</td>\n",
       "      <td>0.293617</td>\n",
       "      <td>0.499488</td>\n",
       "      <td>5.886812e-08</td>\n",
       "      <td>55.460434</td>\n",
       "      <td>1.065917</td>\n",
       "      <td>114.578620</td>\n",
       "    </tr>\n",
       "    <tr>\n",
       "      <th>E002</th>\n",
       "      <td>102.534268</td>\n",
       "      <td>1483.654982</td>\n",
       "      <td>1.104716</td>\n",
       "      <td>-0.243785</td>\n",
       "      <td>-0.454262</td>\n",
       "      <td>-0.021002</td>\n",
       "      <td>0.202836</td>\n",
       "      <td>0.416423</td>\n",
       "      <td>0.608972</td>\n",
       "      <td>14</td>\n",
       "      <td>...</td>\n",
       "      <td>0.184370</td>\n",
       "      <td>0.144742</td>\n",
       "      <td>0.203008</td>\n",
       "      <td>-0.344364</td>\n",
       "      <td>6.142373</td>\n",
       "      <td>0.477743</td>\n",
       "      <td>3.643621e-06</td>\n",
       "      <td>50.640306</td>\n",
       "      <td>1.285666</td>\n",
       "      <td>124.651484</td>\n",
       "    </tr>\n",
       "    <tr>\n",
       "      <th>E003</th>\n",
       "      <td>119.890549</td>\n",
       "      <td>1254.897451</td>\n",
       "      <td>2.162773</td>\n",
       "      <td>-0.329006</td>\n",
       "      <td>-0.543405</td>\n",
       "      <td>-0.095913</td>\n",
       "      <td>0.142612</td>\n",
       "      <td>0.373002</td>\n",
       "      <td>0.582151</td>\n",
       "      <td>14</td>\n",
       "      <td>...</td>\n",
       "      <td>0.184036</td>\n",
       "      <td>0.144268</td>\n",
       "      <td>0.208163</td>\n",
       "      <td>-0.364611</td>\n",
       "      <td>26.783283</td>\n",
       "      <td>0.506435</td>\n",
       "      <td>1.590028e-04</td>\n",
       "      <td>50.832405</td>\n",
       "      <td>1.154859</td>\n",
       "      <td>57.018054</td>\n",
       "    </tr>\n",
       "    <tr>\n",
       "      <th>E004</th>\n",
       "      <td>162.830799</td>\n",
       "      <td>1302.043195</td>\n",
       "      <td>1.308283</td>\n",
       "      <td>-0.065152</td>\n",
       "      <td>-0.266498</td>\n",
       "      <td>0.138913</td>\n",
       "      <td>0.337187</td>\n",
       "      <td>0.521401</td>\n",
       "      <td>0.683873</td>\n",
       "      <td>16</td>\n",
       "      <td>...</td>\n",
       "      <td>0.187213</td>\n",
       "      <td>0.137326</td>\n",
       "      <td>0.193662</td>\n",
       "      <td>-0.355441</td>\n",
       "      <td>33.227591</td>\n",
       "      <td>0.460547</td>\n",
       "      <td>7.926165e-04</td>\n",
       "      <td>62.476545</td>\n",
       "      <td>1.025161</td>\n",
       "      <td>132.221218</td>\n",
       "    </tr>\n",
       "    <tr>\n",
       "      <th>E005</th>\n",
       "      <td>165.720956</td>\n",
       "      <td>1154.482314</td>\n",
       "      <td>1.566830</td>\n",
       "      <td>-0.304881</td>\n",
       "      <td>-0.518177</td>\n",
       "      <td>-0.074836</td>\n",
       "      <td>0.159321</td>\n",
       "      <td>0.384728</td>\n",
       "      <td>0.589003</td>\n",
       "      <td>14</td>\n",
       "      <td>...</td>\n",
       "      <td>0.183978</td>\n",
       "      <td>0.128546</td>\n",
       "      <td>0.192440</td>\n",
       "      <td>-0.357588</td>\n",
       "      <td>11.439470</td>\n",
       "      <td>0.497940</td>\n",
       "      <td>1.462831e-04</td>\n",
       "      <td>57.634438</td>\n",
       "      <td>1.043776</td>\n",
       "      <td>92.160269</td>\n",
       "    </tr>\n",
       "  </tbody>\n",
       "</table>\n",
       "<p>5 rows × 50 columns</p>\n",
       "</div>"
      ],
      "text/plain": [
       "              m1           m2        m3  s1__autocorrelation__lag_8  \\\n",
       "id                                                                    \n",
       "E001  150.223716  1176.177278  1.142097                   -0.305434   \n",
       "E002  102.534268  1483.654982  1.104716                   -0.243785   \n",
       "E003  119.890549  1254.897451  2.162773                   -0.329006   \n",
       "E004  162.830799  1302.043195  1.308283                   -0.065152   \n",
       "E005  165.720956  1154.482314  1.566830                   -0.304881   \n",
       "\n",
       "      s1__autocorrelation__lag_9  s1__autocorrelation__lag_7  \\\n",
       "id                                                             \n",
       "E001                   -0.519191                   -0.074829   \n",
       "E002                   -0.454262                   -0.021002   \n",
       "E003                   -0.543405                   -0.095913   \n",
       "E004                   -0.266498                    0.138913   \n",
       "E005                   -0.518177                   -0.074836   \n",
       "\n",
       "      s1__autocorrelation__lag_6  s1__autocorrelation__lag_5  \\\n",
       "id                                                             \n",
       "E001                    0.159896                    0.385790   \n",
       "E002                    0.202836                    0.416423   \n",
       "E003                    0.142612                    0.373002   \n",
       "E004                    0.337187                    0.521401   \n",
       "E005                    0.159321                    0.384728   \n",
       "\n",
       "      s1__autocorrelation__lag_4  s1__longest_strike_above_mean  ...  \\\n",
       "id                                                               ...   \n",
       "E001                    0.590387                             14  ...   \n",
       "E002                    0.608972                             14  ...   \n",
       "E003                    0.582151                             14  ...   \n",
       "E004                    0.683873                             16  ...   \n",
       "E005                    0.589003                             14  ...   \n",
       "\n",
       "      s1__ar_coefficient__coeff_3__k_10  s1__approximate_entropy__m_2__r_0.1  \\\n",
       "id                                                                             \n",
       "E001                           0.183996                             0.158567   \n",
       "E002                           0.184370                             0.144742   \n",
       "E003                           0.184036                             0.144268   \n",
       "E004                           0.187213                             0.137326   \n",
       "E005                           0.183978                             0.128546   \n",
       "\n",
       "      s1__lempel_ziv_complexity__bins_3  s1__partial_autocorrelation__lag_4  \\\n",
       "id                                                                            \n",
       "E001                           0.204152                           -0.360084   \n",
       "E002                           0.203008                           -0.344364   \n",
       "E003                           0.208163                           -0.364611   \n",
       "E004                           0.193662                           -0.355441   \n",
       "E005                           0.192440                           -0.357588   \n",
       "\n",
       "      s1__fft_coefficient__attr_\"abs\"__coeff_7  \\\n",
       "id                                               \n",
       "E001                                  0.293617   \n",
       "E002                                  6.142373   \n",
       "E003                                 26.783283   \n",
       "E004                                 33.227591   \n",
       "E005                                 11.439470   \n",
       "\n",
       "      s1__agg_autocorrelation__f_agg_\"var\"__maxlag_40  \\\n",
       "id                                                      \n",
       "E001                                         0.499488   \n",
       "E002                                         0.477743   \n",
       "E003                                         0.506435   \n",
       "E004                                         0.460547   \n",
       "E005                                         0.497940   \n",
       "\n",
       "      s1__spkt_welch_density__coeff_2         y1        y2          y3  \n",
       "id                                                                      \n",
       "E001                     5.886812e-08  55.460434  1.065917  114.578620  \n",
       "E002                     3.643621e-06  50.640306  1.285666  124.651484  \n",
       "E003                     1.590028e-04  50.832405  1.154859   57.018054  \n",
       "E004                     7.926165e-04  62.476545  1.025161  132.221218  \n",
       "E005                     1.462831e-04  57.634438  1.043776   92.160269  \n",
       "\n",
       "[5 rows x 50 columns]"
      ]
     },
     "execution_count": 49,
     "metadata": {},
     "output_type": "execute_result"
    }
   ],
   "source": [
    "df = pd.read_excel(\"../T01_prototype/output/S21__2025-04-21-052727.xlsx\")\n",
    "df = df.set_index(\"Unnamed: 0\")\n",
    "df.index.names = [\"id\"]\n",
    "df.head()"
   ]
  },
  {
   "cell_type": "code",
   "execution_count": 50,
   "id": "16816717",
   "metadata": {},
   "outputs": [],
   "source": [
    "colsY = [\"y1\", \"y2\", \"y3\"]\n",
    "# colsX = [c for c in df.columns if c not in colsY]\n",
    "colsX = [\"m1\", \"m2\", \"m3\"]\n",
    "\n",
    "dfX = df[colsX]\n",
    "dfY = df[colsY]"
   ]
  },
  {
   "cell_type": "code",
   "execution_count": 51,
   "id": "bf54dec5",
   "metadata": {},
   "outputs": [],
   "source": [
    "dfData = loadPickle(\"../T01_prototype/output/S11__2025-04-21-052441.pickle\")"
   ]
  },
  {
   "cell_type": "code",
   "execution_count": 52,
   "id": "1c4cb3de",
   "metadata": {},
   "outputs": [],
   "source": [
    "dfData\n",
    "tsArr = [t[1] for t in dfData[\"ts\"].values]"
   ]
  },
  {
   "cell_type": "code",
   "execution_count": 53,
   "id": "22f736da",
   "metadata": {},
   "outputs": [
    {
     "name": "stdout",
     "output_type": "stream",
     "text": [
      "298\n"
     ]
    }
   ],
   "source": [
    "# Max length\n",
    "maxTime = 0\n",
    "for ts in tsArr:\n",
    "    maxTime = len(ts) if maxTime < len(ts) else maxTime\n",
    "\n",
    "print(maxTime)"
   ]
  },
  {
   "cell_type": "code",
   "execution_count": 54,
   "id": "6ef870d8",
   "metadata": {},
   "outputs": [
    {
     "data": {
      "text/plain": [
       "[<matplotlib.lines.Line2D at 0x1b391465ca0>]"
      ]
     },
     "execution_count": 54,
     "metadata": {},
     "output_type": "execute_result"
    },
    {
     "data": {
      "image/png": "[encoded data removed]",
      "text/plain": [
       "<Figure size 640x480 with 1 Axes>"
      ]
     },
     "metadata": {},
     "output_type": "display_data"
    }
   ],
   "source": [
    "# Scaling and Padding\n",
    "# TODO: Needs to only calculate mean, std, min, max from training example.\n",
    "\n",
    "SCALING_TYPE = \"Min_Max\"\n",
    "# SCALING_TYPE = \"STANDARDIZATION\"\n",
    "\n",
    "tsArrConcat = np.concatenate(tsArr)\n",
    "if SCALING_TYPE == \"STANDARDIZATION\":\n",
    "    meanVal = np.mean(tsArrConcat)\n",
    "    stdVal = np.std(tsArrConcat)\n",
    "elif SCALING_TYPE == \"Min_Max\":\n",
    "    maxVal = np.max(tsArrConcat)\n",
    "    minVal = np.min(tsArrConcat)\n",
    "\n",
    "# Shape = (Batch, Time, Features)\n",
    "TsData_std = np.zeros((dfData.shape[0], maxTime, 1))\n",
    "for idx, ts in enumerate(tsArr):\n",
    "    if SCALING_TYPE == \"STANDARDIZATION\":\n",
    "        ts_std = (ts - meanVal) / stdVal\n",
    "    elif SCALING_TYPE == \"Min_Max\":\n",
    "        ts_std = (ts - minVal) / (maxVal - minVal)\n",
    "\n",
    "    TsData_std[idx, : len(ts), 0] = ts_std  # Scaling\n",
    "    TsData_std[idx, len(ts) :, 0] = -1  # Padding\n",
    "\n",
    "plt.plot(TsData_std[0, :])"
   ]
  },
  {
   "cell_type": "code",
   "execution_count": 55,
   "id": "c7b3dd62",
   "metadata": {},
   "outputs": [
    {
     "name": "stdout",
     "output_type": "stream",
     "text": [
      "[60 80 90 68 51 27 18 56 63 74  1 61 42 41  4 15 17 40 38  5 91 59  0 34\n",
      " 28 50 11 35 23 52 10 31 66 57 79 85 32 84 14 89 19 29 49 97 98 69 20 94\n",
      " 72 77 25 37 81 46 39 65 58 12 88 70 87 36 21 83  9 96 67 64 47 44]\n",
      "[26 86  2 55 75 93 16 73 54 95 53 92 78 13  7 30 22 24 33  8 43 62  3 71\n",
      " 45 48  6 99 82 76]\n"
     ]
    }
   ],
   "source": [
    "from sklearn.model_selection import ShuffleSplit\n",
    "\n",
    "cv = ShuffleSplit(random_state=0, test_size=0.30)\n",
    "idxs = np.arange(df.shape[0])\n",
    "idxTrain, idxTest = next(cv.split(X=idxs))\n",
    "print(idxTrain)\n",
    "print(idxTest)"
   ]
  },
  {
   "cell_type": "code",
   "execution_count": 56,
   "id": "6110546c",
   "metadata": {},
   "outputs": [],
   "source": [
    "dfX_train = dfX.iloc[idxTrain, :]\n",
    "dfX_test = dfX.iloc[idxTest, :]\n",
    "dfY_train = dfY.iloc[idxTrain, :]\n",
    "dfY_test = dfY.iloc[idxTest, :]\n",
    "Ts_train_std = TsData_std[idxTrain, :]\n",
    "Ts_test_std = TsData_std[idxTest, :]"
   ]
  },
  {
   "cell_type": "code",
   "execution_count": 57,
   "id": "5d0b7279",
   "metadata": {},
   "outputs": [],
   "source": [
    "scX = MinMaxScaler()\n",
    "X_train_std = scX.fit_transform(dfX_train)\n",
    "X_test_std = scX.transform(dfX_test)\n",
    "\n",
    "scY = MinMaxScaler()\n",
    "Y_train_std = scY.fit_transform(dfY_train)\n",
    "Y_test_std = scY.transform(dfY_test)"
   ]
  },
  {
   "cell_type": "code",
   "execution_count": 58,
   "id": "6bb6bfea",
   "metadata": {},
   "outputs": [],
   "source": [
    "# Convert to 2D PyTorch tensors\n",
    "X_train_std = torch.tensor(X_train_std, dtype=torch.float32)\n",
    "Y_train_std = torch.tensor(Y_train_std, dtype=torch.float32)\n",
    "X_test_std = torch.tensor(X_test_std, dtype=torch.float32)\n",
    "Y_test_std = torch.tensor(Y_test_std, dtype=torch.float32)\n",
    "Ts_train_std = torch.tensor(Ts_train_std, dtype=torch.float32)\n",
    "Ts_test_std = torch.tensor(Ts_test_std, dtype=torch.float32)"
   ]
  },
  {
   "cell_type": "code",
   "execution_count": 59,
   "id": "523f3635",
   "metadata": {},
   "outputs": [],
   "source": [
    "tab_num_features = dfX.shape[1]\n",
    "ts_embedding_size = 8\n",
    "ts_num_features = Ts_train_std.shape[-1]\n",
    "lstm_num_layers = 2\n",
    "lstm_dropout = 0.5\n",
    "attn_n_head = 4\n",
    "num_output = Y_test_std.shape[1]\n",
    "\n",
    "# Initialize model\n",
    "model = MyModel(\n",
    "    tab_num_features=tab_num_features,\n",
    "    ts_embedding_size=ts_embedding_size,\n",
    "    ts_num_features=ts_num_features,\n",
    "    lstm_num_layers=lstm_num_layers,\n",
    "    lstm_dropout=lstm_dropout,\n",
    "    attn_n_head=attn_n_head,\n",
    "    num_output=num_output,\n",
    ")"
   ]
  },
  {
   "cell_type": "code",
   "execution_count": 60,
   "id": "dc7c8a63",
   "metadata": {},
   "outputs": [],
   "source": [
    "# loss function and optimizer\n",
    "loss_fn = nn.MSELoss()  # mean square error\n",
    "optimizer = optim.Adam(model.parameters(), lr=0.0001)"
   ]
  },
  {
   "cell_type": "code",
   "execution_count": 61,
   "id": "36246eb7",
   "metadata": {},
   "outputs": [],
   "source": [
    "def get_seeder(batch_size, num_output):\n",
    "    x_seeder = torch.zeros((batch_size, num_output, 1), dtype=torch.float)\n",
    "    for i in range(0, num_output):\n",
    "        x_seeder[:, i, 0] = float(i)\n",
    "    return x_seeder"
   ]
  },
  {
   "cell_type": "code",
   "execution_count": 62,
   "id": "b3c38ea7",
   "metadata": {},
   "outputs": [
    {
     "name": "stdout",
     "output_type": "stream",
     "text": [
      "MSE: 0.06\n",
      "RMSE: 0.24\n"
     ]
    },
    {
     "data": {
      "image/png": "[encoded data removed]",
      "text/plain": [
       "<Figure size 640x480 with 1 Axes>"
      ]
     },
     "metadata": {},
     "output_type": "display_data"
    }
   ],
   "source": [
    "n_epochs = 100\n",
    "# number of epochs to run\n",
    "batch_size = 5  # size of each batch\n",
    "batch_start = torch.arange(0, len(X_train_std), batch_size)\n",
    "\n",
    "# Hold the best model\n",
    "best_mse = np.inf  # init to infinity\n",
    "best_weights = None\n",
    "history = []\n",
    "\n",
    "for epoch in range(n_epochs):\n",
    "    model.train()\n",
    "    with tqdm.tqdm(batch_start, unit=\"batch\", mininterval=0, disable=True) as bar:\n",
    "        bar.set_description(f\"Epoch {epoch}\")\n",
    "        for start in bar:\n",
    "            # take a batch\n",
    "            x_tab_batch = X_train_std[start : start + batch_size]\n",
    "            x_ts_batch = Ts_train_std[start : start + batch_size]\n",
    "            y_batch = Y_train_std[start : start + batch_size]\n",
    "            \n",
    "            # forward pass\n",
    "            y_pred, _ = model(\n",
    "                x_tab=x_tab_batch,\n",
    "                x_ts=x_ts_batch,\n",
    "                x_future=get_seeder(x_tab_batch.shape[0], num_output),\n",
    "            )\n",
    "            loss = loss_fn(y_pred, y_batch)\n",
    "            # backward pass\n",
    "            optimizer.zero_grad()\n",
    "            loss.backward()\n",
    "            # update weights\n",
    "            optimizer.step()\n",
    "            # print progress\n",
    "            bar.set_postfix(mse=float(loss))\n",
    "    # evaluate accuracy at end of each epoch\n",
    "    model.eval()\n",
    "    y_pred, _ = model(\n",
    "        x_ts=Ts_test_std,\n",
    "        x_tab=X_test_std,\n",
    "        x_future=get_seeder(Ts_test_std.shape[0], num_output),\n",
    "    )\n",
    "    mse = loss_fn(y_pred, Y_test_std)\n",
    "    mse = float(mse)\n",
    "    history.append(mse)\n",
    "    if mse < best_mse:\n",
    "        best_mse = mse\n",
    "        best_weights = copy.deepcopy(model.state_dict())\n",
    "\n",
    "# restore model and return best accuracy\n",
    "model.load_state_dict(best_weights)\n",
    "print(\"MSE: %.2f\" % best_mse)\n",
    "print(\"RMSE: %.2f\" % np.sqrt(best_mse))\n",
    "plt.plot(history)\n",
    "plt.show()"
   ]
  },
  {
   "cell_type": "code",
   "execution_count": 63,
   "id": "c0f05686",
   "metadata": {},
   "outputs": [],
   "source": [
    "Y_train_pred, attn_train = model(\n",
    "    x_ts=Ts_train_std,\n",
    "    x_tab=X_train_std,\n",
    "    x_future=get_seeder(Ts_train_std.shape[0], num_output),\n",
    ")\n",
    "Y_test_pred, attn_test = model(\n",
    "    x_ts=Ts_test_std,\n",
    "    x_tab=X_test_std,\n",
    "    x_future=get_seeder(Ts_test_std.shape[0], num_output),\n",
    ")"
   ]
  },
  {
   "cell_type": "code",
   "execution_count": 64,
   "id": "60453032",
   "metadata": {},
   "outputs": [],
   "source": [
    "Y_train_std = Y_train_std.detach().numpy()\n",
    "Y_test_std = Y_test_std.detach().numpy()\n",
    "Y_train_pred = Y_train_pred.detach().numpy()\n",
    "Y_test_pred = Y_test_pred.detach().numpy()"
   ]
  },
  {
   "cell_type": "code",
   "execution_count": 65,
   "id": "df7a80c3",
   "metadata": {},
   "outputs": [
    {
     "data": {
      "application/vnd.microsoft.datawrangler.viewer.v0+json": {
       "columns": [
        {
         "name": "index",
         "rawType": "int64",
         "type": "integer"
        },
        {
         "name": "MSE Train",
         "rawType": "float64",
         "type": "float"
        },
        {
         "name": "MSE Test",
         "rawType": "float64",
         "type": "float"
        },
        {
         "name": "R2 Train",
         "rawType": "float64",
         "type": "float"
        },
        {
         "name": "R2 Test",
         "rawType": "float64",
         "type": "float"
        }
       ],
       "ref": "9a6c6d2d-938c-4df6-82e6-58a0075e090c",
       "rows": [
        [
         "0",
         "0.0738188698887825",
         "0.06762469559907913",
         "-0.6472071409225464",
         "-0.2617861032485962"
        ],
        [
         "1",
         "0.04267852380871773",
         "0.050532154738903046",
         "-0.11128854751586914",
         "-0.6344883441925049"
        ],
        [
         "2",
         "0.07902584224939346",
         "0.05186322703957558",
         "-0.34407103061676025",
         "0.010456979274749756"
        ]
       ],
       "shape": {
        "columns": 4,
        "rows": 3
       }
      },
      "text/html": [
       "<div>\n",
       "<style scoped>\n",
       "    .dataframe tbody tr th:only-of-type {\n",
       "        vertical-align: middle;\n",
       "    }\n",
       "\n",
       "    .dataframe tbody tr th {\n",
       "        vertical-align: top;\n",
       "    }\n",
       "\n",
       "    .dataframe thead th {\n",
       "        text-align: right;\n",
       "    }\n",
       "</style>\n",
       "<table border=\"1\" class=\"dataframe\">\n",
       "  <thead>\n",
       "    <tr style=\"text-align: right;\">\n",
       "      <th></th>\n",
       "      <th>MSE Train</th>\n",
       "      <th>MSE Test</th>\n",
       "      <th>R2 Train</th>\n",
       "      <th>R2 Test</th>\n",
       "    </tr>\n",
       "  </thead>\n",
       "  <tbody>\n",
       "    <tr>\n",
       "      <th>0</th>\n",
       "      <td>0.073819</td>\n",
       "      <td>0.067625</td>\n",
       "      <td>-0.647207</td>\n",
       "      <td>-0.261786</td>\n",
       "    </tr>\n",
       "    <tr>\n",
       "      <th>1</th>\n",
       "      <td>0.042679</td>\n",
       "      <td>0.050532</td>\n",
       "      <td>-0.111289</td>\n",
       "      <td>-0.634488</td>\n",
       "    </tr>\n",
       "    <tr>\n",
       "      <th>2</th>\n",
       "      <td>0.079026</td>\n",
       "      <td>0.051863</td>\n",
       "      <td>-0.344071</td>\n",
       "      <td>0.010457</td>\n",
       "    </tr>\n",
       "  </tbody>\n",
       "</table>\n",
       "</div>"
      ],
      "text/plain": [
       "   MSE Train  MSE Test  R2 Train   R2 Test\n",
       "0   0.073819  0.067625 -0.647207 -0.261786\n",
       "1   0.042679  0.050532 -0.111289 -0.634488\n",
       "2   0.079026  0.051863 -0.344071  0.010457"
      ]
     },
     "execution_count": 65,
     "metadata": {},
     "output_type": "execute_result"
    },
    {
     "data": {
      "image/png": "[encoded data removed]",
      "text/plain": [
       "<Figure size 900x300 with 2 Axes>"
      ]
     },
     "metadata": {},
     "output_type": "display_data"
    },
    {
     "data": {
      "image/png": "[encoded data removed]",
      "text/plain": [
       "<Figure size 900x300 with 2 Axes>"
      ]
     },
     "metadata": {},
     "output_type": "display_data"
    },
    {
     "data": {
      "image/png": "[encoded data removed]",
      "text/plain": [
       "<Figure size 900x300 with 2 Axes>"
      ]
     },
     "metadata": {},
     "output_type": "display_data"
    }
   ],
   "source": [
    "resArr = []\n",
    "for i in range(dfY.shape[1]):\n",
    "    y_train = Y_train_std[:, i]\n",
    "    y_test = Y_test_std[:, i]\n",
    "    y_train_pred = Y_train_pred[:, i]\n",
    "    y_test_pred = Y_test_pred[:, i]\n",
    "    plot_res(y_train, y_test, y_train_pred, y_test_pred, xlim=[-0.1, 1.1])\n",
    "    res = store_results(y_train, y_test, y_train_pred, y_test_pred)\n",
    "    resArr.append(res)\n",
    "\n",
    "dfRes = pd.DataFrame.from_dict(resArr)\n",
    "dfRes"
   ]
  },
  {
   "cell_type": "code",
   "execution_count": 66,
   "id": "7a829aab",
   "metadata": {},
   "outputs": [
    {
     "name": "stdout",
     "output_type": "stream",
     "text": [
      "(70, 301, 4, 301)\n"
     ]
    }
   ],
   "source": [
    "att = attn_train.detach().numpy()\n",
    "print(att.shape)"
   ]
  },
  {
   "cell_type": "code",
   "execution_count": 67,
   "id": "263d5b3f",
   "metadata": {},
   "outputs": [
    {
     "data": {
      "application/vnd.microsoft.datawrangler.viewer.v0+json": {
       "columns": [
        {
         "name": "index",
         "rawType": "int64",
         "type": "integer"
        },
        {
         "name": "0",
         "rawType": "float32",
         "type": "float"
        },
        {
         "name": "1",
         "rawType": "float32",
         "type": "float"
        },
        {
         "name": "2",
         "rawType": "float32",
         "type": "float"
        },
        {
         "name": "3",
         "rawType": "float32",
         "type": "float"
        },
        {
         "name": "4",
         "rawType": "float32",
         "type": "float"
        },
        {
         "name": "5",
         "rawType": "float32",
         "type": "float"
        },
        {
         "name": "6",
         "rawType": "float32",
         "type": "float"
        },
        {
         "name": "7",
         "rawType": "float32",
         "type": "float"
        },
        {
         "name": "8",
         "rawType": "float32",
         "type": "float"
        },
        {
         "name": "9",
         "rawType": "float32",
         "type": "float"
        },
        {
         "name": "10",
         "rawType": "float32",
         "type": "float"
        },
        {
         "name": "11",
         "rawType": "float32",
         "type": "float"
        },
        {
         "name": "12",
         "rawType": "float32",
         "type": "float"
        },
        {
         "name": "13",
         "rawType": "float32",
         "type": "float"
        },
        {
         "name": "14",
         "rawType": "float32",
         "type": "float"
        },
        {
         "name": "15",
         "rawType": "float32",
         "type": "float"
        },
        {
         "name": "16",
         "rawType": "float32",
         "type": "float"
        },
        {
         "name": "17",
         "rawType": "float32",
         "type": "float"
        },
        {
         "name": "18",
         "rawType": "float32",
         "type": "float"
        },
        {
         "name": "19",
         "rawType": "float32",
         "type": "float"
        },
        {
         "name": "20",
         "rawType": "float32",
         "type": "float"
        },
        {
         "name": "21",
         "rawType": "float32",
         "type": "float"
        },
        {
         "name": "22",
         "rawType": "float32",
         "type": "float"
        },
        {
         "name": "23",
         "rawType": "float32",
         "type": "float"
        },
        {
         "name": "24",
         "rawType": "float32",
         "type": "float"
        },
        {
         "name": "25",
         "rawType": "float32",
         "type": "float"
        },
        {
         "name": "26",
         "rawType": "float32",
         "type": "float"
        },
        {
         "name": "27",
         "rawType": "float32",
         "type": "float"
        },
        {
         "name": "28",
         "rawType": "float32",
         "type": "float"
        },
        {
         "name": "29",
         "rawType": "float32",
         "type": "float"
        },
        {
         "name": "30",
         "rawType": "float32",
         "type": "float"
        },
        {
         "name": "31",
         "rawType": "float32",
         "type": "float"
        },
        {
         "name": "32",
         "rawType": "float32",
         "type": "float"
        },
        {
         "name": "33",
         "rawType": "float32",
         "type": "float"
        },
        {
         "name": "34",
         "rawType": "float32",
         "type": "float"
        },
        {
         "name": "35",
         "rawType": "float32",
         "type": "float"
        },
        {
         "name": "36",
         "rawType": "float32",
         "type": "float"
        },
        {
         "name": "37",
         "rawType": "float32",
         "type": "float"
        },
        {
         "name": "38",
         "rawType": "float32",
         "type": "float"
        },
        {
         "name": "39",
         "rawType": "float32",
         "type": "float"
        },
        {
         "name": "40",
         "rawType": "float32",
         "type": "float"
        },
        {
         "name": "41",
         "rawType": "float32",
         "type": "float"
        },
        {
         "name": "42",
         "rawType": "float32",
         "type": "float"
        },
        {
         "name": "43",
         "rawType": "float32",
         "type": "float"
        },
        {
         "name": "44",
         "rawType": "float32",
         "type": "float"
        },
        {
         "name": "45",
         "rawType": "float32",
         "type": "float"
        },
        {
         "name": "46",
         "rawType": "float32",
         "type": "float"
        },
        {
         "name": "47",
         "rawType": "float32",
         "type": "float"
        },
        {
         "name": "48",
         "rawType": "float32",
         "type": "float"
        },
        {
         "name": "49",
         "rawType": "float32",
         "type": "float"
        },
        {
         "name": "50",
         "rawType": "float32",
         "type": "float"
        },
        {
         "name": "51",
         "rawType": "float32",
         "type": "float"
        },
        {
         "name": "52",
         "rawType": "float32",
         "type": "float"
        },
        {
         "name": "53",
         "rawType": "float32",
         "type": "float"
        },
        {
         "name": "54",
         "rawType": "float32",
         "type": "float"
        },
        {
         "name": "55",
         "rawType": "float32",
         "type": "float"
        },
        {
         "name": "56",
         "rawType": "float32",
         "type": "float"
        },
        {
         "name": "57",
         "rawType": "float32",
         "type": "float"
        },
        {
         "name": "58",
         "rawType": "float32",
         "type": "float"
        },
        {
         "name": "59",
         "rawType": "float32",
         "type": "float"
        },
        {
         "name": "60",
         "rawType": "float32",
         "type": "float"
        },
        {
         "name": "61",
         "rawType": "float32",
         "type": "float"
        },
        {
         "name": "62",
         "rawType": "float32",
         "type": "float"
        },
        {
         "name": "63",
         "rawType": "float32",
         "type": "float"
        },
        {
         "name": "64",
         "rawType": "float32",
         "type": "float"
        },
        {
         "name": "65",
         "rawType": "float32",
         "type": "float"
        },
        {
         "name": "66",
         "rawType": "float32",
         "type": "float"
        },
        {
         "name": "67",
         "rawType": "float32",
         "type": "float"
        },
        {
         "name": "68",
         "rawType": "float32",
         "type": "float"
        },
        {
         "name": "69",
         "rawType": "float32",
         "type": "float"
        },
        {
         "name": "70",
         "rawType": "float32",
         "type": "float"
        },
        {
         "name": "71",
         "rawType": "float32",
         "type": "float"
        },
        {
         "name": "72",
         "rawType": "float32",
         "type": "float"
        },
        {
         "name": "73",
         "rawType": "float32",
         "type": "float"
        },
        {
         "name": "74",
         "rawType": "float32",
         "type": "float"
        },
        {
         "name": "75",
         "rawType": "float32",
         "type": "float"
        },
        {
         "name": "76",
         "rawType": "float32",
         "type": "float"
        },
        {
         "name": "77",
         "rawType": "float32",
         "type": "float"
        },
        {
         "name": "78",
         "rawType": "float32",
         "type": "float"
        },
        {
         "name": "79",
         "rawType": "float32",
         "type": "float"
        },
        {
         "name": "80",
         "rawType": "float32",
         "type": "float"
        },
        {
         "name": "81",
         "rawType": "float32",
         "type": "float"
        },
        {
         "name": "82",
         "rawType": "float32",
         "type": "float"
        },
        {
         "name": "83",
         "rawType": "float32",
         "type": "float"
        },
        {
         "name": "84",
         "rawType": "float32",
         "type": "float"
        },
        {
         "name": "85",
         "rawType": "float32",
         "type": "float"
        },
        {
         "name": "86",
         "rawType": "float32",
         "type": "float"
        },
        {
         "name": "87",
         "rawType": "float32",
         "type": "float"
        },
        {
         "name": "88",
         "rawType": "float32",
         "type": "float"
        },
        {
         "name": "89",
         "rawType": "float32",
         "type": "float"
        },
        {
         "name": "90",
         "rawType": "float32",
         "type": "float"
        },
        {
         "name": "91",
         "rawType": "float32",
         "type": "float"
        },
        {
         "name": "92",
         "rawType": "float32",
         "type": "float"
        },
        {
         "name": "93",
         "rawType": "float32",
         "type": "float"
        },
        {
         "name": "94",
         "rawType": "float32",
         "type": "float"
        },
        {
         "name": "95",
         "rawType": "float32",
         "type": "float"
        },
        {
         "name": "96",
         "rawType": "float32",
         "type": "float"
        },
        {
         "name": "97",
         "rawType": "float32",
         "type": "float"
        },
        {
         "name": "98",
         "rawType": "float32",
         "type": "float"
        },
        {
         "name": "99",
         "rawType": "float32",
         "type": "float"
        },
        {
         "name": "100",
         "rawType": "float32",
         "type": "float"
        },
        {
         "name": "101",
         "rawType": "float32",
         "type": "float"
        },
        {
         "name": "102",
         "rawType": "float32",
         "type": "float"
        },
        {
         "name": "103",
         "rawType": "float32",
         "type": "float"
        },
        {
         "name": "104",
         "rawType": "float32",
         "type": "float"
        },
        {
         "name": "105",
         "rawType": "float32",
         "type": "float"
        },
        {
         "name": "106",
         "rawType": "float32",
         "type": "float"
        },
        {
         "name": "107",
         "rawType": "float32",
         "type": "float"
        },
        {
         "name": "108",
         "rawType": "float32",
         "type": "float"
        },
        {
         "name": "109",
         "rawType": "float32",
         "type": "float"
        },
        {
         "name": "110",
         "rawType": "float32",
         "type": "float"
        },
        {
         "name": "111",
         "rawType": "float32",
         "type": "float"
        },
        {
         "name": "112",
         "rawType": "float32",
         "type": "float"
        },
        {
         "name": "113",
         "rawType": "float32",
         "type": "float"
        },
        {
         "name": "114",
         "rawType": "float32",
         "type": "float"
        },
        {
         "name": "115",
         "rawType": "float32",
         "type": "float"
        },
        {
         "name": "116",
         "rawType": "float32",
         "type": "float"
        },
        {
         "name": "117",
         "rawType": "float32",
         "type": "float"
        },
        {
         "name": "118",
         "rawType": "float32",
         "type": "float"
        },
        {
         "name": "119",
         "rawType": "float32",
         "type": "float"
        },
        {
         "name": "120",
         "rawType": "float32",
         "type": "float"
        },
        {
         "name": "121",
         "rawType": "float32",
         "type": "float"
        },
        {
         "name": "122",
         "rawType": "float32",
         "type": "float"
        },
        {
         "name": "123",
         "rawType": "float32",
         "type": "float"
        },
        {
         "name": "124",
         "rawType": "float32",
         "type": "float"
        },
        {
         "name": "125",
         "rawType": "float32",
         "type": "float"
        },
        {
         "name": "126",
         "rawType": "float32",
         "type": "float"
        },
        {
         "name": "127",
         "rawType": "float32",
         "type": "float"
        },
        {
         "name": "128",
         "rawType": "float32",
         "type": "float"
        },
        {
         "name": "129",
         "rawType": "float32",
         "type": "float"
        },
        {
         "name": "130",
         "rawType": "float32",
         "type": "float"
        },
        {
         "name": "131",
         "rawType": "float32",
         "type": "float"
        },
        {
         "name": "132",
         "rawType": "float32",
         "type": "float"
        },
        {
         "name": "133",
         "rawType": "float32",
         "type": "float"
        },
        {
         "name": "134",
         "rawType": "float32",
         "type": "float"
        },
        {
         "name": "135",
         "rawType": "float32",
         "type": "float"
        },
        {
         "name": "136",
         "rawType": "float32",
         "type": "float"
        },
        {
         "name": "137",
         "rawType": "float32",
         "type": "float"
        },
        {
         "name": "138",
         "rawType": "float32",
         "type": "float"
        },
        {
         "name": "139",
         "rawType": "float32",
         "type": "float"
        },
        {
         "name": "140",
         "rawType": "float32",
         "type": "float"
        },
        {
         "name": "141",
         "rawType": "float32",
         "type": "float"
        },
        {
         "name": "142",
         "rawType": "float32",
         "type": "float"
        },
        {
         "name": "143",
         "rawType": "float32",
         "type": "float"
        },
        {
         "name": "144",
         "rawType": "float32",
         "type": "float"
        },
        {
         "name": "145",
         "rawType": "float32",
         "type": "float"
        },
        {
         "name": "146",
         "rawType": "float32",
         "type": "float"
        },
        {
         "name": "147",
         "rawType": "float32",
         "type": "float"
        },
        {
         "name": "148",
         "rawType": "float32",
         "type": "float"
        },
        {
         "name": "149",
         "rawType": "float32",
         "type": "float"
        },
        {
         "name": "150",
         "rawType": "float32",
         "type": "float"
        },
        {
         "name": "151",
         "rawType": "float32",
         "type": "float"
        },
        {
         "name": "152",
         "rawType": "float32",
         "type": "float"
        },
        {
         "name": "153",
         "rawType": "float32",
         "type": "float"
        },
        {
         "name": "154",
         "rawType": "float32",
         "type": "float"
        },
        {
         "name": "155",
         "rawType": "float32",
         "type": "float"
        },
        {
         "name": "156",
         "rawType": "float32",
         "type": "float"
        },
        {
         "name": "157",
         "rawType": "float32",
         "type": "float"
        },
        {
         "name": "158",
         "rawType": "float32",
         "type": "float"
        },
        {
         "name": "159",
         "rawType": "float32",
         "type": "float"
        },
        {
         "name": "160",
         "rawType": "float32",
         "type": "float"
        },
        {
         "name": "161",
         "rawType": "float32",
         "type": "float"
        },
        {
         "name": "162",
         "rawType": "float32",
         "type": "float"
        },
        {
         "name": "163",
         "rawType": "float32",
         "type": "float"
        },
        {
         "name": "164",
         "rawType": "float32",
         "type": "float"
        },
        {
         "name": "165",
         "rawType": "float32",
         "type": "float"
        },
        {
         "name": "166",
         "rawType": "float32",
         "type": "float"
        },
        {
         "name": "167",
         "rawType": "float32",
         "type": "float"
        },
        {
         "name": "168",
         "rawType": "float32",
         "type": "float"
        },
        {
         "name": "169",
         "rawType": "float32",
         "type": "float"
        },
        {
         "name": "170",
         "rawType": "float32",
         "type": "float"
        },
        {
         "name": "171",
         "rawType": "float32",
         "type": "float"
        },
        {
         "name": "172",
         "rawType": "float32",
         "type": "float"
        },
        {
         "name": "173",
         "rawType": "float32",
         "type": "float"
        },
        {
         "name": "174",
         "rawType": "float32",
         "type": "float"
        },
        {
         "name": "175",
         "rawType": "float32",
         "type": "float"
        },
        {
         "name": "176",
         "rawType": "float32",
         "type": "float"
        },
        {
         "name": "177",
         "rawType": "float32",
         "type": "float"
        },
        {
         "name": "178",
         "rawType": "float32",
         "type": "float"
        },
        {
         "name": "179",
         "rawType": "float32",
         "type": "float"
        },
        {
         "name": "180",
         "rawType": "float32",
         "type": "float"
        },
        {
         "name": "181",
         "rawType": "float32",
         "type": "float"
        },
        {
         "name": "182",
         "rawType": "float32",
         "type": "float"
        },
        {
         "name": "183",
         "rawType": "float32",
         "type": "float"
        },
        {
         "name": "184",
         "rawType": "float32",
         "type": "float"
        },
        {
         "name": "185",
         "rawType": "float32",
         "type": "float"
        },
        {
         "name": "186",
         "rawType": "float32",
         "type": "float"
        },
        {
         "name": "187",
         "rawType": "float32",
         "type": "float"
        },
        {
         "name": "188",
         "rawType": "float32",
         "type": "float"
        },
        {
         "name": "189",
         "rawType": "float32",
         "type": "float"
        },
        {
         "name": "190",
         "rawType": "float32",
         "type": "float"
        },
        {
         "name": "191",
         "rawType": "float32",
         "type": "float"
        },
        {
         "name": "192",
         "rawType": "float32",
         "type": "float"
        },
        {
         "name": "193",
         "rawType": "float32",
         "type": "float"
        },
        {
         "name": "194",
         "rawType": "float32",
         "type": "float"
        },
        {
         "name": "195",
         "rawType": "float32",
         "type": "float"
        },
        {
         "name": "196",
         "rawType": "float32",
         "type": "float"
        },
        {
         "name": "197",
         "rawType": "float32",
         "type": "float"
        },
        {
         "name": "198",
         "rawType": "float32",
         "type": "float"
        },
        {
         "name": "199",
         "rawType": "float32",
         "type": "float"
        },
        {
         "name": "200",
         "rawType": "float32",
         "type": "float"
        },
        {
         "name": "201",
         "rawType": "float32",
         "type": "float"
        },
        {
         "name": "202",
         "rawType": "float32",
         "type": "float"
        },
        {
         "name": "203",
         "rawType": "float32",
         "type": "float"
        },
        {
         "name": "204",
         "rawType": "float32",
         "type": "float"
        },
        {
         "name": "205",
         "rawType": "float32",
         "type": "float"
        },
        {
         "name": "206",
         "rawType": "float32",
         "type": "float"
        },
        {
         "name": "207",
         "rawType": "float32",
         "type": "float"
        },
        {
         "name": "208",
         "rawType": "float32",
         "type": "float"
        },
        {
         "name": "209",
         "rawType": "float32",
         "type": "float"
        },
        {
         "name": "210",
         "rawType": "float32",
         "type": "float"
        },
        {
         "name": "211",
         "rawType": "float32",
         "type": "float"
        },
        {
         "name": "212",
         "rawType": "float32",
         "type": "float"
        },
        {
         "name": "213",
         "rawType": "float32",
         "type": "float"
        },
        {
         "name": "214",
         "rawType": "float32",
         "type": "float"
        },
        {
         "name": "215",
         "rawType": "float32",
         "type": "float"
        },
        {
         "name": "216",
         "rawType": "float32",
         "type": "float"
        },
        {
         "name": "217",
         "rawType": "float32",
         "type": "float"
        },
        {
         "name": "218",
         "rawType": "float32",
         "type": "float"
        },
        {
         "name": "219",
         "rawType": "float32",
         "type": "float"
        },
        {
         "name": "220",
         "rawType": "float32",
         "type": "float"
        },
        {
         "name": "221",
         "rawType": "float32",
         "type": "float"
        },
        {
         "name": "222",
         "rawType": "float32",
         "type": "float"
        },
        {
         "name": "223",
         "rawType": "float32",
         "type": "float"
        },
        {
         "name": "224",
         "rawType": "float32",
         "type": "float"
        },
        {
         "name": "225",
         "rawType": "float32",
         "type": "float"
        },
        {
         "name": "226",
         "rawType": "float32",
         "type": "float"
        },
        {
         "name": "227",
         "rawType": "float32",
         "type": "float"
        },
        {
         "name": "228",
         "rawType": "float32",
         "type": "float"
        },
        {
         "name": "229",
         "rawType": "float32",
         "type": "float"
        },
        {
         "name": "230",
         "rawType": "float32",
         "type": "float"
        },
        {
         "name": "231",
         "rawType": "float32",
         "type": "float"
        },
        {
         "name": "232",
         "rawType": "float32",
         "type": "float"
        },
        {
         "name": "233",
         "rawType": "float32",
         "type": "float"
        },
        {
         "name": "234",
         "rawType": "float32",
         "type": "float"
        },
        {
         "name": "235",
         "rawType": "float32",
         "type": "float"
        },
        {
         "name": "236",
         "rawType": "float32",
         "type": "float"
        },
        {
         "name": "237",
         "rawType": "float32",
         "type": "float"
        },
        {
         "name": "238",
         "rawType": "float32",
         "type": "float"
        },
        {
         "name": "239",
         "rawType": "float32",
         "type": "float"
        },
        {
         "name": "240",
         "rawType": "float32",
         "type": "float"
        },
        {
         "name": "241",
         "rawType": "float32",
         "type": "float"
        },
        {
         "name": "242",
         "rawType": "float32",
         "type": "float"
        },
        {
         "name": "243",
         "rawType": "float32",
         "type": "float"
        },
        {
         "name": "244",
         "rawType": "float32",
         "type": "float"
        },
        {
         "name": "245",
         "rawType": "float32",
         "type": "float"
        },
        {
         "name": "246",
         "rawType": "float32",
         "type": "float"
        },
        {
         "name": "247",
         "rawType": "float32",
         "type": "float"
        },
        {
         "name": "248",
         "rawType": "float32",
         "type": "float"
        },
        {
         "name": "249",
         "rawType": "float32",
         "type": "float"
        },
        {
         "name": "250",
         "rawType": "float32",
         "type": "float"
        },
        {
         "name": "251",
         "rawType": "float32",
         "type": "float"
        },
        {
         "name": "252",
         "rawType": "float32",
         "type": "float"
        },
        {
         "name": "253",
         "rawType": "float32",
         "type": "float"
        },
        {
         "name": "254",
         "rawType": "float32",
         "type": "float"
        },
        {
         "name": "255",
         "rawType": "float32",
         "type": "float"
        },
        {
         "name": "256",
         "rawType": "float32",
         "type": "float"
        },
        {
         "name": "257",
         "rawType": "float32",
         "type": "float"
        },
        {
         "name": "258",
         "rawType": "float32",
         "type": "float"
        },
        {
         "name": "259",
         "rawType": "float32",
         "type": "float"
        },
        {
         "name": "260",
         "rawType": "float32",
         "type": "float"
        },
        {
         "name": "261",
         "rawType": "float32",
         "type": "float"
        },
        {
         "name": "262",
         "rawType": "float32",
         "type": "float"
        },
        {
         "name": "263",
         "rawType": "float32",
         "type": "float"
        },
        {
         "name": "264",
         "rawType": "float32",
         "type": "float"
        },
        {
         "name": "265",
         "rawType": "float32",
         "type": "float"
        },
        {
         "name": "266",
         "rawType": "float32",
         "type": "float"
        },
        {
         "name": "267",
         "rawType": "float32",
         "type": "float"
        },
        {
         "name": "268",
         "rawType": "float32",
         "type": "float"
        },
        {
         "name": "269",
         "rawType": "float32",
         "type": "float"
        },
        {
         "name": "270",
         "rawType": "float32",
         "type": "float"
        },
        {
         "name": "271",
         "rawType": "float32",
         "type": "float"
        },
        {
         "name": "272",
         "rawType": "float32",
         "type": "float"
        },
        {
         "name": "273",
         "rawType": "float32",
         "type": "float"
        },
        {
         "name": "274",
         "rawType": "float32",
         "type": "float"
        },
        {
         "name": "275",
         "rawType": "float32",
         "type": "float"
        },
        {
         "name": "276",
         "rawType": "float32",
         "type": "float"
        },
        {
         "name": "277",
         "rawType": "float32",
         "type": "float"
        },
        {
         "name": "278",
         "rawType": "float32",
         "type": "float"
        },
        {
         "name": "279",
         "rawType": "float32",
         "type": "float"
        },
        {
         "name": "280",
         "rawType": "float32",
         "type": "float"
        },
        {
         "name": "281",
         "rawType": "float32",
         "type": "float"
        },
        {
         "name": "282",
         "rawType": "float32",
         "type": "float"
        },
        {
         "name": "283",
         "rawType": "float32",
         "type": "float"
        },
        {
         "name": "284",
         "rawType": "float32",
         "type": "float"
        },
        {
         "name": "285",
         "rawType": "float32",
         "type": "float"
        },
        {
         "name": "286",
         "rawType": "float32",
         "type": "float"
        },
        {
         "name": "287",
         "rawType": "float32",
         "type": "float"
        },
        {
         "name": "288",
         "rawType": "float32",
         "type": "float"
        },
        {
         "name": "289",
         "rawType": "float32",
         "type": "float"
        },
        {
         "name": "290",
         "rawType": "float32",
         "type": "float"
        },
        {
         "name": "291",
         "rawType": "float32",
         "type": "float"
        },
        {
         "name": "292",
         "rawType": "float32",
         "type": "float"
        },
        {
         "name": "293",
         "rawType": "float32",
         "type": "float"
        },
        {
         "name": "294",
         "rawType": "float32",
         "type": "float"
        },
        {
         "name": "295",
         "rawType": "float32",
         "type": "float"
        },
        {
         "name": "296",
         "rawType": "float32",
         "type": "float"
        },
        {
         "name": "297",
         "rawType": "float32",
         "type": "float"
        },
        {
         "name": "298",
         "rawType": "float32",
         "type": "float"
        },
        {
         "name": "299",
         "rawType": "float32",
         "type": "float"
        },
        {
         "name": "300",
         "rawType": "float32",
         "type": "float"
        }
       ],
       "ref": "54b7b40d-95d0-412e-9790-e329f0bfcc7e",
       "rows": [
        [
         "0",
         "0.002449623",
         "0.0025366917",
         "0.0026544922",
         "0.0028044886",
         "0.0029467505",
         "0.0030655519",
         "0.0031571304",
         "0.0032233514",
         "0.0032683662",
         "0.0032968698",
         "0.0033132702",
         "0.003321366",
         "0.0033242535",
         "0.0033243613",
         "0.00332351",
         "0.0033229943",
         "0.0033236227",
         "0.003325813",
         "0.0033296258",
         "0.003334848",
         "0.0033410643",
         "0.003347734",
         "0.003354267",
         "0.0033600878",
         "0.0033646987",
         "0.0033677102",
         "0.0033688697",
         "0.0033680666",
         "0.0033653495",
         "0.0033609276",
         "0.003355182",
         "0.0033486243",
         "0.0033418776",
         "0.0033355963",
         "0.0033304063",
         "0.003326832",
         "0.0033252223",
         "0.0033257345",
         "0.0033282996",
         "0.0033326454",
         "0.0033383353",
         "0.0033448031",
         "0.0033514358",
         "0.0033576235",
         "0.0033628172",
         "0.00336657",
         "0.0033685653",
         "0.003368623",
         "0.0033667234",
         "0.0033630107",
         "0.003357786",
         "0.0033515126",
         "0.003344771",
         "0.0033382098",
         "0.0033324787",
         "0.0033281513",
         "0.003325663",
         "0.0033252523",
         "0.0033269494",
         "0.0033305713",
         "0.0033357434",
         "0.0033419486",
         "0.0033485866",
         "0.0033550414",
         "0.0033607231",
         "0.003365148",
         "0.0033679332",
         "0.0033688382",
         "0.0033677781",
         "0.0033648247",
         "0.0033602032",
         "0.0033543198",
         "0.003347704",
         "0.0033409812",
         "0.0033348163",
         "0.003329818",
         "0.0033264933",
         "0.0033251666",
         "0.0033259634",
         "0.0033287876",
         "0.0033333472",
         "0.003339176",
         "0.0033457032",
         "0.0033523107",
         "0.0033583946",
         "0.0033634172",
         "0.0033669474",
         "0.0033686887",
         "0.0033684785",
         "0.0033663246",
         "0.0033623844",
         "0.003356988",
         "0.003350616",
         "0.003343859",
         "0.003337371",
         "0.0033318019",
         "0.0033277005",
         "0.0033254828",
         "0.0033253594",
         "0.003327334",
         "0.003331191",
         "0.003336534",
         "0.003342833",
         "0.0033494842",
         "0.0033558644",
         "0.0033614049",
         "0.0033656263",
         "0.003368168",
         "0.003368812",
         "0.0033674869",
         "0.0033642906",
         "0.0033594742",
         "0.0033534537",
         "0.0033467861",
         "0.003340102",
         "0.0033340594",
         "0.0033292624",
         "0.0033261927",
         "0.00332515",
         "0.0033262323",
         "0.0033293124",
         "0.003334072",
         "0.0033400294",
         "0.003346605",
         "0.003353177",
         "0.0033591457",
         "0.0033639888",
         "0.0033672927",
         "0.003368775",
         "0.003368301",
         "0.0033658904",
         "0.0033617304",
         "0.003356175",
         "0.0033497093",
         "0.0033429526",
         "0.003336553",
         "0.0033311513",
         "0.003327284",
         "0.003325342",
         "0.0033255075",
         "0.0033277515",
         "0.0033318358",
         "0.0033373407",
         "0.0033437249",
         "0.003350374",
         "0.003356672",
         "0.0033620612",
         "0.0033660727",
         "0.0033683677",
         "0.0033687467",
         "0.0033671593",
         "0.003363726",
         "0.0033587206",
         "0.0033525792",
         "0.003345871",
         "0.003339235",
         "0.003333328",
         "0.0033287387",
         "0.0033259287",
         "0.0033251722",
         "0.0033265376",
         "0.003329865",
         "0.0033348168",
         "0.0033408944",
         "0.0033475067",
         "0.0033540295",
         "0.003359876",
         "0.0033645334",
         "0.0033676024",
         "0.003368824",
         "0.003368084",
         "0.0033654266",
         "0.0033610521",
         "0.0033553403",
         "0.0033488022",
         "0.0033420513",
         "0.0033357514",
         "0.003330527",
         "0.003326904",
         "0.0033252381",
         "0.00332569",
         "0.003328202",
         "0.003332508",
         "0.003338165",
         "0.0033446213",
         "0.0033512576",
         "0.0033574651",
         "0.0033626915",
         "0.00336649",
         "0.0033685341",
         "0.0033686464",
         "0.0033668028",
         "0.0033631334",
         "0.0033579445",
         "0.003351694",
         "0.003344957",
         "0.0033383816",
         "0.00333262",
         "0.0033282472",
         "0.0033257043",
         "0.0033252349",
         "0.0033268763",
         "0.00333045",
         "0.0033355835",
         "0.0033417717",
         "0.0033484062",
         "0.0033548693",
         "0.003360583",
         "0.0033650454",
         "0.0033678804",
         "0.0033688392",
         "0.0033678338",
         "0.0033649283",
         "0.0033603504",
         "0.0033544935",
         "0.0033478881",
         "0.0033411614",
         "0.0033349711",
         "0.0033299355",
         "0.0033265566",
         "0.0033251746",
         "0.0033259152",
         "0.003328687",
         "0.003333205",
         "0.0033390042",
         "0.003345519",
         "0.0033521333",
         "0.00335824",
         "0.0033632976",
         "0.0033668736",
         "0.0033686648",
         "0.0033685106",
         "0.0033664056",
         "0.0033625134",
         "0.003357153",
         "0.0034682092",
         "0.0035746072",
         "0.0035972865",
         "0.003566003",
         "0.003519694",
         "0.0034789098",
         "0.003449428",
         "0.003430408",
         "0.0034191702",
         "0.0034131033",
         "0.003410222",
         "0.0034091726",
         "0.0034090905",
         "0.0034094572",
         "0.0034099903",
         "0.0034105284",
         "0.0034110066",
         "0.003411402",
         "0.0034117086",
         "0.0034119405",
         "0.0034121128",
         "0.0034122341",
         "0.0034123186",
         "0.003412378",
         "0.0034124171",
         "0.0034124407",
         "0.003412457",
         "0.0034124677",
         "0.0034124742",
         "0.0034124781",
         "0.0034124805",
         "0.0034124805",
         "0.0034124823",
         "0.0034124823",
         "0.00341248",
         "0.0034124823",
         "0.0034124823",
         "0.00341248",
         "0.0034124805",
         "0.00341248",
         "0.003412479",
         "0.00341248",
         "0.00341248",
         "0.0034124805",
         "0.00341248",
         "0.00341248",
         "0.00341248",
         "0.00341248",
         "0.00341248",
         "0.00341248",
         "0.00341248",
         "0.00341248",
         "0.00341248",
         "0.00341248",
         "0.00341248",
         "0.00341248",
         "0.00341248",
         "0.00341248",
         "0.00341248",
         "0.00341248",
         "0.00341248",
         "0.00341248",
         "0.00341248",
         "0.0013525384",
         "0.0003553192",
         "0.00010535469"
        ],
        [
         "1",
         "0.0024375345",
         "0.0025304586",
         "0.0026456155",
         "0.002794716",
         "0.0029372338",
         "0.0030566612",
         "0.003148721",
         "0.003215014",
         "0.0032596271",
         "0.0032873082",
         "0.003302593",
         "0.0033094364",
         "0.003311097",
         "0.0033101505",
         "0.003308537",
         "0.003307634",
         "0.003308295",
         "0.003310935",
         "0.0033155784",
         "0.0033219361",
         "0.0033294838",
         "0.0033375588",
         "0.0033454378",
         "0.0033524197",
         "0.0033578968",
         "0.0033613986",
         "0.0033626275",
         "0.003361466",
         "0.0033579918",
         "0.0033524889",
         "0.0033454378",
         "0.0033374745",
         "0.003329353",
         "0.0033218586",
         "0.0033157326",
         "0.0033115833",
         "0.003309816",
         "0.003310599",
         "0.003313839",
         "0.0033192018",
         "0.0033261538",
         "0.0033340116",
         "0.0033420348",
         "0.0033494786",
         "0.0033556798",
         "0.0033600926",
         "0.0033623436",
         "0.0033622265",
         "0.0033597385",
         "0.0033550726",
         "0.0033486257",
         "0.0033409733",
         "0.0033328275",
         "0.0033249692",
         "0.0033181706",
         "0.0033131035",
         "0.0033102713",
         "0.003309947",
         "0.0033121486",
         "0.0033166513",
         "0.003322992",
         "0.0033305495",
         "0.0033385935",
         "0.0033463768",
         "0.0033531876",
         "0.0033584323",
         "0.0033616535",
         "0.0033625714",
         "0.0033610966",
         "0.0033573378",
         "0.0033515985",
         "0.0033443891",
         "0.003336363",
         "0.0033282815",
         "0.0033209345",
         "0.003315044",
         "0.003311199",
         "0.0033097717",
         "0.0033108958",
         "0.0033144467",
         "0.0033200604",
         "0.0033271771",
         "0.0033351025",
         "0.003343089",
         "0.0033504027",
         "0.0033563895",
         "0.0033605308",
         "0.0033624687",
         "0.003362027",
         "0.0033592298",
         "0.003354296",
         "0.0033476488",
         "0.0033398871",
         "0.0033317318",
         "0.0033239706",
         "0.0033173726",
         "0.0033125822",
         "0.0033100788",
         "0.0033100985",
         "0.0033126327",
         "0.003317413",
         "0.003323957",
         "0.003331622",
         "0.003339677",
         "0.0033473663",
         "0.003354",
         "0.003358992",
         "0.0033619173",
         "0.0033625134",
         "0.0033607173",
         "0.0033566696",
         "0.0033506998",
         "0.0033433344",
         "0.0033352552",
         "0.0033272286",
         "0.0033200374",
         "0.0033143961",
         "0.0033108601",
         "0.0033097742",
         "0.0033112413",
         "0.0033150953",
         "0.0033209487",
         "0.0033282149",
         "0.0033361951",
         "0.0033441333",
         "0.0033513014",
         "0.0033570672",
         "0.0033609266",
         "0.0033625497",
         "0.0033617842",
         "0.0033586805",
         "0.0033534851",
         "0.003346653",
         "0.0033387884",
         "0.003330643",
         "0.0033229976",
         "0.003316607",
         "0.0033121028",
         "0.0033099318",
         "0.0033102997",
         "0.0033131563",
         "0.0033182069",
         "0.0033249408",
         "0.0033327052",
         "0.003340752",
         "0.0033483377",
         "0.0033547815",
         "0.003359515",
         "0.0033621353",
         "0.0033624067",
         "0.0033602961",
         "0.0033559636",
         "0.0033497724",
         "0.0033422697",
         "0.0033341516",
         "0.0033261927",
         "0.0033191731",
         "0.0033137845",
         "0.003310565",
         "0.003309823",
         "0.0033116282",
         "0.00331578",
         "0.0033218602",
         "0.0033292687",
         "0.0033372866",
         "0.0033451603",
         "0.003352175",
         "0.0033577087",
         "0.0033612808",
         "0.0033625842",
         "0.0033614964",
         "0.0033580936",
         "0.003352645",
         "0.003345634",
         "0.0033376901",
         "0.0033295625",
         "0.0033220446",
         "0.0033158755",
         "0.0033116662",
         "0.0033098294",
         "0.0033105414",
         "0.0033137165",
         "0.0033190309",
         "0.0033259462",
         "0.0033337923",
         "0.003341818",
         "0.0033492893",
         "0.0033555294",
         "0.0033600004",
         "0.0033623115",
         "0.003362261",
         "0.003359837",
         "0.0033552262",
         "0.0033488206",
         "0.003341194",
         "0.0033330515",
         "0.0033251739",
         "0.0033183354",
         "0.003313214",
         "0.0033103172",
         "0.0033099216",
         "0.0033120571",
         "0.0033165019",
         "0.0033227974",
         "0.0033303325",
         "0.0033383737",
         "0.003346171",
         "0.00335302",
         "0.0033583129",
         "0.0033615942",
         "0.0033625776",
         "0.0033611679",
         "0.0033574677",
         "0.0033517804",
         "0.0033445996",
         "0.0033365851",
         "0.0033284957",
         "0.003321118",
         "0.0033151817",
         "0.0033112722",
         "0.0033097765",
         "0.0033108334",
         "0.0033143193",
         "0.0033198863",
         "0.0033269676",
         "0.0033348808",
         "0.0033428753",
         "0.0033502167",
         "0.0033562488",
         "0.003360445",
         "0.0033624454",
         "0.0033620703",
         "0.0033593324",
         "0.003354456",
         "0.00334785",
         "0.0034764532",
         "0.0036021178",
         "0.0036360847",
         "0.0036090205",
         "0.0035633217",
         "0.0035219311",
         "0.0034916801",
         "0.0034720607",
         "0.003460432",
         "0.0034541395",
         "0.0034511432",
         "0.0034500447",
         "0.0034499494",
         "0.0034503236",
         "0.003450869",
         "0.0034514228",
         "0.0034519157",
         "0.0034523231",
         "0.003452641",
         "0.0034528812",
         "0.0034530584",
         "0.0034531842",
         "0.0034532708",
         "0.0034533325",
         "0.0034533744",
         "0.003453399",
         "0.0034534163",
         "0.0034534272",
         "0.0034534354",
         "0.0034534386",
         "0.003453441",
         "0.0034534403",
         "0.003453442",
         "0.003453442",
         "0.0034534396",
         "0.003453442",
         "0.003453442",
         "0.0034534396",
         "0.0034534403",
         "0.0034534396",
         "0.0034534396",
         "0.0034534396",
         "0.0034534396",
         "0.0034534403",
         "0.0034534396",
         "0.0034534396",
         "0.0034534396",
         "0.0034534396",
         "0.0034534396",
         "0.0034534396",
         "0.0034534396",
         "0.0034534396",
         "0.0034534396",
         "0.0034534396",
         "0.0034534396",
         "0.0034534396",
         "0.0034534396",
         "0.0034534396",
         "0.0034534396",
         "0.0034534396",
         "0.0034534396",
         "0.0034534396",
         "0.0034534396",
         "0.0013709478",
         "0.0003344062",
         "9.170978e-05"
        ],
        [
         "2",
         "0.0024361843",
         "0.0025373406",
         "0.0026458795",
         "0.0027904997",
         "0.0029304265",
         "0.0030482465",
         "0.0031389818",
         "0.0032038204",
         "0.0032466776",
         "0.0032723001",
         "0.0032853393",
         "0.0032899138",
         "0.00328948",
         "0.0032867927",
         "0.0032839447",
         "0.0032824166",
         "0.0032831142",
         "0.0032864432",
         "0.0032923603",
         "0.0033004584",
         "0.0033100506",
         "0.0033202774",
         "0.0033302177",
         "0.0033389742",
         "0.00334577",
         "0.0033500108",
         "0.003351325",
         "0.0033495883",
         "0.0033449316",
         "0.0033377483",
         "0.003328683",
         "0.0033185608",
         "0.0033083402",
         "0.0032990032",
         "0.0032914642",
         "0.0032864583",
         "0.0032844678",
         "0.0032856832",
         "0.0032899727",
         "0.0032969024",
         "0.003305795",
         "0.0033157882",
         "0.0033259392",
         "0.0033353085",
         "0.0033430452",
         "0.0033484616",
         "0.0033510851",
         "0.003350676",
         "0.0033472572",
         "0.0033411107",
         "0.003332772",
         "0.0033229978",
         "0.0033127016",
         "0.0033028666",
         "0.0032944507",
         "0.0032882725",
         "0.0032849398",
         "0.003284766",
         "0.0032877584",
         "0.0032936174",
         "0.003301758",
         "0.0033113891",
         "0.003321591",
         "0.003331412",
         "0.0033399463",
         "0.0033464401",
         "0.0033503151",
         "0.0033512274",
         "0.0033490916",
         "0.003344076",
         "0.003336602",
         "0.0033273469",
         "0.0033171568",
         "0.0033070003",
         "0.0032978605",
         "0.0032906246",
         "0.0032860045",
         "0.003284444",
         "0.0032860884",
         "0.0032907627",
         "0.0032980053",
         "0.0033070988",
         "0.0033171703",
         "0.0033272717",
         "0.003336465",
         "0.0033439246",
         "0.003348987",
         "0.0033512106",
         "0.0033503862",
         "0.0033465782",
         "0.0033400983",
         "0.0033315176",
         "0.0033216178",
         "0.0033113244",
         "0.003301625",
         "0.0032934698",
         "0.003287647",
         "0.003284728",
         "0.003284987",
         "0.0032883957",
         "0.003294599",
         "0.0033029919",
         "0.0033127554",
         "0.003322962",
         "0.003332657",
         "0.0033409577",
         "0.0033471254",
         "0.0033506155",
         "0.0033511177",
         "0.0033485757",
         "0.0033431975",
         "0.0033354412",
         "0.003326001",
         "0.0033157598",
         "0.0033056852",
         "0.0032967527",
         "0.0032898362",
         "0.0032856103",
         "0.0032844802",
         "0.0032865515",
         "0.0032916046",
         "0.0032991425",
         "0.0033084205",
         "0.0033185554",
         "0.0033285855",
         "0.0033375907",
         "0.00334476",
         "0.0033494597",
         "0.0033512777",
         "0.0033500434",
         "0.003345848",
         "0.003339045",
         "0.0033302405",
         "0.0033202262",
         "0.0033099584",
         "0.003300417",
         "0.0032925315",
         "0.003287074",
         "0.0032845759",
         "0.0032852704",
         "0.0032890795",
         "0.0032956204",
         "0.003304249",
         "0.003314129",
         "0.0033243203",
         "0.0033338761",
         "0.0033419298",
         "0.0033477608",
         "0.0033508607",
         "0.0033509484",
         "0.0033480057",
         "0.0033422748",
         "0.003334247",
         "0.0033246453",
         "0.0033143687",
         "0.0033043914",
         "0.003295685",
         "0.0032890965",
         "0.0032852704",
         "0.0032845729",
         "0.0032870686",
         "0.0032924907",
         "0.0033003099",
         "0.0033097633",
         "0.0033199373",
         "0.0033298803",
         "0.003338682",
         "0.0033455512",
         "0.0033498798",
         "0.0033512865",
         "0.0033496418",
         "0.0033450718",
         "0.0033379567",
         "0.0033289355",
         "0.0033188364",
         "0.0033086052",
         "0.0032992351",
         "0.0032916367",
         "0.0032865568",
         "0.0032844795",
         "0.0032856057",
         "0.0032898143",
         "0.0032966821",
         "0.0033055309",
         "0.0033155084",
         "0.003325668",
         "0.00333507",
         "0.0033428587",
         "0.0033483491",
         "0.0033510516",
         "0.0033507273",
         "0.0033473887",
         "0.0033413097",
         "0.003333023",
         "0.0033232768",
         "0.0033129829",
         "0.0033031218",
         "0.0032946551",
         "0.0032884066",
         "0.0032849892",
         "0.003284728",
         "0.0032876376",
         "0.0032934241",
         "0.0033015094",
         "0.0033111146",
         "0.0033213147",
         "0.003331154",
         "0.0033397367",
         "0.0033462925",
         "0.0033502455",
         "0.0033512434",
         "0.0033491899",
         "0.003344246",
         "0.003336835",
         "0.0033276177",
         "0.0033174385",
         "0.0033072683",
         "0.0032980887",
         "0.0032907915",
         "0.0032860897",
         "0.003284444",
         "0.0032860038",
         "0.0032905987",
         "0.0032977788",
         "0.0033068315",
         "0.0033168904",
         "0.0033270004",
         "0.0033362343",
         "0.003343749",
         "0.003348884",
         "0.0033511883",
         "0.0033504493",
         "0.0033467154",
         "0.0033403062",
         "0.0033317758",
         "0.0034867313",
         "0.0036420075",
         "0.0036945594",
         "0.0036755889",
         "0.003632219",
         "0.0035909005",
         "0.0035601289",
         "0.0035399906",
         "0.0035279924",
         "0.0035214755",
         "0.0035183579",
         "0.0035172037",
         "0.0035170878",
         "0.003517462",
         "0.0035180196",
         "0.0035185842",
         "0.0035190894",
         "0.0035195095",
         "0.003519836",
         "0.0035200827",
         "0.0035202666",
         "0.0035203951",
         "0.0035204864",
         "0.0035205495",
         "0.003520593",
         "0.0035206191",
         "0.0035206368",
         "0.0035206485",
         "0.0035206568",
         "0.003520661",
         "0.003520663",
         "0.003520663",
         "0.0035206643",
         "0.003520663",
         "0.003520663",
         "0.0035206643",
         "0.003520663",
         "0.003520662",
         "0.003520662",
         "0.003520662",
         "0.003520662",
         "0.003520662",
         "0.003520662",
         "0.003520662",
         "0.003520662",
         "0.003520662",
         "0.003520662",
         "0.003520662",
         "0.003520662",
         "0.003520662",
         "0.003520662",
         "0.003520662",
         "0.003520662",
         "0.003520662",
         "0.003520662",
         "0.003520662",
         "0.003520662",
         "0.003520662",
         "0.003520662",
         "0.003520662",
         "0.003520662",
         "0.003520662",
         "0.003520662",
         "0.0014341291",
         "0.0003196565",
         "7.935196e-05"
        ],
        [
         "3",
         "0.0024328658",
         "0.0025411153",
         "0.002644288",
         "0.0027854342",
         "0.0029234858",
         "0.0030402176",
         "0.0031300525",
         "0.0031938297",
         "0.003235325",
         "0.003259297",
         "0.0032704955",
         "0.0032731984",
         "0.0032710263",
         "0.0032668884",
         "0.003263011",
         "0.0032609636",
         "0.003261692",
         "0.0032656007",
         "0.0032725874",
         "0.0032821458",
         "0.0032934549",
         "0.0033054978",
         "0.0033171773",
         "0.0033274333",
         "0.003335345",
         "0.0033402105",
         "0.0033416005",
         "0.0033393786",
         "0.003333724",
         "0.0033251257",
         "0.0033143607",
         "0.0033024184",
         "0.0032904306",
         "0.0032795458",
         "0.003270815",
         "0.0032650891",
         "0.0032629117",
         "0.003264489",
         "0.0032696533",
         "0.0032778964",
         "0.0032884222",
         "0.0033002123",
         "0.00331216",
         "0.0033231522",
         "0.003332188",
         "0.0033384527",
         "0.0033413942",
         "0.0033407416",
         "0.0033365374",
         "0.0033291418",
         "0.003319208",
         "0.0033076466",
         "0.0032955394",
         "0.0032840432",
         "0.003274266",
         "0.0032671534",
         "0.0032633964",
         "0.0032633482",
         "0.0032670016",
         "0.0032739982",
         "0.0032836504",
         "0.0032950272",
         "0.0033070466",
         "0.0033185848",
         "0.0033285753",
         "0.0033361262",
         "0.0033405554",
         "0.0033414674",
         "0.0033387751",
         "0.0033326983",
         "0.0033237615",
         "0.0033127815",
         "0.0033007702",
         "0.0032888653",
         "0.003278217",
         "0.0032698498",
         "0.0032645792",
         "0.0032629047",
         "0.0032649825",
         "0.0032705981",
         "0.0032792059",
         "0.0032899631",
         "0.0033018424",
         "0.0033137244",
         "0.0033245075",
         "0.0033332107",
         "0.0033390543",
         "0.0033415207",
         "0.0033403763",
         "0.0033357157",
         "0.0033279308",
         "0.00331772",
         "0.0033060194",
         "0.0032939268",
         "0.003282596",
         "0.003273131",
         "0.0032664393",
         "0.0032631692",
         "0.0032636276",
         "0.0032677648",
         "0.0032751656",
         "0.00328511",
         "0.0032966372",
         "0.0033086578",
         "0.0033200455",
         "0.0033297564",
         "0.0033369153",
         "0.00334089",
         "0.0033413153",
         "0.0033381423",
         "0.003331644",
         "0.0033223792",
         "0.0033111928",
         "0.0032991292",
         "0.0032873303",
         "0.003276932",
         "0.0032689448",
         "0.003264137",
         "0.003262967",
         "0.0032655438",
         "0.0032716028",
         "0.0032805523",
         "0.0032915245",
         "0.0033034722",
         "0.0033152688",
         "0.0033258235",
         "0.0033341818",
         "0.003339592",
         "0.0033415766",
         "0.0033399477",
         "0.0033348338",
         "0.0033266752",
         "0.0033162057",
         "0.0033043802",
         "0.0032923252",
         "0.0032811882",
         "0.003272049",
         "0.0032657883",
         "0.003263012",
         "0.0032639792",
         "0.0032685865",
         "0.0032763784",
         "0.0032865952",
         "0.0032982584",
         "0.0033102557",
         "0.0033214753",
         "0.00333089",
         "0.0033376496",
         "0.003341157",
         "0.0033410923",
         "0.0033374475",
         "0.0033305376",
         "0.00332096",
         "0.0033095905",
         "0.003297496",
         "0.0032858204",
         "0.0032756948",
         "0.0032680945",
         "0.003263759",
         "0.003263097",
         "0.003266169",
         "0.003272659",
         "0.0032819363",
         "0.003293106",
         "0.0033050992",
         "0.0033167882",
         "0.0033270987",
         "0.0033350978",
         "0.003340067",
         "0.0033415654",
         "0.0033394517",
         "0.0033338973",
         "0.0033253762",
         "0.0033146634",
         "0.0033027437",
         "0.0032907422",
         "0.0032798147",
         "0.003271017",
         "0.0032652006",
         "0.0032629194",
         "0.0032643932",
         "0.0032694645",
         "0.003277637",
         "0.0032881103",
         "0.0032998833",
         "0.0033118392",
         "0.0033228735",
         "0.0033319711",
         "0.0033383244",
         "0.0033413607",
         "0.0033408063",
         "0.0033366997",
         "0.0033293825",
         "0.0033195072",
         "0.0033079763",
         "0.0032958703",
         "0.0032843407",
         "0.003274501",
         "0.0032673068",
         "0.003263451",
         "0.0032632982",
         "0.0032668565",
         "0.0032737686",
         "0.0032833568",
         "0.0032947036",
         "0.0033067195",
         "0.0033182832",
         "0.0033283315",
         "0.0033359558",
         "0.003340478",
         "0.0033414897",
         "0.0033388953",
         "0.0033329048",
         "0.0033240397",
         "0.0033131014",
         "0.0033011015",
         "0.0032891782",
         "0.003278481",
         "0.0032700421",
         "0.0032646751",
         "0.0032629",
         "0.0032648789",
         "0.0032704019",
         "0.0032789374",
         "0.0032896472",
         "0.00330151",
         "0.003313407",
         "0.0033242365",
         "0.0033330081",
         "0.003338938",
         "0.0033414979",
         "0.003340455",
         "0.0033358827",
         "0.0033281816",
         "0.0033180253",
         "0.0034954567",
         "0.0036763225",
         "0.003745007",
         "0.003733001",
         "0.0036915482",
         "0.0036501917",
         "0.0036188932",
         "0.0035982553",
         "0.0035859074",
         "0.0035791774",
         "0.0035759474",
         "0.0035747404",
         "0.003574609",
         "0.003574985",
         "0.0035755509",
         "0.003576129",
         "0.0035766459",
         "0.0035770773",
         "0.0035774116",
         "0.0035776657",
         "0.0035778552",
         "0.003577989",
         "0.003578082",
         "0.003578147",
         "0.003578192",
         "0.0035782196",
         "0.0035782382",
         "0.00357825",
         "0.0035782584",
         "0.0035782622",
         "0.0035782654",
         "0.0035782645",
         "0.0035782664",
         "0.0035782664",
         "0.0035782645",
         "0.0035782664",
         "0.0035782664",
         "0.0035782645",
         "0.0035782654",
         "0.0035782645",
         "0.0035782645",
         "0.0035782645",
         "0.0035782645",
         "0.0035782654",
         "0.0035782645",
         "0.0035782645",
         "0.0035782645",
         "0.0035782645",
         "0.0035782645",
         "0.0035782645",
         "0.0035782645",
         "0.0035782645",
         "0.0035782645",
         "0.0035782645",
         "0.0035782645",
         "0.0035782645",
         "0.0035782645",
         "0.0035782645",
         "0.0035782645",
         "0.0035782645",
         "0.0035782645",
         "0.0035782645",
         "0.0035782645",
         "0.0014860511",
         "0.000305906",
         "6.959714e-05"
        ],
        [
         "4",
         "0.0024293622",
         "0.0025429965",
         "0.0026422366",
         "0.0027809148",
         "0.0029176956",
         "0.0030337316",
         "0.003122986",
         "0.0031860387",
         "0.0032265652",
         "0.0032493363",
         "0.0032591822",
         "0.0032604989",
         "0.003257036",
         "0.003251821",
         "0.003247178",
         "0.003244744",
         "0.003245497",
         "0.0032498362",
         "0.0032576215",
         "0.0032682724",
         "0.0032808676",
         "0.003294268",
         "0.0033072527",
         "0.0033186332",
         "0.003327384",
         "0.003332719",
         "0.0033341653",
         "0.003331582",
         "0.003325179",
         "0.003315518",
         "0.0033034813",
         "0.0032901769",
         "0.0032768652",
         "0.0032648214",
         "0.0032552024",
         "0.0032489358",
         "0.0032466168",
         "0.003248461",
         "0.0032542828",
         "0.003263507",
         "0.0032752515",
         "0.003288387",
         "0.0033016803",
         "0.0033138923",
         "0.0033239021",
         "0.0033308053",
         "0.0033339858",
         "0.003333152",
         "0.0033283597",
         "0.0033200267",
         "0.003308898",
         "0.0032959946",
         "0.0032825342",
         "0.0032697923",
         "0.0032589964",
         "0.0032511868",
         "0.0032471123",
         "0.0032471546",
         "0.0032513032",
         "0.003259148",
         "0.0032699287",
         "0.0032826127",
         "0.0032959923",
         "0.0033088208",
         "0.003319905",
         "0.0033282484",
         "0.003333095",
         "0.0033340072",
         "0.0033308968",
         "0.003324025",
         "0.0033139926",
         "0.0033017187",
         "0.0032883433",
         "0.0032751327",
         "0.0032633548",
         "0.0032541424",
         "0.0032483828",
         "0.0032466229",
         "0.0032490226",
         "0.0032553426",
         "0.0032649678",
         "0.003276969",
         "0.003290201",
         "0.0033034203",
         "0.003315393",
         "0.0033250307",
         "0.003331463",
         "0.0033341122",
         "0.0033327285",
         "0.0033274298",
         "0.0033186679",
         "0.0033072338",
         "0.0032941836",
         "0.0032807426",
         "0.0032681928",
         "0.003257749",
         "0.0032504064",
         "0.0032468745",
         "0.0032474792",
         "0.0032521614",
         "0.0032604537",
         "0.0032715576",
         "0.003284406",
         "0.0032977867",
         "0.0033104424",
         "0.003321211",
         "0.0033291182",
         "0.0033334543",
         "0.0033338228",
         "0.0033301797",
         "0.0033228388",
         "0.003312445",
         "0.003299948",
         "0.0032865186",
         "0.0032734303",
         "0.0032619373",
         "0.003253147",
         "0.0032479044",
         "0.003246705",
         "0.0032496587",
         "0.003256467",
         "0.0032664728",
         "0.003278711",
         "0.003292016",
         "0.0033051355",
         "0.0033168532",
         "0.0033261036",
         "0.0033320491",
         "0.0033341614",
         "0.0033322375",
         "0.0033264335",
         "0.0033172574",
         "0.0033055427",
         "0.0032923606",
         "0.0032789675",
         "0.0032666356",
         "0.0032565568",
         "0.003249695",
         "0.003246712",
         "0.0032478818",
         "0.003253085",
         "0.0032618113",
         "0.003273215",
         "0.0032862101",
         "0.0032995627",
         "0.003312029",
         "0.0033224656",
         "0.0033299234",
         "0.0033337385",
         "0.0033335597",
         "0.0033293914",
         "0.0033215943",
         "0.003310855",
         "0.003298161",
         "0.003284705",
         "0.0032717595",
         "0.0032605717",
         "0.0032522173",
         "0.0032474985",
         "0.0032468613",
         "0.0032503647",
         "0.0032576495",
         "0.0032680184",
         "0.0032804734",
         "0.0032938255",
         "0.0033068247",
         "0.0033182683",
         "0.0033271147",
         "0.0033325672",
         "0.0033341346",
         "0.0033316694",
         "0.0033253771",
         "0.003315801",
         "0.003303819",
         "0.0032905384",
         "0.0032772105",
         "0.003265119",
         "0.0032554227",
         "0.003249056",
         "0.0032466238",
         "0.0032483542",
         "0.0032540709",
         "0.003263217",
         "0.0032749048",
         "0.0032880204",
         "0.0033013243",
         "0.00331358",
         "0.0033236619",
         "0.0033306647",
         "0.0033339506",
         "0.0033332275",
         "0.0033285404",
         "0.0033202965",
         "0.0033092299",
         "0.0032963625",
         "0.003282899",
         "0.003270122",
         "0.003259257",
         "0.0032513542",
         "0.0032471702",
         "0.003247099",
         "0.0032511381",
         "0.003258891",
         "0.0032696028",
         "0.0032822518",
         "0.0032956293",
         "0.0033084836",
         "0.0033196334",
         "0.0033280612",
         "0.003333012",
         "0.0033340352",
         "0.003331035",
         "0.003324257",
         "0.0033143046",
         "0.0033020761",
         "0.003288711",
         "0.0032754797",
         "0.0032636472",
         "0.0032543526",
         "0.0032484876",
         "0.0032466145",
         "0.0032489048",
         "0.0032551223",
         "0.0032646696",
         "0.0032766182",
         "0.0032898325",
         "0.0033030666",
         "0.0033150925",
         "0.003324808",
         "0.0033313353",
         "0.0033340908",
         "0.003332819",
         "0.0033276193",
         "0.0033189473",
         "0.0033075751",
         "0.0035019943",
         "0.0037024103",
         "0.0037834859",
         "0.003776811",
         "0.0037367868",
         "0.0036953585",
         "0.0036636214",
         "0.0036425772",
         "0.0036299473",
         "0.0036230485",
         "0.003619728",
         "0.0036184802",
         "0.003618336",
         "0.0036187132",
         "0.0036192879",
         "0.0036198765",
         "0.0036204027",
         "0.0036208422",
         "0.003621184",
         "0.0036214439",
         "0.0036216364",
         "0.0036217738",
         "0.0036218688",
         "0.003621937",
         "0.0036219826",
         "0.0036220104",
         "0.0036220304",
         "0.0036220425",
         "0.003622051",
         "0.0036220544",
         "0.003622058",
         "0.0036220571",
         "0.0036220595",
         "0.0036220604",
         "0.0036220571",
         "0.0036220595",
         "0.0036220604",
         "0.003622058",
         "0.0036220595",
         "0.003622058",
         "0.003622058",
         "0.003622058",
         "0.003622058",
         "0.0036220595",
         "0.003622058",
         "0.003622058",
         "0.003622058",
         "0.003622058",
         "0.003622058",
         "0.003622058",
         "0.003622058",
         "0.003622058",
         "0.003622058",
         "0.003622058",
         "0.003622058",
         "0.003622058",
         "0.003622058",
         "0.003622058",
         "0.003622058",
         "0.003622058",
         "0.003622058",
         "0.003622058",
         "0.003622058",
         "0.0015245946",
         "0.00029517285",
         "6.280698e-05"
        ]
       ],
       "shape": {
        "columns": 301,
        "rows": 5
       }
      },
      "text/html": [
       "<div>\n",
       "<style scoped>\n",
       "    .dataframe tbody tr th:only-of-type {\n",
       "        vertical-align: middle;\n",
       "    }\n",
       "\n",
       "    .dataframe tbody tr th {\n",
       "        vertical-align: top;\n",
       "    }\n",
       "\n",
       "    .dataframe thead th {\n",
       "        text-align: right;\n",
       "    }\n",
       "</style>\n",
       "<table border=\"1\" class=\"dataframe\">\n",
       "  <thead>\n",
       "    <tr style=\"text-align: right;\">\n",
       "      <th></th>\n",
       "      <th>0</th>\n",
       "      <th>1</th>\n",
       "      <th>2</th>\n",
       "      <th>3</th>\n",
       "      <th>4</th>\n",
       "      <th>5</th>\n",
       "      <th>6</th>\n",
       "      <th>7</th>\n",
       "      <th>8</th>\n",
       "      <th>9</th>\n",
       "      <th>...</th>\n",
       "      <th>291</th>\n",
       "      <th>292</th>\n",
       "      <th>293</th>\n",
       "      <th>294</th>\n",
       "      <th>295</th>\n",
       "      <th>296</th>\n",
       "      <th>297</th>\n",
       "      <th>298</th>\n",
       "      <th>299</th>\n",
       "      <th>300</th>\n",
       "    </tr>\n",
       "  </thead>\n",
       "  <tbody>\n",
       "    <tr>\n",
       "      <th>0</th>\n",
       "      <td>0.002450</td>\n",
       "      <td>0.002537</td>\n",
       "      <td>0.002654</td>\n",
       "      <td>0.002804</td>\n",
       "      <td>0.002947</td>\n",
       "      <td>0.003066</td>\n",
       "      <td>0.003157</td>\n",
       "      <td>0.003223</td>\n",
       "      <td>0.003268</td>\n",
       "      <td>0.003297</td>\n",
       "      <td>...</td>\n",
       "      <td>0.003412</td>\n",
       "      <td>0.003412</td>\n",
       "      <td>0.003412</td>\n",
       "      <td>0.003412</td>\n",
       "      <td>0.003412</td>\n",
       "      <td>0.003412</td>\n",
       "      <td>0.003412</td>\n",
       "      <td>0.001353</td>\n",
       "      <td>0.000355</td>\n",
       "      <td>0.000105</td>\n",
       "    </tr>\n",
       "    <tr>\n",
       "      <th>1</th>\n",
       "      <td>0.002438</td>\n",
       "      <td>0.002530</td>\n",
       "      <td>0.002646</td>\n",
       "      <td>0.002795</td>\n",
       "      <td>0.002937</td>\n",
       "      <td>0.003057</td>\n",
       "      <td>0.003149</td>\n",
       "      <td>0.003215</td>\n",
       "      <td>0.003260</td>\n",
       "      <td>0.003287</td>\n",
       "      <td>...</td>\n",
       "      <td>0.003453</td>\n",
       "      <td>0.003453</td>\n",
       "      <td>0.003453</td>\n",
       "      <td>0.003453</td>\n",
       "      <td>0.003453</td>\n",
       "      <td>0.003453</td>\n",
       "      <td>0.003453</td>\n",
       "      <td>0.001371</td>\n",
       "      <td>0.000334</td>\n",
       "      <td>0.000092</td>\n",
       "    </tr>\n",
       "    <tr>\n",
       "      <th>2</th>\n",
       "      <td>0.002436</td>\n",
       "      <td>0.002537</td>\n",
       "      <td>0.002646</td>\n",
       "      <td>0.002790</td>\n",
       "      <td>0.002930</td>\n",
       "      <td>0.003048</td>\n",
       "      <td>0.003139</td>\n",
       "      <td>0.003204</td>\n",
       "      <td>0.003247</td>\n",
       "      <td>0.003272</td>\n",
       "      <td>...</td>\n",
       "      <td>0.003521</td>\n",
       "      <td>0.003521</td>\n",
       "      <td>0.003521</td>\n",
       "      <td>0.003521</td>\n",
       "      <td>0.003521</td>\n",
       "      <td>0.003521</td>\n",
       "      <td>0.003521</td>\n",
       "      <td>0.001434</td>\n",
       "      <td>0.000320</td>\n",
       "      <td>0.000079</td>\n",
       "    </tr>\n",
       "    <tr>\n",
       "      <th>3</th>\n",
       "      <td>0.002433</td>\n",
       "      <td>0.002541</td>\n",
       "      <td>0.002644</td>\n",
       "      <td>0.002785</td>\n",
       "      <td>0.002923</td>\n",
       "      <td>0.003040</td>\n",
       "      <td>0.003130</td>\n",
       "      <td>0.003194</td>\n",
       "      <td>0.003235</td>\n",
       "      <td>0.003259</td>\n",
       "      <td>...</td>\n",
       "      <td>0.003578</td>\n",
       "      <td>0.003578</td>\n",
       "      <td>0.003578</td>\n",
       "      <td>0.003578</td>\n",
       "      <td>0.003578</td>\n",
       "      <td>0.003578</td>\n",
       "      <td>0.003578</td>\n",
       "      <td>0.001486</td>\n",
       "      <td>0.000306</td>\n",
       "      <td>0.000070</td>\n",
       "    </tr>\n",
       "    <tr>\n",
       "      <th>4</th>\n",
       "      <td>0.002429</td>\n",
       "      <td>0.002543</td>\n",
       "      <td>0.002642</td>\n",
       "      <td>0.002781</td>\n",
       "      <td>0.002918</td>\n",
       "      <td>0.003034</td>\n",
       "      <td>0.003123</td>\n",
       "      <td>0.003186</td>\n",
       "      <td>0.003227</td>\n",
       "      <td>0.003249</td>\n",
       "      <td>...</td>\n",
       "      <td>0.003622</td>\n",
       "      <td>0.003622</td>\n",
       "      <td>0.003622</td>\n",
       "      <td>0.003622</td>\n",
       "      <td>0.003622</td>\n",
       "      <td>0.003622</td>\n",
       "      <td>0.003622</td>\n",
       "      <td>0.001525</td>\n",
       "      <td>0.000295</td>\n",
       "      <td>0.000063</td>\n",
       "    </tr>\n",
       "  </tbody>\n",
       "</table>\n",
       "<p>5 rows × 301 columns</p>\n",
       "</div>"
      ],
      "text/plain": [
       "        0         1         2         3         4         5         6    \\\n",
       "0  0.002450  0.002537  0.002654  0.002804  0.002947  0.003066  0.003157   \n",
       "1  0.002438  0.002530  0.002646  0.002795  0.002937  0.003057  0.003149   \n",
       "2  0.002436  0.002537  0.002646  0.002790  0.002930  0.003048  0.003139   \n",
       "3  0.002433  0.002541  0.002644  0.002785  0.002923  0.003040  0.003130   \n",
       "4  0.002429  0.002543  0.002642  0.002781  0.002918  0.003034  0.003123   \n",
       "\n",
       "        7         8         9    ...       291       292       293       294  \\\n",
       "0  0.003223  0.003268  0.003297  ...  0.003412  0.003412  0.003412  0.003412   \n",
       "1  0.003215  0.003260  0.003287  ...  0.003453  0.003453  0.003453  0.003453   \n",
       "2  0.003204  0.003247  0.003272  ...  0.003521  0.003521  0.003521  0.003521   \n",
       "3  0.003194  0.003235  0.003259  ...  0.003578  0.003578  0.003578  0.003578   \n",
       "4  0.003186  0.003227  0.003249  ...  0.003622  0.003622  0.003622  0.003622   \n",
       "\n",
       "        295       296       297       298       299       300  \n",
       "0  0.003412  0.003412  0.003412  0.001353  0.000355  0.000105  \n",
       "1  0.003453  0.003453  0.003453  0.001371  0.000334  0.000092  \n",
       "2  0.003521  0.003521  0.003521  0.001434  0.000320  0.000079  \n",
       "3  0.003578  0.003578  0.003578  0.001486  0.000306  0.000070  \n",
       "4  0.003622  0.003622  0.003622  0.001525  0.000295  0.000063  \n",
       "\n",
       "[5 rows x 301 columns]"
      ]
     },
     "execution_count": 67,
     "metadata": {},
     "output_type": "execute_result"
    }
   ],
   "source": [
    "\n",
    "att = attn_train.detach().numpy()\n",
    "dataArr = []\n",
    "for sample in range(0, att.shape[0]):\n",
    "    for head in range(0, att.shape[2]):\n",
    "        data = att[sample, :, head, :] \n",
    "        dataArr.append(data[-1,:]) # Can choose -2 or -3 for specific output\n",
    "\n",
    "df = pd.DataFrame(data)\n",
    "df.head()"
   ]
  },
  {
   "cell_type": "code",
   "execution_count": 68,
   "id": "8a2930cc",
   "metadata": {},
   "outputs": [
    {
     "data": {
      "text/plain": [
       "Text(0, 0.5, 'Attention Score')"
      ]
     },
     "execution_count": 68,
     "metadata": {},
     "output_type": "execute_result"
    },
    {
     "data": {
      "image/png": "[encoded data removed]",
      "text/plain": [
       "<Figure size 2000x400 with 1 Axes>"
      ]
     },
     "metadata": {},
     "output_type": "display_data"
    }
   ],
   "source": [
    "import matplotlib.pyplot as plt\n",
    "fig, ax = plt.subplots(figsize=(20,4))\n",
    "df.mean(axis=0).plot(logy=True, ax=ax)\n",
    "ax.set_title(\"Attention\")\n",
    "ax.set_xlabel(\"Time Step\")\n",
    "ax.set_ylabel(\"Attention Score\")"
   ]
  },
  {
   "cell_type": "code",
   "execution_count": null,
   "id": "08e5b4c4",
   "metadata": {},
   "outputs": [],
   "source": []
  }
 ],
 "metadata": {
  "kernelspec": {
   "display_name": ".venv",
   "language": "python",
   "name": "python3"
  },
  "language_info": {
   "codemirror_mode": {
    "name": "ipython",
    "version": 3
   },
   "file_extension": ".py",
   "mimetype": "text/x-python",
   "name": "python",
   "nbconvert_exporter": "python",
   "pygments_lexer": "ipython3",
   "version": "3.12.10"
  }
 },
 "nbformat": 4,
 "nbformat_minor": 5
}
