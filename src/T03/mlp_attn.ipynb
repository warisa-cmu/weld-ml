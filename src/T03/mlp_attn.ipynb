{
 "cells": [
  {
   "cell_type": "code",
   "execution_count": 80,
   "id": "2d0cd0ce",
   "metadata": {},
   "outputs": [
    {
     "name": "stdout",
     "output_type": "stream",
     "text": [
      "The autoreload extension is already loaded. To reload it, use:\n",
      "  %reload_ext autoreload\n"
     ]
    }
   ],
   "source": [
    "%load_ext autoreload\n",
    "%autoreload 2\n"
   ]
  },
  {
   "cell_type": "code",
   "execution_count": 81,
   "id": "b5660f71",
   "metadata": {},
   "outputs": [],
   "source": [
    "import copy\n",
    "\n",
    "import matplotlib.pyplot as plt\n",
    "import numpy as np\n",
    "import pandas as pd\n",
    "import torch\n",
    "import torch.nn as nn\n",
    "import torch.optim as optim\n",
    "import tqdm\n",
    "from T01_prototype.S00_utils import loadPickle, plot_res, store_results\n",
    "from sklearn.preprocessing import MinMaxScaler, StandardScaler"
   ]
  },
  {
   "cell_type": "code",
   "execution_count": 82,
   "id": "cb46c495",
   "metadata": {},
   "outputs": [],
   "source": [
    "from T02_fusion_transformer.S02_attn.models import MyModel_Attn as MyModel"
   ]
  },
  {
   "cell_type": "code",
   "execution_count": 83,
   "id": "3a941414",
   "metadata": {},
   "outputs": [
    {
     "data": {
      "application/vnd.microsoft.datawrangler.viewer.v0+json": {
       "columns": [
        {
         "name": "id",
         "rawType": "object",
         "type": "string"
        },
        {
         "name": "m1",
         "rawType": "float64",
         "type": "float"
        },
        {
         "name": "m2",
         "rawType": "float64",
         "type": "float"
        },
        {
         "name": "m3",
         "rawType": "float64",
         "type": "float"
        },
        {
         "name": "s1__autocorrelation__lag_8",
         "rawType": "float64",
         "type": "float"
        },
        {
         "name": "s1__autocorrelation__lag_9",
         "rawType": "float64",
         "type": "float"
        },
        {
         "name": "s1__autocorrelation__lag_7",
         "rawType": "float64",
         "type": "float"
        },
        {
         "name": "s1__autocorrelation__lag_6",
         "rawType": "float64",
         "type": "float"
        },
        {
         "name": "s1__autocorrelation__lag_5",
         "rawType": "float64",
         "type": "float"
        },
        {
         "name": "s1__autocorrelation__lag_4",
         "rawType": "float64",
         "type": "float"
        },
        {
         "name": "s1__longest_strike_above_mean",
         "rawType": "int64",
         "type": "integer"
        },
        {
         "name": "s1__autocorrelation__lag_3",
         "rawType": "float64",
         "type": "float"
        },
        {
         "name": "s1__approximate_entropy__m_2__r_0.7",
         "rawType": "float64",
         "type": "float"
        },
        {
         "name": "s1__longest_strike_below_mean",
         "rawType": "int64",
         "type": "integer"
        },
        {
         "name": "s1__autocorrelation__lag_2",
         "rawType": "float64",
         "type": "float"
        },
        {
         "name": "s1__approximate_entropy__m_2__r_0.9",
         "rawType": "float64",
         "type": "float"
        },
        {
         "name": "s1__permutation_entropy__dimension_3__tau_1",
         "rawType": "float64",
         "type": "float"
        },
        {
         "name": "s1__autocorrelation__lag_1",
         "rawType": "float64",
         "type": "float"
        },
        {
         "name": "s1__partial_autocorrelation__lag_1",
         "rawType": "float64",
         "type": "float"
        },
        {
         "name": "s1__permutation_entropy__dimension_5__tau_1",
         "rawType": "float64",
         "type": "float"
        },
        {
         "name": "s1__permutation_entropy__dimension_4__tau_1",
         "rawType": "float64",
         "type": "float"
        },
        {
         "name": "s1__permutation_entropy__dimension_6__tau_1",
         "rawType": "float64",
         "type": "float"
        },
        {
         "name": "s1__permutation_entropy__dimension_7__tau_1",
         "rawType": "float64",
         "type": "float"
        },
        {
         "name": "s1__cid_ce__normalize_True",
         "rawType": "float64",
         "type": "float"
        },
        {
         "name": "s1__approximate_entropy__m_2__r_0.3",
         "rawType": "float64",
         "type": "float"
        },
        {
         "name": "s1__partial_autocorrelation__lag_8",
         "rawType": "float64",
         "type": "float"
        },
        {
         "name": "s1__partial_autocorrelation__lag_9",
         "rawType": "float64",
         "type": "float"
        },
        {
         "name": "s1__partial_autocorrelation__lag_7",
         "rawType": "float64",
         "type": "float"
        },
        {
         "name": "s1__partial_autocorrelation__lag_6",
         "rawType": "float64",
         "type": "float"
        },
        {
         "name": "s1__number_peaks__n_1",
         "rawType": "int64",
         "type": "integer"
        },
        {
         "name": "s1__number_peaks__n_3",
         "rawType": "int64",
         "type": "integer"
        },
        {
         "name": "s1__number_peaks__n_5",
         "rawType": "int64",
         "type": "integer"
        },
        {
         "name": "s1__number_cwt_peaks__n_1",
         "rawType": "int64",
         "type": "integer"
        },
        {
         "name": "s1__number_peaks__n_10",
         "rawType": "int64",
         "type": "integer"
        },
        {
         "name": "s1__ar_coefficient__coeff_8__k_10",
         "rawType": "float64",
         "type": "float"
        },
        {
         "name": "s1__partial_autocorrelation__lag_5",
         "rawType": "float64",
         "type": "float"
        },
        {
         "name": "s1__number_cwt_peaks__n_5",
         "rawType": "int64",
         "type": "integer"
        },
        {
         "name": "s1__spkt_welch_density__coeff_5",
         "rawType": "float64",
         "type": "float"
        },
        {
         "name": "s1__agg_autocorrelation__f_agg_\"median\"__maxlag_40",
         "rawType": "float64",
         "type": "float"
        },
        {
         "name": "s1__approximate_entropy__m_2__r_0.5",
         "rawType": "float64",
         "type": "float"
        },
        {
         "name": "s1__agg_autocorrelation__f_agg_\"mean\"__maxlag_40",
         "rawType": "float64",
         "type": "float"
        },
        {
         "name": "s1__ar_coefficient__coeff_3__k_10",
         "rawType": "float64",
         "type": "float"
        },
        {
         "name": "s1__approximate_entropy__m_2__r_0.1",
         "rawType": "float64",
         "type": "float"
        },
        {
         "name": "s1__lempel_ziv_complexity__bins_3",
         "rawType": "float64",
         "type": "float"
        },
        {
         "name": "s1__partial_autocorrelation__lag_4",
         "rawType": "float64",
         "type": "float"
        },
        {
         "name": "s1__fft_coefficient__attr_\"abs\"__coeff_7",
         "rawType": "float64",
         "type": "float"
        },
        {
         "name": "s1__agg_autocorrelation__f_agg_\"var\"__maxlag_40",
         "rawType": "float64",
         "type": "float"
        },
        {
         "name": "s1__spkt_welch_density__coeff_2",
         "rawType": "float64",
         "type": "float"
        },
        {
         "name": "y1",
         "rawType": "float64",
         "type": "float"
        },
        {
         "name": "y2",
         "rawType": "float64",
         "type": "float"
        },
        {
         "name": "y3",
         "rawType": "float64",
         "type": "float"
        }
       ],
       "ref": "a76a33b6-4194-4aec-8c6e-cce24a199b29",
       "rows": [
        [
         "E001",
         "150.2237162282709",
         "1176.177277778291",
         "1.142097497096118",
         "-0.3054339202505594",
         "-0.5191912937471133",
         "-0.07482931020721237",
         "0.1598964088207946",
         "0.385790122546617",
         "0.5903865308147479",
         "14",
         "0.7623960064154589",
         "0.2347346166610531",
         "14",
         "0.8923275547414669",
         "0.1627475159081164",
         "1.016163897369947",
         "0.9730124996338729",
         "0.9730124996338729",
         "1.62687847092397",
         "1.323937191565679",
         "1.924233458480636",
         "2.215079757527388",
         "3.966110221397809",
         "0.2054671462622681",
         "-0.226538711723462",
         "-0.2337969396502632",
         "-0.2313599744498629",
         "-0.2496215600475206",
         "11",
         "11",
         "11",
         "12",
         "10",
         "-0.1228645658353847",
         "-0.2871916578780337",
         "12",
         "2.302092584356073e-06",
         "-0.04029898618473704",
         "0.294575630574742",
         "-0.02381745749888618",
         "0.1839963654696146",
         "0.1585670576081162",
         "0.2041522491349481",
         "-0.3600840997659662",
         "0.2936172551085162",
         "0.4994878943759984",
         "5.88681152271281e-08",
         "55.46043367834409",
         "1.065916993455059",
         "114.5786204103125"
        ],
        [
         "E002",
         "102.5342678762004",
         "1483.654981916516",
         "1.104716419796098",
         "-0.2437852899127758",
         "-0.4542619780809531",
         "-0.02100206449903134",
         "0.2028355495861272",
         "0.4164225579112382",
         "0.6089720749981536",
         "14",
         "0.770760087739035",
         "0.222246210142254",
         "14",
         "0.8936165162838874",
         "0.1560670115588841",
         "0.9993568167921798",
         "0.9713377747746932",
         "0.9713377747746935",
         "1.576553073550272",
         "1.289890751104698",
         "1.858735405789931",
         "2.135705047559143",
         "3.6526435059868",
         "0.2110247401319967",
         "-0.2244198468351331",
         "-0.2325474580042485",
         "-0.2280495585317081",
         "-0.2444386143773333",
         "10",
         "9",
         "9",
         "10",
         "9",
         "-0.1251216792908884",
         "-0.278643948183462",
         "11",
         "9.194826079354894e-05",
         "0.005710727812269289",
         "0.295793386116199",
         "0.0174124077277948",
         "0.184369500523606",
         "0.1447418877366329",
         "0.2030075187969925",
         "-0.3443643252966841",
         "6.14237252208545",
         "0.4777432349844861",
         "3.64362055523439e-06",
         "50.64030573896383",
         "1.285665791352698",
         "124.6514837646304"
        ],
        [
         "E003",
         "119.8905490887243",
         "1254.897450653388",
         "2.162773409498691",
         "-0.3290060356266322",
         "-0.5434049971045741",
         "-0.09591338517658776",
         "0.1426122079089866",
         "0.3730020599120391",
         "0.5821514156665052",
         "14",
         "0.7581648639475573",
         "0.2394955454843397",
         "13",
         "0.8910329028051504",
         "0.165112565585219",
         "1.020465652695851",
         "0.9732011747853436",
         "0.9732011747853435",
         "1.646824878831804",
         "1.343150699207861",
         "1.944883653328339",
         "2.236309406751573",
         "3.682674589911052",
         "0.2017099991694988",
         "-0.2299484930997584",
         "-0.2383027291229635",
         "-0.2342132613799649",
         "-0.2523388214511478",
         "9",
         "9",
         "9",
         "10",
         "9",
         "-0.1218498437486562",
         "-0.2902894407037535",
         "11",
         "0.002991810076493899",
         "-0.06252100701744168",
         "0.2953766624528682",
         "-0.03807682374626591",
         "0.1840355025745247",
         "0.1442678316464963",
         "0.2081632653061224",
         "-0.3646107419088709",
         "26.78328344000789",
         "0.5064350830051291",
         "0.0001590028102571489",
         "50.83240472683809",
         "1.154859212683363",
         "57.01805417221681"
        ],
        [
         "E004",
         "162.8307992564844",
         "1302.043195135213",
         "1.30828321525042",
         "-0.0651521463136262",
         "-0.2664976926877177",
         "0.1389126502736655",
         "0.3371865864369897",
         "0.5214009296929024",
         "0.6838731666679987",
         "16",
         "0.8178274013703623",
         "0.1937549744108571",
         "16",
         "0.9176769485378873",
         "0.1370265745426402",
         "0.9726561048364449",
         "0.9792573362550936",
         "0.9792573362550935",
         "1.522951107576066",
         "1.249446870300736",
         "1.792685681282132",
         "2.058077147838571",
         "3.440933521168234",
         "0.2300116952585212",
         "-0.2135504176683748",
         "-0.2150938543416185",
         "-0.2220255651562478",
         "-0.2427030761830581",
         "9",
         "9",
         "9",
         "10",
         "9",
         "-0.1269822026600489",
         "-0.2818301171729558",
         "11",
         "0.03254871106161762",
         "0.167136898506159",
         "0.2838976837493383",
         "0.09874930838143854",
         "0.1872132457419277",
         "0.1373263951521655",
         "0.1936619718309859",
         "-0.3554414001104249",
         "33.22759074069934",
         "0.4605467208889374",
         "0.0007926165201968495",
         "62.47654543460142",
         "1.025160763802677",
         "132.2212175987509"
        ],
        [
         "E005",
         "165.72095638279",
         "1154.482313700376",
         "1.566829730087374",
         "-0.3048808371286578",
         "-0.5181766102806283",
         "-0.07483610968997173",
         "0.1593210142907042",
         "0.3847279896743889",
         "0.5890028422139049",
         "14",
         "0.7609243327125759",
         "0.2381097596952311",
         "14",
         "0.8910483643868621",
         "0.1626447113788911",
         "1.014791878416955",
         "0.9722267728214827",
         "0.9722267728214827",
         "1.62111225074021",
         "1.320327783744526",
         "1.916410952543579",
         "2.205328048547567",
         "3.995534195873079",
         "0.2072160931479998",
         "-0.2306634372538851",
         "-0.2403558289400577",
         "-0.233806167154005",
         "-0.2506967126737985",
         "11",
         "11",
         "11",
         "12",
         "10",
         "-0.1230299291182262",
         "-0.2868315494200753",
         "12",
         "0.005794605001799167",
         "-0.04382424818770635",
         "0.2887581856673982",
         "-0.0222890433765183",
         "0.1839782130968768",
         "0.1285455017839277",
         "0.1924398625429553",
         "-0.3575884147822471",
         "11.4394702754538",
         "0.4979403938074322",
         "0.0001462830650636705",
         "57.63443803240473",
         "1.043776221564284",
         "92.16026864580095"
        ]
       ],
       "shape": {
        "columns": 50,
        "rows": 5
       }
      },
      "text/html": [
       "<div>\n",
       "<style scoped>\n",
       "    .dataframe tbody tr th:only-of-type {\n",
       "        vertical-align: middle;\n",
       "    }\n",
       "\n",
       "    .dataframe tbody tr th {\n",
       "        vertical-align: top;\n",
       "    }\n",
       "\n",
       "    .dataframe thead th {\n",
       "        text-align: right;\n",
       "    }\n",
       "</style>\n",
       "<table border=\"1\" class=\"dataframe\">\n",
       "  <thead>\n",
       "    <tr style=\"text-align: right;\">\n",
       "      <th></th>\n",
       "      <th>m1</th>\n",
       "      <th>m2</th>\n",
       "      <th>m3</th>\n",
       "      <th>s1__autocorrelation__lag_8</th>\n",
       "      <th>s1__autocorrelation__lag_9</th>\n",
       "      <th>s1__autocorrelation__lag_7</th>\n",
       "      <th>s1__autocorrelation__lag_6</th>\n",
       "      <th>s1__autocorrelation__lag_5</th>\n",
       "      <th>s1__autocorrelation__lag_4</th>\n",
       "      <th>s1__longest_strike_above_mean</th>\n",
       "      <th>...</th>\n",
       "      <th>s1__ar_coefficient__coeff_3__k_10</th>\n",
       "      <th>s1__approximate_entropy__m_2__r_0.1</th>\n",
       "      <th>s1__lempel_ziv_complexity__bins_3</th>\n",
       "      <th>s1__partial_autocorrelation__lag_4</th>\n",
       "      <th>s1__fft_coefficient__attr_\"abs\"__coeff_7</th>\n",
       "      <th>s1__agg_autocorrelation__f_agg_\"var\"__maxlag_40</th>\n",
       "      <th>s1__spkt_welch_density__coeff_2</th>\n",
       "      <th>y1</th>\n",
       "      <th>y2</th>\n",
       "      <th>y3</th>\n",
       "    </tr>\n",
       "    <tr>\n",
       "      <th>id</th>\n",
       "      <th></th>\n",
       "      <th></th>\n",
       "      <th></th>\n",
       "      <th></th>\n",
       "      <th></th>\n",
       "      <th></th>\n",
       "      <th></th>\n",
       "      <th></th>\n",
       "      <th></th>\n",
       "      <th></th>\n",
       "      <th></th>\n",
       "      <th></th>\n",
       "      <th></th>\n",
       "      <th></th>\n",
       "      <th></th>\n",
       "      <th></th>\n",
       "      <th></th>\n",
       "      <th></th>\n",
       "      <th></th>\n",
       "      <th></th>\n",
       "      <th></th>\n",
       "    </tr>\n",
       "  </thead>\n",
       "  <tbody>\n",
       "    <tr>\n",
       "      <th>E001</th>\n",
       "      <td>150.223716</td>\n",
       "      <td>1176.177278</td>\n",
       "      <td>1.142097</td>\n",
       "      <td>-0.305434</td>\n",
       "      <td>-0.519191</td>\n",
       "      <td>-0.074829</td>\n",
       "      <td>0.159896</td>\n",
       "      <td>0.385790</td>\n",
       "      <td>0.590387</td>\n",
       "      <td>14</td>\n",
       "      <td>...</td>\n",
       "      <td>0.183996</td>\n",
       "      <td>0.158567</td>\n",
       "      <td>0.204152</td>\n",
       "      <td>-0.360084</td>\n",
       "      <td>0.293617</td>\n",
       "      <td>0.499488</td>\n",
       "      <td>5.886812e-08</td>\n",
       "      <td>55.460434</td>\n",
       "      <td>1.065917</td>\n",
       "      <td>114.578620</td>\n",
       "    </tr>\n",
       "    <tr>\n",
       "      <th>E002</th>\n",
       "      <td>102.534268</td>\n",
       "      <td>1483.654982</td>\n",
       "      <td>1.104716</td>\n",
       "      <td>-0.243785</td>\n",
       "      <td>-0.454262</td>\n",
       "      <td>-0.021002</td>\n",
       "      <td>0.202836</td>\n",
       "      <td>0.416423</td>\n",
       "      <td>0.608972</td>\n",
       "      <td>14</td>\n",
       "      <td>...</td>\n",
       "      <td>0.184370</td>\n",
       "      <td>0.144742</td>\n",
       "      <td>0.203008</td>\n",
       "      <td>-0.344364</td>\n",
       "      <td>6.142373</td>\n",
       "      <td>0.477743</td>\n",
       "      <td>3.643621e-06</td>\n",
       "      <td>50.640306</td>\n",
       "      <td>1.285666</td>\n",
       "      <td>124.651484</td>\n",
       "    </tr>\n",
       "    <tr>\n",
       "      <th>E003</th>\n",
       "      <td>119.890549</td>\n",
       "      <td>1254.897451</td>\n",
       "      <td>2.162773</td>\n",
       "      <td>-0.329006</td>\n",
       "      <td>-0.543405</td>\n",
       "      <td>-0.095913</td>\n",
       "      <td>0.142612</td>\n",
       "      <td>0.373002</td>\n",
       "      <td>0.582151</td>\n",
       "      <td>14</td>\n",
       "      <td>...</td>\n",
       "      <td>0.184036</td>\n",
       "      <td>0.144268</td>\n",
       "      <td>0.208163</td>\n",
       "      <td>-0.364611</td>\n",
       "      <td>26.783283</td>\n",
       "      <td>0.506435</td>\n",
       "      <td>1.590028e-04</td>\n",
       "      <td>50.832405</td>\n",
       "      <td>1.154859</td>\n",
       "      <td>57.018054</td>\n",
       "    </tr>\n",
       "    <tr>\n",
       "      <th>E004</th>\n",
       "      <td>162.830799</td>\n",
       "      <td>1302.043195</td>\n",
       "      <td>1.308283</td>\n",
       "      <td>-0.065152</td>\n",
       "      <td>-0.266498</td>\n",
       "      <td>0.138913</td>\n",
       "      <td>0.337187</td>\n",
       "      <td>0.521401</td>\n",
       "      <td>0.683873</td>\n",
       "      <td>16</td>\n",
       "      <td>...</td>\n",
       "      <td>0.187213</td>\n",
       "      <td>0.137326</td>\n",
       "      <td>0.193662</td>\n",
       "      <td>-0.355441</td>\n",
       "      <td>33.227591</td>\n",
       "      <td>0.460547</td>\n",
       "      <td>7.926165e-04</td>\n",
       "      <td>62.476545</td>\n",
       "      <td>1.025161</td>\n",
       "      <td>132.221218</td>\n",
       "    </tr>\n",
       "    <tr>\n",
       "      <th>E005</th>\n",
       "      <td>165.720956</td>\n",
       "      <td>1154.482314</td>\n",
       "      <td>1.566830</td>\n",
       "      <td>-0.304881</td>\n",
       "      <td>-0.518177</td>\n",
       "      <td>-0.074836</td>\n",
       "      <td>0.159321</td>\n",
       "      <td>0.384728</td>\n",
       "      <td>0.589003</td>\n",
       "      <td>14</td>\n",
       "      <td>...</td>\n",
       "      <td>0.183978</td>\n",
       "      <td>0.128546</td>\n",
       "      <td>0.192440</td>\n",
       "      <td>-0.357588</td>\n",
       "      <td>11.439470</td>\n",
       "      <td>0.497940</td>\n",
       "      <td>1.462831e-04</td>\n",
       "      <td>57.634438</td>\n",
       "      <td>1.043776</td>\n",
       "      <td>92.160269</td>\n",
       "    </tr>\n",
       "  </tbody>\n",
       "</table>\n",
       "<p>5 rows × 50 columns</p>\n",
       "</div>"
      ],
      "text/plain": [
       "              m1           m2        m3  s1__autocorrelation__lag_8  \\\n",
       "id                                                                    \n",
       "E001  150.223716  1176.177278  1.142097                   -0.305434   \n",
       "E002  102.534268  1483.654982  1.104716                   -0.243785   \n",
       "E003  119.890549  1254.897451  2.162773                   -0.329006   \n",
       "E004  162.830799  1302.043195  1.308283                   -0.065152   \n",
       "E005  165.720956  1154.482314  1.566830                   -0.304881   \n",
       "\n",
       "      s1__autocorrelation__lag_9  s1__autocorrelation__lag_7  \\\n",
       "id                                                             \n",
       "E001                   -0.519191                   -0.074829   \n",
       "E002                   -0.454262                   -0.021002   \n",
       "E003                   -0.543405                   -0.095913   \n",
       "E004                   -0.266498                    0.138913   \n",
       "E005                   -0.518177                   -0.074836   \n",
       "\n",
       "      s1__autocorrelation__lag_6  s1__autocorrelation__lag_5  \\\n",
       "id                                                             \n",
       "E001                    0.159896                    0.385790   \n",
       "E002                    0.202836                    0.416423   \n",
       "E003                    0.142612                    0.373002   \n",
       "E004                    0.337187                    0.521401   \n",
       "E005                    0.159321                    0.384728   \n",
       "\n",
       "      s1__autocorrelation__lag_4  s1__longest_strike_above_mean  ...  \\\n",
       "id                                                               ...   \n",
       "E001                    0.590387                             14  ...   \n",
       "E002                    0.608972                             14  ...   \n",
       "E003                    0.582151                             14  ...   \n",
       "E004                    0.683873                             16  ...   \n",
       "E005                    0.589003                             14  ...   \n",
       "\n",
       "      s1__ar_coefficient__coeff_3__k_10  s1__approximate_entropy__m_2__r_0.1  \\\n",
       "id                                                                             \n",
       "E001                           0.183996                             0.158567   \n",
       "E002                           0.184370                             0.144742   \n",
       "E003                           0.184036                             0.144268   \n",
       "E004                           0.187213                             0.137326   \n",
       "E005                           0.183978                             0.128546   \n",
       "\n",
       "      s1__lempel_ziv_complexity__bins_3  s1__partial_autocorrelation__lag_4  \\\n",
       "id                                                                            \n",
       "E001                           0.204152                           -0.360084   \n",
       "E002                           0.203008                           -0.344364   \n",
       "E003                           0.208163                           -0.364611   \n",
       "E004                           0.193662                           -0.355441   \n",
       "E005                           0.192440                           -0.357588   \n",
       "\n",
       "      s1__fft_coefficient__attr_\"abs\"__coeff_7  \\\n",
       "id                                               \n",
       "E001                                  0.293617   \n",
       "E002                                  6.142373   \n",
       "E003                                 26.783283   \n",
       "E004                                 33.227591   \n",
       "E005                                 11.439470   \n",
       "\n",
       "      s1__agg_autocorrelation__f_agg_\"var\"__maxlag_40  \\\n",
       "id                                                      \n",
       "E001                                         0.499488   \n",
       "E002                                         0.477743   \n",
       "E003                                         0.506435   \n",
       "E004                                         0.460547   \n",
       "E005                                         0.497940   \n",
       "\n",
       "      s1__spkt_welch_density__coeff_2         y1        y2          y3  \n",
       "id                                                                      \n",
       "E001                     5.886812e-08  55.460434  1.065917  114.578620  \n",
       "E002                     3.643621e-06  50.640306  1.285666  124.651484  \n",
       "E003                     1.590028e-04  50.832405  1.154859   57.018054  \n",
       "E004                     7.926165e-04  62.476545  1.025161  132.221218  \n",
       "E005                     1.462831e-04  57.634438  1.043776   92.160269  \n",
       "\n",
       "[5 rows x 50 columns]"
      ]
     },
     "execution_count": 83,
     "metadata": {},
     "output_type": "execute_result"
    }
   ],
   "source": [
    "df = pd.read_excel(\"../T01_prototype/output/S21__2025-04-21-052727.xlsx\")\n",
    "df = df.set_index(\"Unnamed: 0\")\n",
    "df.index.names = [\"id\"]\n",
    "df.head()"
   ]
  },
  {
   "cell_type": "code",
   "execution_count": 84,
   "id": "16816717",
   "metadata": {},
   "outputs": [],
   "source": [
    "colsY = [\"y1\", \"y2\", \"y3\"]\n",
    "# colsX = [c for c in df.columns if c not in colsY]\n",
    "colsX = [\"m1\", \"m2\", \"m3\"]\n",
    "\n",
    "dfX = df[colsX]\n",
    "dfY = df[colsY]"
   ]
  },
  {
   "cell_type": "code",
   "execution_count": 85,
   "id": "bf54dec5",
   "metadata": {},
   "outputs": [],
   "source": [
    "dfData = loadPickle(\"../T01_prototype/output/S11__2025-04-21-052441.pickle\")"
   ]
  },
  {
   "cell_type": "code",
   "execution_count": 86,
   "id": "1c4cb3de",
   "metadata": {},
   "outputs": [],
   "source": [
    "dfData\n",
    "tsArr = [t[1] for t in dfData[\"ts\"].values]"
   ]
  },
  {
   "cell_type": "code",
   "execution_count": 87,
   "id": "22f736da",
   "metadata": {},
   "outputs": [
    {
     "name": "stdout",
     "output_type": "stream",
     "text": [
      "298\n"
     ]
    }
   ],
   "source": [
    "# Max length\n",
    "maxTime = 0\n",
    "for ts in tsArr:\n",
    "    maxTime = len(ts) if maxTime < len(ts) else maxTime\n",
    "\n",
    "print(maxTime)"
   ]
  },
  {
   "cell_type": "code",
   "execution_count": 88,
   "id": "6ef870d8",
   "metadata": {},
   "outputs": [
    {
     "data": {
      "text/plain": [
       "[<matplotlib.lines.Line2D at 0x2914b312570>]"
      ]
     },
     "execution_count": 88,
     "metadata": {},
     "output_type": "execute_result"
    },
    {
     "data": {
      "image/png": "[encoded data removed]",
      "text/plain": [
       "<Figure size 640x480 with 1 Axes>"
      ]
     },
     "metadata": {},
     "output_type": "display_data"
    }
   ],
   "source": [
    "# Scaling and Padding\n",
    "# TODO: Needs to only calculate mean, std, min, max from training example.\n",
    "\n",
    "SCALING_TYPE = \"Min_Max\"\n",
    "# SCALING_TYPE = \"STANDARDIZATION\"\n",
    "\n",
    "tsArrConcat = np.concatenate(tsArr)\n",
    "if SCALING_TYPE == \"STANDARDIZATION\":\n",
    "    meanVal = np.mean(tsArrConcat)\n",
    "    stdVal = np.std(tsArrConcat)\n",
    "elif SCALING_TYPE == \"Min_Max\":\n",
    "    maxVal = np.max(tsArrConcat)\n",
    "    minVal = np.min(tsArrConcat)\n",
    "\n",
    "# Shape = (Batch, Time, Features)\n",
    "TsData_std = np.zeros((dfData.shape[0], maxTime, 1))\n",
    "for idx, ts in enumerate(tsArr):\n",
    "    if SCALING_TYPE == \"STANDARDIZATION\":\n",
    "        ts_std = (ts - meanVal) / stdVal\n",
    "    elif SCALING_TYPE == \"Min_Max\":\n",
    "        ts_std = (ts - minVal) / (maxVal - minVal)\n",
    "\n",
    "    TsData_std[idx, : len(ts), 0] = ts_std  # Scaling\n",
    "    TsData_std[idx, len(ts) :, 0] = -1  # Padding\n",
    "\n",
    "plt.plot(TsData_std[0, :])"
   ]
  },
  {
   "cell_type": "code",
   "execution_count": 89,
   "id": "c7b3dd62",
   "metadata": {},
   "outputs": [
    {
     "name": "stdout",
     "output_type": "stream",
     "text": [
      "[60 80 90 68 51 27 18 56 63 74  1 61 42 41  4 15 17 40 38  5 91 59  0 34\n",
      " 28 50 11 35 23 52 10 31 66 57 79 85 32 84 14 89 19 29 49 97 98 69 20 94\n",
      " 72 77 25 37 81 46 39 65 58 12 88 70 87 36 21 83  9 96 67 64 47 44]\n",
      "[26 86  2 55 75 93 16 73 54 95 53 92 78 13  7 30 22 24 33  8 43 62  3 71\n",
      " 45 48  6 99 82 76]\n"
     ]
    }
   ],
   "source": [
    "from sklearn.model_selection import ShuffleSplit\n",
    "\n",
    "cv = ShuffleSplit(random_state=0, test_size=0.30)\n",
    "idxs = np.arange(df.shape[0])\n",
    "idxTrain, idxTest = next(cv.split(X=idxs))\n",
    "print(idxTrain)\n",
    "print(idxTest)"
   ]
  },
  {
   "cell_type": "code",
   "execution_count": 90,
   "id": "6110546c",
   "metadata": {},
   "outputs": [],
   "source": [
    "dfX_train = dfX.iloc[idxTrain, :]\n",
    "dfX_test = dfX.iloc[idxTest, :]\n",
    "dfY_train = dfY.iloc[idxTrain, :]\n",
    "dfY_test = dfY.iloc[idxTest, :]\n",
    "Ts_train_std = TsData_std[idxTrain, :]\n",
    "Ts_test_std = TsData_std[idxTest, :]"
   ]
  },
  {
   "cell_type": "code",
   "execution_count": 91,
   "id": "5d0b7279",
   "metadata": {},
   "outputs": [],
   "source": [
    "scX = MinMaxScaler()\n",
    "X_train_std = scX.fit_transform(dfX_train)\n",
    "X_test_std = scX.transform(dfX_test)\n",
    "\n",
    "scY = MinMaxScaler()\n",
    "Y_train_std = scY.fit_transform(dfY_train)\n",
    "Y_test_std = scY.transform(dfY_test)"
   ]
  },
  {
   "cell_type": "code",
   "execution_count": 92,
   "id": "6bb6bfea",
   "metadata": {},
   "outputs": [],
   "source": [
    "# Convert to 2D PyTorch tensors\n",
    "X_train_std = torch.tensor(X_train_std, dtype=torch.float32)\n",
    "Y_train_std = torch.tensor(Y_train_std, dtype=torch.float32)\n",
    "X_test_std = torch.tensor(X_test_std, dtype=torch.float32)\n",
    "Y_test_std = torch.tensor(Y_test_std, dtype=torch.float32)\n",
    "Ts_train_std = torch.tensor(Ts_train_std, dtype=torch.float32)\n",
    "Ts_test_std = torch.tensor(Ts_test_std, dtype=torch.float32)"
   ]
  },
  {
   "cell_type": "code",
   "execution_count": 93,
   "id": "523f3635",
   "metadata": {},
   "outputs": [],
   "source": [
    "tab_num_features = dfX.shape[1]\n",
    "ts_embedding_size = 16\n",
    "ts_num_features = Ts_train_std.shape[-1]\n",
    "lstm_num_layers = 2\n",
    "lstm_dropout = 0.5\n",
    "attn_n_head = 4\n",
    "num_output = Y_test_std.shape[1]\n",
    "\n",
    "# Initialize model\n",
    "model = MyModel(\n",
    "    tab_num_features=tab_num_features,\n",
    "    ts_embedding_size=ts_embedding_size,\n",
    "    ts_num_features=ts_num_features,\n",
    "    lstm_num_layers=lstm_num_layers,\n",
    "    lstm_dropout=lstm_dropout,\n",
    "    attn_n_head=attn_n_head,\n",
    "    num_output=num_output,\n",
    ")"
   ]
  },
  {
   "cell_type": "code",
   "execution_count": 94,
   "id": "dc7c8a63",
   "metadata": {},
   "outputs": [],
   "source": [
    "# loss function and optimizer\n",
    "loss_fn = nn.MSELoss()  # mean square error\n",
    "optimizer = optim.Adam(model.parameters(), lr=0.0001)"
   ]
  },
  {
   "cell_type": "code",
   "execution_count": null,
   "id": "36246eb7",
   "metadata": {},
   "outputs": [],
   "source": [
    "def get_seeder(batch_size, num_output):\n",
    "    x_seeder = torch.zeros((batch_size, num_output, 1), dtype=torch.float)\n",
    "    for i in range(0, num_output):\n",
    "        x_seeder[:, i, 0] = float(i)\n",
    "    return x_seeder"
   ]
  },
  {
   "cell_type": "code",
   "execution_count": 96,
   "id": "b3c38ea7",
   "metadata": {},
   "outputs": [
    {
     "ename": "RuntimeError",
     "evalue": "shape '[5, 80]' is invalid for input of size 240",
     "output_type": "error",
     "traceback": [
      "\u001b[31m---------------------------------------------------------------------------\u001b[39m",
      "\u001b[31mRuntimeError\u001b[39m                              Traceback (most recent call last)",
      "\u001b[36mCell\u001b[39m\u001b[36m \u001b[39m\u001b[32mIn[96]\u001b[39m\u001b[32m, line 21\u001b[39m\n\u001b[32m     19\u001b[39m y_batch = Y_train_std[start : start + batch_size]\n\u001b[32m     20\u001b[39m \u001b[38;5;66;03m# forward pass\u001b[39;00m\n\u001b[32m---> \u001b[39m\u001b[32m21\u001b[39m y_pred, _ = \u001b[43mmodel\u001b[49m\u001b[43m(\u001b[49m\n\u001b[32m     22\u001b[39m \u001b[43m    \u001b[49m\u001b[43mx_tab\u001b[49m\u001b[43m=\u001b[49m\u001b[43mx_tab_batch\u001b[49m\u001b[43m,\u001b[49m\n\u001b[32m     23\u001b[39m \u001b[43m    \u001b[49m\u001b[43mx_ts\u001b[49m\u001b[43m=\u001b[49m\u001b[43mx_ts_batch\u001b[49m\u001b[43m,\u001b[49m\n\u001b[32m     24\u001b[39m \u001b[43m    \u001b[49m\u001b[43mx_future\u001b[49m\u001b[43m=\u001b[49m\u001b[43mget_seeder\u001b[49m\u001b[43m(\u001b[49m\u001b[43mx_tab_batch\u001b[49m\u001b[43m.\u001b[49m\u001b[43mshape\u001b[49m\u001b[43m[\u001b[49m\u001b[32;43m0\u001b[39;49m\u001b[43m]\u001b[49m\u001b[43m,\u001b[49m\u001b[43m \u001b[49m\u001b[43mnum_output\u001b[49m\u001b[43m)\u001b[49m\u001b[43m,\u001b[49m\n\u001b[32m     25\u001b[39m \u001b[43m\u001b[49m\u001b[43m)\u001b[49m\n\u001b[32m     26\u001b[39m loss = loss_fn(y_pred, y_batch)\n\u001b[32m     27\u001b[39m \u001b[38;5;66;03m# backward pass\u001b[39;00m\n",
      "\u001b[36mFile \u001b[39m\u001b[32mc:\\Users\\admin\\Coding\\research\\weld-ml\\.venv\\Lib\\site-packages\\torch\\nn\\modules\\module.py:1739\u001b[39m, in \u001b[36mModule._wrapped_call_impl\u001b[39m\u001b[34m(self, *args, **kwargs)\u001b[39m\n\u001b[32m   1737\u001b[39m     \u001b[38;5;28;01mreturn\u001b[39;00m \u001b[38;5;28mself\u001b[39m._compiled_call_impl(*args, **kwargs)  \u001b[38;5;66;03m# type: ignore[misc]\u001b[39;00m\n\u001b[32m   1738\u001b[39m \u001b[38;5;28;01melse\u001b[39;00m:\n\u001b[32m-> \u001b[39m\u001b[32m1739\u001b[39m     \u001b[38;5;28;01mreturn\u001b[39;00m \u001b[38;5;28;43mself\u001b[39;49m\u001b[43m.\u001b[49m\u001b[43m_call_impl\u001b[49m\u001b[43m(\u001b[49m\u001b[43m*\u001b[49m\u001b[43margs\u001b[49m\u001b[43m,\u001b[49m\u001b[43m \u001b[49m\u001b[43m*\u001b[49m\u001b[43m*\u001b[49m\u001b[43mkwargs\u001b[49m\u001b[43m)\u001b[49m\n",
      "\u001b[36mFile \u001b[39m\u001b[32mc:\\Users\\admin\\Coding\\research\\weld-ml\\.venv\\Lib\\site-packages\\torch\\nn\\modules\\module.py:1750\u001b[39m, in \u001b[36mModule._call_impl\u001b[39m\u001b[34m(self, *args, **kwargs)\u001b[39m\n\u001b[32m   1745\u001b[39m \u001b[38;5;66;03m# If we don't have any hooks, we want to skip the rest of the logic in\u001b[39;00m\n\u001b[32m   1746\u001b[39m \u001b[38;5;66;03m# this function, and just call forward.\u001b[39;00m\n\u001b[32m   1747\u001b[39m \u001b[38;5;28;01mif\u001b[39;00m \u001b[38;5;129;01mnot\u001b[39;00m (\u001b[38;5;28mself\u001b[39m._backward_hooks \u001b[38;5;129;01mor\u001b[39;00m \u001b[38;5;28mself\u001b[39m._backward_pre_hooks \u001b[38;5;129;01mor\u001b[39;00m \u001b[38;5;28mself\u001b[39m._forward_hooks \u001b[38;5;129;01mor\u001b[39;00m \u001b[38;5;28mself\u001b[39m._forward_pre_hooks\n\u001b[32m   1748\u001b[39m         \u001b[38;5;129;01mor\u001b[39;00m _global_backward_pre_hooks \u001b[38;5;129;01mor\u001b[39;00m _global_backward_hooks\n\u001b[32m   1749\u001b[39m         \u001b[38;5;129;01mor\u001b[39;00m _global_forward_hooks \u001b[38;5;129;01mor\u001b[39;00m _global_forward_pre_hooks):\n\u001b[32m-> \u001b[39m\u001b[32m1750\u001b[39m     \u001b[38;5;28;01mreturn\u001b[39;00m \u001b[43mforward_call\u001b[49m\u001b[43m(\u001b[49m\u001b[43m*\u001b[49m\u001b[43margs\u001b[49m\u001b[43m,\u001b[49m\u001b[43m \u001b[49m\u001b[43m*\u001b[49m\u001b[43m*\u001b[49m\u001b[43mkwargs\u001b[49m\u001b[43m)\u001b[49m\n\u001b[32m   1752\u001b[39m result = \u001b[38;5;28;01mNone\u001b[39;00m\n\u001b[32m   1753\u001b[39m called_always_called_hooks = \u001b[38;5;28mset\u001b[39m()\n",
      "\u001b[36mFile \u001b[39m\u001b[32m~\\Coding\\research\\weld-ml\\src\\T02_fusion_transformer\\S02_attn\\models.py:138\u001b[39m, in \u001b[36mMyModel_Attn.forward\u001b[39m\u001b[34m(self, x_tab, x_ts, x_future)\u001b[39m\n\u001b[32m    135\u001b[39m output = output[:, -\u001b[38;5;28mself\u001b[39m.num_output :, :]\n\u001b[32m    137\u001b[39m flatten_size = batch_size * \u001b[38;5;28mself\u001b[39m.ts_embedding_size\n\u001b[32m--> \u001b[39m\u001b[32m138\u001b[39m output = \u001b[43moutput\u001b[49m\u001b[43m.\u001b[49m\u001b[43mview\u001b[49m\u001b[43m(\u001b[49m\n\u001b[32m    139\u001b[39m \u001b[43m    \u001b[49m\u001b[43m(\u001b[49m\u001b[43mbatch_size\u001b[49m\u001b[43m,\u001b[49m\u001b[43m \u001b[49m\u001b[43mflatten_size\u001b[49m\u001b[43m)\u001b[49m\n\u001b[32m    140\u001b[39m \u001b[43m\u001b[49m\u001b[43m)\u001b[49m  \u001b[38;5;66;03m# (batch_size, num_output * embedding_size)\u001b[39;00m\n\u001b[32m    142\u001b[39m flatten = output.view(batch_size, -\u001b[32m1\u001b[39m)\n\u001b[32m    143\u001b[39m final = \u001b[38;5;28mself\u001b[39m.mlp_last(flatten)\n",
      "\u001b[31mRuntimeError\u001b[39m: shape '[5, 80]' is invalid for input of size 240"
     ]
    }
   ],
   "source": [
    "n_epochs = 100\n",
    "# number of epochs to run\n",
    "batch_size = 5  # size of each batch\n",
    "batch_start = torch.arange(0, len(X_train_std), batch_size)\n",
    "\n",
    "# Hold the best model\n",
    "best_mse = np.inf  # init to infinity\n",
    "best_weights = None\n",
    "history = []\n",
    "\n",
    "for epoch in range(n_epochs):\n",
    "    model.train()\n",
    "    with tqdm.tqdm(batch_start, unit=\"batch\", mininterval=0, disable=True) as bar:\n",
    "        bar.set_description(f\"Epoch {epoch}\")\n",
    "        for start in bar:\n",
    "            # take a batch\n",
    "            x_tab_batch = X_train_std[start : start + batch_size]\n",
    "            x_ts_batch = Ts_train_std[start : start + batch_size]\n",
    "            y_batch = Y_train_std[start : start + batch_size]\n",
    "            # forward pass\n",
    "            y_pred, _ = model(\n",
    "                x_tab=x_tab_batch,\n",
    "                x_ts=x_ts_batch,\n",
    "                x_future=get_seeder(x_tab_batch.shape[0], num_output),\n",
    "            )\n",
    "            loss = loss_fn(y_pred, y_batch)\n",
    "            # backward pass\n",
    "            optimizer.zero_grad()\n",
    "            loss.backward()\n",
    "            # update weights\n",
    "            optimizer.step()\n",
    "            # print progress\n",
    "            bar.set_postfix(mse=float(loss))\n",
    "    # evaluate accuracy at end of each epoch\n",
    "    model.eval()\n",
    "    y_pred, _ = model(\n",
    "        x_ts=Ts_test_std,\n",
    "        x_tab=X_test_std,\n",
    "        x_seeder=get_seeder(Ts_test_std.shape[0], num_output),\n",
    "    )\n",
    "    mse = loss_fn(y_pred, Y_test_std)\n",
    "    mse = float(mse)\n",
    "    history.append(mse)\n",
    "    if mse < best_mse:\n",
    "        best_mse = mse\n",
    "        best_weights = copy.deepcopy(model.state_dict())\n",
    "\n",
    "# restore model and return best accuracy\n",
    "model.load_state_dict(best_weights)\n",
    "print(\"MSE: %.2f\" % best_mse)\n",
    "print(\"RMSE: %.2f\" % np.sqrt(best_mse))\n",
    "plt.plot(history)\n",
    "plt.show()"
   ]
  },
  {
   "cell_type": "code",
   "execution_count": null,
   "id": "c0f05686",
   "metadata": {},
   "outputs": [],
   "source": [
    "Y_train_pred, attn_train = model(\n",
    "    x_ts=Ts_train_std,\n",
    "    x_tab=X_train_std,\n",
    "    x_seeder=get_seeder(Ts_train_std.shape[0], num_output),\n",
    ")\n",
    "Y_test_pred, attn_test = model(\n",
    "    x_ts=Ts_test_std,\n",
    "    x_tab=X_test_std,\n",
    "    x_seeder=get_seeder(Ts_test_std.shape[0], num_output),\n",
    ")"
   ]
  },
  {
   "cell_type": "code",
   "execution_count": null,
   "id": "60453032",
   "metadata": {},
   "outputs": [],
   "source": [
    "Y_train_std = Y_train_std.detach().numpy()\n",
    "Y_test_std = Y_test_std.detach().numpy()\n",
    "Y_train_pred = Y_train_pred.detach().numpy()\n",
    "Y_test_pred = Y_test_pred.detach().numpy()"
   ]
  },
  {
   "cell_type": "code",
   "execution_count": null,
   "id": "df7a80c3",
   "metadata": {},
   "outputs": [
    {
     "data": {
      "application/vnd.microsoft.datawrangler.viewer.v0+json": {
       "columns": [
        {
         "name": "index",
         "rawType": "int64",
         "type": "integer"
        },
        {
         "name": "MSE Train",
         "rawType": "float64",
         "type": "float"
        },
        {
         "name": "MSE Test",
         "rawType": "float64",
         "type": "float"
        },
        {
         "name": "R2 Train",
         "rawType": "float64",
         "type": "float"
        },
        {
         "name": "R2 Test",
         "rawType": "float64",
         "type": "float"
        }
       ],
       "ref": "24f2d630-d4cf-4010-8d55-481ff6b24740",
       "rows": [
        [
         "0",
         "0.035144321620464325",
         "0.052491165697574615",
         "0.21578341722488403",
         "0.020585298538208008"
        ],
        [
         "1",
         "0.02427857369184494",
         "0.03620632365345955",
         "0.36782020330429077",
         "-0.171112060546875"
        ],
        [
         "2",
         "0.028956133872270584",
         "0.04120190441608429",
         "0.507514238357544",
         "0.21387344598770142"
        ]
       ],
       "shape": {
        "columns": 4,
        "rows": 3
       }
      },
      "text/html": [
       "<div>\n",
       "<style scoped>\n",
       "    .dataframe tbody tr th:only-of-type {\n",
       "        vertical-align: middle;\n",
       "    }\n",
       "\n",
       "    .dataframe tbody tr th {\n",
       "        vertical-align: top;\n",
       "    }\n",
       "\n",
       "    .dataframe thead th {\n",
       "        text-align: right;\n",
       "    }\n",
       "</style>\n",
       "<table border=\"1\" class=\"dataframe\">\n",
       "  <thead>\n",
       "    <tr style=\"text-align: right;\">\n",
       "      <th></th>\n",
       "      <th>MSE Train</th>\n",
       "      <th>MSE Test</th>\n",
       "      <th>R2 Train</th>\n",
       "      <th>R2 Test</th>\n",
       "    </tr>\n",
       "  </thead>\n",
       "  <tbody>\n",
       "    <tr>\n",
       "      <th>0</th>\n",
       "      <td>0.035144</td>\n",
       "      <td>0.052491</td>\n",
       "      <td>0.215783</td>\n",
       "      <td>0.020585</td>\n",
       "    </tr>\n",
       "    <tr>\n",
       "      <th>1</th>\n",
       "      <td>0.024279</td>\n",
       "      <td>0.036206</td>\n",
       "      <td>0.367820</td>\n",
       "      <td>-0.171112</td>\n",
       "    </tr>\n",
       "    <tr>\n",
       "      <th>2</th>\n",
       "      <td>0.028956</td>\n",
       "      <td>0.041202</td>\n",
       "      <td>0.507514</td>\n",
       "      <td>0.213873</td>\n",
       "    </tr>\n",
       "  </tbody>\n",
       "</table>\n",
       "</div>"
      ],
      "text/plain": [
       "   MSE Train  MSE Test  R2 Train   R2 Test\n",
       "0   0.035144  0.052491  0.215783  0.020585\n",
       "1   0.024279  0.036206  0.367820 -0.171112\n",
       "2   0.028956  0.041202  0.507514  0.213873"
      ]
     },
     "execution_count": 20,
     "metadata": {},
     "output_type": "execute_result"
    },
    {
     "data": {
      "image/png": "[encoded data removed]",
      "text/plain": [
       "<Figure size 900x300 with 2 Axes>"
      ]
     },
     "metadata": {},
     "output_type": "display_data"
    },
    {
     "data": {
      "image/png": "[encoded data removed]",
      "text/plain": [
       "<Figure size 900x300 with 2 Axes>"
      ]
     },
     "metadata": {},
     "output_type": "display_data"
    },
    {
     "data": {
      "image/png": "[encoded data removed]",
      "text/plain": [
       "<Figure size 900x300 with 2 Axes>"
      ]
     },
     "metadata": {},
     "output_type": "display_data"
    }
   ],
   "source": [
    "resArr = []\n",
    "for i in range(dfY.shape[1]):\n",
    "    y_train = Y_train_std[:, i]\n",
    "    y_test = Y_test_std[:, i]\n",
    "    y_train_pred = Y_train_pred[:, i]\n",
    "    y_test_pred = Y_test_pred[:, i]\n",
    "    plot_res(y_train, y_test, y_train_pred, y_test_pred, xlim=[-0.1, 1.1])\n",
    "    res = store_results(y_train, y_test, y_train_pred, y_test_pred)\n",
    "    resArr.append(res)\n",
    "\n",
    "dfRes = pd.DataFrame.from_dict(resArr)\n",
    "dfRes"
   ]
  },
  {
   "cell_type": "code",
   "execution_count": null,
   "id": "7a829aab",
   "metadata": {},
   "outputs": [
    {
     "name": "stdout",
     "output_type": "stream",
     "text": [
      "(70, 301, 4, 301)\n"
     ]
    }
   ],
   "source": [
    "att = attn_train.detach().numpy()\n",
    "print(att.shape)"
   ]
  },
  {
   "cell_type": "code",
   "execution_count": null,
   "id": "263d5b3f",
   "metadata": {},
   "outputs": [
    {
     "data": {
      "application/vnd.microsoft.datawrangler.viewer.v0+json": {
       "columns": [
        {
         "name": "index",
         "rawType": "int64",
         "type": "integer"
        },
        {
         "name": "0",
         "rawType": "float32",
         "type": "float"
        },
        {
         "name": "1",
         "rawType": "float32",
         "type": "float"
        },
        {
         "name": "2",
         "rawType": "float32",
         "type": "float"
        },
        {
         "name": "3",
         "rawType": "float32",
         "type": "float"
        },
        {
         "name": "4",
         "rawType": "float32",
         "type": "float"
        },
        {
         "name": "5",
         "rawType": "float32",
         "type": "float"
        },
        {
         "name": "6",
         "rawType": "float32",
         "type": "float"
        },
        {
         "name": "7",
         "rawType": "float32",
         "type": "float"
        },
        {
         "name": "8",
         "rawType": "float32",
         "type": "float"
        },
        {
         "name": "9",
         "rawType": "float32",
         "type": "float"
        },
        {
         "name": "10",
         "rawType": "float32",
         "type": "float"
        },
        {
         "name": "11",
         "rawType": "float32",
         "type": "float"
        },
        {
         "name": "12",
         "rawType": "float32",
         "type": "float"
        },
        {
         "name": "13",
         "rawType": "float32",
         "type": "float"
        },
        {
         "name": "14",
         "rawType": "float32",
         "type": "float"
        },
        {
         "name": "15",
         "rawType": "float32",
         "type": "float"
        },
        {
         "name": "16",
         "rawType": "float32",
         "type": "float"
        },
        {
         "name": "17",
         "rawType": "float32",
         "type": "float"
        },
        {
         "name": "18",
         "rawType": "float32",
         "type": "float"
        },
        {
         "name": "19",
         "rawType": "float32",
         "type": "float"
        },
        {
         "name": "20",
         "rawType": "float32",
         "type": "float"
        },
        {
         "name": "21",
         "rawType": "float32",
         "type": "float"
        },
        {
         "name": "22",
         "rawType": "float32",
         "type": "float"
        },
        {
         "name": "23",
         "rawType": "float32",
         "type": "float"
        },
        {
         "name": "24",
         "rawType": "float32",
         "type": "float"
        },
        {
         "name": "25",
         "rawType": "float32",
         "type": "float"
        },
        {
         "name": "26",
         "rawType": "float32",
         "type": "float"
        },
        {
         "name": "27",
         "rawType": "float32",
         "type": "float"
        },
        {
         "name": "28",
         "rawType": "float32",
         "type": "float"
        },
        {
         "name": "29",
         "rawType": "float32",
         "type": "float"
        },
        {
         "name": "30",
         "rawType": "float32",
         "type": "float"
        },
        {
         "name": "31",
         "rawType": "float32",
         "type": "float"
        },
        {
         "name": "32",
         "rawType": "float32",
         "type": "float"
        },
        {
         "name": "33",
         "rawType": "float32",
         "type": "float"
        },
        {
         "name": "34",
         "rawType": "float32",
         "type": "float"
        },
        {
         "name": "35",
         "rawType": "float32",
         "type": "float"
        },
        {
         "name": "36",
         "rawType": "float32",
         "type": "float"
        },
        {
         "name": "37",
         "rawType": "float32",
         "type": "float"
        },
        {
         "name": "38",
         "rawType": "float32",
         "type": "float"
        },
        {
         "name": "39",
         "rawType": "float32",
         "type": "float"
        },
        {
         "name": "40",
         "rawType": "float32",
         "type": "float"
        },
        {
         "name": "41",
         "rawType": "float32",
         "type": "float"
        },
        {
         "name": "42",
         "rawType": "float32",
         "type": "float"
        },
        {
         "name": "43",
         "rawType": "float32",
         "type": "float"
        },
        {
         "name": "44",
         "rawType": "float32",
         "type": "float"
        },
        {
         "name": "45",
         "rawType": "float32",
         "type": "float"
        },
        {
         "name": "46",
         "rawType": "float32",
         "type": "float"
        },
        {
         "name": "47",
         "rawType": "float32",
         "type": "float"
        },
        {
         "name": "48",
         "rawType": "float32",
         "type": "float"
        },
        {
         "name": "49",
         "rawType": "float32",
         "type": "float"
        },
        {
         "name": "50",
         "rawType": "float32",
         "type": "float"
        },
        {
         "name": "51",
         "rawType": "float32",
         "type": "float"
        },
        {
         "name": "52",
         "rawType": "float32",
         "type": "float"
        },
        {
         "name": "53",
         "rawType": "float32",
         "type": "float"
        },
        {
         "name": "54",
         "rawType": "float32",
         "type": "float"
        },
        {
         "name": "55",
         "rawType": "float32",
         "type": "float"
        },
        {
         "name": "56",
         "rawType": "float32",
         "type": "float"
        },
        {
         "name": "57",
         "rawType": "float32",
         "type": "float"
        },
        {
         "name": "58",
         "rawType": "float32",
         "type": "float"
        },
        {
         "name": "59",
         "rawType": "float32",
         "type": "float"
        },
        {
         "name": "60",
         "rawType": "float32",
         "type": "float"
        },
        {
         "name": "61",
         "rawType": "float32",
         "type": "float"
        },
        {
         "name": "62",
         "rawType": "float32",
         "type": "float"
        },
        {
         "name": "63",
         "rawType": "float32",
         "type": "float"
        },
        {
         "name": "64",
         "rawType": "float32",
         "type": "float"
        },
        {
         "name": "65",
         "rawType": "float32",
         "type": "float"
        },
        {
         "name": "66",
         "rawType": "float32",
         "type": "float"
        },
        {
         "name": "67",
         "rawType": "float32",
         "type": "float"
        },
        {
         "name": "68",
         "rawType": "float32",
         "type": "float"
        },
        {
         "name": "69",
         "rawType": "float32",
         "type": "float"
        },
        {
         "name": "70",
         "rawType": "float32",
         "type": "float"
        },
        {
         "name": "71",
         "rawType": "float32",
         "type": "float"
        },
        {
         "name": "72",
         "rawType": "float32",
         "type": "float"
        },
        {
         "name": "73",
         "rawType": "float32",
         "type": "float"
        },
        {
         "name": "74",
         "rawType": "float32",
         "type": "float"
        },
        {
         "name": "75",
         "rawType": "float32",
         "type": "float"
        },
        {
         "name": "76",
         "rawType": "float32",
         "type": "float"
        },
        {
         "name": "77",
         "rawType": "float32",
         "type": "float"
        },
        {
         "name": "78",
         "rawType": "float32",
         "type": "float"
        },
        {
         "name": "79",
         "rawType": "float32",
         "type": "float"
        },
        {
         "name": "80",
         "rawType": "float32",
         "type": "float"
        },
        {
         "name": "81",
         "rawType": "float32",
         "type": "float"
        },
        {
         "name": "82",
         "rawType": "float32",
         "type": "float"
        },
        {
         "name": "83",
         "rawType": "float32",
         "type": "float"
        },
        {
         "name": "84",
         "rawType": "float32",
         "type": "float"
        },
        {
         "name": "85",
         "rawType": "float32",
         "type": "float"
        },
        {
         "name": "86",
         "rawType": "float32",
         "type": "float"
        },
        {
         "name": "87",
         "rawType": "float32",
         "type": "float"
        },
        {
         "name": "88",
         "rawType": "float32",
         "type": "float"
        },
        {
         "name": "89",
         "rawType": "float32",
         "type": "float"
        },
        {
         "name": "90",
         "rawType": "float32",
         "type": "float"
        },
        {
         "name": "91",
         "rawType": "float32",
         "type": "float"
        },
        {
         "name": "92",
         "rawType": "float32",
         "type": "float"
        },
        {
         "name": "93",
         "rawType": "float32",
         "type": "float"
        },
        {
         "name": "94",
         "rawType": "float32",
         "type": "float"
        },
        {
         "name": "95",
         "rawType": "float32",
         "type": "float"
        },
        {
         "name": "96",
         "rawType": "float32",
         "type": "float"
        },
        {
         "name": "97",
         "rawType": "float32",
         "type": "float"
        },
        {
         "name": "98",
         "rawType": "float32",
         "type": "float"
        },
        {
         "name": "99",
         "rawType": "float32",
         "type": "float"
        },
        {
         "name": "100",
         "rawType": "float32",
         "type": "float"
        },
        {
         "name": "101",
         "rawType": "float32",
         "type": "float"
        },
        {
         "name": "102",
         "rawType": "float32",
         "type": "float"
        },
        {
         "name": "103",
         "rawType": "float32",
         "type": "float"
        },
        {
         "name": "104",
         "rawType": "float32",
         "type": "float"
        },
        {
         "name": "105",
         "rawType": "float32",
         "type": "float"
        },
        {
         "name": "106",
         "rawType": "float32",
         "type": "float"
        },
        {
         "name": "107",
         "rawType": "float32",
         "type": "float"
        },
        {
         "name": "108",
         "rawType": "float32",
         "type": "float"
        },
        {
         "name": "109",
         "rawType": "float32",
         "type": "float"
        },
        {
         "name": "110",
         "rawType": "float32",
         "type": "float"
        },
        {
         "name": "111",
         "rawType": "float32",
         "type": "float"
        },
        {
         "name": "112",
         "rawType": "float32",
         "type": "float"
        },
        {
         "name": "113",
         "rawType": "float32",
         "type": "float"
        },
        {
         "name": "114",
         "rawType": "float32",
         "type": "float"
        },
        {
         "name": "115",
         "rawType": "float32",
         "type": "float"
        },
        {
         "name": "116",
         "rawType": "float32",
         "type": "float"
        },
        {
         "name": "117",
         "rawType": "float32",
         "type": "float"
        },
        {
         "name": "118",
         "rawType": "float32",
         "type": "float"
        },
        {
         "name": "119",
         "rawType": "float32",
         "type": "float"
        },
        {
         "name": "120",
         "rawType": "float32",
         "type": "float"
        },
        {
         "name": "121",
         "rawType": "float32",
         "type": "float"
        },
        {
         "name": "122",
         "rawType": "float32",
         "type": "float"
        },
        {
         "name": "123",
         "rawType": "float32",
         "type": "float"
        },
        {
         "name": "124",
         "rawType": "float32",
         "type": "float"
        },
        {
         "name": "125",
         "rawType": "float32",
         "type": "float"
        },
        {
         "name": "126",
         "rawType": "float32",
         "type": "float"
        },
        {
         "name": "127",
         "rawType": "float32",
         "type": "float"
        },
        {
         "name": "128",
         "rawType": "float32",
         "type": "float"
        },
        {
         "name": "129",
         "rawType": "float32",
         "type": "float"
        },
        {
         "name": "130",
         "rawType": "float32",
         "type": "float"
        },
        {
         "name": "131",
         "rawType": "float32",
         "type": "float"
        },
        {
         "name": "132",
         "rawType": "float32",
         "type": "float"
        },
        {
         "name": "133",
         "rawType": "float32",
         "type": "float"
        },
        {
         "name": "134",
         "rawType": "float32",
         "type": "float"
        },
        {
         "name": "135",
         "rawType": "float32",
         "type": "float"
        },
        {
         "name": "136",
         "rawType": "float32",
         "type": "float"
        },
        {
         "name": "137",
         "rawType": "float32",
         "type": "float"
        },
        {
         "name": "138",
         "rawType": "float32",
         "type": "float"
        },
        {
         "name": "139",
         "rawType": "float32",
         "type": "float"
        },
        {
         "name": "140",
         "rawType": "float32",
         "type": "float"
        },
        {
         "name": "141",
         "rawType": "float32",
         "type": "float"
        },
        {
         "name": "142",
         "rawType": "float32",
         "type": "float"
        },
        {
         "name": "143",
         "rawType": "float32",
         "type": "float"
        },
        {
         "name": "144",
         "rawType": "float32",
         "type": "float"
        },
        {
         "name": "145",
         "rawType": "float32",
         "type": "float"
        },
        {
         "name": "146",
         "rawType": "float32",
         "type": "float"
        },
        {
         "name": "147",
         "rawType": "float32",
         "type": "float"
        },
        {
         "name": "148",
         "rawType": "float32",
         "type": "float"
        },
        {
         "name": "149",
         "rawType": "float32",
         "type": "float"
        },
        {
         "name": "150",
         "rawType": "float32",
         "type": "float"
        },
        {
         "name": "151",
         "rawType": "float32",
         "type": "float"
        },
        {
         "name": "152",
         "rawType": "float32",
         "type": "float"
        },
        {
         "name": "153",
         "rawType": "float32",
         "type": "float"
        },
        {
         "name": "154",
         "rawType": "float32",
         "type": "float"
        },
        {
         "name": "155",
         "rawType": "float32",
         "type": "float"
        },
        {
         "name": "156",
         "rawType": "float32",
         "type": "float"
        },
        {
         "name": "157",
         "rawType": "float32",
         "type": "float"
        },
        {
         "name": "158",
         "rawType": "float32",
         "type": "float"
        },
        {
         "name": "159",
         "rawType": "float32",
         "type": "float"
        },
        {
         "name": "160",
         "rawType": "float32",
         "type": "float"
        },
        {
         "name": "161",
         "rawType": "float32",
         "type": "float"
        },
        {
         "name": "162",
         "rawType": "float32",
         "type": "float"
        },
        {
         "name": "163",
         "rawType": "float32",
         "type": "float"
        },
        {
         "name": "164",
         "rawType": "float32",
         "type": "float"
        },
        {
         "name": "165",
         "rawType": "float32",
         "type": "float"
        },
        {
         "name": "166",
         "rawType": "float32",
         "type": "float"
        },
        {
         "name": "167",
         "rawType": "float32",
         "type": "float"
        },
        {
         "name": "168",
         "rawType": "float32",
         "type": "float"
        },
        {
         "name": "169",
         "rawType": "float32",
         "type": "float"
        },
        {
         "name": "170",
         "rawType": "float32",
         "type": "float"
        },
        {
         "name": "171",
         "rawType": "float32",
         "type": "float"
        },
        {
         "name": "172",
         "rawType": "float32",
         "type": "float"
        },
        {
         "name": "173",
         "rawType": "float32",
         "type": "float"
        },
        {
         "name": "174",
         "rawType": "float32",
         "type": "float"
        },
        {
         "name": "175",
         "rawType": "float32",
         "type": "float"
        },
        {
         "name": "176",
         "rawType": "float32",
         "type": "float"
        },
        {
         "name": "177",
         "rawType": "float32",
         "type": "float"
        },
        {
         "name": "178",
         "rawType": "float32",
         "type": "float"
        },
        {
         "name": "179",
         "rawType": "float32",
         "type": "float"
        },
        {
         "name": "180",
         "rawType": "float32",
         "type": "float"
        },
        {
         "name": "181",
         "rawType": "float32",
         "type": "float"
        },
        {
         "name": "182",
         "rawType": "float32",
         "type": "float"
        },
        {
         "name": "183",
         "rawType": "float32",
         "type": "float"
        },
        {
         "name": "184",
         "rawType": "float32",
         "type": "float"
        },
        {
         "name": "185",
         "rawType": "float32",
         "type": "float"
        },
        {
         "name": "186",
         "rawType": "float32",
         "type": "float"
        },
        {
         "name": "187",
         "rawType": "float32",
         "type": "float"
        },
        {
         "name": "188",
         "rawType": "float32",
         "type": "float"
        },
        {
         "name": "189",
         "rawType": "float32",
         "type": "float"
        },
        {
         "name": "190",
         "rawType": "float32",
         "type": "float"
        },
        {
         "name": "191",
         "rawType": "float32",
         "type": "float"
        },
        {
         "name": "192",
         "rawType": "float32",
         "type": "float"
        },
        {
         "name": "193",
         "rawType": "float32",
         "type": "float"
        },
        {
         "name": "194",
         "rawType": "float32",
         "type": "float"
        },
        {
         "name": "195",
         "rawType": "float32",
         "type": "float"
        },
        {
         "name": "196",
         "rawType": "float32",
         "type": "float"
        },
        {
         "name": "197",
         "rawType": "float32",
         "type": "float"
        },
        {
         "name": "198",
         "rawType": "float32",
         "type": "float"
        },
        {
         "name": "199",
         "rawType": "float32",
         "type": "float"
        },
        {
         "name": "200",
         "rawType": "float32",
         "type": "float"
        },
        {
         "name": "201",
         "rawType": "float32",
         "type": "float"
        },
        {
         "name": "202",
         "rawType": "float32",
         "type": "float"
        },
        {
         "name": "203",
         "rawType": "float32",
         "type": "float"
        },
        {
         "name": "204",
         "rawType": "float32",
         "type": "float"
        },
        {
         "name": "205",
         "rawType": "float32",
         "type": "float"
        },
        {
         "name": "206",
         "rawType": "float32",
         "type": "float"
        },
        {
         "name": "207",
         "rawType": "float32",
         "type": "float"
        },
        {
         "name": "208",
         "rawType": "float32",
         "type": "float"
        },
        {
         "name": "209",
         "rawType": "float32",
         "type": "float"
        },
        {
         "name": "210",
         "rawType": "float32",
         "type": "float"
        },
        {
         "name": "211",
         "rawType": "float32",
         "type": "float"
        },
        {
         "name": "212",
         "rawType": "float32",
         "type": "float"
        },
        {
         "name": "213",
         "rawType": "float32",
         "type": "float"
        },
        {
         "name": "214",
         "rawType": "float32",
         "type": "float"
        },
        {
         "name": "215",
         "rawType": "float32",
         "type": "float"
        },
        {
         "name": "216",
         "rawType": "float32",
         "type": "float"
        },
        {
         "name": "217",
         "rawType": "float32",
         "type": "float"
        },
        {
         "name": "218",
         "rawType": "float32",
         "type": "float"
        },
        {
         "name": "219",
         "rawType": "float32",
         "type": "float"
        },
        {
         "name": "220",
         "rawType": "float32",
         "type": "float"
        },
        {
         "name": "221",
         "rawType": "float32",
         "type": "float"
        },
        {
         "name": "222",
         "rawType": "float32",
         "type": "float"
        },
        {
         "name": "223",
         "rawType": "float32",
         "type": "float"
        },
        {
         "name": "224",
         "rawType": "float32",
         "type": "float"
        },
        {
         "name": "225",
         "rawType": "float32",
         "type": "float"
        },
        {
         "name": "226",
         "rawType": "float32",
         "type": "float"
        },
        {
         "name": "227",
         "rawType": "float32",
         "type": "float"
        },
        {
         "name": "228",
         "rawType": "float32",
         "type": "float"
        },
        {
         "name": "229",
         "rawType": "float32",
         "type": "float"
        },
        {
         "name": "230",
         "rawType": "float32",
         "type": "float"
        },
        {
         "name": "231",
         "rawType": "float32",
         "type": "float"
        },
        {
         "name": "232",
         "rawType": "float32",
         "type": "float"
        },
        {
         "name": "233",
         "rawType": "float32",
         "type": "float"
        },
        {
         "name": "234",
         "rawType": "float32",
         "type": "float"
        },
        {
         "name": "235",
         "rawType": "float32",
         "type": "float"
        },
        {
         "name": "236",
         "rawType": "float32",
         "type": "float"
        },
        {
         "name": "237",
         "rawType": "float32",
         "type": "float"
        },
        {
         "name": "238",
         "rawType": "float32",
         "type": "float"
        },
        {
         "name": "239",
         "rawType": "float32",
         "type": "float"
        },
        {
         "name": "240",
         "rawType": "float32",
         "type": "float"
        },
        {
         "name": "241",
         "rawType": "float32",
         "type": "float"
        },
        {
         "name": "242",
         "rawType": "float32",
         "type": "float"
        },
        {
         "name": "243",
         "rawType": "float32",
         "type": "float"
        },
        {
         "name": "244",
         "rawType": "float32",
         "type": "float"
        },
        {
         "name": "245",
         "rawType": "float32",
         "type": "float"
        },
        {
         "name": "246",
         "rawType": "float32",
         "type": "float"
        },
        {
         "name": "247",
         "rawType": "float32",
         "type": "float"
        },
        {
         "name": "248",
         "rawType": "float32",
         "type": "float"
        },
        {
         "name": "249",
         "rawType": "float32",
         "type": "float"
        },
        {
         "name": "250",
         "rawType": "float32",
         "type": "float"
        },
        {
         "name": "251",
         "rawType": "float32",
         "type": "float"
        },
        {
         "name": "252",
         "rawType": "float32",
         "type": "float"
        },
        {
         "name": "253",
         "rawType": "float32",
         "type": "float"
        },
        {
         "name": "254",
         "rawType": "float32",
         "type": "float"
        },
        {
         "name": "255",
         "rawType": "float32",
         "type": "float"
        },
        {
         "name": "256",
         "rawType": "float32",
         "type": "float"
        },
        {
         "name": "257",
         "rawType": "float32",
         "type": "float"
        },
        {
         "name": "258",
         "rawType": "float32",
         "type": "float"
        },
        {
         "name": "259",
         "rawType": "float32",
         "type": "float"
        },
        {
         "name": "260",
         "rawType": "float32",
         "type": "float"
        },
        {
         "name": "261",
         "rawType": "float32",
         "type": "float"
        },
        {
         "name": "262",
         "rawType": "float32",
         "type": "float"
        },
        {
         "name": "263",
         "rawType": "float32",
         "type": "float"
        },
        {
         "name": "264",
         "rawType": "float32",
         "type": "float"
        },
        {
         "name": "265",
         "rawType": "float32",
         "type": "float"
        },
        {
         "name": "266",
         "rawType": "float32",
         "type": "float"
        },
        {
         "name": "267",
         "rawType": "float32",
         "type": "float"
        },
        {
         "name": "268",
         "rawType": "float32",
         "type": "float"
        },
        {
         "name": "269",
         "rawType": "float32",
         "type": "float"
        },
        {
         "name": "270",
         "rawType": "float32",
         "type": "float"
        },
        {
         "name": "271",
         "rawType": "float32",
         "type": "float"
        },
        {
         "name": "272",
         "rawType": "float32",
         "type": "float"
        },
        {
         "name": "273",
         "rawType": "float32",
         "type": "float"
        },
        {
         "name": "274",
         "rawType": "float32",
         "type": "float"
        },
        {
         "name": "275",
         "rawType": "float32",
         "type": "float"
        },
        {
         "name": "276",
         "rawType": "float32",
         "type": "float"
        },
        {
         "name": "277",
         "rawType": "float32",
         "type": "float"
        },
        {
         "name": "278",
         "rawType": "float32",
         "type": "float"
        },
        {
         "name": "279",
         "rawType": "float32",
         "type": "float"
        },
        {
         "name": "280",
         "rawType": "float32",
         "type": "float"
        },
        {
         "name": "281",
         "rawType": "float32",
         "type": "float"
        },
        {
         "name": "282",
         "rawType": "float32",
         "type": "float"
        },
        {
         "name": "283",
         "rawType": "float32",
         "type": "float"
        },
        {
         "name": "284",
         "rawType": "float32",
         "type": "float"
        },
        {
         "name": "285",
         "rawType": "float32",
         "type": "float"
        },
        {
         "name": "286",
         "rawType": "float32",
         "type": "float"
        },
        {
         "name": "287",
         "rawType": "float32",
         "type": "float"
        },
        {
         "name": "288",
         "rawType": "float32",
         "type": "float"
        },
        {
         "name": "289",
         "rawType": "float32",
         "type": "float"
        },
        {
         "name": "290",
         "rawType": "float32",
         "type": "float"
        },
        {
         "name": "291",
         "rawType": "float32",
         "type": "float"
        },
        {
         "name": "292",
         "rawType": "float32",
         "type": "float"
        },
        {
         "name": "293",
         "rawType": "float32",
         "type": "float"
        },
        {
         "name": "294",
         "rawType": "float32",
         "type": "float"
        },
        {
         "name": "295",
         "rawType": "float32",
         "type": "float"
        },
        {
         "name": "296",
         "rawType": "float32",
         "type": "float"
        },
        {
         "name": "297",
         "rawType": "float32",
         "type": "float"
        },
        {
         "name": "298",
         "rawType": "float32",
         "type": "float"
        },
        {
         "name": "299",
         "rawType": "float32",
         "type": "float"
        },
        {
         "name": "300",
         "rawType": "float32",
         "type": "float"
        }
       ],
       "ref": "a8a87874-d7f7-401e-ae1c-63b1a0ad2982",
       "rows": [
        [
         "0",
         "0.0027508195",
         "0.0030321064",
         "0.003225063",
         "0.0033518146",
         "0.0034275404",
         "0.0034691645",
         "0.0034909376",
         "0.0035023687",
         "0.003508765",
         "0.003512587",
         "0.0035146913",
         "0.0035152058",
         "0.0035140612",
         "0.0035112305",
         "0.0035068132",
         "0.0035010397",
         "0.0034942166",
         "0.0034867078",
         "0.00347891",
         "0.0034712774",
         "0.0034643142",
         "0.003458586",
         "0.0034546633",
         "0.0034530428",
         "0.0034540333",
         "0.0034576675",
         "0.0034636396",
         "0.0034713156",
         "0.003479819",
         "0.0034881637",
         "0.003495424",
         "0.0035008653",
         "0.003504036",
         "0.0035047804",
         "0.0035032064",
         "0.003499606",
         "0.0034943775",
         "0.00348797",
         "0.0034808547",
         "0.0034735193",
         "0.0034665046",
         "0.0034603851",
         "0.003455763",
         "0.0034531981",
         "0.0034531094",
         "0.0034556682",
         "0.0034607241",
         "0.0034677843",
         "0.0034760644",
         "0.0034846102",
         "0.0034924536",
         "0.0034987591",
         "0.0035029524",
         "0.0035047485",
         "0.0035041529",
         "0.0035013845",
         "0.0034968087",
         "0.0034908534",
         "0.0034839874",
         "0.003476686",
         "0.003469464",
         "0.0034628822",
         "0.0034575406",
         "0.0034540242",
         "0.003452827",
         "0.0034542384",
         "0.0034582554",
         "0.003464529",
         "0.0034723917",
         "0.003480945",
         "0.0034892058",
         "0.003496265",
         "0.0035014236",
         "0.0035042723",
         "0.0035046935",
         "0.0035028271",
         "0.0034989843",
         "0.0034935686",
         "0.003487038",
         "0.0034798656",
         "0.0034725424",
         "0.0034656131",
         "0.0034596608",
         "0.003455286",
         "0.003453036",
         "0.0034533006",
         "0.003456212",
         "0.003461575",
         "0.003468851",
         "0.003477224",
         "0.0034857304",
         "0.0034934096",
         "0.0034994583",
         "0.0035033368",
         "0.0035048055",
         "0.0035038982",
         "0.0035008637",
         "0.0034960767",
         "0.003489972",
         "0.0034830172",
         "0.0034756933",
         "0.0034685251",
         "0.003462076",
         "0.0034569465",
         "0.003453717",
         "0.0034528624",
         "0.0034546328",
         "0.0034589819",
         "0.0034655163",
         "0.0034735287",
         "0.0034820999",
         "0.0034902478",
         "0.0034970846",
         "0.003501949",
         "0.0035044695",
         "0.0035045699",
         "0.0035024146",
         "0.0034983337",
         "0.0034927442",
         "0.0034860969",
         "0.0034788733",
         "0.0034715722",
         "0.0034647381",
         "0.0034589644",
         "0.003454847",
         "0.00345292",
         "0.0034535392",
         "0.003456803",
         "0.0034624622",
         "0.0034699377",
         "0.0034783867",
         "0.0034868359",
         "0.0034943358",
         "0.0035001175",
         "0.0035036784",
         "0.0035048171",
         "0.0035036057",
         "0.0035003102",
         "0.0034953167",
         "0.0034890703",
         "0.0034820384",
         "0.0034747063",
         "0.0034675992",
         "0.0034612927",
         "0.0034563877",
         "0.0034534552",
         "0.0034529448",
         "0.0034550752",
         "0.0034597507",
         "0.0034665319",
         "0.003474675",
         "0.0034832456",
         "0.0034912648",
         "0.0034978685",
         "0.0035024313",
         "0.0035046225",
         "0.003504405",
         "0.003501967",
         "0.0034976574",
         "0.0034918964",
         "0.0034851453",
         "0.00347788",
         "0.003470609",
         "0.0034638841",
         "0.0034582976",
         "0.0034544491",
         "0.0034528475",
         "0.0034538282",
         "0.003457436",
         "0.003463381",
         "0.0034710425",
         "0.003479551",
         "0.0034879234",
         "0.0034952324",
         "0.0035007352",
         "0.0035039734",
         "0.003504788",
         "0.0035032742",
         "0.0034997251",
         "0.0034945365",
         "0.0034881562",
         "0.0034810537",
         "0.003473719",
         "0.0034666874",
         "0.003460535",
         "0.0034558645",
         "0.003453237",
         "0.0034530782",
         "0.0034555644",
         "0.0034605567",
         "0.0034675708",
         "0.0034758283",
         "0.0034843811",
         "0.0034922552",
         "0.0034986148",
         "0.0035028683",
         "0.0035047312",
         "0.0035041987",
         "0.0035014863",
         "0.0034969538",
         "0.0034910317",
         "0.0034841842",
         "0.0034768865",
         "0.0034696558",
         "0.0034630492",
         "0.0034576636",
         "0.0034540908",
         "0.0034528254",
         "0.0034541641",
         "0.003458112",
         "0.0034643325",
         "0.0034721624",
         "0.0034807103",
         "0.0034889914",
         "0.0034960934",
         "0.0035013126",
         "0.0035042255",
         "0.0035047126",
         "0.0035029065",
         "0.0034991102",
         "0.003493735",
         "0.00348723",
         "0.0034800656",
         "0.0034727403",
         "0.0034657915",
         "0.0034598052",
         "0.003455379",
         "0.0034530659",
         "0.0034532591",
         "0.0034560992",
         "0.003461399",
         "0.0034686336",
         "0.0034769888",
         "0.0034855052",
         "0.003493219",
         "0.003180157",
         "0.0029013297",
         "0.0027707359",
         "0.002734695",
         "0.0027424486",
         "0.0027659237",
         "0.002791953",
         "0.0028151476",
         "0.0028338395",
         "0.0028480229",
         "0.002858341",
         "0.0028656088",
         "0.002870592",
         "0.00287393",
         "0.0028761178",
         "0.0028775225",
         "0.0028784056",
         "0.0028789486",
         "0.0028792755",
         "0.0028794655",
         "0.0028795712",
         "0.0028796268",
         "0.0028796543",
         "0.0028796645",
         "0.0028796645",
         "0.0028796631",
         "0.0028796585",
         "0.002879655",
         "0.00287965",
         "0.0028796466",
         "0.0028796433",
         "0.0028796403",
         "0.0028796385",
         "0.0028796385",
         "0.0028796364",
         "0.002879636",
         "0.002879635",
         "0.0028796343",
         "0.002879635",
         "0.002879635",
         "0.0028796343",
         "0.0028796343",
         "0.0028796343",
         "0.0028796343",
         "0.0028796343",
         "0.0028796343",
         "0.0028796343",
         "0.0028796343",
         "0.0028796343",
         "0.0028796343",
         "0.0028796343",
         "0.0028796343",
         "0.0028796343",
         "0.0028796343",
         "0.0028796343",
         "0.0028796343",
         "0.0028796343",
         "0.0028796343",
         "0.0028796343",
         "0.0028796343",
         "0.0028796343",
         "0.0028796343",
         "0.0028796338",
         "0.0008769933",
         "0.0009487379",
         "0.0010779648"
        ],
        [
         "1",
         "0.0028783847",
         "0.003124909",
         "0.003282696",
         "0.0033820046",
         "0.0034377328",
         "0.0034650217",
         "0.0034763555",
         "0.0034798717",
         "0.003479962",
         "0.0034785725",
         "0.0034763324",
         "0.0034733142",
         "0.003469474",
         "0.0034648308",
         "0.003459515",
         "0.0034537509",
         "0.0034478002",
         "0.0034419359",
         "0.0034364169",
         "0.0034315053",
         "0.003427466",
         "0.0034245932",
         "0.0034231723",
         "0.0034234389",
         "0.0034254957",
         "0.0034292513",
         "0.0034343798",
         "0.0034403328",
         "0.0034464186",
         "0.0034519094",
         "0.0034561711",
         "0.0034587684",
         "0.0034595083",
         "0.0034584396",
         "0.0034558051",
         "0.0034519695",
         "0.0034473392",
         "0.003442312",
         "0.003437256",
         "0.0034324988",
         "0.003428365",
         "0.0034251723",
         "0.003423244",
         "0.0034228642",
         "0.0034242203",
         "0.003427318",
         "0.003431944",
         "0.0034376443",
         "0.0034437804",
         "0.0034496256",
         "0.0034544955",
         "0.003457856",
         "0.0034594103",
         "0.003459106",
         "0.0034571122",
         "0.0034537467",
         "0.0034494116",
         "0.003444508",
         "0.003439424",
         "0.0034344993",
         "0.0034300566",
         "0.0034264163",
         "0.0034239034",
         "0.0034228237",
         "0.003423416",
         "0.0034257723",
         "0.0034297802",
         "0.0034350848",
         "0.0034411186",
         "0.0034471797",
         "0.003452548",
         "0.0034566135",
         "0.003458969",
         "0.0034594596",
         "0.0034581635",
         "0.0034553455",
         "0.0034513804",
         "0.0034466726",
         "0.0034416218",
         "0.003436588",
         "0.003431898",
         "0.0034278715",
         "0.0034248326",
         "0.003423097",
         "0.0034229453",
         "0.0034245388",
         "0.0034278608",
         "0.0034326632",
         "0.0034384632",
         "0.0034446015",
         "0.0034503536",
         "0.0034550456",
         "0.0034581756",
         "0.0034594755",
         "0.0034589302",
         "0.0034567283",
         "0.00345321",
         "0.0034487746",
         "0.0034438265",
         "0.0034387435",
         "0.0034338639",
         "0.003429511",
         "0.0034260044",
         "0.0034236666",
         "0.0034228016",
         "0.0034236317",
         "0.0034262226",
         "0.0034304312",
         "0.003435872",
         "0.0034419515",
         "0.0034479606",
         "0.0034531844",
         "0.0034570373",
         "0.0034591453",
         "0.0034593854",
         "0.003457864",
         "0.0034548684",
         "0.0034507778",
         "0.0034460046",
         "0.0034409342",
         "0.0034359277",
         "0.003431309",
         "0.0034273965",
         "0.0034245148",
         "0.0034229795",
         "0.003423057",
         "0.0034248887",
         "0.0034284322",
         "0.0034334022",
         "0.0034392881",
         "0.0034454172",
         "0.0034510628",
         "0.0034555679",
         "0.003458461",
         "0.0034595076",
         "0.0034587225",
         "0.003456322",
         "0.0034526559",
         "0.0034481257",
         "0.0034431384",
         "0.0034380648",
         "0.0034332394",
         "0.0034289814",
         "0.0034256133",
         "0.0034234594",
         "0.0034228114",
         "0.003423879",
         "0.003426703",
         "0.003431106",
         "0.0034366709",
         "0.0034427836",
         "0.003448726",
         "0.0034537963",
         "0.0034574296",
         "0.0034592873",
         "0.0034592766",
         "0.0034575386",
         "0.0034543702",
         "0.0034501643",
         "0.0034453275",
         "0.0034402476",
         "0.003435274",
         "0.0034307323",
         "0.0034269406",
         "0.0034242212",
         "0.0034228913",
         "0.0034231988",
         "0.003425272",
         "0.003429029",
         "0.0034341563",
         "0.003440117",
         "0.003446224",
         "0.0034517506",
         "0.0034560617",
         "0.0034587125",
         "0.003459505",
         "0.0034584866",
         "0.0034558917",
         "0.0034520838",
         "0.0034474707",
         "0.0034424507",
         "0.0034373912",
         "0.0034326224",
         "0.0034284664",
         "0.003425245",
         "0.0034232773",
         "0.0034228521",
         "0.0034241597",
         "0.0034272128",
         "0.0034318015",
         "0.0034374804",
         "0.0034436113",
         "0.0034494752",
         "0.0034543802",
         "0.003457789",
         "0.0034593928",
         "0.0034591372",
         "0.0034571856",
         "0.003453855",
         "0.0034495385",
         "0.0034446467",
         "0.0034395626",
         "0.0034346278",
         "0.0034301686",
         "0.0034265027",
         "0.0034239534",
         "0.003422832",
         "0.003423376",
         "0.003425685",
         "0.0034296496",
         "0.0034349267",
         "0.003440949",
         "0.0034470193",
         "0.0034524156",
         "0.003456523",
         "0.0034589302",
         "0.0034594703",
         "0.0034582203",
         "0.0034554403",
         "0.0034514987",
         "0.003446809",
         "0.0034417636",
         "0.0034367223",
         "0.0034320191",
         "0.0034279695",
         "0.0034248987",
         "0.0034231248",
         "0.0034229264",
         "0.0034244724",
         "0.0034277495",
         "0.003432516",
         "0.0034382977",
         "0.0034444365",
         "0.0034502079",
         "0.003454937",
         "0.003223455",
         "0.002994229",
         "0.0028845724",
         "0.0028575112",
         "0.002869856",
         "0.0028962698",
         "0.002924515",
         "0.0029494972",
         "0.0029696494",
         "0.00298501",
         "0.002996257",
         "0.0030042436",
         "0.0030097703",
         "0.0030135142",
         "0.003015999",
         "0.0030176195",
         "0.0030186577",
         "0.0030193098",
         "0.0030197145",
         "0.0030199587",
         "0.0030201026",
         "0.0030201839",
         "0.0030202295",
         "0.0030202523",
         "0.0030202612",
         "0.0030202654",
         "0.0030202647",
         "0.003020264",
         "0.0030202612",
         "0.0030202589",
         "0.0030202568",
         "0.003020254",
         "0.0030202523",
         "0.0030202523",
         "0.003020251",
         "0.0030202505",
         "0.0030202495",
         "0.0030202495",
         "0.0030202495",
         "0.0030202505",
         "0.0030202495",
         "0.0030202495",
         "0.0030202495",
         "0.0030202495",
         "0.0030202495",
         "0.0030202495",
         "0.0030202495",
         "0.0030202495",
         "0.0030202495",
         "0.0030202495",
         "0.0030202495",
         "0.0030202495",
         "0.0030202495",
         "0.0030202488",
         "0.0030202488",
         "0.0030202488",
         "0.0030202488",
         "0.0030202488",
         "0.0030202488",
         "0.0030202488",
         "0.0030202488",
         "0.0030202488",
         "0.0030202488",
         "0.0008390348",
         "0.0008695859",
         "0.00095414935"
        ],
        [
         "2",
         "0.0029980165",
         "0.0032048246",
         "0.003327479",
         "0.0034015046",
         "0.0034403387",
         "0.0034566128",
         "0.00346066",
         "0.0034591176",
         "0.003455462",
         "0.0034511515",
         "0.0034466004",
         "0.003441809",
         "0.0034367216",
         "0.0034313623",
         "0.0034258526",
         "0.0034203944",
         "0.003415207",
         "0.0034105037",
         "0.00340646",
         "0.0034032324",
         "0.003400949",
         "0.0033997453",
         "0.0033997372",
         "0.0034010052",
         "0.0034035286",
         "0.0034071498",
         "0.0034115482",
         "0.0034162535",
         "0.003420714",
         "0.0034243835",
         "0.0034268273",
         "0.0034277916",
         "0.003427226",
         "0.0034252803",
         "0.0034222493",
         "0.0034185054",
         "0.003414436",
         "0.0034103931",
         "0.003406677",
         "0.003403518",
         "0.0034011179",
         "0.0033996457",
         "0.0033992557",
         "0.0034000694",
         "0.003402131",
         "0.0034053565",
         "0.003409503",
         "0.0034141631",
         "0.003418815",
         "0.0034228996",
         "0.0034259271",
         "0.003427553",
         "0.0034276443",
         "0.0034262694",
         "0.0034236675",
         "0.0034201841",
         "0.003416211",
         "0.0034121159",
         "0.0034082278",
         "0.003404802",
         "0.003402052",
         "0.003400158",
         "0.0033992832",
         "0.0033995654",
         "0.0034010888",
         "0.0034038296",
         "0.0034076192",
         "0.0034121159",
         "0.0034168407",
         "0.0034212377",
         "0.003424774",
         "0.0034270356",
         "0.003427793",
         "0.003427033",
         "0.0034249225",
         "0.0034217737",
         "0.003417966",
         "0.0034138784",
         "0.0034098655",
         "0.0034062124",
         "0.0034031465",
         "0.0034008615",
         "0.003399528",
         "0.0033992936",
         "0.0034002762",
         "0.0034025023",
         "0.0034058688",
         "0.0034101119",
         "0.0034148048",
         "0.003419411",
         "0.0034233797",
         "0.0034262317",
         "0.003427656",
         "0.0034275397",
         "0.0034259835",
         "0.003423239",
         "0.0034196677",
         "0.0034156581",
         "0.003411574",
         "0.0034077337",
         "0.0034043873",
         "0.003401743",
         "0.0033999772",
         "0.0033992508",
         "0.0033996967",
         "0.0034013903",
         "0.003404286",
         "0.0034081945",
         "0.0034127529",
         "0.0034174656",
         "0.0034217753",
         "0.0034251611",
         "0.0034272277",
         "0.0034277777",
         "0.0034268207",
         "0.0034245502",
         "0.0034212898",
         "0.003417421",
         "0.0034133275",
         "0.0034093454",
         "0.0034057584",
         "0.0034027887",
         "0.0034006224",
         "0.0033994284",
         "0.0033993537",
         "0.0034005055",
         "0.0034028934",
         "0.0034064",
         "0.0034107314",
         "0.003415444",
         "0.0034199965",
         "0.003423839",
         "0.0034265127",
         "0.0034277302",
         "0.0034274105",
         "0.0034256738",
         "0.003422797",
         "0.0034191436",
         "0.0034151012",
         "0.0034110348",
         "0.003407248",
         "0.0034039863",
         "0.0034014494",
         "0.003399815",
         "0.0033992403",
         "0.0033998524",
         "0.0034017132",
         "0.0034047614",
         "0.003408782",
         "0.0034133932",
         "0.0034180833",
         "0.0034222975",
         "0.0034255236",
         "0.0034273926",
         "0.0034277341",
         "0.0034265846",
         "0.00342416",
         "0.0034207932",
         "0.0034168733",
         "0.0034127757",
         "0.0034088332",
         "0.0034053174",
         "0.0034024448",
         "0.003400401",
         "0.003399349",
         "0.0033994366",
         "0.0034007553",
         "0.003403308",
         "0.003406945",
         "0.0034113568",
         "0.0034160798",
         "0.003420569",
         "0.0034242775",
         "0.0034267667",
         "0.0034277758",
         "0.0034272538",
         "0.0034253462",
         "0.0034223406",
         "0.0034186114",
         "0.0034145466",
         "0.0034105007",
         "0.003406771",
         "0.0034035959",
         "0.0034011723",
         "0.0033996722",
         "0.0033992508",
         "0.0034000305",
         "0.0034020585",
         "0.003405255",
         "0.003409381",
         "0.003414034",
         "0.0034186922",
         "0.0034228",
         "0.0034258608",
         "0.00342753",
         "0.0034276624",
         "0.0034263239",
         "0.0034237518",
         "0.0034202877",
         "0.003416322",
         "0.0034122274",
         "0.0034083286",
         "0.0034048872",
         "0.003402117",
         "0.0034001977",
         "0.0033992915",
         "0.0033995411",
         "0.0034010303",
         "0.0034037398",
         "0.0034075032",
         "0.0034119873",
         "0.003416712",
         "0.003421126",
         "0.0034246922",
         "0.0034269923",
         "0.0034277947",
         "0.0034270715",
         "0.003424995",
         "0.0034218708",
         "0.0034180735",
         "0.0034139922",
         "0.0034099736",
         "0.0034063049",
         "0.0034032203",
         "0.003400912",
         "0.003399549",
         "0.003399284",
         "0.0034002324",
         "0.003402426",
         "0.003405765",
         "0.0034099882",
         "0.003414676",
         "0.003419292",
         "0.003423284",
         "0.003426173",
         "0.0032553033",
         "0.0030671996",
         "0.002974563",
         "0.0029533294",
         "0.0029673134",
         "0.0029940286",
         "0.003022279",
         "0.0030472947",
         "0.0030675717",
         "0.0030831264",
         "0.0030945987",
         "0.0031028094",
         "0.0031085429",
         "0.0031124637",
         "0.0031150961",
         "0.0031168337",
         "0.0031179627",
         "0.0031186854",
         "0.0031191413",
         "0.0031194254",
         "0.0031195972",
         "0.0031197",
         "0.0031197602",
         "0.0031197935",
         "0.0031198107",
         "0.0031198203",
         "0.003119824",
         "0.0031198254",
         "0.003119824",
         "0.003119824",
         "0.0031198217",
         "0.0031198203",
         "0.0031198189",
         "0.0031198203",
         "0.003119818",
         "0.003119818",
         "0.0031198172",
         "0.0031198165",
         "0.0031198172",
         "0.003119818",
         "0.0031198172",
         "0.0031198172",
         "0.0031198172",
         "0.0031198172",
         "0.0031198172",
         "0.0031198172",
         "0.0031198165",
         "0.0031198165",
         "0.0031198165",
         "0.0031198165",
         "0.0031198165",
         "0.0031198165",
         "0.0031198165",
         "0.0031198165",
         "0.0031198165",
         "0.0031198165",
         "0.0031198165",
         "0.0031198165",
         "0.0031198165",
         "0.0031198165",
         "0.0031198165",
         "0.0031198165",
         "0.0031198165",
         "0.00085832604",
         "0.0008577418",
         "0.00091098255"
        ],
        [
         "3",
         "0.0030981475",
         "0.003268331",
         "0.003360778",
         "0.003414056",
         "0.0034397081",
         "0.0034478786",
         "0.0034469154",
         "0.0034421324",
         "0.0034362345",
         "0.0034302794",
         "0.0034244996",
         "0.0034188342",
         "0.0034132078",
         "0.0034076308",
         "0.0034022073",
         "0.0033971139",
         "0.0033925343",
         "0.0033886435",
         "0.0033855666",
         "0.0033833985",
         "0.0033821878",
         "0.0033819766",
         "0.0033827792",
         "0.0033845804",
         "0.0033872859",
         "0.003390703",
         "0.0033945246",
         "0.003398341",
         "0.0034017067",
         "0.0034042024",
         "0.0034055256",
         "0.0034055347",
         "0.003404264",
         "0.0034019065",
         "0.003398772",
         "0.0033952207",
         "0.0033916137",
         "0.0033882647",
         "0.0033854272",
         "0.0033832751",
         "0.003381938",
         "0.0033814944",
         "0.0033819985",
         "0.0033834686",
         "0.003385867",
         "0.0033890533",
         "0.003392777",
         "0.0033966715",
         "0.0034003023",
         "0.0034032303",
         "0.0034050976",
         "0.0034056832",
         "0.0034049533",
         "0.0034030362",
         "0.0034001977",
         "0.003396781",
         "0.003393158",
         "0.0033896617",
         "0.0033865783",
         "0.0033841133",
         "0.003382412",
         "0.003381572",
         "0.0033816614",
         "0.0033827154",
         "0.0033847224",
         "0.0033875918",
         "0.0033911222",
         "0.0033949933",
         "0.003398793",
         "0.0034020767",
         "0.0034044378",
         "0.0034055938",
         "0.0034054266",
         "0.0034039977",
         "0.0034015176",
         "0.0033983062",
         "0.0033947292",
         "0.0033911376",
         "0.0033878463",
         "0.003385093",
         "0.003383046",
         "0.0033818253",
         "0.0033815065",
         "0.0033821405",
         "0.0033837412",
         "0.0033862554",
         "0.0033895308",
         "0.003393301",
         "0.0033971881",
         "0.0034007467",
         "0.003403551",
         "0.003405253",
         "0.0034056613",
         "0.0034047593",
         "0.0034027004",
         "0.003399761",
         "0.0033962973",
         "0.0033926726",
         "0.003389218",
         "0.003386207",
         "0.003383836",
         "0.003382246",
         "0.0033815294",
         "0.0033817468",
         "0.0033829305",
         "0.003385064",
         "0.003388036",
         "0.0033916326",
         "0.0033955202",
         "0.003399277",
         "0.003402457",
         "0.0034046683",
         "0.003405649",
         "0.0034053049",
         "0.003403718",
         "0.0034011188",
         "0.0033978363",
         "0.0033942366",
         "0.0033906712",
         "0.0033874384",
         "0.0033847718",
         "0.0033828316",
         "0.0033817275",
         "0.0033815356",
         "0.0033823",
         "0.0033840311",
         "0.0033866572",
         "0.0033900198",
         "0.0033938303",
         "0.003397697",
         "0.0034011789",
         "0.003403851",
         "0.003405386",
         "0.003405615",
         "0.003404544",
         "0.0034023467",
         "0.003399316",
         "0.0033958093",
         "0.0033921872",
         "0.0033887792",
         "0.003385845",
         "0.0033835745",
         "0.0033820977",
         "0.0033815033",
         "0.003381851",
         "0.0033831648",
         "0.003385419",
         "0.003388491",
         "0.00339215",
         "0.0033960456",
         "0.0033997495",
         "0.0034028196",
         "0.0034048778",
         "0.00340568",
         "0.0034051593",
         "0.0034034194",
         "0.0034007079",
         "0.00339736",
         "0.0033937453",
         "0.0033902095",
         "0.0033870419",
         "0.0033844644",
         "0.0033826313",
         "0.0033816479",
         "0.0033815817",
         "0.0033824784",
         "0.0033843336",
         "0.0033870742",
         "0.003390516",
         "0.0033943572",
         "0.003398199",
         "0.0034015963",
         "0.0034041302",
         "0.0034054955",
         "0.0034055435",
         "0.0034043072",
         "0.00340198",
         "0.0033988622",
         "0.0033953185",
         "0.0033917094",
         "0.0033883504",
         "0.0033854959",
         "0.0033833252",
         "0.0033819631",
         "0.0033814937",
         "0.003381971",
         "0.0033834162",
         "0.0033857904",
         "0.0033889585",
         "0.0033926717",
         "0.0033965672",
         "0.0034002098",
         "0.0034031621",
         "0.003405062",
         "0.0034056872",
         "0.0034049905",
         "0.003403102",
         "0.0034002846",
         "0.0033968799",
         "0.0033932559",
         "0.0033897536",
         "0.0033866558",
         "0.0033841706",
         "0.003382447",
         "0.0033815834",
         "0.0033816453",
         "0.0033826735",
         "0.0033846556",
         "0.003387503",
         "0.0033910181",
         "0.0033948855",
         "0.0033986934",
         "0.0034019973",
         "0.0034043882",
         "0.0034055791",
         "0.0034054501",
         "0.0034040506",
         "0.0034015956",
         "0.003398401",
         "0.0033948265",
         "0.0033912347",
         "0.003387932",
         "0.0033851592",
         "0.003383092",
         "0.0033818453",
         "0.0033815017",
         "0.0033821098",
         "0.003383685",
         "0.0033861755",
         "0.0033894347",
         "0.0033931944",
         "0.0033970848",
         "0.0034006592",
         "0.0034034876",
         "0.0034052236",
         "0.0032782182",
         "0.0031222128",
         "0.0030427806",
         "0.003025353",
         "0.0030395808",
         "0.0030655016",
         "0.0030928685",
         "0.0031172086",
         "0.0031370556",
         "0.0031523798",
         "0.0031637626",
         "0.003171969",
         "0.0031777434",
         "0.003181725",
         "0.0031844224",
         "0.0031862215",
         "0.0031874029",
         "0.003188169",
         "0.0031886608",
         "0.0031889712",
         "0.003189164",
         "0.003189282",
         "0.0031893542",
         "0.0031893975",
         "0.0031894203",
         "0.003189434",
         "0.0031894408",
         "0.0031894445",
         "0.0031894455",
         "0.0031894455",
         "0.0031894462",
         "0.0031894445",
         "0.003189444",
         "0.0031894445",
         "0.0031894431",
         "0.0031894422",
         "0.0031894422",
         "0.0031894422",
         "0.0031894431",
         "0.0031894431",
         "0.0031894431",
         "0.0031894431",
         "0.0031894431",
         "0.0031894431",
         "0.0031894431",
         "0.0031894431",
         "0.0031894422",
         "0.0031894422",
         "0.0031894422",
         "0.0031894422",
         "0.0031894422",
         "0.0031894422",
         "0.0031894422",
         "0.0031894422",
         "0.0031894422",
         "0.0031894422",
         "0.0031894422",
         "0.0031894422",
         "0.0031894422",
         "0.0031894422",
         "0.0031894422",
         "0.0031894422",
         "0.0031894422",
         "0.00089642394",
         "0.00087026093",
         "0.00089949183"
        ],
        [
         "4",
         "0.0031752256",
         "0.0033156108",
         "0.0033844402",
         "0.0034219723",
         "0.0034379284",
         "0.003440358",
         "0.0034360026",
         "0.003429138",
         "0.0034218726",
         "0.0034149638",
         "0.0034085126",
         "0.0034024068",
         "0.0033965537",
         "0.003390951",
         "0.0033856856",
         "0.0033809096",
         "0.003376785",
         "0.0033734583",
         "0.0033710252",
         "0.003369542",
         "0.003369011",
         "0.0033694152",
         "0.0033707079",
         "0.0033728094",
         "0.0033755824",
         "0.0033788127",
         "0.0033822076",
         "0.003385404",
         "0.0033880281",
         "0.0033897522",
         "0.0033903602",
         "0.0033897848",
         "0.0033881105",
         "0.0033855517",
         "0.0033824178",
         "0.0033790546",
         "0.0033757957",
         "0.0033729284",
         "0.0033706757",
         "0.0033691765",
         "0.0033685116",
         "0.0033687076",
         "0.0033697549",
         "0.003371609",
         "0.0033741759",
         "0.0033772825",
         "0.0033806774",
         "0.0033840265",
         "0.0033869555",
         "0.0033891131",
         "0.003390229",
         "0.003390167",
         "0.0033889508",
         "0.0033867434",
         "0.00338382",
         "0.0033805121",
         "0.0033771715",
         "0.0033741028",
         "0.003371564",
         "0.003369726",
         "0.0033686946",
         "0.0033685165",
         "0.0033691998",
         "0.0033707137",
         "0.0033729877",
         "0.0033758865",
         "0.0033791938",
         "0.003382606",
         "0.0033857631",
         "0.0033882947",
         "0.0033898863",
         "0.0033903406",
         "0.0033896116",
         "0.0033878053",
         "0.0033851513",
         "0.003381967",
         "0.0033786008",
         "0.003375378",
         "0.0033725833",
         "0.0033704268",
         "0.0033690378",
         "0.0033684883",
         "0.0033688005",
         "0.0033699598",
         "0.0033719183",
         "0.0033745684",
         "0.0033777303",
         "0.0033811391",
         "0.0033844549",
         "0.0033872987",
         "0.003389329",
         "0.0033902905",
         "0.0033900691",
         "0.003388706",
         "0.003386384",
         "0.0033833866",
         "0.003380057",
         "0.0033767351",
         "0.003373727",
         "0.003371273",
         "0.003369538",
         "0.0033686198",
         "0.0033685598",
         "0.0033693565",
         "0.003370977",
         "0.0033733465",
         "0.0033763156",
         "0.0033796562",
         "0.0033830567",
         "0.0033861499",
         "0.003388571",
         "0.0033900174",
         "0.003390311",
         "0.0033894267",
         "0.0033874896",
         "0.0033847445",
         "0.0033815156",
         "0.0033781498",
         "0.0033749724",
         "0.003372252",
         "0.003370192",
         "0.003368913",
         "0.0033684794",
         "0.0033689074",
         "0.0033701793",
         "0.00337224",
         "0.0033749698",
         "0.0033781845",
         "0.003381602",
         "0.0033848744",
         "0.0033876274",
         "0.0033895262",
         "0.0033903301",
         "0.0033899487",
         "0.0033884435",
         "0.0033860102",
         "0.0033829494",
         "0.0033796006",
         "0.0033763028",
         "0.003373357",
         "0.0033709933",
         "0.003369366",
         "0.0033685614",
         "0.0033686175",
         "0.0033695283",
         "0.003371256",
         "0.0033737158",
         "0.0033767503",
         "0.0033801196",
         "0.0033835021",
         "0.0033865236",
         "0.003388828",
         "0.0033901266",
         "0.003390259",
         "0.0033892223",
         "0.00338716",
         "0.003384329",
         "0.003381061",
         "0.0033777028",
         "0.0033745724",
         "0.003371932",
         "0.0033699712",
         "0.0033688047",
         "0.0033684876",
         "0.0033690303",
         "0.0033704138",
         "0.0033725705",
         "0.003375382",
         "0.003378641",
         "0.00338206",
         "0.0033852835",
         "0.0033879408",
         "0.0033897024",
         "0.0033903487",
         "0.0033898081",
         "0.0033881622",
         "0.0033856274",
         "0.0033825058",
         "0.003379144",
         "0.0033758793",
         "0.0033729998",
         "0.0033707272",
         "0.003369207",
         "0.003368518",
         "0.0033686906",
         "0.0033697155",
         "0.003371548",
         "0.003374097",
         "0.0033771931",
         "0.0033805838",
         "0.0033839385",
         "0.0033868838",
         "0.003389066",
         "0.0033902146",
         "0.0033901865",
         "0.0033889983",
         "0.0033868141",
         "0.0033839054",
         "0.0033806055",
         "0.0033772592",
         "0.0033741815",
         "0.0033716252",
         "0.0033697654",
         "0.0033687113",
         "0.00336851",
         "0.0033691684",
         "0.0033706613",
         "0.0033729163",
         "0.0033758003",
         "0.0033790995",
         "0.0033825147",
         "0.003385684",
         "0.0033882374",
         "0.0033898572",
         "0.0033903448",
         "0.0033896482",
         "0.0033878658",
         "0.003385232",
         "0.003382058",
         "0.0033786912",
         "0.0033754632",
         "0.003372655",
         "0.0033704757",
         "0.003369065",
         "0.0033684906",
         "0.0033687798",
         "0.0033699172",
         "0.003371854",
         "0.003374488",
         "0.00337764",
         "0.0033810455",
         "0.0033843692",
         "0.003387231",
         "0.0033892868",
         "0.00339028",
         "0.0032943038",
         "0.003162269",
         "0.003092746",
         "0.0030779084",
         "0.003091916",
         "0.0031168275",
         "0.0031431736",
         "0.003166722",
         "0.0031860324",
         "0.0032010302",
         "0.0032122375",
         "0.0032203675",
         "0.0032261233",
         "0.00323012",
         "0.0032328465",
         "0.0032346786",
         "0.0032358926",
         "0.0032366873",
         "0.003237203",
         "0.0032375325",
         "0.0032377408",
         "0.0032378715",
         "0.0032379508",
         "0.003238001",
         "0.0032380288",
         "0.0032380465",
         "0.0032380559",
         "0.0032380621",
         "0.0032380635",
         "0.0032380652",
         "0.0032380659",
         "0.0032380652",
         "0.0032380645",
         "0.0032380659",
         "0.0032380645",
         "0.0032380645",
         "0.0032380635",
         "0.0032380635",
         "0.0032380645",
         "0.0032380652",
         "0.0032380645",
         "0.0032380645",
         "0.0032380652",
         "0.0032380652",
         "0.0032380652",
         "0.0032380652",
         "0.0032380645",
         "0.0032380645",
         "0.0032380645",
         "0.0032380645",
         "0.0032380645",
         "0.0032380645",
         "0.0032380645",
         "0.0032380645",
         "0.0032380645",
         "0.0032380645",
         "0.0032380645",
         "0.0032380645",
         "0.0032380645",
         "0.0032380645",
         "0.0032380645",
         "0.0032380645",
         "0.0032380635",
         "0.0009334755",
         "0.0008859217",
         "0.0008958558"
        ]
       ],
       "shape": {
        "columns": 301,
        "rows": 5
       }
      },
      "text/html": [
       "<div>\n",
       "<style scoped>\n",
       "    .dataframe tbody tr th:only-of-type {\n",
       "        vertical-align: middle;\n",
       "    }\n",
       "\n",
       "    .dataframe tbody tr th {\n",
       "        vertical-align: top;\n",
       "    }\n",
       "\n",
       "    .dataframe thead th {\n",
       "        text-align: right;\n",
       "    }\n",
       "</style>\n",
       "<table border=\"1\" class=\"dataframe\">\n",
       "  <thead>\n",
       "    <tr style=\"text-align: right;\">\n",
       "      <th></th>\n",
       "      <th>0</th>\n",
       "      <th>1</th>\n",
       "      <th>2</th>\n",
       "      <th>3</th>\n",
       "      <th>4</th>\n",
       "      <th>5</th>\n",
       "      <th>6</th>\n",
       "      <th>7</th>\n",
       "      <th>8</th>\n",
       "      <th>9</th>\n",
       "      <th>...</th>\n",
       "      <th>291</th>\n",
       "      <th>292</th>\n",
       "      <th>293</th>\n",
       "      <th>294</th>\n",
       "      <th>295</th>\n",
       "      <th>296</th>\n",
       "      <th>297</th>\n",
       "      <th>298</th>\n",
       "      <th>299</th>\n",
       "      <th>300</th>\n",
       "    </tr>\n",
       "  </thead>\n",
       "  <tbody>\n",
       "    <tr>\n",
       "      <th>0</th>\n",
       "      <td>0.002751</td>\n",
       "      <td>0.003032</td>\n",
       "      <td>0.003225</td>\n",
       "      <td>0.003352</td>\n",
       "      <td>0.003428</td>\n",
       "      <td>0.003469</td>\n",
       "      <td>0.003491</td>\n",
       "      <td>0.003502</td>\n",
       "      <td>0.003509</td>\n",
       "      <td>0.003513</td>\n",
       "      <td>...</td>\n",
       "      <td>0.002880</td>\n",
       "      <td>0.002880</td>\n",
       "      <td>0.002880</td>\n",
       "      <td>0.002880</td>\n",
       "      <td>0.002880</td>\n",
       "      <td>0.002880</td>\n",
       "      <td>0.002880</td>\n",
       "      <td>0.000877</td>\n",
       "      <td>0.000949</td>\n",
       "      <td>0.001078</td>\n",
       "    </tr>\n",
       "    <tr>\n",
       "      <th>1</th>\n",
       "      <td>0.002878</td>\n",
       "      <td>0.003125</td>\n",
       "      <td>0.003283</td>\n",
       "      <td>0.003382</td>\n",
       "      <td>0.003438</td>\n",
       "      <td>0.003465</td>\n",
       "      <td>0.003476</td>\n",
       "      <td>0.003480</td>\n",
       "      <td>0.003480</td>\n",
       "      <td>0.003479</td>\n",
       "      <td>...</td>\n",
       "      <td>0.003020</td>\n",
       "      <td>0.003020</td>\n",
       "      <td>0.003020</td>\n",
       "      <td>0.003020</td>\n",
       "      <td>0.003020</td>\n",
       "      <td>0.003020</td>\n",
       "      <td>0.003020</td>\n",
       "      <td>0.000839</td>\n",
       "      <td>0.000870</td>\n",
       "      <td>0.000954</td>\n",
       "    </tr>\n",
       "    <tr>\n",
       "      <th>2</th>\n",
       "      <td>0.002998</td>\n",
       "      <td>0.003205</td>\n",
       "      <td>0.003327</td>\n",
       "      <td>0.003402</td>\n",
       "      <td>0.003440</td>\n",
       "      <td>0.003457</td>\n",
       "      <td>0.003461</td>\n",
       "      <td>0.003459</td>\n",
       "      <td>0.003455</td>\n",
       "      <td>0.003451</td>\n",
       "      <td>...</td>\n",
       "      <td>0.003120</td>\n",
       "      <td>0.003120</td>\n",
       "      <td>0.003120</td>\n",
       "      <td>0.003120</td>\n",
       "      <td>0.003120</td>\n",
       "      <td>0.003120</td>\n",
       "      <td>0.003120</td>\n",
       "      <td>0.000858</td>\n",
       "      <td>0.000858</td>\n",
       "      <td>0.000911</td>\n",
       "    </tr>\n",
       "    <tr>\n",
       "      <th>3</th>\n",
       "      <td>0.003098</td>\n",
       "      <td>0.003268</td>\n",
       "      <td>0.003361</td>\n",
       "      <td>0.003414</td>\n",
       "      <td>0.003440</td>\n",
       "      <td>0.003448</td>\n",
       "      <td>0.003447</td>\n",
       "      <td>0.003442</td>\n",
       "      <td>0.003436</td>\n",
       "      <td>0.003430</td>\n",
       "      <td>...</td>\n",
       "      <td>0.003189</td>\n",
       "      <td>0.003189</td>\n",
       "      <td>0.003189</td>\n",
       "      <td>0.003189</td>\n",
       "      <td>0.003189</td>\n",
       "      <td>0.003189</td>\n",
       "      <td>0.003189</td>\n",
       "      <td>0.000896</td>\n",
       "      <td>0.000870</td>\n",
       "      <td>0.000899</td>\n",
       "    </tr>\n",
       "    <tr>\n",
       "      <th>4</th>\n",
       "      <td>0.003175</td>\n",
       "      <td>0.003316</td>\n",
       "      <td>0.003384</td>\n",
       "      <td>0.003422</td>\n",
       "      <td>0.003438</td>\n",
       "      <td>0.003440</td>\n",
       "      <td>0.003436</td>\n",
       "      <td>0.003429</td>\n",
       "      <td>0.003422</td>\n",
       "      <td>0.003415</td>\n",
       "      <td>...</td>\n",
       "      <td>0.003238</td>\n",
       "      <td>0.003238</td>\n",
       "      <td>0.003238</td>\n",
       "      <td>0.003238</td>\n",
       "      <td>0.003238</td>\n",
       "      <td>0.003238</td>\n",
       "      <td>0.003238</td>\n",
       "      <td>0.000933</td>\n",
       "      <td>0.000886</td>\n",
       "      <td>0.000896</td>\n",
       "    </tr>\n",
       "  </tbody>\n",
       "</table>\n",
       "<p>5 rows × 301 columns</p>\n",
       "</div>"
      ],
      "text/plain": [
       "        0         1         2         3         4         5         6    \\\n",
       "0  0.002751  0.003032  0.003225  0.003352  0.003428  0.003469  0.003491   \n",
       "1  0.002878  0.003125  0.003283  0.003382  0.003438  0.003465  0.003476   \n",
       "2  0.002998  0.003205  0.003327  0.003402  0.003440  0.003457  0.003461   \n",
       "3  0.003098  0.003268  0.003361  0.003414  0.003440  0.003448  0.003447   \n",
       "4  0.003175  0.003316  0.003384  0.003422  0.003438  0.003440  0.003436   \n",
       "\n",
       "        7         8         9    ...       291       292       293       294  \\\n",
       "0  0.003502  0.003509  0.003513  ...  0.002880  0.002880  0.002880  0.002880   \n",
       "1  0.003480  0.003480  0.003479  ...  0.003020  0.003020  0.003020  0.003020   \n",
       "2  0.003459  0.003455  0.003451  ...  0.003120  0.003120  0.003120  0.003120   \n",
       "3  0.003442  0.003436  0.003430  ...  0.003189  0.003189  0.003189  0.003189   \n",
       "4  0.003429  0.003422  0.003415  ...  0.003238  0.003238  0.003238  0.003238   \n",
       "\n",
       "        295       296       297       298       299       300  \n",
       "0  0.002880  0.002880  0.002880  0.000877  0.000949  0.001078  \n",
       "1  0.003020  0.003020  0.003020  0.000839  0.000870  0.000954  \n",
       "2  0.003120  0.003120  0.003120  0.000858  0.000858  0.000911  \n",
       "3  0.003189  0.003189  0.003189  0.000896  0.000870  0.000899  \n",
       "4  0.003238  0.003238  0.003238  0.000933  0.000886  0.000896  \n",
       "\n",
       "[5 rows x 301 columns]"
      ]
     },
     "execution_count": 22,
     "metadata": {},
     "output_type": "execute_result"
    }
   ],
   "source": [
    "\n",
    "att = attn_train.detach().numpy()\n",
    "dataArr = []\n",
    "for sample in range(0, att.shape[0]):\n",
    "    for head in range(0, att.shape[2]):\n",
    "        data = att[sample, :, head, :] \n",
    "        dataArr.append(data[-1,:]) # Can choose -2 or -3 for specific output\n",
    "\n",
    "df = pd.DataFrame(data)\n",
    "df.head()"
   ]
  },
  {
   "cell_type": "code",
   "execution_count": null,
   "id": "8a2930cc",
   "metadata": {},
   "outputs": [
    {
     "data": {
      "text/plain": [
       "Text(0, 0.5, 'Attention Score')"
      ]
     },
     "execution_count": 23,
     "metadata": {},
     "output_type": "execute_result"
    },
    {
     "data": {
      "image/png": "[encoded data removed]",
      "text/plain": [
       "<Figure size 2000x400 with 1 Axes>"
      ]
     },
     "metadata": {},
     "output_type": "display_data"
    }
   ],
   "source": [
    "import matplotlib.pyplot as plt\n",
    "fig, ax = plt.subplots(figsize=(20,4))\n",
    "df.mean(axis=0).plot(logy=True, ax=ax)\n",
    "ax.set_title(\"Attention\")\n",
    "ax.set_xlabel(\"Time Step\")\n",
    "ax.set_ylabel(\"Attention Score\")"
   ]
  },
  {
   "cell_type": "code",
   "execution_count": null,
   "id": "08e5b4c4",
   "metadata": {},
   "outputs": [],
   "source": []
  }
 ],
 "metadata": {
  "kernelspec": {
   "display_name": ".venv",
   "language": "python",
   "name": "python3"
  },
  "language_info": {
   "codemirror_mode": {
    "name": "ipython",
    "version": 3
   },
   "file_extension": ".py",
   "mimetype": "text/x-python",
   "name": "python",
   "nbconvert_exporter": "python",
   "pygments_lexer": "ipython3",
   "version": "3.12.10"
  }
 },
 "nbformat": 4,
 "nbformat_minor": 5
}
