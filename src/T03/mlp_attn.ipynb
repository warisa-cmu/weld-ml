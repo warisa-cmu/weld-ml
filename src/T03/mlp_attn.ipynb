{
 "cells": [
  {
   "cell_type": "code",
   "execution_count": 1,
   "id": "2d0cd0ce",
   "metadata": {},
   "outputs": [],
   "source": [
    "%load_ext autoreload\n",
    "%autoreload 2\n"
   ]
  },
  {
   "cell_type": "code",
   "execution_count": 2,
   "id": "b5660f71",
   "metadata": {},
   "outputs": [],
   "source": [
    "import copy\n",
    "\n",
    "import matplotlib.pyplot as plt\n",
    "import numpy as np\n",
    "import pandas as pd\n",
    "import torch\n",
    "import torch.nn as nn\n",
    "import torch.optim as optim\n",
    "import tqdm\n",
    "from T01_prototype.S00_utils import loadPickle, plot_res, store_results\n",
    "from sklearn.preprocessing import MinMaxScaler, StandardScaler"
   ]
  },
  {
   "cell_type": "code",
   "execution_count": 3,
   "id": "cb46c495",
   "metadata": {},
   "outputs": [
    {
     "name": "stdout",
     "output_type": "stream",
     "text": [
      "torch.Size([6, 3])\n",
      "torch.Size([6, 53, 2, 53])\n"
     ]
    }
   ],
   "source": [
    "from T02_fusion_transformer.S02_attn.models import MyModel_Attn as MyModel"
   ]
  },
  {
   "cell_type": "code",
   "execution_count": 4,
   "id": "3a941414",
   "metadata": {},
   "outputs": [
    {
     "data": {
      "application/vnd.microsoft.datawrangler.viewer.v0+json": {
       "columns": [
        {
         "name": "id",
         "rawType": "object",
         "type": "string"
        },
        {
         "name": "m1",
         "rawType": "float64",
         "type": "float"
        },
        {
         "name": "m2",
         "rawType": "float64",
         "type": "float"
        },
        {
         "name": "m3",
         "rawType": "float64",
         "type": "float"
        },
        {
         "name": "s1__autocorrelation__lag_8",
         "rawType": "float64",
         "type": "float"
        },
        {
         "name": "s1__autocorrelation__lag_9",
         "rawType": "float64",
         "type": "float"
        },
        {
         "name": "s1__autocorrelation__lag_7",
         "rawType": "float64",
         "type": "float"
        },
        {
         "name": "s1__autocorrelation__lag_6",
         "rawType": "float64",
         "type": "float"
        },
        {
         "name": "s1__autocorrelation__lag_5",
         "rawType": "float64",
         "type": "float"
        },
        {
         "name": "s1__autocorrelation__lag_4",
         "rawType": "float64",
         "type": "float"
        },
        {
         "name": "s1__longest_strike_above_mean",
         "rawType": "int64",
         "type": "integer"
        },
        {
         "name": "s1__autocorrelation__lag_3",
         "rawType": "float64",
         "type": "float"
        },
        {
         "name": "s1__approximate_entropy__m_2__r_0.7",
         "rawType": "float64",
         "type": "float"
        },
        {
         "name": "s1__longest_strike_below_mean",
         "rawType": "int64",
         "type": "integer"
        },
        {
         "name": "s1__autocorrelation__lag_2",
         "rawType": "float64",
         "type": "float"
        },
        {
         "name": "s1__approximate_entropy__m_2__r_0.9",
         "rawType": "float64",
         "type": "float"
        },
        {
         "name": "s1__permutation_entropy__dimension_3__tau_1",
         "rawType": "float64",
         "type": "float"
        },
        {
         "name": "s1__autocorrelation__lag_1",
         "rawType": "float64",
         "type": "float"
        },
        {
         "name": "s1__partial_autocorrelation__lag_1",
         "rawType": "float64",
         "type": "float"
        },
        {
         "name": "s1__permutation_entropy__dimension_5__tau_1",
         "rawType": "float64",
         "type": "float"
        },
        {
         "name": "s1__permutation_entropy__dimension_4__tau_1",
         "rawType": "float64",
         "type": "float"
        },
        {
         "name": "s1__permutation_entropy__dimension_6__tau_1",
         "rawType": "float64",
         "type": "float"
        },
        {
         "name": "s1__permutation_entropy__dimension_7__tau_1",
         "rawType": "float64",
         "type": "float"
        },
        {
         "name": "s1__cid_ce__normalize_True",
         "rawType": "float64",
         "type": "float"
        },
        {
         "name": "s1__approximate_entropy__m_2__r_0.3",
         "rawType": "float64",
         "type": "float"
        },
        {
         "name": "s1__partial_autocorrelation__lag_8",
         "rawType": "float64",
         "type": "float"
        },
        {
         "name": "s1__partial_autocorrelation__lag_9",
         "rawType": "float64",
         "type": "float"
        },
        {
         "name": "s1__partial_autocorrelation__lag_7",
         "rawType": "float64",
         "type": "float"
        },
        {
         "name": "s1__partial_autocorrelation__lag_6",
         "rawType": "float64",
         "type": "float"
        },
        {
         "name": "s1__number_peaks__n_1",
         "rawType": "int64",
         "type": "integer"
        },
        {
         "name": "s1__number_peaks__n_3",
         "rawType": "int64",
         "type": "integer"
        },
        {
         "name": "s1__number_peaks__n_5",
         "rawType": "int64",
         "type": "integer"
        },
        {
         "name": "s1__number_cwt_peaks__n_1",
         "rawType": "int64",
         "type": "integer"
        },
        {
         "name": "s1__number_peaks__n_10",
         "rawType": "int64",
         "type": "integer"
        },
        {
         "name": "s1__ar_coefficient__coeff_8__k_10",
         "rawType": "float64",
         "type": "float"
        },
        {
         "name": "s1__partial_autocorrelation__lag_5",
         "rawType": "float64",
         "type": "float"
        },
        {
         "name": "s1__number_cwt_peaks__n_5",
         "rawType": "int64",
         "type": "integer"
        },
        {
         "name": "s1__spkt_welch_density__coeff_5",
         "rawType": "float64",
         "type": "float"
        },
        {
         "name": "s1__agg_autocorrelation__f_agg_\"median\"__maxlag_40",
         "rawType": "float64",
         "type": "float"
        },
        {
         "name": "s1__approximate_entropy__m_2__r_0.5",
         "rawType": "float64",
         "type": "float"
        },
        {
         "name": "s1__agg_autocorrelation__f_agg_\"mean\"__maxlag_40",
         "rawType": "float64",
         "type": "float"
        },
        {
         "name": "s1__ar_coefficient__coeff_3__k_10",
         "rawType": "float64",
         "type": "float"
        },
        {
         "name": "s1__approximate_entropy__m_2__r_0.1",
         "rawType": "float64",
         "type": "float"
        },
        {
         "name": "s1__lempel_ziv_complexity__bins_3",
         "rawType": "float64",
         "type": "float"
        },
        {
         "name": "s1__partial_autocorrelation__lag_4",
         "rawType": "float64",
         "type": "float"
        },
        {
         "name": "s1__fft_coefficient__attr_\"abs\"__coeff_7",
         "rawType": "float64",
         "type": "float"
        },
        {
         "name": "s1__agg_autocorrelation__f_agg_\"var\"__maxlag_40",
         "rawType": "float64",
         "type": "float"
        },
        {
         "name": "s1__spkt_welch_density__coeff_2",
         "rawType": "float64",
         "type": "float"
        },
        {
         "name": "y1",
         "rawType": "float64",
         "type": "float"
        },
        {
         "name": "y2",
         "rawType": "float64",
         "type": "float"
        },
        {
         "name": "y3",
         "rawType": "float64",
         "type": "float"
        }
       ],
       "ref": "05d341b8-6b18-43b5-ab52-eaa0f6fa9600",
       "rows": [
        [
         "E001",
         "150.2237162282709",
         "1176.177277778291",
         "1.142097497096118",
         "-0.3054339202505594",
         "-0.5191912937471133",
         "-0.07482931020721237",
         "0.1598964088207946",
         "0.385790122546617",
         "0.5903865308147479",
         "14",
         "0.7623960064154589",
         "0.2347346166610531",
         "14",
         "0.8923275547414669",
         "0.1627475159081164",
         "1.016163897369947",
         "0.9730124996338729",
         "0.9730124996338729",
         "1.62687847092397",
         "1.323937191565679",
         "1.924233458480636",
         "2.215079757527388",
         "3.966110221397809",
         "0.2054671462622681",
         "-0.226538711723462",
         "-0.2337969396502632",
         "-0.2313599744498629",
         "-0.2496215600475206",
         "11",
         "11",
         "11",
         "12",
         "10",
         "-0.1228645658353847",
         "-0.2871916578780337",
         "12",
         "2.302092584356073e-06",
         "-0.04029898618473704",
         "0.294575630574742",
         "-0.02381745749888618",
         "0.1839963654696146",
         "0.1585670576081162",
         "0.2041522491349481",
         "-0.3600840997659662",
         "0.2936172551085162",
         "0.4994878943759984",
         "5.88681152271281e-08",
         "55.46043367834409",
         "1.065916993455059",
         "114.5786204103125"
        ],
        [
         "E002",
         "102.5342678762004",
         "1483.654981916516",
         "1.104716419796098",
         "-0.2437852899127758",
         "-0.4542619780809531",
         "-0.02100206449903134",
         "0.2028355495861272",
         "0.4164225579112382",
         "0.6089720749981536",
         "14",
         "0.770760087739035",
         "0.222246210142254",
         "14",
         "0.8936165162838874",
         "0.1560670115588841",
         "0.9993568167921798",
         "0.9713377747746932",
         "0.9713377747746935",
         "1.576553073550272",
         "1.289890751104698",
         "1.858735405789931",
         "2.135705047559143",
         "3.6526435059868",
         "0.2110247401319967",
         "-0.2244198468351331",
         "-0.2325474580042485",
         "-0.2280495585317081",
         "-0.2444386143773333",
         "10",
         "9",
         "9",
         "10",
         "9",
         "-0.1251216792908884",
         "-0.278643948183462",
         "11",
         "9.194826079354894e-05",
         "0.005710727812269289",
         "0.295793386116199",
         "0.0174124077277948",
         "0.184369500523606",
         "0.1447418877366329",
         "0.2030075187969925",
         "-0.3443643252966841",
         "6.14237252208545",
         "0.4777432349844861",
         "3.64362055523439e-06",
         "50.64030573896383",
         "1.285665791352698",
         "124.6514837646304"
        ],
        [
         "E003",
         "119.8905490887243",
         "1254.897450653388",
         "2.162773409498691",
         "-0.3290060356266322",
         "-0.5434049971045741",
         "-0.09591338517658776",
         "0.1426122079089866",
         "0.3730020599120391",
         "0.5821514156665052",
         "14",
         "0.7581648639475573",
         "0.2394955454843397",
         "13",
         "0.8910329028051504",
         "0.165112565585219",
         "1.020465652695851",
         "0.9732011747853436",
         "0.9732011747853435",
         "1.646824878831804",
         "1.343150699207861",
         "1.944883653328339",
         "2.236309406751573",
         "3.682674589911052",
         "0.2017099991694988",
         "-0.2299484930997584",
         "-0.2383027291229635",
         "-0.2342132613799649",
         "-0.2523388214511478",
         "9",
         "9",
         "9",
         "10",
         "9",
         "-0.1218498437486562",
         "-0.2902894407037535",
         "11",
         "0.002991810076493899",
         "-0.06252100701744168",
         "0.2953766624528682",
         "-0.03807682374626591",
         "0.1840355025745247",
         "0.1442678316464963",
         "0.2081632653061224",
         "-0.3646107419088709",
         "26.78328344000789",
         "0.5064350830051291",
         "0.0001590028102571489",
         "50.83240472683809",
         "1.154859212683363",
         "57.01805417221681"
        ],
        [
         "E004",
         "162.8307992564844",
         "1302.043195135213",
         "1.30828321525042",
         "-0.0651521463136262",
         "-0.2664976926877177",
         "0.1389126502736655",
         "0.3371865864369897",
         "0.5214009296929024",
         "0.6838731666679987",
         "16",
         "0.8178274013703623",
         "0.1937549744108571",
         "16",
         "0.9176769485378873",
         "0.1370265745426402",
         "0.9726561048364449",
         "0.9792573362550936",
         "0.9792573362550935",
         "1.522951107576066",
         "1.249446870300736",
         "1.792685681282132",
         "2.058077147838571",
         "3.440933521168234",
         "0.2300116952585212",
         "-0.2135504176683748",
         "-0.2150938543416185",
         "-0.2220255651562478",
         "-0.2427030761830581",
         "9",
         "9",
         "9",
         "10",
         "9",
         "-0.1269822026600489",
         "-0.2818301171729558",
         "11",
         "0.03254871106161762",
         "0.167136898506159",
         "0.2838976837493383",
         "0.09874930838143854",
         "0.1872132457419277",
         "0.1373263951521655",
         "0.1936619718309859",
         "-0.3554414001104249",
         "33.22759074069934",
         "0.4605467208889374",
         "0.0007926165201968495",
         "62.47654543460142",
         "1.025160763802677",
         "132.2212175987509"
        ],
        [
         "E005",
         "165.72095638279",
         "1154.482313700376",
         "1.566829730087374",
         "-0.3048808371286578",
         "-0.5181766102806283",
         "-0.07483610968997173",
         "0.1593210142907042",
         "0.3847279896743889",
         "0.5890028422139049",
         "14",
         "0.7609243327125759",
         "0.2381097596952311",
         "14",
         "0.8910483643868621",
         "0.1626447113788911",
         "1.014791878416955",
         "0.9722267728214827",
         "0.9722267728214827",
         "1.62111225074021",
         "1.320327783744526",
         "1.916410952543579",
         "2.205328048547567",
         "3.995534195873079",
         "0.2072160931479998",
         "-0.2306634372538851",
         "-0.2403558289400577",
         "-0.233806167154005",
         "-0.2506967126737985",
         "11",
         "11",
         "11",
         "12",
         "10",
         "-0.1230299291182262",
         "-0.2868315494200753",
         "12",
         "0.005794605001799167",
         "-0.04382424818770635",
         "0.2887581856673982",
         "-0.0222890433765183",
         "0.1839782130968768",
         "0.1285455017839277",
         "0.1924398625429553",
         "-0.3575884147822471",
         "11.4394702754538",
         "0.4979403938074322",
         "0.0001462830650636705",
         "57.63443803240473",
         "1.043776221564284",
         "92.16026864580095"
        ]
       ],
       "shape": {
        "columns": 50,
        "rows": 5
       }
      },
      "text/html": [
       "<div>\n",
       "<style scoped>\n",
       "    .dataframe tbody tr th:only-of-type {\n",
       "        vertical-align: middle;\n",
       "    }\n",
       "\n",
       "    .dataframe tbody tr th {\n",
       "        vertical-align: top;\n",
       "    }\n",
       "\n",
       "    .dataframe thead th {\n",
       "        text-align: right;\n",
       "    }\n",
       "</style>\n",
       "<table border=\"1\" class=\"dataframe\">\n",
       "  <thead>\n",
       "    <tr style=\"text-align: right;\">\n",
       "      <th></th>\n",
       "      <th>m1</th>\n",
       "      <th>m2</th>\n",
       "      <th>m3</th>\n",
       "      <th>s1__autocorrelation__lag_8</th>\n",
       "      <th>s1__autocorrelation__lag_9</th>\n",
       "      <th>s1__autocorrelation__lag_7</th>\n",
       "      <th>s1__autocorrelation__lag_6</th>\n",
       "      <th>s1__autocorrelation__lag_5</th>\n",
       "      <th>s1__autocorrelation__lag_4</th>\n",
       "      <th>s1__longest_strike_above_mean</th>\n",
       "      <th>...</th>\n",
       "      <th>s1__ar_coefficient__coeff_3__k_10</th>\n",
       "      <th>s1__approximate_entropy__m_2__r_0.1</th>\n",
       "      <th>s1__lempel_ziv_complexity__bins_3</th>\n",
       "      <th>s1__partial_autocorrelation__lag_4</th>\n",
       "      <th>s1__fft_coefficient__attr_\"abs\"__coeff_7</th>\n",
       "      <th>s1__agg_autocorrelation__f_agg_\"var\"__maxlag_40</th>\n",
       "      <th>s1__spkt_welch_density__coeff_2</th>\n",
       "      <th>y1</th>\n",
       "      <th>y2</th>\n",
       "      <th>y3</th>\n",
       "    </tr>\n",
       "    <tr>\n",
       "      <th>id</th>\n",
       "      <th></th>\n",
       "      <th></th>\n",
       "      <th></th>\n",
       "      <th></th>\n",
       "      <th></th>\n",
       "      <th></th>\n",
       "      <th></th>\n",
       "      <th></th>\n",
       "      <th></th>\n",
       "      <th></th>\n",
       "      <th></th>\n",
       "      <th></th>\n",
       "      <th></th>\n",
       "      <th></th>\n",
       "      <th></th>\n",
       "      <th></th>\n",
       "      <th></th>\n",
       "      <th></th>\n",
       "      <th></th>\n",
       "      <th></th>\n",
       "      <th></th>\n",
       "    </tr>\n",
       "  </thead>\n",
       "  <tbody>\n",
       "    <tr>\n",
       "      <th>E001</th>\n",
       "      <td>150.223716</td>\n",
       "      <td>1176.177278</td>\n",
       "      <td>1.142097</td>\n",
       "      <td>-0.305434</td>\n",
       "      <td>-0.519191</td>\n",
       "      <td>-0.074829</td>\n",
       "      <td>0.159896</td>\n",
       "      <td>0.385790</td>\n",
       "      <td>0.590387</td>\n",
       "      <td>14</td>\n",
       "      <td>...</td>\n",
       "      <td>0.183996</td>\n",
       "      <td>0.158567</td>\n",
       "      <td>0.204152</td>\n",
       "      <td>-0.360084</td>\n",
       "      <td>0.293617</td>\n",
       "      <td>0.499488</td>\n",
       "      <td>5.886812e-08</td>\n",
       "      <td>55.460434</td>\n",
       "      <td>1.065917</td>\n",
       "      <td>114.578620</td>\n",
       "    </tr>\n",
       "    <tr>\n",
       "      <th>E002</th>\n",
       "      <td>102.534268</td>\n",
       "      <td>1483.654982</td>\n",
       "      <td>1.104716</td>\n",
       "      <td>-0.243785</td>\n",
       "      <td>-0.454262</td>\n",
       "      <td>-0.021002</td>\n",
       "      <td>0.202836</td>\n",
       "      <td>0.416423</td>\n",
       "      <td>0.608972</td>\n",
       "      <td>14</td>\n",
       "      <td>...</td>\n",
       "      <td>0.184370</td>\n",
       "      <td>0.144742</td>\n",
       "      <td>0.203008</td>\n",
       "      <td>-0.344364</td>\n",
       "      <td>6.142373</td>\n",
       "      <td>0.477743</td>\n",
       "      <td>3.643621e-06</td>\n",
       "      <td>50.640306</td>\n",
       "      <td>1.285666</td>\n",
       "      <td>124.651484</td>\n",
       "    </tr>\n",
       "    <tr>\n",
       "      <th>E003</th>\n",
       "      <td>119.890549</td>\n",
       "      <td>1254.897451</td>\n",
       "      <td>2.162773</td>\n",
       "      <td>-0.329006</td>\n",
       "      <td>-0.543405</td>\n",
       "      <td>-0.095913</td>\n",
       "      <td>0.142612</td>\n",
       "      <td>0.373002</td>\n",
       "      <td>0.582151</td>\n",
       "      <td>14</td>\n",
       "      <td>...</td>\n",
       "      <td>0.184036</td>\n",
       "      <td>0.144268</td>\n",
       "      <td>0.208163</td>\n",
       "      <td>-0.364611</td>\n",
       "      <td>26.783283</td>\n",
       "      <td>0.506435</td>\n",
       "      <td>1.590028e-04</td>\n",
       "      <td>50.832405</td>\n",
       "      <td>1.154859</td>\n",
       "      <td>57.018054</td>\n",
       "    </tr>\n",
       "    <tr>\n",
       "      <th>E004</th>\n",
       "      <td>162.830799</td>\n",
       "      <td>1302.043195</td>\n",
       "      <td>1.308283</td>\n",
       "      <td>-0.065152</td>\n",
       "      <td>-0.266498</td>\n",
       "      <td>0.138913</td>\n",
       "      <td>0.337187</td>\n",
       "      <td>0.521401</td>\n",
       "      <td>0.683873</td>\n",
       "      <td>16</td>\n",
       "      <td>...</td>\n",
       "      <td>0.187213</td>\n",
       "      <td>0.137326</td>\n",
       "      <td>0.193662</td>\n",
       "      <td>-0.355441</td>\n",
       "      <td>33.227591</td>\n",
       "      <td>0.460547</td>\n",
       "      <td>7.926165e-04</td>\n",
       "      <td>62.476545</td>\n",
       "      <td>1.025161</td>\n",
       "      <td>132.221218</td>\n",
       "    </tr>\n",
       "    <tr>\n",
       "      <th>E005</th>\n",
       "      <td>165.720956</td>\n",
       "      <td>1154.482314</td>\n",
       "      <td>1.566830</td>\n",
       "      <td>-0.304881</td>\n",
       "      <td>-0.518177</td>\n",
       "      <td>-0.074836</td>\n",
       "      <td>0.159321</td>\n",
       "      <td>0.384728</td>\n",
       "      <td>0.589003</td>\n",
       "      <td>14</td>\n",
       "      <td>...</td>\n",
       "      <td>0.183978</td>\n",
       "      <td>0.128546</td>\n",
       "      <td>0.192440</td>\n",
       "      <td>-0.357588</td>\n",
       "      <td>11.439470</td>\n",
       "      <td>0.497940</td>\n",
       "      <td>1.462831e-04</td>\n",
       "      <td>57.634438</td>\n",
       "      <td>1.043776</td>\n",
       "      <td>92.160269</td>\n",
       "    </tr>\n",
       "  </tbody>\n",
       "</table>\n",
       "<p>5 rows × 50 columns</p>\n",
       "</div>"
      ],
      "text/plain": [
       "              m1           m2        m3  s1__autocorrelation__lag_8  \\\n",
       "id                                                                    \n",
       "E001  150.223716  1176.177278  1.142097                   -0.305434   \n",
       "E002  102.534268  1483.654982  1.104716                   -0.243785   \n",
       "E003  119.890549  1254.897451  2.162773                   -0.329006   \n",
       "E004  162.830799  1302.043195  1.308283                   -0.065152   \n",
       "E005  165.720956  1154.482314  1.566830                   -0.304881   \n",
       "\n",
       "      s1__autocorrelation__lag_9  s1__autocorrelation__lag_7  \\\n",
       "id                                                             \n",
       "E001                   -0.519191                   -0.074829   \n",
       "E002                   -0.454262                   -0.021002   \n",
       "E003                   -0.543405                   -0.095913   \n",
       "E004                   -0.266498                    0.138913   \n",
       "E005                   -0.518177                   -0.074836   \n",
       "\n",
       "      s1__autocorrelation__lag_6  s1__autocorrelation__lag_5  \\\n",
       "id                                                             \n",
       "E001                    0.159896                    0.385790   \n",
       "E002                    0.202836                    0.416423   \n",
       "E003                    0.142612                    0.373002   \n",
       "E004                    0.337187                    0.521401   \n",
       "E005                    0.159321                    0.384728   \n",
       "\n",
       "      s1__autocorrelation__lag_4  s1__longest_strike_above_mean  ...  \\\n",
       "id                                                               ...   \n",
       "E001                    0.590387                             14  ...   \n",
       "E002                    0.608972                             14  ...   \n",
       "E003                    0.582151                             14  ...   \n",
       "E004                    0.683873                             16  ...   \n",
       "E005                    0.589003                             14  ...   \n",
       "\n",
       "      s1__ar_coefficient__coeff_3__k_10  s1__approximate_entropy__m_2__r_0.1  \\\n",
       "id                                                                             \n",
       "E001                           0.183996                             0.158567   \n",
       "E002                           0.184370                             0.144742   \n",
       "E003                           0.184036                             0.144268   \n",
       "E004                           0.187213                             0.137326   \n",
       "E005                           0.183978                             0.128546   \n",
       "\n",
       "      s1__lempel_ziv_complexity__bins_3  s1__partial_autocorrelation__lag_4  \\\n",
       "id                                                                            \n",
       "E001                           0.204152                           -0.360084   \n",
       "E002                           0.203008                           -0.344364   \n",
       "E003                           0.208163                           -0.364611   \n",
       "E004                           0.193662                           -0.355441   \n",
       "E005                           0.192440                           -0.357588   \n",
       "\n",
       "      s1__fft_coefficient__attr_\"abs\"__coeff_7  \\\n",
       "id                                               \n",
       "E001                                  0.293617   \n",
       "E002                                  6.142373   \n",
       "E003                                 26.783283   \n",
       "E004                                 33.227591   \n",
       "E005                                 11.439470   \n",
       "\n",
       "      s1__agg_autocorrelation__f_agg_\"var\"__maxlag_40  \\\n",
       "id                                                      \n",
       "E001                                         0.499488   \n",
       "E002                                         0.477743   \n",
       "E003                                         0.506435   \n",
       "E004                                         0.460547   \n",
       "E005                                         0.497940   \n",
       "\n",
       "      s1__spkt_welch_density__coeff_2         y1        y2          y3  \n",
       "id                                                                      \n",
       "E001                     5.886812e-08  55.460434  1.065917  114.578620  \n",
       "E002                     3.643621e-06  50.640306  1.285666  124.651484  \n",
       "E003                     1.590028e-04  50.832405  1.154859   57.018054  \n",
       "E004                     7.926165e-04  62.476545  1.025161  132.221218  \n",
       "E005                     1.462831e-04  57.634438  1.043776   92.160269  \n",
       "\n",
       "[5 rows x 50 columns]"
      ]
     },
     "execution_count": 4,
     "metadata": {},
     "output_type": "execute_result"
    }
   ],
   "source": [
    "df = pd.read_excel(\"../T01_prototype/output/S21__2025-04-21-052727.xlsx\")\n",
    "df = df.set_index(\"Unnamed: 0\")\n",
    "df.index.names = [\"id\"]\n",
    "df.head()"
   ]
  },
  {
   "cell_type": "code",
   "execution_count": 5,
   "id": "16816717",
   "metadata": {},
   "outputs": [],
   "source": [
    "colsY = [\"y1\", \"y2\", \"y3\"]\n",
    "# colsX = [c for c in df.columns if c not in colsY]\n",
    "colsX = [\"m1\", \"m2\", \"m3\"]\n",
    "\n",
    "dfX = df[colsX]\n",
    "dfY = df[colsY]"
   ]
  },
  {
   "cell_type": "code",
   "execution_count": 6,
   "id": "bf54dec5",
   "metadata": {},
   "outputs": [],
   "source": [
    "dfData = loadPickle(\"../T01_prototype/output/S11__2025-04-21-052441.pickle\")"
   ]
  },
  {
   "cell_type": "code",
   "execution_count": 7,
   "id": "1c4cb3de",
   "metadata": {},
   "outputs": [],
   "source": [
    "dfData\n",
    "tsArr = [t[1] for t in dfData[\"ts\"].values]"
   ]
  },
  {
   "cell_type": "code",
   "execution_count": 8,
   "id": "22f736da",
   "metadata": {},
   "outputs": [
    {
     "name": "stdout",
     "output_type": "stream",
     "text": [
      "298\n"
     ]
    }
   ],
   "source": [
    "# Max length\n",
    "maxTime = 0\n",
    "for ts in tsArr:\n",
    "    maxTime = len(ts) if maxTime < len(ts) else maxTime\n",
    "\n",
    "print(maxTime)"
   ]
  },
  {
   "cell_type": "code",
   "execution_count": 9,
   "id": "6ef870d8",
   "metadata": {},
   "outputs": [
    {
     "name": "stdout",
     "output_type": "stream",
     "text": [
      "(100, 298, 2)\n"
     ]
    },
    {
     "data": {
      "image/png": "[encoded data removed]",
      "text/plain": [
       "<Figure size 640x480 with 1 Axes>"
      ]
     },
     "metadata": {},
     "output_type": "display_data"
    }
   ],
   "source": [
    "# Scaling and Padding\n",
    "# TODO: Needs to only calculate mean, std, min, max from training example.\n",
    "\n",
    "SCALING_TYPE = \"Min_Max\"\n",
    "# SCALING_TYPE = \"STANDARDIZATION\"\n",
    "\n",
    "tsArrConcat = np.concatenate(tsArr)\n",
    "if SCALING_TYPE == \"STANDARDIZATION\":\n",
    "    meanVal = np.mean(tsArrConcat)\n",
    "    stdVal = np.std(tsArrConcat)\n",
    "elif SCALING_TYPE == \"Min_Max\":\n",
    "    maxVal = np.max(tsArrConcat)\n",
    "    minVal = np.min(tsArrConcat)\n",
    "\n",
    "# Shape = (Batch, Time, Features)\n",
    "TsData_std = np.zeros((dfData.shape[0], maxTime, 2))\n",
    "for idx, ts in enumerate(tsArr):\n",
    "    if SCALING_TYPE == \"STANDARDIZATION\":\n",
    "        ts_std = (ts - meanVal) / stdVal\n",
    "    elif SCALING_TYPE == \"Min_Max\":\n",
    "        ts_std = (ts - minVal) / (maxVal - minVal)\n",
    "\n",
    "    TsData_std[idx, : len(ts), 0] = ts_std  # Scaling\n",
    "    TsData_std[idx, len(ts) :, 0] = 0  # Padding\n",
    "\n",
    "    # Add time index (scaled)\n",
    "    TsData_std[idx, :, 1] = np.arange(maxTime) / maxTime  # Time index\n",
    "plt.plot(TsData_std[0, :, 0])\n",
    "plt.plot(TsData_std[0, :, 1])\n",
    "\n",
    "print(TsData_std.shape)"
   ]
  },
  {
   "cell_type": "code",
   "execution_count": 10,
   "id": "7c7f7032",
   "metadata": {},
   "outputs": [],
   "source": [
    "# Find the ending time for each time series\n",
    "et_arr = [float(t[0][-1]) for t in dfData[\"ts\"].values]\n",
    "num_output = dfY.shape[1]\n",
    "tsEndTimes = np.zeros((dfData.shape[0], dfY.shape[1], 1))\n",
    "for idx, et in enumerate(et_arr):\n",
    "    for t in range(num_output):\n",
    "        tsEndTimes[idx, t, 0] = (et + t) / maxTime"
   ]
  },
  {
   "cell_type": "code",
   "execution_count": 11,
   "id": "c7b3dd62",
   "metadata": {},
   "outputs": [
    {
     "name": "stdout",
     "output_type": "stream",
     "text": [
      "[60 80 90 68 51 27 18 56 63 74  1 61 42 41  4 15 17 40 38  5 91 59  0 34\n",
      " 28 50 11 35 23 52 10 31 66 57 79 85 32 84 14 89 19 29 49 97 98 69 20 94\n",
      " 72 77 25 37 81 46 39 65 58 12 88 70 87 36 21 83  9 96 67 64 47 44]\n",
      "[26 86  2 55 75 93 16 73 54 95 53 92 78 13  7 30 22 24 33  8 43 62  3 71\n",
      " 45 48  6 99 82 76]\n"
     ]
    }
   ],
   "source": [
    "from sklearn.model_selection import ShuffleSplit\n",
    "\n",
    "cv = ShuffleSplit(random_state=0, test_size=0.30)\n",
    "idxs = np.arange(df.shape[0])\n",
    "idxTrain, idxTest = next(cv.split(X=idxs))\n",
    "print(idxTrain)\n",
    "print(idxTest)"
   ]
  },
  {
   "cell_type": "code",
   "execution_count": 12,
   "id": "6110546c",
   "metadata": {},
   "outputs": [],
   "source": [
    "dfX_train = dfX.iloc[idxTrain, :]\n",
    "dfX_test = dfX.iloc[idxTest, :]\n",
    "dfY_train = dfY.iloc[idxTrain, :]\n",
    "dfY_test = dfY.iloc[idxTest, :]\n",
    "Ts_train_std = TsData_std[idxTrain, :]\n",
    "Ts_test_std = TsData_std[idxTest, :]\n",
    "Fu_train_std = tsEndTimes[idxTrain, :]\n",
    "Fu_test_std = tsEndTimes[idxTest, :]"
   ]
  },
  {
   "cell_type": "code",
   "execution_count": 13,
   "id": "5d0b7279",
   "metadata": {},
   "outputs": [],
   "source": [
    "scX = MinMaxScaler()\n",
    "X_train_std = scX.fit_transform(dfX_train)\n",
    "X_test_std = scX.transform(dfX_test)\n",
    "\n",
    "scY = MinMaxScaler()\n",
    "Y_train_std = scY.fit_transform(dfY_train)\n",
    "Y_test_std = scY.transform(dfY_test)"
   ]
  },
  {
   "cell_type": "code",
   "execution_count": 14,
   "id": "6bb6bfea",
   "metadata": {},
   "outputs": [],
   "source": [
    "# Convert to 2D PyTorch tensors\n",
    "X_train_std = torch.tensor(X_train_std, dtype=torch.float32)\n",
    "Y_train_std = torch.tensor(Y_train_std, dtype=torch.float32)\n",
    "X_test_std = torch.tensor(X_test_std, dtype=torch.float32)\n",
    "Y_test_std = torch.tensor(Y_test_std, dtype=torch.float32)\n",
    "Ts_train_std = torch.tensor(Ts_train_std, dtype=torch.float32)\n",
    "Ts_test_std = torch.tensor(Ts_test_std, dtype=torch.float32)\n",
    "Fu_train_std = torch.tensor(Fu_train_std, dtype=torch.float32)\n",
    "Fu_test_std = torch.tensor(Fu_test_std, dtype=torch.float32)"
   ]
  },
  {
   "cell_type": "code",
   "execution_count": 15,
   "id": "523f3635",
   "metadata": {},
   "outputs": [],
   "source": [
    "tab_num_features = dfX.shape[1]\n",
    "ts_embedding_size = 8\n",
    "ts_num_features = Ts_train_std.shape[-1]\n",
    "lstm_num_layers = 2\n",
    "lstm_dropout = 0.8\n",
    "attn_n_head = 1\n",
    "num_output = Y_test_std.shape[1]\n",
    "\n",
    "# Initialize model\n",
    "model = MyModel(\n",
    "    tab_num_features=tab_num_features,\n",
    "    ts_embedding_size=ts_embedding_size,\n",
    "    ts_num_features=ts_num_features,\n",
    "    lstm_num_layers=lstm_num_layers,\n",
    "    lstm_dropout=lstm_dropout,\n",
    "    attn_n_head=attn_n_head,\n",
    "    num_output=num_output,\n",
    ")"
   ]
  },
  {
   "cell_type": "code",
   "execution_count": 16,
   "id": "dc7c8a63",
   "metadata": {},
   "outputs": [],
   "source": [
    "# loss function and optimizer\n",
    "loss_fn = nn.MSELoss()  # mean square error\n",
    "optimizer = optim.Adam(model.parameters(), lr=0.001)"
   ]
  },
  {
   "cell_type": "code",
   "execution_count": 26,
   "id": "b3c38ea7",
   "metadata": {},
   "outputs": [
    {
     "ename": "TypeError",
     "evalue": "'int' object is not callable",
     "output_type": "error",
     "traceback": [
      "\u001b[31m---------------------------------------------------------------------------\u001b[39m",
      "\u001b[31mTypeError\u001b[39m                                 Traceback (most recent call last)",
      "\u001b[36mCell\u001b[39m\u001b[36m \u001b[39m\u001b[32mIn[26]\u001b[39m\u001b[32m, line 27\u001b[39m\n\u001b[32m     21\u001b[39m \u001b[38;5;66;03m# forward pass\u001b[39;00m\n\u001b[32m     22\u001b[39m y_pred, _ = model(\n\u001b[32m     23\u001b[39m     x_tab=x_tab_batch,\n\u001b[32m     24\u001b[39m     x_ts=x_ts_batch,\n\u001b[32m     25\u001b[39m     x_future=x_future,\n\u001b[32m     26\u001b[39m )\n\u001b[32m---> \u001b[39m\u001b[32m27\u001b[39m loss = \u001b[43mloss_fn\u001b[49m\u001b[43m(\u001b[49m\u001b[43my_pred\u001b[49m\u001b[43m,\u001b[49m\u001b[43m \u001b[49m\u001b[43my_batch\u001b[49m\u001b[43m)\u001b[49m\n\u001b[32m     28\u001b[39m \u001b[38;5;66;03m# backward pass\u001b[39;00m\n\u001b[32m     29\u001b[39m optimizer.zero_grad()\n",
      "\u001b[36mFile \u001b[39m\u001b[32mc:\\Users\\admin\\Coding\\research\\weld-ml\\.venv\\Lib\\site-packages\\torch\\nn\\modules\\module.py:1739\u001b[39m, in \u001b[36mModule._wrapped_call_impl\u001b[39m\u001b[34m(self, *args, **kwargs)\u001b[39m\n\u001b[32m   1737\u001b[39m     \u001b[38;5;28;01mreturn\u001b[39;00m \u001b[38;5;28mself\u001b[39m._compiled_call_impl(*args, **kwargs)  \u001b[38;5;66;03m# type: ignore[misc]\u001b[39;00m\n\u001b[32m   1738\u001b[39m \u001b[38;5;28;01melse\u001b[39;00m:\n\u001b[32m-> \u001b[39m\u001b[32m1739\u001b[39m     \u001b[38;5;28;01mreturn\u001b[39;00m \u001b[38;5;28;43mself\u001b[39;49m\u001b[43m.\u001b[49m\u001b[43m_call_impl\u001b[49m\u001b[43m(\u001b[49m\u001b[43m*\u001b[49m\u001b[43margs\u001b[49m\u001b[43m,\u001b[49m\u001b[43m \u001b[49m\u001b[43m*\u001b[49m\u001b[43m*\u001b[49m\u001b[43mkwargs\u001b[49m\u001b[43m)\u001b[49m\n",
      "\u001b[36mFile \u001b[39m\u001b[32mc:\\Users\\admin\\Coding\\research\\weld-ml\\.venv\\Lib\\site-packages\\torch\\nn\\modules\\module.py:1750\u001b[39m, in \u001b[36mModule._call_impl\u001b[39m\u001b[34m(self, *args, **kwargs)\u001b[39m\n\u001b[32m   1745\u001b[39m \u001b[38;5;66;03m# If we don't have any hooks, we want to skip the rest of the logic in\u001b[39;00m\n\u001b[32m   1746\u001b[39m \u001b[38;5;66;03m# this function, and just call forward.\u001b[39;00m\n\u001b[32m   1747\u001b[39m \u001b[38;5;28;01mif\u001b[39;00m \u001b[38;5;129;01mnot\u001b[39;00m (\u001b[38;5;28mself\u001b[39m._backward_hooks \u001b[38;5;129;01mor\u001b[39;00m \u001b[38;5;28mself\u001b[39m._backward_pre_hooks \u001b[38;5;129;01mor\u001b[39;00m \u001b[38;5;28mself\u001b[39m._forward_hooks \u001b[38;5;129;01mor\u001b[39;00m \u001b[38;5;28mself\u001b[39m._forward_pre_hooks\n\u001b[32m   1748\u001b[39m         \u001b[38;5;129;01mor\u001b[39;00m _global_backward_pre_hooks \u001b[38;5;129;01mor\u001b[39;00m _global_backward_hooks\n\u001b[32m   1749\u001b[39m         \u001b[38;5;129;01mor\u001b[39;00m _global_forward_hooks \u001b[38;5;129;01mor\u001b[39;00m _global_forward_pre_hooks):\n\u001b[32m-> \u001b[39m\u001b[32m1750\u001b[39m     \u001b[38;5;28;01mreturn\u001b[39;00m \u001b[43mforward_call\u001b[49m\u001b[43m(\u001b[49m\u001b[43m*\u001b[49m\u001b[43margs\u001b[49m\u001b[43m,\u001b[49m\u001b[43m \u001b[49m\u001b[43m*\u001b[49m\u001b[43m*\u001b[49m\u001b[43mkwargs\u001b[49m\u001b[43m)\u001b[49m\n\u001b[32m   1752\u001b[39m result = \u001b[38;5;28;01mNone\u001b[39;00m\n\u001b[32m   1753\u001b[39m called_always_called_hooks = \u001b[38;5;28mset\u001b[39m()\n",
      "\u001b[36mFile \u001b[39m\u001b[32mc:\\Users\\admin\\Coding\\research\\weld-ml\\.venv\\Lib\\site-packages\\torch\\nn\\modules\\loss.py:610\u001b[39m, in \u001b[36mMSELoss.forward\u001b[39m\u001b[34m(self, input, target)\u001b[39m\n\u001b[32m    609\u001b[39m \u001b[38;5;28;01mdef\u001b[39;00m\u001b[38;5;250m \u001b[39m\u001b[34mforward\u001b[39m(\u001b[38;5;28mself\u001b[39m, \u001b[38;5;28minput\u001b[39m: Tensor, target: Tensor) -> Tensor:\n\u001b[32m--> \u001b[39m\u001b[32m610\u001b[39m     \u001b[38;5;28;01mreturn\u001b[39;00m \u001b[43mF\u001b[49m\u001b[43m.\u001b[49m\u001b[43mmse_loss\u001b[49m\u001b[43m(\u001b[49m\u001b[38;5;28;43minput\u001b[39;49m\u001b[43m,\u001b[49m\u001b[43m \u001b[49m\u001b[43mtarget\u001b[49m\u001b[43m,\u001b[49m\u001b[43m \u001b[49m\u001b[43mreduction\u001b[49m\u001b[43m=\u001b[49m\u001b[38;5;28;43mself\u001b[39;49m\u001b[43m.\u001b[49m\u001b[43mreduction\u001b[49m\u001b[43m)\u001b[49m\n",
      "\u001b[36mFile \u001b[39m\u001b[32mc:\\Users\\admin\\Coding\\research\\weld-ml\\.venv\\Lib\\site-packages\\torch\\nn\\functional.py:3873\u001b[39m, in \u001b[36mmse_loss\u001b[39m\u001b[34m(input, target, size_average, reduce, reduction, weight)\u001b[39m\n\u001b[32m   3861\u001b[39m \u001b[38;5;28;01mif\u001b[39;00m has_torch_function_variadic(\u001b[38;5;28minput\u001b[39m, target, weight):\n\u001b[32m   3862\u001b[39m     \u001b[38;5;28;01mreturn\u001b[39;00m handle_torch_function(\n\u001b[32m   3863\u001b[39m         mse_loss,\n\u001b[32m   3864\u001b[39m         (\u001b[38;5;28minput\u001b[39m, target, weight),\n\u001b[32m   (...)\u001b[39m\u001b[32m   3870\u001b[39m         weight=weight,\n\u001b[32m   3871\u001b[39m     )\n\u001b[32m-> \u001b[39m\u001b[32m3873\u001b[39m \u001b[38;5;28;01mif\u001b[39;00m \u001b[38;5;129;01mnot\u001b[39;00m (\u001b[43mtarget\u001b[49m\u001b[43m.\u001b[49m\u001b[43msize\u001b[49m\u001b[43m(\u001b[49m\u001b[43m)\u001b[49m == \u001b[38;5;28minput\u001b[39m.size()):\n\u001b[32m   3874\u001b[39m     warnings.warn(\n\u001b[32m   3875\u001b[39m         \u001b[33mf\u001b[39m\u001b[33m\"\u001b[39m\u001b[33mUsing a target size (\u001b[39m\u001b[38;5;132;01m{\u001b[39;00mtarget.size()\u001b[38;5;132;01m}\u001b[39;00m\u001b[33m) that is different to the input size (\u001b[39m\u001b[38;5;132;01m{\u001b[39;00m\u001b[38;5;28minput\u001b[39m.size()\u001b[38;5;132;01m}\u001b[39;00m\u001b[33m). \u001b[39m\u001b[33m\"\u001b[39m\n\u001b[32m   3876\u001b[39m         \u001b[33m\"\u001b[39m\u001b[33mThis will likely lead to incorrect results due to broadcasting. \u001b[39m\u001b[33m\"\u001b[39m\n\u001b[32m   3877\u001b[39m         \u001b[33m\"\u001b[39m\u001b[33mPlease ensure they have the same size.\u001b[39m\u001b[33m\"\u001b[39m,\n\u001b[32m   3878\u001b[39m         stacklevel=\u001b[32m2\u001b[39m,\n\u001b[32m   3879\u001b[39m     )\n\u001b[32m   3881\u001b[39m \u001b[38;5;28;01mif\u001b[39;00m size_average \u001b[38;5;129;01mis\u001b[39;00m \u001b[38;5;129;01mnot\u001b[39;00m \u001b[38;5;28;01mNone\u001b[39;00m \u001b[38;5;129;01mor\u001b[39;00m reduce \u001b[38;5;129;01mis\u001b[39;00m \u001b[38;5;129;01mnot\u001b[39;00m \u001b[38;5;28;01mNone\u001b[39;00m:\n",
      "\u001b[31mTypeError\u001b[39m: 'int' object is not callable"
     ]
    }
   ],
   "source": [
    "n_epochs = 500\n",
    "# number of epochs to run\n",
    "batch_size = 5  # size of each batch\n",
    "batch_start = torch.arange(0, len(X_train_std), batch_size)\n",
    "\n",
    "# Hold the best model\n",
    "best_mse = np.inf  # init to infinity\n",
    "best_weights = None\n",
    "history = []\n",
    "\n",
    "for epoch in range(n_epochs):\n",
    "    model.train()\n",
    "    with tqdm.tqdm(batch_start, unit=\"batch\", mininterval=0, disable=True) as bar:\n",
    "        bar.set_description(f\"Epoch {epoch}\")\n",
    "        for start in bar:\n",
    "            # take a batch\n",
    "            x_tab_batch = X_train_std[start : start + batch_size]\n",
    "            x_ts_batch = Ts_train_std[start : start + batch_size]\n",
    "            y_batch = Y_train_std[start : start + batch_size]\n",
    "            x_future = Fu_train_std[start : start + batch_size]\n",
    "            # forward pass\n",
    "            y_pred, _ = model(\n",
    "                x_tab=x_tab_batch,\n",
    "                x_ts=x_ts_batch,\n",
    "                x_future=x_future,\n",
    "            )\n",
    "            loss = loss_fn(y_pred, y_batch)\n",
    "            # backward pass\n",
    "            optimizer.zero_grad()\n",
    "            loss.backward()\n",
    "            # update weights\n",
    "            optimizer.step()\n",
    "            # print progress\n",
    "            bar.set_postfix(mse=float(loss))\n",
    "    # evaluate accuracy at end of each epoch\n",
    "    model.eval()\n",
    "    y_pred, _ = model(x_ts=Ts_test_std, x_tab=X_test_std, x_future=Fu_test_std)\n",
    "    mse = loss_fn(y_pred, Y_test_std)\n",
    "    mse = float(mse)\n",
    "    history.append(mse)\n",
    "    if mse < best_mse:\n",
    "        best_mse = mse\n",
    "        best_weights = copy.deepcopy(model.state_dict())\n",
    "\n",
    "    print(epoch, mse)\n",
    "# restore model and return best accuracy\n",
    "model.load_state_dict(best_weights)\n",
    "print(\"MSE: %.2f\" % best_mse)\n",
    "print(\"RMSE: %.2f\" % np.sqrt(best_mse))\n",
    "plt.plot(history)\n",
    "plt.show()"
   ]
  },
  {
   "cell_type": "code",
   "execution_count": 18,
   "id": "c0f05686",
   "metadata": {},
   "outputs": [],
   "source": [
    "model.eval()\n",
    "Y_train_pred, attn_train = model(\n",
    "    x_ts=Ts_train_std,\n",
    "    x_tab=X_train_std,\n",
    "    x_future=Fu_train_std,\n",
    ")\n",
    "Y_test_pred, attn_test = model(\n",
    "    x_ts=Ts_test_std,\n",
    "    x_tab=X_test_std,\n",
    "    x_future=Fu_test_std,\n",
    ")"
   ]
  },
  {
   "cell_type": "code",
   "execution_count": 19,
   "id": "ac3f168a",
   "metadata": {},
   "outputs": [],
   "source": [
    "Y_train_pred = Y_train_pred.detach().numpy()\n",
    "Y_test_pred = Y_test_pred.detach().numpy()"
   ]
  },
  {
   "cell_type": "code",
   "execution_count": 20,
   "id": "60453032",
   "metadata": {},
   "outputs": [],
   "source": [
    "if not isinstance(Y_train_std, np.ndarray):\n",
    "    Y_train_std = Y_train_std.detach().numpy()\n",
    "    Y_test_std = Y_test_std.detach().numpy()\n"
   ]
  },
  {
   "cell_type": "code",
   "execution_count": 21,
   "id": "df7a80c3",
   "metadata": {},
   "outputs": [
    {
     "data": {
      "application/vnd.microsoft.datawrangler.viewer.v0+json": {
       "columns": [
        {
         "name": "index",
         "rawType": "int64",
         "type": "integer"
        },
        {
         "name": "MSE Train",
         "rawType": "float64",
         "type": "float"
        },
        {
         "name": "MSE Test",
         "rawType": "float64",
         "type": "float"
        },
        {
         "name": "R2 Train",
         "rawType": "float64",
         "type": "float"
        },
        {
         "name": "R2 Test",
         "rawType": "float64",
         "type": "float"
        }
       ],
       "ref": "b47118a6-ad9a-4d4f-954d-bb34a98a913b",
       "rows": [
        [
         "0",
         "0.026400525122880936",
         "0.05376330390572548",
         "0.4108940362930298",
         "-0.0031510591506958008"
        ],
        [
         "1",
         "0.028213348239660263",
         "0.0429331474006176",
         "0.26536422967910767",
         "-0.38869452476501465"
        ],
        [
         "2",
         "0.04060497507452965",
         "0.07349035143852234",
         "0.3093907833099365",
         "-0.40218544006347656"
        ]
       ],
       "shape": {
        "columns": 4,
        "rows": 3
       }
      },
      "text/html": [
       "<div>\n",
       "<style scoped>\n",
       "    .dataframe tbody tr th:only-of-type {\n",
       "        vertical-align: middle;\n",
       "    }\n",
       "\n",
       "    .dataframe tbody tr th {\n",
       "        vertical-align: top;\n",
       "    }\n",
       "\n",
       "    .dataframe thead th {\n",
       "        text-align: right;\n",
       "    }\n",
       "</style>\n",
       "<table border=\"1\" class=\"dataframe\">\n",
       "  <thead>\n",
       "    <tr style=\"text-align: right;\">\n",
       "      <th></th>\n",
       "      <th>MSE Train</th>\n",
       "      <th>MSE Test</th>\n",
       "      <th>R2 Train</th>\n",
       "      <th>R2 Test</th>\n",
       "    </tr>\n",
       "  </thead>\n",
       "  <tbody>\n",
       "    <tr>\n",
       "      <th>0</th>\n",
       "      <td>0.026401</td>\n",
       "      <td>0.053763</td>\n",
       "      <td>0.410894</td>\n",
       "      <td>-0.003151</td>\n",
       "    </tr>\n",
       "    <tr>\n",
       "      <th>1</th>\n",
       "      <td>0.028213</td>\n",
       "      <td>0.042933</td>\n",
       "      <td>0.265364</td>\n",
       "      <td>-0.388695</td>\n",
       "    </tr>\n",
       "    <tr>\n",
       "      <th>2</th>\n",
       "      <td>0.040605</td>\n",
       "      <td>0.073490</td>\n",
       "      <td>0.309391</td>\n",
       "      <td>-0.402185</td>\n",
       "    </tr>\n",
       "  </tbody>\n",
       "</table>\n",
       "</div>"
      ],
      "text/plain": [
       "   MSE Train  MSE Test  R2 Train   R2 Test\n",
       "0   0.026401  0.053763  0.410894 -0.003151\n",
       "1   0.028213  0.042933  0.265364 -0.388695\n",
       "2   0.040605  0.073490  0.309391 -0.402185"
      ]
     },
     "execution_count": 21,
     "metadata": {},
     "output_type": "execute_result"
    },
    {
     "data": {
      "image/png": "[encoded data removed]",
      "text/plain": [
       "<Figure size 900x300 with 2 Axes>"
      ]
     },
     "metadata": {},
     "output_type": "display_data"
    },
    {
     "data": {
      "image/png": "[encoded data removed]",
      "text/plain": [
       "<Figure size 900x300 with 2 Axes>"
      ]
     },
     "metadata": {},
     "output_type": "display_data"
    },
    {
     "data": {
      "image/png": "[encoded data removed]",
      "text/plain": [
       "<Figure size 900x300 with 2 Axes>"
      ]
     },
     "metadata": {},
     "output_type": "display_data"
    }
   ],
   "source": [
    "resArr = []\n",
    "for i in range(dfY.shape[1]):\n",
    "    y_train = Y_train_std[:, i]\n",
    "    y_test = Y_test_std[:, i]\n",
    "    y_train_pred = Y_train_pred[:, i]\n",
    "    y_test_pred = Y_test_pred[:, i]\n",
    "    plot_res(y_train, y_test, y_train_pred, y_test_pred, xlim=[-0.1, 1.1])\n",
    "    res = store_results(y_train, y_test, y_train_pred, y_test_pred)\n",
    "    resArr.append(res)\n",
    "\n",
    "dfRes = pd.DataFrame.from_dict(resArr)\n",
    "dfRes"
   ]
  },
  {
   "cell_type": "code",
   "execution_count": 22,
   "id": "7a829aab",
   "metadata": {},
   "outputs": [
    {
     "name": "stdout",
     "output_type": "stream",
     "text": [
      "(70, 301, 1, 301)\n"
     ]
    }
   ],
   "source": [
    "att = attn_train.detach().numpy()\n",
    "print(att.shape)"
   ]
  },
  {
   "cell_type": "code",
   "execution_count": 23,
   "id": "263d5b3f",
   "metadata": {},
   "outputs": [
    {
     "data": {
      "application/vnd.microsoft.datawrangler.viewer.v0+json": {
       "columns": [
        {
         "name": "index",
         "rawType": "int64",
         "type": "integer"
        },
        {
         "name": "0",
         "rawType": "float32",
         "type": "float"
        },
        {
         "name": "1",
         "rawType": "float32",
         "type": "float"
        },
        {
         "name": "2",
         "rawType": "float32",
         "type": "float"
        },
        {
         "name": "3",
         "rawType": "float32",
         "type": "float"
        },
        {
         "name": "4",
         "rawType": "float32",
         "type": "float"
        },
        {
         "name": "5",
         "rawType": "float32",
         "type": "float"
        },
        {
         "name": "6",
         "rawType": "float32",
         "type": "float"
        },
        {
         "name": "7",
         "rawType": "float32",
         "type": "float"
        },
        {
         "name": "8",
         "rawType": "float32",
         "type": "float"
        },
        {
         "name": "9",
         "rawType": "float32",
         "type": "float"
        },
        {
         "name": "10",
         "rawType": "float32",
         "type": "float"
        },
        {
         "name": "11",
         "rawType": "float32",
         "type": "float"
        },
        {
         "name": "12",
         "rawType": "float32",
         "type": "float"
        },
        {
         "name": "13",
         "rawType": "float32",
         "type": "float"
        },
        {
         "name": "14",
         "rawType": "float32",
         "type": "float"
        },
        {
         "name": "15",
         "rawType": "float32",
         "type": "float"
        },
        {
         "name": "16",
         "rawType": "float32",
         "type": "float"
        },
        {
         "name": "17",
         "rawType": "float32",
         "type": "float"
        },
        {
         "name": "18",
         "rawType": "float32",
         "type": "float"
        },
        {
         "name": "19",
         "rawType": "float32",
         "type": "float"
        },
        {
         "name": "20",
         "rawType": "float32",
         "type": "float"
        },
        {
         "name": "21",
         "rawType": "float32",
         "type": "float"
        },
        {
         "name": "22",
         "rawType": "float32",
         "type": "float"
        },
        {
         "name": "23",
         "rawType": "float32",
         "type": "float"
        },
        {
         "name": "24",
         "rawType": "float32",
         "type": "float"
        },
        {
         "name": "25",
         "rawType": "float32",
         "type": "float"
        },
        {
         "name": "26",
         "rawType": "float32",
         "type": "float"
        },
        {
         "name": "27",
         "rawType": "float32",
         "type": "float"
        },
        {
         "name": "28",
         "rawType": "float32",
         "type": "float"
        },
        {
         "name": "29",
         "rawType": "float32",
         "type": "float"
        },
        {
         "name": "30",
         "rawType": "float32",
         "type": "float"
        },
        {
         "name": "31",
         "rawType": "float32",
         "type": "float"
        },
        {
         "name": "32",
         "rawType": "float32",
         "type": "float"
        },
        {
         "name": "33",
         "rawType": "float32",
         "type": "float"
        },
        {
         "name": "34",
         "rawType": "float32",
         "type": "float"
        },
        {
         "name": "35",
         "rawType": "float32",
         "type": "float"
        },
        {
         "name": "36",
         "rawType": "float32",
         "type": "float"
        },
        {
         "name": "37",
         "rawType": "float32",
         "type": "float"
        },
        {
         "name": "38",
         "rawType": "float32",
         "type": "float"
        },
        {
         "name": "39",
         "rawType": "float32",
         "type": "float"
        },
        {
         "name": "40",
         "rawType": "float32",
         "type": "float"
        },
        {
         "name": "41",
         "rawType": "float32",
         "type": "float"
        },
        {
         "name": "42",
         "rawType": "float32",
         "type": "float"
        },
        {
         "name": "43",
         "rawType": "float32",
         "type": "float"
        },
        {
         "name": "44",
         "rawType": "float32",
         "type": "float"
        },
        {
         "name": "45",
         "rawType": "float32",
         "type": "float"
        },
        {
         "name": "46",
         "rawType": "float32",
         "type": "float"
        },
        {
         "name": "47",
         "rawType": "float32",
         "type": "float"
        },
        {
         "name": "48",
         "rawType": "float32",
         "type": "float"
        },
        {
         "name": "49",
         "rawType": "float32",
         "type": "float"
        },
        {
         "name": "50",
         "rawType": "float32",
         "type": "float"
        },
        {
         "name": "51",
         "rawType": "float32",
         "type": "float"
        },
        {
         "name": "52",
         "rawType": "float32",
         "type": "float"
        },
        {
         "name": "53",
         "rawType": "float32",
         "type": "float"
        },
        {
         "name": "54",
         "rawType": "float32",
         "type": "float"
        },
        {
         "name": "55",
         "rawType": "float32",
         "type": "float"
        },
        {
         "name": "56",
         "rawType": "float32",
         "type": "float"
        },
        {
         "name": "57",
         "rawType": "float32",
         "type": "float"
        },
        {
         "name": "58",
         "rawType": "float32",
         "type": "float"
        },
        {
         "name": "59",
         "rawType": "float32",
         "type": "float"
        },
        {
         "name": "60",
         "rawType": "float32",
         "type": "float"
        },
        {
         "name": "61",
         "rawType": "float32",
         "type": "float"
        },
        {
         "name": "62",
         "rawType": "float32",
         "type": "float"
        },
        {
         "name": "63",
         "rawType": "float32",
         "type": "float"
        },
        {
         "name": "64",
         "rawType": "float32",
         "type": "float"
        },
        {
         "name": "65",
         "rawType": "float32",
         "type": "float"
        },
        {
         "name": "66",
         "rawType": "float32",
         "type": "float"
        },
        {
         "name": "67",
         "rawType": "float32",
         "type": "float"
        },
        {
         "name": "68",
         "rawType": "float32",
         "type": "float"
        },
        {
         "name": "69",
         "rawType": "float32",
         "type": "float"
        },
        {
         "name": "70",
         "rawType": "float32",
         "type": "float"
        },
        {
         "name": "71",
         "rawType": "float32",
         "type": "float"
        },
        {
         "name": "72",
         "rawType": "float32",
         "type": "float"
        },
        {
         "name": "73",
         "rawType": "float32",
         "type": "float"
        },
        {
         "name": "74",
         "rawType": "float32",
         "type": "float"
        },
        {
         "name": "75",
         "rawType": "float32",
         "type": "float"
        },
        {
         "name": "76",
         "rawType": "float32",
         "type": "float"
        },
        {
         "name": "77",
         "rawType": "float32",
         "type": "float"
        },
        {
         "name": "78",
         "rawType": "float32",
         "type": "float"
        },
        {
         "name": "79",
         "rawType": "float32",
         "type": "float"
        },
        {
         "name": "80",
         "rawType": "float32",
         "type": "float"
        },
        {
         "name": "81",
         "rawType": "float32",
         "type": "float"
        },
        {
         "name": "82",
         "rawType": "float32",
         "type": "float"
        },
        {
         "name": "83",
         "rawType": "float32",
         "type": "float"
        },
        {
         "name": "84",
         "rawType": "float32",
         "type": "float"
        },
        {
         "name": "85",
         "rawType": "float32",
         "type": "float"
        },
        {
         "name": "86",
         "rawType": "float32",
         "type": "float"
        },
        {
         "name": "87",
         "rawType": "float32",
         "type": "float"
        },
        {
         "name": "88",
         "rawType": "float32",
         "type": "float"
        },
        {
         "name": "89",
         "rawType": "float32",
         "type": "float"
        },
        {
         "name": "90",
         "rawType": "float32",
         "type": "float"
        },
        {
         "name": "91",
         "rawType": "float32",
         "type": "float"
        },
        {
         "name": "92",
         "rawType": "float32",
         "type": "float"
        },
        {
         "name": "93",
         "rawType": "float32",
         "type": "float"
        },
        {
         "name": "94",
         "rawType": "float32",
         "type": "float"
        },
        {
         "name": "95",
         "rawType": "float32",
         "type": "float"
        },
        {
         "name": "96",
         "rawType": "float32",
         "type": "float"
        },
        {
         "name": "97",
         "rawType": "float32",
         "type": "float"
        },
        {
         "name": "98",
         "rawType": "float32",
         "type": "float"
        },
        {
         "name": "99",
         "rawType": "float32",
         "type": "float"
        },
        {
         "name": "100",
         "rawType": "float32",
         "type": "float"
        },
        {
         "name": "101",
         "rawType": "float32",
         "type": "float"
        },
        {
         "name": "102",
         "rawType": "float32",
         "type": "float"
        },
        {
         "name": "103",
         "rawType": "float32",
         "type": "float"
        },
        {
         "name": "104",
         "rawType": "float32",
         "type": "float"
        },
        {
         "name": "105",
         "rawType": "float32",
         "type": "float"
        },
        {
         "name": "106",
         "rawType": "float32",
         "type": "float"
        },
        {
         "name": "107",
         "rawType": "float32",
         "type": "float"
        },
        {
         "name": "108",
         "rawType": "float32",
         "type": "float"
        },
        {
         "name": "109",
         "rawType": "float32",
         "type": "float"
        },
        {
         "name": "110",
         "rawType": "float32",
         "type": "float"
        },
        {
         "name": "111",
         "rawType": "float32",
         "type": "float"
        },
        {
         "name": "112",
         "rawType": "float32",
         "type": "float"
        },
        {
         "name": "113",
         "rawType": "float32",
         "type": "float"
        },
        {
         "name": "114",
         "rawType": "float32",
         "type": "float"
        },
        {
         "name": "115",
         "rawType": "float32",
         "type": "float"
        },
        {
         "name": "116",
         "rawType": "float32",
         "type": "float"
        },
        {
         "name": "117",
         "rawType": "float32",
         "type": "float"
        },
        {
         "name": "118",
         "rawType": "float32",
         "type": "float"
        },
        {
         "name": "119",
         "rawType": "float32",
         "type": "float"
        },
        {
         "name": "120",
         "rawType": "float32",
         "type": "float"
        },
        {
         "name": "121",
         "rawType": "float32",
         "type": "float"
        },
        {
         "name": "122",
         "rawType": "float32",
         "type": "float"
        },
        {
         "name": "123",
         "rawType": "float32",
         "type": "float"
        },
        {
         "name": "124",
         "rawType": "float32",
         "type": "float"
        },
        {
         "name": "125",
         "rawType": "float32",
         "type": "float"
        },
        {
         "name": "126",
         "rawType": "float32",
         "type": "float"
        },
        {
         "name": "127",
         "rawType": "float32",
         "type": "float"
        },
        {
         "name": "128",
         "rawType": "float32",
         "type": "float"
        },
        {
         "name": "129",
         "rawType": "float32",
         "type": "float"
        },
        {
         "name": "130",
         "rawType": "float32",
         "type": "float"
        },
        {
         "name": "131",
         "rawType": "float32",
         "type": "float"
        },
        {
         "name": "132",
         "rawType": "float32",
         "type": "float"
        },
        {
         "name": "133",
         "rawType": "float32",
         "type": "float"
        },
        {
         "name": "134",
         "rawType": "float32",
         "type": "float"
        },
        {
         "name": "135",
         "rawType": "float32",
         "type": "float"
        },
        {
         "name": "136",
         "rawType": "float32",
         "type": "float"
        },
        {
         "name": "137",
         "rawType": "float32",
         "type": "float"
        },
        {
         "name": "138",
         "rawType": "float32",
         "type": "float"
        },
        {
         "name": "139",
         "rawType": "float32",
         "type": "float"
        },
        {
         "name": "140",
         "rawType": "float32",
         "type": "float"
        },
        {
         "name": "141",
         "rawType": "float32",
         "type": "float"
        },
        {
         "name": "142",
         "rawType": "float32",
         "type": "float"
        },
        {
         "name": "143",
         "rawType": "float32",
         "type": "float"
        },
        {
         "name": "144",
         "rawType": "float32",
         "type": "float"
        },
        {
         "name": "145",
         "rawType": "float32",
         "type": "float"
        },
        {
         "name": "146",
         "rawType": "float32",
         "type": "float"
        },
        {
         "name": "147",
         "rawType": "float32",
         "type": "float"
        },
        {
         "name": "148",
         "rawType": "float32",
         "type": "float"
        },
        {
         "name": "149",
         "rawType": "float32",
         "type": "float"
        },
        {
         "name": "150",
         "rawType": "float32",
         "type": "float"
        },
        {
         "name": "151",
         "rawType": "float32",
         "type": "float"
        },
        {
         "name": "152",
         "rawType": "float32",
         "type": "float"
        },
        {
         "name": "153",
         "rawType": "float32",
         "type": "float"
        },
        {
         "name": "154",
         "rawType": "float32",
         "type": "float"
        },
        {
         "name": "155",
         "rawType": "float32",
         "type": "float"
        },
        {
         "name": "156",
         "rawType": "float32",
         "type": "float"
        },
        {
         "name": "157",
         "rawType": "float32",
         "type": "float"
        },
        {
         "name": "158",
         "rawType": "float32",
         "type": "float"
        },
        {
         "name": "159",
         "rawType": "float32",
         "type": "float"
        },
        {
         "name": "160",
         "rawType": "float32",
         "type": "float"
        },
        {
         "name": "161",
         "rawType": "float32",
         "type": "float"
        },
        {
         "name": "162",
         "rawType": "float32",
         "type": "float"
        },
        {
         "name": "163",
         "rawType": "float32",
         "type": "float"
        },
        {
         "name": "164",
         "rawType": "float32",
         "type": "float"
        },
        {
         "name": "165",
         "rawType": "float32",
         "type": "float"
        },
        {
         "name": "166",
         "rawType": "float32",
         "type": "float"
        },
        {
         "name": "167",
         "rawType": "float32",
         "type": "float"
        },
        {
         "name": "168",
         "rawType": "float32",
         "type": "float"
        },
        {
         "name": "169",
         "rawType": "float32",
         "type": "float"
        },
        {
         "name": "170",
         "rawType": "float32",
         "type": "float"
        },
        {
         "name": "171",
         "rawType": "float32",
         "type": "float"
        },
        {
         "name": "172",
         "rawType": "float32",
         "type": "float"
        },
        {
         "name": "173",
         "rawType": "float32",
         "type": "float"
        },
        {
         "name": "174",
         "rawType": "float32",
         "type": "float"
        },
        {
         "name": "175",
         "rawType": "float32",
         "type": "float"
        },
        {
         "name": "176",
         "rawType": "float32",
         "type": "float"
        },
        {
         "name": "177",
         "rawType": "float32",
         "type": "float"
        },
        {
         "name": "178",
         "rawType": "float32",
         "type": "float"
        },
        {
         "name": "179",
         "rawType": "float32",
         "type": "float"
        },
        {
         "name": "180",
         "rawType": "float32",
         "type": "float"
        },
        {
         "name": "181",
         "rawType": "float32",
         "type": "float"
        },
        {
         "name": "182",
         "rawType": "float32",
         "type": "float"
        },
        {
         "name": "183",
         "rawType": "float32",
         "type": "float"
        },
        {
         "name": "184",
         "rawType": "float32",
         "type": "float"
        },
        {
         "name": "185",
         "rawType": "float32",
         "type": "float"
        },
        {
         "name": "186",
         "rawType": "float32",
         "type": "float"
        },
        {
         "name": "187",
         "rawType": "float32",
         "type": "float"
        },
        {
         "name": "188",
         "rawType": "float32",
         "type": "float"
        },
        {
         "name": "189",
         "rawType": "float32",
         "type": "float"
        },
        {
         "name": "190",
         "rawType": "float32",
         "type": "float"
        },
        {
         "name": "191",
         "rawType": "float32",
         "type": "float"
        },
        {
         "name": "192",
         "rawType": "float32",
         "type": "float"
        },
        {
         "name": "193",
         "rawType": "float32",
         "type": "float"
        },
        {
         "name": "194",
         "rawType": "float32",
         "type": "float"
        },
        {
         "name": "195",
         "rawType": "float32",
         "type": "float"
        },
        {
         "name": "196",
         "rawType": "float32",
         "type": "float"
        },
        {
         "name": "197",
         "rawType": "float32",
         "type": "float"
        },
        {
         "name": "198",
         "rawType": "float32",
         "type": "float"
        },
        {
         "name": "199",
         "rawType": "float32",
         "type": "float"
        },
        {
         "name": "200",
         "rawType": "float32",
         "type": "float"
        },
        {
         "name": "201",
         "rawType": "float32",
         "type": "float"
        },
        {
         "name": "202",
         "rawType": "float32",
         "type": "float"
        },
        {
         "name": "203",
         "rawType": "float32",
         "type": "float"
        },
        {
         "name": "204",
         "rawType": "float32",
         "type": "float"
        },
        {
         "name": "205",
         "rawType": "float32",
         "type": "float"
        },
        {
         "name": "206",
         "rawType": "float32",
         "type": "float"
        },
        {
         "name": "207",
         "rawType": "float32",
         "type": "float"
        },
        {
         "name": "208",
         "rawType": "float32",
         "type": "float"
        },
        {
         "name": "209",
         "rawType": "float32",
         "type": "float"
        },
        {
         "name": "210",
         "rawType": "float32",
         "type": "float"
        },
        {
         "name": "211",
         "rawType": "float32",
         "type": "float"
        },
        {
         "name": "212",
         "rawType": "float32",
         "type": "float"
        },
        {
         "name": "213",
         "rawType": "float32",
         "type": "float"
        },
        {
         "name": "214",
         "rawType": "float32",
         "type": "float"
        },
        {
         "name": "215",
         "rawType": "float32",
         "type": "float"
        },
        {
         "name": "216",
         "rawType": "float32",
         "type": "float"
        },
        {
         "name": "217",
         "rawType": "float32",
         "type": "float"
        },
        {
         "name": "218",
         "rawType": "float32",
         "type": "float"
        },
        {
         "name": "219",
         "rawType": "float32",
         "type": "float"
        },
        {
         "name": "220",
         "rawType": "float32",
         "type": "float"
        },
        {
         "name": "221",
         "rawType": "float32",
         "type": "float"
        },
        {
         "name": "222",
         "rawType": "float32",
         "type": "float"
        },
        {
         "name": "223",
         "rawType": "float32",
         "type": "float"
        },
        {
         "name": "224",
         "rawType": "float32",
         "type": "float"
        },
        {
         "name": "225",
         "rawType": "float32",
         "type": "float"
        },
        {
         "name": "226",
         "rawType": "float32",
         "type": "float"
        },
        {
         "name": "227",
         "rawType": "float32",
         "type": "float"
        },
        {
         "name": "228",
         "rawType": "float32",
         "type": "float"
        },
        {
         "name": "229",
         "rawType": "float32",
         "type": "float"
        },
        {
         "name": "230",
         "rawType": "float32",
         "type": "float"
        },
        {
         "name": "231",
         "rawType": "float32",
         "type": "float"
        },
        {
         "name": "232",
         "rawType": "float32",
         "type": "float"
        },
        {
         "name": "233",
         "rawType": "float32",
         "type": "float"
        },
        {
         "name": "234",
         "rawType": "float32",
         "type": "float"
        },
        {
         "name": "235",
         "rawType": "float32",
         "type": "float"
        },
        {
         "name": "236",
         "rawType": "float32",
         "type": "float"
        },
        {
         "name": "237",
         "rawType": "float32",
         "type": "float"
        },
        {
         "name": "238",
         "rawType": "float32",
         "type": "float"
        },
        {
         "name": "239",
         "rawType": "float32",
         "type": "float"
        },
        {
         "name": "240",
         "rawType": "float32",
         "type": "float"
        },
        {
         "name": "241",
         "rawType": "float32",
         "type": "float"
        },
        {
         "name": "242",
         "rawType": "float32",
         "type": "float"
        },
        {
         "name": "243",
         "rawType": "float32",
         "type": "float"
        },
        {
         "name": "244",
         "rawType": "float32",
         "type": "float"
        },
        {
         "name": "245",
         "rawType": "float32",
         "type": "float"
        },
        {
         "name": "246",
         "rawType": "float32",
         "type": "float"
        },
        {
         "name": "247",
         "rawType": "float32",
         "type": "float"
        },
        {
         "name": "248",
         "rawType": "float32",
         "type": "float"
        },
        {
         "name": "249",
         "rawType": "float32",
         "type": "float"
        },
        {
         "name": "250",
         "rawType": "float32",
         "type": "float"
        },
        {
         "name": "251",
         "rawType": "float32",
         "type": "float"
        },
        {
         "name": "252",
         "rawType": "float32",
         "type": "float"
        },
        {
         "name": "253",
         "rawType": "float32",
         "type": "float"
        },
        {
         "name": "254",
         "rawType": "float32",
         "type": "float"
        },
        {
         "name": "255",
         "rawType": "float32",
         "type": "float"
        },
        {
         "name": "256",
         "rawType": "float32",
         "type": "float"
        },
        {
         "name": "257",
         "rawType": "float32",
         "type": "float"
        },
        {
         "name": "258",
         "rawType": "float32",
         "type": "float"
        },
        {
         "name": "259",
         "rawType": "float32",
         "type": "float"
        },
        {
         "name": "260",
         "rawType": "float32",
         "type": "float"
        },
        {
         "name": "261",
         "rawType": "float32",
         "type": "float"
        },
        {
         "name": "262",
         "rawType": "float32",
         "type": "float"
        },
        {
         "name": "263",
         "rawType": "float32",
         "type": "float"
        },
        {
         "name": "264",
         "rawType": "float32",
         "type": "float"
        },
        {
         "name": "265",
         "rawType": "float32",
         "type": "float"
        },
        {
         "name": "266",
         "rawType": "float32",
         "type": "float"
        },
        {
         "name": "267",
         "rawType": "float32",
         "type": "float"
        },
        {
         "name": "268",
         "rawType": "float32",
         "type": "float"
        },
        {
         "name": "269",
         "rawType": "float32",
         "type": "float"
        },
        {
         "name": "270",
         "rawType": "float32",
         "type": "float"
        },
        {
         "name": "271",
         "rawType": "float32",
         "type": "float"
        },
        {
         "name": "272",
         "rawType": "float32",
         "type": "float"
        },
        {
         "name": "273",
         "rawType": "float32",
         "type": "float"
        },
        {
         "name": "274",
         "rawType": "float32",
         "type": "float"
        },
        {
         "name": "275",
         "rawType": "float32",
         "type": "float"
        },
        {
         "name": "276",
         "rawType": "float32",
         "type": "float"
        },
        {
         "name": "277",
         "rawType": "float32",
         "type": "float"
        },
        {
         "name": "278",
         "rawType": "float32",
         "type": "float"
        },
        {
         "name": "279",
         "rawType": "float32",
         "type": "float"
        },
        {
         "name": "280",
         "rawType": "float32",
         "type": "float"
        },
        {
         "name": "281",
         "rawType": "float32",
         "type": "float"
        },
        {
         "name": "282",
         "rawType": "float32",
         "type": "float"
        },
        {
         "name": "283",
         "rawType": "float32",
         "type": "float"
        },
        {
         "name": "284",
         "rawType": "float32",
         "type": "float"
        },
        {
         "name": "285",
         "rawType": "float32",
         "type": "float"
        },
        {
         "name": "286",
         "rawType": "float32",
         "type": "float"
        },
        {
         "name": "287",
         "rawType": "float32",
         "type": "float"
        },
        {
         "name": "288",
         "rawType": "float32",
         "type": "float"
        },
        {
         "name": "289",
         "rawType": "float32",
         "type": "float"
        },
        {
         "name": "290",
         "rawType": "float32",
         "type": "float"
        },
        {
         "name": "291",
         "rawType": "float32",
         "type": "float"
        },
        {
         "name": "292",
         "rawType": "float32",
         "type": "float"
        },
        {
         "name": "293",
         "rawType": "float32",
         "type": "float"
        },
        {
         "name": "294",
         "rawType": "float32",
         "type": "float"
        },
        {
         "name": "295",
         "rawType": "float32",
         "type": "float"
        },
        {
         "name": "296",
         "rawType": "float32",
         "type": "float"
        },
        {
         "name": "297",
         "rawType": "float32",
         "type": "float"
        },
        {
         "name": "298",
         "rawType": "float32",
         "type": "float"
        },
        {
         "name": "299",
         "rawType": "float32",
         "type": "float"
        },
        {
         "name": "300",
         "rawType": "float32",
         "type": "float"
        }
       ],
       "ref": "09fed97a-798e-42fd-acbd-e88b4dd516c8",
       "rows": [
        [
         "0",
         "0.015521735",
         "0.015024974",
         "0.011204528",
         "0.007311678",
         "0.004960764",
         "0.0037587727",
         "0.0031475434",
         "0.0028334642",
         "0.0026820998",
         "0.002631973",
         "0.0026546053",
         "0.0027362555",
         "0.0028677057",
         "0.0030363863",
         "0.0032196187",
         "0.0033816828",
         "0.0034796554",
         "0.0034795895",
         "0.0033745489",
         "0.0031896774",
         "0.0029684657",
         "0.0027517066",
         "0.0025648077",
         "0.0024174675",
         "0.0023095685",
         "0.0022370312",
         "0.0021954242",
         "0.0021816795",
         "0.002194727",
         "0.0022356217",
         "0.0023073538",
         "0.0024141301",
         "0.0025596432",
         "0.002743594",
         "0.0029562651",
         "0.0031729462",
         "0.003353375",
         "0.0034522954",
         "0.0034401205",
         "0.003320324",
         "0.0031280573",
         "0.0029105009",
         "0.0027059193",
         "0.0025351278",
         "0.002404429",
         "0.0023122975",
         "0.0022547045",
         "0.002228085",
         "0.0022306568",
         "0.0022628987",
         "0.002327605",
         "0.0024295186",
         "0.0025741144",
         "0.0027647363",
         "0.0029972473",
         "0.003252739",
         "0.0034924396",
         "0.0036627566",
         "0.0037153047",
         "0.0036330025",
         "0.0034414649",
         "0.0031941612",
         "0.0029444073",
         "0.0027266736",
         "0.0025548649",
         "0.0024297745",
         "0.0023468672",
         "0.0023010836",
         "0.0022890875",
         "0.0023101293",
         "0.0023662767",
         "0.0024622793",
         "0.0026047959",
         "0.0028001957",
         "0.0030497513",
         "0.0033415651",
         "0.0036417146",
         "0.003892628",
         "0.0040285084",
         "0.0040065083",
         "0.0038329994",
         "0.0035609587",
         "0.00325948",
         "0.002982213",
         "0.0027559097",
         "0.0025864602",
         "0.0024695501",
         "0.0023983773",
         "0.0023675282",
         "0.0023744896",
         "0.0024201209",
         "0.0025086878",
         "0.0026474409",
         "0.0028450862",
         "0.0031078064",
         "0.003431313",
         "0.0037894829",
         "0.004126101",
         "0.004362401",
         "0.0044277906",
         "0.0042993007",
         "0.004017813",
         "0.0036641257",
         "0.003315717",
         "0.0030194726",
         "0.002791313",
         "0.0026290223",
         "0.0025241307",
         "0.002468565",
         "0.00245738",
         "0.0024896138",
         "0.0025684675",
         "0.0027011284",
         "0.002897814",
         "0.0031687627",
         "0.0035171106",
         "0.003926479",
         "0.004347295",
         "0.004694788",
         "0.004873432",
         "0.0048239254",
         "0.0045606177",
         "0.004165093",
         "0.0037390322",
         "0.003357423",
         "0.0030538498",
         "0.0028320544",
         "0.0026827885",
         "0.0025948766",
         "0.0025601597",
         "0.0025751018",
         "0.0026411503",
         "0.0027646935",
         "0.0029565417",
         "0.0032298476",
         "0.0035942392",
         "0.004043744",
         "0.0045396336",
         "0.0049991794",
         "0.0053094355",
         "0.0053738607",
         "0.0051673846",
         "0.004755443",
         "0.004256344",
         "0.003778361",
         "0.0033824462",
         "0.0030850177",
         "0.0028785653",
         "0.0027489054",
         "0.0026839252",
         "0.0026766595",
         "0.0027260056",
         "0.0028367513",
         "0.0030193217",
         "0.0032884565",
         "0.0036587878",
         "0.0041340822",
         "0.0046888804",
         "0.0052499175",
         "0.0056973225",
         "0.0059033707",
         "0.005796972",
         "0.005409097",
         "0.0048581646",
         "0.0042833905",
         "0.0037820123",
         "0.0033927353",
         "0.0031148822",
         "0.0029325876",
         "0.0028293938",
         "0.0027940688",
         "0.0028221018",
         "0.0029158434",
         "0.0030843315",
         "0.0033425365",
         "0.003708246",
         "0.0041932683",
         "0.0047858027",
         "0.005427459",
         "0.006002502",
         "0.006363445",
         "0.006395193",
         "0.0060808063",
         "0.0055171833",
         "0.0048616556",
         "0.004251024",
         "0.0037569227",
         "0.0033936442",
         "0.00314704",
         "0.0029968",
         "0.0029268356",
         "0.002928411",
         "0.0030006003",
         "0.003150113",
         "0.0033908389",
         "0.0037418215",
         "0.0042205555",
         "0.004827523",
         "0.0055218963",
         "0.0062014605",
         "0.006712827",
         "0.006906579",
         "0.0067134695",
         "0.0061891107",
         "0.0054876087",
         "0.0047786403",
         "0.0041743657",
         "0.003714335",
         "0.0033921849",
         "0.0031857837",
         "0.003074204",
         "0.0030438814",
         "0.0030898612",
         "0.0032156801",
         "0.0034330077",
         "0.003760378",
         "0.004218421",
         "0.0048173075",
         "0.005533742",
         "0.0062853196",
         "0.006926047",
         "0.0072865803",
         "0.007250337",
         "0.0068197083",
         "0.006122121",
         "0.0053430875",
         "0.0046352535",
         "0.004073007",
         "0.0036662756",
         "0.003395201",
         "0.0032351175",
         "0.003167463",
         "0.003182705",
         "0.0032805253",
         "0.0034694548",
         "0.0029856048",
         "0.0025355432",
         "0.002246407",
         "0.0020724041",
         "0.001967444",
         "0.0019030186",
         "0.0018627706",
         "0.0018372876",
         "0.0018210283",
         "0.0018106424",
         "0.0018040573",
         "0.0017999603",
         "0.0017975095",
         "0.0017961554",
         "0.0017955357",
         "0.0017954133",
         "0.0017956265",
         "0.0017960693",
         "0.0017966697",
         "0.0017973792",
         "0.001798164",
         "0.0017990037",
         "0.0017998815",
         "0.001800787",
         "0.0018017147",
         "0.0018026583",
         "0.0018036152",
         "0.001804583",
         "0.001805559",
         "0.0018065438",
         "0.0018075356",
         "0.0018085336",
         "0.0018095381",
         "0.0018105487",
         "0.0018115648",
         "0.0018125866",
         "0.0018136136",
         "0.0018146461",
         "0.0018156838",
         "0.0018167273",
         "0.0018177754",
         "0.0018188293",
         "0.0018198887",
         "0.0018209524",
         "0.0018220217",
         "0.0018230962",
         "0.0018241765",
         "0.0018252616",
         "0.0018263521",
         "0.0018274476",
         "0.0018285485",
         "0.0018296539",
         "0.0018307654",
         "0.0018318826",
         "0.0018330037",
         "0.0018341303",
         "0.0018352623",
         "0.0018363999",
         "0.0018375422",
         "0.0018386903",
         "0.0018398436",
         "0.0018410011",
         "0.0018421647",
         "0.0022087342",
         "0.0021524176",
         "0.002197557"
        ],
        [
         "1",
         "0.021652227",
         "0.020183526",
         "0.013692392",
         "0.008102922",
         "0.0050923266",
         "0.0036666396",
         "0.0029752774",
         "0.0026300233",
         "0.0024666945",
         "0.0024138973",
         "0.0024398018",
         "0.002529754",
         "0.0026744811",
         "0.0028611184",
         "0.003065222",
         "0.0032468082",
         "0.0033567133",
         "0.003355768",
         "0.0032365748",
         "0.003029238",
         "0.002784179",
         "0.002547112",
         "0.0023451466",
         "0.0021875727",
         "0.00207318",
         "0.001996895",
         "0.0019536277",
         "0.0019399733",
         "0.001954792",
         "0.0019993107",
         "0.0020769404",
         "0.0021925902",
         "0.0023508912",
         "0.0025524208",
         "0.0027874473",
         "0.003029005",
         "0.0032314018",
         "0.003342116",
         "0.0033266346",
         "0.0031896464",
         "0.0029728885",
         "0.0027308639",
         "0.002506214",
         "0.0023208605",
         "0.002180438",
         "0.0020823264",
         "0.002021607",
         "0.0019941784",
         "0.0019980555",
         "0.0020338173",
         "0.0021046682",
         "0.0022161172",
         "0.0023747876",
         "0.0025853794",
         "0.0028446114",
         "0.0031323766",
         "0.0034047721",
         "0.0035990467",
         "0.0036576109",
         "0.0035605037",
         "0.003339334",
         "0.0030579886",
         "0.0027780435",
         "0.002537379",
         "0.002349781",
         "0.002214614",
         "0.002125918",
         "0.0020776594",
         "0.0020660134",
         "0.002090165",
         "0.0021525268",
         "0.0022586458",
         "0.0024165115",
         "0.0026343132",
         "0.0029151062",
         "0.0032471945",
         "0.003592641",
         "0.0038837383",
         "0.0040409453",
         "0.004012142",
         "0.0038062292",
         "0.0034888827",
         "0.003142963",
         "0.0028299592",
         "0.0025782266",
         "0.002392094",
         "0.0022650806",
         "0.0021887028",
         "0.002156557",
         "0.0021657653",
         "0.0022173792",
         "0.0023164405",
         "0.0024716603",
         "0.0026939784",
         "0.0029922817",
         "0.0033641153",
         "0.0037812816",
         "0.004177865",
         "0.0044576307",
         "0.0045326254",
         "0.004374941",
         "0.004037485",
         "0.0036210315",
         "0.0032182503",
         "0.0028816774",
         "0.002626367",
         "0.0024470878",
         "0.0023326094",
         "0.002273041",
         "0.0022625464",
         "0.002300062",
         "0.0023894429",
         "0.0025393907",
         "0.002762673",
         "0.00307306",
         "0.003477203",
         "0.0039592013",
         "0.004461817",
         "0.004881022",
         "0.00509577",
         "0.0050304495",
         "0.0047054575",
         "0.0042267432",
         "0.0037212297",
         "0.0032773495",
         "0.0029305448",
         "0.0026810167",
         "0.0025152948",
         "0.002419093",
         "0.0023824833",
         "0.0024013056",
         "0.0024773907",
         "0.0026185731",
         "0.0028383909",
         "0.0031541658",
         "0.0035805686",
         "0.004114901",
         "0.004714171",
         "0.0052772667",
         "0.0056595723",
         "0.005734858",
         "0.0054717367",
         "0.0049589225",
         "0.0043504033",
         "0.0037801517",
         "0.003317491",
         "0.0029761507",
         "0.0027427922",
         "0.0025982764",
         "0.002527354",
         "0.0025215766",
         "0.0025797295",
         "0.002707807",
         "0.0029189566",
         "0.0032324675",
         "0.0036691895",
         "0.0042387843",
         "0.0049156984",
         "0.005611804",
         "0.006173155",
         "0.0064300713",
         "0.0062878686",
         "0.005791415",
         "0.0051011443",
         "0.004397205",
         "0.0037970513",
         "0.0033406806",
         "0.0030206325",
         "0.0028137928",
         "0.0026986056",
         "0.0026610377",
         "0.0026956643",
         "0.0028055734",
         "0.003002301",
         "0.003305437",
         "0.0037396897",
         "0.004324829",
         "0.005053155",
         "0.0058568353",
         "0.0065880297",
         "0.007049243",
         "0.007083357",
         "0.006669772",
         "0.005944989",
         "0.005121096",
         "0.004372001",
         "0.0037797226",
         "0.0033529582",
         "0.0030680983",
         "0.002897214",
         "0.0028195514",
         "0.002824264",
         "0.0029104138",
         "0.003086732",
         "0.0033714757",
         "0.0037907863",
         "0.00437141",
         "0.0051214574",
         "0.005996841",
         "0.0068689855",
         "0.0075324466",
         "0.007780629",
         "0.0075183795",
         "0.006827808",
         "0.00592437",
         "0.0050334805",
         "0.0042927093",
         "0.0037412879",
         "0.0033623907",
         "0.0031235162",
         "0.0029966752",
         "0.002964541",
         "0.003021074",
         "0.0031710833",
         "0.003430042",
         "0.0038232664",
         "0.004381082",
         "0.005123721",
         "0.0060303994",
         "0.0070004156",
         "0.007839708",
         "0.008313145",
         "0.008256517",
         "0.0076770154",
         "0.006758722",
         "0.005757493",
         "0.0048706178",
         "0.004183002",
         "0.0036959231",
         "0.0033769368",
         "0.0031915929",
         "0.0031154775",
         "0.0031365468",
         "0.003254734",
         "0.0034815308",
         "0.0028985827",
         "0.0023758318",
         "0.002048309",
         "0.0018537537",
         "0.0017370303",
         "0.0016654799",
         "0.0016207634",
         "0.0015924332",
         "0.0015743581",
         "0.0015628291",
         "0.0015555439",
         "0.0015510414",
         "0.0015483807",
         "0.0015469464",
         "0.0015463346",
         "0.0015462767",
         "0.001546593",
         "0.0015471647",
         "0.0015479107",
         "0.0015487776",
         "0.0015497272",
         "0.0015507374",
         "0.0015517892",
         "0.001552872",
         "0.0015539787",
         "0.0015551032",
         "0.0015562427",
         "0.001557394",
         "0.0015585552",
         "0.0015597257",
         "0.0015609042",
         "0.0015620905",
         "0.0015632837",
         "0.0015644843",
         "0.0015656911",
         "0.0015669047",
         "0.0015681246",
         "0.0015693507",
         "0.0015705832",
         "0.001571822",
         "0.001573067",
         "0.0015743187",
         "0.0015755763",
         "0.0015768397",
         "0.0015781095",
         "0.0015793854",
         "0.0015806677",
         "0.0015819564",
         "0.0015832509",
         "0.0015845515",
         "0.0015858589",
         "0.0015871717",
         "0.001588491",
         "0.0015898172",
         "0.0015911484",
         "0.0015924863",
         "0.0015938306",
         "0.0015951814",
         "0.0015965373",
         "0.0015978998",
         "0.0015992692",
         "0.0016006437",
         "0.0016020255",
         "0.00205902",
         "0.002051191",
         "0.0021266255"
        ],
        [
         "2",
         "0.040584434",
         "0.033959985",
         "0.01935184",
         "0.009502151",
         "0.005167621",
         "0.0033857895",
         "0.0025958256",
         "0.0022225247",
         "0.0020523916",
         "0.0020002755",
         "0.0020307908",
         "0.0021291783",
         "0.0022873238",
         "0.0024933438",
         "0.0027216512",
         "0.0029270297",
         "0.0030514023",
         "0.0030479326",
         "0.0029092182",
         "0.002673756",
         "0.0024023172",
         "0.0021465074",
         "0.0019339485",
         "0.001771724",
         "0.0016561303",
         "0.0015803084",
         "0.0015381587",
         "0.001525835",
         "0.0015421509",
         "0.0015886141",
         "0.001669298",
         "0.0017902879",
         "0.0019579986",
         "0.0021751344",
         "0.0024332425",
         "0.0027034178",
         "0.002932678",
         "0.0030575437",
         "0.0030359542",
         "0.0028751097",
         "0.002627501",
         "0.0023582429",
         "0.00211481",
         "0.0019187739",
         "0.0017733454",
         "0.0016735544",
         "0.0016129065",
         "0.0015864687",
         "0.0015919856",
         "0.0016302102",
         "0.0017049889",
         "0.0018230901",
         "0.0019932059",
         "0.0022228807",
         "0.0025115234",
         "0.0028389664",
         "0.0031547088",
         "0.0033817636",
         "0.003447326",
         "0.0033270314",
         "0.0030633502",
         "0.0027373496",
         "0.0024223055",
         "0.0021589594",
         "0.0019587297",
         "0.0018174774",
         "0.0017265152",
         "0.0016781841",
         "0.0016679263",
         "0.0016948724",
         "0.0017620024",
         "0.001876189",
         "0.0020477746",
         "0.0022885257",
         "0.0026057567",
         "0.0029902484",
         "0.0033997053",
         "0.003750564",
         "0.0039394703",
         "0.0038978977",
         "0.0036402012",
         "0.0032552986",
         "0.0028488175",
         "0.0024925529",
         "0.0022143133",
         "0.002013699",
         "0.0018796886",
         "0.0018007713",
         "0.0017689462",
         "0.0017808155",
         "0.0018377993",
         "0.0019462617",
         "0.0021175088",
         "0.002366749",
         "0.0027087384",
         "0.0031465306",
         "0.0036514539",
         "0.004142908",
         "0.004493535",
         "0.0045826472",
         "0.004373584",
         "0.0039434563",
         "0.0034301174",
         "0.0029507992",
         "0.0025636377",
         "0.0022786248",
         "0.0020834499",
         "0.0019615095",
         "0.0018997592",
         "0.0018909511",
         "0.0019339502",
         "0.0020337948",
         "0.002201919",
         "0.0024559414",
         "0.0028169935",
         "0.003300432",
         "0.0038950467",
         "0.004533439",
         "0.005077057",
         "0.00535472",
         "0.00525815",
         "0.0048215687",
         "0.004200659",
         "0.0035691045",
         "0.0030352892",
         "0.0026325807",
         "0.0023513422",
         "0.0021691257",
         "0.0020658255",
         "0.0020285004",
         "0.002052054",
         "0.0021391117",
         "0.0023001966",
         "0.0025540802",
         "0.0029266556",
         "0.0034442444",
         "0.0041145715",
         "0.004891956",
         "0.0056431787",
         "0.006159961",
         "0.0062532406",
         "0.0058793877",
         "0.0051788124",
         "0.0043788226",
         "0.0036593908",
         "0.003098476",
         "0.0026988657",
         "0.0024334572",
         "0.0022730853",
         "0.002196763",
         "0.0021935573",
         "0.0022622487",
         "0.0024111937",
         "0.002658858",
         "0.0030338727",
         "0.0035710495",
         "0.004295852",
         "0.0051892046",
         "0.006139261",
         "0.006923304",
         "0.0072798664",
         "0.007061968",
         "0.0063483776",
         "0.0053934893",
         "0.004460347",
         "0.0036987036",
         "0.0031422186",
         "0.0027648972",
         "0.0025276714",
         "0.0023989615",
         "0.0023596815",
         "0.002402979",
         "0.0025335618",
         "0.002767982",
         "0.0031353878",
         "0.0036758387",
         "0.004429117",
         "0.005403107",
         "0.0065189735",
         "0.007565395",
         "0.008233655",
         "0.008269027",
         "0.00764465",
         "0.0065921927",
         "0.005445372",
         "0.0044493084",
         "0.003695772",
         "0.0031733413",
         "0.002835452",
         "0.0026380536",
         "0.0025513936",
         "0.0025609008",
         "0.0026659474",
         "0.0028795055",
         "0.0032289969",
         "0.0037562603",
         "0.0045105577",
         "0.0055230525",
         "0.0067528537",
         "0.0080222925",
         "0.009010202",
         "0.009373828",
         "0.008956415",
         "0.007908334",
         "0.006591659",
         "0.0053516994",
         "0.0043679755",
         "0.003666401",
         "0.0032013024",
         "0.0029164637",
         "0.0027693491",
         "0.0027355",
         "0.0028071515",
         "0.0029920319",
         "0.0033137721",
         "0.003812722",
         "0.004542382",
         "0.0055508404",
         "0.006833344",
         "0.008259778",
         "0.009531272",
         "0.010254712",
         "0.010147691",
         "0.009233008",
         "0.00783837",
         "0.0063839313",
         "0.0051560276",
         "0.0042468393",
         "0.0036279995",
         "0.0032356344",
         "0.0030137605",
         "0.0029261673",
         "0.0029561974",
         "0.0031047778",
         "0.003389974",
         "0.0026660939",
         "0.0020540585",
         "0.0016907122",
         "0.0014823724",
         "0.0013601223",
         "0.0012862275",
         "0.001240477",
         "0.0012116975",
         "0.0011934544",
         "0.0011819025",
         "0.0011746715",
         "0.0011702657",
         "0.0011677247",
         "0.0011664222",
         "0.0011659473",
         "0.0011660284",
         "0.001166484",
         "0.0011671941",
         "0.0011680778",
         "0.0011690811",
         "0.0011701667",
         "0.001171312",
         "0.0011724988",
         "0.0011737166",
         "0.001174958",
         "0.0011762176",
         "0.0011774923",
         "0.0011787794",
         "0.0011800767",
         "0.0011813841",
         "0.0011827005",
         "0.0011840246",
         "0.0011853571",
         "0.0011866972",
         "0.0011880444",
         "0.0011893997",
         "0.0011907617",
         "0.0011921305",
         "0.001193507",
         "0.0011948907",
         "0.0011962815",
         "0.0011976793",
         "0.0011990839",
         "0.0012004956",
         "0.0012019144",
         "0.0012033402",
         "0.0012047739",
         "0.0012062138",
         "0.0012076612",
         "0.0012091155",
         "0.0012105771",
         "0.0012120457",
         "0.0012135209",
         "0.0012150046",
         "0.0012164941",
         "0.0012179911",
         "0.0012194954",
         "0.0012210067",
         "0.0012225254",
         "0.001224051",
         "0.0012255843",
         "0.0012271238",
         "0.0012286712",
         "0.0016966957",
         "0.0016974302",
         "0.0017844077"
        ],
        [
         "3",
         "0.0600867",
         "0.046290476",
         "0.023447488",
         "0.010198905",
         "0.005064",
         "0.0031305426",
         "0.002318976",
         "0.0019479482",
         "0.0017824977",
         "0.0017333667",
         "0.0017649136",
         "0.001863152",
         "0.0020211802",
         "0.0022284442",
         "0.0024600804",
         "0.0026699316",
         "0.0027971386",
         "0.0027922466",
         "0.002648287",
         "0.0024073229",
         "0.0021336132",
         "0.0018796425",
         "0.0016717238",
         "0.001515101",
         "0.0014047192",
         "0.0013330095",
         "0.0012936008",
         "0.001282596",
         "0.0012988489",
         "0.0013439626",
         "0.0014222036",
         "0.0015400726",
         "0.0017047866",
         "0.0019203109",
         "0.0021795684",
         "0.0024540534",
         "0.0026888552",
         "0.0028165232",
         "0.002792124",
         "0.0026242256",
         "0.0023697806",
         "0.0020973764",
         "0.001854927",
         "0.0016624826",
         "0.001521485",
         "0.0014257535",
         "0.0013681755",
         "0.001343582",
         "0.001349679",
         "0.0013872945",
         "0.00146048",
         "0.0015764503",
         "0.0017447859",
         "0.0019745345",
         "0.0022670405",
         "0.0026033823",
         "0.0029314884",
         "0.0031687685",
         "0.0032356873",
         "0.0031061368",
         "0.002827997",
         "0.0024898108",
         "0.0021686207",
         "0.0019045967",
         "0.0017068079",
         "0.0015690099",
         "0.0014812361",
         "0.0014352207",
         "0.0014261991",
         "0.0014533239",
         "0.0015197883",
         "0.0016329676",
         "0.0018042155",
         "0.0020471055",
         "0.002371584",
         "0.0027709235",
         "0.0032024677",
         "0.0035762158",
         "0.0037773284",
         "0.003729077",
         "0.0034491406",
         "0.0030384616",
         "0.0026128353",
         "0.0022468325",
         "0.0019659628",
         "0.0017664669",
         "0.0016348624",
         "0.0015582817",
         "0.0015281342",
         "0.0015408819",
         "0.0015981224",
         "0.001706766",
         "0.0018792698",
         "0.0021329804",
         "0.0024860702",
         "0.0029456674",
         "0.0034849432",
         "0.0040176497",
         "0.0044006337",
         "0.0044952254",
         "0.004260276",
         "0.0037871415",
         "0.003233501",
         "0.0027273176",
         "0.0023266973",
         "0.0020370206",
         "0.0018415848",
         "0.0017210187",
         "0.0016608837",
         "0.0016534082",
         "0.0016974868",
         "0.0017987032",
         "0.0019697614",
         "0.0022307422",
         "0.0026069824",
         "0.0031196717",
         "0.003762499",
         "0.0044653197",
         "0.0050717876",
         "0.005381525",
         "0.005266695",
         "0.0047708517",
         "0.0040798057",
         "0.0033924559",
         "0.002824626",
         "0.0024051808",
         "0.0021174282",
         "0.0019336876",
         "0.0018309179",
         "0.0017948406",
         "0.0018200243",
         "0.0019095221",
         "0.0020751853",
         "0.0023385063",
         "0.0027302806",
         "0.003284361",
         "0.0040168623",
         "0.0048842453",
         "0.0057373242",
         "0.0063295052",
         "0.0064314906",
         "0.005992471",
         "0.0051874253",
         "0.004288833",
         "0.0035004695",
         "0.002900365",
         "0.002481718",
         "0.0022084082",
         "0.0020456016",
         "0.001969424",
         "0.0019678364",
         "0.002039717",
         "0.002194675",
         "0.0024540336",
         "0.0028518257",
         "0.003431783",
         "0.0042311004",
         "0.005238914",
         "0.0063334056",
         "0.007250149",
         "0.007666455",
         "0.007399795",
         "0.006553861",
         "0.005446898",
         "0.004392438",
         "0.0035540801",
         "0.0029561117",
         "0.002558768",
         "0.0023129769",
         "0.002181568",
         "0.0021429057",
         "0.002189538",
         "0.002327126",
         "0.0025750294",
         "0.002968012",
         "0.0035559312",
         "0.0043929284",
         "0.005501144",
         "0.0068008173",
         "0.008043096",
         "0.008843534",
         "0.008877567",
         "0.0081151975",
         "0.0068579735",
         "0.0055221287",
         "0.0043934425",
         "0.0035620236",
         "0.0029988124",
         "0.0026413263",
         "0.0024356528",
         "0.0023470428",
         "0.0023590561",
         "0.0024713862",
         "0.0026994941",
         "0.0030762977",
         "0.0036536942",
         "0.0044968366",
         "0.0056559956",
         "0.007099355",
         "0.008622658",
         "0.009825834",
         "0.010266013",
         "0.00974084",
         "0.008454312",
         "0.006876188",
         "0.005430606",
         "0.004315824",
         "0.0035410656",
         "0.003038376",
         "0.0027357228",
         "0.0025818057",
         "0.0025482206",
         "0.0026264132",
         "0.0028259568",
         "0.0031754943",
         "0.003725073",
         "0.004544404",
         "0.0057036",
         "0.0072157504",
         "0.00893887",
         "0.010504166",
         "0.011401123",
         "0.011256151",
         "0.010106317",
         "0.008391417",
         "0.0066499766",
         "0.005221807",
         "0.004193361",
         "0.003509974",
         "0.0030849522",
         "0.0028483288",
         "0.0027568548",
         "0.0027913612",
         "0.0029535675",
         "0.0032657115",
         "0.002480118",
         "0.0018390063",
         "0.0014708696",
         "0.0012644257",
         "0.0011449979",
         "0.0010734631",
         "0.0010294431",
         "0.0010018763",
         "0.0009844688",
         "0.0009734909",
         "0.00096665457",
         "0.00096252054",
         "0.000960168",
         "0.00095899665",
         "0.0009586135",
         "0.0009587594",
         "0.00095926103",
         "0.00096000417",
         "0.0009609114",
         "0.0009619323",
         "0.0009630315",
         "0.00096418615",
         "0.00096538133",
         "0.0009666058",
         "0.0009678524",
         "0.00096911634",
         "0.0009703954",
         "0.0009716864",
         "0.0009729878",
         "0.0009742989",
         "0.0009756187",
         "0.0009769469",
         "0.0009782829",
         "0.0009796268",
         "0.0009809787",
         "0.0009823375",
         "0.0009837039",
         "0.0009850775",
         "0.0009864584",
         "0.000987847",
         "0.0009892423",
         "0.0009906456",
         "0.0009920557",
         "0.000993473",
         "0.0009948972",
         "0.000996329",
         "0.0009977686",
         "0.0009992151",
         "0.0010006692",
         "0.0010021304",
         "0.001003599",
         "0.0010050745",
         "0.0010065575",
         "0.0010080488",
         "0.0010095463",
         "0.0010110517",
         "0.0010125643",
         "0.0010140849",
         "0.0010156122",
         "0.001017147",
         "0.0010186896",
         "0.0010202393",
         "0.0010217963",
         "0.0014740481",
         "0.0014822698",
         "0.0015751234"
        ],
        [
         "4",
         "0.07240702",
         "0.05300257",
         "0.025293946",
         "0.010385973",
         "0.004951035",
         "0.0029857089",
         "0.0021807",
         "0.0018180239",
         "0.0016579163",
         "0.0016111754",
         "0.0016427753",
         "0.0017393244",
         "0.0018945409",
         "0.002098592",
         "0.0023273474",
         "0.0025351015",
         "0.0026609758",
         "0.0026554007",
         "0.002511811",
         "0.0022730292",
         "0.0020035363",
         "0.0017551231",
         "0.0015530172",
         "0.001401604",
         "0.0012953902",
         "0.0012266829",
         "0.0011891397",
         "0.0011789303",
         "0.0011949557",
         "0.0012388355",
         "0.0013148406",
         "0.0014295185",
         "0.0015902701",
         "0.0018014811",
         "0.0020567307",
         "0.00232815",
         "0.0025609809",
         "0.0026873257",
         "0.0026619264",
         "0.0024938856",
         "0.0022410667",
         "0.0019722413",
         "0.0017345686",
         "0.0015470624",
         "0.0014104035",
         "0.0013180426",
         "0.0012627622",
         "0.0012394056",
         "0.0012457165",
         "0.0012825488",
         "0.0013539718",
         "0.0014672591",
         "0.0016321826",
         "0.0018582382",
         "0.0021475265",
         "0.0024819397",
         "0.0028096081",
         "0.003046959",
         "0.003112995",
         "0.0029814395",
         "0.0027017938",
         "0.002364277",
         "0.0020460996",
         "0.0017863972",
         "0.0015930561",
         "0.001459071",
         "0.0013741371",
         "0.0013299038",
         "0.0013216204",
         "0.0013484752",
         "0.0014137062",
         "0.0015247758",
         "0.0016932668",
         "0.0019332739",
         "0.0022556703",
         "0.0026548817",
         "0.0030887884",
         "0.0034660809",
         "0.003668825",
         "0.0036180774",
         "0.0033328754",
         "0.002917844",
         "0.0024911803",
         "0.0021272374",
         "0.0018500019",
         "0.0016543267",
         "0.0015259333",
         "0.0014516293",
         "0.0014227431",
         "0.0014357545",
         "0.0014923222",
         "0.0015994816",
         "0.0017699752",
         "0.0020217733",
         "0.0023742095",
         "0.0028360581",
         "0.0033817424",
         "0.003923934",
         "0.0043147616",
         "0.004409787",
         "0.0041667186",
         "0.0036820576",
         "0.0031197718",
         "0.0026102671",
         "0.0022104601",
         "0.0019235379",
         "0.0017311738",
         "0.0016131564",
         "0.0015547206",
         "0.0015480206",
         "0.0015920018",
         "0.0016924015",
         "0.0018622738",
         "0.0021224439",
         "0.0024996786",
         "0.0030174118",
         "0.0036716624",
         "0.0043922514",
         "0.0050172806",
         "0.005336191",
         "0.0052143084",
         "0.0046991184",
         "0.0039874795",
         "0.0032863806",
         "0.0027127624",
         "0.0022927653",
         "0.0020067787",
         "0.0018252934",
         "0.0017243972",
         "0.0016894935",
         "0.0017151167",
         "0.0018044743",
         "0.0019698201",
         "0.0022335108",
         "0.0026280342",
         "0.0031901076",
         "0.003939473",
         "0.004834434",
         "0.0057209344",
         "0.0063383873",
         "0.006442174",
         "0.0059791976",
         "0.005138376",
         "0.004208985",
         "0.0034021013",
         "0.0027940522",
         "0.0023735755",
         "0.0021010463",
         "0.0019396999",
         "0.0018648045",
         "0.0018640556",
         "0.0019364136",
         "0.0020919077",
         "0.002352815",
         "0.0027550762",
         "0.003345826",
         "0.00416718",
         "0.005212526",
         "0.006357617",
         "0.0073225047",
         "0.007760098",
         "0.007473686",
         "0.0065779034",
         "0.005416971",
         "0.0043230476",
         "0.003462885",
         "0.0028555212",
         "0.002455329",
         "0.0022094669",
         "0.0020788722",
         "0.002041144",
         "0.002088705",
         "0.0022275802",
         "0.00247811",
         "0.0028770939",
         "0.0034781662",
         "0.004341433",
         "0.005495732",
         "0.0068626474",
         "0.008179544",
         "0.009031029",
         "0.009063132",
         "0.008245204",
         "0.00690908",
         "0.0055045756",
         "0.0043316274",
         "0.003477216",
         "0.0029040165",
         "0.0025430415",
         "0.0023367133",
         "0.0022485885",
         "0.0022616656",
         "0.0023758125",
         "0.0026074117",
         "0.0029914256",
         "0.0035836715",
         "0.0044559008",
         "0.005667052",
         "0.00719086",
         "0.008814018",
         "0.010103974",
         "0.010574489",
         "0.010003562",
         "0.008619692",
         "0.0069393665",
         "0.0054181134",
         "0.0042589027",
         "0.0034619416",
         "0.0029494697",
         "0.0026431314",
         "0.002488387",
         "0.002455486",
         "0.0025356722",
         "0.002739247",
         "0.00309677",
         "0.0036621192",
         "0.004511746",
         "0.005725599",
         "0.007325968",
         "0.009168249",
         "0.010855153",
         "0.011824652",
         "0.011662245",
         "0.01041226",
         "0.008565422",
         "0.006711058",
         "0.0052087717",
         "0.004139514",
         "0.003436112",
         "0.0030021516",
         "0.0027621405",
         "0.0026702306",
         "0.0027064055",
         "0.002872754",
         "0.0031931582",
         "0.002390088",
         "0.0017437518",
         "0.0013778439",
         "0.0011745738",
         "0.0010576957",
         "0.000987968",
         "0.00094517955",
         "0.00091844215",
         "0.00090159266",
         "0.00089099025",
         "0.00088440726",
         "0.0008804445",
         "0.00087820756",
         "0.00087711395",
         "0.00087678316",
         "0.00087696343",
         "0.00087748753",
         "0.0008782448",
         "0.0008791607",
         "0.00088018586",
         "0.00088128657",
         "0.00088244176",
         "0.0008836346",
         "0.0008848565",
         "0.0008861",
         "0.0008873605",
         "0.00088863535",
         "0.0008899219",
         "0.00089121884",
         "0.0008925257",
         "0.0008938409",
         "0.00089516444",
         "0.00089649594",
         "0.0008978349",
         "0.00089918193",
         "0.0009005366",
         "0.00090189796",
         "0.000903267",
         "0.0009046433",
         "0.00090602733",
         "0.00090741867",
         "0.00090881693",
         "0.00091022253",
         "0.00091163546",
         "0.0009130555",
         "0.00091448333",
         "0.0009159182",
         "0.00091736065",
         "0.00091881055",
         "0.0009202676",
         "0.0009217317",
         "0.00092320394",
         "0.000924683",
         "0.0009261701",
         "0.0009276635",
         "0.0009291652",
         "0.0009306746",
         "0.0009321913",
         "0.00093371497",
         "0.00093524647",
         "0.0009367859",
         "0.0009383319",
         "0.0009398857",
         "0.0013760997",
         "0.0013869201",
         "0.0014822675"
        ]
       ],
       "shape": {
        "columns": 301,
        "rows": 5
       }
      },
      "text/html": [
       "<div>\n",
       "<style scoped>\n",
       "    .dataframe tbody tr th:only-of-type {\n",
       "        vertical-align: middle;\n",
       "    }\n",
       "\n",
       "    .dataframe tbody tr th {\n",
       "        vertical-align: top;\n",
       "    }\n",
       "\n",
       "    .dataframe thead th {\n",
       "        text-align: right;\n",
       "    }\n",
       "</style>\n",
       "<table border=\"1\" class=\"dataframe\">\n",
       "  <thead>\n",
       "    <tr style=\"text-align: right;\">\n",
       "      <th></th>\n",
       "      <th>0</th>\n",
       "      <th>1</th>\n",
       "      <th>2</th>\n",
       "      <th>3</th>\n",
       "      <th>4</th>\n",
       "      <th>5</th>\n",
       "      <th>6</th>\n",
       "      <th>7</th>\n",
       "      <th>8</th>\n",
       "      <th>9</th>\n",
       "      <th>...</th>\n",
       "      <th>291</th>\n",
       "      <th>292</th>\n",
       "      <th>293</th>\n",
       "      <th>294</th>\n",
       "      <th>295</th>\n",
       "      <th>296</th>\n",
       "      <th>297</th>\n",
       "      <th>298</th>\n",
       "      <th>299</th>\n",
       "      <th>300</th>\n",
       "    </tr>\n",
       "  </thead>\n",
       "  <tbody>\n",
       "    <tr>\n",
       "      <th>0</th>\n",
       "      <td>0.015522</td>\n",
       "      <td>0.015025</td>\n",
       "      <td>0.011205</td>\n",
       "      <td>0.007312</td>\n",
       "      <td>0.004961</td>\n",
       "      <td>0.003759</td>\n",
       "      <td>0.003148</td>\n",
       "      <td>0.002833</td>\n",
       "      <td>0.002682</td>\n",
       "      <td>0.002632</td>\n",
       "      <td>...</td>\n",
       "      <td>0.001835</td>\n",
       "      <td>0.001836</td>\n",
       "      <td>0.001838</td>\n",
       "      <td>0.001839</td>\n",
       "      <td>0.001840</td>\n",
       "      <td>0.001841</td>\n",
       "      <td>0.001842</td>\n",
       "      <td>0.002209</td>\n",
       "      <td>0.002152</td>\n",
       "      <td>0.002198</td>\n",
       "    </tr>\n",
       "    <tr>\n",
       "      <th>1</th>\n",
       "      <td>0.021652</td>\n",
       "      <td>0.020184</td>\n",
       "      <td>0.013692</td>\n",
       "      <td>0.008103</td>\n",
       "      <td>0.005092</td>\n",
       "      <td>0.003667</td>\n",
       "      <td>0.002975</td>\n",
       "      <td>0.002630</td>\n",
       "      <td>0.002467</td>\n",
       "      <td>0.002414</td>\n",
       "      <td>...</td>\n",
       "      <td>0.001594</td>\n",
       "      <td>0.001595</td>\n",
       "      <td>0.001597</td>\n",
       "      <td>0.001598</td>\n",
       "      <td>0.001599</td>\n",
       "      <td>0.001601</td>\n",
       "      <td>0.001602</td>\n",
       "      <td>0.002059</td>\n",
       "      <td>0.002051</td>\n",
       "      <td>0.002127</td>\n",
       "    </tr>\n",
       "    <tr>\n",
       "      <th>2</th>\n",
       "      <td>0.040584</td>\n",
       "      <td>0.033960</td>\n",
       "      <td>0.019352</td>\n",
       "      <td>0.009502</td>\n",
       "      <td>0.005168</td>\n",
       "      <td>0.003386</td>\n",
       "      <td>0.002596</td>\n",
       "      <td>0.002223</td>\n",
       "      <td>0.002052</td>\n",
       "      <td>0.002000</td>\n",
       "      <td>...</td>\n",
       "      <td>0.001219</td>\n",
       "      <td>0.001221</td>\n",
       "      <td>0.001223</td>\n",
       "      <td>0.001224</td>\n",
       "      <td>0.001226</td>\n",
       "      <td>0.001227</td>\n",
       "      <td>0.001229</td>\n",
       "      <td>0.001697</td>\n",
       "      <td>0.001697</td>\n",
       "      <td>0.001784</td>\n",
       "    </tr>\n",
       "    <tr>\n",
       "      <th>3</th>\n",
       "      <td>0.060087</td>\n",
       "      <td>0.046290</td>\n",
       "      <td>0.023447</td>\n",
       "      <td>0.010199</td>\n",
       "      <td>0.005064</td>\n",
       "      <td>0.003131</td>\n",
       "      <td>0.002319</td>\n",
       "      <td>0.001948</td>\n",
       "      <td>0.001782</td>\n",
       "      <td>0.001733</td>\n",
       "      <td>...</td>\n",
       "      <td>0.001013</td>\n",
       "      <td>0.001014</td>\n",
       "      <td>0.001016</td>\n",
       "      <td>0.001017</td>\n",
       "      <td>0.001019</td>\n",
       "      <td>0.001020</td>\n",
       "      <td>0.001022</td>\n",
       "      <td>0.001474</td>\n",
       "      <td>0.001482</td>\n",
       "      <td>0.001575</td>\n",
       "    </tr>\n",
       "    <tr>\n",
       "      <th>4</th>\n",
       "      <td>0.072407</td>\n",
       "      <td>0.053003</td>\n",
       "      <td>0.025294</td>\n",
       "      <td>0.010386</td>\n",
       "      <td>0.004951</td>\n",
       "      <td>0.002986</td>\n",
       "      <td>0.002181</td>\n",
       "      <td>0.001818</td>\n",
       "      <td>0.001658</td>\n",
       "      <td>0.001611</td>\n",
       "      <td>...</td>\n",
       "      <td>0.000931</td>\n",
       "      <td>0.000932</td>\n",
       "      <td>0.000934</td>\n",
       "      <td>0.000935</td>\n",
       "      <td>0.000937</td>\n",
       "      <td>0.000938</td>\n",
       "      <td>0.000940</td>\n",
       "      <td>0.001376</td>\n",
       "      <td>0.001387</td>\n",
       "      <td>0.001482</td>\n",
       "    </tr>\n",
       "  </tbody>\n",
       "</table>\n",
       "<p>5 rows × 301 columns</p>\n",
       "</div>"
      ],
      "text/plain": [
       "        0         1         2         3         4         5         6    \\\n",
       "0  0.015522  0.015025  0.011205  0.007312  0.004961  0.003759  0.003148   \n",
       "1  0.021652  0.020184  0.013692  0.008103  0.005092  0.003667  0.002975   \n",
       "2  0.040584  0.033960  0.019352  0.009502  0.005168  0.003386  0.002596   \n",
       "3  0.060087  0.046290  0.023447  0.010199  0.005064  0.003131  0.002319   \n",
       "4  0.072407  0.053003  0.025294  0.010386  0.004951  0.002986  0.002181   \n",
       "\n",
       "        7         8         9    ...       291       292       293       294  \\\n",
       "0  0.002833  0.002682  0.002632  ...  0.001835  0.001836  0.001838  0.001839   \n",
       "1  0.002630  0.002467  0.002414  ...  0.001594  0.001595  0.001597  0.001598   \n",
       "2  0.002223  0.002052  0.002000  ...  0.001219  0.001221  0.001223  0.001224   \n",
       "3  0.001948  0.001782  0.001733  ...  0.001013  0.001014  0.001016  0.001017   \n",
       "4  0.001818  0.001658  0.001611  ...  0.000931  0.000932  0.000934  0.000935   \n",
       "\n",
       "        295       296       297       298       299       300  \n",
       "0  0.001840  0.001841  0.001842  0.002209  0.002152  0.002198  \n",
       "1  0.001599  0.001601  0.001602  0.002059  0.002051  0.002127  \n",
       "2  0.001226  0.001227  0.001229  0.001697  0.001697  0.001784  \n",
       "3  0.001019  0.001020  0.001022  0.001474  0.001482  0.001575  \n",
       "4  0.000937  0.000938  0.000940  0.001376  0.001387  0.001482  \n",
       "\n",
       "[5 rows x 301 columns]"
      ]
     },
     "execution_count": 23,
     "metadata": {},
     "output_type": "execute_result"
    }
   ],
   "source": [
    "att = attn_train.detach().numpy()\n",
    "dataArr = []\n",
    "for sample in range(0, att.shape[0]):\n",
    "    for head in range(0, att.shape[2]):\n",
    "        data = att[sample, :, head, :]\n",
    "        dataArr.append(data[-1, :])  # Can choose -2 or -3 for specific output\n",
    "\n",
    "df = pd.DataFrame(data)\n",
    "df.head()"
   ]
  },
  {
   "cell_type": "code",
   "execution_count": 24,
   "id": "8a2930cc",
   "metadata": {},
   "outputs": [
    {
     "data": {
      "text/plain": [
       "Text(0, 0.5, 'Attention Score')"
      ]
     },
     "execution_count": 24,
     "metadata": {},
     "output_type": "execute_result"
    },
    {
     "data": {
      "image/png": "[encoded data removed]",
      "text/plain": [
       "<Figure size 2000x400 with 1 Axes>"
      ]
     },
     "metadata": {},
     "output_type": "display_data"
    }
   ],
   "source": [
    "import matplotlib.pyplot as plt\n",
    "\n",
    "fig, ax = plt.subplots(figsize=(20, 4))\n",
    "df.mean(axis=0).plot(logy=True, ax=ax)\n",
    "ax.set_title(\"Attention\")\n",
    "ax.set_xlabel(\"Time Step\")\n",
    "ax.set_ylabel(\"Attention Score\")"
   ]
  }
 ],
 "metadata": {
  "kernelspec": {
   "display_name": ".venv",
   "language": "python",
   "name": "python3"
  },
  "language_info": {
   "codemirror_mode": {
    "name": "ipython",
    "version": 3
   },
   "file_extension": ".py",
   "mimetype": "text/x-python",
   "name": "python",
   "nbconvert_exporter": "python",
   "pygments_lexer": "ipython3",
   "version": "3.12.10"
  }
 },
 "nbformat": 4,
 "nbformat_minor": 5
}
