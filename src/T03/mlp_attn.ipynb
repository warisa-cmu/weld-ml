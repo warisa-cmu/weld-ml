{
 "cells": [
  {
   "cell_type": "code",
   "execution_count": 84,
   "id": "2d0cd0ce",
   "metadata": {},
   "outputs": [
    {
     "name": "stdout",
     "output_type": "stream",
     "text": [
      "The autoreload extension is already loaded. To reload it, use:\n",
      "  %reload_ext autoreload\n"
     ]
    }
   ],
   "source": [
    "%load_ext autoreload\n",
    "%autoreload 2\n"
   ]
  },
  {
   "cell_type": "code",
   "execution_count": 85,
   "id": "b5660f71",
   "metadata": {},
   "outputs": [],
   "source": [
    "import copy\n",
    "\n",
    "import matplotlib.pyplot as plt\n",
    "import numpy as np\n",
    "import pandas as pd\n",
    "import torch\n",
    "import torch.nn as nn\n",
    "import torch.optim as optim\n",
    "import tqdm\n",
    "from T01_prototype.S00_utils import loadPickle, plot_res, store_results\n",
    "from sklearn.preprocessing import MinMaxScaler, StandardScaler"
   ]
  },
  {
   "cell_type": "code",
   "execution_count": 86,
   "id": "cb46c495",
   "metadata": {},
   "outputs": [],
   "source": [
    "from T02_fusion_transformer.S02_attn.models import MyModel_Attn as MyModel"
   ]
  },
  {
   "cell_type": "code",
   "execution_count": 87,
   "id": "3a941414",
   "metadata": {},
   "outputs": [
    {
     "data": {
      "application/vnd.microsoft.datawrangler.viewer.v0+json": {
       "columns": [
        {
         "name": "id",
         "rawType": "object",
         "type": "string"
        },
        {
         "name": "m1",
         "rawType": "float64",
         "type": "float"
        },
        {
         "name": "m2",
         "rawType": "float64",
         "type": "float"
        },
        {
         "name": "m3",
         "rawType": "float64",
         "type": "float"
        },
        {
         "name": "s1__autocorrelation__lag_8",
         "rawType": "float64",
         "type": "float"
        },
        {
         "name": "s1__autocorrelation__lag_9",
         "rawType": "float64",
         "type": "float"
        },
        {
         "name": "s1__autocorrelation__lag_7",
         "rawType": "float64",
         "type": "float"
        },
        {
         "name": "s1__autocorrelation__lag_6",
         "rawType": "float64",
         "type": "float"
        },
        {
         "name": "s1__autocorrelation__lag_5",
         "rawType": "float64",
         "type": "float"
        },
        {
         "name": "s1__autocorrelation__lag_4",
         "rawType": "float64",
         "type": "float"
        },
        {
         "name": "s1__longest_strike_above_mean",
         "rawType": "int64",
         "type": "integer"
        },
        {
         "name": "s1__autocorrelation__lag_3",
         "rawType": "float64",
         "type": "float"
        },
        {
         "name": "s1__approximate_entropy__m_2__r_0.7",
         "rawType": "float64",
         "type": "float"
        },
        {
         "name": "s1__longest_strike_below_mean",
         "rawType": "int64",
         "type": "integer"
        },
        {
         "name": "s1__autocorrelation__lag_2",
         "rawType": "float64",
         "type": "float"
        },
        {
         "name": "s1__approximate_entropy__m_2__r_0.9",
         "rawType": "float64",
         "type": "float"
        },
        {
         "name": "s1__permutation_entropy__dimension_3__tau_1",
         "rawType": "float64",
         "type": "float"
        },
        {
         "name": "s1__autocorrelation__lag_1",
         "rawType": "float64",
         "type": "float"
        },
        {
         "name": "s1__partial_autocorrelation__lag_1",
         "rawType": "float64",
         "type": "float"
        },
        {
         "name": "s1__permutation_entropy__dimension_5__tau_1",
         "rawType": "float64",
         "type": "float"
        },
        {
         "name": "s1__permutation_entropy__dimension_4__tau_1",
         "rawType": "float64",
         "type": "float"
        },
        {
         "name": "s1__permutation_entropy__dimension_6__tau_1",
         "rawType": "float64",
         "type": "float"
        },
        {
         "name": "s1__permutation_entropy__dimension_7__tau_1",
         "rawType": "float64",
         "type": "float"
        },
        {
         "name": "s1__cid_ce__normalize_True",
         "rawType": "float64",
         "type": "float"
        },
        {
         "name": "s1__approximate_entropy__m_2__r_0.3",
         "rawType": "float64",
         "type": "float"
        },
        {
         "name": "s1__partial_autocorrelation__lag_8",
         "rawType": "float64",
         "type": "float"
        },
        {
         "name": "s1__partial_autocorrelation__lag_9",
         "rawType": "float64",
         "type": "float"
        },
        {
         "name": "s1__partial_autocorrelation__lag_7",
         "rawType": "float64",
         "type": "float"
        },
        {
         "name": "s1__partial_autocorrelation__lag_6",
         "rawType": "float64",
         "type": "float"
        },
        {
         "name": "s1__number_peaks__n_1",
         "rawType": "int64",
         "type": "integer"
        },
        {
         "name": "s1__number_peaks__n_3",
         "rawType": "int64",
         "type": "integer"
        },
        {
         "name": "s1__number_peaks__n_5",
         "rawType": "int64",
         "type": "integer"
        },
        {
         "name": "s1__number_cwt_peaks__n_1",
         "rawType": "int64",
         "type": "integer"
        },
        {
         "name": "s1__number_peaks__n_10",
         "rawType": "int64",
         "type": "integer"
        },
        {
         "name": "s1__ar_coefficient__coeff_8__k_10",
         "rawType": "float64",
         "type": "float"
        },
        {
         "name": "s1__partial_autocorrelation__lag_5",
         "rawType": "float64",
         "type": "float"
        },
        {
         "name": "s1__number_cwt_peaks__n_5",
         "rawType": "int64",
         "type": "integer"
        },
        {
         "name": "s1__spkt_welch_density__coeff_5",
         "rawType": "float64",
         "type": "float"
        },
        {
         "name": "s1__agg_autocorrelation__f_agg_\"median\"__maxlag_40",
         "rawType": "float64",
         "type": "float"
        },
        {
         "name": "s1__approximate_entropy__m_2__r_0.5",
         "rawType": "float64",
         "type": "float"
        },
        {
         "name": "s1__agg_autocorrelation__f_agg_\"mean\"__maxlag_40",
         "rawType": "float64",
         "type": "float"
        },
        {
         "name": "s1__ar_coefficient__coeff_3__k_10",
         "rawType": "float64",
         "type": "float"
        },
        {
         "name": "s1__approximate_entropy__m_2__r_0.1",
         "rawType": "float64",
         "type": "float"
        },
        {
         "name": "s1__lempel_ziv_complexity__bins_3",
         "rawType": "float64",
         "type": "float"
        },
        {
         "name": "s1__partial_autocorrelation__lag_4",
         "rawType": "float64",
         "type": "float"
        },
        {
         "name": "s1__fft_coefficient__attr_\"abs\"__coeff_7",
         "rawType": "float64",
         "type": "float"
        },
        {
         "name": "s1__agg_autocorrelation__f_agg_\"var\"__maxlag_40",
         "rawType": "float64",
         "type": "float"
        },
        {
         "name": "s1__spkt_welch_density__coeff_2",
         "rawType": "float64",
         "type": "float"
        },
        {
         "name": "y1",
         "rawType": "float64",
         "type": "float"
        },
        {
         "name": "y2",
         "rawType": "float64",
         "type": "float"
        },
        {
         "name": "y3",
         "rawType": "float64",
         "type": "float"
        }
       ],
       "ref": "24064884-857f-41fe-8ba1-6a5b0e1ce968",
       "rows": [
        [
         "E001",
         "150.2237162282709",
         "1176.177277778291",
         "1.142097497096118",
         "-0.3054339202505594",
         "-0.5191912937471133",
         "-0.07482931020721237",
         "0.1598964088207946",
         "0.385790122546617",
         "0.5903865308147479",
         "14",
         "0.7623960064154589",
         "0.2347346166610531",
         "14",
         "0.8923275547414669",
         "0.1627475159081164",
         "1.016163897369947",
         "0.9730124996338729",
         "0.9730124996338729",
         "1.62687847092397",
         "1.323937191565679",
         "1.924233458480636",
         "2.215079757527388",
         "3.966110221397809",
         "0.2054671462622681",
         "-0.226538711723462",
         "-0.2337969396502632",
         "-0.2313599744498629",
         "-0.2496215600475206",
         "11",
         "11",
         "11",
         "12",
         "10",
         "-0.1228645658353847",
         "-0.2871916578780337",
         "12",
         "2.302092584356073e-06",
         "-0.04029898618473704",
         "0.294575630574742",
         "-0.02381745749888618",
         "0.1839963654696146",
         "0.1585670576081162",
         "0.2041522491349481",
         "-0.3600840997659662",
         "0.2936172551085162",
         "0.4994878943759984",
         "5.88681152271281e-08",
         "55.46043367834409",
         "1.065916993455059",
         "114.5786204103125"
        ],
        [
         "E002",
         "102.5342678762004",
         "1483.654981916516",
         "1.104716419796098",
         "-0.2437852899127758",
         "-0.4542619780809531",
         "-0.02100206449903134",
         "0.2028355495861272",
         "0.4164225579112382",
         "0.6089720749981536",
         "14",
         "0.770760087739035",
         "0.222246210142254",
         "14",
         "0.8936165162838874",
         "0.1560670115588841",
         "0.9993568167921798",
         "0.9713377747746932",
         "0.9713377747746935",
         "1.576553073550272",
         "1.289890751104698",
         "1.858735405789931",
         "2.135705047559143",
         "3.6526435059868",
         "0.2110247401319967",
         "-0.2244198468351331",
         "-0.2325474580042485",
         "-0.2280495585317081",
         "-0.2444386143773333",
         "10",
         "9",
         "9",
         "10",
         "9",
         "-0.1251216792908884",
         "-0.278643948183462",
         "11",
         "9.194826079354894e-05",
         "0.005710727812269289",
         "0.295793386116199",
         "0.0174124077277948",
         "0.184369500523606",
         "0.1447418877366329",
         "0.2030075187969925",
         "-0.3443643252966841",
         "6.14237252208545",
         "0.4777432349844861",
         "3.64362055523439e-06",
         "50.64030573896383",
         "1.285665791352698",
         "124.6514837646304"
        ],
        [
         "E003",
         "119.8905490887243",
         "1254.897450653388",
         "2.162773409498691",
         "-0.3290060356266322",
         "-0.5434049971045741",
         "-0.09591338517658776",
         "0.1426122079089866",
         "0.3730020599120391",
         "0.5821514156665052",
         "14",
         "0.7581648639475573",
         "0.2394955454843397",
         "13",
         "0.8910329028051504",
         "0.165112565585219",
         "1.020465652695851",
         "0.9732011747853436",
         "0.9732011747853435",
         "1.646824878831804",
         "1.343150699207861",
         "1.944883653328339",
         "2.236309406751573",
         "3.682674589911052",
         "0.2017099991694988",
         "-0.2299484930997584",
         "-0.2383027291229635",
         "-0.2342132613799649",
         "-0.2523388214511478",
         "9",
         "9",
         "9",
         "10",
         "9",
         "-0.1218498437486562",
         "-0.2902894407037535",
         "11",
         "0.002991810076493899",
         "-0.06252100701744168",
         "0.2953766624528682",
         "-0.03807682374626591",
         "0.1840355025745247",
         "0.1442678316464963",
         "0.2081632653061224",
         "-0.3646107419088709",
         "26.78328344000789",
         "0.5064350830051291",
         "0.0001590028102571489",
         "50.83240472683809",
         "1.154859212683363",
         "57.01805417221681"
        ],
        [
         "E004",
         "162.8307992564844",
         "1302.043195135213",
         "1.30828321525042",
         "-0.0651521463136262",
         "-0.2664976926877177",
         "0.1389126502736655",
         "0.3371865864369897",
         "0.5214009296929024",
         "0.6838731666679987",
         "16",
         "0.8178274013703623",
         "0.1937549744108571",
         "16",
         "0.9176769485378873",
         "0.1370265745426402",
         "0.9726561048364449",
         "0.9792573362550936",
         "0.9792573362550935",
         "1.522951107576066",
         "1.249446870300736",
         "1.792685681282132",
         "2.058077147838571",
         "3.440933521168234",
         "0.2300116952585212",
         "-0.2135504176683748",
         "-0.2150938543416185",
         "-0.2220255651562478",
         "-0.2427030761830581",
         "9",
         "9",
         "9",
         "10",
         "9",
         "-0.1269822026600489",
         "-0.2818301171729558",
         "11",
         "0.03254871106161762",
         "0.167136898506159",
         "0.2838976837493383",
         "0.09874930838143854",
         "0.1872132457419277",
         "0.1373263951521655",
         "0.1936619718309859",
         "-0.3554414001104249",
         "33.22759074069934",
         "0.4605467208889374",
         "0.0007926165201968495",
         "62.47654543460142",
         "1.025160763802677",
         "132.2212175987509"
        ],
        [
         "E005",
         "165.72095638279",
         "1154.482313700376",
         "1.566829730087374",
         "-0.3048808371286578",
         "-0.5181766102806283",
         "-0.07483610968997173",
         "0.1593210142907042",
         "0.3847279896743889",
         "0.5890028422139049",
         "14",
         "0.7609243327125759",
         "0.2381097596952311",
         "14",
         "0.8910483643868621",
         "0.1626447113788911",
         "1.014791878416955",
         "0.9722267728214827",
         "0.9722267728214827",
         "1.62111225074021",
         "1.320327783744526",
         "1.916410952543579",
         "2.205328048547567",
         "3.995534195873079",
         "0.2072160931479998",
         "-0.2306634372538851",
         "-0.2403558289400577",
         "-0.233806167154005",
         "-0.2506967126737985",
         "11",
         "11",
         "11",
         "12",
         "10",
         "-0.1230299291182262",
         "-0.2868315494200753",
         "12",
         "0.005794605001799167",
         "-0.04382424818770635",
         "0.2887581856673982",
         "-0.0222890433765183",
         "0.1839782130968768",
         "0.1285455017839277",
         "0.1924398625429553",
         "-0.3575884147822471",
         "11.4394702754538",
         "0.4979403938074322",
         "0.0001462830650636705",
         "57.63443803240473",
         "1.043776221564284",
         "92.16026864580095"
        ]
       ],
       "shape": {
        "columns": 50,
        "rows": 5
       }
      },
      "text/html": [
       "<div>\n",
       "<style scoped>\n",
       "    .dataframe tbody tr th:only-of-type {\n",
       "        vertical-align: middle;\n",
       "    }\n",
       "\n",
       "    .dataframe tbody tr th {\n",
       "        vertical-align: top;\n",
       "    }\n",
       "\n",
       "    .dataframe thead th {\n",
       "        text-align: right;\n",
       "    }\n",
       "</style>\n",
       "<table border=\"1\" class=\"dataframe\">\n",
       "  <thead>\n",
       "    <tr style=\"text-align: right;\">\n",
       "      <th></th>\n",
       "      <th>m1</th>\n",
       "      <th>m2</th>\n",
       "      <th>m3</th>\n",
       "      <th>s1__autocorrelation__lag_8</th>\n",
       "      <th>s1__autocorrelation__lag_9</th>\n",
       "      <th>s1__autocorrelation__lag_7</th>\n",
       "      <th>s1__autocorrelation__lag_6</th>\n",
       "      <th>s1__autocorrelation__lag_5</th>\n",
       "      <th>s1__autocorrelation__lag_4</th>\n",
       "      <th>s1__longest_strike_above_mean</th>\n",
       "      <th>...</th>\n",
       "      <th>s1__ar_coefficient__coeff_3__k_10</th>\n",
       "      <th>s1__approximate_entropy__m_2__r_0.1</th>\n",
       "      <th>s1__lempel_ziv_complexity__bins_3</th>\n",
       "      <th>s1__partial_autocorrelation__lag_4</th>\n",
       "      <th>s1__fft_coefficient__attr_\"abs\"__coeff_7</th>\n",
       "      <th>s1__agg_autocorrelation__f_agg_\"var\"__maxlag_40</th>\n",
       "      <th>s1__spkt_welch_density__coeff_2</th>\n",
       "      <th>y1</th>\n",
       "      <th>y2</th>\n",
       "      <th>y3</th>\n",
       "    </tr>\n",
       "    <tr>\n",
       "      <th>id</th>\n",
       "      <th></th>\n",
       "      <th></th>\n",
       "      <th></th>\n",
       "      <th></th>\n",
       "      <th></th>\n",
       "      <th></th>\n",
       "      <th></th>\n",
       "      <th></th>\n",
       "      <th></th>\n",
       "      <th></th>\n",
       "      <th></th>\n",
       "      <th></th>\n",
       "      <th></th>\n",
       "      <th></th>\n",
       "      <th></th>\n",
       "      <th></th>\n",
       "      <th></th>\n",
       "      <th></th>\n",
       "      <th></th>\n",
       "      <th></th>\n",
       "      <th></th>\n",
       "    </tr>\n",
       "  </thead>\n",
       "  <tbody>\n",
       "    <tr>\n",
       "      <th>E001</th>\n",
       "      <td>150.223716</td>\n",
       "      <td>1176.177278</td>\n",
       "      <td>1.142097</td>\n",
       "      <td>-0.305434</td>\n",
       "      <td>-0.519191</td>\n",
       "      <td>-0.074829</td>\n",
       "      <td>0.159896</td>\n",
       "      <td>0.385790</td>\n",
       "      <td>0.590387</td>\n",
       "      <td>14</td>\n",
       "      <td>...</td>\n",
       "      <td>0.183996</td>\n",
       "      <td>0.158567</td>\n",
       "      <td>0.204152</td>\n",
       "      <td>-0.360084</td>\n",
       "      <td>0.293617</td>\n",
       "      <td>0.499488</td>\n",
       "      <td>5.886812e-08</td>\n",
       "      <td>55.460434</td>\n",
       "      <td>1.065917</td>\n",
       "      <td>114.578620</td>\n",
       "    </tr>\n",
       "    <tr>\n",
       "      <th>E002</th>\n",
       "      <td>102.534268</td>\n",
       "      <td>1483.654982</td>\n",
       "      <td>1.104716</td>\n",
       "      <td>-0.243785</td>\n",
       "      <td>-0.454262</td>\n",
       "      <td>-0.021002</td>\n",
       "      <td>0.202836</td>\n",
       "      <td>0.416423</td>\n",
       "      <td>0.608972</td>\n",
       "      <td>14</td>\n",
       "      <td>...</td>\n",
       "      <td>0.184370</td>\n",
       "      <td>0.144742</td>\n",
       "      <td>0.203008</td>\n",
       "      <td>-0.344364</td>\n",
       "      <td>6.142373</td>\n",
       "      <td>0.477743</td>\n",
       "      <td>3.643621e-06</td>\n",
       "      <td>50.640306</td>\n",
       "      <td>1.285666</td>\n",
       "      <td>124.651484</td>\n",
       "    </tr>\n",
       "    <tr>\n",
       "      <th>E003</th>\n",
       "      <td>119.890549</td>\n",
       "      <td>1254.897451</td>\n",
       "      <td>2.162773</td>\n",
       "      <td>-0.329006</td>\n",
       "      <td>-0.543405</td>\n",
       "      <td>-0.095913</td>\n",
       "      <td>0.142612</td>\n",
       "      <td>0.373002</td>\n",
       "      <td>0.582151</td>\n",
       "      <td>14</td>\n",
       "      <td>...</td>\n",
       "      <td>0.184036</td>\n",
       "      <td>0.144268</td>\n",
       "      <td>0.208163</td>\n",
       "      <td>-0.364611</td>\n",
       "      <td>26.783283</td>\n",
       "      <td>0.506435</td>\n",
       "      <td>1.590028e-04</td>\n",
       "      <td>50.832405</td>\n",
       "      <td>1.154859</td>\n",
       "      <td>57.018054</td>\n",
       "    </tr>\n",
       "    <tr>\n",
       "      <th>E004</th>\n",
       "      <td>162.830799</td>\n",
       "      <td>1302.043195</td>\n",
       "      <td>1.308283</td>\n",
       "      <td>-0.065152</td>\n",
       "      <td>-0.266498</td>\n",
       "      <td>0.138913</td>\n",
       "      <td>0.337187</td>\n",
       "      <td>0.521401</td>\n",
       "      <td>0.683873</td>\n",
       "      <td>16</td>\n",
       "      <td>...</td>\n",
       "      <td>0.187213</td>\n",
       "      <td>0.137326</td>\n",
       "      <td>0.193662</td>\n",
       "      <td>-0.355441</td>\n",
       "      <td>33.227591</td>\n",
       "      <td>0.460547</td>\n",
       "      <td>7.926165e-04</td>\n",
       "      <td>62.476545</td>\n",
       "      <td>1.025161</td>\n",
       "      <td>132.221218</td>\n",
       "    </tr>\n",
       "    <tr>\n",
       "      <th>E005</th>\n",
       "      <td>165.720956</td>\n",
       "      <td>1154.482314</td>\n",
       "      <td>1.566830</td>\n",
       "      <td>-0.304881</td>\n",
       "      <td>-0.518177</td>\n",
       "      <td>-0.074836</td>\n",
       "      <td>0.159321</td>\n",
       "      <td>0.384728</td>\n",
       "      <td>0.589003</td>\n",
       "      <td>14</td>\n",
       "      <td>...</td>\n",
       "      <td>0.183978</td>\n",
       "      <td>0.128546</td>\n",
       "      <td>0.192440</td>\n",
       "      <td>-0.357588</td>\n",
       "      <td>11.439470</td>\n",
       "      <td>0.497940</td>\n",
       "      <td>1.462831e-04</td>\n",
       "      <td>57.634438</td>\n",
       "      <td>1.043776</td>\n",
       "      <td>92.160269</td>\n",
       "    </tr>\n",
       "  </tbody>\n",
       "</table>\n",
       "<p>5 rows × 50 columns</p>\n",
       "</div>"
      ],
      "text/plain": [
       "              m1           m2        m3  s1__autocorrelation__lag_8  \\\n",
       "id                                                                    \n",
       "E001  150.223716  1176.177278  1.142097                   -0.305434   \n",
       "E002  102.534268  1483.654982  1.104716                   -0.243785   \n",
       "E003  119.890549  1254.897451  2.162773                   -0.329006   \n",
       "E004  162.830799  1302.043195  1.308283                   -0.065152   \n",
       "E005  165.720956  1154.482314  1.566830                   -0.304881   \n",
       "\n",
       "      s1__autocorrelation__lag_9  s1__autocorrelation__lag_7  \\\n",
       "id                                                             \n",
       "E001                   -0.519191                   -0.074829   \n",
       "E002                   -0.454262                   -0.021002   \n",
       "E003                   -0.543405                   -0.095913   \n",
       "E004                   -0.266498                    0.138913   \n",
       "E005                   -0.518177                   -0.074836   \n",
       "\n",
       "      s1__autocorrelation__lag_6  s1__autocorrelation__lag_5  \\\n",
       "id                                                             \n",
       "E001                    0.159896                    0.385790   \n",
       "E002                    0.202836                    0.416423   \n",
       "E003                    0.142612                    0.373002   \n",
       "E004                    0.337187                    0.521401   \n",
       "E005                    0.159321                    0.384728   \n",
       "\n",
       "      s1__autocorrelation__lag_4  s1__longest_strike_above_mean  ...  \\\n",
       "id                                                               ...   \n",
       "E001                    0.590387                             14  ...   \n",
       "E002                    0.608972                             14  ...   \n",
       "E003                    0.582151                             14  ...   \n",
       "E004                    0.683873                             16  ...   \n",
       "E005                    0.589003                             14  ...   \n",
       "\n",
       "      s1__ar_coefficient__coeff_3__k_10  s1__approximate_entropy__m_2__r_0.1  \\\n",
       "id                                                                             \n",
       "E001                           0.183996                             0.158567   \n",
       "E002                           0.184370                             0.144742   \n",
       "E003                           0.184036                             0.144268   \n",
       "E004                           0.187213                             0.137326   \n",
       "E005                           0.183978                             0.128546   \n",
       "\n",
       "      s1__lempel_ziv_complexity__bins_3  s1__partial_autocorrelation__lag_4  \\\n",
       "id                                                                            \n",
       "E001                           0.204152                           -0.360084   \n",
       "E002                           0.203008                           -0.344364   \n",
       "E003                           0.208163                           -0.364611   \n",
       "E004                           0.193662                           -0.355441   \n",
       "E005                           0.192440                           -0.357588   \n",
       "\n",
       "      s1__fft_coefficient__attr_\"abs\"__coeff_7  \\\n",
       "id                                               \n",
       "E001                                  0.293617   \n",
       "E002                                  6.142373   \n",
       "E003                                 26.783283   \n",
       "E004                                 33.227591   \n",
       "E005                                 11.439470   \n",
       "\n",
       "      s1__agg_autocorrelation__f_agg_\"var\"__maxlag_40  \\\n",
       "id                                                      \n",
       "E001                                         0.499488   \n",
       "E002                                         0.477743   \n",
       "E003                                         0.506435   \n",
       "E004                                         0.460547   \n",
       "E005                                         0.497940   \n",
       "\n",
       "      s1__spkt_welch_density__coeff_2         y1        y2          y3  \n",
       "id                                                                      \n",
       "E001                     5.886812e-08  55.460434  1.065917  114.578620  \n",
       "E002                     3.643621e-06  50.640306  1.285666  124.651484  \n",
       "E003                     1.590028e-04  50.832405  1.154859   57.018054  \n",
       "E004                     7.926165e-04  62.476545  1.025161  132.221218  \n",
       "E005                     1.462831e-04  57.634438  1.043776   92.160269  \n",
       "\n",
       "[5 rows x 50 columns]"
      ]
     },
     "execution_count": 87,
     "metadata": {},
     "output_type": "execute_result"
    }
   ],
   "source": [
    "df = pd.read_excel(\"../T01_prototype/output/S21__2025-04-21-052727.xlsx\")\n",
    "df = df.set_index(\"Unnamed: 0\")\n",
    "df.index.names = [\"id\"]\n",
    "df.head()"
   ]
  },
  {
   "cell_type": "code",
   "execution_count": 88,
   "id": "16816717",
   "metadata": {},
   "outputs": [],
   "source": [
    "colsY = [\"y1\", \"y2\", \"y3\"]\n",
    "# colsX = [c for c in df.columns if c not in colsY]\n",
    "colsX = [\"m1\", \"m2\", \"m3\"]\n",
    "\n",
    "dfX = df[colsX]\n",
    "dfY = df[colsY]"
   ]
  },
  {
   "cell_type": "code",
   "execution_count": 89,
   "id": "bf54dec5",
   "metadata": {},
   "outputs": [],
   "source": [
    "dfData = loadPickle(\"../T01_prototype/output/S11__2025-04-21-052441.pickle\")"
   ]
  },
  {
   "cell_type": "code",
   "execution_count": 90,
   "id": "1c4cb3de",
   "metadata": {},
   "outputs": [],
   "source": [
    "dfData\n",
    "tsArr = [t[1] for t in dfData[\"ts\"].values]"
   ]
  },
  {
   "cell_type": "code",
   "execution_count": 91,
   "id": "22f736da",
   "metadata": {},
   "outputs": [
    {
     "name": "stdout",
     "output_type": "stream",
     "text": [
      "298\n"
     ]
    }
   ],
   "source": [
    "# Max length\n",
    "maxTime = 0\n",
    "for ts in tsArr:\n",
    "    maxTime = len(ts) if maxTime < len(ts) else maxTime\n",
    "\n",
    "print(maxTime)"
   ]
  },
  {
   "cell_type": "code",
   "execution_count": 92,
   "id": "6ef870d8",
   "metadata": {},
   "outputs": [
    {
     "data": {
      "text/plain": [
       "[<matplotlib.lines.Line2D at 0x22137a6fb30>]"
      ]
     },
     "execution_count": 92,
     "metadata": {},
     "output_type": "execute_result"
    },
    {
     "data": {
      "image/png": "[encoded data removed]",
      "text/plain": [
       "<Figure size 640x480 with 1 Axes>"
      ]
     },
     "metadata": {},
     "output_type": "display_data"
    }
   ],
   "source": [
    "# Scaling and Padding\n",
    "# TODO: Needs to only calculate mean, std, min, max from training example.\n",
    "\n",
    "SCALING_TYPE = \"Min_Max\"\n",
    "# SCALING_TYPE = \"STANDARDIZATION\"\n",
    "\n",
    "tsArrConcat = np.concatenate(tsArr)\n",
    "if SCALING_TYPE == \"STANDARDIZATION\":\n",
    "    meanVal = np.mean(tsArrConcat)\n",
    "    stdVal = np.std(tsArrConcat)\n",
    "elif SCALING_TYPE == \"Min_Max\":\n",
    "    maxVal = np.max(tsArrConcat)\n",
    "    minVal = np.min(tsArrConcat)\n",
    "\n",
    "# Shape = (Batch, Time, Features)\n",
    "TsData_std = np.zeros((dfData.shape[0], maxTime, 1))\n",
    "for idx, ts in enumerate(tsArr):\n",
    "    if SCALING_TYPE == \"STANDARDIZATION\":\n",
    "        ts_std = (ts - meanVal) / stdVal\n",
    "    elif SCALING_TYPE == \"Min_Max\":\n",
    "        ts_std = (ts - minVal) / (maxVal - minVal)\n",
    "\n",
    "    TsData_std[idx, : len(ts), 0] = ts_std  # Scaling\n",
    "    TsData_std[idx, len(ts) :, 0] = -1  # Padding\n",
    "\n",
    "plt.plot(TsData_std[0, :])"
   ]
  },
  {
   "cell_type": "code",
   "execution_count": 93,
   "id": "c7b3dd62",
   "metadata": {},
   "outputs": [
    {
     "name": "stdout",
     "output_type": "stream",
     "text": [
      "[60 80 90 68 51 27 18 56 63 74  1 61 42 41  4 15 17 40 38  5 91 59  0 34\n",
      " 28 50 11 35 23 52 10 31 66 57 79 85 32 84 14 89 19 29 49 97 98 69 20 94\n",
      " 72 77 25 37 81 46 39 65 58 12 88 70 87 36 21 83  9 96 67 64 47 44]\n",
      "[26 86  2 55 75 93 16 73 54 95 53 92 78 13  7 30 22 24 33  8 43 62  3 71\n",
      " 45 48  6 99 82 76]\n"
     ]
    }
   ],
   "source": [
    "from sklearn.model_selection import ShuffleSplit\n",
    "\n",
    "cv = ShuffleSplit(random_state=0, test_size=0.30)\n",
    "idxs = np.arange(df.shape[0])\n",
    "idxTrain, idxTest = next(cv.split(X=idxs))\n",
    "print(idxTrain)\n",
    "print(idxTest)"
   ]
  },
  {
   "cell_type": "code",
   "execution_count": 94,
   "id": "6110546c",
   "metadata": {},
   "outputs": [],
   "source": [
    "dfX_train = dfX.iloc[idxTrain, :]\n",
    "dfX_test = dfX.iloc[idxTest, :]\n",
    "dfY_train = dfY.iloc[idxTrain, :]\n",
    "dfY_test = dfY.iloc[idxTest, :]\n",
    "Ts_train_std = TsData_std[idxTrain, :]\n",
    "Ts_test_std = TsData_std[idxTest, :]"
   ]
  },
  {
   "cell_type": "code",
   "execution_count": 95,
   "id": "5d0b7279",
   "metadata": {},
   "outputs": [],
   "source": [
    "scX = MinMaxScaler()\n",
    "X_train_std = scX.fit_transform(dfX_train)\n",
    "X_test_std = scX.transform(dfX_test)\n",
    "\n",
    "scY = MinMaxScaler()\n",
    "Y_train_std = scY.fit_transform(dfY_train)\n",
    "Y_test_std = scY.transform(dfY_test)"
   ]
  },
  {
   "cell_type": "code",
   "execution_count": 96,
   "id": "6bb6bfea",
   "metadata": {},
   "outputs": [],
   "source": [
    "# Convert to 2D PyTorch tensors\n",
    "X_train_std = torch.tensor(X_train_std, dtype=torch.float32)\n",
    "Y_train_std = torch.tensor(Y_train_std, dtype=torch.float32)\n",
    "X_test_std = torch.tensor(X_test_std, dtype=torch.float32)\n",
    "Y_test_std = torch.tensor(Y_test_std, dtype=torch.float32)\n",
    "Ts_train_std = torch.tensor(Ts_train_std, dtype=torch.float32)\n",
    "Ts_test_std = torch.tensor(Ts_test_std, dtype=torch.float32)"
   ]
  },
  {
   "cell_type": "code",
   "execution_count": 97,
   "id": "523f3635",
   "metadata": {},
   "outputs": [],
   "source": [
    "tab_num_features = dfX.shape[1]\n",
    "ts_embedding_size = 8\n",
    "ts_num_features = Ts_train_std.shape[-1]\n",
    "lstm_num_layers = 2\n",
    "lstm_dropout = 0.5\n",
    "attn_n_head = 4\n",
    "num_output = Y_test_std.shape[1]\n",
    "\n",
    "# Initialize model\n",
    "model = MyModel(\n",
    "    tab_num_features=tab_num_features,\n",
    "    ts_embedding_size=ts_embedding_size,\n",
    "    ts_num_features=ts_num_features,\n",
    "    lstm_num_layers=lstm_num_layers,\n",
    "    lstm_dropout=lstm_dropout,\n",
    "    attn_n_head=attn_n_head,\n",
    "    num_output=num_output,\n",
    ")"
   ]
  },
  {
   "cell_type": "code",
   "execution_count": 98,
   "id": "dc7c8a63",
   "metadata": {},
   "outputs": [],
   "source": [
    "# loss function and optimizer\n",
    "loss_fn = nn.MSELoss()  # mean square error\n",
    "optimizer = optim.Adam(model.parameters(), lr=0.0001)"
   ]
  },
  {
   "cell_type": "code",
   "execution_count": 99,
   "id": "36246eb7",
   "metadata": {},
   "outputs": [],
   "source": [
    "def get_seeder(batch_size, num_output):\n",
    "    x_seeder = torch.zeros((batch_size, num_output, 1), dtype=torch.float)\n",
    "    for i in range(0, num_output):\n",
    "        x_seeder[:, i, 0] = float(i)/num_output\n",
    "    return x_seeder"
   ]
  },
  {
   "cell_type": "code",
   "execution_count": 100,
   "id": "b3c38ea7",
   "metadata": {},
   "outputs": [
    {
     "name": "stdout",
     "output_type": "stream",
     "text": [
      "MSE: 0.05\n",
      "RMSE: 0.23\n"
     ]
    },
    {
     "data": {
      "image/png": "[encoded data removed]",
      "text/plain": [
       "<Figure size 640x480 with 1 Axes>"
      ]
     },
     "metadata": {},
     "output_type": "display_data"
    }
   ],
   "source": [
    "n_epochs = 200\n",
    "# number of epochs to run\n",
    "batch_size = 5  # size of each batch\n",
    "batch_start = torch.arange(0, len(X_train_std), batch_size)\n",
    "\n",
    "# Hold the best model\n",
    "best_mse = np.inf  # init to infinity\n",
    "best_weights = None\n",
    "history = []\n",
    "\n",
    "for epoch in range(n_epochs):\n",
    "    model.train()\n",
    "    with tqdm.tqdm(batch_start, unit=\"batch\", mininterval=0, disable=True) as bar:\n",
    "        bar.set_description(f\"Epoch {epoch}\")\n",
    "        for start in bar:\n",
    "            # take a batch\n",
    "            x_tab_batch = X_train_std[start : start + batch_size]\n",
    "            x_ts_batch = Ts_train_std[start : start + batch_size]\n",
    "            y_batch = Y_train_std[start : start + batch_size]\n",
    "            \n",
    "            # forward pass\n",
    "            y_pred, _ = model(\n",
    "                x_tab=x_tab_batch,\n",
    "                x_ts=x_ts_batch,\n",
    "                x_future=get_seeder(x_tab_batch.shape[0], num_output),\n",
    "            )\n",
    "            loss = loss_fn(y_pred, y_batch)\n",
    "            # backward pass\n",
    "            optimizer.zero_grad()\n",
    "            loss.backward()\n",
    "            # update weights\n",
    "            optimizer.step()\n",
    "            # print progress\n",
    "            bar.set_postfix(mse=float(loss))\n",
    "    # evaluate accuracy at end of each epoch\n",
    "    model.eval()\n",
    "    y_pred, _ = model(\n",
    "        x_ts=Ts_test_std,\n",
    "        x_tab=X_test_std,\n",
    "        x_future=get_seeder(Ts_test_std.shape[0], num_output),\n",
    "    )\n",
    "    mse = loss_fn(y_pred, Y_test_std)\n",
    "    mse = float(mse)\n",
    "    history.append(mse)\n",
    "    if mse < best_mse:\n",
    "        best_mse = mse\n",
    "        best_weights = copy.deepcopy(model.state_dict())\n",
    "\n",
    "# restore model and return best accuracy\n",
    "model.load_state_dict(best_weights)\n",
    "print(\"MSE: %.2f\" % best_mse)\n",
    "print(\"RMSE: %.2f\" % np.sqrt(best_mse))\n",
    "plt.plot(history)\n",
    "plt.show()"
   ]
  },
  {
   "cell_type": "code",
   "execution_count": 101,
   "id": "c0f05686",
   "metadata": {},
   "outputs": [],
   "source": [
    "model.eval()\n",
    "Y_train_pred, attn_train = model(\n",
    "    x_ts=Ts_train_std,\n",
    "    x_tab=X_train_std,\n",
    "    x_future=get_seeder(Ts_train_std.shape[0], num_output),\n",
    ")\n",
    "Y_test_pred, attn_test = model(\n",
    "    x_ts=Ts_test_std,\n",
    "    x_tab=X_test_std,\n",
    "    x_future=get_seeder(Ts_test_std.shape[0], num_output),\n",
    ")"
   ]
  },
  {
   "cell_type": "code",
   "execution_count": 102,
   "id": "60453032",
   "metadata": {},
   "outputs": [],
   "source": [
    "Y_train_std = Y_train_std.detach().numpy()\n",
    "Y_test_std = Y_test_std.detach().numpy()\n",
    "Y_train_pred = Y_train_pred.detach().numpy()\n",
    "Y_test_pred = Y_test_pred.detach().numpy()"
   ]
  },
  {
   "cell_type": "code",
   "execution_count": 103,
   "id": "df7a80c3",
   "metadata": {},
   "outputs": [
    {
     "data": {
      "application/vnd.microsoft.datawrangler.viewer.v0+json": {
       "columns": [
        {
         "name": "index",
         "rawType": "int64",
         "type": "integer"
        },
        {
         "name": "MSE Train",
         "rawType": "float64",
         "type": "float"
        },
        {
         "name": "MSE Test",
         "rawType": "float64",
         "type": "float"
        },
        {
         "name": "R2 Train",
         "rawType": "float64",
         "type": "float"
        },
        {
         "name": "R2 Test",
         "rawType": "float64",
         "type": "float"
        }
       ],
       "ref": "8dd7af8f-693e-41e3-ad7a-83bc3fe7803d",
       "rows": [
        [
         "0",
         "0.062106113880872726",
         "0.0619221106171608",
         "-0.3858466148376465",
         "-0.15538346767425537"
        ],
        [
         "1",
         "0.04134316369891167",
         "0.04516366496682167",
         "-0.07651758193969727",
         "-0.4608417749404907"
        ],
        [
         "2",
         "0.08380860835313797",
         "0.05491252243518829",
         "-0.4254162311553955",
         "-0.04772317409515381"
        ]
       ],
       "shape": {
        "columns": 4,
        "rows": 3
       }
      },
      "text/html": [
       "<div>\n",
       "<style scoped>\n",
       "    .dataframe tbody tr th:only-of-type {\n",
       "        vertical-align: middle;\n",
       "    }\n",
       "\n",
       "    .dataframe tbody tr th {\n",
       "        vertical-align: top;\n",
       "    }\n",
       "\n",
       "    .dataframe thead th {\n",
       "        text-align: right;\n",
       "    }\n",
       "</style>\n",
       "<table border=\"1\" class=\"dataframe\">\n",
       "  <thead>\n",
       "    <tr style=\"text-align: right;\">\n",
       "      <th></th>\n",
       "      <th>MSE Train</th>\n",
       "      <th>MSE Test</th>\n",
       "      <th>R2 Train</th>\n",
       "      <th>R2 Test</th>\n",
       "    </tr>\n",
       "  </thead>\n",
       "  <tbody>\n",
       "    <tr>\n",
       "      <th>0</th>\n",
       "      <td>0.062106</td>\n",
       "      <td>0.061922</td>\n",
       "      <td>-0.385847</td>\n",
       "      <td>-0.155383</td>\n",
       "    </tr>\n",
       "    <tr>\n",
       "      <th>1</th>\n",
       "      <td>0.041343</td>\n",
       "      <td>0.045164</td>\n",
       "      <td>-0.076518</td>\n",
       "      <td>-0.460842</td>\n",
       "    </tr>\n",
       "    <tr>\n",
       "      <th>2</th>\n",
       "      <td>0.083809</td>\n",
       "      <td>0.054913</td>\n",
       "      <td>-0.425416</td>\n",
       "      <td>-0.047723</td>\n",
       "    </tr>\n",
       "  </tbody>\n",
       "</table>\n",
       "</div>"
      ],
      "text/plain": [
       "   MSE Train  MSE Test  R2 Train   R2 Test\n",
       "0   0.062106  0.061922 -0.385847 -0.155383\n",
       "1   0.041343  0.045164 -0.076518 -0.460842\n",
       "2   0.083809  0.054913 -0.425416 -0.047723"
      ]
     },
     "execution_count": 103,
     "metadata": {},
     "output_type": "execute_result"
    },
    {
     "data": {
      "image/png": "[encoded data removed]",
      "text/plain": [
       "<Figure size 900x300 with 2 Axes>"
      ]
     },
     "metadata": {},
     "output_type": "display_data"
    },
    {
     "data": {
      "image/png": "[encoded data removed]",
      "text/plain": [
       "<Figure size 900x300 with 2 Axes>"
      ]
     },
     "metadata": {},
     "output_type": "display_data"
    },
    {
     "data": {
      "image/png": "[encoded data removed]",
      "text/plain": [
       "<Figure size 900x300 with 2 Axes>"
      ]
     },
     "metadata": {},
     "output_type": "display_data"
    }
   ],
   "source": [
    "resArr = []\n",
    "for i in range(dfY.shape[1]):\n",
    "    y_train = Y_train_std[:, i]\n",
    "    y_test = Y_test_std[:, i]\n",
    "    y_train_pred = Y_train_pred[:, i]\n",
    "    y_test_pred = Y_test_pred[:, i]\n",
    "    plot_res(y_train, y_test, y_train_pred, y_test_pred, xlim=[-0.1, 1.1])\n",
    "    res = store_results(y_train, y_test, y_train_pred, y_test_pred)\n",
    "    resArr.append(res)\n",
    "\n",
    "dfRes = pd.DataFrame.from_dict(resArr)\n",
    "dfRes"
   ]
  },
  {
   "cell_type": "code",
   "execution_count": 104,
   "id": "7a829aab",
   "metadata": {},
   "outputs": [
    {
     "name": "stdout",
     "output_type": "stream",
     "text": [
      "(70, 301, 4, 301)\n"
     ]
    }
   ],
   "source": [
    "att = attn_train.detach().numpy()\n",
    "print(att.shape)"
   ]
  },
  {
   "cell_type": "code",
   "execution_count": 105,
   "id": "263d5b3f",
   "metadata": {},
   "outputs": [
    {
     "data": {
      "application/vnd.microsoft.datawrangler.viewer.v0+json": {
       "columns": [
        {
         "name": "index",
         "rawType": "int64",
         "type": "integer"
        },
        {
         "name": "0",
         "rawType": "float32",
         "type": "float"
        },
        {
         "name": "1",
         "rawType": "float32",
         "type": "float"
        },
        {
         "name": "2",
         "rawType": "float32",
         "type": "float"
        },
        {
         "name": "3",
         "rawType": "float32",
         "type": "float"
        },
        {
         "name": "4",
         "rawType": "float32",
         "type": "float"
        },
        {
         "name": "5",
         "rawType": "float32",
         "type": "float"
        },
        {
         "name": "6",
         "rawType": "float32",
         "type": "float"
        },
        {
         "name": "7",
         "rawType": "float32",
         "type": "float"
        },
        {
         "name": "8",
         "rawType": "float32",
         "type": "float"
        },
        {
         "name": "9",
         "rawType": "float32",
         "type": "float"
        },
        {
         "name": "10",
         "rawType": "float32",
         "type": "float"
        },
        {
         "name": "11",
         "rawType": "float32",
         "type": "float"
        },
        {
         "name": "12",
         "rawType": "float32",
         "type": "float"
        },
        {
         "name": "13",
         "rawType": "float32",
         "type": "float"
        },
        {
         "name": "14",
         "rawType": "float32",
         "type": "float"
        },
        {
         "name": "15",
         "rawType": "float32",
         "type": "float"
        },
        {
         "name": "16",
         "rawType": "float32",
         "type": "float"
        },
        {
         "name": "17",
         "rawType": "float32",
         "type": "float"
        },
        {
         "name": "18",
         "rawType": "float32",
         "type": "float"
        },
        {
         "name": "19",
         "rawType": "float32",
         "type": "float"
        },
        {
         "name": "20",
         "rawType": "float32",
         "type": "float"
        },
        {
         "name": "21",
         "rawType": "float32",
         "type": "float"
        },
        {
         "name": "22",
         "rawType": "float32",
         "type": "float"
        },
        {
         "name": "23",
         "rawType": "float32",
         "type": "float"
        },
        {
         "name": "24",
         "rawType": "float32",
         "type": "float"
        },
        {
         "name": "25",
         "rawType": "float32",
         "type": "float"
        },
        {
         "name": "26",
         "rawType": "float32",
         "type": "float"
        },
        {
         "name": "27",
         "rawType": "float32",
         "type": "float"
        },
        {
         "name": "28",
         "rawType": "float32",
         "type": "float"
        },
        {
         "name": "29",
         "rawType": "float32",
         "type": "float"
        },
        {
         "name": "30",
         "rawType": "float32",
         "type": "float"
        },
        {
         "name": "31",
         "rawType": "float32",
         "type": "float"
        },
        {
         "name": "32",
         "rawType": "float32",
         "type": "float"
        },
        {
         "name": "33",
         "rawType": "float32",
         "type": "float"
        },
        {
         "name": "34",
         "rawType": "float32",
         "type": "float"
        },
        {
         "name": "35",
         "rawType": "float32",
         "type": "float"
        },
        {
         "name": "36",
         "rawType": "float32",
         "type": "float"
        },
        {
         "name": "37",
         "rawType": "float32",
         "type": "float"
        },
        {
         "name": "38",
         "rawType": "float32",
         "type": "float"
        },
        {
         "name": "39",
         "rawType": "float32",
         "type": "float"
        },
        {
         "name": "40",
         "rawType": "float32",
         "type": "float"
        },
        {
         "name": "41",
         "rawType": "float32",
         "type": "float"
        },
        {
         "name": "42",
         "rawType": "float32",
         "type": "float"
        },
        {
         "name": "43",
         "rawType": "float32",
         "type": "float"
        },
        {
         "name": "44",
         "rawType": "float32",
         "type": "float"
        },
        {
         "name": "45",
         "rawType": "float32",
         "type": "float"
        },
        {
         "name": "46",
         "rawType": "float32",
         "type": "float"
        },
        {
         "name": "47",
         "rawType": "float32",
         "type": "float"
        },
        {
         "name": "48",
         "rawType": "float32",
         "type": "float"
        },
        {
         "name": "49",
         "rawType": "float32",
         "type": "float"
        },
        {
         "name": "50",
         "rawType": "float32",
         "type": "float"
        },
        {
         "name": "51",
         "rawType": "float32",
         "type": "float"
        },
        {
         "name": "52",
         "rawType": "float32",
         "type": "float"
        },
        {
         "name": "53",
         "rawType": "float32",
         "type": "float"
        },
        {
         "name": "54",
         "rawType": "float32",
         "type": "float"
        },
        {
         "name": "55",
         "rawType": "float32",
         "type": "float"
        },
        {
         "name": "56",
         "rawType": "float32",
         "type": "float"
        },
        {
         "name": "57",
         "rawType": "float32",
         "type": "float"
        },
        {
         "name": "58",
         "rawType": "float32",
         "type": "float"
        },
        {
         "name": "59",
         "rawType": "float32",
         "type": "float"
        },
        {
         "name": "60",
         "rawType": "float32",
         "type": "float"
        },
        {
         "name": "61",
         "rawType": "float32",
         "type": "float"
        },
        {
         "name": "62",
         "rawType": "float32",
         "type": "float"
        },
        {
         "name": "63",
         "rawType": "float32",
         "type": "float"
        },
        {
         "name": "64",
         "rawType": "float32",
         "type": "float"
        },
        {
         "name": "65",
         "rawType": "float32",
         "type": "float"
        },
        {
         "name": "66",
         "rawType": "float32",
         "type": "float"
        },
        {
         "name": "67",
         "rawType": "float32",
         "type": "float"
        },
        {
         "name": "68",
         "rawType": "float32",
         "type": "float"
        },
        {
         "name": "69",
         "rawType": "float32",
         "type": "float"
        },
        {
         "name": "70",
         "rawType": "float32",
         "type": "float"
        },
        {
         "name": "71",
         "rawType": "float32",
         "type": "float"
        },
        {
         "name": "72",
         "rawType": "float32",
         "type": "float"
        },
        {
         "name": "73",
         "rawType": "float32",
         "type": "float"
        },
        {
         "name": "74",
         "rawType": "float32",
         "type": "float"
        },
        {
         "name": "75",
         "rawType": "float32",
         "type": "float"
        },
        {
         "name": "76",
         "rawType": "float32",
         "type": "float"
        },
        {
         "name": "77",
         "rawType": "float32",
         "type": "float"
        },
        {
         "name": "78",
         "rawType": "float32",
         "type": "float"
        },
        {
         "name": "79",
         "rawType": "float32",
         "type": "float"
        },
        {
         "name": "80",
         "rawType": "float32",
         "type": "float"
        },
        {
         "name": "81",
         "rawType": "float32",
         "type": "float"
        },
        {
         "name": "82",
         "rawType": "float32",
         "type": "float"
        },
        {
         "name": "83",
         "rawType": "float32",
         "type": "float"
        },
        {
         "name": "84",
         "rawType": "float32",
         "type": "float"
        },
        {
         "name": "85",
         "rawType": "float32",
         "type": "float"
        },
        {
         "name": "86",
         "rawType": "float32",
         "type": "float"
        },
        {
         "name": "87",
         "rawType": "float32",
         "type": "float"
        },
        {
         "name": "88",
         "rawType": "float32",
         "type": "float"
        },
        {
         "name": "89",
         "rawType": "float32",
         "type": "float"
        },
        {
         "name": "90",
         "rawType": "float32",
         "type": "float"
        },
        {
         "name": "91",
         "rawType": "float32",
         "type": "float"
        },
        {
         "name": "92",
         "rawType": "float32",
         "type": "float"
        },
        {
         "name": "93",
         "rawType": "float32",
         "type": "float"
        },
        {
         "name": "94",
         "rawType": "float32",
         "type": "float"
        },
        {
         "name": "95",
         "rawType": "float32",
         "type": "float"
        },
        {
         "name": "96",
         "rawType": "float32",
         "type": "float"
        },
        {
         "name": "97",
         "rawType": "float32",
         "type": "float"
        },
        {
         "name": "98",
         "rawType": "float32",
         "type": "float"
        },
        {
         "name": "99",
         "rawType": "float32",
         "type": "float"
        },
        {
         "name": "100",
         "rawType": "float32",
         "type": "float"
        },
        {
         "name": "101",
         "rawType": "float32",
         "type": "float"
        },
        {
         "name": "102",
         "rawType": "float32",
         "type": "float"
        },
        {
         "name": "103",
         "rawType": "float32",
         "type": "float"
        },
        {
         "name": "104",
         "rawType": "float32",
         "type": "float"
        },
        {
         "name": "105",
         "rawType": "float32",
         "type": "float"
        },
        {
         "name": "106",
         "rawType": "float32",
         "type": "float"
        },
        {
         "name": "107",
         "rawType": "float32",
         "type": "float"
        },
        {
         "name": "108",
         "rawType": "float32",
         "type": "float"
        },
        {
         "name": "109",
         "rawType": "float32",
         "type": "float"
        },
        {
         "name": "110",
         "rawType": "float32",
         "type": "float"
        },
        {
         "name": "111",
         "rawType": "float32",
         "type": "float"
        },
        {
         "name": "112",
         "rawType": "float32",
         "type": "float"
        },
        {
         "name": "113",
         "rawType": "float32",
         "type": "float"
        },
        {
         "name": "114",
         "rawType": "float32",
         "type": "float"
        },
        {
         "name": "115",
         "rawType": "float32",
         "type": "float"
        },
        {
         "name": "116",
         "rawType": "float32",
         "type": "float"
        },
        {
         "name": "117",
         "rawType": "float32",
         "type": "float"
        },
        {
         "name": "118",
         "rawType": "float32",
         "type": "float"
        },
        {
         "name": "119",
         "rawType": "float32",
         "type": "float"
        },
        {
         "name": "120",
         "rawType": "float32",
         "type": "float"
        },
        {
         "name": "121",
         "rawType": "float32",
         "type": "float"
        },
        {
         "name": "122",
         "rawType": "float32",
         "type": "float"
        },
        {
         "name": "123",
         "rawType": "float32",
         "type": "float"
        },
        {
         "name": "124",
         "rawType": "float32",
         "type": "float"
        },
        {
         "name": "125",
         "rawType": "float32",
         "type": "float"
        },
        {
         "name": "126",
         "rawType": "float32",
         "type": "float"
        },
        {
         "name": "127",
         "rawType": "float32",
         "type": "float"
        },
        {
         "name": "128",
         "rawType": "float32",
         "type": "float"
        },
        {
         "name": "129",
         "rawType": "float32",
         "type": "float"
        },
        {
         "name": "130",
         "rawType": "float32",
         "type": "float"
        },
        {
         "name": "131",
         "rawType": "float32",
         "type": "float"
        },
        {
         "name": "132",
         "rawType": "float32",
         "type": "float"
        },
        {
         "name": "133",
         "rawType": "float32",
         "type": "float"
        },
        {
         "name": "134",
         "rawType": "float32",
         "type": "float"
        },
        {
         "name": "135",
         "rawType": "float32",
         "type": "float"
        },
        {
         "name": "136",
         "rawType": "float32",
         "type": "float"
        },
        {
         "name": "137",
         "rawType": "float32",
         "type": "float"
        },
        {
         "name": "138",
         "rawType": "float32",
         "type": "float"
        },
        {
         "name": "139",
         "rawType": "float32",
         "type": "float"
        },
        {
         "name": "140",
         "rawType": "float32",
         "type": "float"
        },
        {
         "name": "141",
         "rawType": "float32",
         "type": "float"
        },
        {
         "name": "142",
         "rawType": "float32",
         "type": "float"
        },
        {
         "name": "143",
         "rawType": "float32",
         "type": "float"
        },
        {
         "name": "144",
         "rawType": "float32",
         "type": "float"
        },
        {
         "name": "145",
         "rawType": "float32",
         "type": "float"
        },
        {
         "name": "146",
         "rawType": "float32",
         "type": "float"
        },
        {
         "name": "147",
         "rawType": "float32",
         "type": "float"
        },
        {
         "name": "148",
         "rawType": "float32",
         "type": "float"
        },
        {
         "name": "149",
         "rawType": "float32",
         "type": "float"
        },
        {
         "name": "150",
         "rawType": "float32",
         "type": "float"
        },
        {
         "name": "151",
         "rawType": "float32",
         "type": "float"
        },
        {
         "name": "152",
         "rawType": "float32",
         "type": "float"
        },
        {
         "name": "153",
         "rawType": "float32",
         "type": "float"
        },
        {
         "name": "154",
         "rawType": "float32",
         "type": "float"
        },
        {
         "name": "155",
         "rawType": "float32",
         "type": "float"
        },
        {
         "name": "156",
         "rawType": "float32",
         "type": "float"
        },
        {
         "name": "157",
         "rawType": "float32",
         "type": "float"
        },
        {
         "name": "158",
         "rawType": "float32",
         "type": "float"
        },
        {
         "name": "159",
         "rawType": "float32",
         "type": "float"
        },
        {
         "name": "160",
         "rawType": "float32",
         "type": "float"
        },
        {
         "name": "161",
         "rawType": "float32",
         "type": "float"
        },
        {
         "name": "162",
         "rawType": "float32",
         "type": "float"
        },
        {
         "name": "163",
         "rawType": "float32",
         "type": "float"
        },
        {
         "name": "164",
         "rawType": "float32",
         "type": "float"
        },
        {
         "name": "165",
         "rawType": "float32",
         "type": "float"
        },
        {
         "name": "166",
         "rawType": "float32",
         "type": "float"
        },
        {
         "name": "167",
         "rawType": "float32",
         "type": "float"
        },
        {
         "name": "168",
         "rawType": "float32",
         "type": "float"
        },
        {
         "name": "169",
         "rawType": "float32",
         "type": "float"
        },
        {
         "name": "170",
         "rawType": "float32",
         "type": "float"
        },
        {
         "name": "171",
         "rawType": "float32",
         "type": "float"
        },
        {
         "name": "172",
         "rawType": "float32",
         "type": "float"
        },
        {
         "name": "173",
         "rawType": "float32",
         "type": "float"
        },
        {
         "name": "174",
         "rawType": "float32",
         "type": "float"
        },
        {
         "name": "175",
         "rawType": "float32",
         "type": "float"
        },
        {
         "name": "176",
         "rawType": "float32",
         "type": "float"
        },
        {
         "name": "177",
         "rawType": "float32",
         "type": "float"
        },
        {
         "name": "178",
         "rawType": "float32",
         "type": "float"
        },
        {
         "name": "179",
         "rawType": "float32",
         "type": "float"
        },
        {
         "name": "180",
         "rawType": "float32",
         "type": "float"
        },
        {
         "name": "181",
         "rawType": "float32",
         "type": "float"
        },
        {
         "name": "182",
         "rawType": "float32",
         "type": "float"
        },
        {
         "name": "183",
         "rawType": "float32",
         "type": "float"
        },
        {
         "name": "184",
         "rawType": "float32",
         "type": "float"
        },
        {
         "name": "185",
         "rawType": "float32",
         "type": "float"
        },
        {
         "name": "186",
         "rawType": "float32",
         "type": "float"
        },
        {
         "name": "187",
         "rawType": "float32",
         "type": "float"
        },
        {
         "name": "188",
         "rawType": "float32",
         "type": "float"
        },
        {
         "name": "189",
         "rawType": "float32",
         "type": "float"
        },
        {
         "name": "190",
         "rawType": "float32",
         "type": "float"
        },
        {
         "name": "191",
         "rawType": "float32",
         "type": "float"
        },
        {
         "name": "192",
         "rawType": "float32",
         "type": "float"
        },
        {
         "name": "193",
         "rawType": "float32",
         "type": "float"
        },
        {
         "name": "194",
         "rawType": "float32",
         "type": "float"
        },
        {
         "name": "195",
         "rawType": "float32",
         "type": "float"
        },
        {
         "name": "196",
         "rawType": "float32",
         "type": "float"
        },
        {
         "name": "197",
         "rawType": "float32",
         "type": "float"
        },
        {
         "name": "198",
         "rawType": "float32",
         "type": "float"
        },
        {
         "name": "199",
         "rawType": "float32",
         "type": "float"
        },
        {
         "name": "200",
         "rawType": "float32",
         "type": "float"
        },
        {
         "name": "201",
         "rawType": "float32",
         "type": "float"
        },
        {
         "name": "202",
         "rawType": "float32",
         "type": "float"
        },
        {
         "name": "203",
         "rawType": "float32",
         "type": "float"
        },
        {
         "name": "204",
         "rawType": "float32",
         "type": "float"
        },
        {
         "name": "205",
         "rawType": "float32",
         "type": "float"
        },
        {
         "name": "206",
         "rawType": "float32",
         "type": "float"
        },
        {
         "name": "207",
         "rawType": "float32",
         "type": "float"
        },
        {
         "name": "208",
         "rawType": "float32",
         "type": "float"
        },
        {
         "name": "209",
         "rawType": "float32",
         "type": "float"
        },
        {
         "name": "210",
         "rawType": "float32",
         "type": "float"
        },
        {
         "name": "211",
         "rawType": "float32",
         "type": "float"
        },
        {
         "name": "212",
         "rawType": "float32",
         "type": "float"
        },
        {
         "name": "213",
         "rawType": "float32",
         "type": "float"
        },
        {
         "name": "214",
         "rawType": "float32",
         "type": "float"
        },
        {
         "name": "215",
         "rawType": "float32",
         "type": "float"
        },
        {
         "name": "216",
         "rawType": "float32",
         "type": "float"
        },
        {
         "name": "217",
         "rawType": "float32",
         "type": "float"
        },
        {
         "name": "218",
         "rawType": "float32",
         "type": "float"
        },
        {
         "name": "219",
         "rawType": "float32",
         "type": "float"
        },
        {
         "name": "220",
         "rawType": "float32",
         "type": "float"
        },
        {
         "name": "221",
         "rawType": "float32",
         "type": "float"
        },
        {
         "name": "222",
         "rawType": "float32",
         "type": "float"
        },
        {
         "name": "223",
         "rawType": "float32",
         "type": "float"
        },
        {
         "name": "224",
         "rawType": "float32",
         "type": "float"
        },
        {
         "name": "225",
         "rawType": "float32",
         "type": "float"
        },
        {
         "name": "226",
         "rawType": "float32",
         "type": "float"
        },
        {
         "name": "227",
         "rawType": "float32",
         "type": "float"
        },
        {
         "name": "228",
         "rawType": "float32",
         "type": "float"
        },
        {
         "name": "229",
         "rawType": "float32",
         "type": "float"
        },
        {
         "name": "230",
         "rawType": "float32",
         "type": "float"
        },
        {
         "name": "231",
         "rawType": "float32",
         "type": "float"
        },
        {
         "name": "232",
         "rawType": "float32",
         "type": "float"
        },
        {
         "name": "233",
         "rawType": "float32",
         "type": "float"
        },
        {
         "name": "234",
         "rawType": "float32",
         "type": "float"
        },
        {
         "name": "235",
         "rawType": "float32",
         "type": "float"
        },
        {
         "name": "236",
         "rawType": "float32",
         "type": "float"
        },
        {
         "name": "237",
         "rawType": "float32",
         "type": "float"
        },
        {
         "name": "238",
         "rawType": "float32",
         "type": "float"
        },
        {
         "name": "239",
         "rawType": "float32",
         "type": "float"
        },
        {
         "name": "240",
         "rawType": "float32",
         "type": "float"
        },
        {
         "name": "241",
         "rawType": "float32",
         "type": "float"
        },
        {
         "name": "242",
         "rawType": "float32",
         "type": "float"
        },
        {
         "name": "243",
         "rawType": "float32",
         "type": "float"
        },
        {
         "name": "244",
         "rawType": "float32",
         "type": "float"
        },
        {
         "name": "245",
         "rawType": "float32",
         "type": "float"
        },
        {
         "name": "246",
         "rawType": "float32",
         "type": "float"
        },
        {
         "name": "247",
         "rawType": "float32",
         "type": "float"
        },
        {
         "name": "248",
         "rawType": "float32",
         "type": "float"
        },
        {
         "name": "249",
         "rawType": "float32",
         "type": "float"
        },
        {
         "name": "250",
         "rawType": "float32",
         "type": "float"
        },
        {
         "name": "251",
         "rawType": "float32",
         "type": "float"
        },
        {
         "name": "252",
         "rawType": "float32",
         "type": "float"
        },
        {
         "name": "253",
         "rawType": "float32",
         "type": "float"
        },
        {
         "name": "254",
         "rawType": "float32",
         "type": "float"
        },
        {
         "name": "255",
         "rawType": "float32",
         "type": "float"
        },
        {
         "name": "256",
         "rawType": "float32",
         "type": "float"
        },
        {
         "name": "257",
         "rawType": "float32",
         "type": "float"
        },
        {
         "name": "258",
         "rawType": "float32",
         "type": "float"
        },
        {
         "name": "259",
         "rawType": "float32",
         "type": "float"
        },
        {
         "name": "260",
         "rawType": "float32",
         "type": "float"
        },
        {
         "name": "261",
         "rawType": "float32",
         "type": "float"
        },
        {
         "name": "262",
         "rawType": "float32",
         "type": "float"
        },
        {
         "name": "263",
         "rawType": "float32",
         "type": "float"
        },
        {
         "name": "264",
         "rawType": "float32",
         "type": "float"
        },
        {
         "name": "265",
         "rawType": "float32",
         "type": "float"
        },
        {
         "name": "266",
         "rawType": "float32",
         "type": "float"
        },
        {
         "name": "267",
         "rawType": "float32",
         "type": "float"
        },
        {
         "name": "268",
         "rawType": "float32",
         "type": "float"
        },
        {
         "name": "269",
         "rawType": "float32",
         "type": "float"
        },
        {
         "name": "270",
         "rawType": "float32",
         "type": "float"
        },
        {
         "name": "271",
         "rawType": "float32",
         "type": "float"
        },
        {
         "name": "272",
         "rawType": "float32",
         "type": "float"
        },
        {
         "name": "273",
         "rawType": "float32",
         "type": "float"
        },
        {
         "name": "274",
         "rawType": "float32",
         "type": "float"
        },
        {
         "name": "275",
         "rawType": "float32",
         "type": "float"
        },
        {
         "name": "276",
         "rawType": "float32",
         "type": "float"
        },
        {
         "name": "277",
         "rawType": "float32",
         "type": "float"
        },
        {
         "name": "278",
         "rawType": "float32",
         "type": "float"
        },
        {
         "name": "279",
         "rawType": "float32",
         "type": "float"
        },
        {
         "name": "280",
         "rawType": "float32",
         "type": "float"
        },
        {
         "name": "281",
         "rawType": "float32",
         "type": "float"
        },
        {
         "name": "282",
         "rawType": "float32",
         "type": "float"
        },
        {
         "name": "283",
         "rawType": "float32",
         "type": "float"
        },
        {
         "name": "284",
         "rawType": "float32",
         "type": "float"
        },
        {
         "name": "285",
         "rawType": "float32",
         "type": "float"
        },
        {
         "name": "286",
         "rawType": "float32",
         "type": "float"
        },
        {
         "name": "287",
         "rawType": "float32",
         "type": "float"
        },
        {
         "name": "288",
         "rawType": "float32",
         "type": "float"
        },
        {
         "name": "289",
         "rawType": "float32",
         "type": "float"
        },
        {
         "name": "290",
         "rawType": "float32",
         "type": "float"
        },
        {
         "name": "291",
         "rawType": "float32",
         "type": "float"
        },
        {
         "name": "292",
         "rawType": "float32",
         "type": "float"
        },
        {
         "name": "293",
         "rawType": "float32",
         "type": "float"
        },
        {
         "name": "294",
         "rawType": "float32",
         "type": "float"
        },
        {
         "name": "295",
         "rawType": "float32",
         "type": "float"
        },
        {
         "name": "296",
         "rawType": "float32",
         "type": "float"
        },
        {
         "name": "297",
         "rawType": "float32",
         "type": "float"
        },
        {
         "name": "298",
         "rawType": "float32",
         "type": "float"
        },
        {
         "name": "299",
         "rawType": "float32",
         "type": "float"
        },
        {
         "name": "300",
         "rawType": "float32",
         "type": "float"
        }
       ],
       "ref": "4fb5f99f-2767-4c3f-a9cb-bf8bdf8f6e31",
       "rows": [
        [
         "0",
         "0.008758403",
         "0.0034345621",
         "0.002768017",
         "0.0025607552",
         "0.00246578",
         "0.0024130435",
         "0.002380998",
         "0.0023608103",
         "0.0023479816",
         "0.0023398572",
         "0.0023347328",
         "0.002331452",
         "0.0023291574",
         "0.002327189",
         "0.0023250284",
         "0.0023223115",
         "0.002318878",
         "0.0023148246",
         "0.002310483",
         "0.0023063761",
         "0.002303077",
         "0.002301065",
         "0.0023005954",
         "0.0023016487",
         "0.0023039556",
         "0.0023070846",
         "0.0023105668",
         "0.002313988",
         "0.0023170642",
         "0.0023196412",
         "0.002321666",
         "0.002323131",
         "0.0023240033",
         "0.0023242037",
         "0.002323591",
         "0.0023220326",
         "0.0023194673",
         "0.0023160004",
         "0.0023119475",
         "0.0023078085",
         "0.0023041854",
         "0.00230163",
         "0.0023005207",
         "0.0023009628",
         "0.0023027915",
         "0.002305635",
         "0.002309028",
         "0.002312523",
         "0.0023157806",
         "0.0023185883",
         "0.0023208559",
         "0.002322564",
         "0.0023237006",
         "0.002324207",
         "0.0023239644",
         "0.0023228298",
         "0.0023206975",
         "0.0023175934",
         "0.002313743",
         "0.002309571",
         "0.0023056504",
         "0.0023025742",
         "0.0023008103",
         "0.0023005854",
         "0.0023018506",
         "0.0023043095",
         "0.0023075235",
         "0.0023110262",
         "0.0023144183",
         "0.0023174377",
         "0.002319942",
         "0.0023218931",
         "0.0023232829",
         "0.0023240708",
         "0.0023241704",
         "0.002323439",
         "0.0023217434",
         "0.002319046",
         "0.002315477",
         "0.002311379",
         "0.002307276",
         "0.0023037668",
         "0.0023013907",
         "0.0023004902",
         "0.002301134",
         "0.0023031265",
         "0.0023060704",
         "0.0023095026",
         "0.0023129852",
         "0.0023161892",
         "0.0023189255",
         "0.002321118",
         "0.0023227523",
         "0.0023238081",
         "0.0023242214",
         "0.002323868",
         "0.0023226005",
         "0.0023203325",
         "0.0023171105",
         "0.002313186",
         "0.0023090136",
         "0.0023051733",
         "0.0023022513",
         "0.0023006874",
         "0.0023006743",
         "0.0023021218",
         "0.0023047084",
         "0.002307989",
         "0.002311498",
         "0.0023148532",
         "0.0023178079",
         "0.0023202396",
         "0.0023221155",
         "0.0023234247",
         "0.0023241283",
         "0.0023241239",
         "0.0023232673",
         "0.0023214382",
         "0.0023186104",
         "0.002314945",
         "0.0023108136",
         "0.0023067545",
         "0.002303369",
         "0.002301178",
         "0.002300489",
         "0.0023013325",
         "0.0023034778",
         "0.0023065181",
         "0.0023099785",
         "0.0023134386",
         "0.0023165878",
         "0.002319254",
         "0.0023213716",
         "0.0023229285",
         "0.0023239034",
         "0.0023242214",
         "0.0023237516",
         "0.002322356",
         "0.0023199497",
         "0.0023166134",
         "0.0023126258",
         "0.0023084623",
         "0.002304714",
         "0.002301955",
         "0.0023005954",
         "0.0023007884",
         "0.0023024126",
         "0.002305124",
         "0.0023084602",
         "0.0023119664",
         "0.0023152793",
         "0.0023181671",
         "0.002320525",
         "0.0023223248",
         "0.0023235565",
         "0.0023241716",
         "0.0023240617",
         "0.00232308",
         "0.0023211127",
         "0.0023181594",
         "0.0023144041",
         "0.0023102472",
         "0.0023062453",
         "0.0023029947",
         "0.0023009947",
         "0.0023005162",
         "0.0023015533",
         "0.0023038469",
         "0.00230697",
         "0.0023104555",
         "0.0023138889",
         "0.0023169802",
         "0.0023195725",
         "0.0023216151",
         "0.0023230969",
         "0.0023239865",
         "0.002324207",
         "0.002323621",
         "0.002322089",
         "0.0023195492",
         "0.0023161054",
         "0.0023120623",
         "0.0023079175",
         "0.002304271",
         "0.0023016816",
         "0.0023005307",
         "0.0023009332",
         "0.0023027256",
         "0.002305547",
         "0.0023089324",
         "0.0023124316",
         "0.0023156977",
         "0.0023185185",
         "0.0023208016",
         "0.0023225253",
         "0.0023236773",
         "0.0023242037",
         "0.002323983",
         "0.002322873",
         "0.0023207695",
         "0.0023176908",
         "0.0023138556",
         "0.0023096844",
         "0.0023057482",
         "0.0023026422",
         "0.002300839",
         "0.0023005712",
         "0.0023017991",
         "0.0023042304",
         "0.0023074287",
         "0.0023109282",
         "0.00231433",
         "0.0023173613",
         "0.002319881",
         "0.0023218477",
         "0.002323252",
         "0.0023240584",
         "0.0023241793",
         "0.0023234712",
         "0.0023218044",
         "0.0023191334",
         "0.002315584",
         "0.0023114947",
         "0.0023073826",
         "0.0023038501",
         "0.0023014368",
         "0.0023004934",
         "0.0023010978",
         "0.0023030562",
         "0.0023059824",
         "0.002309408",
         "0.0023128926",
         "0.0023161063",
         "0.002318859",
         "0.002321066",
         "0.002222842",
         "0.0023866314",
         "0.0026173377",
         "0.0028300674",
         "0.0030016196",
         "0.0031309803",
         "0.0032247147",
         "0.0032908984",
         "0.0033368012",
         "0.003368237",
         "0.0033895667",
         "0.0034039365",
         "0.0034135638",
         "0.003419983",
         "0.0034242487",
         "0.0034270736",
         "0.0034289362",
         "0.0034301647",
         "0.00343097",
         "0.0034314953",
         "0.0034318431",
         "0.0034320673",
         "0.0034322138",
         "0.0034323102",
         "0.00343237",
         "0.003432412",
         "0.0034324364",
         "0.0034324552",
         "0.0034324648",
         "0.0034324722",
         "0.0034324774",
         "0.003432479",
         "0.0034324804",
         "0.0034324813",
         "0.003432483",
         "0.003432483",
         "0.0034324836",
         "0.0034324836",
         "0.0034324836",
         "0.0034324836",
         "0.003432483",
         "0.003432483",
         "0.0034324864",
         "0.0034324836",
         "0.0034324836",
         "0.0034324836",
         "0.0034324836",
         "0.0034324836",
         "0.0034324836",
         "0.0034324836",
         "0.0034324836",
         "0.0034324836",
         "0.0034324836",
         "0.0034324836",
         "0.0034324836",
         "0.0034324836",
         "0.0034324836",
         "0.0034324836",
         "0.0034324836",
         "0.0034324836",
         "0.0034324836",
         "0.0034324836",
         "0.0034324836",
         "0.01416631",
         "0.06942274",
         "0.15281945"
        ],
        [
         "1",
         "0.0107865",
         "0.0027766707",
         "0.0020355098",
         "0.0018365874",
         "0.0017604693",
         "0.0017284845",
         "0.0017181135",
         "0.001721044",
         "0.0017332699",
         "0.0017521096",
         "0.0017751661",
         "0.0017999769",
         "0.0018239268",
         "0.0018443849",
         "0.0018589544",
         "0.0018657959",
         "0.0018639392",
         "0.001853495",
         "0.0018356498",
         "0.0018124972",
         "0.0017866618",
         "0.0017608864",
         "0.0017376533",
         "0.0017189418",
         "0.0017061263",
         "0.0016999991",
         "0.0017008383",
         "0.0017084815",
         "0.0017223617",
         "0.0017415114",
         "0.0017645275",
         "0.0017895856",
         "0.0018144757",
         "0.0018367671",
         "0.0018540502",
         "0.0018642797",
         "0.0018661154",
         "0.0018592009",
         "0.0018442724",
         "0.0018230634",
         "0.0017980185",
         "0.0017718722",
         "0.0017472539",
         "0.0017263775",
         "0.0017108792",
         "0.0017017956",
         "0.0016996183",
         "0.0017043643",
         "0.0017156437",
         "0.0017326609",
         "0.0017542054",
         "0.0017786307",
         "0.0018038838",
         "0.001827604",
         "0.0018473337",
         "0.0018608284",
         "0.0018664001",
         "0.0018632425",
         "0.0018516205",
         "0.0018328615",
         "0.0018091479",
         "0.0017831391",
         "0.0017575595",
         "0.0017348278",
         "0.0017168424",
         "0.0017048942",
         "0.0016997008",
         "0.0017014792",
         "0.0017100057",
         "0.0017246652",
         "0.001744426",
         "0.0017678357",
         "0.0017930081",
         "0.001817692",
         "0.0018394429",
         "0.0018558829",
         "0.0018650362",
         "0.0018656874",
         "0.0018576226",
         "0.0018417249",
         "0.0018198463",
         "0.0017944912",
         "0.001768404",
         "0.001744174",
         "0.0017239401",
         "0.0017092621",
         "0.0017010937",
         "0.0016998589",
         "0.0017055203",
         "0.0017176286",
         "0.0017353373",
         "0.001757376",
         "0.0017820424",
         "0.0018072311",
         "0.0018305547",
         "0.0018495653",
         "0.001862071",
         "0.0018664884",
         "0.0018621483",
         "0.0018494631",
         "0.0018298931",
         "0.0018057082",
         "0.0017796031",
         "0.0017542748",
         "0.0017320875",
         "0.0017148551",
         "0.001703789",
         "0.0016995347",
         "0.0017022452",
         "0.0017116453",
         "0.0017270633",
         "0.0017474123",
         "0.0017711787",
         "0.0017964217",
         "0.0018208548",
         "0.0018420217",
         "0.0018575791",
         "0.0018656375",
         "0.0018650994",
         "0.0018559014",
         "0.0018390701",
         "0.0018165663",
         "0.0017909514",
         "0.0017649711",
         "0.0017411676",
         "0.0017216079",
         "0.0017077639",
         "0.0017005188",
         "0.0017002261",
         "0.0017067926",
         "0.0017197167",
         "0.0017380933",
         "0.0017605951",
         "0.0017854635",
         "0.0018105434",
         "0.0018334251",
         "0.0018516761",
         "0.0018631661",
         "0.0018664162",
         "0.0018609002",
         "0.0018471784",
         "0.00182684",
         "0.0018022339",
         "0.0017760806",
         "0.0017510507",
         "0.0017294376",
         "0.0017129803",
         "0.0017028087",
         "0.0016994965",
         "0.0017031343",
         "0.001713396",
         "0.0017295522",
         "0.0017504602",
         "0.0017745491",
         "0.0017998223",
         "0.001823958",
         "0.0018444993",
         "0.0018591406",
         "0.0018660798",
         "0.0018643516",
         "0.0018540396",
         "0.0018363107",
         "0.0018132286",
         "0.0017874049",
         "0.0017615785",
         "0.0017382408",
         "0.0017193789",
         "0.0017063883",
         "0.0017000705",
         "0.0017007207",
         "0.0017081833",
         "0.0017219051",
         "0.0017409251",
         "0.0017638596",
         "0.0017888893",
         "0.0018138157",
         "0.0018362126",
         "0.0018536637",
         "0.0018641072",
         "0.001866183",
         "0.0018595023",
         "0.0018447738",
         "0.0018237076",
         "0.001798731",
         "0.0017725787",
         "0.0017478872",
         "0.0017268854",
         "0.0017112219",
         "0.0017019546",
         "0.0016995849",
         "0.0017041448",
         "0.001715255",
         "0.0017321289",
         "0.001753569",
         "0.0017779414",
         "0.0018032009",
         "0.0018269968",
         "0.0018468677",
         "0.0018605577",
         "0.0018663618",
         "0.0018634452",
         "0.0018520417",
         "0.0018334531",
         "0.0018098389",
         "0.0017838577",
         "0.0017582326",
         "0.0017353944",
         "0.0017172593",
         "0.001705134",
         "0.0016997502",
         "0.0017013372",
         "0.0017096876",
         "0.00172419",
         "0.0017438298",
         "0.0017671624",
         "0.0017923131",
         "0.0018170439",
         "0.0018389088",
         "0.0018555218",
         "0.0018648958",
         "0.0018657879",
         "0.0018579549",
         "0.0018422517",
         "0.001820505",
         "0.0017952084",
         "0.0017691057",
         "0.0017447928",
         "0.0017244276",
         "0.0017095809",
         "0.0017012268",
         "0.0016998006",
         "0.0017052763",
         "0.0017172166",
         "0.001734788",
         "0.0017567292",
         "0.0014597175",
         "0.0013700353",
         "0.0013697629",
         "0.0013959195",
         "0.0014256055",
         "0.0014510484",
         "0.0014704985",
         "0.001484474",
         "0.0014941463",
         "0.0015006817",
         "0.0015050324",
         "0.0015079014",
         "0.0015097808",
         "0.0015110079",
         "0.001511808",
         "0.0015123293",
         "0.001512666",
         "0.0015128853",
         "0.0015130282",
         "0.0015131183",
         "0.0015131789",
         "0.0015132172",
         "0.0015132418",
         "0.0015132576",
         "0.0015132669",
         "0.0015132742",
         "0.0015132779",
         "0.0015132808",
         "0.0015132822",
         "0.0015132836",
         "0.0015132851",
         "0.0015132843",
         "0.0015132843",
         "0.0015132843",
         "0.0015132851",
         "0.0015132843",
         "0.0015132857",
         "0.0015132851",
         "0.0015132851",
         "0.0015132851",
         "0.0015132843",
         "0.0015132843",
         "0.0015132857",
         "0.0015132851",
         "0.0015132851",
         "0.0015132851",
         "0.0015132851",
         "0.0015132851",
         "0.0015132851",
         "0.0015132851",
         "0.0015132851",
         "0.0015132851",
         "0.0015132851",
         "0.0015132851",
         "0.0015132851",
         "0.0015132851",
         "0.0015132851",
         "0.0015132851",
         "0.0015132851",
         "0.0015132851",
         "0.0015132851",
         "0.0015132851",
         "0.0015132851",
         "0.013294266",
         "0.11930749",
         "0.3443349"
        ],
        [
         "2",
         "0.010983184",
         "0.0026120283",
         "0.0018811671",
         "0.0016900925",
         "0.0016195407",
         "0.001591998",
         "0.0015855562",
         "0.0015922872",
         "0.0016084291",
         "0.0016314064",
         "0.0016587995",
         "0.0016879945",
         "0.0017161217",
         "0.0017402283",
         "0.0017575833",
         "0.0017660717",
         "0.0017645633",
         "0.0017531646",
         "0.0017332174",
         "0.0017070951",
         "0.00167778",
         "0.0016483819",
         "0.0016217217",
         "0.0016000568",
         "0.0015849796",
         "0.0015774345",
         "0.0015777955",
         "0.0015859426",
         "0.0016012924",
         "0.0016227937",
         "0.001648886",
         "0.0016775065",
         "0.0017061249",
         "0.0017319383",
         "0.0017521476",
         "0.001764358",
         "0.0017669882",
         "0.0017595883",
         "0.0017429705",
         "0.0017190914",
         "0.0016907197",
         "0.001660954",
         "0.0016327761",
         "0.0016087053",
         "0.0015906207",
         "0.0015797378",
         "0.0015766652",
         "0.0015814878",
         "0.0015938247",
         "0.001612826",
         "0.0016371584",
         "0.0016649711",
         "0.0016939234",
         "0.0017213027",
         "0.0017442633",
         "0.0017601842",
         "0.0017670842",
         "0.0017639954",
         "0.0017511861",
         "0.0017301464",
         "0.0017033449",
         "0.0016737982",
         "0.001644593",
         "0.0016184753",
         "0.0015976154",
         "0.0015835086",
         "0.0015770185",
         "0.0015784487",
         "0.0015876117",
         "0.0016038647",
         "0.0016260872",
         "0.0016526547",
         "0.0016814304",
         "0.0017098371",
         "0.001735053",
         "0.0017543086",
         "0.0017652955",
         "0.0017665694",
         "0.001757849",
         "0.0017401145",
         "0.0017154565",
         "0.001686712",
         "0.001656994",
         "0.0016292376",
         "0.0016058788",
         "0.0015887121",
         "0.0015788589",
         "0.0015768585",
         "0.0015827304",
         "0.0015960265",
         "0.0016158359",
         "0.0016407565",
         "0.0016688707",
         "0.0016977765",
         "0.001724723",
         "0.0017468769",
         "0.0017616745",
         "0.0017672578",
         "0.0017628123",
         "0.0017487787",
         "0.0017268001",
         "0.0016994466",
         "0.0016697702",
         "0.0016408309",
         "0.0016153121",
         "0.0015952907",
         "0.0015821749",
         "0.0015767477",
         "0.0015792437",
         "0.0015894122",
         "0.0016065475",
         "0.0016294636",
         "0.0016564638",
         "0.0016853476",
         "0.0017134928",
         "0.0017380589",
         "0.0017563174",
         "0.0017660541",
         "0.0017659672",
         "0.0017559447",
         "0.0017371326",
         "0.001711746",
         "0.001682689",
         "0.0016530716",
         "0.0016257794",
         "0.0016031688",
         "0.0015869358",
         "0.0015781259",
         "0.0015771966",
         "0.0015841076",
         "0.0015983463",
         "0.0016189392",
         "0.0016444142",
         "0.0016727849",
         "0.0017015913",
         "0.0017280554",
         "0.0017493535",
         "0.001762999",
         "0.0017672468",
         "0.0017614529",
         "0.0017462256",
         "0.0017233569",
         "0.0016955048",
         "0.0016657556",
         "0.0016371333",
         "0.0016122485",
         "0.0015930923",
         "0.0015809835",
         "0.0015766238",
         "0.0015801792",
         "0.0015913406",
         "0.0016093368",
         "0.0016329141",
         "0.0016603086",
         "0.001689253",
         "0.0017170818",
         "0.0017409486",
         "0.0017581701",
         "0.0017666318",
         "0.0017651818",
         "0.0017538787",
         "0.001734029",
         "0.0017079677",
         "0.0016786539",
         "0.0016491924",
         "0.0016224099",
         "0.0016005747",
         "0.0015852978",
         "0.0015775361",
         "0.0015776805",
         "0.0015856191",
         "0.0016007839",
         "0.001622133",
         "0.0016481266",
         "0.0016767092",
         "0.0017053644",
         "0.0017312935",
         "0.0017516913",
         "0.0017641459",
         "0.0017670506",
         "0.0017599206",
         "0.0017435324",
         "0.0017198194",
         "0.0016915293",
         "0.0016617604",
         "0.0016335035",
         "0.0016092939",
         "0.0015910243",
         "0.001579933",
         "0.0015766433",
         "0.0015812542",
         "0.0015933947",
         "0.0016122286",
         "0.0016364366",
         "0.001664182",
         "0.0016931376",
         "0.0017205996",
         "0.0017437169",
         "0.0017598601",
         "0.001767027",
         "0.0017642141",
         "0.0017516555",
         "0.0017308122",
         "0.0017041288",
         "0.0016746172",
         "0.0016453641",
         "0.0016191292",
         "0.0015981017",
         "0.0015837963",
         "0.0015770907",
         "0.0015783034",
         "0.001587262",
         "0.0016033348",
         "0.0016254127",
         "0.0016518866",
         "0.0016806329",
         "0.0017090897",
         "0.0017344301",
         "0.001753882",
         "0.0017651195",
         "0.0017666698",
         "0.0017582154",
         "0.0017407046",
         "0.0017162003",
         "0.0016875269",
         "0.0016577953",
         "0.0016299486",
         "0.0016064448",
         "0.001589088",
         "0.0015790269",
         "0.0015768086",
         "0.0015824678",
         "0.0015955692",
         "0.0016152181",
         "0.0016400228",
         "0.0013197825",
         "0.001199045",
         "0.0011712972",
         "0.0011756088",
         "0.0011887772",
         "0.001202156",
         "0.0012130135",
         "0.0012209835",
         "0.0012265147",
         "0.0012302253",
         "0.0012326634",
         "0.0012342467",
         "0.0012352647",
         "0.0012359186",
         "0.0012363377",
         "0.001236606",
         "0.001236777",
         "0.0012368867",
         "0.001236957",
         "0.0012370013",
         "0.00123703",
         "0.0012370484",
         "0.0012370596",
         "0.0012370673",
         "0.0012370714",
         "0.0012370744",
         "0.001237076",
         "0.0012370773",
         "0.0012370779",
         "0.0012370785",
         "0.0012370796",
         "0.0012370785",
         "0.0012370785",
         "0.0012370785",
         "0.0012370785",
         "0.0012370785",
         "0.001237079",
         "0.0012370785",
         "0.0012370785",
         "0.001237079",
         "0.0012370785",
         "0.0012370785",
         "0.0012370796",
         "0.001237079",
         "0.001237079",
         "0.001237079",
         "0.001237079",
         "0.0012370785",
         "0.0012370785",
         "0.0012370785",
         "0.0012370785",
         "0.0012370785",
         "0.0012370785",
         "0.0012370785",
         "0.0012370785",
         "0.0012370785",
         "0.0012370785",
         "0.0012370785",
         "0.0012370785",
         "0.0012370785",
         "0.0012370785",
         "0.0012370785",
         "0.0012370785",
         "0.012592108",
         "0.12602969",
         "0.38136166"
        ],
        [
         "3",
         "0.011044685",
         "0.0025726552",
         "0.0018442442",
         "0.0016551779",
         "0.0015860904",
         "0.0015597396",
         "0.0015543717",
         "0.0015621603",
         "0.0015794052",
         "0.0016035605",
         "0.0016321997",
         "0.0016626642",
         "0.0016920081",
         "0.0017171812",
         "0.001735352",
         "0.001744321",
         "0.0017429084",
         "0.001731222",
         "0.0017106481",
         "0.0016836475",
         "0.0016533078",
         "0.0016228512",
         "0.0015951943",
         "0.0015726777",
         "0.001556951",
         "0.0015490028",
         "0.001549232",
         "0.0015575293",
         "0.001573307",
         "0.0015954904",
         "0.0016224767",
         "0.001652135",
         "0.0016818437",
         "0.001708689",
         "0.0017297566",
         "0.0017425487",
         "0.0017454085",
         "0.0017378603",
         "0.0017207378",
         "0.0016960662",
         "0.0016667134",
         "0.0016358866",
         "0.0016066711",
         "0.0015816758",
         "0.0015628472",
         "0.0015514498",
         "0.0015481258",
         "0.0015529759",
         "0.001565621",
         "0.0015851997",
         "0.0016103412",
         "0.0016391381",
         "0.0016691709",
         "0.0016976214",
         "0.0017215288",
         "0.0017381628",
         "0.001745451",
         "0.0017423774",
         "0.0017292106",
         "0.0017074934",
         "0.0016797791",
         "0.0016491929",
         "0.001618928",
         "0.0015918268",
         "0.0015701375",
         "0.0015554127",
         "0.0015485539",
         "0.0015498896",
         "0.0015592406",
         "0.0015759575",
         "0.0015988931",
         "0.0016263792",
         "0.001656205",
         "0.0016857007",
         "0.0017119325",
         "0.0017320139",
         "0.0017435385",
         "0.0017449923",
         "0.0017360721",
         "0.0017177889",
         "0.0016923073",
         "0.0016625643",
         "0.0016317825",
         "0.0016029994",
         "0.0015787374",
         "0.0015608541",
         "0.0015505216",
         "0.0015483066",
         "0.0015542434",
         "0.0015678854",
         "0.0015883057",
         "0.0016140627",
         "0.0016431808",
         "0.0016731713",
         "0.0017011804",
         "0.0017242555",
         "0.0017397265",
         "0.001745649",
         "0.0017411673",
         "0.0017267296",
         "0.0017040349",
         "0.0016757447",
         "0.0016450193",
         "0.0016150266",
         "0.0015885405",
         "0.0015677159",
         "0.0015540137",
         "0.001548255",
         "0.0015506939",
         "0.0015610879",
         "0.001578723",
         "0.0016023834",
         "0.0016303243",
         "0.0016602702",
         "0.0016895008",
         "0.0017150625",
         "0.0017341146",
         "0.0017443434",
         "0.0017443842",
         "0.001734113",
         "0.0017147103",
         "0.0016884698",
         "0.0016583989",
         "0.0016277174",
         "0.001599411",
         "0.0015759184",
         "0.0015589992",
         "0.0015497431",
         "0.0015486373",
         "0.0015556507",
         "0.0015702738",
         "0.0015915096",
         "0.0016178483",
         "0.0016472383",
         "0.001677134",
         "0.0017046477",
         "0.0017268399",
         "0.0017411168",
         "0.0017456558",
         "0.001739774",
         "0.001724097",
         "0.0017004757",
         "0.0016716657",
         "0.0016408608",
         "0.0016111914",
         "0.0015853585",
         "0.0015654248",
         "0.001552762",
         "0.0015481065",
         "0.0015516429",
         "0.0015630685",
         "0.001581599",
         "0.001605951",
         "0.0016343071",
         "0.0016643229",
         "0.0016932325",
         "0.0017180749",
         "0.001736053",
         "0.0017449608",
         "0.0017435875",
         "0.0017319858",
         "0.0017115048",
         "0.0016845622",
         "0.0016542209",
         "0.0016236965",
         "0.0015959126",
         "0.0015732185",
         "0.0015572857",
         "0.0015491138",
         "0.0015491175",
         "0.0015571988",
         "0.0015727825",
         "0.0015948088",
         "0.0016216908",
         "0.0016513082",
         "0.001681054",
         "0.0017080179",
         "0.0017292807",
         "0.0017423251",
         "0.0017454693",
         "0.001738201",
         "0.0017213179",
         "0.0016968185",
         "0.0016675512",
         "0.0016367215",
         "0.001607426",
         "0.0015822869",
         "0.0015632684",
         "0.0015516562",
         "0.0015481072",
         "0.0015527374",
         "0.0015651791",
         "0.0015845823",
         "0.0016095942",
         "0.0016383216",
         "0.0016683545",
         "0.0016968898",
         "0.0017209601",
         "0.0017378237",
         "0.0017453885",
         "0.0017426009",
         "0.0017296947",
         "0.0017081816",
         "0.0016805907",
         "0.00165004",
         "0.0016197264",
         "0.0015925055",
         "0.0015706444",
         "0.0015557138",
         "0.001548633",
         "0.0015497431",
         "0.0015588823",
         "0.0015754104",
         "0.0015981965",
         "0.0016255836",
         "0.0016553785",
         "0.0016849228",
         "0.0017112837",
         "0.0017315696",
         "0.0017433523",
         "0.0017450923",
         "0.0017364495",
         "0.0017183984",
         "0.0016930765",
         "0.0016634089",
         "0.0016326131",
         "0.0016037371",
         "0.0015793246",
         "0.0015612472",
         "0.0015506984",
         "0.0015482579",
         "0.001553976",
         "0.0015674153",
         "0.0015876681",
         "0.0016133032",
         "0.00128633",
         "0.0011573919",
         "0.0011227053",
         "0.001121612",
         "0.0011307319",
         "0.0011411675",
         "0.0011499351",
         "0.0011564479",
         "0.0011609758",
         "0.001164004",
         "0.0011659812",
         "0.0011672539",
         "0.0011680651",
         "0.0011685811",
         "0.0011689081",
         "0.0011691167",
         "0.0011692471",
         "0.0011693307",
         "0.0011693836",
         "0.0011694166",
         "0.0011694384",
         "0.0011694517",
         "0.00116946",
         "0.0011694657",
         "0.0011694679",
         "0.0011694707",
         "0.0011694712",
         "0.0011694724",
         "0.0011694729",
         "0.0011694734",
         "0.0011694741",
         "0.0011694734",
         "0.0011694729",
         "0.0011694734",
         "0.0011694734",
         "0.0011694729",
         "0.0011694734",
         "0.0011694734",
         "0.0011694734",
         "0.0011694734",
         "0.0011694729",
         "0.0011694729",
         "0.0011694741",
         "0.0011694734",
         "0.0011694734",
         "0.0011694734",
         "0.0011694734",
         "0.0011694734",
         "0.0011694734",
         "0.0011694734",
         "0.0011694734",
         "0.0011694734",
         "0.0011694734",
         "0.0011694734",
         "0.0011694734",
         "0.0011694734",
         "0.0011694734",
         "0.0011694734",
         "0.0011694734",
         "0.0011694734",
         "0.0011694734",
         "0.0011694734",
         "0.0011694734",
         "0.012382865",
         "0.12743603",
         "0.39020726"
        ],
        [
         "4",
         "0.011070747",
         "0.0025658023",
         "0.0018372838",
         "0.0016485641",
         "0.0015798159",
         "0.0015537849",
         "0.0015487307",
         "0.0015568457",
         "0.0015744464",
         "0.001598991",
         "0.0016280467",
         "0.0016589361",
         "0.0016886882",
         "0.001714219",
         "0.0017326619",
         "0.0017417879",
         "0.001740404",
         "0.0017286132",
         "0.0017078217",
         "0.0016805172",
         "0.0016498254",
         "0.0016190063",
         "0.0015910098",
         "0.0015682034",
         "0.0015522595",
         "0.0015441786",
         "0.0015443686",
         "0.0015527222",
         "0.0015686515",
         "0.001591072",
         "0.0016183672",
         "0.0016483801",
         "0.0016784583",
         "0.0017056537",
         "0.0017270107",
         "0.0017399956",
         "0.0017429295",
         "0.001735325",
         "0.0017180259",
         "0.0016930809",
         "0.0016633893",
         "0.0016321992",
         "0.0016026289",
         "0.0015773192",
         "0.0015582397",
         "0.0015466709",
         "0.0015432667",
         "0.0015481326",
         "0.0015608894",
         "0.0015806688",
         "0.0016060899",
         "0.0016352256",
         "0.0016656258",
         "0.0016944401",
         "0.0017186675",
         "0.0017355392",
         "0.0017429552",
         "0.001739882",
         "0.0017265892",
         "0.0017046358",
         "0.0016766073",
         "0.0016456635",
         "0.001615036",
         "0.0015876002",
         "0.0015656294",
         "0.0015506977",
         "0.0015437185",
         "0.0015450285",
         "0.0015544491",
         "0.0015713292",
         "0.0015945133",
         "0.0016223144",
         "0.0016524992",
         "0.0016823662",
         "0.0017089403",
         "0.0017293006",
         "0.0017410024",
         "0.0017425123",
         "0.0017335203",
         "0.0017150457",
         "0.0016892793",
         "0.0016591931",
         "0.001628046",
         "0.0015989124",
         "0.0015743427",
         "0.0015562186",
         "0.0015457271",
         "0.0015434439",
         "0.00154941",
         "0.0015631753",
         "0.001583809",
         "0.0016098553",
         "0.0016393166",
         "0.0016696767",
         "0.001698045",
         "0.0017214314",
         "0.001737128",
         "0.0017431605",
         "0.001738662",
         "0.0017240823",
         "0.0017011394",
         "0.0016725261",
         "0.0016414409",
         "0.001611087",
         "0.0015842728",
         "0.001563176",
         "0.0015492779",
         "0.0015434101",
         "0.0015458363",
         "0.0015563128",
         "0.0015741228",
         "0.001598042",
         "0.0016263064",
         "0.0016566145",
         "0.001686214",
         "0.0017121132",
         "0.0017314312",
         "0.0017418228",
         "0.0017419026",
         "0.0017315418",
         "0.0017119335",
         "0.0016853979",
         "0.0016549777",
         "0.001623932",
         "0.0015952791",
         "0.0015714867",
         "0.001554337",
         "0.0015449342",
         "0.0015437729",
         "0.0015508287",
         "0.0015655869",
         "0.0015870476",
         "0.0016136842",
         "0.0016434231",
         "0.0016736895",
         "0.0017015578",
         "0.0017240518",
         "0.0017385401",
         "0.0017431721",
         "0.0017372565",
         "0.0017214207",
         "0.0016975398",
         "0.0016684001",
         "0.0016372324",
         "0.0016072054",
         "0.0015810495",
         "0.001560853",
         "0.0015480055",
         "0.001543254",
         "0.0015467912",
         "0.0015583124",
         "0.0015770296",
         "0.0016016503",
         "0.001630337",
         "0.0016607178",
         "0.001689994",
         "0.0017151659",
         "0.0017333981",
         "0.0017424524",
         "0.0017411012",
         "0.001729393",
         "0.0017086924",
         "0.0016814446",
         "0.0016507516",
         "0.0016198618",
         "0.0015917367",
         "0.0015687518",
         "0.0015525991",
         "0.0015442913",
         "0.0015442529",
         "0.0015523889",
         "0.0015681218",
         "0.0015903832",
         "0.0016175709",
         "0.0016475425",
         "0.0016776589",
         "0.001704973",
         "0.0017265265",
         "0.0017397683",
         "0.0017429894",
         "0.0017356684",
         "0.0017186125",
         "0.0016938415",
         "0.0016642374",
         "0.0016330438",
         "0.0016033933",
         "0.001577939",
         "0.001558667",
         "0.0015468812",
         "0.0015432497",
         "0.0015478926",
         "0.0015604428",
         "0.0015800449",
         "0.0016053341",
         "0.0016343985",
         "0.0016648002",
         "0.0016936994",
         "0.0017180914",
         "0.0017351949",
         "0.0017428905",
         "0.0017401068",
         "0.0017270783",
         "0.0017053316",
         "0.0016774277",
         "0.0016465215",
         "0.0016158449",
         "0.001588287",
         "0.0015661431",
         "0.0015510039",
         "0.0015437994",
         "0.0015448813",
         "0.0015540881",
         "0.0015707765",
         "0.0015938086",
         "0.0016215094",
         "0.0016516626",
         "0.0016815786",
         "0.0017082837",
         "0.0017288489",
         "0.0017408131",
         "0.0017426128",
         "0.0017339006",
         "0.0017156623",
         "0.001690057",
         "0.0016600463",
         "0.0016288861",
         "0.0015996597",
         "0.0015749382",
         "0.0015566178",
         "0.0015459069",
         "0.0015433967",
         "0.0015491399",
         "0.0015627013",
         "0.0015831641",
         "0.0016090864",
         "0.0012796051",
         "0.0011480418",
         "0.0011112754",
         "0.0011086143",
         "0.001116579",
         "0.0011261825",
         "0.0011343627",
         "0.0011404658",
         "0.0011447128",
         "0.0011475493",
         "0.0011493969",
         "0.0011505825",
         "0.001151336",
         "0.0011518127",
         "0.0011521147",
         "0.001152306",
         "0.0011524252",
         "0.001152501",
         "0.0011525494",
         "0.0011525791",
         "0.0011525989",
         "0.0011526104",
         "0.0011526181",
         "0.001152623",
         "0.0011526258",
         "0.001152628",
         "0.0011526285",
         "0.0011526296",
         "0.0011526296",
         "0.0011526296",
         "0.0011526307",
         "0.0011526296",
         "0.0011526296",
         "0.0011526296",
         "0.0011526296",
         "0.0011526296",
         "0.0011526302",
         "0.0011526296",
         "0.0011526296",
         "0.0011526302",
         "0.0011526296",
         "0.0011526296",
         "0.0011526307",
         "0.0011526302",
         "0.0011526302",
         "0.0011526302",
         "0.0011526302",
         "0.0011526296",
         "0.0011526296",
         "0.0011526296",
         "0.0011526296",
         "0.0011526296",
         "0.0011526296",
         "0.0011526296",
         "0.0011526296",
         "0.0011526296",
         "0.0011526296",
         "0.0011526296",
         "0.0011526296",
         "0.0011526296",
         "0.0011526296",
         "0.0011526296",
         "0.0011526296",
         "0.012326115",
         "0.1276651",
         "0.39192474"
        ]
       ],
       "shape": {
        "columns": 301,
        "rows": 5
       }
      },
      "text/html": [
       "<div>\n",
       "<style scoped>\n",
       "    .dataframe tbody tr th:only-of-type {\n",
       "        vertical-align: middle;\n",
       "    }\n",
       "\n",
       "    .dataframe tbody tr th {\n",
       "        vertical-align: top;\n",
       "    }\n",
       "\n",
       "    .dataframe thead th {\n",
       "        text-align: right;\n",
       "    }\n",
       "</style>\n",
       "<table border=\"1\" class=\"dataframe\">\n",
       "  <thead>\n",
       "    <tr style=\"text-align: right;\">\n",
       "      <th></th>\n",
       "      <th>0</th>\n",
       "      <th>1</th>\n",
       "      <th>2</th>\n",
       "      <th>3</th>\n",
       "      <th>4</th>\n",
       "      <th>5</th>\n",
       "      <th>6</th>\n",
       "      <th>7</th>\n",
       "      <th>8</th>\n",
       "      <th>9</th>\n",
       "      <th>...</th>\n",
       "      <th>291</th>\n",
       "      <th>292</th>\n",
       "      <th>293</th>\n",
       "      <th>294</th>\n",
       "      <th>295</th>\n",
       "      <th>296</th>\n",
       "      <th>297</th>\n",
       "      <th>298</th>\n",
       "      <th>299</th>\n",
       "      <th>300</th>\n",
       "    </tr>\n",
       "  </thead>\n",
       "  <tbody>\n",
       "    <tr>\n",
       "      <th>0</th>\n",
       "      <td>0.008758</td>\n",
       "      <td>0.003435</td>\n",
       "      <td>0.002768</td>\n",
       "      <td>0.002561</td>\n",
       "      <td>0.002466</td>\n",
       "      <td>0.002413</td>\n",
       "      <td>0.002381</td>\n",
       "      <td>0.002361</td>\n",
       "      <td>0.002348</td>\n",
       "      <td>0.002340</td>\n",
       "      <td>...</td>\n",
       "      <td>0.003432</td>\n",
       "      <td>0.003432</td>\n",
       "      <td>0.003432</td>\n",
       "      <td>0.003432</td>\n",
       "      <td>0.003432</td>\n",
       "      <td>0.003432</td>\n",
       "      <td>0.003432</td>\n",
       "      <td>0.014166</td>\n",
       "      <td>0.069423</td>\n",
       "      <td>0.152819</td>\n",
       "    </tr>\n",
       "    <tr>\n",
       "      <th>1</th>\n",
       "      <td>0.010786</td>\n",
       "      <td>0.002777</td>\n",
       "      <td>0.002036</td>\n",
       "      <td>0.001837</td>\n",
       "      <td>0.001760</td>\n",
       "      <td>0.001728</td>\n",
       "      <td>0.001718</td>\n",
       "      <td>0.001721</td>\n",
       "      <td>0.001733</td>\n",
       "      <td>0.001752</td>\n",
       "      <td>...</td>\n",
       "      <td>0.001513</td>\n",
       "      <td>0.001513</td>\n",
       "      <td>0.001513</td>\n",
       "      <td>0.001513</td>\n",
       "      <td>0.001513</td>\n",
       "      <td>0.001513</td>\n",
       "      <td>0.001513</td>\n",
       "      <td>0.013294</td>\n",
       "      <td>0.119307</td>\n",
       "      <td>0.344335</td>\n",
       "    </tr>\n",
       "    <tr>\n",
       "      <th>2</th>\n",
       "      <td>0.010983</td>\n",
       "      <td>0.002612</td>\n",
       "      <td>0.001881</td>\n",
       "      <td>0.001690</td>\n",
       "      <td>0.001620</td>\n",
       "      <td>0.001592</td>\n",
       "      <td>0.001586</td>\n",
       "      <td>0.001592</td>\n",
       "      <td>0.001608</td>\n",
       "      <td>0.001631</td>\n",
       "      <td>...</td>\n",
       "      <td>0.001237</td>\n",
       "      <td>0.001237</td>\n",
       "      <td>0.001237</td>\n",
       "      <td>0.001237</td>\n",
       "      <td>0.001237</td>\n",
       "      <td>0.001237</td>\n",
       "      <td>0.001237</td>\n",
       "      <td>0.012592</td>\n",
       "      <td>0.126030</td>\n",
       "      <td>0.381362</td>\n",
       "    </tr>\n",
       "    <tr>\n",
       "      <th>3</th>\n",
       "      <td>0.011045</td>\n",
       "      <td>0.002573</td>\n",
       "      <td>0.001844</td>\n",
       "      <td>0.001655</td>\n",
       "      <td>0.001586</td>\n",
       "      <td>0.001560</td>\n",
       "      <td>0.001554</td>\n",
       "      <td>0.001562</td>\n",
       "      <td>0.001579</td>\n",
       "      <td>0.001604</td>\n",
       "      <td>...</td>\n",
       "      <td>0.001169</td>\n",
       "      <td>0.001169</td>\n",
       "      <td>0.001169</td>\n",
       "      <td>0.001169</td>\n",
       "      <td>0.001169</td>\n",
       "      <td>0.001169</td>\n",
       "      <td>0.001169</td>\n",
       "      <td>0.012383</td>\n",
       "      <td>0.127436</td>\n",
       "      <td>0.390207</td>\n",
       "    </tr>\n",
       "    <tr>\n",
       "      <th>4</th>\n",
       "      <td>0.011071</td>\n",
       "      <td>0.002566</td>\n",
       "      <td>0.001837</td>\n",
       "      <td>0.001649</td>\n",
       "      <td>0.001580</td>\n",
       "      <td>0.001554</td>\n",
       "      <td>0.001549</td>\n",
       "      <td>0.001557</td>\n",
       "      <td>0.001574</td>\n",
       "      <td>0.001599</td>\n",
       "      <td>...</td>\n",
       "      <td>0.001153</td>\n",
       "      <td>0.001153</td>\n",
       "      <td>0.001153</td>\n",
       "      <td>0.001153</td>\n",
       "      <td>0.001153</td>\n",
       "      <td>0.001153</td>\n",
       "      <td>0.001153</td>\n",
       "      <td>0.012326</td>\n",
       "      <td>0.127665</td>\n",
       "      <td>0.391925</td>\n",
       "    </tr>\n",
       "  </tbody>\n",
       "</table>\n",
       "<p>5 rows × 301 columns</p>\n",
       "</div>"
      ],
      "text/plain": [
       "        0         1         2         3         4         5         6    \\\n",
       "0  0.008758  0.003435  0.002768  0.002561  0.002466  0.002413  0.002381   \n",
       "1  0.010786  0.002777  0.002036  0.001837  0.001760  0.001728  0.001718   \n",
       "2  0.010983  0.002612  0.001881  0.001690  0.001620  0.001592  0.001586   \n",
       "3  0.011045  0.002573  0.001844  0.001655  0.001586  0.001560  0.001554   \n",
       "4  0.011071  0.002566  0.001837  0.001649  0.001580  0.001554  0.001549   \n",
       "\n",
       "        7         8         9    ...       291       292       293       294  \\\n",
       "0  0.002361  0.002348  0.002340  ...  0.003432  0.003432  0.003432  0.003432   \n",
       "1  0.001721  0.001733  0.001752  ...  0.001513  0.001513  0.001513  0.001513   \n",
       "2  0.001592  0.001608  0.001631  ...  0.001237  0.001237  0.001237  0.001237   \n",
       "3  0.001562  0.001579  0.001604  ...  0.001169  0.001169  0.001169  0.001169   \n",
       "4  0.001557  0.001574  0.001599  ...  0.001153  0.001153  0.001153  0.001153   \n",
       "\n",
       "        295       296       297       298       299       300  \n",
       "0  0.003432  0.003432  0.003432  0.014166  0.069423  0.152819  \n",
       "1  0.001513  0.001513  0.001513  0.013294  0.119307  0.344335  \n",
       "2  0.001237  0.001237  0.001237  0.012592  0.126030  0.381362  \n",
       "3  0.001169  0.001169  0.001169  0.012383  0.127436  0.390207  \n",
       "4  0.001153  0.001153  0.001153  0.012326  0.127665  0.391925  \n",
       "\n",
       "[5 rows x 301 columns]"
      ]
     },
     "execution_count": 105,
     "metadata": {},
     "output_type": "execute_result"
    }
   ],
   "source": [
    "\n",
    "att = attn_train.detach().numpy()\n",
    "dataArr = []\n",
    "for sample in range(0, att.shape[0]):\n",
    "    for head in range(0, att.shape[2]):\n",
    "        data = att[sample, :, head, :] \n",
    "        dataArr.append(data[-1,:]) # Can choose -2 or -3 for specific output\n",
    "\n",
    "df = pd.DataFrame(data)\n",
    "df.head()"
   ]
  },
  {
   "cell_type": "code",
   "execution_count": 106,
   "id": "8a2930cc",
   "metadata": {},
   "outputs": [
    {
     "data": {
      "text/plain": [
       "Text(0, 0.5, 'Attention Score')"
      ]
     },
     "execution_count": 106,
     "metadata": {},
     "output_type": "execute_result"
    },
    {
     "data": {
      "image/png": "[encoded data removed]",
      "text/plain": [
       "<Figure size 2000x400 with 1 Axes>"
      ]
     },
     "metadata": {},
     "output_type": "display_data"
    }
   ],
   "source": [
    "import matplotlib.pyplot as plt\n",
    "fig, ax = plt.subplots(figsize=(20,4))\n",
    "df.mean(axis=0).plot(logy=True, ax=ax)\n",
    "ax.set_title(\"Attention\")\n",
    "ax.set_xlabel(\"Time Step\")\n",
    "ax.set_ylabel(\"Attention Score\")"
   ]
  },
  {
   "cell_type": "code",
   "execution_count": null,
   "id": "08e5b4c4",
   "metadata": {},
   "outputs": [],
   "source": []
  }
 ],
 "metadata": {
  "kernelspec": {
   "display_name": ".venv",
   "language": "python",
   "name": "python3"
  },
  "language_info": {
   "codemirror_mode": {
    "name": "ipython",
    "version": 3
   },
   "file_extension": ".py",
   "mimetype": "text/x-python",
   "name": "python",
   "nbconvert_exporter": "python",
   "pygments_lexer": "ipython3",
   "version": "3.12.10"
  }
 },
 "nbformat": 4,
 "nbformat_minor": 5
}
