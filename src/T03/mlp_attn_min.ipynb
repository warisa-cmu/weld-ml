{
 "cells": [
  {
   "cell_type": "markdown",
   "id": "7bf8d510",
   "metadata": {},
   "source": [
    "# Model without LSTM nor Attention"
   ]
  },
  {
   "cell_type": "code",
   "execution_count": 1,
   "id": "2d0cd0ce",
   "metadata": {},
   "outputs": [],
   "source": [
    "%load_ext autoreload\n",
    "%autoreload 2\n"
   ]
  },
  {
   "cell_type": "code",
   "execution_count": 2,
   "id": "b5660f71",
   "metadata": {},
   "outputs": [],
   "source": [
    "import copy\n",
    "\n",
    "import matplotlib.pyplot as plt\n",
    "import numpy as np\n",
    "import pandas as pd\n",
    "import torch\n",
    "import torch.nn as nn\n",
    "import torch.optim as optim\n",
    "import tqdm\n",
    "from T01_prototype.S00_utils import loadPickle, plot_res, store_results\n",
    "from sklearn.preprocessing import MinMaxScaler, StandardScaler"
   ]
  },
  {
   "cell_type": "code",
   "execution_count": null,
   "id": "cb46c495",
   "metadata": {},
   "outputs": [
    {
     "name": "stdout",
     "output_type": "stream",
     "text": [
      "torch.Size([6, 3])\n",
      "torch.Size([6, 53, 2, 53])\n"
     ]
    }
   ],
   "source": [
    "from T03.models import MyModel_Min as MyModel"
   ]
  },
  {
   "cell_type": "code",
   "execution_count": 4,
   "id": "3a941414",
   "metadata": {},
   "outputs": [
    {
     "data": {
      "application/vnd.microsoft.datawrangler.viewer.v0+json": {
       "columns": [
        {
         "name": "id",
         "rawType": "object",
         "type": "string"
        },
        {
         "name": "m1",
         "rawType": "float64",
         "type": "float"
        },
        {
         "name": "m2",
         "rawType": "float64",
         "type": "float"
        },
        {
         "name": "m3",
         "rawType": "float64",
         "type": "float"
        },
        {
         "name": "s1__autocorrelation__lag_8",
         "rawType": "float64",
         "type": "float"
        },
        {
         "name": "s1__autocorrelation__lag_9",
         "rawType": "float64",
         "type": "float"
        },
        {
         "name": "s1__autocorrelation__lag_7",
         "rawType": "float64",
         "type": "float"
        },
        {
         "name": "s1__autocorrelation__lag_6",
         "rawType": "float64",
         "type": "float"
        },
        {
         "name": "s1__autocorrelation__lag_5",
         "rawType": "float64",
         "type": "float"
        },
        {
         "name": "s1__autocorrelation__lag_4",
         "rawType": "float64",
         "type": "float"
        },
        {
         "name": "s1__longest_strike_above_mean",
         "rawType": "int64",
         "type": "integer"
        },
        {
         "name": "s1__autocorrelation__lag_3",
         "rawType": "float64",
         "type": "float"
        },
        {
         "name": "s1__approximate_entropy__m_2__r_0.7",
         "rawType": "float64",
         "type": "float"
        },
        {
         "name": "s1__longest_strike_below_mean",
         "rawType": "int64",
         "type": "integer"
        },
        {
         "name": "s1__autocorrelation__lag_2",
         "rawType": "float64",
         "type": "float"
        },
        {
         "name": "s1__approximate_entropy__m_2__r_0.9",
         "rawType": "float64",
         "type": "float"
        },
        {
         "name": "s1__permutation_entropy__dimension_3__tau_1",
         "rawType": "float64",
         "type": "float"
        },
        {
         "name": "s1__autocorrelation__lag_1",
         "rawType": "float64",
         "type": "float"
        },
        {
         "name": "s1__partial_autocorrelation__lag_1",
         "rawType": "float64",
         "type": "float"
        },
        {
         "name": "s1__permutation_entropy__dimension_5__tau_1",
         "rawType": "float64",
         "type": "float"
        },
        {
         "name": "s1__permutation_entropy__dimension_4__tau_1",
         "rawType": "float64",
         "type": "float"
        },
        {
         "name": "s1__permutation_entropy__dimension_6__tau_1",
         "rawType": "float64",
         "type": "float"
        },
        {
         "name": "s1__permutation_entropy__dimension_7__tau_1",
         "rawType": "float64",
         "type": "float"
        },
        {
         "name": "s1__cid_ce__normalize_True",
         "rawType": "float64",
         "type": "float"
        },
        {
         "name": "s1__approximate_entropy__m_2__r_0.3",
         "rawType": "float64",
         "type": "float"
        },
        {
         "name": "s1__partial_autocorrelation__lag_8",
         "rawType": "float64",
         "type": "float"
        },
        {
         "name": "s1__partial_autocorrelation__lag_9",
         "rawType": "float64",
         "type": "float"
        },
        {
         "name": "s1__partial_autocorrelation__lag_7",
         "rawType": "float64",
         "type": "float"
        },
        {
         "name": "s1__partial_autocorrelation__lag_6",
         "rawType": "float64",
         "type": "float"
        },
        {
         "name": "s1__number_peaks__n_1",
         "rawType": "int64",
         "type": "integer"
        },
        {
         "name": "s1__number_peaks__n_3",
         "rawType": "int64",
         "type": "integer"
        },
        {
         "name": "s1__number_peaks__n_5",
         "rawType": "int64",
         "type": "integer"
        },
        {
         "name": "s1__number_cwt_peaks__n_1",
         "rawType": "int64",
         "type": "integer"
        },
        {
         "name": "s1__number_peaks__n_10",
         "rawType": "int64",
         "type": "integer"
        },
        {
         "name": "s1__ar_coefficient__coeff_8__k_10",
         "rawType": "float64",
         "type": "float"
        },
        {
         "name": "s1__partial_autocorrelation__lag_5",
         "rawType": "float64",
         "type": "float"
        },
        {
         "name": "s1__number_cwt_peaks__n_5",
         "rawType": "int64",
         "type": "integer"
        },
        {
         "name": "s1__spkt_welch_density__coeff_5",
         "rawType": "float64",
         "type": "float"
        },
        {
         "name": "s1__agg_autocorrelation__f_agg_\"median\"__maxlag_40",
         "rawType": "float64",
         "type": "float"
        },
        {
         "name": "s1__approximate_entropy__m_2__r_0.5",
         "rawType": "float64",
         "type": "float"
        },
        {
         "name": "s1__agg_autocorrelation__f_agg_\"mean\"__maxlag_40",
         "rawType": "float64",
         "type": "float"
        },
        {
         "name": "s1__ar_coefficient__coeff_3__k_10",
         "rawType": "float64",
         "type": "float"
        },
        {
         "name": "s1__approximate_entropy__m_2__r_0.1",
         "rawType": "float64",
         "type": "float"
        },
        {
         "name": "s1__lempel_ziv_complexity__bins_3",
         "rawType": "float64",
         "type": "float"
        },
        {
         "name": "s1__partial_autocorrelation__lag_4",
         "rawType": "float64",
         "type": "float"
        },
        {
         "name": "s1__fft_coefficient__attr_\"abs\"__coeff_7",
         "rawType": "float64",
         "type": "float"
        },
        {
         "name": "s1__agg_autocorrelation__f_agg_\"var\"__maxlag_40",
         "rawType": "float64",
         "type": "float"
        },
        {
         "name": "s1__spkt_welch_density__coeff_2",
         "rawType": "float64",
         "type": "float"
        },
        {
         "name": "y1",
         "rawType": "float64",
         "type": "float"
        },
        {
         "name": "y2",
         "rawType": "float64",
         "type": "float"
        },
        {
         "name": "y3",
         "rawType": "float64",
         "type": "float"
        }
       ],
       "ref": "4888e216-8fe9-47fd-9033-c7d0cf6dc015",
       "rows": [
        [
         "E001",
         "150.2237162282709",
         "1176.177277778291",
         "1.142097497096118",
         "-0.3054339202505594",
         "-0.5191912937471133",
         "-0.07482931020721237",
         "0.1598964088207946",
         "0.385790122546617",
         "0.5903865308147479",
         "14",
         "0.7623960064154589",
         "0.2347346166610531",
         "14",
         "0.8923275547414669",
         "0.1627475159081164",
         "1.016163897369947",
         "0.9730124996338729",
         "0.9730124996338729",
         "1.62687847092397",
         "1.323937191565679",
         "1.924233458480636",
         "2.215079757527388",
         "3.966110221397809",
         "0.2054671462622681",
         "-0.226538711723462",
         "-0.2337969396502632",
         "-0.2313599744498629",
         "-0.2496215600475206",
         "11",
         "11",
         "11",
         "12",
         "10",
         "-0.1228645658353847",
         "-0.2871916578780337",
         "12",
         "2.302092584356073e-06",
         "-0.04029898618473704",
         "0.294575630574742",
         "-0.02381745749888618",
         "0.1839963654696146",
         "0.1585670576081162",
         "0.2041522491349481",
         "-0.3600840997659662",
         "0.2936172551085162",
         "0.4994878943759984",
         "5.88681152271281e-08",
         "55.46043367834409",
         "1.065916993455059",
         "114.5786204103125"
        ],
        [
         "E002",
         "102.5342678762004",
         "1483.654981916516",
         "1.104716419796098",
         "-0.2437852899127758",
         "-0.4542619780809531",
         "-0.02100206449903134",
         "0.2028355495861272",
         "0.4164225579112382",
         "0.6089720749981536",
         "14",
         "0.770760087739035",
         "0.222246210142254",
         "14",
         "0.8936165162838874",
         "0.1560670115588841",
         "0.9993568167921798",
         "0.9713377747746932",
         "0.9713377747746935",
         "1.576553073550272",
         "1.289890751104698",
         "1.858735405789931",
         "2.135705047559143",
         "3.6526435059868",
         "0.2110247401319967",
         "-0.2244198468351331",
         "-0.2325474580042485",
         "-0.2280495585317081",
         "-0.2444386143773333",
         "10",
         "9",
         "9",
         "10",
         "9",
         "-0.1251216792908884",
         "-0.278643948183462",
         "11",
         "9.194826079354894e-05",
         "0.005710727812269289",
         "0.295793386116199",
         "0.0174124077277948",
         "0.184369500523606",
         "0.1447418877366329",
         "0.2030075187969925",
         "-0.3443643252966841",
         "6.14237252208545",
         "0.4777432349844861",
         "3.64362055523439e-06",
         "50.64030573896383",
         "1.285665791352698",
         "124.6514837646304"
        ],
        [
         "E003",
         "119.8905490887243",
         "1254.897450653388",
         "2.162773409498691",
         "-0.3290060356266322",
         "-0.5434049971045741",
         "-0.09591338517658776",
         "0.1426122079089866",
         "0.3730020599120391",
         "0.5821514156665052",
         "14",
         "0.7581648639475573",
         "0.2394955454843397",
         "13",
         "0.8910329028051504",
         "0.165112565585219",
         "1.020465652695851",
         "0.9732011747853436",
         "0.9732011747853435",
         "1.646824878831804",
         "1.343150699207861",
         "1.944883653328339",
         "2.236309406751573",
         "3.682674589911052",
         "0.2017099991694988",
         "-0.2299484930997584",
         "-0.2383027291229635",
         "-0.2342132613799649",
         "-0.2523388214511478",
         "9",
         "9",
         "9",
         "10",
         "9",
         "-0.1218498437486562",
         "-0.2902894407037535",
         "11",
         "0.002991810076493899",
         "-0.06252100701744168",
         "0.2953766624528682",
         "-0.03807682374626591",
         "0.1840355025745247",
         "0.1442678316464963",
         "0.2081632653061224",
         "-0.3646107419088709",
         "26.78328344000789",
         "0.5064350830051291",
         "0.0001590028102571489",
         "50.83240472683809",
         "1.154859212683363",
         "57.01805417221681"
        ],
        [
         "E004",
         "162.8307992564844",
         "1302.043195135213",
         "1.30828321525042",
         "-0.0651521463136262",
         "-0.2664976926877177",
         "0.1389126502736655",
         "0.3371865864369897",
         "0.5214009296929024",
         "0.6838731666679987",
         "16",
         "0.8178274013703623",
         "0.1937549744108571",
         "16",
         "0.9176769485378873",
         "0.1370265745426402",
         "0.9726561048364449",
         "0.9792573362550936",
         "0.9792573362550935",
         "1.522951107576066",
         "1.249446870300736",
         "1.792685681282132",
         "2.058077147838571",
         "3.440933521168234",
         "0.2300116952585212",
         "-0.2135504176683748",
         "-0.2150938543416185",
         "-0.2220255651562478",
         "-0.2427030761830581",
         "9",
         "9",
         "9",
         "10",
         "9",
         "-0.1269822026600489",
         "-0.2818301171729558",
         "11",
         "0.03254871106161762",
         "0.167136898506159",
         "0.2838976837493383",
         "0.09874930838143854",
         "0.1872132457419277",
         "0.1373263951521655",
         "0.1936619718309859",
         "-0.3554414001104249",
         "33.22759074069934",
         "0.4605467208889374",
         "0.0007926165201968495",
         "62.47654543460142",
         "1.025160763802677",
         "132.2212175987509"
        ],
        [
         "E005",
         "165.72095638279",
         "1154.482313700376",
         "1.566829730087374",
         "-0.3048808371286578",
         "-0.5181766102806283",
         "-0.07483610968997173",
         "0.1593210142907042",
         "0.3847279896743889",
         "0.5890028422139049",
         "14",
         "0.7609243327125759",
         "0.2381097596952311",
         "14",
         "0.8910483643868621",
         "0.1626447113788911",
         "1.014791878416955",
         "0.9722267728214827",
         "0.9722267728214827",
         "1.62111225074021",
         "1.320327783744526",
         "1.916410952543579",
         "2.205328048547567",
         "3.995534195873079",
         "0.2072160931479998",
         "-0.2306634372538851",
         "-0.2403558289400577",
         "-0.233806167154005",
         "-0.2506967126737985",
         "11",
         "11",
         "11",
         "12",
         "10",
         "-0.1230299291182262",
         "-0.2868315494200753",
         "12",
         "0.005794605001799167",
         "-0.04382424818770635",
         "0.2887581856673982",
         "-0.0222890433765183",
         "0.1839782130968768",
         "0.1285455017839277",
         "0.1924398625429553",
         "-0.3575884147822471",
         "11.4394702754538",
         "0.4979403938074322",
         "0.0001462830650636705",
         "57.63443803240473",
         "1.043776221564284",
         "92.16026864580095"
        ]
       ],
       "shape": {
        "columns": 50,
        "rows": 5
       }
      },
      "text/html": [
       "<div>\n",
       "<style scoped>\n",
       "    .dataframe tbody tr th:only-of-type {\n",
       "        vertical-align: middle;\n",
       "    }\n",
       "\n",
       "    .dataframe tbody tr th {\n",
       "        vertical-align: top;\n",
       "    }\n",
       "\n",
       "    .dataframe thead th {\n",
       "        text-align: right;\n",
       "    }\n",
       "</style>\n",
       "<table border=\"1\" class=\"dataframe\">\n",
       "  <thead>\n",
       "    <tr style=\"text-align: right;\">\n",
       "      <th></th>\n",
       "      <th>m1</th>\n",
       "      <th>m2</th>\n",
       "      <th>m3</th>\n",
       "      <th>s1__autocorrelation__lag_8</th>\n",
       "      <th>s1__autocorrelation__lag_9</th>\n",
       "      <th>s1__autocorrelation__lag_7</th>\n",
       "      <th>s1__autocorrelation__lag_6</th>\n",
       "      <th>s1__autocorrelation__lag_5</th>\n",
       "      <th>s1__autocorrelation__lag_4</th>\n",
       "      <th>s1__longest_strike_above_mean</th>\n",
       "      <th>...</th>\n",
       "      <th>s1__ar_coefficient__coeff_3__k_10</th>\n",
       "      <th>s1__approximate_entropy__m_2__r_0.1</th>\n",
       "      <th>s1__lempel_ziv_complexity__bins_3</th>\n",
       "      <th>s1__partial_autocorrelation__lag_4</th>\n",
       "      <th>s1__fft_coefficient__attr_\"abs\"__coeff_7</th>\n",
       "      <th>s1__agg_autocorrelation__f_agg_\"var\"__maxlag_40</th>\n",
       "      <th>s1__spkt_welch_density__coeff_2</th>\n",
       "      <th>y1</th>\n",
       "      <th>y2</th>\n",
       "      <th>y3</th>\n",
       "    </tr>\n",
       "    <tr>\n",
       "      <th>id</th>\n",
       "      <th></th>\n",
       "      <th></th>\n",
       "      <th></th>\n",
       "      <th></th>\n",
       "      <th></th>\n",
       "      <th></th>\n",
       "      <th></th>\n",
       "      <th></th>\n",
       "      <th></th>\n",
       "      <th></th>\n",
       "      <th></th>\n",
       "      <th></th>\n",
       "      <th></th>\n",
       "      <th></th>\n",
       "      <th></th>\n",
       "      <th></th>\n",
       "      <th></th>\n",
       "      <th></th>\n",
       "      <th></th>\n",
       "      <th></th>\n",
       "      <th></th>\n",
       "    </tr>\n",
       "  </thead>\n",
       "  <tbody>\n",
       "    <tr>\n",
       "      <th>E001</th>\n",
       "      <td>150.223716</td>\n",
       "      <td>1176.177278</td>\n",
       "      <td>1.142097</td>\n",
       "      <td>-0.305434</td>\n",
       "      <td>-0.519191</td>\n",
       "      <td>-0.074829</td>\n",
       "      <td>0.159896</td>\n",
       "      <td>0.385790</td>\n",
       "      <td>0.590387</td>\n",
       "      <td>14</td>\n",
       "      <td>...</td>\n",
       "      <td>0.183996</td>\n",
       "      <td>0.158567</td>\n",
       "      <td>0.204152</td>\n",
       "      <td>-0.360084</td>\n",
       "      <td>0.293617</td>\n",
       "      <td>0.499488</td>\n",
       "      <td>5.886812e-08</td>\n",
       "      <td>55.460434</td>\n",
       "      <td>1.065917</td>\n",
       "      <td>114.578620</td>\n",
       "    </tr>\n",
       "    <tr>\n",
       "      <th>E002</th>\n",
       "      <td>102.534268</td>\n",
       "      <td>1483.654982</td>\n",
       "      <td>1.104716</td>\n",
       "      <td>-0.243785</td>\n",
       "      <td>-0.454262</td>\n",
       "      <td>-0.021002</td>\n",
       "      <td>0.202836</td>\n",
       "      <td>0.416423</td>\n",
       "      <td>0.608972</td>\n",
       "      <td>14</td>\n",
       "      <td>...</td>\n",
       "      <td>0.184370</td>\n",
       "      <td>0.144742</td>\n",
       "      <td>0.203008</td>\n",
       "      <td>-0.344364</td>\n",
       "      <td>6.142373</td>\n",
       "      <td>0.477743</td>\n",
       "      <td>3.643621e-06</td>\n",
       "      <td>50.640306</td>\n",
       "      <td>1.285666</td>\n",
       "      <td>124.651484</td>\n",
       "    </tr>\n",
       "    <tr>\n",
       "      <th>E003</th>\n",
       "      <td>119.890549</td>\n",
       "      <td>1254.897451</td>\n",
       "      <td>2.162773</td>\n",
       "      <td>-0.329006</td>\n",
       "      <td>-0.543405</td>\n",
       "      <td>-0.095913</td>\n",
       "      <td>0.142612</td>\n",
       "      <td>0.373002</td>\n",
       "      <td>0.582151</td>\n",
       "      <td>14</td>\n",
       "      <td>...</td>\n",
       "      <td>0.184036</td>\n",
       "      <td>0.144268</td>\n",
       "      <td>0.208163</td>\n",
       "      <td>-0.364611</td>\n",
       "      <td>26.783283</td>\n",
       "      <td>0.506435</td>\n",
       "      <td>1.590028e-04</td>\n",
       "      <td>50.832405</td>\n",
       "      <td>1.154859</td>\n",
       "      <td>57.018054</td>\n",
       "    </tr>\n",
       "    <tr>\n",
       "      <th>E004</th>\n",
       "      <td>162.830799</td>\n",
       "      <td>1302.043195</td>\n",
       "      <td>1.308283</td>\n",
       "      <td>-0.065152</td>\n",
       "      <td>-0.266498</td>\n",
       "      <td>0.138913</td>\n",
       "      <td>0.337187</td>\n",
       "      <td>0.521401</td>\n",
       "      <td>0.683873</td>\n",
       "      <td>16</td>\n",
       "      <td>...</td>\n",
       "      <td>0.187213</td>\n",
       "      <td>0.137326</td>\n",
       "      <td>0.193662</td>\n",
       "      <td>-0.355441</td>\n",
       "      <td>33.227591</td>\n",
       "      <td>0.460547</td>\n",
       "      <td>7.926165e-04</td>\n",
       "      <td>62.476545</td>\n",
       "      <td>1.025161</td>\n",
       "      <td>132.221218</td>\n",
       "    </tr>\n",
       "    <tr>\n",
       "      <th>E005</th>\n",
       "      <td>165.720956</td>\n",
       "      <td>1154.482314</td>\n",
       "      <td>1.566830</td>\n",
       "      <td>-0.304881</td>\n",
       "      <td>-0.518177</td>\n",
       "      <td>-0.074836</td>\n",
       "      <td>0.159321</td>\n",
       "      <td>0.384728</td>\n",
       "      <td>0.589003</td>\n",
       "      <td>14</td>\n",
       "      <td>...</td>\n",
       "      <td>0.183978</td>\n",
       "      <td>0.128546</td>\n",
       "      <td>0.192440</td>\n",
       "      <td>-0.357588</td>\n",
       "      <td>11.439470</td>\n",
       "      <td>0.497940</td>\n",
       "      <td>1.462831e-04</td>\n",
       "      <td>57.634438</td>\n",
       "      <td>1.043776</td>\n",
       "      <td>92.160269</td>\n",
       "    </tr>\n",
       "  </tbody>\n",
       "</table>\n",
       "<p>5 rows × 50 columns</p>\n",
       "</div>"
      ],
      "text/plain": [
       "              m1           m2        m3  s1__autocorrelation__lag_8  \\\n",
       "id                                                                    \n",
       "E001  150.223716  1176.177278  1.142097                   -0.305434   \n",
       "E002  102.534268  1483.654982  1.104716                   -0.243785   \n",
       "E003  119.890549  1254.897451  2.162773                   -0.329006   \n",
       "E004  162.830799  1302.043195  1.308283                   -0.065152   \n",
       "E005  165.720956  1154.482314  1.566830                   -0.304881   \n",
       "\n",
       "      s1__autocorrelation__lag_9  s1__autocorrelation__lag_7  \\\n",
       "id                                                             \n",
       "E001                   -0.519191                   -0.074829   \n",
       "E002                   -0.454262                   -0.021002   \n",
       "E003                   -0.543405                   -0.095913   \n",
       "E004                   -0.266498                    0.138913   \n",
       "E005                   -0.518177                   -0.074836   \n",
       "\n",
       "      s1__autocorrelation__lag_6  s1__autocorrelation__lag_5  \\\n",
       "id                                                             \n",
       "E001                    0.159896                    0.385790   \n",
       "E002                    0.202836                    0.416423   \n",
       "E003                    0.142612                    0.373002   \n",
       "E004                    0.337187                    0.521401   \n",
       "E005                    0.159321                    0.384728   \n",
       "\n",
       "      s1__autocorrelation__lag_4  s1__longest_strike_above_mean  ...  \\\n",
       "id                                                               ...   \n",
       "E001                    0.590387                             14  ...   \n",
       "E002                    0.608972                             14  ...   \n",
       "E003                    0.582151                             14  ...   \n",
       "E004                    0.683873                             16  ...   \n",
       "E005                    0.589003                             14  ...   \n",
       "\n",
       "      s1__ar_coefficient__coeff_3__k_10  s1__approximate_entropy__m_2__r_0.1  \\\n",
       "id                                                                             \n",
       "E001                           0.183996                             0.158567   \n",
       "E002                           0.184370                             0.144742   \n",
       "E003                           0.184036                             0.144268   \n",
       "E004                           0.187213                             0.137326   \n",
       "E005                           0.183978                             0.128546   \n",
       "\n",
       "      s1__lempel_ziv_complexity__bins_3  s1__partial_autocorrelation__lag_4  \\\n",
       "id                                                                            \n",
       "E001                           0.204152                           -0.360084   \n",
       "E002                           0.203008                           -0.344364   \n",
       "E003                           0.208163                           -0.364611   \n",
       "E004                           0.193662                           -0.355441   \n",
       "E005                           0.192440                           -0.357588   \n",
       "\n",
       "      s1__fft_coefficient__attr_\"abs\"__coeff_7  \\\n",
       "id                                               \n",
       "E001                                  0.293617   \n",
       "E002                                  6.142373   \n",
       "E003                                 26.783283   \n",
       "E004                                 33.227591   \n",
       "E005                                 11.439470   \n",
       "\n",
       "      s1__agg_autocorrelation__f_agg_\"var\"__maxlag_40  \\\n",
       "id                                                      \n",
       "E001                                         0.499488   \n",
       "E002                                         0.477743   \n",
       "E003                                         0.506435   \n",
       "E004                                         0.460547   \n",
       "E005                                         0.497940   \n",
       "\n",
       "      s1__spkt_welch_density__coeff_2         y1        y2          y3  \n",
       "id                                                                      \n",
       "E001                     5.886812e-08  55.460434  1.065917  114.578620  \n",
       "E002                     3.643621e-06  50.640306  1.285666  124.651484  \n",
       "E003                     1.590028e-04  50.832405  1.154859   57.018054  \n",
       "E004                     7.926165e-04  62.476545  1.025161  132.221218  \n",
       "E005                     1.462831e-04  57.634438  1.043776   92.160269  \n",
       "\n",
       "[5 rows x 50 columns]"
      ]
     },
     "execution_count": 4,
     "metadata": {},
     "output_type": "execute_result"
    }
   ],
   "source": [
    "df = pd.read_excel(\"../T01_prototype/output/S21__2025-04-21-052727.xlsx\")\n",
    "df = df.set_index(\"Unnamed: 0\")\n",
    "df.index.names = [\"id\"]\n",
    "df.head()"
   ]
  },
  {
   "cell_type": "code",
   "execution_count": 5,
   "id": "16816717",
   "metadata": {},
   "outputs": [],
   "source": [
    "colsY = [\"y1\", \"y2\", \"y3\"]\n",
    "# colsX = [c for c in df.columns if c not in colsY]\n",
    "colsX = [\"m1\", \"m2\", \"m3\"]\n",
    "\n",
    "dfX = df[colsX]\n",
    "dfY = df[colsY]"
   ]
  },
  {
   "cell_type": "code",
   "execution_count": 6,
   "id": "bf54dec5",
   "metadata": {},
   "outputs": [],
   "source": [
    "dfData = loadPickle(\"../T01_prototype/output/S11__2025-04-21-052441.pickle\")"
   ]
  },
  {
   "cell_type": "code",
   "execution_count": 7,
   "id": "1c4cb3de",
   "metadata": {},
   "outputs": [],
   "source": [
    "dfData\n",
    "tsArr = [t[1] for t in dfData[\"ts\"].values]"
   ]
  },
  {
   "cell_type": "code",
   "execution_count": 8,
   "id": "22f736da",
   "metadata": {},
   "outputs": [
    {
     "name": "stdout",
     "output_type": "stream",
     "text": [
      "298\n"
     ]
    }
   ],
   "source": [
    "# Max length\n",
    "maxTime = 0\n",
    "for ts in tsArr:\n",
    "    maxTime = len(ts) if maxTime < len(ts) else maxTime\n",
    "\n",
    "print(maxTime)"
   ]
  },
  {
   "cell_type": "code",
   "execution_count": 9,
   "id": "6ef870d8",
   "metadata": {},
   "outputs": [
    {
     "name": "stdout",
     "output_type": "stream",
     "text": [
      "(100, 20, 2)\n"
     ]
    },
    {
     "data": {
      "image/png": "[encoded data removed]",
      "text/plain": [
       "<Figure size 640x480 with 1 Axes>"
      ]
     },
     "metadata": {},
     "output_type": "display_data"
    }
   ],
   "source": [
    "# Scaling and Padding\n",
    "# TODO: Needs to only calculate mean, std, min, max from training example.\n",
    "\n",
    "SCALING_TYPE = \"Min_Max\"\n",
    "# SCALING_TYPE = \"STANDARDIZATION\"\n",
    "\n",
    "tsArrConcat = np.concatenate(tsArr)\n",
    "if SCALING_TYPE == \"STANDARDIZATION\":\n",
    "    meanVal = np.mean(tsArrConcat)\n",
    "    stdVal = np.std(tsArrConcat)\n",
    "elif SCALING_TYPE == \"Min_Max\":\n",
    "    maxVal = np.max(tsArrConcat)\n",
    "    minVal = np.min(tsArrConcat)\n",
    "\n",
    "# Shape = (Batch, Time, Features)\n",
    "TsData_std = np.zeros((dfData.shape[0], maxTime, 2))\n",
    "for idx, ts in enumerate(tsArr):\n",
    "    if SCALING_TYPE == \"STANDARDIZATION\":\n",
    "        ts_std = (ts - meanVal) / stdVal\n",
    "    elif SCALING_TYPE == \"Min_Max\":\n",
    "        ts_std = (ts - minVal) / (maxVal - minVal)\n",
    "\n",
    "    TsData_std[idx, : len(ts), 0] = ts_std  # Scaling\n",
    "    TsData_std[idx, len(ts) :, 0] = 0  # Padding\n",
    "\n",
    "    # Add time index (scaled)\n",
    "    TsData_std[idx, :, 1] = np.arange(maxTime) / maxTime  # Time index\n",
    "plt.plot(TsData_std[0, :, 0])\n",
    "plt.plot(TsData_std[0, :, 1])\n",
    "\n",
    "# TRUNCATION\n",
    "TsData_std = TsData_std[:, :20, :]\n",
    "\n",
    "print(TsData_std.shape)"
   ]
  },
  {
   "cell_type": "code",
   "execution_count": 10,
   "id": "7c7f7032",
   "metadata": {},
   "outputs": [],
   "source": [
    "# Find the ending time for each time series\n",
    "et_arr = [float(t[0][-1]) for t in dfData[\"ts\"].values]\n",
    "num_output = dfY.shape[1]\n",
    "tsEndTimes = np.zeros((dfData.shape[0], dfY.shape[1], 1))\n",
    "for idx, et in enumerate(et_arr):\n",
    "    for t in range(num_output):\n",
    "        tsEndTimes[idx, t, 0] = (et + t) / maxTime"
   ]
  },
  {
   "cell_type": "code",
   "execution_count": 11,
   "id": "c7b3dd62",
   "metadata": {},
   "outputs": [
    {
     "name": "stdout",
     "output_type": "stream",
     "text": [
      "[60 80 90 68 51 27 18 56 63 74  1 61 42 41  4 15 17 40 38  5 91 59  0 34\n",
      " 28 50 11 35 23 52 10 31 66 57 79 85 32 84 14 89 19 29 49 97 98 69 20 94\n",
      " 72 77 25 37 81 46 39 65 58 12 88 70 87 36 21 83  9 96 67 64 47 44]\n",
      "[26 86  2 55 75 93 16 73 54 95 53 92 78 13  7 30 22 24 33  8 43 62  3 71\n",
      " 45 48  6 99 82 76]\n"
     ]
    }
   ],
   "source": [
    "from sklearn.model_selection import ShuffleSplit\n",
    "\n",
    "cv = ShuffleSplit(random_state=0, test_size=0.30)\n",
    "idxs = np.arange(df.shape[0])\n",
    "idxTrain, idxTest = next(cv.split(X=idxs))\n",
    "print(idxTrain)\n",
    "print(idxTest)"
   ]
  },
  {
   "cell_type": "code",
   "execution_count": 12,
   "id": "6110546c",
   "metadata": {},
   "outputs": [],
   "source": [
    "dfX_train = dfX.iloc[idxTrain, :]\n",
    "dfX_test = dfX.iloc[idxTest, :]\n",
    "dfY_train = dfY.iloc[idxTrain, :]\n",
    "dfY_test = dfY.iloc[idxTest, :]\n",
    "Ts_train_std = TsData_std[idxTrain, :]\n",
    "Ts_test_std = TsData_std[idxTest, :]\n",
    "Fu_train_std = tsEndTimes[idxTrain, :]\n",
    "Fu_test_std = tsEndTimes[idxTest, :]"
   ]
  },
  {
   "cell_type": "code",
   "execution_count": 13,
   "id": "5d0b7279",
   "metadata": {},
   "outputs": [],
   "source": [
    "scX = MinMaxScaler()\n",
    "X_train_std = scX.fit_transform(dfX_train)\n",
    "X_test_std = scX.transform(dfX_test)\n",
    "\n",
    "scY = MinMaxScaler()\n",
    "Y_train_std = scY.fit_transform(dfY_train)\n",
    "Y_test_std = scY.transform(dfY_test)"
   ]
  },
  {
   "cell_type": "code",
   "execution_count": 14,
   "id": "6bb6bfea",
   "metadata": {},
   "outputs": [],
   "source": [
    "# Convert to 2D PyTorch tensors\n",
    "X_train_std = torch.tensor(X_train_std, dtype=torch.float32)\n",
    "Y_train_std = torch.tensor(Y_train_std, dtype=torch.float32)\n",
    "X_test_std = torch.tensor(X_test_std, dtype=torch.float32)\n",
    "Y_test_std = torch.tensor(Y_test_std, dtype=torch.float32)\n",
    "Ts_train_std = torch.tensor(Ts_train_std, dtype=torch.float32)\n",
    "Ts_test_std = torch.tensor(Ts_test_std, dtype=torch.float32)\n",
    "Fu_train_std = torch.tensor(Fu_train_std, dtype=torch.float32)\n",
    "Fu_test_std = torch.tensor(Fu_test_std, dtype=torch.float32)"
   ]
  },
  {
   "cell_type": "code",
   "execution_count": 15,
   "id": "523f3635",
   "metadata": {},
   "outputs": [],
   "source": [
    "tab_num_features = dfX.shape[1]\n",
    "ts_embedding_size = 8\n",
    "ts_num_features = Ts_train_std.shape[-1]\n",
    "lstm_num_layers = 2\n",
    "lstm_dropout = 0.5\n",
    "attn_n_head = 1\n",
    "num_output = Y_test_std.shape[1]\n",
    "\n",
    "# Initialize model\n",
    "model = MyModel(\n",
    "    tab_num_features=tab_num_features,\n",
    "    ts_embedding_size=ts_embedding_size,\n",
    "    ts_num_features=ts_num_features,\n",
    "    lstm_num_layers=lstm_num_layers,\n",
    "    num_output=num_output,\n",
    ")"
   ]
  },
  {
   "cell_type": "code",
   "execution_count": 16,
   "id": "dc7c8a63",
   "metadata": {},
   "outputs": [],
   "source": [
    "# loss function and optimizer\n",
    "loss_fn = nn.MSELoss()  # mean square error\n",
    "optimizer = optim.Adam(model.parameters(), lr=0.001)"
   ]
  },
  {
   "cell_type": "code",
   "execution_count": 17,
   "id": "b3c38ea7",
   "metadata": {},
   "outputs": [
    {
     "name": "stdout",
     "output_type": "stream",
     "text": [
      "0 0.14311112463474274\n",
      "1 0.09135524183511734\n",
      "2 0.07331623136997223\n",
      "3 0.05123504623770714\n",
      "4 0.05321751534938812\n",
      "5 0.05129912868142128\n",
      "6 0.05042135342955589\n",
      "7 0.0503736212849617\n",
      "8 0.050119347870349884\n",
      "9 0.04978509992361069\n",
      "10 0.049682993441820145\n",
      "11 0.049581047147512436\n",
      "12 0.04951924830675125\n",
      "13 0.04953889921307564\n",
      "14 0.04954131320118904\n",
      "15 0.04954519122838974\n",
      "16 0.04953833296895027\n",
      "17 0.04953130707144737\n",
      "18 0.049513667821884155\n",
      "19 0.04949909821152687\n",
      "20 0.04949512332677841\n",
      "21 0.04949375241994858\n",
      "22 0.049473199993371964\n",
      "23 0.049456845968961716\n",
      "24 0.04944903030991554\n",
      "25 0.049424197524785995\n",
      "26 0.04940040782094002\n",
      "27 0.04936790093779564\n",
      "28 0.049332354217767715\n",
      "29 0.04928753152489662\n",
      "30 0.049208901822566986\n",
      "31 0.04909443482756615\n",
      "32 0.048943229019641876\n",
      "33 0.04860178753733635\n",
      "34 0.04800793156027794\n",
      "35 0.046797096729278564\n",
      "36 0.0449739545583725\n",
      "37 0.043209467083215714\n",
      "38 0.042631134390830994\n",
      "39 0.04282854497432709\n",
      "40 0.04329274594783783\n",
      "41 0.04460952430963516\n",
      "42 0.045591872185468674\n",
      "43 0.0458112508058548\n",
      "44 0.04616482928395271\n",
      "45 0.04708799347281456\n",
      "46 0.04634567350149155\n",
      "47 0.04645654931664467\n",
      "48 0.04682101681828499\n",
      "49 0.04898057132959366\n",
      "50 0.04783986508846283\n",
      "51 0.046490225940942764\n",
      "52 0.046534791588783264\n",
      "53 0.047912947833538055\n",
      "54 0.04718901962041855\n",
      "55 0.04624084755778313\n",
      "56 0.0463336780667305\n",
      "57 0.04647254943847656\n",
      "58 0.04683069512248039\n",
      "59 0.04620116576552391\n",
      "60 0.04588967561721802\n",
      "61 0.04579797759652138\n",
      "62 0.04610051214694977\n",
      "63 0.04581107944250107\n",
      "64 0.04520368203520775\n",
      "65 0.04500817880034447\n",
      "66 0.0443887934088707\n",
      "67 0.04494265466928482\n",
      "68 0.045957051217556\n",
      "69 0.044558536261320114\n",
      "70 0.043345898389816284\n",
      "71 0.044136740267276764\n",
      "72 0.0454632006585598\n",
      "73 0.044873952865600586\n",
      "74 0.04363461211323738\n",
      "75 0.04414428770542145\n",
      "76 0.045352354645729065\n",
      "77 0.04547416418790817\n",
      "78 0.04478558525443077\n",
      "79 0.04318012297153473\n",
      "80 0.044048573821783066\n",
      "81 0.04505980759859085\n",
      "82 0.04531161114573479\n",
      "83 0.04326985031366348\n",
      "84 0.04326308146119118\n",
      "85 0.0439891517162323\n",
      "86 0.04467904940247536\n",
      "87 0.04343956708908081\n",
      "88 0.04335486516356468\n",
      "89 0.0427960641682148\n",
      "90 0.04321027174592018\n",
      "91 0.043159618973731995\n",
      "92 0.04222742095589638\n",
      "93 0.042891327291727066\n",
      "94 0.04303691163659096\n",
      "95 0.043137431144714355\n",
      "96 0.042652733623981476\n",
      "97 0.04380934312939644\n",
      "98 0.04421365633606911\n",
      "99 0.04350363463163376\n",
      "100 0.04374419152736664\n",
      "101 0.04227229580283165\n",
      "102 0.04294285923242569\n",
      "103 0.042889129370450974\n",
      "104 0.04582171514630318\n",
      "105 0.04609697312116623\n",
      "106 0.044367894530296326\n",
      "107 0.04368937388062477\n",
      "108 0.044346000999212265\n",
      "109 0.04396994784474373\n",
      "110 0.04405679553747177\n",
      "111 0.044241148978471756\n",
      "112 0.04487721249461174\n",
      "113 0.04562788084149361\n",
      "114 0.04749011620879173\n",
      "115 0.04867075756192207\n",
      "116 0.043305035680532455\n",
      "117 0.0457678884267807\n",
      "118 0.04891475662589073\n",
      "119 0.046898894011974335\n",
      "120 0.048034604638814926\n",
      "121 0.050742026418447495\n",
      "122 0.0506897009909153\n",
      "123 0.04492759704589844\n",
      "124 0.045089468359947205\n",
      "125 0.04884696379303932\n",
      "126 0.05124837905168533\n",
      "127 0.05273646116256714\n",
      "128 0.05175549164414406\n",
      "129 0.0519283302128315\n",
      "130 0.04755348712205887\n",
      "131 0.05204134061932564\n",
      "132 0.04788929969072342\n",
      "133 0.05097729712724686\n",
      "134 0.051879577338695526\n",
      "135 0.04985198378562927\n",
      "136 0.04992864280939102\n",
      "137 0.05368634685873985\n",
      "138 0.05765213444828987\n",
      "139 0.059272024780511856\n",
      "140 0.05048021674156189\n",
      "141 0.0435769148170948\n",
      "142 0.05423527956008911\n",
      "143 0.048105526715517044\n",
      "144 0.047525227069854736\n",
      "145 0.047053754329681396\n",
      "146 0.05377110838890076\n",
      "147 0.05286998674273491\n",
      "148 0.05345354601740837\n",
      "149 0.05420447885990143\n",
      "150 0.05287359654903412\n",
      "151 0.0537889339029789\n",
      "152 0.05542170628905296\n",
      "153 0.05747436359524727\n",
      "154 0.05873902142047882\n",
      "155 0.05332232639193535\n",
      "156 0.05901281535625458\n",
      "157 0.049668487161397934\n",
      "158 0.05626995116472244\n",
      "159 0.05302407965064049\n",
      "160 0.053372811526060104\n",
      "161 0.05333811417222023\n",
      "162 0.052696190774440765\n",
      "163 0.05549830198287964\n",
      "164 0.05286526307463646\n",
      "165 0.05583559721708298\n",
      "166 0.05229512229561806\n",
      "167 0.05345229059457779\n",
      "168 0.05205250158905983\n",
      "169 0.05107203498482704\n",
      "170 0.05224311724305153\n",
      "171 0.05608389526605606\n",
      "172 0.05495008826255798\n",
      "173 0.05196637660264969\n",
      "174 0.055840156972408295\n",
      "175 0.05781811475753784\n",
      "176 0.055407121777534485\n",
      "177 0.053056299686431885\n",
      "178 0.05841248482465744\n",
      "179 0.05730997025966644\n",
      "180 0.05461588874459267\n",
      "181 0.05682490020990372\n",
      "182 0.0589192770421505\n",
      "183 0.05450419336557388\n",
      "184 0.05549311637878418\n",
      "185 0.05742202326655388\n",
      "186 0.05671440809965134\n",
      "187 0.05852881073951721\n",
      "188 0.0586712472140789\n",
      "189 0.057462118566036224\n",
      "190 0.05567596107721329\n",
      "191 0.05762425437569618\n",
      "192 0.06046748161315918\n",
      "193 0.06018233299255371\n",
      "194 0.06095924228429794\n",
      "195 0.05393223091959953\n",
      "196 0.057050857692956924\n",
      "197 0.061671458184719086\n",
      "198 0.06079922616481781\n",
      "199 0.05727988854050636\n",
      "MSE: 0.04\n",
      "RMSE: 0.21\n"
     ]
    },
    {
     "data": {
      "image/png": "[encoded data removed]",
      "text/plain": [
       "<Figure size 640x480 with 1 Axes>"
      ]
     },
     "metadata": {},
     "output_type": "display_data"
    }
   ],
   "source": [
    "n_epochs = 200\n",
    "# number of epochs to run\n",
    "batch_size = 5  # size of each batch\n",
    "batch_start = torch.arange(0, len(X_train_std), batch_size)\n",
    "\n",
    "# Hold the best model\n",
    "best_mse = np.inf  # init to infinity\n",
    "best_weights = None\n",
    "history = []\n",
    "\n",
    "for epoch in range(n_epochs):\n",
    "    model.train()\n",
    "    with tqdm.tqdm(batch_start, unit=\"batch\", mininterval=0, disable=True) as bar:\n",
    "        bar.set_description(f\"Epoch {epoch}\")\n",
    "        for start in bar:\n",
    "            # take a batch\n",
    "            x_tab_batch = X_train_std[start : start + batch_size]\n",
    "            x_ts_batch = Ts_train_std[start : start + batch_size]\n",
    "            y_batch = Y_train_std[start : start + batch_size]\n",
    "            x_future = Fu_train_std[start : start + batch_size]\n",
    "            # forward pass\n",
    "            y_pred, _ = model(\n",
    "                x_tab=x_tab_batch,\n",
    "                x_ts=x_ts_batch,\n",
    "                x_future=x_future,\n",
    "            )\n",
    "            loss = loss_fn(y_pred, y_batch)\n",
    "            # backward pass\n",
    "            optimizer.zero_grad()\n",
    "            loss.backward()\n",
    "            # update weights\n",
    "            optimizer.step()\n",
    "            # print progress\n",
    "            bar.set_postfix(mse=float(loss))\n",
    "    # evaluate accuracy at end of each epoch\n",
    "    model.eval()\n",
    "    y_pred, _ = model(x_ts=Ts_test_std, x_tab=X_test_std, x_future=Fu_test_std)\n",
    "    mse = loss_fn(y_pred, Y_test_std)\n",
    "    mse = float(mse)\n",
    "    history.append(mse)\n",
    "    if mse < best_mse:\n",
    "        best_mse = mse\n",
    "        best_weights = copy.deepcopy(model.state_dict())\n",
    "\n",
    "    print(epoch, mse)\n",
    "# restore model and return best accuracy\n",
    "model.load_state_dict(best_weights)\n",
    "print(\"MSE: %.2f\" % best_mse)\n",
    "print(\"RMSE: %.2f\" % np.sqrt(best_mse))\n",
    "plt.plot(history)\n",
    "plt.show()"
   ]
  },
  {
   "cell_type": "code",
   "execution_count": 18,
   "id": "c0f05686",
   "metadata": {},
   "outputs": [],
   "source": [
    "model.eval()\n",
    "Y_train_pred, attn_train = model(\n",
    "    x_ts=Ts_train_std,\n",
    "    x_tab=X_train_std,\n",
    "    x_future=Fu_train_std,\n",
    ")\n",
    "Y_test_pred, attn_test = model(\n",
    "    x_ts=Ts_test_std,\n",
    "    x_tab=X_test_std,\n",
    "    x_future=Fu_test_std,\n",
    ")"
   ]
  },
  {
   "cell_type": "code",
   "execution_count": 19,
   "id": "ac3f168a",
   "metadata": {},
   "outputs": [],
   "source": [
    "Y_train_pred = Y_train_pred.detach().numpy()\n",
    "Y_test_pred = Y_test_pred.detach().numpy()"
   ]
  },
  {
   "cell_type": "code",
   "execution_count": 20,
   "id": "60453032",
   "metadata": {},
   "outputs": [],
   "source": [
    "if not isinstance(Y_train_std, np.ndarray):\n",
    "    Y_train_std = Y_train_std.detach().numpy()\n",
    "    Y_test_std = Y_test_std.detach().numpy()\n"
   ]
  },
  {
   "cell_type": "code",
   "execution_count": 21,
   "id": "df7a80c3",
   "metadata": {},
   "outputs": [
    {
     "data": {
      "application/vnd.microsoft.datawrangler.viewer.v0+json": {
       "columns": [
        {
         "name": "index",
         "rawType": "int64",
         "type": "integer"
        },
        {
         "name": "MSE Train",
         "rawType": "float64",
         "type": "float"
        },
        {
         "name": "MSE Test",
         "rawType": "float64",
         "type": "float"
        },
        {
         "name": "R2 Train",
         "rawType": "float64",
         "type": "float"
        },
        {
         "name": "R2 Test",
         "rawType": "float64",
         "type": "float"
        }
       ],
       "ref": "e9bc780b-044f-49df-aa42-2d1a411fd4f4",
       "rows": [
        [
         "0",
         "0.03731532767415047",
         "0.0479145273566246",
         "0.1673392653465271",
         "0.10597920417785645"
        ],
        [
         "1",
         "0.024059388786554337",
         "0.03502735123038292",
         "0.373527467250824",
         "-0.13297760486602783"
        ],
        [
         "2",
         "0.02628953754901886",
         "0.04374038428068161",
         "0.5528676509857178",
         "0.1654396653175354"
        ]
       ],
       "shape": {
        "columns": 4,
        "rows": 3
       }
      },
      "text/html": [
       "<div>\n",
       "<style scoped>\n",
       "    .dataframe tbody tr th:only-of-type {\n",
       "        vertical-align: middle;\n",
       "    }\n",
       "\n",
       "    .dataframe tbody tr th {\n",
       "        vertical-align: top;\n",
       "    }\n",
       "\n",
       "    .dataframe thead th {\n",
       "        text-align: right;\n",
       "    }\n",
       "</style>\n",
       "<table border=\"1\" class=\"dataframe\">\n",
       "  <thead>\n",
       "    <tr style=\"text-align: right;\">\n",
       "      <th></th>\n",
       "      <th>MSE Train</th>\n",
       "      <th>MSE Test</th>\n",
       "      <th>R2 Train</th>\n",
       "      <th>R2 Test</th>\n",
       "    </tr>\n",
       "  </thead>\n",
       "  <tbody>\n",
       "    <tr>\n",
       "      <th>0</th>\n",
       "      <td>0.037315</td>\n",
       "      <td>0.047915</td>\n",
       "      <td>0.167339</td>\n",
       "      <td>0.105979</td>\n",
       "    </tr>\n",
       "    <tr>\n",
       "      <th>1</th>\n",
       "      <td>0.024059</td>\n",
       "      <td>0.035027</td>\n",
       "      <td>0.373527</td>\n",
       "      <td>-0.132978</td>\n",
       "    </tr>\n",
       "    <tr>\n",
       "      <th>2</th>\n",
       "      <td>0.026290</td>\n",
       "      <td>0.043740</td>\n",
       "      <td>0.552868</td>\n",
       "      <td>0.165440</td>\n",
       "    </tr>\n",
       "  </tbody>\n",
       "</table>\n",
       "</div>"
      ],
      "text/plain": [
       "   MSE Train  MSE Test  R2 Train   R2 Test\n",
       "0   0.037315  0.047915  0.167339  0.105979\n",
       "1   0.024059  0.035027  0.373527 -0.132978\n",
       "2   0.026290  0.043740  0.552868  0.165440"
      ]
     },
     "execution_count": 21,
     "metadata": {},
     "output_type": "execute_result"
    },
    {
     "data": {
      "image/png": "[encoded data removed]",
      "text/plain": [
       "<Figure size 900x300 with 2 Axes>"
      ]
     },
     "metadata": {},
     "output_type": "display_data"
    },
    {
     "data": {
      "image/png": "[encoded data removed]",
      "text/plain": [
       "<Figure size 900x300 with 2 Axes>"
      ]
     },
     "metadata": {},
     "output_type": "display_data"
    },
    {
     "data": {
      "image/png": "[encoded data removed]",
      "text/plain": [
       "<Figure size 900x300 with 2 Axes>"
      ]
     },
     "metadata": {},
     "output_type": "display_data"
    }
   ],
   "source": [
    "resArr = []\n",
    "for i in range(dfY.shape[1]):\n",
    "    y_train = Y_train_std[:, i]\n",
    "    y_test = Y_test_std[:, i]\n",
    "    y_train_pred = Y_train_pred[:, i]\n",
    "    y_test_pred = Y_test_pred[:, i]\n",
    "    plot_res(y_train, y_test, y_train_pred, y_test_pred, xlim=[-0.1, 1.1])\n",
    "    res = store_results(y_train, y_test, y_train_pred, y_test_pred)\n",
    "    resArr.append(res)\n",
    "\n",
    "dfRes = pd.DataFrame.from_dict(resArr)\n",
    "dfRes"
   ]
  },
  {
   "cell_type": "code",
   "execution_count": 22,
   "id": "7a829aab",
   "metadata": {},
   "outputs": [
    {
     "name": "stdout",
     "output_type": "stream",
     "text": [
      "(70, 3)\n"
     ]
    }
   ],
   "source": [
    "att = attn_train.detach().numpy()\n",
    "print(att.shape)"
   ]
  }
 ],
 "metadata": {
  "kernelspec": {
   "display_name": ".venv",
   "language": "python",
   "name": "python3"
  },
  "language_info": {
   "codemirror_mode": {
    "name": "ipython",
    "version": 3
   },
   "file_extension": ".py",
   "mimetype": "text/x-python",
   "name": "python",
   "nbconvert_exporter": "python",
   "pygments_lexer": "ipython3",
   "version": "3.12.10"
  }
 },
 "nbformat": 4,
 "nbformat_minor": 5
}
